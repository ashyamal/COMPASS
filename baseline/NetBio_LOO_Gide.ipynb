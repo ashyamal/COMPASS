{
 "cells": [
  {
   "cell_type": "code",
   "execution_count": 8,
   "id": "cd506061-6ed2-4ad3-8805-c0aadbfe3eac",
   "metadata": {},
   "outputs": [],
   "source": [
    "import os\n",
    "from tqdm import tqdm\n",
    "from itertools import chain\n",
    "import pandas as pd\n",
    "import numpy as np\n",
    "import random, torch\n",
    "import matplotlib.pyplot as plt\n",
    "import seaborn as sns\n",
    "sns.set(style = 'white', font_scale=1.3)\n",
    "import warnings\n",
    "warnings.filterwarnings(\"ignore\")\n",
    "\n",
    "\n",
    "\n",
    "from collections import defaultdict\n",
    "\n",
    "import scipy.stats as stat\n",
    "from statsmodels.stats.multitest import multipletests\n",
    "import time, os, math, random\n",
    "\n",
    "from sklearn.model_selection import cross_val_score, KFold, train_test_split, GridSearchCV, LeaveOneOut\n",
    "from sklearn.preprocessing import StandardScaler\n",
    "from sklearn.linear_model import LogisticRegression\n",
    "\n",
    "\n",
    "def onehot(S):\n",
    "    assert type(S) == pd.Series, 'Input type should be pd.Series'\n",
    "    dfd = pd.get_dummies(S, dummy_na=True)\n",
    "    nanidx = dfd[dfd[np.nan].astype(bool)].index\n",
    "    dfd.loc[nanidx, :] = np.nan\n",
    "    dfd = dfd.drop(columns=[np.nan])*1.\n",
    "    cols = dfd.sum().sort_values(ascending=False).index.tolist()\n",
    "    dfd = dfd[cols]\n",
    "    return dfd\n",
    "\n",
    "\n",
    "loo = LeaveOneOut()"
   ]
  },
  {
   "cell_type": "code",
   "execution_count": 9,
   "id": "24e538a2-22be-432d-9a0c-e7a5edc303fa",
   "metadata": {},
   "outputs": [],
   "source": [
    "from immnue_score import immnue_score_methods"
   ]
  },
  {
   "cell_type": "code",
   "execution_count": 10,
   "id": "ffe3ac87-ac5c-4b99-9e59-5f8e30b2d3aa",
   "metadata": {},
   "outputs": [],
   "source": [
    "import sys\n",
    "sys.path.insert(0, '/home/was966/Research/mims-conceptor/')\n",
    "from conceptor.utils import plot_embed_with_label,plot_performance, score"
   ]
  },
  {
   "cell_type": "code",
   "execution_count": 11,
   "id": "311b08af-202d-4e21-af7d-cb4fa40b65ea",
   "metadata": {},
   "outputs": [
    {
     "data": {
      "text/plain": [
       "((1140, 15672), (1140, 112))"
      ]
     },
     "execution_count": 11,
     "metadata": {},
     "output_type": "execute_result"
    }
   ],
   "source": [
    "data_path = '../paper/00_data/'\n",
    "df_label = pd.read_pickle(os.path.join(data_path, 'ITRP.PATIENT.TABLE'))\n",
    "df_tpm = pd.read_pickle(os.path.join(data_path, 'ITRP.TPM.TABLE'))\n",
    "df_tpm.shape, df_label.shape"
   ]
  },
  {
   "cell_type": "code",
   "execution_count": 12,
   "id": "aa0b62fc-5f5c-4e04-935b-29f1828dcc7a",
   "metadata": {},
   "outputs": [],
   "source": [
    "df_task = onehot(df_label.response_label)\n",
    "size = df_label.groupby('cohort').size()\n",
    "size = size.index + \"\\n(n = \" + size.astype(str) + \")\"\n",
    "cohorts = df_label.groupby('cohort').size().sort_values().index.tolist()\n",
    "cohorts = ['Gide']"
   ]
  },
  {
   "cell_type": "code",
   "execution_count": 13,
   "id": "0d81010c-c6f9-4e9c-b58c-59e024a17de9",
   "metadata": {},
   "outputs": [],
   "source": [
    "## for TIDE input\n",
    "cohort_cancer_map = {'Allen': 'SKCM','Choueiri': 'KIRC', 'Gide': 'SKCM', 'Hugo': 'SKCM',\n",
    "                     'IMVigor210': 'BLCA', 'IMmotion150': 'KIRC', 'Kim': 'STAD',\n",
    "                     'Liu': 'SKCM', 'MGH': 'SKCM', 'Miao': 'KIRC', 'Riaz': 'SKCM', \n",
    "                     'Rose': 'BLCA', 'SU2CLC1': 'LUAD', 'SU2CLC2': 'LUSC',\n",
    "                     'Snyder': 'BLCA', 'Zhao': 'GBM'}\n",
    "\n",
    "## for NetBio input\n",
    "cohort_target_map = {'Allen': 'CTLA4','Choueiri': 'PD1', 'Gide': 'PD1_CTLA4',\n",
    "                     'Hugo': 'PD1', 'IMVigor210': 'PDL1', 'IMmotion150': 'PDL1',\n",
    "                     'Kim': 'PD1', 'Liu': 'PD1', 'MGH':  'PD1_CTLA4',\n",
    "                     'Miao': 'PD1_PDL1_CTLA4', 'Riaz': 'PD1', 'Rose': 'PD1_PDL1_CTLA4',\n",
    "                     'SU2CLC1': 'PD1_PDL1_CTLA4', 'SU2CLC2': 'PD1_PDL1_CTLA4',\n",
    "                     'Snyder': 'PDL1', 'Zhao': 'PD1'}"
   ]
  },
  {
   "cell_type": "code",
   "execution_count": null,
   "id": "ba22bc85-2ead-44d4-80bb-5715ec003e91",
   "metadata": {
    "scrolled": true
   },
   "outputs": [
    {
     "name": "stderr",
     "output_type": "stream",
     "text": [
      "  5%|5         | 4/73 [00:11<02:22,  2.06s/it]"
     ]
    }
   ],
   "source": [
    "mode = 'NetBio'\n",
    "\n",
    "work_dir = './experiment_results/LOO_%s_test' % (mode)\n",
    "if not os.path.exists(work_dir):\n",
    "    os.makedirs(work_dir)\n",
    "\n",
    "res = []\n",
    "for cohort in cohorts:\n",
    "    \n",
    "    ## Get data for this cohort\n",
    "    cohort_idx = df_label[df_label['cohort'] == cohort].index\n",
    "    cohort_X = df_tpm.loc[cohort_idx]\n",
    "    cohort_y = df_task.loc[cohort_idx]\n",
    "    \n",
    "    ## Get features for specific method\n",
    "    cohort_target = cohort_target_map[cohort]\n",
    "    cohort_cancer_type = cohort_cancer_map[cohort]\n",
    "    Extractor = immnue_score_methods[mode]\n",
    "    E = Extractor(cancer_type=cohort_cancer_type, drug_target=cohort_target)\n",
    "    cohort_dfx = E(cohort_X)\n",
    "    cohort_dfy = cohort_y['R']\n",
    "    \n",
    "\n",
    "    ## Leave-out-out validation\n",
    "    predict_res = []\n",
    "    for train_idx, test_idx in tqdm(list(loo.split(cohort_idx)), ascii=True):\n",
    "        \n",
    "        train_X = cohort_dfx.iloc[train_idx]\n",
    "        train_y = cohort_dfy.iloc[train_idx]\n",
    "        test_X = cohort_dfx.iloc[test_idx]    \n",
    "        test_y = cohort_dfy.iloc[test_idx]\n",
    "    \n",
    "        ## Z-score scale fitting on the training set, and transform on test data\n",
    "        data_scaler = StandardScaler()\n",
    "        train_X = data_scaler.fit_transform(train_X)\n",
    "        test_X = data_scaler.transform(test_X)\n",
    "    \n",
    "        param_grid = {'penalty':['l2'], 'max_iter':[int(1e10)], 'solver':['lbfgs'],\n",
    "                      'C':np.arange(0.1, 1, 0.1), 'class_weight':['balanced'] }\n",
    "        model = LogisticRegression()\n",
    "        \n",
    "        gcv = GridSearchCV(model, param_grid=param_grid, scoring='roc_auc', cv=5, n_jobs=-1).fit(train_X, train_y)\n",
    "        best_C = gcv.best_params_['C']\n",
    "        \n",
    "        pred_prob = gcv.best_estimator_.predict_proba(test_X)\n",
    "    \n",
    "        pred_testy = pd.DataFrame(pred_prob)\n",
    "        pred_testy['best_C'] = best_C\n",
    "        pred_testy['cohort'] = cohort    \n",
    "        pred_testy['mode'] = mode\n",
    "        predict_res.append(pred_testy)\n",
    "\n",
    "    df_pred = pd.concat(predict_res)\n",
    "    df_pred.index = cohort_y.index\n",
    "    \n",
    "    dfp = cohort_y.join(df_pred)\n",
    "    dfp.to_csv(os.path.join(work_dir, '%s.csv' % cohort ))\n",
    "    \n",
    "    y_true, y_prob, y_pred = dfp['R'], dfp[1], dfp[[0, 1]].idxmax(axis=1)\n",
    "    s2 = score(y_true, y_prob, y_pred)\n",
    "    dfs = pd.DataFrame([s2], columns = ['ROC', 'PRC', 'F1', 'ACC'], index = ['Test'])\n",
    "    dfs['cohort'] = cohort\n",
    "    dfs['mode'] = mode\n",
    "    dfs['seed'] = np.nan\n",
    "    \n",
    "    fig = plot_performance(y_true, y_prob, y_pred)\n",
    "    fig.suptitle('Leave-One-Out in %s' % cohort, fontsize=16)\n",
    "    fig.savefig(os.path.join(work_dir, 'leave_one_out_%s.jpg' % cohort))\n",
    "\n",
    "    res.append(dfs)\n",
    "\n",
    "dfres = pd.concat(res) #.reset_index(drop=True)\n",
    "dfres.to_csv(os.path.join(work_dir, 'performance.tsv'), sep='\\t')"
   ]
  },
  {
   "cell_type": "code",
   "execution_count": null,
   "id": "40fe7734-3124-49c6-8edc-9accf33a6067",
   "metadata": {},
   "outputs": [],
   "source": []
  },
  {
   "cell_type": "code",
   "execution_count": null,
   "id": "a3b0dcef-821f-4e30-8b43-54b8d7a6d307",
   "metadata": {},
   "outputs": [],
   "source": []
  },
  {
   "cell_type": "code",
   "execution_count": null,
   "id": "32d331b1-f747-4653-95cf-9ea84c6b0955",
   "metadata": {},
   "outputs": [],
   "source": []
  }
 ],
 "metadata": {
  "kernelspec": {
   "display_name": "Python 3 (ipykernel)",
   "language": "python",
   "name": "python3"
  },
  "language_info": {
   "codemirror_mode": {
    "name": "ipython",
    "version": 3
   },
   "file_extension": ".py",
   "mimetype": "text/x-python",
   "name": "python",
   "nbconvert_exporter": "python",
   "pygments_lexer": "ipython3",
   "version": "3.8.18"
  }
 },
 "nbformat": 4,
 "nbformat_minor": 5
}
