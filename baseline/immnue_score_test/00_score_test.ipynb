{
 "cells": [
  {
   "cell_type": "code",
   "execution_count": 1,
   "id": "2d3c5163-4185-4454-b184-b64449b4b56c",
   "metadata": {},
   "outputs": [],
   "source": [
    "import numpy as np\n",
    "import pandas as pd\n",
    "import os\n",
    "\n",
    "import matplotlib.pyplot as plt\n",
    "\n",
    "import sys\n",
    "sys.path.insert(0, '/home/was966/Research/mims-conceptor/')\n",
    "from baseline.immnue_score import immnue_score_methods"
   ]
  },
  {
   "cell_type": "code",
   "execution_count": 2,
   "id": "ba2ffccb-4135-4e16-a822-c0dd305908ca",
   "metadata": {},
   "outputs": [],
   "source": [
    "df_tpm = pd.read_csv('./toy_data.csv', index_col=0)"
   ]
  },
  {
   "cell_type": "code",
   "execution_count": 4,
   "id": "741b1d21-a66e-4743-a478-fab4bce93f06",
   "metadata": {},
   "outputs": [
    {
     "data": {
      "text/plain": [
       "{'PD1': immnue_score.PD1.PD1,\n",
       " 'PDL1': immnue_score.PDL1.PDL1,\n",
       " 'CTLA4': immnue_score.CTLA4.CTLA4,\n",
       " 'CD8': immnue_score.CD8.CD8,\n",
       " 'GeneBio': immnue_score.GeneBio.GeneBio,\n",
       " 'NetBio': immnue_score.Kong_NetBio.Kong_NetBio,\n",
       " 'MIAS': immnue_score.Wu_MIAS.Wu_MIAS,\n",
       " 'GEP': immnue_score.Cristescu_GEP.Cristescu_GEP,\n",
       " 'IMPRES': immnue_score.Auslander_IMPRES.Auslander_IMPRES,\n",
       " 'TIDE': immnue_score.Jiang_TIDE.Jiang_TIDE,\n",
       " 'NRS': immnue_score.Huang_NRS.Huang_NRS,\n",
       " 'IFNG': immnue_score.Ayers_IFNG.Ayers_IFNG,\n",
       " 'CIS': immnue_score.Davoli_CIS.Davoli_CIS,\n",
       " 'IS': immnue_score.Roh_IS.Roh_IS,\n",
       " 'Fehrenbacher_Teff': immnue_score.Fehrenbacher_Teff.Fehrenbacher_Teff,\n",
       " 'CKS': immnue_score.Messina_CKS.Messina_CKS,\n",
       " 'CAF': immnue_score.Nurmik_CAFs.Nurmik_CAFs,\n",
       " 'CTL': immnue_score.Jiang_CTLs.Jiang_CTLs,\n",
       " 'TAM': immnue_score.Jiang_TAMs.Jiang_TAMs,\n",
       " 'Texh': immnue_score.Jiang_Texh.Jiang_Texh,\n",
       " 'ICA': immnue_score.Rooney_ICA.Rooney_ICA}"
      ]
     },
     "execution_count": 4,
     "metadata": {},
     "output_type": "execute_result"
    }
   ],
   "source": [
    "immnue_score_methods"
   ]
  },
  {
   "cell_type": "code",
   "execution_count": 5,
   "id": "0c3b7694-4c43-42cd-b138-dec2f6d45f40",
   "metadata": {},
   "outputs": [
    {
     "name": "stdout",
     "output_type": "stream",
     "text": [
      "PD1 <class 'immnue_score.PD1.PD1'>\n",
      "PDL1 <class 'immnue_score.PDL1.PDL1'>\n",
      "CTLA4 <class 'immnue_score.CTLA4.CTLA4'>\n",
      "CD8 <class 'immnue_score.CD8.CD8'>\n",
      "GeneBio <class 'immnue_score.GeneBio.GeneBio'>\n",
      "NetBio <class 'immnue_score.Kong_NetBio.Kong_NetBio'>\n",
      "MIAS <class 'immnue_score.Wu_MIAS.Wu_MIAS'>\n",
      "GEP <class 'immnue_score.Cristescu_GEP.Cristescu_GEP'>\n",
      "IMPRES <class 'immnue_score.Auslander_IMPRES.Auslander_IMPRES'>\n",
      "TIDE <class 'immnue_score.Jiang_TIDE.Jiang_TIDE'>\n",
      "[WARN] 1.43 % Genes are missing after converting to Entrez ID\n",
      "[WARN] The majority(>80%) of genes with positive expression in your inputted data. Please Normalize your data\n",
      "[WARN] Start normalizing the input expression profile by: 1. Do the log2(x+1) transformation. 2. Subtract the average across your samples.\n"
     ]
    },
    {
     "name": "stderr",
     "output_type": "stream",
     "text": [
      "/home/was966/Research/mims-conceptor/baseline/immnue_score/Jiang_TIDE.py:30: FutureWarning: The default dtype for empty Series will be 'object' instead of 'float64' in a future version. Specify a dtype explicitly to silence this warning.\n",
      "  self.gs = pd.Series()\n"
     ]
    },
    {
     "name": "stdout",
     "output_type": "stream",
     "text": [
      "NRS <class 'immnue_score.Huang_NRS.Huang_NRS'>\n",
      "IFNG <class 'immnue_score.Ayers_IFNG.Ayers_IFNG'>\n"
     ]
    },
    {
     "name": "stderr",
     "output_type": "stream",
     "text": [
      "/home/was966/Research/mims-conceptor/baseline/immnue_score/Ayers_IFNG.py:36: UserWarning: Markers of ['CCL5'] are missed and not used.\n",
      "  warnings.warn('Markers of %s are missed and not used.' % markers_unused)\n"
     ]
    },
    {
     "name": "stdout",
     "output_type": "stream",
     "text": [
      "CIS <class 'immnue_score.Davoli_CIS.Davoli_CIS'>\n",
      "IS <class 'immnue_score.Roh_IS.Roh_IS'>\n",
      "Fehrenbacher_Teff <class 'immnue_score.Fehrenbacher_Teff.Fehrenbacher_Teff'>\n",
      "CKS <class 'immnue_score.Messina_CKS.Messina_CKS'>\n",
      "CAF <class 'immnue_score.Nurmik_CAFs.Nurmik_CAFs'>\n",
      "CTL <class 'immnue_score.Jiang_CTLs.Jiang_CTLs'>\n",
      "TAM <class 'immnue_score.Jiang_TAMs.Jiang_TAMs'>\n",
      "Texh <class 'immnue_score.Jiang_Texh.Jiang_Texh'>\n",
      "ICA <class 'immnue_score.Rooney_ICA.Rooney_ICA'>\n"
     ]
    }
   ],
   "source": [
    "for k, f in immnue_score_methods.items():\n",
    "    print(k, f)\n",
    "    F = f(cancer_type='SKCM', drug_target='PD1')\n",
    "    s1 = F(df_tpm)\n",
    "    s2 = F.get_avg(df_tpm)\n",
    "    s3 = F.get_org(df_tpm)\n",
    "    s4 = F.get_pca(df_tpm)\n",
    "    s5 = F.get_ssgsea(df_tpm)"
   ]
  },
  {
   "cell_type": "code",
   "execution_count": null,
   "id": "507fdb87-1e5d-4890-9495-855c58658ac2",
   "metadata": {},
   "outputs": [],
   "source": []
  },
  {
   "cell_type": "code",
   "execution_count": null,
   "id": "9fe83056-012f-4adf-a10d-ddb7de1e3a1d",
   "metadata": {},
   "outputs": [],
   "source": []
  },
  {
   "cell_type": "code",
   "execution_count": null,
   "id": "12e89eec-55e6-4092-bd47-e51a12e71024",
   "metadata": {},
   "outputs": [],
   "source": []
  },
  {
   "cell_type": "code",
   "execution_count": null,
   "id": "f0bcac76-c9b7-40f2-b17a-8b221a6e9f2b",
   "metadata": {},
   "outputs": [],
   "source": []
  }
 ],
 "metadata": {
  "kernelspec": {
   "display_name": "Python 3 (ipykernel)",
   "language": "python",
   "name": "python3"
  },
  "language_info": {
   "codemirror_mode": {
    "name": "ipython",
    "version": 3
   },
   "file_extension": ".py",
   "mimetype": "text/x-python",
   "name": "python",
   "nbconvert_exporter": "python",
   "pygments_lexer": "ipython3",
   "version": "3.8.18"
  }
 },
 "nbformat": 4,
 "nbformat_minor": 5
}
