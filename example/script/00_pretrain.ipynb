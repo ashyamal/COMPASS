{
 "cells": [
  {
   "cell_type": "markdown",
   "id": "e722c502-3836-4307-8dfc-97c115df203a",
   "metadata": {},
   "source": [
    "# Notes\n",
    "In this instance, we demonstrate the `self-supervised` pretraining process using the TCGA cohort dataset. Upon completion of the pretraining phase, our model will be saved as a feature extractor. This entails exporting the pretrained model, ensuring its readiness for downstream applications. For the downstream tasks, we will utilize this pretrained model to extract latent features from the specific dataset intended for these tasks. Utilizing these extracted features, we will then construct a straightforward linear probing method to facilitate prediction"
   ]
  },
  {
   "cell_type": "code",
   "execution_count": null,
   "id": "daa68257-062c-4c2e-af27-d8a095be52da",
   "metadata": {},
   "outputs": [],
   "source": [
    "import sys\n",
    "sys.path.insert(0, '/home/was966/Research/mims-responder/')\n",
    "from responder.utils import plot_embed_with_label\n",
    "from responder import PreTrainer, FineTuner"
   ]
  },
  {
   "cell_type": "code",
   "execution_count": null,
   "id": "8d767c57-f93a-46b3-a31d-717aac0aff67",
   "metadata": {},
   "outputs": [],
   "source": [
    "import os\n",
    "from tqdm import tqdm\n",
    "from itertools import chain\n",
    "import pandas as pd\n",
    "import numpy as np\n",
    "import random, torch\n",
    "import matplotlib.pyplot as plt\n",
    "import seaborn as sns\n",
    "sns.set(style = 'white', font_scale=1.5)"
   ]
  },
  {
   "cell_type": "code",
   "execution_count": null,
   "id": "9684e9fc-9d36-43e8-8559-0ded91111c82",
   "metadata": {},
   "outputs": [],
   "source": [
    "data_path = '../data/'\n",
    "df_tpm = pd.read_pickle(os.path.join(data_path, 'TCGA', 'TPM.TCGA.TABLE'))\n",
    "df_label = pd.read_pickle(os.path.join(data_path, 'TCGA', 'PATIENT.PROCESSED.TCGA.TABLE'))\n",
    "df_gene = pd.read_pickle(os.path.join(data_path,'TCGA',  'GENE.TABLE'))\n",
    "df_cancer = df_label[['cancer_type']]\n",
    "n_samples = len(df_label)"
   ]
  },
  {
   "cell_type": "code",
   "execution_count": null,
   "id": "072bb288-6f7b-4387-9a65-bd3b95aa763e",
   "metadata": {},
   "outputs": [],
   "source": [
    "task_name = 'ssl_notask' #self-supervised learning (ssl), no joint task\n",
    "\n",
    "# generate a decoder task randomly (since we will only test the ssl pretraining)\n",
    "random_task = np.random.randint(0, 2, size=(n_samples, 2))\n",
    "df_task = pd.DataFrame(random_task, index = df_cancer.index) \n",
    "\n",
    "# random decoder task type and weight\n",
    "task_type = 'c'\n",
    "task_loss_weight = 0.0 #MUST BE ZERO\n",
    "\n",
    "test_idx = df_cancer.groupby('cancer_type').apply(lambda x:x.sample(frac=0.1, \n",
    "                                                                    random_state=123).index.tolist()).tolist()\n",
    "test_idx = list(chain(*test_idx))\n",
    "train_idx = df_cancer[~df_cancer.index.isin(test_idx)].index\n",
    "\n",
    "df_task_train = df_task.loc[train_idx]\n",
    "df_tpm_train = df_tpm.loc[train_idx]\n",
    "\n",
    "df_task_test = df_task.loc[test_idx]\n",
    "df_tpm_test = df_tpm.loc[test_idx]\n",
    "\n",
    "print(df_tpm_train.shape, len(df_tpm_test))"
   ]
  },
  {
   "cell_type": "code",
   "execution_count": null,
   "id": "c42d99f0-0a94-414b-b7c5-e667ad313b04",
   "metadata": {},
   "outputs": [],
   "source": [
    "pretrainer = PreTrainer(\n",
    "                        device='cuda',\n",
    "                        encoder='transformer',\n",
    "                        batch_size = 128,\n",
    "                        epochs = 100, \n",
    "                        patience = 5,\n",
    "                        lr = 1e-4, \n",
    "                        weight_decay = 1e-6,\n",
    "                        K = 0.3, \n",
    "                        task_loss_weight = task_loss_weight,\n",
    "                        with_wandb=False, \n",
    "                        work_dir='./results')\n",
    "\n",
    "pretrainer.train(df_tpm_train, \n",
    "                 df_task_train, \n",
    "                 task_name, \n",
    "                 task_type, \n",
    "                 df_tpm_test, \n",
    "                 df_task_test, \n",
    "                 aug_method = 'mask',\n",
    "                 mask_probability = 0.01, \n",
    "                 mask_self=True,\n",
    "                 mask_self_probability = 0.5\n",
    "                )\n",
    "\n",
    "pretrainer.close()"
   ]
  },
  {
   "cell_type": "code",
   "execution_count": null,
   "id": "b1474117-573c-4b73-a570-4a26bbc9928f",
   "metadata": {},
   "outputs": [],
   "source": [
    "df_label_plot = df_label[['cancer_type', 'gender']]\n",
    "label_type = ['c', 'c']\n",
    "df_tpm_train_emb, _ = pretrainer.predict(df_tpm_train, batch_size = 256)\n",
    "dfp = df_tpm_train_emb.join(df_label_plot)\n",
    "plot_embed_with_label(dfp, df_label_plot.columns, label_type, s=5, figsize=(5,5), min_dist = 0.8, metric = 'correlation', n_epochs=50)"
   ]
  },
  {
   "cell_type": "code",
   "execution_count": null,
   "id": "c2678be0-0d80-4be5-88e4-b6c4ea4e15bc",
   "metadata": {},
   "outputs": [],
   "source": [
    "from responder.utils import plot_embed_with_label, score\n",
    "itrp_meta = pd.read_pickle(os.path.join(data_path, 'SKCM','PATIENT.ITRP.TABLE'))\n",
    "itrp_df_tpm = pd.read_pickle(os.path.join(data_path, 'SKCM','TPM.ITRP.TABLE'))\n",
    "df_label = itrp_meta[['cohort', 'response_label']]\n",
    "label_type = ['c', 'c']\n",
    "itrp_df_tpm_emb, _ = pretrainer.predict(itrp_df_tpm, batch_size = 256)\n",
    "dfp = itrp_df_tpm_emb.join(df_label)\n",
    "plot_embed_with_label(dfp, df_label.columns, label_type, s=20, figsize=(5,5),)# min_dist = 0.8, metric = 'correlation', n_epochs=100"
   ]
  },
  {
   "cell_type": "code",
   "execution_count": null,
   "id": "ee3b0e2c-25c1-4b5d-ba64-5cddf907d942",
   "metadata": {},
   "outputs": [],
   "source": []
  },
  {
   "cell_type": "code",
   "execution_count": null,
   "id": "820d2414-f186-4752-b7fd-756da756012d",
   "metadata": {},
   "outputs": [],
   "source": []
  }
 ],
 "metadata": {
  "kernelspec": {
   "display_name": "Python 3 (ipykernel)",
   "language": "python",
   "name": "python3"
  },
  "language_info": {
   "codemirror_mode": {
    "name": "ipython",
    "version": 3
   },
   "file_extension": ".py",
   "mimetype": "text/x-python",
   "name": "python",
   "nbconvert_exporter": "python",
   "pygments_lexer": "ipython3",
   "version": "3.8.18"
  }
 },
 "nbformat": 4,
 "nbformat_minor": 5
}
