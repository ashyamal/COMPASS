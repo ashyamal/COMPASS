{
 "cells": [
  {
   "cell_type": "code",
   "execution_count": 1,
   "id": "5c86cbbc-1efb-4ac2-b5c4-f9f06fc0d3d8",
   "metadata": {},
   "outputs": [],
   "source": [
    "import os\n",
    "from tqdm import tqdm\n",
    "from itertools import chain\n",
    "import pandas as pd\n",
    "import numpy as np\n",
    "import random, torch\n",
    "import matplotlib.pyplot as plt\n",
    "import seaborn as sns\n",
    "sns.set(style = 'white', font_scale=1.5)\n",
    "\n",
    "import sys\n",
    "sys.path.insert(0, '/home/was966/Research/mims-compass/')\n",
    "from compass.utils import plot_embed_with_label\n",
    "from compass import PreTrainer, FineTuner, loadcompass\n",
    "from compass.utils import plot_embed_with_label, score\n",
    "from compass.tokenizer import CANCER_CODE"
   ]
  },
  {
   "cell_type": "code",
   "execution_count": null,
   "id": "33e9188d-c754-4c3c-8d8a-ddc12ac44570",
   "metadata": {},
   "outputs": [],
   "source": []
  },
  {
   "cell_type": "code",
   "execution_count": 3,
   "id": "f8b50b5c-3115-40a8-9992-e65d96bb197c",
   "metadata": {},
   "outputs": [],
   "source": [
    "model = loadcompass('../paper/checkpoint/latest/pretrainer.pt')"
   ]
  },
  {
   "cell_type": "code",
   "execution_count": null,
   "id": "f92f87d4-d113-4483-967a-a031365b2ce7",
   "metadata": {},
   "outputs": [],
   "source": []
  },
  {
   "cell_type": "code",
   "execution_count": null,
   "id": "2ea8e25e-51cf-4f86-abac-ed8e6420f8b1",
   "metadata": {},
   "outputs": [],
   "source": []
  }
 ],
 "metadata": {
  "kernelspec": {
   "display_name": "Python 3 (ipykernel)",
   "language": "python",
   "name": "python3"
  },
  "language_info": {
   "codemirror_mode": {
    "name": "ipython",
    "version": 3
   },
   "file_extension": ".py",
   "mimetype": "text/x-python",
   "name": "python",
   "nbconvert_exporter": "python",
   "pygments_lexer": "ipython3",
   "version": "3.8.18"
  }
 },
 "nbformat": 4,
 "nbformat_minor": 5
}
