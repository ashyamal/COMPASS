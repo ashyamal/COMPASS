{
 "cells": [
  {
   "cell_type": "code",
   "execution_count": 1,
   "id": "bdaedd16-a209-49fe-b466-4b0f3f694174",
   "metadata": {},
   "outputs": [],
   "source": [
    "import pandas as pd\n",
    "import os\n",
    "import numpy as np\n",
    "import matplotlib.pyplot as plt\n",
    "import seaborn as sns\n",
    "from glob import glob\n"
   ]
  },
  {
   "cell_type": "code",
   "execution_count": 2,
   "id": "3770220c-d0c1-4b10-8439-04da3a463fc3",
   "metadata": {},
   "outputs": [],
   "source": [
    "tcga_data_path = '/n/data1/hms/dbmi/zitnik/lab/users/was966/TCGA/GDC_v37'"
   ]
  },
  {
   "cell_type": "code",
   "execution_count": 3,
   "id": "2146cae9-424a-479c-847a-3e7a2979f5d2",
   "metadata": {},
   "outputs": [],
   "source": [
    "tpms = glob(os.path.join(tcga_data_path, '*', 'rnaSeq_tpm_matrix.csv'))\n",
    "samples = glob(os.path.join(tcga_data_path, '*', 'rnaSeq_sample_table.txt'))\n",
    "genes = glob(os.path.join(tcga_data_path, '*', 'rnaSeq_gene_table.txt'))\n",
    "scnvs = glob(os.path.join(tcga_data_path, '*', 'SCNV_table.txt'))\n",
    "snvs = glob(os.path.join(tcga_data_path, '*', 'SNV_table.txt'))\n",
    "drugs = glob(os.path.join(tcga_data_path, '*', 'clinical_drug_table.txt'))\n",
    "patients = glob(os.path.join(tcga_data_path, '*', 'clinical_patient_table.txt'))\n",
    "proteins = glob(os.path.join(tcga_data_path, '*', 'proteome_table.txt'))"
   ]
  },
  {
   "cell_type": "code",
   "execution_count": 4,
   "id": "8f7e822d-a4ba-41c2-b446-22f8efdf5e76",
   "metadata": {},
   "outputs": [
    {
     "data": {
      "text/plain": [
       "(33, 33, 33, 33, 33, 33, 33, 32)"
      ]
     },
     "execution_count": 4,
     "metadata": {},
     "output_type": "execute_result"
    }
   ],
   "source": [
    "len(tpms),len(samples),len(genes),len(scnvs),len(snvs),len(drugs),len(patients),len(proteins)"
   ]
  },
  {
   "cell_type": "markdown",
   "id": "b3d68199-aba8-484d-b338-3e874e9b0185",
   "metadata": {},
   "source": [
    "# Narrow Down Samples"
   ]
  },
  {
   "attachments": {},
   "cell_type": "markdown",
   "id": "9a264406-ff82-4139-8bfc-924a5e60c03c",
   "metadata": {},
   "source": [
    "### Step1. TCGA (33 cancers) RNA-seq TPM matrix\n"
   ]
  },
  {
   "cell_type": "code",
   "execution_count": 5,
   "id": "e7e8215c-1f41-4345-bca3-04ad5b505546",
   "metadata": {},
   "outputs": [],
   "source": [
    "tpm_tbs = []\n",
    "for tpm in tpms:\n",
    "    cancer_type = os.path.basename(os.path.dirname(tpm))\n",
    "    df = pd.read_csv(tpm, index_col=0).T\n",
    "    dft = pd.DataFrame(index=df.index)\n",
    "    dft['cancer_type'] = cancer_type\n",
    "    dft = dft.join(df)\n",
    "    tpm_tbs.append(dft)\n",
    "\n",
    "df1 = pd.concat(tpm_tbs, axis=0)\n",
    "bcr_patient_barcode = df1.index.map(lambda x:x[:12])\n",
    "bcode = pd.DataFrame(bcr_patient_barcode,index=df1.index, columns = ['bcr_patient_barcode'])\n",
    "df1 = bcode.join(df1)"
   ]
  },
  {
   "cell_type": "code",
   "execution_count": 6,
   "id": "500d25b8-c013-4ea2-b8af-a86be1b2f036",
   "metadata": {},
   "outputs": [
    {
     "data": {
      "text/plain": [
       "(11274, 60660)"
      ]
     },
     "execution_count": 6,
     "metadata": {},
     "output_type": "execute_result"
    }
   ],
   "source": [
    "df1[df1.columns[2:]].shape"
   ]
  },
  {
   "cell_type": "markdown",
   "id": "03cd9d9f-b53f-4a87-a3bb-ff95dcebdb7f",
   "metadata": {},
   "source": [
    "### Step2. Sample type selection (Solid Tissue Normal)"
   ]
  },
  {
   "cell_type": "code",
   "execution_count": 16,
   "id": "37212525-da00-40c5-ac22-708212d1a8dc",
   "metadata": {},
   "outputs": [
    {
     "data": {
      "text/plain": [
       "(740, 60660)"
      ]
     },
     "execution_count": 16,
     "metadata": {},
     "output_type": "execute_result"
    }
   ],
   "source": [
    "sdef = [pd.read_csv(sample,sep='\\t', index_col = 0) for sample in samples]\n",
    "df_samples = pd.concat(sdef)\n",
    "sample_id_type_map = df_samples.definition\n",
    "sample_id_type_map.name = 'sample_type'\n",
    "sample_id_type_map.index.name = 'sample_id'\n",
    "sample_id_type_map.to_pickle(os.path.join(tcga_data_path, 'sample_id_type.map'))\n",
    "#df_samples = df_samples[df_samples.prior_treatment == 'No']\n",
    "\n",
    "# keep only tumor samples\n",
    "tumer_samples = ['Primary solid Tumor', 'Metastatic', 'Recurrent Solid Tumor',\n",
    "                 'Primary Blood Derived Cancer - Peripheral Blood'] #'Primary Blood Derived Cancer - Peripheral Blood'\n",
    "normal_samples = ['Solid Tissue Normal']\n",
    "\n",
    "sidx = sample_id_type_map[sample_id_type_map.isin(normal_samples)].index\n",
    "df2 = df1.loc[sidx].sort_values('cancer_type')\n",
    "df2[df2.columns[2:]].shape"
   ]
  },
  {
   "cell_type": "markdown",
   "id": "90fc8c15-2d93-49a3-a068-9f3fd3f52150",
   "metadata": {},
   "source": [
    "### Step3. Remove prior treatment samples & is_ffpe"
   ]
  },
  {
   "cell_type": "code",
   "execution_count": 17,
   "id": "c9084e0a-383c-42b9-a8c2-a62022e5f6e9",
   "metadata": {},
   "outputs": [
    {
     "data": {
      "text/plain": [
       "(714, 60660)"
      ]
     },
     "execution_count": 17,
     "metadata": {},
     "output_type": "execute_result"
    }
   ],
   "source": [
    "no_prior_treatment_set = set(df_samples[df_samples.prior_treatment == 'No'].index)\n",
    "no_is_ffpe_set = set(df_samples[df_samples.is_ffpe == False].index)\n",
    "selected_samples = no_prior_treatment_set & no_is_ffpe_set\n",
    "df3 = df2[df2.index.isin(selected_samples)]\n",
    "df3[df3.columns[2:]].shape"
   ]
  },
  {
   "attachments": {},
   "cell_type": "markdown",
   "id": "56edf874-ac88-4fce-ad23-d0a89b6aa43e",
   "metadata": {},
   "source": [
    "### Step4. Samples to Patients (Average TPM values)\n"
   ]
  },
  {
   "cell_type": "code",
   "execution_count": 18,
   "id": "84d0fcbe-764d-433d-a8da-a373f91fe854",
   "metadata": {},
   "outputs": [
    {
     "data": {
      "text/plain": [
       "(714, 60660)"
      ]
     },
     "execution_count": 18,
     "metadata": {},
     "output_type": "execute_result"
    }
   ],
   "source": [
    "s = df3.groupby(['bcr_patient_barcode']).size()\n",
    "rnacols = df3.columns[2:]\n",
    "df_dup = df3[df3.bcr_patient_barcode.isin(s[s > 1].index)]\n",
    "df_idt = df3[df3.bcr_patient_barcode.isin(s[s == 1].index)]\n",
    "if len(df_dup) > 2:\n",
    "    df_dup_idt = df_dup.groupby(['bcr_patient_barcode', 'cancer_type']).apply(lambda x:x.mean()).reset_index()\n",
    "else:\n",
    "    df_dup_idt = df_dup\n",
    "df4 = pd.concat([df_idt, df_dup_idt]).sort_values('cancer_type').set_index('bcr_patient_barcode')\n",
    "df4[df4.columns[1:]].shape"
   ]
  },
  {
   "cell_type": "markdown",
   "id": "effd1007-5546-4bca-88d0-cc089345e5c6",
   "metadata": {},
   "source": [
    "# Narrow Down Genes"
   ]
  },
  {
   "cell_type": "code",
   "execution_count": 19,
   "id": "17342786-4b08-41fb-bfe7-528d6e2447f5",
   "metadata": {},
   "outputs": [
    {
     "data": {
      "text/plain": [
       "(714, 57269)"
      ]
     },
     "execution_count": 19,
     "metadata": {},
     "output_type": "execute_result"
    }
   ],
   "source": [
    "df_cancer = pd.read_pickle(os.path.join(tcga_data_path, 'TPM.TABLE'))\n",
    "df7 = df4[df_cancer.columns]\n",
    "df7.shape"
   ]
  },
  {
   "cell_type": "code",
   "execution_count": 20,
   "id": "f05a4cfc-bfb1-4550-a379-a2284be64cf6",
   "metadata": {},
   "outputs": [],
   "source": [
    "df7.to_pickle(os.path.join(tcga_data_path, 'NORMAL.TPM.TABLE'))"
   ]
  },
  {
   "cell_type": "code",
   "execution_count": null,
   "id": "212dce45-7e03-447f-a653-80fef1884191",
   "metadata": {},
   "outputs": [],
   "source": []
  },
  {
   "cell_type": "markdown",
   "id": "4f6d6906-54f8-487e-be6e-c8b84f6e475f",
   "metadata": {},
   "source": [
    "### Patient table with mutation columns"
   ]
  },
  {
   "cell_type": "code",
   "execution_count": 22,
   "id": "5cd1472c-7b53-4fbb-b7ea-c3cd78451147",
   "metadata": {},
   "outputs": [],
   "source": [
    "df_clinic = pd.read_pickle(os.path.join(tcga_data_path, 'df_patient_clinic.pkl'))\n",
    "df_mut = pd.read_pickle(os.path.join(tcga_data_path, 'df_patient_mut.pkl'))\n",
    "df_mut['msi'] = df_mut[['MSI-H', 'MSI-L', 'MSS']].idxmax(axis=1)\n",
    "df_mut['tmb'] = df_mut['tmb_wang'] \n",
    "df_mut['cnv'] = df_mut['scnv_jin_mean'] \n",
    "df_mut['msi_score'] = df_mut['MSIsensorScore']\n",
    "df_mut = df_mut[['tmb', 'cnv', 'msi', 'truncate_mut', 'nontruncate_mut', 'msi_score']]\n",
    "\n",
    "\n",
    "df_patients = df4[['cancer_type']].join(df_clinic)\n",
    "df_patients = df_patients.join(df_mut)\n",
    "df_patients.to_pickle(os.path.join(tcga_data_path, 'NORMAL.PATIENTS.TABLE'))"
   ]
  },
  {
   "cell_type": "code",
   "execution_count": 23,
   "id": "cfba0c2b-9d3e-400e-8baa-6fb70748d929",
   "metadata": {},
   "outputs": [
    {
     "data": {
      "text/plain": [
       "(714, 18)"
      ]
     },
     "execution_count": 23,
     "metadata": {},
     "output_type": "execute_result"
    }
   ],
   "source": [
    "df_patients.shape"
   ]
  },
  {
   "cell_type": "code",
   "execution_count": 24,
   "id": "3482e4bb-f820-48da-9f8b-4ca8f1caf2cc",
   "metadata": {},
   "outputs": [
    {
     "name": "stdout",
     "output_type": "stream",
     "text": [
      "-rw-rw-r-- 1 was966 zitnik  75K Oct 12 15:25 /n/data1/hms/dbmi/zitnik/lab/users/was966/TCGA/GDC_v37/NORMAL.PATIENTS.TABLE\n",
      "-rw-rw-r-- 1 was966 zitnik 1.1M Oct 12 15:16 /n/data1/hms/dbmi/zitnik/lab/users/was966/TCGA/GDC_v37/PATIENTS.TABLE\n"
     ]
    }
   ],
   "source": [
    "ls -lh /n/data1/hms/dbmi/zitnik/lab/users/was966/TCGA/GDC_v37/*PATIENTS.TABLE"
   ]
  },
  {
   "cell_type": "code",
   "execution_count": null,
   "id": "95634bbe-7291-402c-a893-28cad4b86343",
   "metadata": {},
   "outputs": [],
   "source": []
  },
  {
   "cell_type": "code",
   "execution_count": null,
   "id": "ec4364d2-eceb-48a8-aec6-045e56c226b9",
   "metadata": {},
   "outputs": [],
   "source": []
  },
  {
   "cell_type": "code",
   "execution_count": null,
   "id": "dc9cac49-2278-4fff-8c11-6ffc37f44f06",
   "metadata": {},
   "outputs": [],
   "source": []
  }
 ],
 "metadata": {
  "kernelspec": {
   "display_name": "Python 3 (ipykernel)",
   "language": "python",
   "name": "python3"
  },
  "language_info": {
   "codemirror_mode": {
    "name": "ipython",
    "version": 3
   },
   "file_extension": ".py",
   "mimetype": "text/x-python",
   "name": "python",
   "nbconvert_exporter": "python",
   "pygments_lexer": "ipython3",
   "version": "3.11.4"
  }
 },
 "nbformat": 4,
 "nbformat_minor": 5
}
