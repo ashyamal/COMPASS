{
 "cells": [
  {
   "cell_type": "markdown",
   "id": "d845f161-d469-49a9-8f52-007974c40e53",
   "metadata": {},
   "source": [
    "We use the clinical data with follow up and outcome data for the TCGA PanCancer Atlas from Liu et al1\n",
    "\n",
    "1: An Integrated TCGA Pan-Cancer Clinical Data Resource to Drive High-Quality Survival Outcome Analytics (https://pubmed.ncbi.nlm.nih.gov/29625055/)\n"
   ]
  },
  {
   "cell_type": "code",
   "execution_count": 1,
   "id": "d0f3f8e4-741a-4b71-b8bf-5c6d23c8c22f",
   "metadata": {},
   "outputs": [],
   "source": [
    "import pandas as pd\n",
    "import os\n",
    "import numpy as np\n",
    "import matplotlib.pyplot as plt\n",
    "import seaborn as sns\n",
    "from glob import glob"
   ]
  },
  {
   "cell_type": "code",
   "execution_count": null,
   "id": "ddd8e00b-2b5a-4d98-93d3-7f18a87d6968",
   "metadata": {},
   "outputs": [],
   "source": []
  },
  {
   "cell_type": "code",
   "execution_count": 2,
   "id": "e56ef409-e6f7-4edd-82d8-8cb0b8078e8d",
   "metadata": {},
   "outputs": [],
   "source": [
    "tcga_data_path = '/n/data1/hms/dbmi/zitnik/lab/users/was966/TCGA/GDC_v37'"
   ]
  },
  {
   "cell_type": "code",
   "execution_count": 3,
   "id": "94de0c38-c5e3-41e4-bc0e-bec706ead60e",
   "metadata": {},
   "outputs": [],
   "source": [
    "df_patients_liu = pd.read_excel(os.path.join(tcga_data_path, 'Liu_TCGA_clinical.xlsx'), \n",
    "                             sheet_name='TCGA-CDR', index_col='bcr_patient_barcode')"
   ]
  },
  {
   "cell_type": "code",
   "execution_count": 4,
   "id": "e0489dad-829f-467f-a7ab-84dfa454b094",
   "metadata": {},
   "outputs": [],
   "source": [
    "df_patients_liu = df_patients_liu[df_patients_liu.columns[1:]]"
   ]
  },
  {
   "cell_type": "code",
   "execution_count": 5,
   "id": "e04e876e-4c71-4a48-94a0-eb8bc62464c8",
   "metadata": {},
   "outputs": [
    {
     "data": {
      "text/plain": [
       "Index(['type', 'age_at_initial_pathologic_diagnosis', 'gender', 'race',\n",
       "       'ajcc_pathologic_tumor_stage', 'clinical_stage', 'histological_type',\n",
       "       'histological_grade', 'initial_pathologic_dx_year', 'menopause_status',\n",
       "       'birth_days_to', 'vital_status', 'tumor_status', 'last_contact_days_to',\n",
       "       'death_days_to', 'cause_of_death', 'new_tumor_event_type',\n",
       "       'new_tumor_event_site', 'new_tumor_event_site_other',\n",
       "       'new_tumor_event_dx_days_to', 'treatment_outcome_first_course',\n",
       "       'margin_status', 'residual_tumor', 'OS', 'OS.time', 'DSS', 'DSS.time',\n",
       "       'DFI', 'DFI.time', 'PFI', 'PFI.time', 'Redaction'],\n",
       "      dtype='object')"
      ]
     },
     "execution_count": 5,
     "metadata": {},
     "output_type": "execute_result"
    }
   ],
   "source": [
    "df_patients_liu.columns"
   ]
  },
  {
   "cell_type": "code",
   "execution_count": 8,
   "id": "04cea8d6-9d25-4c58-bc4a-08b605151c30",
   "metadata": {},
   "outputs": [
    {
     "data": {
      "text/plain": [
       "Index(['[Not Available]', 'Complete Remission/Response', 'Progressive Disease',\n",
       "       'Stable Disease', '[Unknown]', 'Partial Remission/Response',\n",
       "       '[Not Applicable]', 'No Measureable Tumor or Tumor Markers',\n",
       "       '[Discrepancy]', 'Persistent Disease', '[Not Evaluated]',\n",
       "       'Normalization of Tumor Markers, but Residual Tumor Mass'],\n",
       "      dtype='object', name='treatment_outcome_first_course')"
      ]
     },
     "execution_count": 8,
     "metadata": {},
     "output_type": "execute_result"
    }
   ],
   "source": [
    "df_patients_liu.treatment_outcome_first_course.value_counts().index"
   ]
  },
  {
   "cell_type": "code",
   "execution_count": 41,
   "id": "c742aa29-61c6-4e45-99f1-be222efe8a57",
   "metadata": {},
   "outputs": [],
   "source": [
    "nan = ['[Not Available]', '[Unknown]', '[Not Applicable]', '[Not Evaluated]', 'No Measureable Tumor or Tumor Markers',\n",
    "       '[Discrepancy]','Normalization of Tumor Markers, but Residual Tumor Mass']\n",
    "R = ['Complete Remission/Response', 'Partial Remission/Response' ]\n",
    "NR  = ['Progressive Disease', 'Persistent Disease',  'Stable Disease']\n",
    "\n",
    "def get_r(x):\n",
    "    if x in nan:\n",
    "        return 'NR'\n",
    "    elif x in R:\n",
    "        return 'R'\n",
    "    elif x in NR:\n",
    "        return 'NR'\n",
    "    else:\n",
    "        return 'NR'\n",
    "\n",
    "df_patients_liu['treatment_outcome'] = df_patients_liu.treatment_outcome_first_course.apply(get_r)\n"
   ]
  },
  {
   "cell_type": "code",
   "execution_count": 58,
   "id": "2fa24476-888c-4945-80b8-ef2c7c7151a3",
   "metadata": {},
   "outputs": [],
   "source": [
    "df_patients_liu['treatment_outcome'] = df_patients_liu.treatment_outcome_first_course.apply(get_r)\n",
    "df_patients_liu['age'] = df_patients_liu.age_at_initial_pathologic_diagnosis\n",
    "df_patients_liu['stage'] = df_patients_liu.ajcc_pathologic_tumor_stage\n",
    "\n",
    "df_patients_liu['os_status'] = df_patients_liu['OS'].map({1:'dead', 0: 'alive'})\n",
    "df_patients_liu['os_time'] = df_patients_liu['OS.time']\n",
    "\n",
    "df_patients_liu['pfi_status'] = df_patients_liu['PFI'].map({1:'Progression', 0: 'censored'})\n",
    "df_patients_liu['pfi_time'] = df_patients_liu['PFI.time']"
   ]
  },
  {
   "cell_type": "code",
   "execution_count": 62,
   "id": "3bc2d8fa-3401-47b5-a40a-e89f900be964",
   "metadata": {},
   "outputs": [],
   "source": [
    "cols= ['age', 'gender', 'race', 'stage', 'vital_status', 'tumor_status', 'treatment_outcome', 'os_status', 'os_time', 'pfi_status', 'pfi_time']\n",
    "df_clinic = df_patients_liu[cols]"
   ]
  },
  {
   "cell_type": "code",
   "execution_count": 65,
   "id": "4dfdf69f-6809-41b5-b7ec-d7a7e22d931d",
   "metadata": {},
   "outputs": [],
   "source": [
    "df_clinic.to_pickle(os.path.join(tcga_data_path, 'df_patient_clinic.pkl'))"
   ]
  },
  {
   "cell_type": "code",
   "execution_count": null,
   "id": "941233fb-e7e5-4a31-942a-993ac1333b14",
   "metadata": {},
   "outputs": [],
   "source": []
  },
  {
   "cell_type": "code",
   "execution_count": null,
   "id": "c8716729-3a99-4b94-8d2c-0474572971b8",
   "metadata": {},
   "outputs": [],
   "source": []
  }
 ],
 "metadata": {
  "kernelspec": {
   "display_name": "Python 3 (ipykernel)",
   "language": "python",
   "name": "python3"
  },
  "language_info": {
   "codemirror_mode": {
    "name": "ipython",
    "version": 3
   },
   "file_extension": ".py",
   "mimetype": "text/x-python",
   "name": "python",
   "nbconvert_exporter": "python",
   "pygments_lexer": "ipython3",
   "version": "3.8.18"
  }
 },
 "nbformat": 4,
 "nbformat_minor": 5
}
