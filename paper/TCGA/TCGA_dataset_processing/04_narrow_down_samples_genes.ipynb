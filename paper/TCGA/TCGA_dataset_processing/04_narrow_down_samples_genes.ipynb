{
 "cells": [
  {
   "cell_type": "code",
   "execution_count": 1,
   "id": "bdaedd16-a209-49fe-b466-4b0f3f694174",
   "metadata": {},
   "outputs": [],
   "source": [
    "import pandas as pd\n",
    "import os\n",
    "import numpy as np\n",
    "import matplotlib.pyplot as plt\n",
    "import seaborn as sns\n",
    "from glob import glob"
   ]
  },
  {
   "cell_type": "code",
   "execution_count": 2,
   "id": "3770220c-d0c1-4b10-8439-04da3a463fc3",
   "metadata": {},
   "outputs": [],
   "source": [
    "tcga_data_path = '/n/data1/hms/dbmi/zitnik/lab/users/was966/TCGA/GDC_v37'"
   ]
  },
  {
   "cell_type": "code",
   "execution_count": 3,
   "id": "2146cae9-424a-479c-847a-3e7a2979f5d2",
   "metadata": {},
   "outputs": [],
   "source": [
    "tpms = glob(os.path.join(tcga_data_path, '*', 'rnaSeq_tpm_matrix.csv'))\n",
    "samples = glob(os.path.join(tcga_data_path, '*', 'rnaSeq_sample_table.txt'))\n",
    "genes = glob(os.path.join(tcga_data_path, '*', 'rnaSeq_gene_table.txt'))\n",
    "scnvs = glob(os.path.join(tcga_data_path, '*', 'SCNV_table.txt'))\n",
    "snvs = glob(os.path.join(tcga_data_path, '*', 'SNV_table.txt'))\n",
    "drugs = glob(os.path.join(tcga_data_path, '*', 'clinical_drug_table.txt'))\n",
    "patients = glob(os.path.join(tcga_data_path, '*', 'clinical_patient_table.txt'))\n",
    "proteins = glob(os.path.join(tcga_data_path, '*', 'proteome_table.txt'))"
   ]
  },
  {
   "cell_type": "code",
   "execution_count": 4,
   "id": "8f7e822d-a4ba-41c2-b446-22f8efdf5e76",
   "metadata": {},
   "outputs": [
    {
     "data": {
      "text/plain": [
       "(33, 33, 33, 33, 33, 33, 33, 32)"
      ]
     },
     "execution_count": 4,
     "metadata": {},
     "output_type": "execute_result"
    }
   ],
   "source": [
    "len(tpms),len(samples),len(genes),len(scnvs),len(snvs),len(drugs),len(patients),len(proteins)"
   ]
  },
  {
   "cell_type": "markdown",
   "id": "b3d68199-aba8-484d-b338-3e874e9b0185",
   "metadata": {},
   "source": [
    "# Narrow Down Samples"
   ]
  },
  {
   "attachments": {},
   "cell_type": "markdown",
   "id": "9a264406-ff82-4139-8bfc-924a5e60c03c",
   "metadata": {},
   "source": [
    "### Step1. TCGA (33 cancers) RNA-seq TPM matrix\n"
   ]
  },
  {
   "cell_type": "code",
   "execution_count": 5,
   "id": "e7e8215c-1f41-4345-bca3-04ad5b505546",
   "metadata": {},
   "outputs": [],
   "source": [
    "tpm_tbs = []\n",
    "for tpm in tpms:\n",
    "    cancer_type = os.path.basename(os.path.dirname(tpm))\n",
    "    df = pd.read_csv(tpm, index_col=0).T\n",
    "    dft = pd.DataFrame(index=df.index)\n",
    "    dft['cancer_type'] = cancer_type\n",
    "    dft = dft.join(df)\n",
    "    tpm_tbs.append(dft)\n",
    "\n",
    "df1 = pd.concat(tpm_tbs, axis=0)\n",
    "bcr_patient_barcode = df1.index.map(lambda x:x[:12])\n",
    "bcode = pd.DataFrame(bcr_patient_barcode,index=df1.index, columns = ['bcr_patient_barcode'])\n",
    "df1 = bcode.join(df1)"
   ]
  },
  {
   "cell_type": "code",
   "execution_count": 6,
   "id": "500d25b8-c013-4ea2-b8af-a86be1b2f036",
   "metadata": {},
   "outputs": [
    {
     "data": {
      "text/plain": [
       "(11274, 60660)"
      ]
     },
     "execution_count": 6,
     "metadata": {},
     "output_type": "execute_result"
    }
   ],
   "source": [
    "df1[df1.columns[2:]].shape"
   ]
  },
  {
   "cell_type": "markdown",
   "id": "03cd9d9f-b53f-4a87-a3bb-ff95dcebdb7f",
   "metadata": {},
   "source": [
    "### Step2. Sample type selection (Primary solid Tumor)"
   ]
  },
  {
   "cell_type": "code",
   "execution_count": 7,
   "id": "37212525-da00-40c5-ac22-708212d1a8dc",
   "metadata": {},
   "outputs": [
    {
     "data": {
      "text/plain": [
       "(10534, 60660)"
      ]
     },
     "execution_count": 7,
     "metadata": {},
     "output_type": "execute_result"
    }
   ],
   "source": [
    "sdef = [pd.read_csv(sample,sep='\\t', index_col = 0) for sample in samples]\n",
    "df_samples = pd.concat(sdef)\n",
    "sample_id_type_map = df_samples.definition\n",
    "sample_id_type_map.name = 'sample_type'\n",
    "sample_id_type_map.index.name = 'sample_id'\n",
    "sample_id_type_map.to_pickle(os.path.join(tcga_data_path, 'sample_id_type.map'))\n",
    "#df_samples = df_samples[df_samples.prior_treatment == 'No']\n",
    "\n",
    "# keep only tumor samples\n",
    "tumer_samples = ['Primary solid Tumor', 'Metastatic', 'Recurrent Solid Tumor',\n",
    "                 'Primary Blood Derived Cancer - Peripheral Blood'] #'Primary Blood Derived Cancer - Peripheral Blood'\n",
    "normal_samples = ['Solid Tissue Normal']\n",
    "\n",
    "sidx = sample_id_type_map[~sample_id_type_map.isin(normal_samples)].index\n",
    "df2 = df1.loc[sidx].sort_values('cancer_type')\n",
    "df2[df2.columns[2:]].shape"
   ]
  },
  {
   "cell_type": "markdown",
   "id": "90fc8c15-2d93-49a3-a068-9f3fd3f52150",
   "metadata": {},
   "source": [
    "### Step3. Remove prior treatment samples & is_ffpe"
   ]
  },
  {
   "cell_type": "code",
   "execution_count": 8,
   "id": "c9084e0a-383c-42b9-a8c2-a62022e5f6e9",
   "metadata": {},
   "outputs": [
    {
     "data": {
      "text/plain": [
       "(10305, 60660)"
      ]
     },
     "execution_count": 8,
     "metadata": {},
     "output_type": "execute_result"
    }
   ],
   "source": [
    "no_prior_treatment_set = set(df_samples[df_samples.prior_treatment == 'No'].index)\n",
    "no_is_ffpe_set = set(df_samples[df_samples.is_ffpe == False].index)\n",
    "#no_is_ffpe_set = set(df_samples.index)\n",
    "\n",
    "selected_samples = no_prior_treatment_set & no_is_ffpe_set\n",
    "df3 = df2[df2.index.isin(selected_samples)]\n",
    "df3[df3.columns[2:]].shape"
   ]
  },
  {
   "cell_type": "code",
   "execution_count": 9,
   "id": "59d93c97-2e2f-482e-981e-80cdd16d53be",
   "metadata": {},
   "outputs": [
    {
     "data": {
      "text/plain": [
       "10305"
      ]
     },
     "execution_count": 9,
     "metadata": {},
     "output_type": "execute_result"
    }
   ],
   "source": [
    "10305"
   ]
  },
  {
   "attachments": {},
   "cell_type": "markdown",
   "id": "56edf874-ac88-4fce-ad23-d0a89b6aa43e",
   "metadata": {},
   "source": [
    "### Step4. Samples to Patients (Average TPM values)\n"
   ]
  },
  {
   "cell_type": "code",
   "execution_count": 10,
   "id": "84d0fcbe-764d-433d-a8da-a373f91fe854",
   "metadata": {},
   "outputs": [
    {
     "data": {
      "text/plain": [
       "(10184, 60660)"
      ]
     },
     "execution_count": 10,
     "metadata": {},
     "output_type": "execute_result"
    }
   ],
   "source": [
    "s = df3.groupby(['bcr_patient_barcode']).size()\n",
    "rnacols = df3.columns[2:]\n",
    "df_dup = df3[df3.bcr_patient_barcode.isin(s[s > 1].index)]\n",
    "df_idt = df3[df3.bcr_patient_barcode.isin(s[s == 1].index)]\n",
    "df_dup_idt = df_dup.groupby(['bcr_patient_barcode', 'cancer_type']).apply(lambda x:x.mean()).reset_index()\n",
    "df4 = pd.concat([df_idt, df_dup_idt]).sort_values('cancer_type').set_index('bcr_patient_barcode')\n",
    "df4[df4.columns[1:]].shape"
   ]
  },
  {
   "cell_type": "code",
   "execution_count": null,
   "id": "f1c1107d-8774-4874-9d1f-de56eb64cd19",
   "metadata": {},
   "outputs": [],
   "source": []
  },
  {
   "cell_type": "markdown",
   "id": "effd1007-5546-4bca-88d0-cc089345e5c6",
   "metadata": {},
   "source": [
    "# Narrow Down Genes"
   ]
  },
  {
   "cell_type": "markdown",
   "id": "24e468f0-059a-4943-8bad-2e435b4fd307",
   "metadata": {},
   "source": [
    "### Step5. Gene id-name unique mapping (var criteria)"
   ]
  },
  {
   "cell_type": "code",
   "execution_count": 11,
   "id": "b004d666-d9ae-4f95-93b9-39967a5aac3a",
   "metadata": {},
   "outputs": [],
   "source": [
    "names = []\n",
    "types = []\n",
    "for gf in genes:\n",
    "    g = pd.read_csv(gf,sep='\\t').set_index('gene_id')\n",
    "    gname = g.gene_name\n",
    "    gtype = g.gene_type\n",
    "    names.append(gname)\n",
    "    types.append(gtype)\n",
    "gene_id_name_map = pd.concat(names).reset_index().drop_duplicates().set_index('gene_id').gene_name\n",
    "gene_id_type_map = pd.concat(types).reset_index().drop_duplicates().set_index('gene_id').gene_type\n",
    "gene_id_name_map.to_pickle(os.path.join(tcga_data_path, 'gene_id_name.map'))\n",
    "gene_id_type_map.to_pickle(os.path.join(tcga_data_path, 'gene_id_type.map'))\n",
    "gene_id_type_map.shape\n",
    "\n",
    "dfv = np.log2(df4[df4.columns[1:]] + 1)\n",
    "v = dfv.var().to_frame(name='variance')\n",
    "v['gene_name'] = v.index.map(gene_id_name_map)\n",
    "## use gene id with the largest variance\n",
    "gene_name_id_map = v.groupby('gene_name').apply(lambda x:x.variance.idxmax())\n",
    "gene_name_type_map = gene_name_id_map.map(gene_id_type_map)\n",
    "\n",
    "gene_name_id_map.to_pickle(os.path.join(tcga_data_path, 'gene_name_id.map'))\n",
    "gene_name_type_map.to_pickle(os.path.join(tcga_data_path, 'gene_name_type.map'))\n",
    "\n",
    "### define the subtype genes\n",
    "gene_type = gene_id_type_map.value_counts()\n",
    "pseudogenes = [i for i in gene_type.index if 'pseudogene' in i]\n",
    "s = pd.DataFrame(index=gene_id_type_map.unique())\n",
    "s['gene_supertype'] = 'other'\n",
    "s.loc[pseudogenes, 'gene_supertype'] = 'pseudogene'\n",
    "s.loc['protein_coding', 'gene_supertype'] = 'protein_coding'\n",
    "s.loc['lncRNA', 'gene_supertype'] = 'lncRNA'\n",
    "gene_type_supertype_map = s.gene_supertype\n",
    "\n",
    "gene_id_supertype_map = gene_id_type_map.map(gene_type_supertype_map)\n",
    "gene_name_supertype_map = gene_name_id_map.map(gene_id_supertype_map)\n",
    "gene_id_supertype_map.to_pickle(os.path.join(tcga_data_path, 'gene_id_supertype.map'))\n",
    "gene_name_supertype_map.to_pickle(os.path.join(tcga_data_path, 'gene_name_supertype.map'))\n",
    "\n",
    "gene_ensid_name_map = gene_id_name_map.to_frame().reset_index()\n",
    "gene_ensid_name_map['ensid'] = gene_ensid_name_map.gene_id.apply(lambda x:x.split('.')[0])\n",
    "gene_ensid_name_map = gene_ensid_name_map.set_index('ensid')['gene_name'].drop_duplicates()\n",
    "gene_ensid_name_map.to_pickle(os.path.join(tcga_data_path, 'gene_ensid_name.map'))\n",
    "\n",
    "###### gene table\n",
    "df_gene = gene_ensid_name_map.to_frame()\n",
    "df_gene['ensid_v36'] = df_gene.gene_name.map(gene_name_id_map)\n",
    "df_gene['gene_type'] = df_gene.gene_name.map(gene_name_type_map)\n",
    "df_gene['gene_supertype'] = df_gene.gene_name.map(gene_name_supertype_map)\n",
    "df_gene.to_pickle(os.path.join(tcga_data_path, 'GENE.TABLE'))"
   ]
  },
  {
   "cell_type": "markdown",
   "id": "52106fbc-285d-4d96-a70d-366f2fc61c3c",
   "metadata": {},
   "source": [
    "## convert to entrezgene IDs"
   ]
  },
  {
   "cell_type": "code",
   "execution_count": 12,
   "id": "71dcb11a-cdd6-4122-8026-e5b668528be8",
   "metadata": {},
   "outputs": [],
   "source": []
  },
  {
   "cell_type": "code",
   "execution_count": null,
   "id": "a19e4301-f084-4218-adef-c7525116b834",
   "metadata": {
    "scrolled": true
   },
   "outputs": [],
   "source": [
    "ensg_list = df_gene.index.tolist()\n",
    "import mygene\n",
    "mg = mygene.MyGeneInfo()\n",
    "mygene_info = mg.getgenes(ensg_list, fields=\"symbol,entrezgene\", species='human', email = 'wanxiang_shen@hms.harvard.edu')\n",
    "dfmg = pd.DataFrame(mygene_info).drop_duplicates('query').set_index('query')[['entrezgene', 'symbol']]\n",
    "dfmg.to_pickle(os.path.join(tcga_data_path, 'MYGENE.TABLE'))"
   ]
  },
  {
   "cell_type": "code",
   "execution_count": 41,
   "id": "20e50a96-1436-4bb0-8c16-8ef8092ff3fc",
   "metadata": {},
   "outputs": [],
   "source": [
    "dfmg = pd.read_pickle(os.path.join(tcga_data_path, 'MYGENE.TABLE'))\n",
    "df_gene = df_gene.join(dfmg)\n",
    "df_gene.to_pickle(os.path.join(tcga_data_path, 'GENE.TABLE'))"
   ]
  },
  {
   "cell_type": "code",
   "execution_count": null,
   "id": "989b41d9-d009-4328-84c8-06193fe544f9",
   "metadata": {},
   "outputs": [],
   "source": []
  },
  {
   "cell_type": "code",
   "execution_count": 28,
   "id": "5f848431-23d4-438b-a480-50ea6b37138d",
   "metadata": {},
   "outputs": [],
   "source": []
  },
  {
   "cell_type": "markdown",
   "id": "91687d60-5d5f-430f-a39d-e9b87971cb62",
   "metadata": {},
   "source": [
    "### Step5. Remove gene if absent in all samples"
   ]
  },
  {
   "cell_type": "code",
   "execution_count": 42,
   "id": "e031f49e-df44-49ae-a5f0-7c6060aca232",
   "metadata": {},
   "outputs": [
    {
     "data": {
      "text/plain": [
       "(10184, 58379)"
      ]
     },
     "execution_count": 42,
     "metadata": {},
     "output_type": "execute_result"
    }
   ],
   "source": [
    "df5 = df4[df4.columns[1:]]\n",
    "s = df5.sum()\n",
    "df6 = df5[s[s != 0 ].index]\n",
    "df6.shape"
   ]
  },
  {
   "cell_type": "markdown",
   "id": "4ceb34b6-3b0a-4f96-812b-a3dad5afa49e",
   "metadata": {},
   "source": [
    "### Step6. Keep unique genes "
   ]
  },
  {
   "cell_type": "code",
   "execution_count": 43,
   "id": "f05a4cfc-bfb1-4550-a379-a2284be64cf6",
   "metadata": {},
   "outputs": [
    {
     "data": {
      "text/plain": [
       "(10184, 57269)"
      ]
     },
     "execution_count": 43,
     "metadata": {},
     "output_type": "execute_result"
    }
   ],
   "source": [
    "cols = list(set(df6.columns) & set(df_gene.ensid_v36))\n",
    "df7 = df6[cols]\n",
    "df7.shape"
   ]
  },
  {
   "cell_type": "code",
   "execution_count": 44,
   "id": "212dce45-7e03-447f-a653-80fef1884191",
   "metadata": {},
   "outputs": [],
   "source": [
    "df7.to_pickle(os.path.join(tcga_data_path, 'TPM.TABLE'))"
   ]
  },
  {
   "cell_type": "markdown",
   "id": "4f6d6906-54f8-487e-be6e-c8b84f6e475f",
   "metadata": {},
   "source": [
    "### Patient table with mutation columns"
   ]
  },
  {
   "cell_type": "markdown",
   "id": "382e3b8a-195f-4930-961a-082d773c4c73",
   "metadata": {},
   "source": [
    "We use the clinical data with follow up and outcome data for the TCGA PanCancer Atlas from Liu et al1\n",
    "\n",
    "1: An Integrated TCGA Pan-Cancer Clinical Data Resource to Drive High-Quality Survival Outcome Analytics (https://pubmed.ncbi.nlm.nih.gov/29625055/)"
   ]
  },
  {
   "cell_type": "code",
   "execution_count": 45,
   "id": "4e1ad740-ad20-4eaa-8821-88d51d097e4a",
   "metadata": {},
   "outputs": [],
   "source": [
    "df_clinic = pd.read_pickle(os.path.join(tcga_data_path, 'df_patient_clinic.pkl'))\n",
    "df_mut = pd.read_pickle(os.path.join(tcga_data_path, 'df_patient_mut.pkl'))\n",
    "df_mut['msi'] = df_mut[['MSI-H', 'MSI-L', 'MSS']].idxmax(axis=1)\n",
    "df_mut['tmb'] = df_mut['tmb_wang'] \n",
    "df_mut['cnv'] = df_mut['scnv_jin_mean'] \n",
    "df_mut['msi_score'] = df_mut['MSIsensorScore']\n",
    "df_mut = df_mut[['tmb', 'cnv', 'msi', 'truncate_mut', 'nontruncate_mut', 'msi_score']]\n",
    "\n",
    "# pt_tbs = [pd.read_csv(patient, sep='\\t') for patient in patients]\n",
    "# df_patients = pd.concat(pt_tbs, axis=0)\n",
    "# df_patients = df_patients.set_index('bcr_patient_barcode')\n",
    "# scols = ['project', 'gender', 'height', 'weight', 'age_at_initial_pathologic_diagnosis', 'race_list', \n",
    "#          'vital_status', 'days_to_last_followup', 'days_to_death', 'person_neoplasm_cancer_status', \n",
    "#          'year_of_initial_pathologic_diagnosis', 'stage_event_clinical_stage', ]\n",
    "# df_patients = df_patients[scols]\n",
    "# df_patients = df_patients.loc[df4.index]\n",
    "# df_patients = df_patients.rename(columns={'project':'cancer_type'})\n",
    "\n",
    "df_patients = df4[['cancer_type']].join(df_clinic)\n",
    "df_patients = df_patients.join(df_mut)\n",
    "df_patients.to_pickle(os.path.join(tcga_data_path, 'PATIENTS.TABLE'))"
   ]
  },
  {
   "cell_type": "code",
   "execution_count": 46,
   "id": "cfba0c2b-9d3e-400e-8baa-6fb70748d929",
   "metadata": {},
   "outputs": [
    {
     "data": {
      "text/html": [
       "<div>\n",
       "<style scoped>\n",
       "    .dataframe tbody tr th:only-of-type {\n",
       "        vertical-align: middle;\n",
       "    }\n",
       "\n",
       "    .dataframe tbody tr th {\n",
       "        vertical-align: top;\n",
       "    }\n",
       "\n",
       "    .dataframe thead th {\n",
       "        text-align: right;\n",
       "    }\n",
       "</style>\n",
       "<table border=\"1\" class=\"dataframe\">\n",
       "  <thead>\n",
       "    <tr style=\"text-align: right;\">\n",
       "      <th></th>\n",
       "      <th>cancer_type</th>\n",
       "      <th>age</th>\n",
       "      <th>gender</th>\n",
       "      <th>race</th>\n",
       "      <th>stage</th>\n",
       "      <th>vital_status</th>\n",
       "      <th>tumor_status</th>\n",
       "      <th>treatment_outcome</th>\n",
       "      <th>os_status</th>\n",
       "      <th>os_time</th>\n",
       "      <th>pfi_status</th>\n",
       "      <th>pfi_time</th>\n",
       "      <th>tmb</th>\n",
       "      <th>cnv</th>\n",
       "      <th>msi</th>\n",
       "      <th>truncate_mut</th>\n",
       "      <th>nontruncate_mut</th>\n",
       "      <th>msi_score</th>\n",
       "    </tr>\n",
       "    <tr>\n",
       "      <th>bcr_patient_barcode</th>\n",
       "      <th></th>\n",
       "      <th></th>\n",
       "      <th></th>\n",
       "      <th></th>\n",
       "      <th></th>\n",
       "      <th></th>\n",
       "      <th></th>\n",
       "      <th></th>\n",
       "      <th></th>\n",
       "      <th></th>\n",
       "      <th></th>\n",
       "      <th></th>\n",
       "      <th></th>\n",
       "      <th></th>\n",
       "      <th></th>\n",
       "      <th></th>\n",
       "      <th></th>\n",
       "      <th></th>\n",
       "    </tr>\n",
       "  </thead>\n",
       "  <tbody>\n",
       "    <tr>\n",
       "      <th>TCGA-OR-A5KT</th>\n",
       "      <td>TCGA-ACC</td>\n",
       "      <td>44.0</td>\n",
       "      <td>FEMALE</td>\n",
       "      <td>WHITE</td>\n",
       "      <td>Stage I</td>\n",
       "      <td>Alive</td>\n",
       "      <td>TUMOR FREE</td>\n",
       "      <td>R</td>\n",
       "      <td>alive</td>\n",
       "      <td>2895.0</td>\n",
       "      <td>Progression</td>\n",
       "      <td>2099.0</td>\n",
       "      <td>-0.913960</td>\n",
       "      <td>0.164212</td>\n",
       "      <td>MSS</td>\n",
       "      <td>8.0</td>\n",
       "      <td>11.0</td>\n",
       "      <td>0.00</td>\n",
       "    </tr>\n",
       "    <tr>\n",
       "      <th>TCGA-OR-A5J9</th>\n",
       "      <td>TCGA-ACC</td>\n",
       "      <td>22.0</td>\n",
       "      <td>FEMALE</td>\n",
       "      <td>WHITE</td>\n",
       "      <td>Stage II</td>\n",
       "      <td>Alive</td>\n",
       "      <td>WITH TUMOR</td>\n",
       "      <td>R</td>\n",
       "      <td>alive</td>\n",
       "      <td>1352.0</td>\n",
       "      <td>Progression</td>\n",
       "      <td>414.0</td>\n",
       "      <td>-0.407000</td>\n",
       "      <td>-0.396697</td>\n",
       "      <td>MSI-H</td>\n",
       "      <td>1.0</td>\n",
       "      <td>26.0</td>\n",
       "      <td>0.90</td>\n",
       "    </tr>\n",
       "    <tr>\n",
       "      <th>TCGA-OR-A5K0</th>\n",
       "      <td>TCGA-ACC</td>\n",
       "      <td>69.0</td>\n",
       "      <td>FEMALE</td>\n",
       "      <td>WHITE</td>\n",
       "      <td>Stage II</td>\n",
       "      <td>Alive</td>\n",
       "      <td>WITH TUMOR</td>\n",
       "      <td>NR</td>\n",
       "      <td>alive</td>\n",
       "      <td>1029.0</td>\n",
       "      <td>Progression</td>\n",
       "      <td>659.0</td>\n",
       "      <td>0.264377</td>\n",
       "      <td>-0.266140</td>\n",
       "      <td>MSI-H</td>\n",
       "      <td>7.0</td>\n",
       "      <td>36.0</td>\n",
       "      <td>0.29</td>\n",
       "    </tr>\n",
       "    <tr>\n",
       "      <th>TCGA-OR-A5L6</th>\n",
       "      <td>TCGA-ACC</td>\n",
       "      <td>60.0</td>\n",
       "      <td>MALE</td>\n",
       "      <td>WHITE</td>\n",
       "      <td>Stage II</td>\n",
       "      <td>Alive</td>\n",
       "      <td>TUMOR FREE</td>\n",
       "      <td>R</td>\n",
       "      <td>alive</td>\n",
       "      <td>861.0</td>\n",
       "      <td>censored</td>\n",
       "      <td>861.0</td>\n",
       "      <td>-0.207691</td>\n",
       "      <td>-0.245839</td>\n",
       "      <td>MSI-H</td>\n",
       "      <td>3.0</td>\n",
       "      <td>28.0</td>\n",
       "      <td>2.35</td>\n",
       "    </tr>\n",
       "    <tr>\n",
       "      <th>TCGA-OR-A5LT</th>\n",
       "      <td>TCGA-ACC</td>\n",
       "      <td>57.0</td>\n",
       "      <td>MALE</td>\n",
       "      <td>[Not Evaluated]</td>\n",
       "      <td>Stage III</td>\n",
       "      <td>Alive</td>\n",
       "      <td>TUMOR FREE</td>\n",
       "      <td>R</td>\n",
       "      <td>alive</td>\n",
       "      <td>549.0</td>\n",
       "      <td>censored</td>\n",
       "      <td>549.0</td>\n",
       "      <td>-1.074425</td>\n",
       "      <td>0.045561</td>\n",
       "      <td>MSI-H</td>\n",
       "      <td>7.0</td>\n",
       "      <td>10.0</td>\n",
       "      <td>1.29</td>\n",
       "    </tr>\n",
       "    <tr>\n",
       "      <th>...</th>\n",
       "      <td>...</td>\n",
       "      <td>...</td>\n",
       "      <td>...</td>\n",
       "      <td>...</td>\n",
       "      <td>...</td>\n",
       "      <td>...</td>\n",
       "      <td>...</td>\n",
       "      <td>...</td>\n",
       "      <td>...</td>\n",
       "      <td>...</td>\n",
       "      <td>...</td>\n",
       "      <td>...</td>\n",
       "      <td>...</td>\n",
       "      <td>...</td>\n",
       "      <td>...</td>\n",
       "      <td>...</td>\n",
       "      <td>...</td>\n",
       "      <td>...</td>\n",
       "    </tr>\n",
       "    <tr>\n",
       "      <th>TCGA-V4-A9EX</th>\n",
       "      <td>TCGA-UVM</td>\n",
       "      <td>55.0</td>\n",
       "      <td>FEMALE</td>\n",
       "      <td>WHITE</td>\n",
       "      <td>Stage IIIA</td>\n",
       "      <td>Dead</td>\n",
       "      <td>WITH TUMOR</td>\n",
       "      <td>NaN</td>\n",
       "      <td>dead</td>\n",
       "      <td>730.0</td>\n",
       "      <td>Progression</td>\n",
       "      <td>381.0</td>\n",
       "      <td>-2.354533</td>\n",
       "      <td>-0.600253</td>\n",
       "      <td>MSI-H</td>\n",
       "      <td>2.0</td>\n",
       "      <td>5.0</td>\n",
       "      <td>0.26</td>\n",
       "    </tr>\n",
       "    <tr>\n",
       "      <th>TCGA-WC-A883</th>\n",
       "      <td>TCGA-UVM</td>\n",
       "      <td>76.0</td>\n",
       "      <td>FEMALE</td>\n",
       "      <td>WHITE</td>\n",
       "      <td>Stage IIIA</td>\n",
       "      <td>Dead</td>\n",
       "      <td>WITH TUMOR</td>\n",
       "      <td>NaN</td>\n",
       "      <td>dead</td>\n",
       "      <td>241.0</td>\n",
       "      <td>Progression</td>\n",
       "      <td>241.0</td>\n",
       "      <td>-2.161888</td>\n",
       "      <td>-0.171429</td>\n",
       "      <td>MSI-H</td>\n",
       "      <td>1.0</td>\n",
       "      <td>7.0</td>\n",
       "      <td>0.13</td>\n",
       "    </tr>\n",
       "    <tr>\n",
       "      <th>TCGA-V4-A9F7</th>\n",
       "      <td>TCGA-UVM</td>\n",
       "      <td>78.0</td>\n",
       "      <td>FEMALE</td>\n",
       "      <td>WHITE</td>\n",
       "      <td>Stage IIB</td>\n",
       "      <td>Alive</td>\n",
       "      <td>TUMOR FREE</td>\n",
       "      <td>NaN</td>\n",
       "      <td>alive</td>\n",
       "      <td>1256.0</td>\n",
       "      <td>censored</td>\n",
       "      <td>1256.0</td>\n",
       "      <td>-1.576925</td>\n",
       "      <td>-0.325085</td>\n",
       "      <td>MSI-L</td>\n",
       "      <td>2.0</td>\n",
       "      <td>10.0</td>\n",
       "      <td>0.04</td>\n",
       "    </tr>\n",
       "    <tr>\n",
       "      <th>TCGA-V4-A9F5</th>\n",
       "      <td>TCGA-UVM</td>\n",
       "      <td>85.0</td>\n",
       "      <td>FEMALE</td>\n",
       "      <td>WHITE</td>\n",
       "      <td>Stage IV</td>\n",
       "      <td>Alive</td>\n",
       "      <td>WITH TUMOR</td>\n",
       "      <td>NaN</td>\n",
       "      <td>alive</td>\n",
       "      <td>203.0</td>\n",
       "      <td>Progression</td>\n",
       "      <td>78.0</td>\n",
       "      <td>-2.161888</td>\n",
       "      <td>-0.472147</td>\n",
       "      <td>MSI-H</td>\n",
       "      <td>1.0</td>\n",
       "      <td>7.0</td>\n",
       "      <td>0.10</td>\n",
       "    </tr>\n",
       "    <tr>\n",
       "      <th>TCGA-V4-A9E8</th>\n",
       "      <td>TCGA-UVM</td>\n",
       "      <td>49.0</td>\n",
       "      <td>MALE</td>\n",
       "      <td>WHITE</td>\n",
       "      <td>Stage IIIA</td>\n",
       "      <td>Dead</td>\n",
       "      <td>WITH TUMOR</td>\n",
       "      <td>NaN</td>\n",
       "      <td>dead</td>\n",
       "      <td>808.0</td>\n",
       "      <td>Progression</td>\n",
       "      <td>557.0</td>\n",
       "      <td>-2.161888</td>\n",
       "      <td>-0.129384</td>\n",
       "      <td>MSI-H</td>\n",
       "      <td>3.0</td>\n",
       "      <td>5.0</td>\n",
       "      <td>0.12</td>\n",
       "    </tr>\n",
       "  </tbody>\n",
       "</table>\n",
       "<p>10184 rows × 18 columns</p>\n",
       "</div>"
      ],
      "text/plain": [
       "                    cancer_type   age  gender             race       stage  \\\n",
       "bcr_patient_barcode                                                          \n",
       "TCGA-OR-A5KT           TCGA-ACC  44.0  FEMALE            WHITE     Stage I   \n",
       "TCGA-OR-A5J9           TCGA-ACC  22.0  FEMALE            WHITE    Stage II   \n",
       "TCGA-OR-A5K0           TCGA-ACC  69.0  FEMALE            WHITE    Stage II   \n",
       "TCGA-OR-A5L6           TCGA-ACC  60.0    MALE            WHITE    Stage II   \n",
       "TCGA-OR-A5LT           TCGA-ACC  57.0    MALE  [Not Evaluated]   Stage III   \n",
       "...                         ...   ...     ...              ...         ...   \n",
       "TCGA-V4-A9EX           TCGA-UVM  55.0  FEMALE            WHITE  Stage IIIA   \n",
       "TCGA-WC-A883           TCGA-UVM  76.0  FEMALE            WHITE  Stage IIIA   \n",
       "TCGA-V4-A9F7           TCGA-UVM  78.0  FEMALE            WHITE   Stage IIB   \n",
       "TCGA-V4-A9F5           TCGA-UVM  85.0  FEMALE            WHITE    Stage IV   \n",
       "TCGA-V4-A9E8           TCGA-UVM  49.0    MALE            WHITE  Stage IIIA   \n",
       "\n",
       "                    vital_status tumor_status treatment_outcome os_status  \\\n",
       "bcr_patient_barcode                                                         \n",
       "TCGA-OR-A5KT               Alive   TUMOR FREE                 R     alive   \n",
       "TCGA-OR-A5J9               Alive   WITH TUMOR                 R     alive   \n",
       "TCGA-OR-A5K0               Alive   WITH TUMOR                NR     alive   \n",
       "TCGA-OR-A5L6               Alive   TUMOR FREE                 R     alive   \n",
       "TCGA-OR-A5LT               Alive   TUMOR FREE                 R     alive   \n",
       "...                          ...          ...               ...       ...   \n",
       "TCGA-V4-A9EX                Dead   WITH TUMOR               NaN      dead   \n",
       "TCGA-WC-A883                Dead   WITH TUMOR               NaN      dead   \n",
       "TCGA-V4-A9F7               Alive   TUMOR FREE               NaN     alive   \n",
       "TCGA-V4-A9F5               Alive   WITH TUMOR               NaN     alive   \n",
       "TCGA-V4-A9E8                Dead   WITH TUMOR               NaN      dead   \n",
       "\n",
       "                     os_time   pfi_status  pfi_time       tmb       cnv  \\\n",
       "bcr_patient_barcode                                                       \n",
       "TCGA-OR-A5KT          2895.0  Progression    2099.0 -0.913960  0.164212   \n",
       "TCGA-OR-A5J9          1352.0  Progression     414.0 -0.407000 -0.396697   \n",
       "TCGA-OR-A5K0          1029.0  Progression     659.0  0.264377 -0.266140   \n",
       "TCGA-OR-A5L6           861.0     censored     861.0 -0.207691 -0.245839   \n",
       "TCGA-OR-A5LT           549.0     censored     549.0 -1.074425  0.045561   \n",
       "...                      ...          ...       ...       ...       ...   \n",
       "TCGA-V4-A9EX           730.0  Progression     381.0 -2.354533 -0.600253   \n",
       "TCGA-WC-A883           241.0  Progression     241.0 -2.161888 -0.171429   \n",
       "TCGA-V4-A9F7          1256.0     censored    1256.0 -1.576925 -0.325085   \n",
       "TCGA-V4-A9F5           203.0  Progression      78.0 -2.161888 -0.472147   \n",
       "TCGA-V4-A9E8           808.0  Progression     557.0 -2.161888 -0.129384   \n",
       "\n",
       "                       msi  truncate_mut  nontruncate_mut  msi_score  \n",
       "bcr_patient_barcode                                                   \n",
       "TCGA-OR-A5KT           MSS           8.0             11.0       0.00  \n",
       "TCGA-OR-A5J9         MSI-H           1.0             26.0       0.90  \n",
       "TCGA-OR-A5K0         MSI-H           7.0             36.0       0.29  \n",
       "TCGA-OR-A5L6         MSI-H           3.0             28.0       2.35  \n",
       "TCGA-OR-A5LT         MSI-H           7.0             10.0       1.29  \n",
       "...                    ...           ...              ...        ...  \n",
       "TCGA-V4-A9EX         MSI-H           2.0              5.0       0.26  \n",
       "TCGA-WC-A883         MSI-H           1.0              7.0       0.13  \n",
       "TCGA-V4-A9F7         MSI-L           2.0             10.0       0.04  \n",
       "TCGA-V4-A9F5         MSI-H           1.0              7.0       0.10  \n",
       "TCGA-V4-A9E8         MSI-H           3.0              5.0       0.12  \n",
       "\n",
       "[10184 rows x 18 columns]"
      ]
     },
     "execution_count": 46,
     "metadata": {},
     "output_type": "execute_result"
    }
   ],
   "source": [
    "df_patients"
   ]
  },
  {
   "cell_type": "code",
   "execution_count": 47,
   "id": "3482e4bb-f820-48da-9f8b-4ca8f1caf2cc",
   "metadata": {},
   "outputs": [
    {
     "name": "stdout",
     "output_type": "stream",
     "text": [
      "-rw-rw-r-- 1 was966 was966 2.9M Oct 12 13:42 /n/data1/hms/dbmi/zitnik/lab/users/was966/TCGA/GDC_v37/Liu_TCGA_clinical.xlsx\n",
      "-rw-rw-r-- 1 was966 was966 6.4M Nov 10 14:17 /n/data1/hms/dbmi/zitnik/lab/users/was966/TCGA/GDC_v37/Noushin_Nat_Med_2023.xlsx\n"
     ]
    }
   ],
   "source": [
    "ls -lh /n/data1/hms/dbmi/zitnik/lab/users/was966/TCGA/GDC_v37/*.xlsx"
   ]
  },
  {
   "cell_type": "code",
   "execution_count": null,
   "id": "46fe69ac-490e-4265-a9f2-0926c4c08309",
   "metadata": {},
   "outputs": [],
   "source": []
  },
  {
   "cell_type": "code",
   "execution_count": null,
   "id": "dcbc0fc9-9bd7-4acb-9289-37a21c255ac3",
   "metadata": {},
   "outputs": [],
   "source": []
  },
  {
   "cell_type": "code",
   "execution_count": null,
   "id": "95634bbe-7291-402c-a893-28cad4b86343",
   "metadata": {},
   "outputs": [],
   "source": []
  },
  {
   "cell_type": "code",
   "execution_count": null,
   "id": "ec4364d2-eceb-48a8-aec6-045e56c226b9",
   "metadata": {},
   "outputs": [],
   "source": []
  },
  {
   "cell_type": "code",
   "execution_count": null,
   "id": "dc9cac49-2278-4fff-8c11-6ffc37f44f06",
   "metadata": {},
   "outputs": [],
   "source": []
  }
 ],
 "metadata": {
  "kernelspec": {
   "display_name": "Python 3 (ipykernel)",
   "language": "python",
   "name": "python3"
  },
  "language_info": {
   "codemirror_mode": {
    "name": "ipython",
    "version": 3
   },
   "file_extension": ".py",
   "mimetype": "text/x-python",
   "name": "python",
   "nbconvert_exporter": "python",
   "pygments_lexer": "ipython3",
   "version": "3.8.18"
  }
 },
 "nbformat": 4,
 "nbformat_minor": 5
}
