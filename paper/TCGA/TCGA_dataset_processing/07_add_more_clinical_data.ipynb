{
 "cells": [
  {
   "cell_type": "code",
   "execution_count": 1,
   "id": "70e85979-8fc7-4c87-b373-befd4057c332",
   "metadata": {},
   "outputs": [],
   "source": [
    "import pandas as pd\n",
    "import os\n",
    "from glob import glob\n",
    "import numpy as np\n",
    "import matplotlib.pyplot as plt\n",
    "captureSize = 35.8 #for tmb claculation\n",
    "import seaborn as sns\n",
    "sns.set(style = 'white', font_scale=1.5)"
   ]
  },
  {
   "cell_type": "code",
   "execution_count": 2,
   "id": "6060b58c-59e7-4a64-96cf-535593d5f62b",
   "metadata": {},
   "outputs": [
    {
     "name": "stdout",
     "output_type": "stream",
     "text": [
      "-rw-rw-r-- 1 was966 zitnik 4.5M Nov 16 18:27 /n/data1/hms/dbmi/zitnik/lab/users/was966/TCGA/GDC_v37/GENE.TABLE\n",
      "-rw-rw-r-- 1 was966 zitnik 2.1M Nov 16 18:25 /n/data1/hms/dbmi/zitnik/lab/users/was966/TCGA/GDC_v37/MYGENE.TABLE\n",
      "-rw-rw-r-- 1 was966 zitnik  75K Oct 12 15:25 /n/data1/hms/dbmi/zitnik/lab/users/was966/TCGA/GDC_v37/NORMAL.PATIENTS.TABLE\n",
      "-rw-rw-r-- 1 was966 zitnik 314M Oct 12 15:25 /n/data1/hms/dbmi/zitnik/lab/users/was966/TCGA/GDC_v37/NORMAL.TPM.TABLE\n",
      "-rw-rw-r-- 1 was966 zitnik 1.1M Nov 16 18:28 /n/data1/hms/dbmi/zitnik/lab/users/was966/TCGA/GDC_v37/PATIENTS.TABLE\n",
      "-rw-rw-r-- 1 was966 zitnik 1.6M Nov 10 15:44 /n/data1/hms/dbmi/zitnik/lab/users/was966/TCGA/GDC_v37/PATIENTS.v2.TABLE\n",
      "-rw-rw-r-- 1 was966 zitnik 4.4G Nov 16 18:28 /n/data1/hms/dbmi/zitnik/lab/users/was966/TCGA/GDC_v37/TPM.TABLE\n"
     ]
    }
   ],
   "source": [
    "tcga_data_path = '/n/data1/hms/dbmi/zitnik/lab/users/was966/TCGA/GDC_v37/'\n",
    "! ls -lh /n/data1/hms/dbmi/zitnik/lab/users/was966/TCGA/GDC_v37/*.TABLE"
   ]
  },
  {
   "cell_type": "code",
   "execution_count": 3,
   "id": "d22128be-4bcb-4942-985b-d69a320176dc",
   "metadata": {},
   "outputs": [],
   "source": [
    "\n",
    "## TCGA dataset\n",
    "tcga_gene = pd.read_pickle(os.path.join(tcga_data_path, 'GENE.TABLE'))\n",
    "tcga_patient = pd.read_pickle(os.path.join(tcga_data_path, 'PATIENTS.TABLE'))\n",
    "tcga_tpm = pd.read_pickle(os.path.join(tcga_data_path, 'TPM.TABLE'))\n"
   ]
  },
  {
   "cell_type": "code",
   "execution_count": 4,
   "id": "d1b8ad23-8e91-4579-b981-ad563a31b8e6",
   "metadata": {},
   "outputs": [],
   "source": [
    "dfm = pd.read_excel(os.path.join(tcga_data_path, 'Noushin_Nat_Med_2023.xlsx'), sheet_name='ST3', skiprows=[0], index_col=0)\n",
    "describe = dfm.iloc[-1]\n",
    "dfm = dfm.iloc[:-1]"
   ]
  },
  {
   "cell_type": "code",
   "execution_count": 5,
   "id": "710bc7a9-fbf2-4b72-ae5a-224f208247a4",
   "metadata": {},
   "outputs": [
    {
     "data": {
      "text/plain": [
       "9256"
      ]
     },
     "execution_count": 5,
     "metadata": {},
     "output_type": "execute_result"
    }
   ],
   "source": [
    "len(dfm)"
   ]
  },
  {
   "cell_type": "code",
   "execution_count": 6,
   "id": "e615ee5c-cde0-417d-859d-44230c92af48",
   "metadata": {},
   "outputs": [
    {
     "name": "stderr",
     "output_type": "stream",
     "text": [
      "/tmp/ipykernel_46635/3931213934.py:4: SettingWithCopyWarning: \n",
      "A value is trying to be set on a copy of a slice from a DataFrame.\n",
      "Try using .loc[row_indexer,col_indexer] = value instead\n",
      "\n",
      "See the caveats in the documentation: https://pandas.pydata.org/pandas-docs/stable/user_guide/indexing.html#returning-a-view-versus-a-copy\n",
      "  dfm1[dfm1.columns[1:]] = np.log2(dfm1[dfm1.columns[1:]] + 1)\n",
      "/tmp/ipykernel_46635/3931213934.py:5: SettingWithCopyWarning: \n",
      "A value is trying to be set on a copy of a slice from a DataFrame.\n",
      "Try using .loc[row_indexer,col_indexer] = value instead\n",
      "\n",
      "See the caveats in the documentation: https://pandas.pydata.org/pandas-docs/stable/user_guide/indexing.html#returning-a-view-versus-a-copy\n",
      "  dfm1.Noushin_OSS = dfm1.Noushin_OSS.map({1:'Dead', 0:'Alive'})\n"
     ]
    }
   ],
   "source": [
    "dfm1 = dfm[['Stage', 'OS (Months)', 'OS Cens. (1=Dead,0=Alive)', 'TMB', \n",
    "     'Persistent Mutations', 'Clonal Persistent Mutations', 'Clonal Mutations']]\n",
    "dfm1.columns = ['Noushin_stage', 'Noushin_OST', 'Noushin_OSS', 'Noushin_TMB', 'Noushin_pTMB', 'Noushin_cpTMB', 'Noushin_cTMB']\n",
    "dfm1[dfm1.columns[1:]] = np.log2(dfm1[dfm1.columns[1:]] + 1)\n",
    "dfm1.Noushin_OSS = dfm1.Noushin_OSS.map({1:'Dead', 0:'Alive'})\n",
    "\n",
    "tcga_patient1 = tcga_patient.join(dfm1)\n",
    "tcga_patient1['os_time'] = np.log2(tcga_patient1.os_time+1)\n",
    "tcga_patient1['pfi_time'] = np.log2(tcga_patient1.pfi_time+1)"
   ]
  },
  {
   "cell_type": "code",
   "execution_count": 60,
   "id": "4bca836e-b058-48ed-aaf1-7e8981c9a870",
   "metadata": {
    "scrolled": true
   },
   "outputs": [],
   "source": [
    "tcga_patient1.to_pickle(os.path.join(tcga_data_path, 'PATIENTS.v2.TABLE'))"
   ]
  },
  {
   "cell_type": "code",
   "execution_count": 17,
   "id": "da93a37a-b4a9-4418-a5d4-b3daf993f367",
   "metadata": {},
   "outputs": [],
   "source": [
    "#np.log(dfm1.Noushin_pTMB+1).hist(bins=20)"
   ]
  },
  {
   "cell_type": "code",
   "execution_count": null,
   "id": "a818d9da-a681-468f-9366-60ae05fd8ab4",
   "metadata": {},
   "outputs": [],
   "source": []
  }
 ],
 "metadata": {
  "kernelspec": {
   "display_name": "Python 3 (ipykernel)",
   "language": "python",
   "name": "python3"
  },
  "language_info": {
   "codemirror_mode": {
    "name": "ipython",
    "version": 3
   },
   "file_extension": ".py",
   "mimetype": "text/x-python",
   "name": "python",
   "nbconvert_exporter": "python",
   "pygments_lexer": "ipython3",
   "version": "3.8.18"
  }
 },
 "nbformat": 4,
 "nbformat_minor": 5
}
