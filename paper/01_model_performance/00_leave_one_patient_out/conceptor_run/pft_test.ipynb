{
 "cells": [
  {
   "cell_type": "code",
   "execution_count": 2,
   "id": "9f09932a-7f49-478a-8b51-82a0e898d837",
   "metadata": {},
   "outputs": [],
   "source": [
    "#!/home/was966/micromamba/envs/responder/bin/python\n",
    "#sbatch --mem 64G -c 4 -t 12:00:00 -p gpu_quad --gres=gpu:rtx8000:1 ./01_cohort_to_cohort_transfer.py\n",
    "\n",
    "import sys\n",
    "\n",
    "sys.path.insert(0, '/home/was966/Research/mims-conceptor/')\n",
    "from conceptor.utils import plot_embed_with_label\n",
    "from conceptor import PreTrainer, FineTuner, loadconceptor #, get_minmal_epoch\n",
    "from conceptor.utils import plot_embed_with_label,plot_performance, score\n",
    "from conceptor.tokenizer import CANCER_CODE\n",
    "\n",
    "import os\n",
    "from tqdm import tqdm\n",
    "from itertools import chain\n",
    "import pandas as pd\n",
    "import numpy as np\n",
    "import random, torch\n",
    "import matplotlib.pyplot as plt\n",
    "import seaborn as sns\n",
    "sns.set(style = 'white', font_scale=1.3)\n",
    "import warnings\n",
    "warnings.filterwarnings(\"ignore\")\n",
    "\n",
    "def onehot(S):\n",
    "    assert type(S) == pd.Series, 'Input type should be pd.Series'\n",
    "    dfd = pd.get_dummies(S, dummy_na=True)\n",
    "    nanidx = dfd[dfd[np.nan].astype(bool)].index\n",
    "    dfd.loc[nanidx, :] = np.nan\n",
    "    dfd = dfd.drop(columns=[np.nan])*1.\n",
    "    cols = dfd.sum().sort_values(ascending=False).index.tolist()\n",
    "    dfd = dfd[cols]\n",
    "    return dfd\n"
   ]
  },
  {
   "cell_type": "code",
   "execution_count": 3,
   "id": "864a3dab-6983-4f14-80d4-7a32d3cd9723",
   "metadata": {},
   "outputs": [
    {
     "data": {
      "text/plain": [
       "((1133, 15672), (1133, 111))"
      ]
     },
     "execution_count": 3,
     "metadata": {},
     "output_type": "execute_result"
    }
   ],
   "source": [
    "pretrainer = loadconceptor('../../checkpoint/latest/pretrainer.pt')\n",
    "data_path = '../../00_data/'\n",
    "df_label = pd.read_pickle(os.path.join(data_path, 'ITRP.PATIENT.TABLE'))\n",
    "df_tpm = pd.read_pickle(os.path.join(data_path, 'ITRP.TPM.TABLE'))\n",
    "df_tpm.shape, df_label.shape"
   ]
  },
  {
   "cell_type": "code",
   "execution_count": 4,
   "id": "faf0b140-f867-491e-9b6d-b7747005ed6e",
   "metadata": {
    "scrolled": true
   },
   "outputs": [],
   "source": [
    "df_task = onehot(df_label.response_label)\n",
    "size = df_label.groupby('cohort').size()\n",
    "size = size.index + \"\\n(n = \" + size.astype(str) + \")\"\n",
    "\n",
    "dfcx = df_label.cancer_type.map(CANCER_CODE).to_frame('cancer_code').join(df_tpm)\n",
    "dfy = df_task\n",
    "cohorts = df_label.groupby('cohort').size().sort_values().index.tolist()\n",
    "\n",
    "from sklearn.model_selection import LeaveOneOut\n",
    "loo = LeaveOneOut()"
   ]
  },
  {
   "cell_type": "code",
   "execution_count": 5,
   "id": "78e65236-5857-410f-9c40-f7089084b185",
   "metadata": {},
   "outputs": [
    {
     "data": {
      "text/plain": [
       "cohort\n",
       "Choueiri           Choueiri\\n(n = 16)\n",
       "Miao                   Miao\\n(n = 17)\n",
       "Snyder               Snyder\\n(n = 21)\n",
       "SU2CLC2             SU2CLC2\\n(n = 25)\n",
       "Zhao                   Zhao\\n(n = 25)\n",
       "Hugo                   Hugo\\n(n = 26)\n",
       "MGH                     MGH\\n(n = 34)\n",
       "Allen                 Allen\\n(n = 39)\n",
       "Kim                     Kim\\n(n = 45)\n",
       "Riaz                   Riaz\\n(n = 51)\n",
       "Gide                   Gide\\n(n = 73)\n",
       "Rose                   Rose\\n(n = 89)\n",
       "SU2CLC1            SU2CLC1\\n(n = 102)\n",
       "Liu                    Liu\\n(n = 107)\n",
       "IMmotion150    IMmotion150\\n(n = 165)\n",
       "IMVigor210      IMVigor210\\n(n = 298)\n",
       "dtype: object"
      ]
     },
     "execution_count": 5,
     "metadata": {},
     "output_type": "execute_result"
    }
   ],
   "source": [
    "size.loc[cohorts]\n",
    "# small-cohort: < 30, median cohort: 30-100, large-cohort: > 100"
   ]
  },
  {
   "cell_type": "code",
   "execution_count": 6,
   "id": "0534e2e9-e956-4028-9a0a-ba32eda4740b",
   "metadata": {},
   "outputs": [
    {
     "name": "stdout",
     "output_type": "stream",
     "text": [
      "15 1\n"
     ]
    },
    {
     "name": "stderr",
     "output_type": "stream",
     "text": [
      "  9%|9         | 9/100 [00:10<01:46,  1.17s/it]"
     ]
    },
    {
     "name": "stdout",
     "output_type": "stream",
     "text": [
      "Stopping early at epoch 10. Meet minimal requirements by: f1=1.00,mcc=1.00,prc=1.00, roc=1.00\n"
     ]
    },
    {
     "name": "stderr",
     "output_type": "stream",
     "text": [
      "\n",
      "100%|##########| 1/1 [00:00<00:00,  2.67it/s]\n"
     ]
    },
    {
     "name": "stdout",
     "output_type": "stream",
     "text": [
      "15 1\n"
     ]
    },
    {
     "name": "stderr",
     "output_type": "stream",
     "text": [
      " 17%|#7        | 17/100 [00:18<01:32,  1.11s/it]"
     ]
    },
    {
     "name": "stdout",
     "output_type": "stream",
     "text": [
      "Stopping early at epoch 18. Meet minimal requirements by: f1=1.00,mcc=1.00,prc=1.00, roc=1.00\n"
     ]
    },
    {
     "name": "stderr",
     "output_type": "stream",
     "text": [
      "\n",
      "100%|##########| 1/1 [00:00<00:00,  3.69it/s]\n"
     ]
    },
    {
     "name": "stdout",
     "output_type": "stream",
     "text": [
      "15 1\n"
     ]
    },
    {
     "name": "stderr",
     "output_type": "stream",
     "text": [
      " 14%|#4        | 14/100 [00:14<01:27,  1.02s/it]"
     ]
    },
    {
     "name": "stdout",
     "output_type": "stream",
     "text": [
      "Stopping early at epoch 15. Meet minimal requirements by: f1=1.00,mcc=1.00,prc=1.00, roc=1.00\n"
     ]
    },
    {
     "name": "stderr",
     "output_type": "stream",
     "text": [
      "\n",
      "100%|##########| 1/1 [00:00<00:00,  2.79it/s]\n"
     ]
    },
    {
     "name": "stdout",
     "output_type": "stream",
     "text": [
      "15 1\n"
     ]
    },
    {
     "name": "stderr",
     "output_type": "stream",
     "text": [
      " 16%|#6        | 16/100 [00:17<01:30,  1.07s/it]"
     ]
    },
    {
     "name": "stdout",
     "output_type": "stream",
     "text": [
      "Stopping early at epoch 17. Meet minimal requirements by: f1=1.00,mcc=1.00,prc=1.00, roc=1.00\n"
     ]
    },
    {
     "name": "stderr",
     "output_type": "stream",
     "text": [
      "\n",
      "100%|##########| 1/1 [00:00<00:00,  3.03it/s]\n"
     ]
    },
    {
     "name": "stdout",
     "output_type": "stream",
     "text": [
      "15 1\n"
     ]
    },
    {
     "name": "stderr",
     "output_type": "stream",
     "text": [
      " 14%|#4        | 14/100 [00:14<01:30,  1.06s/it]"
     ]
    },
    {
     "name": "stdout",
     "output_type": "stream",
     "text": [
      "Stopping early at epoch 15. Meet minimal requirements by: f1=1.00,mcc=1.00,prc=1.00, roc=1.00\n"
     ]
    },
    {
     "name": "stderr",
     "output_type": "stream",
     "text": [
      "\n",
      "100%|##########| 1/1 [00:00<00:00,  3.11it/s]\n"
     ]
    },
    {
     "name": "stdout",
     "output_type": "stream",
     "text": [
      "15 1\n"
     ]
    },
    {
     "name": "stderr",
     "output_type": "stream",
     "text": [
      " 16%|#6        | 16/100 [00:16<01:26,  1.03s/it]"
     ]
    },
    {
     "name": "stdout",
     "output_type": "stream",
     "text": [
      "Stopping early at epoch 17. Meet minimal requirements by: f1=1.00,mcc=1.00,prc=1.00, roc=1.00\n"
     ]
    },
    {
     "name": "stderr",
     "output_type": "stream",
     "text": [
      "\n",
      "100%|##########| 1/1 [00:00<00:00,  3.67it/s]\n"
     ]
    },
    {
     "name": "stdout",
     "output_type": "stream",
     "text": [
      "15 1\n"
     ]
    },
    {
     "name": "stderr",
     "output_type": "stream",
     "text": [
      " 12%|#2        | 12/100 [00:12<01:34,  1.08s/it]"
     ]
    },
    {
     "name": "stdout",
     "output_type": "stream",
     "text": [
      "Stopping early at epoch 13. Meet minimal requirements by: f1=1.00,mcc=1.00,prc=1.00, roc=1.00\n"
     ]
    },
    {
     "name": "stderr",
     "output_type": "stream",
     "text": [
      "\n",
      "100%|##########| 1/1 [00:00<00:00,  3.19it/s]\n"
     ]
    },
    {
     "name": "stdout",
     "output_type": "stream",
     "text": [
      "15 1\n"
     ]
    },
    {
     "name": "stderr",
     "output_type": "stream",
     "text": [
      " 12%|#2        | 12/100 [00:14<01:43,  1.17s/it]"
     ]
    },
    {
     "name": "stdout",
     "output_type": "stream",
     "text": [
      "Stopping early at epoch 13. Meet minimal requirements by: f1=1.00,mcc=1.00,prc=1.00, roc=1.00\n"
     ]
    },
    {
     "name": "stderr",
     "output_type": "stream",
     "text": [
      "\n",
      "100%|##########| 1/1 [00:00<00:00,  2.68it/s]\n"
     ]
    },
    {
     "name": "stdout",
     "output_type": "stream",
     "text": [
      "15 1\n"
     ]
    },
    {
     "name": "stderr",
     "output_type": "stream",
     "text": [
      "  7%|7         | 7/100 [00:08<01:50,  1.19s/it]"
     ]
    },
    {
     "name": "stdout",
     "output_type": "stream",
     "text": [
      "Stopping early at epoch  8. Meet minimal requirements by: f1=1.00,mcc=1.00,prc=1.00, roc=1.00\n"
     ]
    },
    {
     "name": "stderr",
     "output_type": "stream",
     "text": [
      "\n",
      "100%|##########| 1/1 [00:00<00:00,  2.58it/s]\n"
     ]
    },
    {
     "name": "stdout",
     "output_type": "stream",
     "text": [
      "15 1\n"
     ]
    },
    {
     "name": "stderr",
     "output_type": "stream",
     "text": [
      "  7%|7         | 7/100 [00:08<01:54,  1.23s/it]"
     ]
    },
    {
     "name": "stdout",
     "output_type": "stream",
     "text": [
      "Stopping early at epoch  8. Meet minimal requirements by: f1=1.00,mcc=1.00,prc=1.00, roc=1.00\n"
     ]
    },
    {
     "name": "stderr",
     "output_type": "stream",
     "text": [
      "\n",
      "100%|##########| 1/1 [00:00<00:00,  3.45it/s]\n"
     ]
    },
    {
     "name": "stdout",
     "output_type": "stream",
     "text": [
      "15 1\n"
     ]
    },
    {
     "name": "stderr",
     "output_type": "stream",
     "text": [
      "  7%|7         | 7/100 [00:08<01:47,  1.16s/it]"
     ]
    },
    {
     "name": "stdout",
     "output_type": "stream",
     "text": [
      "Stopping early at epoch  8. Meet minimal requirements by: f1=1.00,mcc=1.00,prc=1.00, roc=1.00\n"
     ]
    },
    {
     "name": "stderr",
     "output_type": "stream",
     "text": [
      "\n",
      "100%|##########| 1/1 [00:00<00:00,  3.08it/s]\n"
     ]
    },
    {
     "name": "stdout",
     "output_type": "stream",
     "text": [
      "15 1\n"
     ]
    },
    {
     "name": "stderr",
     "output_type": "stream",
     "text": [
      "  7%|7         | 7/100 [00:08<01:51,  1.20s/it]"
     ]
    },
    {
     "name": "stdout",
     "output_type": "stream",
     "text": [
      "Stopping early at epoch  8. Meet minimal requirements by: f1=1.00,mcc=1.00,prc=1.00, roc=1.00\n"
     ]
    },
    {
     "name": "stderr",
     "output_type": "stream",
     "text": [
      "\n",
      "100%|##########| 1/1 [00:00<00:00,  3.08it/s]\n"
     ]
    },
    {
     "name": "stdout",
     "output_type": "stream",
     "text": [
      "15 1\n"
     ]
    },
    {
     "name": "stderr",
     "output_type": "stream",
     "text": [
      "  7%|7         | 7/100 [00:07<01:46,  1.14s/it]"
     ]
    },
    {
     "name": "stdout",
     "output_type": "stream",
     "text": [
      "Stopping early at epoch  8. Meet minimal requirements by: f1=1.00,mcc=1.00,prc=1.00, roc=1.00\n"
     ]
    },
    {
     "name": "stderr",
     "output_type": "stream",
     "text": [
      "\n",
      "100%|##########| 1/1 [00:00<00:00,  3.23it/s]\n"
     ]
    },
    {
     "name": "stdout",
     "output_type": "stream",
     "text": [
      "15 1\n"
     ]
    },
    {
     "name": "stderr",
     "output_type": "stream",
     "text": [
      " 22%|##2       | 22/100 [00:22<01:21,  1.04s/it]"
     ]
    },
    {
     "name": "stdout",
     "output_type": "stream",
     "text": [
      "Stopping early at epoch 23. Meet minimal requirements by: f1=1.00,mcc=1.00,prc=1.00, roc=1.00\n"
     ]
    },
    {
     "name": "stderr",
     "output_type": "stream",
     "text": [
      "\n",
      "100%|##########| 1/1 [00:00<00:00,  2.72it/s]\n"
     ]
    },
    {
     "name": "stdout",
     "output_type": "stream",
     "text": [
      "15 1\n"
     ]
    },
    {
     "name": "stderr",
     "output_type": "stream",
     "text": [
      " 17%|#7        | 17/100 [00:17<01:27,  1.06s/it]"
     ]
    },
    {
     "name": "stdout",
     "output_type": "stream",
     "text": [
      "Stopping early at epoch 18. Meet minimal requirements by: f1=1.00,mcc=1.00,prc=1.00, roc=1.00\n"
     ]
    },
    {
     "name": "stderr",
     "output_type": "stream",
     "text": [
      "\n",
      "100%|##########| 1/1 [00:00<00:00,  3.73it/s]\n"
     ]
    },
    {
     "name": "stdout",
     "output_type": "stream",
     "text": [
      "15 1\n"
     ]
    },
    {
     "name": "stderr",
     "output_type": "stream",
     "text": [
      " 13%|#3        | 13/100 [00:13<01:31,  1.05s/it]"
     ]
    },
    {
     "name": "stdout",
     "output_type": "stream",
     "text": [
      "Stopping early at epoch 14. Meet minimal requirements by: f1=1.00,mcc=1.00,prc=1.00, roc=1.00\n"
     ]
    },
    {
     "name": "stderr",
     "output_type": "stream",
     "text": [
      "\n",
      "100%|##########| 1/1 [00:00<00:00,  2.87it/s]\n"
     ]
    },
    {
     "data": {
      "image/png": "[encoded data removed]",
      "text/plain": [
       "<Figure size 800x300 with 3 Axes>"
      ]
     },
     "metadata": {},
     "output_type": "display_data"
    }
   ],
   "source": [
    "cohorts =  ['Choueiri']\n",
    "mode = 'PFT'\n",
    "seed = 42\n",
    "params = {'mode': mode,\n",
    "            'seed':seed,\n",
    "            'lr': 1e-2,\n",
    "            'device':'cuda',\n",
    "            'weight_decay': 1e-4,\n",
    "            'batch_size':8,\n",
    "            'max_epochs': 100,\n",
    "            'task_loss_weight':1,\n",
    "            'load_decoder':False,\n",
    "            'task_dense_layer': [16],\n",
    "            'task_batch_norms':True,\n",
    "            'entropy_weight': 0.0,\n",
    "            'with_wandb': False,\n",
    "            'save_best_model':False,\n",
    "            'verbose': False}\n",
    "\n",
    "\n",
    "work_dir = './Test_%s_%s' % (mode, seed)\n",
    "if not os.path.exists(work_dir):\n",
    "    os.makedirs(work_dir)\n",
    "\n",
    "\n",
    "res = []\n",
    "for cohort in cohorts:\n",
    "    cohort_idx = df_label[df_label['cohort']==cohort].index\n",
    "    cohort_X = dfcx.loc[cohort_idx]\n",
    "    cohort_y = dfy.loc[cohort_idx]\n",
    "\n",
    "    if len(cohort_idx) > 100:\n",
    "        params['batch_size'] = 16\n",
    "    else:\n",
    "        params['batch_size'] = 8\n",
    "\n",
    "        \n",
    "    test_cohort_name = cohort\n",
    "    predict_res = []\n",
    "    for train_idx, test_idx in loo.split(cohort_idx):\n",
    "        print(len(train_idx), len(test_idx))\n",
    "        train_X = cohort_X.iloc[train_idx]\n",
    "        train_y = cohort_y.iloc[train_idx]\n",
    "        test_X = cohort_X.iloc[test_idx]    \n",
    "        test_y = cohort_y.iloc[test_idx]\n",
    "\n",
    "        pretrainer = pretrainer.copy()\n",
    "        finetuner = FineTuner(pretrainer, **params, \n",
    "                              work_dir= work_dir, \n",
    "                              task_name = 'Test_on_%s' % test_cohort_name, \n",
    "                              task_type='c')\n",
    "        \n",
    "        finetuner = finetuner.tune(dfcx_train = train_X,\n",
    "                                   dfy_train = train_y, min_mcc=0.8)\n",
    "        _, pred_testy = finetuner.predict(test_X, batch_size = 16)\n",
    "        pred_testy['best_epoch'] = finetuner.best_epoch\n",
    "\n",
    "        pred_testy['cohort'] = test_cohort_name\n",
    "        pred_testy['n_trainable_params'] = finetuner.count_parameters()\n",
    "        pred_testy['mode'] = mode\n",
    "        pred_testy['seed'] = seed\n",
    "        pred_testy['batch_size'] = params['batch_size']\n",
    "        pred_testy['task_dense_layer'] = str(params['task_dense_layer'])\n",
    "        predict_res.append(pred_testy)\n",
    "\n",
    "\n",
    "    df_pred = pd.concat(predict_res)\n",
    "    dfp = cohort_y.join(df_pred)\n",
    "    dfp.to_csv(os.path.join(work_dir, '%s.csv' % test_cohort_name ))\n",
    "    \n",
    "    y_true, y_prob, y_pred = dfp['R'], dfp[1], dfp[[0, 1]].idxmax(axis=1)\n",
    "    s2 = score(y_true, y_prob, y_pred)\n",
    "    dfs = pd.DataFrame([s2], columns = ['ROC', 'PRC', 'F1', 'ACC'], index = ['Test'])\n",
    "    dfs['cohort'] = test_cohort_name\n",
    "    dfs['mode'] = mode\n",
    "    dfs['seed'] = seed\n",
    "    \n",
    "    fig = plot_performance(y_true, y_prob, y_pred)\n",
    "    fig.suptitle('Leave-One-Out in %s' % test_cohort_name, fontsize=16)\n",
    "    fig.savefig(os.path.join(work_dir, 'leave_one_out_%s.jpg' % test_cohort_name))\n",
    "\n",
    "    res.append(dfs)\n",
    "\n",
    "dfres = pd.concat(res) #.reset_index(drop=True)\n",
    "dfres.to_csv(os.path.join(work_dir, 'performance.tsv'), sep='\\t')"
   ]
  },
  {
   "cell_type": "code",
   "execution_count": null,
   "id": "5cdf468f-40d1-4d3b-ae33-0673ee51f692",
   "metadata": {},
   "outputs": [],
   "source": []
  },
  {
   "cell_type": "code",
   "execution_count": null,
   "id": "2ab18d49-9fbe-4c37-9320-832602b6e99b",
   "metadata": {},
   "outputs": [],
   "source": []
  },
  {
   "cell_type": "code",
   "execution_count": 7,
   "id": "5c028b17-61d1-47d6-81e7-8ba8707c04fb",
   "metadata": {},
   "outputs": [
    {
     "data": {
      "text/html": [
       "<div>\n",
       "<style scoped>\n",
       "    .dataframe tbody tr th:only-of-type {\n",
       "        vertical-align: middle;\n",
       "    }\n",
       "\n",
       "    .dataframe tbody tr th {\n",
       "        vertical-align: top;\n",
       "    }\n",
       "\n",
       "    .dataframe thead th {\n",
       "        text-align: right;\n",
       "    }\n",
       "</style>\n",
       "<table border=\"1\" class=\"dataframe\">\n",
       "  <thead>\n",
       "    <tr style=\"text-align: right;\">\n",
       "      <th></th>\n",
       "      <th>ROC</th>\n",
       "      <th>PRC</th>\n",
       "      <th>F1</th>\n",
       "      <th>ACC</th>\n",
       "      <th>cohort</th>\n",
       "      <th>mode</th>\n",
       "      <th>seed</th>\n",
       "    </tr>\n",
       "  </thead>\n",
       "  <tbody>\n",
       "    <tr>\n",
       "      <th>Test</th>\n",
       "      <td>0.410256</td>\n",
       "      <td>0.145869</td>\n",
       "      <td>0.2</td>\n",
       "      <td>0.5</td>\n",
       "      <td>Choueiri</td>\n",
       "      <td>PFT</td>\n",
       "      <td>42</td>\n",
       "    </tr>\n",
       "  </tbody>\n",
       "</table>\n",
       "</div>"
      ],
      "text/plain": [
       "           ROC       PRC   F1  ACC    cohort mode  seed\n",
       "Test  0.410256  0.145869  0.2  0.5  Choueiri  PFT    42"
      ]
     },
     "execution_count": 7,
     "metadata": {},
     "output_type": "execute_result"
    }
   ],
   "source": [
    "dfs"
   ]
  },
  {
   "cell_type": "code",
   "execution_count": 8,
   "id": "33d37fe2-eac3-4d27-a65b-5ca3ee975cab",
   "metadata": {},
   "outputs": [
    {
     "data": {
      "text/plain": [
       "(0.4102564102564102, 0.1458689458689459, 0.2, 0.5, -0.10087125544480041)"
      ]
     },
     "execution_count": 8,
     "metadata": {},
     "output_type": "execute_result"
    }
   ],
   "source": [
    "from conceptor.utils import plot_embed_with_label,plot_performance, score2\n",
    "score2(y_true, y_prob, y_pred)"
   ]
  },
  {
   "cell_type": "code",
   "execution_count": 9,
   "id": "369e4c02-9348-45c5-81f6-90a0b02936d2",
   "metadata": {},
   "outputs": [
    {
     "data": {
      "text/html": [
       "<div>\n",
       "<style scoped>\n",
       "    .dataframe tbody tr th:only-of-type {\n",
       "        vertical-align: middle;\n",
       "    }\n",
       "\n",
       "    .dataframe tbody tr th {\n",
       "        vertical-align: top;\n",
       "    }\n",
       "\n",
       "    .dataframe thead th {\n",
       "        text-align: right;\n",
       "    }\n",
       "</style>\n",
       "<table border=\"1\" class=\"dataframe\">\n",
       "  <thead>\n",
       "    <tr style=\"text-align: right;\">\n",
       "      <th></th>\n",
       "      <th>ROC</th>\n",
       "      <th>PRC</th>\n",
       "      <th>F1</th>\n",
       "      <th>ACC</th>\n",
       "      <th>cohort</th>\n",
       "      <th>mode</th>\n",
       "      <th>seed</th>\n",
       "    </tr>\n",
       "  </thead>\n",
       "  <tbody>\n",
       "    <tr>\n",
       "      <th>Test</th>\n",
       "      <td>0.410256</td>\n",
       "      <td>0.145869</td>\n",
       "      <td>0.2</td>\n",
       "      <td>0.5</td>\n",
       "      <td>Choueiri</td>\n",
       "      <td>PFT</td>\n",
       "      <td>42</td>\n",
       "    </tr>\n",
       "  </tbody>\n",
       "</table>\n",
       "</div>"
      ],
      "text/plain": [
       "           ROC       PRC   F1  ACC    cohort mode  seed\n",
       "Test  0.410256  0.145869  0.2  0.5  Choueiri  PFT    42"
      ]
     },
     "execution_count": 9,
     "metadata": {},
     "output_type": "execute_result"
    }
   ],
   "source": [
    "dfs"
   ]
  },
  {
   "cell_type": "code",
   "execution_count": 10,
   "id": "d6c7699d-9bce-4f51-a98a-eb85b0eb299e",
   "metadata": {},
   "outputs": [
    {
     "data": {
      "text/plain": [
       "tensor(0.9051, device='cuda:0', grad_fn=<ExpBackward0>)"
      ]
     },
     "execution_count": 10,
     "metadata": {},
     "output_type": "execute_result"
    }
   ],
   "source": [
    "torch.exp(finetuner.model.taskdecoder.log_temperature)"
   ]
  },
  {
   "cell_type": "code",
   "execution_count": null,
   "id": "ead7422b-6f61-457e-bf03-5b8d6a9c52ed",
   "metadata": {},
   "outputs": [],
   "source": []
  },
  {
   "cell_type": "code",
   "execution_count": null,
   "id": "47a56ff0-7c23-4718-b69f-597411034335",
   "metadata": {},
   "outputs": [],
   "source": []
  },
  {
   "cell_type": "code",
   "execution_count": null,
   "id": "7965df43-7ac9-4db2-b04c-f1ce8f475171",
   "metadata": {},
   "outputs": [],
   "source": []
  },
  {
   "cell_type": "code",
   "execution_count": null,
   "id": "7aec75ee-4bc8-4f94-8da2-f9a201de1882",
   "metadata": {},
   "outputs": [],
   "source": []
  },
  {
   "cell_type": "code",
   "execution_count": null,
   "id": "57e71d45-be97-4148-b246-30a233b40151",
   "metadata": {},
   "outputs": [],
   "source": []
  },
  {
   "cell_type": "code",
   "execution_count": null,
   "id": "8131923a-bd3c-4abe-a36a-7c11e886b104",
   "metadata": {},
   "outputs": [],
   "source": []
  }
 ],
 "metadata": {
  "kernelspec": {
   "display_name": "Python 3 (ipykernel)",
   "language": "python",
   "name": "python3"
  },
  "language_info": {
   "codemirror_mode": {
    "name": "ipython",
    "version": 3
   },
   "file_extension": ".py",
   "mimetype": "text/x-python",
   "name": "python",
   "nbconvert_exporter": "python",
   "pygments_lexer": "ipython3",
   "version": "3.8.18"
  }
 },
 "nbformat": 4,
 "nbformat_minor": 5
}
