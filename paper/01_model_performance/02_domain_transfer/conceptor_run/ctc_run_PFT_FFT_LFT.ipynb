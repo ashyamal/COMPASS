{
 "cells": [
  {
   "cell_type": "code",
   "execution_count": 1,
   "id": "cb8793e4-40b4-4d73-b1e5-704959b5c091",
   "metadata": {},
   "outputs": [],
   "source": [
    "#!/home/was966/micromamba/envs/responder/bin/python\n",
    "#sbatch --mem 64G -c 12 -t 100:00:00 -p priority  ./ctct_run_all.py\n",
    "# Tesla M40\n",
    "import os\n",
    "from tqdm import tqdm\n",
    "from itertools import chain\n",
    "import pandas as pd\n",
    "import numpy as np\n",
    "import random, torch\n",
    "import matplotlib.pyplot as plt\n",
    "import seaborn as sns\n",
    "sns.set(style = 'white', font_scale=1.3)\n",
    "import warnings\n",
    "warnings.filterwarnings(\"ignore\")\n",
    "\n",
    "\n",
    "from sklearn.model_selection import GridSearchCV, LeaveOneOut\n",
    "from sklearn.preprocessing import StandardScaler\n",
    "from sklearn.linear_model import LogisticRegression\n",
    "\n",
    "\n",
    "import sys\n",
    "sys.path.insert(0, '/home/was966/Research/mims-conceptor/')\n",
    "from baseline.immnue_score import immnue_score_methods\n",
    "from conceptor.utils import plot_embed_with_label,plot_performance, score, score2\n",
    "from conceptor import PreTrainer, FineTuner, loadconceptor\n",
    "\n",
    "def onehot(S):\n",
    "    assert type(S) == pd.Series, 'Input type should be pd.Series'\n",
    "    dfd = pd.get_dummies(S, dummy_na=True)\n",
    "    nanidx = dfd[dfd[np.nan].astype(bool)].index\n",
    "    dfd.loc[nanidx, :] = np.nan\n",
    "    dfd = dfd.drop(columns=[np.nan])*1.\n",
    "    cols = dfd.sum().sort_values(ascending=False).index.tolist()\n",
    "    dfd = dfd[cols]\n",
    "    return dfd"
   ]
  },
  {
   "cell_type": "code",
   "execution_count": 2,
   "id": "4bdaf9b9-dc37-4478-8182-97048c625303",
   "metadata": {},
   "outputs": [],
   "source": [
    "import sys\n",
    "sys.path.insert(0, '/home/was966/Research/mims-conceptor/')\n",
    "from baseline.immnue_score import immnue_score_methods\n",
    "from conceptor.utils import plot_embed_with_label,plot_performance, score\n",
    "from conceptor.tokenizer import CANCER_CODE\n",
    "\n",
    "data_path = '../../../../paper/00_data/'\n",
    "df_label = pd.read_pickle(os.path.join(data_path, 'ITRP.PATIENT.TABLE'))\n",
    "df_tpm = pd.read_pickle(os.path.join(data_path, 'ITRP.TPM.TABLE'))\n",
    "df_tpm.shape, df_label.shape\n",
    "\n",
    "df_task = onehot(df_label.response_label)\n",
    "size = df_label.groupby('cohort').size()\n",
    "size = size.index + \"\\n(n = \" + size.astype(str) + \")\"\n",
    "cohorts = df_label.groupby('cohort').size().sort_values().index.tolist()\n",
    "#cohorts"
   ]
  },
  {
   "cell_type": "code",
   "execution_count": 3,
   "id": "2eb7abc0-ff64-462a-bb11-6883775166f0",
   "metadata": {},
   "outputs": [],
   "source": [
    "dfcx = df_label.cancer_type.map(CANCER_CODE).to_frame('cancer_code').join(df_tpm)\n",
    "pretrainer = loadconceptor('../../../checkpoint/latest/pretrainer.pt')"
   ]
  },
  {
   "cell_type": "code",
   "execution_count": 4,
   "id": "db2bcd4f-f20c-46d2-9da4-459280dd0124",
   "metadata": {},
   "outputs": [],
   "source": [
    "df_c2c = pd.read_csv('../stratification/cancer2cancer.csv', index_col=0)\n",
    "df_d2d = pd.read_csv('../stratification/drug2drug.csv', index_col=0)\n",
    "df_s2s = pd.read_csv('../stratification/sequencer2sequencer.csv', index_col=0)\n",
    "\n",
    "df_label = pd.concat([df_c2c, df_d2d, df_s2s])\n",
    "cohorts = df_label['stratified_cohort'].unique().tolist()\n",
    "cohort_rgc = df_label[['stratified_cohort', 'stratified_cohort_rgc']].drop_duplicates().set_index('stratified_cohort').stratified_cohort_rgc.to_dict()"
   ]
  },
  {
   "cell_type": "code",
   "execution_count": null,
   "id": "e65a1637-cbde-4769-878f-3cfe257c1ec8",
   "metadata": {},
   "outputs": [],
   "source": []
  },
  {
   "cell_type": "code",
   "execution_count": 5,
   "id": "62d47ed3-6d2e-4aef-9d76-00279c0a8d88",
   "metadata": {},
   "outputs": [],
   "source": [
    "cohort_target_map = df_label[['stratified_cohort', 'ICI_target_map']].drop_duplicates().set_index('stratified_cohort').ICI_target_map.to_dict()\n",
    "cohort_cancer_map = df_label[['stratified_cohort', 'cancer_type']].drop_duplicates().set_index('stratified_cohort').cancer_type.to_dict()\n",
    "\n",
    "def cohort_to_cohort(cohorts):\n",
    "    # Create a list of lists, each missing one element from the original list\n",
    "    return [(cohorts[i], cohorts[:i] + cohorts[i+1:]) for i in range(len(cohorts))]\n",
    "# train_test_cohorts = cohort_to_cohort(cohorts)"
   ]
  },
  {
   "cell_type": "code",
   "execution_count": 6,
   "id": "d22e5d4f-9f52-4481-ab3c-544152e00d0e",
   "metadata": {},
   "outputs": [],
   "source": [
    "# df_label = df_label[df_label.domain == 'sequencer2sequencer']\n",
    "transfer_groups = df_label.groupby(['domain', 'group'])['stratified_cohort'].unique().apply(lambda x:x.tolist())\n",
    "\n",
    "train_test_cohorts = []\n",
    "domains = []\n",
    "groups = []\n",
    "for (domain, group), transfer_cohots in transfer_groups.items():\n",
    "    transfer_pairs = cohort_to_cohort(transfer_cohots)\n",
    "    for pair in transfer_pairs:\n",
    "        domains.append(domain)\n",
    "        groups.append(group)\n",
    "        train_test_cohorts.append(pair)"
   ]
  },
  {
   "cell_type": "code",
   "execution_count": null,
   "id": "a25c0947-d6b0-4ba3-aec8-7334401b8553",
   "metadata": {},
   "outputs": [],
   "source": []
  },
  {
   "cell_type": "code",
   "execution_count": 7,
   "id": "e5fc78b1-5361-44f9-812b-1c67c67356e1",
   "metadata": {},
   "outputs": [],
   "source": [
    "params = {'mode': 'PFT',\n",
    "            'seed':42,\n",
    "            'lr': 1e-2,\n",
    "            'device':'cuda',\n",
    "            'weight_decay': 1e-4,\n",
    "            'batch_size':8,\n",
    "            'max_epochs': 10,\n",
    "            'task_dense_layer': [16],\n",
    "            'with_wandb': False,\n",
    "            'save_best_model':False,\n",
    "            'verbose': False}"
   ]
  },
  {
   "cell_type": "code",
   "execution_count": null,
   "id": "5487423e-9c26-46eb-8aeb-381438f7461c",
   "metadata": {},
   "outputs": [],
   "source": [
    "for mode in ['PFT', 'FFT', 'LFT']:\n",
    "    \n",
    "    print('Evaluation on Model %s' % mode)\n",
    "\n",
    "    work_dir = './F2F/F2F_%s' % (mode)\n",
    "    if not os.path.exists(work_dir):\n",
    "        os.makedirs(work_dir)\n",
    "\n",
    "    res = []\n",
    "    for (train_cohort, test_cohorts), domain, group in zip(train_test_cohorts, domains, groups):\n",
    "        \n",
    "        ## Get data for this cohort\n",
    "        cohort_idx = df_label[df_label['stratified_cohort'] == train_cohort].index\n",
    "        train_X = dfcx.loc[cohort_idx]\n",
    "        train_y = df_task.loc[cohort_idx]\n",
    "\n",
    "        params['mode'] = mode\n",
    "\n",
    "        pretrainer = pretrainer.copy()\n",
    "        finetuner = FineTuner(pretrainer, **params, \n",
    "                              work_dir= work_dir, \n",
    "                              task_name = '%s' % train_cohort,\n",
    "                              )\n",
    "        \n",
    "        finetuner = finetuner.tune(dfcx_train = train_X,\n",
    "                                   dfy_train = train_y, \n",
    "                                   min_mcc=0.8)\n",
    "        \n",
    "\n",
    "        for test_cohort in test_cohorts:\n",
    "            test_cohort_idx = df_label[df_label['stratified_cohort'] == test_cohort].index\n",
    "            test_cohort_X = dfcx.loc[test_cohort_idx]\n",
    "            test_cohort_y = df_task.loc[test_cohort_idx]\n",
    "            \n",
    "            _, pred_testy = finetuner.predict(test_cohort_X, batch_size = 16)\n",
    "\n",
    "            pred_testy['domain'] = domain\n",
    "            pred_testy['group'] = group\n",
    "            pred_testy['train_cohort'] = train_cohort\n",
    "            pred_testy['test_cohort'] = test_cohort    \n",
    "            pred_testy['test_cohort_rgc'] = cohort_rgc[test_cohort]\n",
    "\n",
    "            pred_testy['best_epoch'] = finetuner.best_epoch\n",
    "            pred_testy['n_trainable_params'] = finetuner.count_parameters()\n",
    "            pred_testy['mode'] = mode\n",
    "            pred_testy['seed'] = params['seed']\n",
    "            pred_testy['batch_size'] = params['batch_size']\n",
    "            pred_testy['task_dense_layer'] = str(params['task_dense_layer'])\n",
    "            dfp = test_cohort_y.join(pred_testy)\n",
    "\n",
    "            y_true, y_prob, y_pred = dfp['R'], dfp[1], dfp[[0, 1]].idxmax(axis=1)\n",
    "            fig = plot_performance(y_true, y_prob, y_pred)\n",
    "            fig.suptitle('train: %s, test: %s' % (train_cohort, test_cohort), fontsize=16)\n",
    "            fig.savefig(os.path.join(work_dir, 'CTCT_train_%s_test_%s.jpg' % (train_cohort.replace('/', ':'), test_cohort.replace('/', ':'))))\n",
    "            res.append(dfp)\n",
    "    \n",
    "    dfs = pd.concat(res)\n",
    "    dfp = dfs.groupby(['domain','group','train_cohort', \n",
    "                       'test_cohort', 'mode', 'best_epoch',\n",
    "                       'test_cohort_rgc']).apply(lambda x:score2(x['R'], x[1], x[[0, 1]].idxmax(axis=1)))\n",
    "    \n",
    "    #roc, prc, f1, acc, mcc\n",
    "    dfp = dfp.apply(pd.Series)\n",
    "    dfp.columns = ['ROC', 'PRC', 'F1', 'ACC', 'MCC']\n",
    "    dfp = dfp.reset_index()\n",
    "\n",
    "    dfs.to_csv(os.path.join(work_dir, 'source_performance.tsv'), sep='\\t')\n",
    "    dfp.to_csv(os.path.join(work_dir, 'metric_performance.tsv'), sep='\\t')"
   ]
  },
  {
   "cell_type": "code",
   "execution_count": 10,
   "id": "52f19b84-8938-405f-b808-04664bfd0f5e",
   "metadata": {},
   "outputs": [
    {
     "name": "stdout",
     "output_type": "stream",
     "text": [
      "ctc_run_NFT.ipynb  ctc_run_PFT_FFT_LFT.ipynb  \u001b[0m\u001b[01;34mF2F\u001b[0m/\n"
     ]
    }
   ],
   "source": [
    "ls"
   ]
  },
  {
   "cell_type": "code",
   "execution_count": null,
   "id": "a56459ef-3c48-4bab-8ad7-35a4d3b5c266",
   "metadata": {},
   "outputs": [],
   "source": []
  }
 ],
 "metadata": {
  "kernelspec": {
   "display_name": "Python 3 (ipykernel)",
   "language": "python",
   "name": "python3"
  },
  "language_info": {
   "codemirror_mode": {
    "name": "ipython",
    "version": 3
   },
   "file_extension": ".py",
   "mimetype": "text/x-python",
   "name": "python",
   "nbconvert_exporter": "python",
   "pygments_lexer": "ipython3",
   "version": "3.8.18"
  }
 },
 "nbformat": 4,
 "nbformat_minor": 5
}
