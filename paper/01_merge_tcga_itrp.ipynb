{
 "cells": [
  {
   "cell_type": "code",
   "execution_count": 1,
   "id": "e634f613-a636-4c54-9a2e-41e6428b1d9c",
   "metadata": {},
   "outputs": [],
   "source": [
    "import pandas as pd\n",
    "import os\n",
    "from glob import glob\n",
    "import numpy as np\n",
    "import matplotlib.pyplot as plt\n",
    "captureSize = 35.8 #for tmb claculation\n",
    "import seaborn as sns\n",
    "sns.set(style = 'white', font_scale=1.5)\n"
   ]
  },
  {
   "cell_type": "code",
   "execution_count": 2,
   "id": "b0948576-c606-4fe2-b309-9976a2c5d975",
   "metadata": {},
   "outputs": [],
   "source": [
    "itrp_data_path = '/n/data1/hms/dbmi/zitnik/lab/users/was966/ITRP/SKCM_v2/'\n",
    "tcga_data_path = '/n/data1/hms/dbmi/zitnik/lab/users/was966/TCGA/GDC_v37/'\n",
    "immu_data_path = '/n/data1/hms/dbmi/zitnik/lab/users/was966/InnateDB/'\n",
    "nano_data_path = '/n/data1/hms/dbmi/zitnik/lab/users/was966/NanoString/'\n",
    "ppi_data_path = '/n/data1/hms/dbmi/zitnik/lab/users/was966/PPI/'\n",
    "\n",
    "merge_data_path = '/n/data1/hms/dbmi/zitnik/lab/users/was966/ITRP/TCGA-ITRP-MERGE/'"
   ]
  },
  {
   "cell_type": "code",
   "execution_count": 3,
   "id": "d2e64e53-5a09-4626-84af-45d2af20abec",
   "metadata": {},
   "outputs": [
    {
     "name": "stdout",
     "output_type": "stream",
     "text": [
      "-rw-rw-r-- 1 was966 zitnik 3.4M Sep  1 14:32 /n/data1/hms/dbmi/zitnik/lab/users/was966/TCGA/GDC_v37/GENE.TABLE\n",
      "-rw-rw-r-- 1 was966 zitnik 1.7M Sep  1 13:33 /n/data1/hms/dbmi/zitnik/lab/users/was966/TCGA/GDC_v37/PATIENTS.TABLE\n",
      "-rw-rw-r-- 1 was966 zitnik 4.4G Sep  1 14:35 /n/data1/hms/dbmi/zitnik/lab/users/was966/TCGA/GDC_v37/TPM.TABLE\n"
     ]
    }
   ],
   "source": [
    "! ls -lh /n/data1/hms/dbmi/zitnik/lab/users/was966/TCGA/GDC_v37/*.TABLE"
   ]
  },
  {
   "cell_type": "code",
   "execution_count": 4,
   "id": "7fcd8827-ece2-4d96-bac5-0c5f79a9778f",
   "metadata": {},
   "outputs": [
    {
     "name": "stdout",
     "output_type": "stream",
     "text": [
      "-rw-rw-r-- 1 was966 zitnik 55K Sep  1 14:56 /n/data1/hms/dbmi/zitnik/lab/users/was966/ITRP/SKCM_v2/PATIENTS.TABLE\n",
      "-rw-rw-r-- 1 was966 zitnik 51M Sep  1 14:56 /n/data1/hms/dbmi/zitnik/lab/users/was966/ITRP/SKCM_v2/TPM_CORRECTION.TABLE\n",
      "-rw-rw-r-- 1 was966 zitnik 51M Sep  1 14:56 /n/data1/hms/dbmi/zitnik/lab/users/was966/ITRP/SKCM_v2/TPM.TABLE\n"
     ]
    }
   ],
   "source": [
    "! ls -lh /n/data1/hms/dbmi/zitnik/lab/users/was966/ITRP/SKCM_v2/*.TABLE"
   ]
  },
  {
   "cell_type": "code",
   "execution_count": 5,
   "id": "54fc66b1-0516-43b2-b08b-2d2265bc2df7",
   "metadata": {},
   "outputs": [
    {
     "name": "stdout",
     "output_type": "stream",
     "text": [
      "18980\n"
     ]
    }
   ],
   "source": [
    "\n",
    "## ITRP dataset\n",
    "itrp_patient = pd.read_pickle(os.path.join(itrp_data_path, 'PATIENTS.TABLE'))\n",
    "itrp_tpm = pd.read_pickle(os.path.join(itrp_data_path, 'TPM.TABLE'))\n",
    "itrp_tpm_correct = pd.read_pickle(os.path.join(itrp_data_path, 'TPM_CORRECTION.TABLE'))\n",
    "\n",
    "## TCGA dataset\n",
    "tcga_gene = pd.read_pickle(os.path.join(tcga_data_path, 'GENE.TABLE'))\n",
    "tcga_patient = pd.read_pickle(os.path.join(tcga_data_path, 'PATIENTS.TABLE'))\n",
    "tcga_tpm = pd.read_pickle(os.path.join(tcga_data_path, 'TPM.TABLE'))\n",
    "\n",
    "## Merge\n",
    "ensid_freeman = pd.Series(dict(zip(itrp_tpm.index.map(lambda x:x.split('.')[0]), itrp_tpm.index)))\n",
    "ensid_freeman.name = 'ensid_freeman'\n",
    "common_genes = set(tcga_tpm.columns.map(lambda x:x.split('.')[0])) & set(itrp_tpm.index.map(lambda x:x.split('.')[0]))\n",
    "common_genes = list(common_genes)\n",
    "print(len(common_genes))\n",
    "\n",
    "tcga_gene = tcga_gene.loc[common_genes]\n",
    "tcga_gene = tcga_gene[tcga_gene.gene_type == 'protein_coding']\n",
    "tcga_gene = tcga_gene.join(ensid_freeman)\n",
    "\n",
    "tcga_tpm = tcga_tpm[tcga_gene.ensid_v36]\n",
    "tcga_tpm.columns = tcga_gene.gene_name.tolist()\n",
    "\n",
    "itrp_tpm = itrp_tpm.T[tcga_gene.ensid_freeman]\n",
    "itrp_tpm.columns = tcga_gene.gene_name.tolist()\n",
    "\n",
    "itrp_tpm_correct = itrp_tpm_correct.T[tcga_gene.ensid_freeman]\n",
    "itrp_tpm_correct.columns = tcga_gene.gene_name.tolist()\n",
    "\n",
    "itrp_patient = itrp_patient.loc[itrp_tpm.index]"
   ]
  },
  {
   "cell_type": "code",
   "execution_count": 6,
   "id": "70daab60-ad55-4013-adb5-8e238310e50c",
   "metadata": {},
   "outputs": [
    {
     "data": {
      "text/plain": [
       "((10184, 18474), (334, 18474), (334, 18474), (18474, 5))"
      ]
     },
     "execution_count": 6,
     "metadata": {},
     "output_type": "execute_result"
    }
   ],
   "source": [
    "tcga_tpm.shape, itrp_tpm.shape, itrp_tpm_correct.shape, tcga_gene.shape"
   ]
  },
  {
   "cell_type": "code",
   "execution_count": 7,
   "id": "acc5cf1d-a690-4e97-9d17-87859ba30ec0",
   "metadata": {},
   "outputs": [
    {
     "data": {
      "text/plain": [
       "((334, 20), (10184, 22))"
      ]
     },
     "execution_count": 7,
     "metadata": {},
     "output_type": "execute_result"
    }
   ],
   "source": [
    "itrp_patient.shape, tcga_patient.shape"
   ]
  },
  {
   "cell_type": "code",
   "execution_count": 8,
   "id": "f03416fb-e47b-4e0d-9c67-89670d50ffde",
   "metadata": {},
   "outputs": [
    {
     "data": {
      "text/plain": [
       "18425"
      ]
     },
     "execution_count": 8,
     "metadata": {},
     "output_type": "execute_result"
    }
   ],
   "source": [
    "### remove genes with very low variance\n",
    "def _sel_genes(x):\n",
    "    var = x.var(axis=0) \n",
    "    sel_genes = var[var > 1e-8].index\n",
    "    return sel_genes\n",
    "sgs1 = itrp_tpm.join(itrp_patient.cohort).groupby('cohort').apply(_sel_genes)\n",
    "var_gene_list = list(set.intersection(*map(set, sgs1)))\n",
    "len(var_gene_list)\n",
    "\n",
    "var = tcga_tpm.var() \n",
    "var_gene_list = var[var > 1e-4].index\n",
    "len(var_gene_list)"
   ]
  },
  {
   "cell_type": "markdown",
   "id": "cdb8d974-a229-45e9-b169-fe41668fd868",
   "metadata": {},
   "source": [
    "## 01. Save 18425"
   ]
  },
  {
   "cell_type": "code",
   "execution_count": 9,
   "id": "96d227e2-eb40-4b8e-8775-cbc037cad98c",
   "metadata": {},
   "outputs": [
    {
     "data": {
      "text/plain": [
       "((10184, 18425), (334, 18425), (10184, 22), (334, 20), (18425, 5))"
      ]
     },
     "execution_count": 9,
     "metadata": {},
     "output_type": "execute_result"
    }
   ],
   "source": [
    "tcga_tpm_1 = np.log2(tcga_tpm[var_gene_list]+1)\n",
    "itrp_tpm_1 = np.log2(itrp_tpm[var_gene_list]+1)\n",
    "itrp_tpm_1_correct = np.log2(itrp_tpm_correct[var_gene_list]+1)\n",
    "\n",
    "gene_1 = tcga_gene[tcga_gene.gene_name.isin(var_gene_list)].reset_index().set_index('gene_name')\n",
    "tcga_tpm_1.shape, itrp_tpm_1.shape, tcga_patient.shape, itrp_patient.shape, gene_1.shape"
   ]
  },
  {
   "cell_type": "code",
   "execution_count": 10,
   "id": "fab2804b-a435-4634-905c-84865857fcc3",
   "metadata": {},
   "outputs": [
    {
     "name": "stdout",
     "output_type": "stream",
     "text": [
      "total 1.5G\n",
      "-rw-rw-r-- 1 was966 zitnik 1.4M Sep  7 17:11 GENE.TABLE\n",
      "-rw-rw-r-- 1 was966 zitnik  55K Sep  7 17:11 PATIENT.ITRP.TABLE\n",
      "-rw-rw-r-- 1 was966 zitnik 1.7M Sep  7 17:11 PATIENT.TCGA.TABLE\n",
      "-rw-rw-r-- 1 was966 zitnik  48M Sep  7 17:11 TPM.ITRP.TABLE\n",
      "-rw-rw-r-- 1 was966 zitnik  48M Sep  7 17:11 TPM.ITRP.TABLE.CORRECT\n",
      "-rw-rw-r-- 1 was966 zitnik 1.4G Sep  7 17:11 TPM.TCGA.TABLE\n"
     ]
    }
   ],
   "source": [
    "! mkdir -p /n/data1/hms/dbmi/zitnik/lab/users/was966/ITRP/TCGA-ITRP-MERGE/18425\n",
    "tcga_tpm_1.to_pickle(os.path.join(merge_data_path, '18425', 'TPM.TCGA.TABLE'))\n",
    "itrp_tpm_1.to_pickle(os.path.join(merge_data_path, '18425', 'TPM.ITRP.TABLE'))\n",
    "itrp_tpm_1_correct.to_pickle(os.path.join(merge_data_path, '18425', 'TPM.ITRP.TABLE.CORRECT'))\n",
    "\n",
    "gene_1.to_pickle(os.path.join(merge_data_path, '18425', 'GENE.TABLE'))\n",
    "tcga_patient.to_pickle(os.path.join(merge_data_path, '18425', 'PATIENT.TCGA.TABLE'))\n",
    "itrp_patient.to_pickle(os.path.join(merge_data_path, '18425', 'PATIENT.ITRP.TABLE'))\n",
    "! ls -lh /n/data1/hms/dbmi/zitnik/lab/users/was966/ITRP/TCGA-ITRP-MERGE/18425"
   ]
  },
  {
   "cell_type": "code",
   "execution_count": null,
   "id": "b46c730e-e247-4082-ac86-745e110b1d24",
   "metadata": {},
   "outputs": [],
   "source": []
  },
  {
   "cell_type": "markdown",
   "id": "6966d7c2-2f22-4562-a3ce-f5c14c8896d3",
   "metadata": {},
   "source": [
    "## 02. Save 6575"
   ]
  },
  {
   "cell_type": "code",
   "execution_count": 11,
   "id": "d882a852-50cf-4ad5-ab31-27d28a4bcfa6",
   "metadata": {},
   "outputs": [
    {
     "data": {
      "text/plain": [
       "((10184, 6575), (334, 6575), (10184, 22), (334, 20), (6575, 11))"
      ]
     },
     "execution_count": 11,
     "metadata": {},
     "output_type": "execute_result"
    }
   ],
   "source": [
    "# Immunogenes\n",
    "df_immu_gene = pd.read_pickle(os.path.join(immu_data_path, 'InnateDB.TABLE'))\n",
    "immu_gene_list = list(set(df_immu_gene.gene_name) & set(var_gene_list))\n",
    "\n",
    "tcga_tpm_2 = np.log2(tcga_tpm[immu_gene_list]+1)\n",
    "itrp_tpm_2 = np.log2(itrp_tpm[immu_gene_list]+1)\n",
    "itrp_tpm_2_correct = np.log2(itrp_tpm_correct[immu_gene_list]+1)\n",
    "\n",
    "gene_2 = tcga_gene[tcga_gene.gene_name.isin(immu_gene_list)].reset_index().set_index('gene_name')\n",
    "mut_gene = df_immu_gene.set_index('gene_name')\n",
    "mut_gene = mut_gene[mut_gene.columns[2:]]\n",
    "gene_2 = gene_2.join(mut_gene)\n",
    "tcga_tpm_2.shape, itrp_tpm_2.shape, tcga_patient.shape, itrp_patient.shape, gene_2.shape"
   ]
  },
  {
   "cell_type": "code",
   "execution_count": 12,
   "id": "9a8ea9d4-3465-4472-987f-be22f92e8b50",
   "metadata": {},
   "outputs": [
    {
     "name": "stdout",
     "output_type": "stream",
     "text": [
      "total 579M\n",
      "-rw-rw-r-- 1 was966 zitnik 537K Sep  7 17:11 GENE.TABLE\n",
      "-rw-rw-r-- 1 was966 zitnik  55K Sep  7 17:11 PATIENT.ITRP.TABLE\n",
      "-rw-rw-r-- 1 was966 zitnik 1.7M Sep  7 17:11 PATIENT.TCGA.TABLE\n",
      "-rw-rw-r-- 1 was966 zitnik  17M Sep  7 17:11 TPM.ITRP.TABLE\n",
      "-rw-rw-r-- 1 was966 zitnik  17M Sep  7 17:11 TPM.ITRP.TABLE.CORRECT\n",
      "-rw-rw-r-- 1 was966 zitnik 512M Sep  7 17:11 TPM.TCGA.TABLE\n"
     ]
    }
   ],
   "source": [
    "! mkdir -p /n/data1/hms/dbmi/zitnik/lab/users/was966/ITRP/TCGA-ITRP-MERGE/6575\n",
    "tcga_tpm_2.to_pickle(os.path.join(merge_data_path, '6575', 'TPM.TCGA.TABLE'))\n",
    "itrp_tpm_2.to_pickle(os.path.join(merge_data_path, '6575', 'TPM.ITRP.TABLE'))\n",
    "itrp_tpm_2_correct.to_pickle(os.path.join(merge_data_path, '6575', 'TPM.ITRP.TABLE.CORRECT'))\n",
    "gene_2.to_pickle(os.path.join(merge_data_path, '6575', 'GENE.TABLE'))\n",
    "tcga_patient.to_pickle(os.path.join(merge_data_path, '6575', 'PATIENT.TCGA.TABLE'))\n",
    "itrp_patient.to_pickle(os.path.join(merge_data_path, '6575', 'PATIENT.ITRP.TABLE'))\n",
    "! ls -lh /n/data1/hms/dbmi/zitnik/lab/users/was966/ITRP/TCGA-ITRP-MERGE/6575"
   ]
  },
  {
   "cell_type": "code",
   "execution_count": null,
   "id": "1c668ac6-af7a-478c-9fc3-352fc26e089a",
   "metadata": {},
   "outputs": [],
   "source": []
  },
  {
   "cell_type": "markdown",
   "id": "8c3073c6-eecc-4ab5-ad49-d6beb51a65eb",
   "metadata": {},
   "source": [
    "### 03. Save 735"
   ]
  },
  {
   "cell_type": "code",
   "execution_count": 13,
   "id": "7b87aeae-097a-4c74-b214-8ed09807310d",
   "metadata": {},
   "outputs": [
    {
     "data": {
      "text/plain": [
       "(7394, 6575, 756, 735)"
      ]
     },
     "execution_count": 13,
     "metadata": {},
     "output_type": "execute_result"
    }
   ],
   "source": [
    "# NanoString genes\n",
    "df_nano_gene = pd.read_pickle(os.path.join(nano_data_path, 'NanoString.TABLE'))\n",
    "nano_gene_list = list(set(df_nano_gene.index) & set(var_gene_list))\n",
    "len(df_immu_gene), len(immu_gene_list), len(df_nano_gene), len(nano_gene_list)"
   ]
  },
  {
   "cell_type": "code",
   "execution_count": 14,
   "id": "fa7ad968-bcfd-4e08-8522-4609c258fa8b",
   "metadata": {},
   "outputs": [
    {
     "data": {
      "text/plain": [
       "((10184, 735), (334, 735), (10184, 22), (334, 20), (735, 10))"
      ]
     },
     "execution_count": 14,
     "metadata": {},
     "output_type": "execute_result"
    }
   ],
   "source": [
    "tcga_tpm_3 = np.log2(tcga_tpm[nano_gene_list]+1)\n",
    "itrp_tpm_3 = np.log2(itrp_tpm[nano_gene_list]+1)\n",
    "itrp_tpm_3_correct = np.log2(itrp_tpm_correct[nano_gene_list]+1)\n",
    "\n",
    "gene_3 = tcga_gene[tcga_gene.gene_name.isin(nano_gene_list)].reset_index().set_index('gene_name')\n",
    "gene_3 = gene_3.join(df_nano_gene)\n",
    "tcga_tpm_3.shape, itrp_tpm_3.shape, tcga_patient.shape, itrp_patient.shape, gene_3.shape"
   ]
  },
  {
   "cell_type": "code",
   "execution_count": 16,
   "id": "f50be696-09bb-44ed-8684-ed53dc2da527",
   "metadata": {},
   "outputs": [
    {
     "name": "stdout",
     "output_type": "stream",
     "text": [
      "total 68M\n",
      "-rw-rw-r-- 1 was966 zitnik 101K Sep  7 17:13 GENE.TABLE\n",
      "-rw-rw-r-- 1 was966 zitnik  55K Sep  7 17:13 PATIENT.ITRP.TABLE\n",
      "-rw-rw-r-- 1 was966 zitnik 1.7M Sep  7 17:13 PATIENT.TCGA.TABLE\n",
      "-rw-rw-r-- 1 was966 zitnik 1.9M Sep  7 17:13 TPM.ITRP.TABLE\n",
      "-rw-rw-r-- 1 was966 zitnik 1.9M Sep  7 17:13 TPM.ITRP.TABLE.CORRECT\n",
      "-rw-rw-r-- 1 was966 zitnik 1.9M Sep  7 17:11 TPM.ITRP.TABLE.CRORRECT\n",
      "-rw-rw-r-- 1 was966 zitnik  58M Sep  7 17:13 TPM.TCGA.TABLE\n"
     ]
    }
   ],
   "source": [
    "! mkdir -p /n/data1/hms/dbmi/zitnik/lab/users/was966/ITRP/TCGA-ITRP-MERGE/735\n",
    "tcga_tpm_3.to_pickle(os.path.join(merge_data_path, '735', 'TPM.TCGA.TABLE'))\n",
    "itrp_tpm_3.to_pickle(os.path.join(merge_data_path, '735', 'TPM.ITRP.TABLE'))\n",
    "itrp_tpm_3_correct.to_pickle(os.path.join(merge_data_path, '735', 'TPM.ITRP.TABLE.CORRECT'))\n",
    "\n",
    "\n",
    "gene_3.to_pickle(os.path.join(merge_data_path, '735', 'GENE.TABLE'))\n",
    "tcga_patient.to_pickle(os.path.join(merge_data_path, '735', 'PATIENT.TCGA.TABLE'))\n",
    "itrp_patient.to_pickle(os.path.join(merge_data_path, '735', 'PATIENT.ITRP.TABLE'))\n",
    "! ls -lh /n/data1/hms/dbmi/zitnik/lab/users/was966/ITRP/TCGA-ITRP-MERGE/735"
   ]
  },
  {
   "cell_type": "code",
   "execution_count": null,
   "id": "48d3fd01-1f34-44f7-983e-ff3bebbc6823",
   "metadata": {},
   "outputs": [],
   "source": []
  }
 ],
 "metadata": {
  "kernelspec": {
   "display_name": "Python 3 (ipykernel)",
   "language": "python",
   "name": "python3"
  },
  "language_info": {
   "codemirror_mode": {
    "name": "ipython",
    "version": 3
   },
   "file_extension": ".py",
   "mimetype": "text/x-python",
   "name": "python",
   "nbconvert_exporter": "python",
   "pygments_lexer": "ipython3",
   "version": "3.11.4"
  }
 },
 "nbformat": 4,
 "nbformat_minor": 5
}
