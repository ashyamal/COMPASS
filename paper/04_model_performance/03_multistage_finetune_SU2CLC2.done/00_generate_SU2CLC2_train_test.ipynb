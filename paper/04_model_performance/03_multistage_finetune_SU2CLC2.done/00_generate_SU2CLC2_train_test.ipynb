{
 "cells": [
  {
   "cell_type": "code",
   "execution_count": 3,
   "id": "87cfb9c6-ab6a-4732-ba3a-897519dd2919",
   "metadata": {
    "scrolled": true
   },
   "outputs": [
    {
     "data": {
      "text/plain": [
       "sub_cohort\n",
       "Allen(Ipi)                     Allen(Ipi)\\n(n = 39)\n",
       "Choueiri(Nivo)             Choueiri(Nivo)\\n(n = 16)\n",
       "Gide(Ipi+Nivo)              Gide(Ipi+Nivo)\\n(n = 7)\n",
       "Gide(Ipi+Pembro)         Gide(Ipi+Pembro)\\n(n = 25)\n",
       "Gide(Nivo)                      Gide(Nivo)\\n(n = 9)\n",
       "Gide(Pembro)                 Gide(Pembro)\\n(n = 32)\n",
       "Hugo(Pembro)                 Hugo(Pembro)\\n(n = 26)\n",
       "IMVigor210(Atezo)      IMVigor210(Atezo)\\n(n = 298)\n",
       "IMmotion150(Atezo)    IMmotion150(Atezo)\\n(n = 165)\n",
       "Kim(Pembro)                   Kim(Pembro)\\n(n = 45)\n",
       "Liu(Nivo)                       Liu(Nivo)\\n(n = 45)\n",
       "Liu(Pembro)                   Liu(Pembro)\\n(n = 62)\n",
       "MGH(Uknow)                     MGH(Uknow)\\n(n = 34)\n",
       "Miao(Atezo)                    Miao(Atezo)\\n(n = 2)\n",
       "Miao(Ipi+Nivo)              Miao(Ipi+Nivo)\\n(n = 4)\n",
       "Miao(Nivo)                     Miao(Nivo)\\n(n = 11)\n",
       "Riaz(Nivo)                     Riaz(Nivo)\\n(n = 51)\n",
       "Rose(Atezo)                   Rose(Atezo)\\n(n = 35)\n",
       "Rose(Nivo)                      Rose(Nivo)\\n(n = 5)\n",
       "Rose(Other)                    Rose(Other)\\n(n = 3)\n",
       "Rose(Pembro)                 Rose(Pembro)\\n(n = 46)\n",
       "SU2CLC1(Atezo)              SU2CLC1(Atezo)\\n(n = 5)\n",
       "SU2CLC1(Ipi+Nivo)        SU2CLC1(Ipi+Nivo)\\n(n = 8)\n",
       "SU2CLC1(Nivo)               SU2CLC1(Nivo)\\n(n = 49)\n",
       "SU2CLC1(Other)              SU2CLC1(Other)\\n(n = 7)\n",
       "SU2CLC1(Pembro)           SU2CLC1(Pembro)\\n(n = 33)\n",
       "SU2CLC2(Atezo)              SU2CLC2(Atezo)\\n(n = 1)\n",
       "SU2CLC2(Nivo)               SU2CLC2(Nivo)\\n(n = 14)\n",
       "SU2CLC2(Pembro)           SU2CLC2(Pembro)\\n(n = 10)\n",
       "Snyder(Atezo)               Snyder(Atezo)\\n(n = 21)\n",
       "Zhao(Nivo)                     Zhao(Nivo)\\n(n = 20)\n",
       "Zhao(Pembro)                  Zhao(Pembro)\\n(n = 5)\n",
       "dtype: object"
      ]
     },
     "execution_count": 3,
     "metadata": {},
     "output_type": "execute_result"
    }
   ],
   "source": [
    "#!/home/was966/micromamba/envs/responder/bin/python\n",
    "#sbatch --mem 64G -c 4 -t 100:00:00 -p gpu_quad --gres=gpu:rtx8000:1 ./ctct_dense16.py\n",
    "\n",
    "import sys\n",
    "\n",
    "sys.path.insert(0, '/home/was966/Research/mims-compass/')\n",
    "from compass.utils import plot_embed_with_label\n",
    "from compass import PreTrainer, FineTuner, loadcompass #, get_minmal_epoch\n",
    "from compass.utils import plot_embed_with_label,plot_performance, score2\n",
    "from compass.tokenizer import CANCER_CODE\n",
    "\n",
    "import os\n",
    "from tqdm import tqdm\n",
    "from itertools import chain\n",
    "import pandas as pd\n",
    "import numpy as np\n",
    "import random, torch\n",
    "import matplotlib.pyplot as plt\n",
    "import seaborn as sns\n",
    "sns.set(style = 'white', font_scale=1.3)\n",
    "import warnings\n",
    "warnings.filterwarnings(\"ignore\")\n",
    "\n",
    "def onehot(S):\n",
    "    assert type(S) == pd.Series, 'Input type should be pd.Series'\n",
    "    dfd = pd.get_dummies(S, dummy_na=True)\n",
    "    nanidx = dfd[dfd[np.nan].astype(bool)].index\n",
    "    dfd.loc[nanidx, :] = np.nan\n",
    "    dfd = dfd.drop(columns=[np.nan])*1.\n",
    "    cols = dfd.sum().sort_values(ascending=False).index.tolist()\n",
    "    dfd = dfd[cols]\n",
    "    return dfd\n",
    "\n",
    "\n",
    "data_path = '../../00_data/'\n",
    "df_label = pd.read_pickle(os.path.join(data_path, 'ITRP.PATIENT.TABLE'))\n",
    "df_tpm = pd.read_pickle(os.path.join(data_path, 'ITRP.TPM.TABLE'))\n",
    "df_tpm.shape, df_label.shape\n",
    "\n",
    "dfcx = df_label.cancer_type.map(CANCER_CODE).to_frame('cancer_code').join(df_tpm)\n",
    "\n",
    "df_task = onehot(df_label.response_label)\n",
    "size = df_label.groupby('sub_cohort').size()\n",
    "size = size.index + \"\\n(n = \" + size.astype(str) + \")\"\n",
    "cohorts = df_label.groupby('sub_cohort').size().sort_values().index.tolist()\n",
    "size"
   ]
  },
  {
   "cell_type": "code",
   "execution_count": 6,
   "id": "e19f4179-b082-4713-ad24-b1a0ec53b701",
   "metadata": {},
   "outputs": [],
   "source": [
    "test_pannel = df_label[df_label.sub_cohort == 'SU2CLC1(Pembro)']\n",
    "train_pannel = df_label[df_label.sub_cohort == 'SU2CLC1(Nivo)']\n",
    "train_pannel2 = df_label[(df_label.sub_cohort != 'SU2CLC1(Pembro)') & (df_label.cohort == 'SU2CLC1')]\n",
    "\n",
    "train_pannel.to_csv('./train_pannel_SU2CLC1(Nivo).csv')\n",
    "test_pannel.to_csv('./test_pannel_SU2CLC1(Pembro).csv')\n",
    "train_pannel2.to_csv('./train_pannel_~SU2CLC1(Pembro).csv')"
   ]
  },
  {
   "cell_type": "code",
   "execution_count": 7,
   "id": "01ef7faa-61f7-4dd5-b138-b393a0c3ca70",
   "metadata": {},
   "outputs": [
    {
     "data": {
      "text/plain": [
       "(49, 69, 33)"
      ]
     },
     "execution_count": 7,
     "metadata": {},
     "output_type": "execute_result"
    }
   ],
   "source": [
    "len(train_pannel),len(train_pannel2),len(test_pannel)"
   ]
  },
  {
   "cell_type": "code",
   "execution_count": null,
   "id": "ed11c380-210f-47fe-99dc-9623108433c8",
   "metadata": {},
   "outputs": [],
   "source": []
  },
  {
   "cell_type": "code",
   "execution_count": null,
   "id": "02adcca7-1e98-4038-b7d9-0badd920d838",
   "metadata": {},
   "outputs": [],
   "source": []
  },
  {
   "cell_type": "code",
   "execution_count": null,
   "id": "c5c055df-8ff8-46e0-916b-c9b49b920408",
   "metadata": {},
   "outputs": [],
   "source": []
  },
  {
   "cell_type": "code",
   "execution_count": null,
   "id": "6a00399e-b5d6-4ab6-a923-7181c4f1985a",
   "metadata": {},
   "outputs": [],
   "source": []
  },
  {
   "cell_type": "code",
   "execution_count": null,
   "id": "80d3c351-b1ea-4912-802c-92c5f1519633",
   "metadata": {},
   "outputs": [],
   "source": []
  }
 ],
 "metadata": {
  "kernelspec": {
   "display_name": "Python 3 (ipykernel)",
   "language": "python",
   "name": "python3"
  },
  "language_info": {
   "codemirror_mode": {
    "name": "ipython",
    "version": 3
   },
   "file_extension": ".py",
   "mimetype": "text/x-python",
   "name": "python",
   "nbconvert_exporter": "python",
   "pygments_lexer": "ipython3",
   "version": "3.8.18"
  }
 },
 "nbformat": 4,
 "nbformat_minor": 5
}
