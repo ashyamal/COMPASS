{
 "cells": [
  {
   "cell_type": "code",
   "execution_count": 18,
   "id": "167f4a4c-6819-4c8f-8cc5-53a96aca8fcf",
   "metadata": {},
   "outputs": [],
   "source": [
    "import pandas as pd\n",
    "import numpy as np\n",
    "import matplotlib.pyplot as plt\n",
    "from umap import UMAP\n",
    "import seaborn as sns\n",
    "sns.set(style = 'white', font_scale=1.5)\n"
   ]
  },
  {
   "cell_type": "code",
   "execution_count": 19,
   "id": "e2fda368-0e38-43e4-afe7-3df4b4913d3c",
   "metadata": {},
   "outputs": [],
   "source": [
    "from glob import glob"
   ]
  },
  {
   "cell_type": "code",
   "execution_count": 20,
   "id": "159112db-a6ef-4147-a5d7-b6f3bf58394c",
   "metadata": {},
   "outputs": [],
   "source": [
    "tsvs = glob('./PT*/*/metric_performance.tsv')"
   ]
  },
  {
   "cell_type": "code",
   "execution_count": 21,
   "id": "4f332c1f-2a5c-4a3c-955a-f4263c5acd1b",
   "metadata": {},
   "outputs": [],
   "source": [
    "res = []\n",
    "for tsv in tsvs:\n",
    "    df = pd.read_csv(tsv, sep='\\t', index_col = 0)\n",
    "    _, mode, seed, _ = tsv.split('/')\n",
    "    df['mode'] = mode\n",
    "    df['seed'] = seed\n",
    "    res.append(df)"
   ]
  },
  {
   "cell_type": "code",
   "execution_count": 22,
   "id": "35a8489c-e906-4eb0-8bfc-a4766560fdd4",
   "metadata": {},
   "outputs": [
    {
     "data": {
      "text/html": [
       "<svg  width=\"110\" height=\"55\"><rect x=\"0\" y=\"0\" width=\"55\" height=\"55\" style=\"fill:#2bdddd;stroke-width:2;stroke:rgb(255,255,255)\"/><rect x=\"55\" y=\"0\" width=\"55\" height=\"55\" style=\"fill:#d4dd80;stroke-width:2;stroke:rgb(255,255,255)\"/></svg>"
      ],
      "text/plain": [
       "['#2bdddd', '#d4dd80']"
      ]
     },
     "execution_count": 22,
     "metadata": {},
     "output_type": "execute_result"
    }
   ],
   "source": [
    "c = sns.palettes.color_palette('rainbow', 2, desat = 1).as_hex()\n",
    "c"
   ]
  },
  {
   "cell_type": "code",
   "execution_count": 23,
   "id": "50c38632-1342-4617-9048-95d3c2a36617",
   "metadata": {},
   "outputs": [
    {
     "data": {
      "text/html": [
       "<div>\n",
       "<style scoped>\n",
       "    .dataframe tbody tr th:only-of-type {\n",
       "        vertical-align: middle;\n",
       "    }\n",
       "\n",
       "    .dataframe tbody tr th {\n",
       "        vertical-align: top;\n",
       "    }\n",
       "\n",
       "    .dataframe thead th {\n",
       "        text-align: right;\n",
       "    }\n",
       "</style>\n",
       "<table border=\"1\" class=\"dataframe\">\n",
       "  <thead>\n",
       "    <tr style=\"text-align: right;\">\n",
       "      <th></th>\n",
       "      <th>train_cohort</th>\n",
       "      <th>test_cohort</th>\n",
       "      <th>ROC</th>\n",
       "      <th>PRC</th>\n",
       "      <th>F1</th>\n",
       "      <th>ACC</th>\n",
       "      <th>MCC</th>\n",
       "      <th>mode</th>\n",
       "      <th>seed</th>\n",
       "    </tr>\n",
       "  </thead>\n",
       "  <tbody>\n",
       "    <tr>\n",
       "      <th>0</th>\n",
       "      <td>~SU2CLC1(Pembro)</td>\n",
       "      <td>SU2CLC1(Pembro)</td>\n",
       "      <td>0.660870</td>\n",
       "      <td>0.494901</td>\n",
       "      <td>0.500000</td>\n",
       "      <td>0.575758</td>\n",
       "      <td>0.204656</td>\n",
       "      <td>PT(10K)-LFT(69)</td>\n",
       "      <td>24</td>\n",
       "    </tr>\n",
       "    <tr>\n",
       "      <th>0</th>\n",
       "      <td>~SU2CLC1(Pembro)</td>\n",
       "      <td>SU2CLC1(Pembro)</td>\n",
       "      <td>0.743478</td>\n",
       "      <td>0.711864</td>\n",
       "      <td>0.560000</td>\n",
       "      <td>0.666667</td>\n",
       "      <td>0.325042</td>\n",
       "      <td>PT(10K)-LFT(69)</td>\n",
       "      <td>42</td>\n",
       "    </tr>\n",
       "    <tr>\n",
       "      <th>0</th>\n",
       "      <td>~SU2CLC1(Pembro)</td>\n",
       "      <td>SU2CLC1(Pembro)</td>\n",
       "      <td>0.791304</td>\n",
       "      <td>0.706613</td>\n",
       "      <td>0.580645</td>\n",
       "      <td>0.606061</td>\n",
       "      <td>0.361372</td>\n",
       "      <td>PT(10K)-LFT(69)</td>\n",
       "      <td>64</td>\n",
       "    </tr>\n",
       "    <tr>\n",
       "      <th>0</th>\n",
       "      <td>~SU2CLC1(Pembro)</td>\n",
       "      <td>SU2CLC1(Pembro)</td>\n",
       "      <td>0.582609</td>\n",
       "      <td>0.429714</td>\n",
       "      <td>0.400000</td>\n",
       "      <td>0.545455</td>\n",
       "      <td>0.060193</td>\n",
       "      <td>PT(10K)-NFT(69)</td>\n",
       "      <td>24</td>\n",
       "    </tr>\n",
       "    <tr>\n",
       "      <th>0</th>\n",
       "      <td>~SU2CLC1(Pembro)</td>\n",
       "      <td>SU2CLC1(Pembro)</td>\n",
       "      <td>0.582609</td>\n",
       "      <td>0.429714</td>\n",
       "      <td>0.400000</td>\n",
       "      <td>0.545455</td>\n",
       "      <td>0.060193</td>\n",
       "      <td>PT(10K)-NFT(69)</td>\n",
       "      <td>42</td>\n",
       "    </tr>\n",
       "    <tr>\n",
       "      <th>0</th>\n",
       "      <td>~SU2CLC1(Pembro)</td>\n",
       "      <td>SU2CLC1(Pembro)</td>\n",
       "      <td>0.582609</td>\n",
       "      <td>0.429714</td>\n",
       "      <td>0.400000</td>\n",
       "      <td>0.545455</td>\n",
       "      <td>0.060193</td>\n",
       "      <td>PT(10K)-NFT(69)</td>\n",
       "      <td>64</td>\n",
       "    </tr>\n",
       "    <tr>\n",
       "      <th>0</th>\n",
       "      <td>~SU2CLC1(1K)</td>\n",
       "      <td>SU2CLC1(Pembro)</td>\n",
       "      <td>0.847826</td>\n",
       "      <td>0.837587</td>\n",
       "      <td>0.700000</td>\n",
       "      <td>0.818182</td>\n",
       "      <td>0.569565</td>\n",
       "      <td>PT(10K)-PFT(1031)</td>\n",
       "      <td>24</td>\n",
       "    </tr>\n",
       "    <tr>\n",
       "      <th>0</th>\n",
       "      <td>~SU2CLC1(1K)</td>\n",
       "      <td>SU2CLC1(Pembro)</td>\n",
       "      <td>0.843478</td>\n",
       "      <td>0.833021</td>\n",
       "      <td>0.750000</td>\n",
       "      <td>0.878788</td>\n",
       "      <td>0.714920</td>\n",
       "      <td>PT(10K)-PFT(1031)</td>\n",
       "      <td>42</td>\n",
       "    </tr>\n",
       "    <tr>\n",
       "      <th>0</th>\n",
       "      <td>~SU2CLC1(1K)</td>\n",
       "      <td>SU2CLC1(Pembro)</td>\n",
       "      <td>0.873913</td>\n",
       "      <td>0.880713</td>\n",
       "      <td>0.750000</td>\n",
       "      <td>0.878788</td>\n",
       "      <td>0.714920</td>\n",
       "      <td>PT(10K)-PFT(1031)</td>\n",
       "      <td>64</td>\n",
       "    </tr>\n",
       "    <tr>\n",
       "      <th>0</th>\n",
       "      <td>~SU2CLC1(Pembro)</td>\n",
       "      <td>SU2CLC1(Pembro)</td>\n",
       "      <td>0.847826</td>\n",
       "      <td>0.837587</td>\n",
       "      <td>0.736842</td>\n",
       "      <td>0.848485</td>\n",
       "      <td>0.632599</td>\n",
       "      <td>PT(10K)-PFT(1031)-LFT(69)</td>\n",
       "      <td>24</td>\n",
       "    </tr>\n",
       "    <tr>\n",
       "      <th>0</th>\n",
       "      <td>~SU2CLC1(Pembro)</td>\n",
       "      <td>SU2CLC1(Pembro)</td>\n",
       "      <td>0.843478</td>\n",
       "      <td>0.840616</td>\n",
       "      <td>0.750000</td>\n",
       "      <td>0.878788</td>\n",
       "      <td>0.714920</td>\n",
       "      <td>PT(10K)-PFT(1031)-LFT(69)</td>\n",
       "      <td>42</td>\n",
       "    </tr>\n",
       "    <tr>\n",
       "      <th>0</th>\n",
       "      <td>~SU2CLC1(Pembro)</td>\n",
       "      <td>SU2CLC1(Pembro)</td>\n",
       "      <td>0.873913</td>\n",
       "      <td>0.871849</td>\n",
       "      <td>0.823529</td>\n",
       "      <td>0.909091</td>\n",
       "      <td>0.786912</td>\n",
       "      <td>PT(10K)-PFT(1031)-LFT(69)</td>\n",
       "      <td>64</td>\n",
       "    </tr>\n",
       "  </tbody>\n",
       "</table>\n",
       "</div>"
      ],
      "text/plain": [
       "       train_cohort      test_cohort       ROC       PRC        F1       ACC  \\\n",
       "0  ~SU2CLC1(Pembro)  SU2CLC1(Pembro)  0.660870  0.494901  0.500000  0.575758   \n",
       "0  ~SU2CLC1(Pembro)  SU2CLC1(Pembro)  0.743478  0.711864  0.560000  0.666667   \n",
       "0  ~SU2CLC1(Pembro)  SU2CLC1(Pembro)  0.791304  0.706613  0.580645  0.606061   \n",
       "0  ~SU2CLC1(Pembro)  SU2CLC1(Pembro)  0.582609  0.429714  0.400000  0.545455   \n",
       "0  ~SU2CLC1(Pembro)  SU2CLC1(Pembro)  0.582609  0.429714  0.400000  0.545455   \n",
       "0  ~SU2CLC1(Pembro)  SU2CLC1(Pembro)  0.582609  0.429714  0.400000  0.545455   \n",
       "0      ~SU2CLC1(1K)  SU2CLC1(Pembro)  0.847826  0.837587  0.700000  0.818182   \n",
       "0      ~SU2CLC1(1K)  SU2CLC1(Pembro)  0.843478  0.833021  0.750000  0.878788   \n",
       "0      ~SU2CLC1(1K)  SU2CLC1(Pembro)  0.873913  0.880713  0.750000  0.878788   \n",
       "0  ~SU2CLC1(Pembro)  SU2CLC1(Pembro)  0.847826  0.837587  0.736842  0.848485   \n",
       "0  ~SU2CLC1(Pembro)  SU2CLC1(Pembro)  0.843478  0.840616  0.750000  0.878788   \n",
       "0  ~SU2CLC1(Pembro)  SU2CLC1(Pembro)  0.873913  0.871849  0.823529  0.909091   \n",
       "\n",
       "        MCC                       mode seed  \n",
       "0  0.204656            PT(10K)-LFT(69)   24  \n",
       "0  0.325042            PT(10K)-LFT(69)   42  \n",
       "0  0.361372            PT(10K)-LFT(69)   64  \n",
       "0  0.060193            PT(10K)-NFT(69)   24  \n",
       "0  0.060193            PT(10K)-NFT(69)   42  \n",
       "0  0.060193            PT(10K)-NFT(69)   64  \n",
       "0  0.569565          PT(10K)-PFT(1031)   24  \n",
       "0  0.714920          PT(10K)-PFT(1031)   42  \n",
       "0  0.714920          PT(10K)-PFT(1031)   64  \n",
       "0  0.632599  PT(10K)-PFT(1031)-LFT(69)   24  \n",
       "0  0.714920  PT(10K)-PFT(1031)-LFT(69)   42  \n",
       "0  0.786912  PT(10K)-PFT(1031)-LFT(69)   64  "
      ]
     },
     "execution_count": 23,
     "metadata": {},
     "output_type": "execute_result"
    }
   ],
   "source": [
    "df = pd.concat(res)\n",
    "df"
   ]
  },
  {
   "cell_type": "code",
   "execution_count": null,
   "id": "e41113cd-78b4-403d-b96c-6eafcb84d2fd",
   "metadata": {},
   "outputs": [],
   "source": []
  },
  {
   "cell_type": "code",
   "execution_count": null,
   "id": "7f3619d3-aebb-456c-a684-92ad4d8bc238",
   "metadata": {},
   "outputs": [],
   "source": []
  },
  {
   "cell_type": "code",
   "execution_count": 147,
   "id": "27ee5a2b-d0bc-4b09-a836-0b8f84092879",
   "metadata": {},
   "outputs": [],
   "source": [
    "metrics = ['ACC','ROC', 'PRC', 'F1', 'MCC']\n"
   ]
  },
  {
   "cell_type": "code",
   "execution_count": 153,
   "id": "f1943602-993a-4407-9ecd-8c46d0d06756",
   "metadata": {},
   "outputs": [
    {
     "data": {
      "image/png": "[encoded data removed]",
      "text/plain": [
       "<Figure size 600x300 with 1 Axes>"
      ]
     },
     "metadata": {},
     "output_type": "display_data"
    }
   ],
   "source": [
    "mode = 'PT(10K)-PFT(1031)-LFT(69)'\n",
    "\n",
    "dfp = df[df['mode'] == mode]\n",
    "dfpp = dfp[metrics].mean().to_frame()\n",
    "\n",
    "std = dfp[metrics].std().to_frame()\n",
    "mydata = dfp[metrics].unstack().reset_index()\n",
    "\n",
    "fig, ax3 = plt.subplots(figsize=(6,3))\n",
    "\n",
    "sns.barplot(data = mydata, y = 'level_0', x = 0,  orient='h', ax=ax3, order = metrics, color = 'b', alpha = 0.5, width = 0.6, capsize =0.0)\n",
    "sns.swarmplot(data = mydata, y = 'level_0', x = 0,  orient='h', ax=ax3, order = metrics, edgecolor='k',color='grey',  linewidth =0.5, size=5)\n",
    "\n",
    "ax3.yaxis.tick_left() # x axis on top\n",
    "ax3.yaxis.set_label_position('left')\n",
    "ax3.set_xticks([0.0, 0.5, 1.0])\n",
    "ax3.xaxis.tick_bottom() # x axis on top\n",
    "ax3.xaxis.set_label_position('bottom')\n",
    "ax3.set_ylabel(None)\n",
    "ax3.set_xlabel(None)\n",
    "\n",
    "for y, x in dfp[metrics].max().reset_index(drop=True).items():\n",
    "    ax3.text(x+0.02, y+0.18, '%.2f' % x )\n",
    "    \n",
    "ax3.spines[['right', 'top']].set_visible(False)\n",
    "\n",
    "fig.tight_layout(pad = 1.5)\n",
    "fig.savefig('%s.svg' % mode, bbox_inches='tight')"
   ]
  },
  {
   "cell_type": "code",
   "execution_count": 152,
   "id": "0e1a4247-b702-47b1-b144-839af7c01d86",
   "metadata": {},
   "outputs": [
    {
     "data": {
      "image/png": "[encoded data removed]",
      "text/plain": [
       "<Figure size 600x300 with 1 Axes>"
      ]
     },
     "metadata": {},
     "output_type": "display_data"
    }
   ],
   "source": [
    "mode = 'PT(10K)-PFT(1031)'\n",
    "\n",
    "dfp = df[df['mode'] == mode]\n",
    "dfpp = dfp[metrics].mean().to_frame()\n",
    "\n",
    "std = dfp[metrics].std().to_frame()\n",
    "mydata = dfp[metrics].unstack().reset_index()\n",
    "\n",
    "fig, ax3 = plt.subplots(figsize=(6,3))\n",
    "\n",
    "sns.barplot(data = mydata, y = 'level_0', x = 0,  orient='h', ax=ax3, order = metrics, color = 'b', alpha = 0.5, width = 0.6, capsize =0.0)\n",
    "sns.swarmplot(data = mydata, y = 'level_0', x = 0,  orient='h', ax=ax3, order = metrics, edgecolor='k',color='grey',  linewidth =0.5, size=5)\n",
    "\n",
    "ax3.yaxis.tick_left() # x axis on top\n",
    "ax3.yaxis.set_label_position('left')\n",
    "ax3.set_xticks([0.0, 0.5, 1.0])\n",
    "ax3.xaxis.tick_bottom() # x axis on top\n",
    "ax3.xaxis.set_label_position('bottom')\n",
    "ax3.set_ylabel(None)\n",
    "ax3.set_xlabel(None)\n",
    "\n",
    "for y, x in dfp[metrics].max().reset_index(drop=True).items():\n",
    "    ax3.text(x+0.02, y+0.18, '%.2f' % x )\n",
    "    \n",
    "ax3.spines[['right', 'top']].set_visible(False)\n",
    "\n",
    "fig.tight_layout(pad = 1.5)\n",
    "fig.savefig('%s.svg' % mode, bbox_inches='tight')"
   ]
  },
  {
   "cell_type": "code",
   "execution_count": 154,
   "id": "7ce54c67-355f-4eed-a8e2-cd68235249c8",
   "metadata": {},
   "outputs": [
    {
     "data": {
      "image/png": "[encoded data removed]",
      "text/plain": [
       "<Figure size 600x300 with 1 Axes>"
      ]
     },
     "metadata": {},
     "output_type": "display_data"
    }
   ],
   "source": [
    "mode = 'PT(10K)-LFT(69)'\n",
    "dfp = df[df['mode'] == mode]\n",
    "dfpp = dfp[metrics].mean().to_frame()\n",
    "\n",
    "std = dfp[metrics].std().to_frame()\n",
    "mydata = dfp[metrics].unstack().reset_index()\n",
    "\n",
    "fig, ax3 = plt.subplots(figsize=(6,3))\n",
    "\n",
    "sns.barplot(data = mydata, y = 'level_0', x = 0,  orient='h', ax=ax3, order = metrics, color = 'b', alpha = 0.5, width = 0.6, capsize =0.0)\n",
    "sns.swarmplot(data = mydata, y = 'level_0', x = 0,  orient='h', ax=ax3, order = metrics, edgecolor='k',color='grey',  linewidth =0.5, size=5)\n",
    "\n",
    "ax3.yaxis.tick_left() # x axis on top\n",
    "ax3.yaxis.set_label_position('left')\n",
    "ax3.set_xticks([0.0, 0.5, 1.0])\n",
    "ax3.xaxis.tick_bottom() # x axis on top\n",
    "ax3.xaxis.set_label_position('bottom')\n",
    "ax3.set_ylabel(None)\n",
    "ax3.set_xlabel(None)\n",
    "\n",
    "for y, x in dfp[metrics].max().reset_index(drop=True).items():\n",
    "    ax3.text(x+0.02, y+0.18, '%.2f' % x )\n",
    "    \n",
    "ax3.spines[['right', 'top']].set_visible(False)\n",
    "\n",
    "fig.tight_layout(pad = 1.5)\n",
    "fig.savefig('%s.svg' % mode, bbox_inches='tight')"
   ]
  },
  {
   "cell_type": "code",
   "execution_count": 138,
   "id": "e5666fb4-01dc-4183-a445-f351ac98c096",
   "metadata": {},
   "outputs": [
    {
     "data": {
      "text/plain": [
       "'MCC'"
      ]
     },
     "execution_count": 138,
     "metadata": {},
     "output_type": "execute_result"
    }
   ],
   "source": [
    "y"
   ]
  },
  {
   "cell_type": "code",
   "execution_count": 161,
   "id": "13d6a1e2-764d-48d7-b1b0-43537a49a99d",
   "metadata": {},
   "outputs": [
    {
     "data": {
      "image/png": "[encoded data removed]",
      "text/plain": [
       "<Figure size 600x300 with 1 Axes>"
      ]
     },
     "metadata": {},
     "output_type": "display_data"
    }
   ],
   "source": [
    "mode = 'PT(10K)-NFT(69)'\n",
    "dfp = df[df['mode'] == mode]\n",
    "dfpp = dfp[metrics].mean().to_frame()\n",
    "\n",
    "std = dfp[metrics].std().to_frame()\n",
    "mydata = dfp[metrics].unstack().reset_index()\n",
    "\n",
    "fig, ax3 = plt.subplots(figsize=(6,3))\n",
    "\n",
    "sns.barplot(data = mydata, y = 'level_0', x = 0,  orient='h', ax=ax3, order = metrics, color = 'b', alpha = 0.5, width = 0.6, capsize =0.0)\n",
    "#sns.swarmplot(data = mydata, y = 'level_0', x = 0,  orient='h', ax=ax3, order = metrics, edgecolor='k',color='grey',  linewidth =0.5, size=5)\n",
    "\n",
    "ax3.yaxis.tick_left() # x axis on top\n",
    "ax3.yaxis.set_label_position('left')\n",
    "ax3.set_xticks([0.0, 0.5, 1.0])\n",
    "ax3.xaxis.tick_bottom() # x axis on top\n",
    "ax3.xaxis.set_label_position('bottom')\n",
    "ax3.set_ylabel(None)\n",
    "ax3.set_xlabel(None)\n",
    "\n",
    "for y, x in dfp[metrics].max().reset_index(drop=True).items():\n",
    "    ax3.text(x+0.01, y+0.18, '%.2f' % x )\n",
    "    \n",
    "ax3.spines[['right', 'top']].set_visible(False)\n",
    "\n",
    "fig.tight_layout(pad = 1.5)\n",
    "fig.savefig('%s.svg' % mode, bbox_inches='tight')"
   ]
  },
  {
   "cell_type": "code",
   "execution_count": null,
   "id": "c7aa7c14-a578-4aeb-a74e-4b6c61f83d5b",
   "metadata": {},
   "outputs": [],
   "source": []
  },
  {
   "cell_type": "code",
   "execution_count": null,
   "id": "d1ab52b9-8394-4f12-8a13-94a1954ce5dc",
   "metadata": {},
   "outputs": [],
   "source": []
  },
  {
   "cell_type": "code",
   "execution_count": null,
   "id": "a16b5500-5f7b-4a20-b8c0-e32ce41023ce",
   "metadata": {},
   "outputs": [],
   "source": []
  },
  {
   "cell_type": "code",
   "execution_count": null,
   "id": "78cb23aa-208d-4565-b634-aa288605d1a2",
   "metadata": {},
   "outputs": [],
   "source": []
  },
  {
   "cell_type": "code",
   "execution_count": null,
   "id": "59511761-991a-4bc0-bf94-54191912b1af",
   "metadata": {},
   "outputs": [],
   "source": []
  },
  {
   "cell_type": "code",
   "execution_count": null,
   "id": "2f3bc425-9718-45b0-ad26-83a8558ebb77",
   "metadata": {},
   "outputs": [],
   "source": []
  }
 ],
 "metadata": {
  "kernelspec": {
   "display_name": "Python 3 (ipykernel)",
   "language": "python",
   "name": "python3"
  },
  "language_info": {
   "codemirror_mode": {
    "name": "ipython",
    "version": 3
   },
   "file_extension": ".py",
   "mimetype": "text/x-python",
   "name": "python",
   "nbconvert_exporter": "python",
   "pygments_lexer": "ipython3",
   "version": "3.8.18"
  }
 },
 "nbformat": 4,
 "nbformat_minor": 5
}
