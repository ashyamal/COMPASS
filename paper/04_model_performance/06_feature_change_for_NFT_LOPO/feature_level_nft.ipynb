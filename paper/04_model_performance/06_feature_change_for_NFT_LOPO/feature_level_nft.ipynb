{
 "cells": [
  {
   "cell_type": "code",
   "execution_count": 33,
   "id": "45761258-1084-4ee0-a94a-96fe7f2ce77c",
   "metadata": {},
   "outputs": [
    {
     "name": "stdout",
     "output_type": "stream",
     "text": [
      "Collecting seaborn==0.11.2\n",
      "  Using cached seaborn-0.11.2-py3-none-any.whl.metadata (2.3 kB)\n",
      "Requirement already satisfied: numpy>=1.15 in /home/was966/micromamba/envs/responder/lib/python3.8/site-packages (from seaborn==0.11.2) (1.24.3)\n",
      "Requirement already satisfied: scipy>=1.0 in /home/was966/micromamba/envs/responder/lib/python3.8/site-packages (from seaborn==0.11.2) (1.10.1)\n",
      "Requirement already satisfied: pandas>=0.23 in /home/was966/micromamba/envs/responder/lib/python3.8/site-packages (from seaborn==0.11.2) (1.5.3)\n",
      "Requirement already satisfied: matplotlib>=2.2 in /home/was966/micromamba/envs/responder/lib/python3.8/site-packages (from seaborn==0.11.2) (3.7.5)\n",
      "Requirement already satisfied: contourpy>=1.0.1 in /home/was966/micromamba/envs/responder/lib/python3.8/site-packages (from matplotlib>=2.2->seaborn==0.11.2) (1.1.1)\n",
      "Requirement already satisfied: cycler>=0.10 in /home/was966/micromamba/envs/responder/lib/python3.8/site-packages (from matplotlib>=2.2->seaborn==0.11.2) (0.12.1)\n",
      "Requirement already satisfied: fonttools>=4.22.0 in /home/was966/micromamba/envs/responder/lib/python3.8/site-packages (from matplotlib>=2.2->seaborn==0.11.2) (4.46.0)\n",
      "Requirement already satisfied: kiwisolver>=1.0.1 in /home/was966/micromamba/envs/responder/lib/python3.8/site-packages (from matplotlib>=2.2->seaborn==0.11.2) (1.4.5)\n",
      "Requirement already satisfied: packaging>=20.0 in /home/was966/micromamba/envs/responder/lib/python3.8/site-packages (from matplotlib>=2.2->seaborn==0.11.2) (23.2)\n",
      "Requirement already satisfied: pillow>=6.2.0 in /home/was966/micromamba/envs/responder/lib/python3.8/site-packages (from matplotlib>=2.2->seaborn==0.11.2) (10.1.0)\n",
      "Requirement already satisfied: pyparsing>=2.3.1 in /home/was966/micromamba/envs/responder/lib/python3.8/site-packages (from matplotlib>=2.2->seaborn==0.11.2) (3.1.1)\n",
      "Requirement already satisfied: python-dateutil>=2.7 in /home/was966/micromamba/envs/responder/lib/python3.8/site-packages (from matplotlib>=2.2->seaborn==0.11.2) (2.8.2)\n",
      "Requirement already satisfied: importlib-resources>=3.2.0 in /home/was966/micromamba/envs/responder/lib/python3.8/site-packages (from matplotlib>=2.2->seaborn==0.11.2) (6.1.1)\n",
      "Requirement already satisfied: pytz>=2020.1 in /home/was966/micromamba/envs/responder/lib/python3.8/site-packages (from pandas>=0.23->seaborn==0.11.2) (2023.3.post1)\n",
      "Requirement already satisfied: zipp>=3.1.0 in /home/was966/micromamba/envs/responder/lib/python3.8/site-packages (from importlib-resources>=3.2.0->matplotlib>=2.2->seaborn==0.11.2) (3.17.0)\n",
      "Requirement already satisfied: six>=1.5 in /home/was966/micromamba/envs/responder/lib/python3.8/site-packages (from python-dateutil>=2.7->matplotlib>=2.2->seaborn==0.11.2) (1.16.0)\n",
      "Using cached seaborn-0.11.2-py3-none-any.whl (292 kB)\n",
      "Installing collected packages: seaborn\n",
      "  Attempting uninstall: seaborn\n",
      "    Found existing installation: seaborn 0.12.2\n",
      "    Uninstalling seaborn-0.12.2:\n",
      "      Successfully uninstalled seaborn-0.12.2\n",
      "Successfully installed seaborn-0.11.2\n"
     ]
    }
   ],
   "source": [
    "! pip install seaborn==0.11.2"
   ]
  },
  {
   "cell_type": "code",
   "execution_count": 2,
   "id": "08a0ab38-f13b-48b2-8bcd-b8ed66dfe1ff",
   "metadata": {},
   "outputs": [],
   "source": [
    "#!/home/was966/micromamba/envs/responder/bin/python\n",
    "#sbatch --mem 64G -c 4 -t 100:00:00 -p gpu_quad --gres=gpu:rtx8000:1 ./loo_pft.py\n",
    "\n",
    "import sys\n",
    "\n",
    "sys.path.insert(0, '/home/was966/Research/mims-compass/')\n",
    "from compass.utils import plot_embed_with_label\n",
    "from compass import PreTrainer, FineTuner, loadcompass #, get_minmal_epoch\n",
    "from compass.utils import plot_embed_with_label, plot_performance, score2\n",
    "from compass.tokenizer import CANCER_CODE\n",
    "\n",
    "import os\n",
    "from tqdm import tqdm\n",
    "from itertools import chain\n",
    "import pandas as pd\n",
    "import numpy as np\n",
    "import random, torch\n",
    "import matplotlib.pyplot as plt\n",
    "import seaborn as sns\n",
    "sns.set(style = 'white', font_scale=1.5)\n",
    "import warnings\n",
    "warnings.filterwarnings(\"ignore\")\n",
    "\n",
    "def onehot(S):\n",
    "    assert type(S) == pd.Series, 'Input type should be pd.Series'\n",
    "    dfd = pd.get_dummies(S, dummy_na=True)\n",
    "    nanidx = dfd[dfd[np.nan].astype(bool)].index\n",
    "    dfd.loc[nanidx, :] = np.nan\n",
    "    dfd = dfd.drop(columns=[np.nan])*1.\n",
    "    cols = dfd.sum().sort_values(ascending=False).index.tolist()\n",
    "    dfd = dfd[cols]\n",
    "    return dfd"
   ]
  },
  {
   "cell_type": "code",
   "execution_count": 3,
   "id": "eb655d2c-d756-4e6d-bb4b-d5b015244aab",
   "metadata": {},
   "outputs": [
    {
     "data": {
      "text/plain": [
       "'0.12.2'"
      ]
     },
     "execution_count": 3,
     "metadata": {},
     "output_type": "execute_result"
    }
   ],
   "source": [
    "sns.__version__"
   ]
  },
  {
   "cell_type": "code",
   "execution_count": 4,
   "id": "739ec704-cdbe-4dd6-8a77-fde0fb5d6a5d",
   "metadata": {},
   "outputs": [],
   "source": [
    "cohort_order = [              \n",
    " 'Hugo',\n",
    " 'Riaz',\n",
    " 'Gide',\n",
    " 'MGH',\n",
    " 'Liu',\n",
    " 'Allen',\n",
    " 'SU2CLC2',\n",
    " 'SU2CLC1',\n",
    " 'IMmotion150',\n",
    " 'Choueiri',\n",
    " 'Miao',\n",
    " 'IMVigor210',\n",
    " 'Rose',\n",
    " 'Snyder',           \n",
    " 'Zhao',   \n",
    " 'Kim']\n",
    "\n",
    "import colorcet as cc\n",
    "cohort_color = sns.color_palette(cc.glasbey, n_colors= len(cohort_order))\n",
    "cohort_map = dict(zip(cohort_order, cohort_color.as_hex()))\n",
    "\n"
   ]
  },
  {
   "cell_type": "code",
   "execution_count": 5,
   "id": "ea23938d-399d-449d-adfc-19f2f20b8f2c",
   "metadata": {},
   "outputs": [
    {
     "name": "stderr",
     "output_type": "stream",
     "text": [
      "100%|##########| 71/71 [00:04<00:00, 15.63it/s]\n"
     ]
    }
   ],
   "source": [
    "mfile = '../../checkpoint/latest/pretrainer.pt'\n",
    "pretrainer = loadcompass(mfile) #, map_location='cpu'\n",
    "\n",
    "data_path = '../../00_data/'\n",
    "df_label = pd.read_pickle(os.path.join(data_path, 'ITRP.PATIENT.TABLE'))\n",
    "\n",
    "\n",
    "df_tpm = pd.read_pickle(os.path.join(data_path, 'ITRP.TPM.TABLE'))[pretrainer.feature_name]\n",
    "df_tpm.shape, df_label.shape\n",
    "\n",
    "df_task = onehot(df_label.response_label)\n",
    "size = df_label.groupby('cohort').size()\n",
    "size = size.index + \"\\n(n = \" + size.astype(str) + \")\"\n",
    "\n",
    "dfcx = df_label.cancer_type.map(CANCER_CODE).to_frame('cancer_code').join(df_tpm)\n",
    "dfy = df_task\n",
    "cohorts = df_label.groupby('cohort').size().sort_values().index.tolist()\n",
    "\n",
    "from sklearn.model_selection import LeaveOneOut\n",
    "loo = LeaveOneOut()\n",
    "\n",
    "dfcx = df_label.cancer_type.map(CANCER_CODE).to_frame('cancer_code').join(df_tpm)\n",
    "dfe, _ = pretrainer.predict(dfcx, batch_size=16)\n",
    "dfy = df_label.response_label"
   ]
  },
  {
   "cell_type": "code",
   "execution_count": 6,
   "id": "bcf72563-7f56-45e5-b896-358ce2aa71db",
   "metadata": {},
   "outputs": [],
   "source": [
    "from compass.decoder import ProtoNetNFTDecoder"
   ]
  },
  {
   "cell_type": "code",
   "execution_count": 7,
   "id": "a39f771a-40ed-4bf0-861b-6bf0e37eef47",
   "metadata": {},
   "outputs": [
    {
     "name": "stderr",
     "output_type": "stream",
     "text": [
      "100%|##########| 71/71 [00:03<00:00, 19.53it/s]\n"
     ]
    }
   ],
   "source": [
    "dfg_score, dfc_score = pretrainer.extract(dfcx, batch_size=16)"
   ]
  },
  {
   "cell_type": "code",
   "execution_count": 8,
   "id": "6de90f80-baad-42d6-bf6b-522b0942ea41",
   "metadata": {},
   "outputs": [
    {
     "data": {
      "text/plain": [
       "Index(['CANCER', 'Bcell_l_Danaher17', 'Bcell_sc', 'MemBcell_sc', 'NaiBcell_sc',\n",
       "       'Plasma_sc', 'CD4Tcell_Combes22', 'CD4Tcell_IL2_I_Kaptein2022',\n",
       "       'CD4Tcell_sc', 'Th17CD4Tcell_sc',\n",
       "       ...\n",
       "       'Cell_cycle', 'Cell_cycle_reg', 'Nucleotide_excision_repair',\n",
       "       'Fanconi_anemia', 'Homologous_recombination', 'Base_excision_repair',\n",
       "       'APOBEC_set', 'Ubiquitous_immune_sc', 'Ubiquitous_sc',\n",
       "       'Reference_NanoString09'],\n",
       "      dtype='object', length=133)"
      ]
     },
     "execution_count": 8,
     "metadata": {},
     "output_type": "execute_result"
    }
   ],
   "source": [
    "dfg_score.columns"
   ]
  },
  {
   "cell_type": "code",
   "execution_count": 9,
   "id": "7c0326d2-d6e7-4f5e-ae8b-b469c52b074e",
   "metadata": {},
   "outputs": [
    {
     "name": "stderr",
     "output_type": "stream",
     "text": [
      "100%|##########| 16/16 [00:06<00:00,  2.32it/s]\n",
      "100%|##########| 16/16 [00:06<00:00,  2.49it/s]\n",
      "100%|##########| 16/16 [00:56<00:00,  3.56s/it]\n"
     ]
    }
   ],
   "source": [
    "res = []\n",
    "for dfx_used in [dfg_score, #[dfg_score.columns.difference(['UEG_set'])], \n",
    "                 dfc_score, #[dfc_score.columns.difference(['Reference'])],  #dfc_score, #\n",
    "                 df_tpm]:\n",
    "    \n",
    "    mode = 'NFT_%s' % len(dfx_used.columns)\n",
    "    for cohort in tqdm(cohorts, ascii=True):\n",
    "    \n",
    "        cohort_idx = df_label[df_label['cohort'] == cohort].index\n",
    "        cohort_X = dfx_used.loc[cohort_idx]\n",
    "        cohort_y = dfy.loc[cohort_idx]\n",
    "    \n",
    "        test_cohort_name = cohort\n",
    "    \n",
    "        predict_res = []\n",
    "        for train_idx, test_idx in loo.split(cohort_idx):\n",
    "            \n",
    "            train_X = cohort_X.iloc[train_idx]\n",
    "            train_y = cohort_y.iloc[train_idx]\n",
    "            test_X = cohort_X.iloc[test_idx]    \n",
    "            test_y = cohort_y.iloc[test_idx]\n",
    "        \n",
    "            support_set = train_X.join(train_y)\n",
    "            query_set = test_X.join(test_y)\n",
    "            \n",
    "            NFT = ProtoNetNFTDecoder()\n",
    "            NFT = NFT.fit(support_set)\n",
    "            pred_testy = NFT.transform(query_set)\n",
    "            \n",
    "            pred_testy['cohort'] = test_cohort_name\n",
    "            pred_testy['mode'] = mode\n",
    "            predict_res.append(pred_testy)\n",
    "    \n",
    "        df_pred = pd.concat(predict_res)\n",
    "        dfp = onehot(cohort_y.map({'PD':'NR', 'PR':'R',\n",
    "                                   'SD':'NR', 'CR':'R',\n",
    "                                   'NR':'NR', 'R':'R'})).join(df_pred)\n",
    "    \n",
    "        y_true, y_prob, y_pred = dfp['R'], dfp[1], dfp[[0, 1]].idxmax(axis=1)\n",
    "        s2 = score2(y_true, y_prob, y_pred)\n",
    "        \n",
    "        dfs = pd.DataFrame([s2], columns = ['ROC', 'PRC', 'F1', 'ACC', 'MCC'], index = ['Test'])\n",
    "        dfs['cohort'] = test_cohort_name\n",
    "        dfs['mode'] = mode\n",
    "        res.append(dfs)"
   ]
  },
  {
   "cell_type": "code",
   "execution_count": 10,
   "id": "28e1c229-9c68-4cac-af66-5bd0ea60de23",
   "metadata": {},
   "outputs": [
    {
     "data": {
      "text/html": [
       "<div>\n",
       "<style scoped>\n",
       "    .dataframe tbody tr th:only-of-type {\n",
       "        vertical-align: middle;\n",
       "    }\n",
       "\n",
       "    .dataframe tbody tr th {\n",
       "        vertical-align: top;\n",
       "    }\n",
       "\n",
       "    .dataframe thead th {\n",
       "        text-align: right;\n",
       "    }\n",
       "</style>\n",
       "<table border=\"1\" class=\"dataframe\">\n",
       "  <thead>\n",
       "    <tr style=\"text-align: right;\">\n",
       "      <th></th>\n",
       "      <th>ROC</th>\n",
       "      <th>PRC</th>\n",
       "      <th>F1</th>\n",
       "      <th>ACC</th>\n",
       "      <th>MCC</th>\n",
       "      <th>cohort</th>\n",
       "      <th>mode</th>\n",
       "    </tr>\n",
       "  </thead>\n",
       "  <tbody>\n",
       "    <tr>\n",
       "      <th>Test</th>\n",
       "      <td>0.307692</td>\n",
       "      <td>0.128663</td>\n",
       "      <td>0.200000</td>\n",
       "      <td>0.500000</td>\n",
       "      <td>-0.100871</td>\n",
       "      <td>Choueiri</td>\n",
       "      <td>NFT_133</td>\n",
       "    </tr>\n",
       "    <tr>\n",
       "      <th>Test</th>\n",
       "      <td>0.383333</td>\n",
       "      <td>0.229879</td>\n",
       "      <td>0.166667</td>\n",
       "      <td>0.411765</td>\n",
       "      <td>-0.277746</td>\n",
       "      <td>Miao</td>\n",
       "      <td>NFT_133</td>\n",
       "    </tr>\n",
       "    <tr>\n",
       "      <th>Test</th>\n",
       "      <td>0.500000</td>\n",
       "      <td>0.298318</td>\n",
       "      <td>0.500000</td>\n",
       "      <td>0.523810</td>\n",
       "      <td>0.138675</td>\n",
       "      <td>Snyder</td>\n",
       "      <td>NFT_133</td>\n",
       "    </tr>\n",
       "    <tr>\n",
       "      <th>Test</th>\n",
       "      <td>0.308824</td>\n",
       "      <td>0.229077</td>\n",
       "      <td>0.363636</td>\n",
       "      <td>0.440000</td>\n",
       "      <td>-0.082918</td>\n",
       "      <td>SU2CLC2</td>\n",
       "      <td>NFT_133</td>\n",
       "    </tr>\n",
       "    <tr>\n",
       "      <th>Test</th>\n",
       "      <td>0.500000</td>\n",
       "      <td>0.418505</td>\n",
       "      <td>0.521739</td>\n",
       "      <td>0.560000</td>\n",
       "      <td>0.116131</td>\n",
       "      <td>Zhao</td>\n",
       "      <td>NFT_133</td>\n",
       "    </tr>\n",
       "  </tbody>\n",
       "</table>\n",
       "</div>"
      ],
      "text/plain": [
       "           ROC       PRC        F1       ACC       MCC    cohort     mode\n",
       "Test  0.307692  0.128663  0.200000  0.500000 -0.100871  Choueiri  NFT_133\n",
       "Test  0.383333  0.229879  0.166667  0.411765 -0.277746      Miao  NFT_133\n",
       "Test  0.500000  0.298318  0.500000  0.523810  0.138675    Snyder  NFT_133\n",
       "Test  0.308824  0.229077  0.363636  0.440000 -0.082918   SU2CLC2  NFT_133\n",
       "Test  0.500000  0.418505  0.521739  0.560000  0.116131      Zhao  NFT_133"
      ]
     },
     "execution_count": 10,
     "metadata": {},
     "output_type": "execute_result"
    }
   ],
   "source": [
    "df = pd.concat(res)\n",
    "df.head()"
   ]
  },
  {
   "cell_type": "code",
   "execution_count": 11,
   "id": "386334a8-cb9d-4ec0-a65f-629e6e731ccb",
   "metadata": {},
   "outputs": [
    {
     "data": {
      "text/plain": [
       "array(['NFT_133', 'NFT_44', 'NFT_15672'], dtype=object)"
      ]
     },
     "execution_count": 11,
     "metadata": {},
     "output_type": "execute_result"
    }
   ],
   "source": [
    "df['mode'].unique()"
   ]
  },
  {
   "cell_type": "code",
   "execution_count": 12,
   "id": "2a58ebc2-4fe1-4643-b44c-ef925078035d",
   "metadata": {},
   "outputs": [],
   "source": [
    "mode_dict = {'NFT_133':'p=133', \n",
    "             'NFT_44':'p=44', \n",
    "             'NFT_15672':'p=15672'}\n",
    "\n",
    "df['mode'] = df['mode'].map(mode_dict)"
   ]
  },
  {
   "cell_type": "code",
   "execution_count": 13,
   "id": "5d335535-89d7-4781-a630-48db89216ae1",
   "metadata": {},
   "outputs": [
    {
     "data": {
      "text/plain": [
       "array(['p=133', 'p=44', 'p=15672'], dtype=object)"
      ]
     },
     "execution_count": 13,
     "metadata": {},
     "output_type": "execute_result"
    }
   ],
   "source": [
    "df['mode'].unique()"
   ]
  },
  {
   "cell_type": "code",
   "execution_count": null,
   "id": "9382dd28-acf7-4539-ac48-fe870c18be24",
   "metadata": {},
   "outputs": [],
   "source": []
  },
  {
   "cell_type": "code",
   "execution_count": 14,
   "id": "c431f562-b73c-486b-8872-d2a41d5eb5f7",
   "metadata": {},
   "outputs": [],
   "source": [
    "x_order = df.groupby('mode')['MCC'].mean().sort_values(ascending=False).index"
   ]
  },
  {
   "cell_type": "code",
   "execution_count": 15,
   "id": "35d87d3e-bd92-407c-8902-c220826a1704",
   "metadata": {},
   "outputs": [],
   "source": [
    "from itertools import combinations\n",
    "from statannotations.Annotator import Annotator\n",
    "box_pairs = list(combinations(x_order, 2))"
   ]
  },
  {
   "cell_type": "code",
   "execution_count": 16,
   "id": "ee881d22-ff73-4487-a5b4-077253815591",
   "metadata": {},
   "outputs": [
    {
     "name": "stdout",
     "output_type": "stream",
     "text": [
      "p-value annotation legend:\n",
      "      ns: 5.00e-02 < p <= 1.00e+00\n",
      "       *: 1.00e-02 < p <= 5.00e-02\n",
      "      **: 1.00e-03 < p <= 1.00e-02\n",
      "     ***: 1.00e-04 < p <= 1.00e-03\n",
      "    ****: p <= 1.00e-04\n",
      "\n",
      "p=44 vs. p=133: t-test paired samples, P_val:8.281e-02 t=1.859e+00\n",
      "p=133 vs. p=15672: t-test paired samples, P_val:9.980e-02 t=1.754e+00\n",
      "p=44 vs. p=15672: t-test paired samples, P_val:2.309e-03 t=3.663e+00\n",
      "p-value annotation legend:\n",
      "      ns: 5.00e-02 < p <= 1.00e+00\n",
      "       *: 1.00e-02 < p <= 5.00e-02\n",
      "      **: 1.00e-03 < p <= 1.00e-02\n",
      "     ***: 1.00e-04 < p <= 1.00e-03\n",
      "    ****: p <= 1.00e-04\n",
      "\n",
      "p=44 vs. p=133: t-test paired samples, P_val:8.780e-02 t=1.826e+00\n",
      "p=133 vs. p=15672: t-test paired samples, P_val:1.092e-02 t=2.903e+00\n",
      "p=44 vs. p=15672: t-test paired samples, P_val:8.044e-04 t=4.180e+00\n"
     ]
    },
    {
     "data": {
      "image/png": "[encoded data removed]",
      "text/plain": [
       "<Figure size 700x700 with 2 Axes>"
      ]
     },
     "metadata": {},
     "output_type": "display_data"
    }
   ],
   "source": [
    "fig,axes = plt.subplots(figsize=(7,7), ncols=2, nrows=1)\n",
    "\n",
    "(ax1, ax2) = axes\n",
    "\n",
    "for ax, y in zip([ax1, ax2,], ['MCC', 'F1', ]):\n",
    "    g = sns.swarmplot(data = df, x = 'mode', y = y, order = x_order, ax=ax, size=6,\n",
    "                  palette=cohort_map, dodge=False, linewidth = 0.0, hue = 'cohort')\n",
    "\n",
    "    g.get_legend().set_visible(False)\n",
    "    \n",
    "    sns.boxplot(data = df, x = 'mode', y = y, order = x_order, fliersize = 0, ax=ax, \n",
    "                palette='rainbow',  boxprops={'alpha':0.8})\n",
    "\n",
    "    ax.tick_params(axis='both', which='major', \n",
    "                   right = False, top=False, direction = 'out',reset = True)\n",
    "    \n",
    "    ax.set_xticklabels(x_order, \n",
    "                        rotation=60, \n",
    "                        ha=\"right\",  \n",
    "                        rotation_mode=\"anchor\")  # <====== HERE is the ke\n",
    "    ax.set_xlabel('')\n",
    "\n",
    "    annotator = Annotator(ax, pairs=box_pairs, data=df, x='mode', y=y, order=x_order)\n",
    "    annotator.configure(test='t-test_paired', text_format='star', loc='outside',)\n",
    "    annotator.apply_and_annotate()\n",
    "\n",
    "fig.tight_layout()\n",
    "fig.savefig('./Feature_level_impact_in_LOPO.svg', bbox_inches='tight')\n",
    "df.to_csv('Source_data_Feature_level_impact_in_LOPO.csv')"
   ]
  },
  {
   "cell_type": "code",
   "execution_count": 17,
   "id": "5ba557f0-7620-43b0-82a5-5837313cb3b1",
   "metadata": {},
   "outputs": [
    {
     "data": {
      "text/plain": [
       "{'Hugo': '#d60000',\n",
       " 'Riaz': '#8c3bff',\n",
       " 'Gide': '#018700',\n",
       " 'MGH': '#00acc6',\n",
       " 'Liu': '#97ff00',\n",
       " 'Allen': '#ff7ed1',\n",
       " 'SU2CLC2': '#6b004f',\n",
       " 'SU2CLC1': '#ffa52f',\n",
       " 'IMmotion150': '#573b00',\n",
       " 'Choueiri': '#005659',\n",
       " 'Miao': '#0000dd',\n",
       " 'IMVigor210': '#00fdcf',\n",
       " 'Rose': '#a17569',\n",
       " 'Snyder': '#bcb6ff',\n",
       " 'Zhao': '#95b577',\n",
       " 'Kim': '#bf03b8'}"
      ]
     },
     "execution_count": 17,
     "metadata": {},
     "output_type": "execute_result"
    }
   ],
   "source": [
    "cohort_map"
   ]
  },
  {
   "cell_type": "code",
   "execution_count": 18,
   "id": "edfec201-34f8-4921-8fd8-968216221e05",
   "metadata": {},
   "outputs": [],
   "source": [
    "import math\n",
    "import colorcet as cc\n",
    "import math\n",
    "import matplotlib.pyplot as plt\n",
    "import matplotlib.colors as mcolors\n",
    "from matplotlib.patches import Rectangle\n",
    "\n",
    "\n",
    "def plot_colortable(colors, *, ncols=4, sort_colors=True, anote = True, margin = 12, swatch_width = 30):\n",
    "\n",
    "    cell_width = 230\n",
    "    cell_height = 30\n",
    "    swatch_width = swatch_width\n",
    "    margin = margin\n",
    "\n",
    "    # Sort colors by hue, saturation, value and name.\n",
    "    if sort_colors is True:\n",
    "        names = sorted(\n",
    "            colors, key=lambda c: tuple(mcolors.rgb_to_hsv(mcolors.to_rgb(c))))\n",
    "    else:\n",
    "        names = list(colors)\n",
    "\n",
    "    n = len(names)\n",
    "    nrows = math.ceil(n / ncols)\n",
    "\n",
    "    width = cell_width * ncols + 2 * margin\n",
    "    height = cell_height * nrows + 2 * margin\n",
    "    dpi = 72\n",
    "\n",
    "    fig, ax = plt.subplots(figsize=(width / dpi, height / dpi), dpi=dpi)\n",
    "    fig.subplots_adjust(margin/width, margin/height,\n",
    "                        (width-margin)/width, (height-margin)/height)\n",
    "    ax.set_xlim(0, cell_width * ncols)\n",
    "    ax.set_ylim(cell_height * (nrows-0.5), -cell_height/2.)\n",
    "    ax.yaxis.set_visible(False)\n",
    "    ax.xaxis.set_visible(False)\n",
    "    ax.set_axis_off()\n",
    "\n",
    "    for i, name in enumerate(names):\n",
    "        row = i % nrows\n",
    "        col = i // nrows\n",
    "        y = row * cell_height\n",
    "\n",
    "        swatch_start_x = cell_width * col\n",
    "        text_pos_x = cell_width * col + swatch_width + 7\n",
    "\n",
    "        ax.text(text_pos_x, y, name, fontsize=14,\n",
    "                horizontalalignment='left',\n",
    "                verticalalignment='center')\n",
    "\n",
    "        ax.add_patch(\n",
    "            Rectangle(xy=(swatch_start_x, y-9), width=swatch_width,\n",
    "                      height=18, facecolor=colors[name], edgecolor='0.7')\n",
    "        )\n",
    "\n",
    "        if anote:\n",
    "            ax.text(swatch_start_x, y, colors[name], fontsize=10,\n",
    "                    horizontalalignment='left', color = 'white',\n",
    "                    verticalalignment='center')\n",
    "\n",
    "    return fig"
   ]
  },
  {
   "cell_type": "code",
   "execution_count": 19,
   "id": "0546e9ee-6efd-4a56-89c9-1e71eddc7d55",
   "metadata": {},
   "outputs": [
    {
     "data": {
      "image/png": "[encoded data removed]",
      "text/plain": [
       "<Figure size 630x880 with 1 Axes>"
      ]
     },
     "metadata": {},
     "output_type": "display_data"
    }
   ],
   "source": [
    "fig = plot_colortable(cohort_map, sort_colors = False, margin = 200, ncols=1)\n",
    "fig.tight_layout()\n",
    "fig.savefig('./cohort_color.pdf', bbox_inches='tight')"
   ]
  },
  {
   "cell_type": "code",
   "execution_count": null,
   "id": "de559719-35af-4abe-9447-c9a760c57c1f",
   "metadata": {},
   "outputs": [],
   "source": []
  },
  {
   "cell_type": "code",
   "execution_count": null,
   "id": "44b2b058-43a3-421e-8cfa-0e8fc967acb9",
   "metadata": {},
   "outputs": [],
   "source": []
  },
  {
   "cell_type": "code",
   "execution_count": null,
   "id": "ee5713be-8cb8-4e69-92e6-c0e0242dc095",
   "metadata": {},
   "outputs": [],
   "source": []
  }
 ],
 "metadata": {
  "kernelspec": {
   "display_name": "Python 3 (ipykernel)",
   "language": "python",
   "name": "python3"
  },
  "language_info": {
   "codemirror_mode": {
    "name": "ipython",
    "version": 3
   },
   "file_extension": ".py",
   "mimetype": "text/x-python",
   "name": "python",
   "nbconvert_exporter": "python",
   "pygments_lexer": "ipython3",
   "version": "3.8.18"
  }
 },
 "nbformat": 4,
 "nbformat_minor": 5
}
