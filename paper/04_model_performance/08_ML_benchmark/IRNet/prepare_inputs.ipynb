{
 "cells": [
  {
   "cell_type": "code",
   "execution_count": 23,
   "id": "f3696dad-bc7b-43b0-8564-44c2eca6b1fa",
   "metadata": {},
   "outputs": [],
   "source": [
    "import pandas as pd"
   ]
  },
  {
   "cell_type": "code",
   "execution_count": 24,
   "id": "9af002a7-4c89-42b9-a854-efc53579c636",
   "metadata": {},
   "outputs": [],
   "source": [
    "df = pd.read_csv('../EASIER/data/Gide_pipe_counts.csv', index_col=0)\n",
    "df1 = pd.read_csv('/home/shenwanxiang/Research/IRnet/data/Gide/counts.txt', sep = '\\t', index_col=0)\n",
    "df1[df.index].to_csv('./data/Gide_pipe_counts_irnet.txt',sep = '\\t')"
   ]
  },
  {
   "cell_type": "code",
   "execution_count": null,
   "id": "48578a52-47f8-4a82-a3a2-18aee4eb8a28",
   "metadata": {},
   "outputs": [],
   "source": []
  },
  {
   "cell_type": "code",
   "execution_count": 60,
   "id": "afc96ca9-0d3c-48f1-94ee-55e94204b80b",
   "metadata": {},
   "outputs": [],
   "source": [
    "df = pd.read_csv('../EASIER/data/Imvigor210_rpkg_counts.csv', index_col=0)\n",
    "dfc = pd.read_excel('../../../00_data/ITRP_dataset_latest.xlsx', sheet_name = 'IMVigor210', index_col=0)\n",
    "df.T.to_csv('./data/Imvigor210_counts_irnet.txt',sep = '\\t')"
   ]
  },
  {
   "cell_type": "code",
   "execution_count": null,
   "id": "0b7227f9-ce2a-4caa-9585-78034d09dc80",
   "metadata": {},
   "outputs": [],
   "source": []
  },
  {
   "cell_type": "code",
   "execution_count": 75,
   "id": "67d9ed5e-22df-400e-b610-a8be9aeae710",
   "metadata": {
    "scrolled": true
   },
   "outputs": [],
   "source": [
    "df = pd.read_csv('/home/shenwanxiang/Research/IRnet/data/Kim2018_PD1_Gastric_RNASeq/counts.txt', sep = '\\t', index_col=0)\n",
    "dfc = pd.read_excel('../../../00_data/ITRP_dataset_latest.xlsx', sheet_name = 'Kim', index_col=0)\n",
    "df.columns = df.columns.map(lambda x:x.replace('_RNA', '')).map(dfc.set_index('Patient_id').Sample_id)\n",
    "\n",
    "df = df[dfc.index]\n",
    "df.to_csv('./data/Kim_counts_irnet.txt',sep = '\\t')"
   ]
  },
  {
   "cell_type": "code",
   "execution_count": 73,
   "id": "9e711efa-dd55-49de-ac13-209eb7b2da0e",
   "metadata": {},
   "outputs": [],
   "source": []
  },
  {
   "cell_type": "code",
   "execution_count": null,
   "id": "b9fa69ee-58c8-4344-a321-4286f36d7a7f",
   "metadata": {},
   "outputs": [],
   "source": []
  }
 ],
 "metadata": {
  "kernelspec": {
   "display_name": "Python 3 (ipykernel)",
   "language": "python",
   "name": "python3"
  },
  "language_info": {
   "codemirror_mode": {
    "name": "ipython",
    "version": 3
   },
   "file_extension": ".py",
   "mimetype": "text/x-python",
   "name": "python",
   "nbconvert_exporter": "python",
   "pygments_lexer": "ipython3",
   "version": "3.8.18"
  }
 },
 "nbformat": 4,
 "nbformat_minor": 5
}
