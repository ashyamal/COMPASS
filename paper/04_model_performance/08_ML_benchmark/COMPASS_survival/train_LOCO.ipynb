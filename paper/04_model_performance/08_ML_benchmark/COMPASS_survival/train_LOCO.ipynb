{
 "cells": [
  {
   "cell_type": "code",
   "execution_count": 1,
   "id": "818c434f-37c9-4cca-95ef-2234908d620b",
   "metadata": {
    "tags": []
   },
   "outputs": [
    {
     "name": "stderr",
     "output_type": "stream",
     "text": [
      "/home/shenwanxiang/anaconda3/envs/compass/lib/python3.8/site-packages/tqdm/auto.py:21: TqdmWarning: IProgress not found. Please update jupyter and ipywidgets. See https://ipywidgets.readthedocs.io/en/stable/user_install.html\n",
      "  from .autonotebook import tqdm as notebook_tqdm\n"
     ]
    }
   ],
   "source": [
    "import pandas as pd\n",
    "import numpy as np\n",
    "import sys,os\n",
    "from tqdm import tqdm\n",
    "sys.path.insert(0, '/home/shenwanxiang/Research/aliyun_sync/COMPASS/')\n",
    "from baseline.immnue_score.scorer import ssGSEA\n",
    "\n",
    "from compass.utils import plot_embed_with_label\n",
    "from compass import PreTrainer, FineTuner, loadcompass #, get_minmal_epoch\n",
    "from compass.utils import plot_embed_with_label,plot_performance, score2\n",
    "from compass.tokenizer import CANCER_CODE, CONCEPT\n",
    "\n",
    "from sklearn.model_selection import train_test_split\n",
    "from sklearn.utils import shuffle\n",
    "from copy import deepcopy\n",
    "\n",
    "import seaborn as sns\n",
    "from matplotlib import pyplot as plt\n",
    "from samecode.survival.plot import KMPlot\n",
    "from sklearn.model_selection import train_test_split\n",
    "from lifelines.utils import concordance_index as lfcindex\n",
    "\n",
    "def onehot(S):\n",
    "    assert type(S) == pd.Series, 'Input type should be pd.Series'\n",
    "    dfd = pd.get_dummies(S, dummy_na=True)\n",
    "    nanidx = dfd[dfd[np.nan].astype(bool)].index\n",
    "    dfd.loc[nanidx, :] = np.nan\n",
    "    dfd = dfd.drop(columns=[np.nan])*1.\n",
    "    cols = dfd.sum().sort_values(ascending=False).index.tolist()\n",
    "    dfd = dfd[cols]\n",
    "    return dfd"
   ]
  },
  {
   "cell_type": "code",
   "execution_count": 2,
   "id": "ce3e0dbe-07ec-4506-afce-89524d30e9af",
   "metadata": {},
   "outputs": [],
   "source": [
    "def clear():\n",
    "    import torch, gc\n",
    "    gc.collect()\n",
    "    torch.cuda.empty_cache()  \n",
    "    torch.cuda.ipc_collect()"
   ]
  },
  {
   "cell_type": "code",
   "execution_count": null,
   "id": "2ffa8991-1afc-46b8-9a91-be4872659855",
   "metadata": {},
   "outputs": [],
   "source": []
  },
  {
   "cell_type": "code",
   "execution_count": 3,
   "id": "ce3b54dc-4cbe-4076-851c-670af8752570",
   "metadata": {},
   "outputs": [],
   "source": [
    "params = {'mode': 'PFT',\n",
    "        'seed':42,\n",
    "        'lr': 1e-3,\n",
    "        'device':'cuda:1',\n",
    "        'weight_decay': 1e-4,\n",
    "        'batch_size':16, \n",
    "        'patience':1e10,\n",
    "        'max_epochs': 100,\n",
    "        'task_loss_weight':1,\n",
    "        'load_decoder':False,\n",
    "        'task_loss_type': 'ce_loss', \n",
    "        'task_type': 'c',\n",
    "        'task_dense_layer': [16],\n",
    "        'task_batch_norms':True,\n",
    "        'entropy_weight': 0.0,\n",
    "        'with_wandb': False,\n",
    "        'save_best_model':False,\n",
    "        'verbose': False}"
   ]
  },
  {
   "cell_type": "code",
   "execution_count": 4,
   "id": "172e7352-2116-49f8-8c83-99ddbf117c1e",
   "metadata": {
    "tags": []
   },
   "outputs": [],
   "source": [
    "data_path = '/home/shenwanxiang/Research/aliyun_sync/COMPASS/paper/00_data/'\n",
    "df_label = pd.read_pickle(os.path.join(data_path, 'ITRP.PATIENT.TABLE.ALIGN'))\n",
    "df_tpm = pd.read_pickle(os.path.join(data_path, 'ITRP.TPM.TABLE'))\n",
    "df_tpm.shape, df_label.shape\n",
    "\n",
    "dfcx = df_label.cancer_type.map(CANCER_CODE).to_frame('cancer_code').join(df_tpm)\n",
    "\n",
    "pretrainer = loadcompass('/home/shenwanxiang/Research/aliyun_sync/COMPASS/paper/checkpoint/latest/pretrainer.pt')\n"
   ]
  },
  {
   "cell_type": "code",
   "execution_count": 5,
   "id": "2fdd6806-9d5a-446b-bb03-905b30354e6d",
   "metadata": {
    "tags": []
   },
   "outputs": [
    {
     "name": "stdout",
     "output_type": "stream",
     "text": [
      "860\n"
     ]
    }
   ],
   "source": [
    "y = pd.read_csv('../Clinical_Transformer/data/ITRP_clinical.csv', index_col=0)\n",
    "y = y[(~y.OS_Months.isna()) & (~y.OS_Event.isna())]\n",
    "y['time'] = y['OS_Months']\n",
    "y['event'] = y['OS_Event']\n",
    "y = y[['time', 'event','cohort', 'ICI_target', 'ICI','cancer_type','response_label', 'TMB']]\n",
    "cohort_list = y.cohort.unique()\n",
    "print(len(y))"
   ]
  },
  {
   "cell_type": "code",
   "execution_count": 6,
   "id": "4e9f9d63-3e46-4327-845e-d6f9913768cc",
   "metadata": {},
   "outputs": [],
   "source": [
    "dfcx = dfcx.loc[y.index]\n",
    "features = dfcx.columns\n",
    "\n",
    "repetitions  = 10\n",
    "seeds = [24, 42, 64]"
   ]
  },
  {
   "cell_type": "code",
   "execution_count": 7,
   "id": "085c7d51-dc32-4f5f-b55e-92c8159a0275",
   "metadata": {},
   "outputs": [
    {
     "data": {
      "text/plain": [
       "array(['IMVigor210', 'Rose', 'Snyder', 'SU2CLC1', 'SU2CLC2', 'Hugo',\n",
       "       'Gide', 'Liu', 'Riaz', 'Allen', 'MGH'], dtype=object)"
      ]
     },
     "execution_count": 7,
     "metadata": {},
     "output_type": "execute_result"
    }
   ],
   "source": [
    "y.cohort.unique()"
   ]
  },
  {
   "cell_type": "code",
   "execution_count": null,
   "id": "b89db769-c1ba-4128-8370-5bbe4809f7bc",
   "metadata": {},
   "outputs": [],
   "source": [
    "for cohort in [ 'SU2CLC1', 'Rose', 'Snyder', 'SU2CLC2', 'Hugo',\n",
    "               'Riaz', 'Allen', 'MGH']: \n",
    "    \n",
    "    data_train = y[y.cohort != cohort][['time', 'event', 'response_label']].join(dfcx)\n",
    "    data_test = y[y.cohort == cohort][['time', 'event','response_label']].join(dfcx)\n",
    "\n",
    "    work_dir = f'./LOCO_PFT/{cohort}'\n",
    "    if not os.path.exists(work_dir):\n",
    "        os.makedirs(work_dir)\n",
    "\n",
    "    res = []\n",
    "    for fd in range(repetitions):\n",
    "        inner_train_data, inner_valid_data = train_test_split(\n",
    "            data_train, \n",
    "            test_size=0.1, \n",
    "            random_state=fd,\n",
    "            stratify=data_train[['event']])\n",
    "\n",
    "        train_cohort_name = f'leave_{cohort}_fold_{fd}'\n",
    "        Y = onehot(inner_train_data['response_label'])\n",
    "        X = inner_train_data[features]\n",
    "\n",
    "        Y_val = onehot(inner_valid_data['response_label'])\n",
    "        X_val = inner_valid_data[features]\n",
    "\n",
    "        pretrainer = pretrainer.copy()\n",
    "        finetuner = FineTuner(pretrainer, **params, \n",
    "                              work_dir= work_dir, \n",
    "                              task_name = '%s' % train_cohort_name)\n",
    "        \n",
    "        finetuner = finetuner.tune_with_test(dfcx_train = X,\n",
    "                                             dfy_train = Y, \n",
    "                                             dfcx_test=X_val,\n",
    "                                             dfy_test=Y_val,)\n",
    "\n",
    "        dfh = pd.DataFrame(finetuner.performance)[[0, 3, 6]]\n",
    "        dfh.columns = ['epoch', 'loss', 'val_loss']\n",
    "        dfh.epoch = dfh.epoch + 1\n",
    "        dfh['seed'] = fd\n",
    "        dfh.to_csv(f'./{work_dir}/train_val_loss_fd_{fd}.csv')\n",
    "        res.append(dfh)\n",
    "        clear()            \n",
    "    res = []\n",
    "    for i in range(repetitions):\n",
    "        df = pd.read_csv(f'./{work_dir}/train_val_loss_fd_{i}.csv',index_col=0)\n",
    "        res.append(df)\n",
    "    \n",
    "    dfp = pd.concat(res)\n",
    "    best_epoch = dfp.groupby('epoch').val_loss.mean().idxmin()\n",
    "\n",
    "    for seed in seeds:\n",
    "        pretrainer = pretrainer.copy()\n",
    "        myparams = params.copy()\n",
    "        myparams['max_epochs'] = best_epoch\n",
    "        myparams['seed'] = seed\n",
    "        my_work_dir = f'./{work_dir}/seed_{seed}'\n",
    "        if not os.path.exists(my_work_dir):\n",
    "            os.makedirs(my_work_dir)\n",
    "\n",
    "        finetuner = FineTuner(pretrainer, **myparams, \n",
    "                              work_dir= my_work_dir, \n",
    "                              task_name = f'leave_{cohort}')\n",
    "        \n",
    "        finetuner = finetuner.tune(dfcx_train = data_train[features],\n",
    "                                   dfy_train = onehot(data_train['response_label']))\n",
    "\n",
    "        clear()\n",
    "        \n",
    "        dfc, dfp = finetuner.predict(data_test[features], batch_size= 128)\n",
    "        dfp['seed'] = seed\n",
    "        dfp['best_epoch'] = best_epoch\n",
    "        dfp['test_cohort'] = cohort\n",
    "        dfp.to_csv(f'./{my_work_dir}/test_data.csv')"
   ]
  },
  {
   "cell_type": "code",
   "execution_count": null,
   "id": "81518ed3-09b8-4281-9886-0caea019403b",
   "metadata": {},
   "outputs": [],
   "source": []
  },
  {
   "cell_type": "code",
   "execution_count": null,
   "id": "6a5a62b0-6e7b-42c8-a654-a1377ffe2377",
   "metadata": {},
   "outputs": [],
   "source": []
  },
  {
   "cell_type": "code",
   "execution_count": null,
   "id": "44ad58a8-bcf2-4a98-997b-813b683472b4",
   "metadata": {},
   "outputs": [],
   "source": []
  },
  {
   "cell_type": "code",
   "execution_count": null,
   "id": "36705279-5d26-445f-a31b-7ee0751f81fd",
   "metadata": {},
   "outputs": [],
   "source": []
  }
 ],
 "metadata": {
  "kernelspec": {
   "display_name": "Python 3 (ipykernel)",
   "language": "python",
   "name": "python3"
  },
  "language_info": {
   "codemirror_mode": {
    "name": "ipython",
    "version": 3
   },
   "file_extension": ".py",
   "mimetype": "text/x-python",
   "name": "python",
   "nbconvert_exporter": "python",
   "pygments_lexer": "ipython3",
   "version": "3.8.18"
  }
 },
 "nbformat": 4,
 "nbformat_minor": 5
}
