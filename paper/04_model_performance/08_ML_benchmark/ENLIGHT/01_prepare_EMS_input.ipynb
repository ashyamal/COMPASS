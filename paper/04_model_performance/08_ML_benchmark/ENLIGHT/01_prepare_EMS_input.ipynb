{
 "cells": [
  {
   "cell_type": "code",
   "execution_count": 1,
   "id": "24fefab3-4b5a-46e4-a09d-73c4152fc553",
   "metadata": {},
   "outputs": [],
   "source": [
    "import pandas as pd"
   ]
  },
  {
   "cell_type": "code",
   "execution_count": 4,
   "id": "615078c9-b577-4819-81e9-773bcca07fcc",
   "metadata": {},
   "outputs": [],
   "source": [
    "df = pd.read_csv('../EASIER/data/Gide_pipe_tpm.csv', index_col=0)\n",
    "df.T.to_csv('./data/Gide_EMS_input.csv')"
   ]
  },
  {
   "cell_type": "code",
   "execution_count": 23,
   "id": "059857cf-5404-4c85-99f8-d538fb7e62a8",
   "metadata": {},
   "outputs": [],
   "source": [
    "# df = pd.read_csv('../EASIER/data/Imvigor210_rpkg_tpm.csv', index_col=0)\n",
    "# batch_size = 80\n",
    "# dfs = [df.iloc[i:i+batch_size] for i in range(0, len(df), batch_size)]\n",
    "\n",
    "# for i, df in enumerate(dfs):\n",
    "#     df.T.to_csv('./data/Imvigor210_%s_EMS_input.csv' % i)"
   ]
  },
  {
   "cell_type": "code",
   "execution_count": 28,
   "id": "a3cf2a81-6c39-4d75-bc02-e9805f0d3eb8",
   "metadata": {},
   "outputs": [],
   "source": [
    "df = pd.read_csv('../IRNet///data/Kim_counts_irnet.txt',sep='\\t', index_col=0)\n",
    "df.columns = list(range(len(df.columns)))\n",
    "df.columns = 'P-' + df.columns.astype(str)\n",
    "df.to_csv('./data/Kim_EMS_input.csv')"
   ]
  },
  {
   "cell_type": "code",
   "execution_count": 27,
   "id": "cef5941a-c8c8-46fd-84d4-409805de52a3",
   "metadata": {},
   "outputs": [],
   "source": []
  },
  {
   "cell_type": "code",
   "execution_count": null,
   "id": "b0c8b059-c0a1-4e0d-abfb-e549453208c7",
   "metadata": {},
   "outputs": [],
   "source": []
  },
  {
   "cell_type": "code",
   "execution_count": null,
   "id": "2d97fbe5-1e23-42f3-880d-e7611dd17041",
   "metadata": {},
   "outputs": [],
   "source": []
  },
  {
   "cell_type": "code",
   "execution_count": null,
   "id": "536a26bc-c773-4365-bbc5-f61a929e7ab2",
   "metadata": {},
   "outputs": [],
   "source": []
  },
  {
   "cell_type": "code",
   "execution_count": null,
   "id": "94ce9869-55e9-417a-8f2f-ff76dea9af23",
   "metadata": {},
   "outputs": [],
   "source": []
  },
  {
   "cell_type": "code",
   "execution_count": 21,
   "id": "c1bbe14d-22f1-42cc-b885-557a8ea07b79",
   "metadata": {},
   "outputs": [],
   "source": []
  },
  {
   "cell_type": "code",
   "execution_count": 22,
   "id": "1914d20e-f8cd-44f3-beb2-81c6b230db62",
   "metadata": {},
   "outputs": [
    {
     "data": {
      "text/plain": [
       "[50, 50, 50, 50, 50, 48]"
      ]
     },
     "execution_count": 22,
     "metadata": {},
     "output_type": "execute_result"
    }
   ],
   "source": [
    "[len(x) for x in dfs]"
   ]
  },
  {
   "cell_type": "code",
   "execution_count": null,
   "id": "8df29eae-9918-4ad1-b7ff-a07db7cc2d85",
   "metadata": {},
   "outputs": [],
   "source": []
  },
  {
   "cell_type": "code",
   "execution_count": null,
   "id": "1f51c819-f262-436d-986d-495b964d8207",
   "metadata": {},
   "outputs": [],
   "source": []
  },
  {
   "cell_type": "code",
   "execution_count": null,
   "id": "7a33dc54-f720-4d00-8d6a-470b4a6d02ca",
   "metadata": {},
   "outputs": [],
   "source": []
  }
 ],
 "metadata": {
  "kernelspec": {
   "display_name": "Python 3 (ipykernel)",
   "language": "python",
   "name": "python3"
  },
  "language_info": {
   "codemirror_mode": {
    "name": "ipython",
    "version": 3
   },
   "file_extension": ".py",
   "mimetype": "text/x-python",
   "name": "python",
   "nbconvert_exporter": "python",
   "pygments_lexer": "ipython3",
   "version": "3.8.18"
  }
 },
 "nbformat": 4,
 "nbformat_minor": 5
}
