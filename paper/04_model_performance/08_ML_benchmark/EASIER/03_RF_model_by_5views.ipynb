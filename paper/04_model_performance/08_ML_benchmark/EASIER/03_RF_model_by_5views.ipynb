{
 "cells": [
  {
   "cell_type": "code",
   "execution_count": 1,
   "id": "9ce8ea26-100f-4f7e-8b18-b6f7ac226efc",
   "metadata": {
    "tags": []
   },
   "outputs": [],
   "source": [
    "import pandas as pd\n",
    "import numpy as np\n",
    "from sklearn.ensemble import RandomForestClassifier\n",
    "from sklearn.model_selection import train_test_split, GridSearchCV\n",
    "from sklearn.metrics import classification_report, confusion_matrix, roc_auc_score\n",
    "from sklearn.preprocessing import LabelEncoder"
   ]
  },
  {
   "cell_type": "code",
   "execution_count": 2,
   "id": "5d2bf4f1-bf75-4bfc-932b-3c8b8b0ccb6b",
   "metadata": {},
   "outputs": [],
   "source": [
    "df_x = pd.read_csv('./results/view_score/easier_view.csv', index_col=0)"
   ]
  },
  {
   "cell_type": "code",
   "execution_count": 3,
   "id": "8b738a1d-8422-4743-ad0a-768bb99d807b",
   "metadata": {},
   "outputs": [],
   "source": [
    "df_y = pd.read_pickle('../../../00_data/ITRP.PATIENT.TABLE')\n",
    "df_y1 = df_y[df_y.cohort != 'Gide']\n",
    "df_y2 = df_y[df_y.cohort == 'Gide']\n",
    "df_y2 = df_y2.set_index('rnaseq_id')\n",
    "df_y = pd.concat([df_y1, df_y2])"
   ]
  },
  {
   "cell_type": "code",
   "execution_count": 4,
   "id": "dc871b9f-43cb-42ad-90a9-dbd85eff0165",
   "metadata": {},
   "outputs": [
    {
     "data": {
      "text/plain": [
       "Index(['ccpairs', 'immunecells', 'lrpairs', 'pathways', 'tfs', 'cohort',\n",
       "       'response_label'],\n",
       "      dtype='object')"
      ]
     },
     "execution_count": 4,
     "metadata": {},
     "output_type": "execute_result"
    }
   ],
   "source": [
    "df = df_x.join(df_y['response_label'])\n",
    "df.columns"
   ]
  },
  {
   "cell_type": "code",
   "execution_count": 5,
   "id": "6a698a07-aad5-4b71-9e4e-26d2237463bb",
   "metadata": {},
   "outputs": [],
   "source": [
    "test_cohort = 'IMvigor210'\n",
    "\n",
    "df_test = df[df.cohort == test_cohort]\n",
    "df_train = df[df.cohort != test_cohort]"
   ]
  },
  {
   "cell_type": "code",
   "execution_count": 6,
   "id": "e14a7599-2950-445d-9439-c6df7c0e02e2",
   "metadata": {
    "tags": []
   },
   "outputs": [
    {
     "name": "stdout",
     "output_type": "stream",
     "text": [
      "Fitting 5 folds for each of 72 candidates, totalling 360 fits\n"
     ]
    },
    {
     "name": "stderr",
     "output_type": "stream",
     "text": [
      "/home/shenwanxiang/anaconda3/envs/compass/lib/python3.8/site-packages/sklearn/preprocessing/_label.py:114: DataConversionWarning: A column-vector y was passed when a 1d array was expected. Please change the shape of y to (n_samples, ), for example using ravel().\n",
      "  y = column_or_1d(y, warn=True)\n"
     ]
    },
    {
     "name": "stdout",
     "output_type": "stream",
     "text": [
      "✅ Best parameters from CV: {'max_depth': 5, 'max_features': 'sqrt', 'min_samples_split': 10, 'n_estimators': 500}\n",
      "\n",
      "📋 Classification Report:\n",
      "               precision    recall  f1-score   support\n",
      "\n",
      "          NR       0.81      0.80      0.81       557\n",
      "           R       0.61      0.64      0.62       278\n",
      "\n",
      "    accuracy                           0.74       835\n",
      "   macro avg       0.71      0.72      0.71       835\n",
      "weighted avg       0.75      0.74      0.75       835\n",
      "\n",
      "📊 Confusion Matrix:\n",
      " [[444 113]\n",
      " [101 177]]\n",
      "📈 ROC AUC Score (on full data): 0.8403639745295325\n"
     ]
    }
   ],
   "source": [
    "import pandas as pd\n",
    "from sklearn.linear_model import LogisticRegression\n",
    "from sklearn.model_selection import GridSearchCV, StratifiedKFold\n",
    "from sklearn.preprocessing import LabelEncoder\n",
    "from sklearn.metrics import classification_report, confusion_matrix, roc_auc_score\n",
    "\n",
    "# 假设 df 已定义\n",
    "# 前5列是特征，第6列是标签（'R' or 'NR'）\n",
    "\n",
    "# 1. 准备数据\n",
    "X = df_train[['ccpairs', 'immunecells', 'lrpairs', 'pathways', 'tfs']]\n",
    "y = df_train[['response_label']]\n",
    "\n",
    "# 2. 标签编码：'R' → 1, 'NR' → 0\n",
    "le = LabelEncoder()\n",
    "y_encoded = le.fit_transform(y)\n",
    "\n",
    "# # 3. 构建 Logistic Regression + 参数网格（含类别不平衡处理）\n",
    "# lr = LogisticRegression(solver='liblinear', class_weight='balanced', max_iter=1000)\n",
    "\n",
    "# param_grid = {\n",
    "#     'C': [0.01, 0.1, 1, 10, 100],         # 正则化强度\n",
    "#     'penalty': ['l1', 'l2']               # L1 / L2 正则项\n",
    "# }\n",
    "\n",
    "# 3. Construct Random Forest model with class_weight='balanced' for imbalanced data\n",
    "lr = RandomForestClassifier(\n",
    "    random_state=42,\n",
    "    class_weight='balanced'  # Handle class imbalance\n",
    ")\n",
    "\n",
    "# Parameter grid for hyperparameter search\n",
    "param_grid = {\n",
    "    'n_estimators': [100, 200, 500],        # Number of trees\n",
    "    'max_depth': [None, 5, 10, 20],         # Tree depth\n",
    "    'min_samples_split': [2, 5, 10],        # Minimum samples to split\n",
    "    'max_features': ['sqrt', 'log2']        # Feature selection strategy\n",
    "}\n",
    "\n",
    "\n",
    "# 4. 使用 stratified 交叉验证 + GridSearchCV\n",
    "cv = StratifiedKFold(n_splits=5, shuffle=True, random_state=42)\n",
    "\n",
    "grid_search = GridSearchCV(\n",
    "    estimator=lr,\n",
    "    param_grid=param_grid,\n",
    "    cv=cv,\n",
    "    scoring='roc_auc',\n",
    "    n_jobs=-1,\n",
    "    verbose=1\n",
    ")\n",
    "\n",
    "grid_search.fit(X, y_encoded)\n",
    "best_params = grid_search.best_params_\n",
    "\n",
    "# 5. 使用最佳参数重新训练逻辑回归模型\n",
    "# Final model trained on full data\n",
    "final_model = RandomForestClassifier(\n",
    "    random_state=42,\n",
    "    class_weight='balanced',\n",
    "    **best_params\n",
    ")\n",
    "final_model.fit(X, y_encoded)\n",
    "\n",
    "# 6. 在全体数据上评估模型（训练集内评估）\n",
    "y_pred = final_model.predict(X)\n",
    "y_proba = final_model.predict_proba(X)[:, 1]\n",
    "\n",
    "print(\"✅ Best parameters from CV:\", best_params)\n",
    "print(\"\\n📋 Classification Report:\\n\", classification_report(y_encoded, y_pred, target_names=le.classes_))\n",
    "print(\"📊 Confusion Matrix:\\n\", confusion_matrix(y_encoded, y_pred))\n",
    "print(\"📈 ROC AUC Score (on full data):\", roc_auc_score(y_encoded, y_proba))"
   ]
  },
  {
   "cell_type": "code",
   "execution_count": 7,
   "id": "7fd2b3e6-ec90-47a0-8c3a-b50f747870d0",
   "metadata": {},
   "outputs": [],
   "source": [
    "X_test = df_test[['ccpairs', 'immunecells', 'lrpairs', 'pathways', 'tfs']]\n",
    "y_test = df_test[['response_label']]\n",
    "\n",
    "test_y = final_model.predict_proba(X_test)[:, 1]\n",
    "\n",
    "dfres = pd.DataFrame(test_y, columns = ['EASIER'], index = df_test.index)\n",
    "dfres.to_csv('./EASIER_Leave_%s_out.csv' % test_cohort)"
   ]
  },
  {
   "cell_type": "code",
   "execution_count": null,
   "id": "a529c8eb-4986-4ca5-8b29-962f42ead920",
   "metadata": {
    "tags": []
   },
   "outputs": [],
   "source": []
  },
  {
   "cell_type": "code",
   "execution_count": 8,
   "id": "80871842-b071-4842-9198-25b5cad837b0",
   "metadata": {
    "tags": []
   },
   "outputs": [
    {
     "name": "stdout",
     "output_type": "stream",
     "text": [
      "Test ROC AUC: 0.570\n"
     ]
    },
    {
     "data": {
      "image/png": "[encoded data removed]",
      "text/plain": [
       "<Figure size 600x500 with 1 Axes>"
      ]
     },
     "metadata": {},
     "output_type": "display_data"
    }
   ],
   "source": [
    "from sklearn.metrics import roc_curve, auc\n",
    "import matplotlib.pyplot as plt\n",
    "\n",
    "# Binary labels: assume 'R' is positive\n",
    "from sklearn.preprocessing import LabelBinarizer\n",
    "\n",
    "lb = LabelBinarizer()\n",
    "y_test_bin = lb.fit_transform(y_test.values.ravel())  # 'R' → 1, 'NR' → 0\n",
    "\n",
    "# Compute ROC\n",
    "fpr, tpr, thresholds = roc_curve(y_test_bin, test_y)\n",
    "roc_auc = auc(fpr, tpr)\n",
    "\n",
    "# Print AUC score\n",
    "print(f\"Test ROC AUC: {roc_auc:.3f}\")\n",
    "\n",
    "# Plot\n",
    "plt.figure(figsize=(6, 5))\n",
    "plt.plot(fpr, tpr, label=f'ROC curve (AUC = {roc_auc:.2f})')\n",
    "plt.plot([0, 1], [0, 1], linestyle='--', color='gray')\n",
    "plt.xlabel(\"False Positive Rate\")\n",
    "plt.ylabel(\"True Positive Rate\")\n",
    "plt.title(\"Receiver Operating Characteristic\")\n",
    "plt.legend(loc=\"lower right\")\n",
    "plt.grid(True)\n",
    "plt.tight_layout()\n",
    "plt.show()"
   ]
  },
  {
   "cell_type": "code",
   "execution_count": null,
   "id": "829a2b95-85f1-4066-9814-759f739e319e",
   "metadata": {},
   "outputs": [],
   "source": []
  },
  {
   "cell_type": "code",
   "execution_count": null,
   "id": "7ca59014-a92a-46df-8ffe-1dc3a8aaf94d",
   "metadata": {},
   "outputs": [],
   "source": []
  },
  {
   "cell_type": "code",
   "execution_count": null,
   "id": "18e0c7f6-ecb0-45d0-8d5d-05ced3757429",
   "metadata": {},
   "outputs": [],
   "source": []
  },
  {
   "cell_type": "code",
   "execution_count": null,
   "id": "d5d9a115-736d-4f59-b26e-2cc3ac1fcd9a",
   "metadata": {},
   "outputs": [],
   "source": []
  }
 ],
 "metadata": {
  "kernelspec": {
   "display_name": "Python 3 (ipykernel)",
   "language": "python",
   "name": "python3"
  },
  "language_info": {
   "codemirror_mode": {
    "name": "ipython",
    "version": 3
   },
   "file_extension": ".py",
   "mimetype": "text/x-python",
   "name": "python",
   "nbconvert_exporter": "python",
   "pygments_lexer": "ipython3",
   "version": "3.8.18"
  }
 },
 "nbformat": 4,
 "nbformat_minor": 5
}
