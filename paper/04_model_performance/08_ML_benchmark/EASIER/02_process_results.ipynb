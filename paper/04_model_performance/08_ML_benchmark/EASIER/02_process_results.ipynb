{
 "cells": [
  {
   "cell_type": "code",
   "execution_count": 2,
   "id": "778b0858-5678-42c6-b200-4180cc378dc9",
   "metadata": {},
   "outputs": [],
   "source": [
    "import pandas as pd\n",
    "from glob import glob\n",
    "import os"
   ]
  },
  {
   "cell_type": "code",
   "execution_count": 3,
   "id": "1872079f-3df3-4ace-86d6-6be09de269de",
   "metadata": {},
   "outputs": [],
   "source": [
    "csvs = glob('./results/*.csv')"
   ]
  },
  {
   "cell_type": "code",
   "execution_count": 4,
   "id": "8d8e8e3e-f117-45e2-9573-5acf056140d6",
   "metadata": {},
   "outputs": [],
   "source": [
    "res = []\n",
    "for csv in csvs:\n",
    "    cohort = os.path.basename(csv).split('_')[0]\n",
    "\n",
    "    df = pd.read_csv('./results/%s_easier.csv' % cohort, index_col=0)\n",
    "    dfc = pd.DataFrame(df.columns.map(lambda x:x.split('.')))[0].apply(pd.Series)\n",
    "    \n",
    "    base_names = sorted(set(col.rsplit('.', 1)[0] for col in df.columns))\n",
    "    \n",
    "    averaged_df = pd.DataFrame(index=df.index)\n",
    "    \n",
    "    for base in base_names:\n",
    "        matched_cols = [col for col in df.columns if col.startswith(base + '.')]\n",
    "        averaged_df[base] = df[matched_cols].mean(axis=1)\n",
    "    \n",
    "    view_names = averaged_df.columns.str.split('.').str[0]\n",
    "    \n",
    "    view_level_df = averaged_df.groupby(view_names, axis=1).mean()\n",
    "    #dfe = view_level_df.mean(axis=1).to_frame(name = 'EASIER_ensemble')\n",
    "    view_level_df['cohort'] = cohort\n",
    "    res.append(view_level_df)"
   ]
  },
  {
   "cell_type": "code",
   "execution_count": 6,
   "id": "e8787f24-fa34-4d00-8a24-21ff87a20427",
   "metadata": {},
   "outputs": [],
   "source": [
    "df = pd.concat(res)"
   ]
  },
  {
   "cell_type": "code",
   "execution_count": 7,
   "id": "b58ff665-5a65-4313-90f8-a643c8ed23f0",
   "metadata": {},
   "outputs": [],
   "source": [
    "df.to_csv('./results/view_score/easier_view.csv')"
   ]
  },
  {
   "cell_type": "code",
   "execution_count": 13,
   "id": "5ffd2435-d8db-4a76-8f3c-ba5b5b2faa3f",
   "metadata": {},
   "outputs": [],
   "source": [
    "df['EASIER_ensemble'] = df[['ccpairs', 'immunecells', 'lrpairs', 'pathways', 'tfs']].mean(axis=1)"
   ]
  },
  {
   "cell_type": "code",
   "execution_count": 14,
   "id": "ffe3460f-65d7-4a16-bab0-eff985014fc3",
   "metadata": {},
   "outputs": [],
   "source": [
    "df[['EASIER_ensemble', 'cohort']].to_csv('./results/view_score/easier_score.csv')"
   ]
  },
  {
   "cell_type": "code",
   "execution_count": null,
   "id": "8b73dec1-e83a-4926-a651-226cd9a23c45",
   "metadata": {},
   "outputs": [],
   "source": []
  },
  {
   "cell_type": "code",
   "execution_count": null,
   "id": "fc0007b5-0559-45e7-afbd-6190a80c6f7f",
   "metadata": {},
   "outputs": [],
   "source": []
  },
  {
   "cell_type": "code",
   "execution_count": null,
   "id": "270a4f19-1a31-4922-a5ae-ecfbc24034ac",
   "metadata": {},
   "outputs": [],
   "source": []
  },
  {
   "cell_type": "code",
   "execution_count": null,
   "id": "319497b6-abf0-42ef-9ea2-b8ce698d969b",
   "metadata": {},
   "outputs": [],
   "source": []
  },
  {
   "cell_type": "code",
   "execution_count": null,
   "id": "153af9fd-c455-4135-a9a1-f6906f5bedd3",
   "metadata": {},
   "outputs": [],
   "source": []
  },
  {
   "cell_type": "code",
   "execution_count": null,
   "id": "a41f2056-9678-4be4-a14e-aba2aac22218",
   "metadata": {},
   "outputs": [],
   "source": []
  },
  {
   "cell_type": "code",
   "execution_count": null,
   "id": "e41140b4-1805-4034-bb61-66501b970105",
   "metadata": {},
   "outputs": [],
   "source": []
  }
 ],
 "metadata": {
  "kernelspec": {
   "display_name": "Python 3 (ipykernel)",
   "language": "python",
   "name": "python3"
  },
  "language_info": {
   "codemirror_mode": {
    "name": "ipython",
    "version": 3
   },
   "file_extension": ".py",
   "mimetype": "text/x-python",
   "name": "python",
   "nbconvert_exporter": "python",
   "pygments_lexer": "ipython3",
   "version": "3.8.18"
  }
 },
 "nbformat": 4,
 "nbformat_minor": 5
}
