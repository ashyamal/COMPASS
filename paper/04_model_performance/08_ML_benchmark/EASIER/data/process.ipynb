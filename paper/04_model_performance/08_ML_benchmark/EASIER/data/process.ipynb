{
 "cells": [
  {
   "cell_type": "code",
   "execution_count": 111,
   "id": "146dab0f-801b-4ecb-ba2d-7ed2a7ae3d2e",
   "metadata": {},
   "outputs": [
    {
     "name": "stdout",
     "output_type": "stream",
     "text": [
      "total 12M\n",
      "-rw-rw-r-- 1 shenwanxiang shenwanxiang 5.8K 3月  16 15:38 Kim_clinical.tsv\n",
      "-rw-rw-r-- 1 shenwanxiang shenwanxiang  12M 3月  16 15:38 Kim_tpm.tsv\n"
     ]
    }
   ],
   "source": [
    "import pandas as pd\n",
    "!ls -lh ../../../../00_data/STAD"
   ]
  },
  {
   "cell_type": "code",
   "execution_count": 107,
   "id": "fed66313-13ee-44fe-802f-a6f9135122aa",
   "metadata": {},
   "outputs": [],
   "source": [
    "cohort = 'SU2CLC2'\n",
    "dfc = pd.read_csv('../../../../00_data/LUSC/%s_clinical.tsv' % cohort,sep='\\t', index_col=0)\n",
    "dfc.to_csv('./%s_clinical.csv' % cohort)\n",
    "\n",
    "dfc3 = pd.read_csv('../../../../00_data/LUSC/%s_tpm.tsv' % cohort, sep='\\t', index_col=0)\n",
    "dfc3.to_csv('./%s_tpm.csv' % cohort)"
   ]
  },
  {
   "cell_type": "code",
   "execution_count": 108,
   "id": "74c33d3e-3f23-4d81-9548-5aa91eb6f19b",
   "metadata": {},
   "outputs": [],
   "source": [
    "gene_lengths = pd.read_pickle('../gene_length//gene_length.pkl')"
   ]
  },
  {
   "cell_type": "code",
   "execution_count": 109,
   "id": "ec4a60c3-0637-482b-adc6-320432f736ba",
   "metadata": {},
   "outputs": [],
   "source": [
    "gene_lengths = gene_lengths[dfc3.columns]  # reorder to match dfc3\n",
    "\n",
    "# 2. 转换基因长度为 kilobases (kb)\n",
    "gene_lengths_kb = gene_lengths / 1000.0\n",
    "\n",
    "# 3. 计算 scaling factor：每个样本的 TPM * gene_length 的总和\n",
    "scaling_factors = (dfc3 * gene_lengths_kb).sum(axis=1)  # sum across genes per sample\n",
    "\n",
    "# 4. TPM → counts\n",
    "counts = dfc3.mul(gene_lengths_kb, axis=1)  # TPM * gene_length\n",
    "counts = counts.mul(scaling_factors / 1e6, axis=0)  # * (scaling factor / 1e6) for each sample\n",
    "\n",
    "# 5. 可选：四舍五入为整数\n",
    "counts = counts.round().astype(int)\n",
    "counts.to_csv('./%s_counts_impu.csv' % cohort)"
   ]
  },
  {
   "cell_type": "code",
   "execution_count": null,
   "id": "282810cd-6651-4f5e-ad8a-54ec879c973d",
   "metadata": {},
   "outputs": [],
   "source": []
  },
  {
   "cell_type": "code",
   "execution_count": null,
   "id": "2cfc75d7-0bc5-4014-92b2-32a0159f3d14",
   "metadata": {},
   "outputs": [],
   "source": []
  },
  {
   "cell_type": "code",
   "execution_count": null,
   "id": "5fd5f80c-82b4-46c3-9ae2-25d086e31eeb",
   "metadata": {},
   "outputs": [],
   "source": []
  }
 ],
 "metadata": {
  "kernelspec": {
   "display_name": "Python 3 (ipykernel)",
   "language": "python",
   "name": "python3"
  },
  "language_info": {
   "codemirror_mode": {
    "name": "ipython",
    "version": 3
   },
   "file_extension": ".py",
   "mimetype": "text/x-python",
   "name": "python",
   "nbconvert_exporter": "python",
   "pygments_lexer": "ipython3",
   "version": "3.8.18"
  }
 },
 "nbformat": 4,
 "nbformat_minor": 5
}
