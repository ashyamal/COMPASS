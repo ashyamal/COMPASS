{
 "cells": [
  {
   "cell_type": "code",
   "execution_count": 5,
   "id": "afca65bd-a7f0-4af1-983a-3b8bdd221e64",
   "metadata": {},
   "outputs": [
    {
     "name": "stderr",
     "output_type": "stream",
     "text": [
      "/tmp/ipykernel_334464/3020894844.py:21: SettingWithCopyWarning: \n",
      "A value is trying to be set on a copy of a slice from a DataFrame.\n",
      "Try using .loc[row_indexer,col_indexer] = value instead\n",
      "\n",
      "See the caveats in the documentation: https://pandas.pydata.org/pandas-docs/stable/user_guide/indexing.html#returning-a-view-versus-a-copy\n",
      "  genes['length'] = genes['end'] - genes['start'] + 1\n"
     ]
    }
   ],
   "source": [
    "import pandas as pd\n",
    "from gtfparse import read_gtf\n",
    "\n",
    "def parse_attr(attr):\n",
    "    items = attr.split('; ')\n",
    "    res={}\n",
    "    for it in items:\n",
    "        its = it.split(' ')\n",
    "        its = [it.replace('\"','').replace(';','') for it in its]\n",
    "        res[its[0]] = its[1]\n",
    "    return res\n",
    "    \n",
    "# 1. 读取 GTF 文件\n",
    "gtf_file = \"gencode.v36.annotation.gtf.gz\"\n",
    "gtf_data = pd.read_csv(gtf_file,sep='\\t',header=None,comment='#',\n",
    "                       names=['seqname', 'source', 'feature', 'start', 'end', 'score', 'strand', 'frame', 'attribute'])\n",
    "\n",
    "# 提取基因信息\n",
    "genes = gtf_data[gtf_data['feature'] == 'gene']\n",
    "genes_attr = genes.attribute.apply(parse_attr).apply(pd.Series)\n",
    "genes['length'] = genes['end'] - genes['start'] + 1\n",
    "dfg = genes[['seqname', 'source', 'score', 'strand', 'frame', 'length']].join(genes_attr[['gene_id', 'gene_type', 'gene_name']])\n",
    "dfg = dfg.set_index('gene_id')\n"
   ]
  },
  {
   "cell_type": "code",
   "execution_count": 7,
   "id": "01f5da36-84b0-4948-9b71-d0d3ce3ed539",
   "metadata": {},
   "outputs": [],
   "source": [
    "dfg.to_csv('./gene_info.csv')"
   ]
  },
  {
   "cell_type": "code",
   "execution_count": 10,
   "id": "9a16c76d-03f0-4b33-acde-a5c77bc00fe0",
   "metadata": {
    "scrolled": true
   },
   "outputs": [],
   "source": [
    "import pandas as pd\n",
    "from collections import defaultdict\n",
    "\n",
    "# 1. Load the GTF file as a DataFrame\n",
    "gtf = pd.read_csv(\"gencode.v36.annotation.gtf.gz\", sep='\\t', comment='#', header=None,\n",
    "                  names=[\"seqname\", \"source\", \"feature\", \"start\", \"end\", \"score\", \"strand\", \"frame\", \"attribute\"])\n",
    "\n",
    "# 2. Filter for exons only\n",
    "exons = gtf[gtf[\"feature\"] == \"exon\"].copy()\n",
    "\n",
    "# 3. Extract gene_name from the attribute column\n",
    "import re\n",
    "\n",
    "def extract_gene_name(attr_str):\n",
    "    match = re.search(r'gene_name \"([^\"]+)\"', attr_str)\n",
    "    return match.group(1) if match else None\n",
    "\n",
    "exons[\"gene_name\"] = exons[\"attribute\"].apply(extract_gene_name)\n",
    "\n",
    "# 4. Group exons by gene and merge overlapping intervals\n",
    "def merge_intervals(intervals):\n",
    "    if not intervals:\n",
    "        return []\n",
    "    # Sort intervals by start\n",
    "    intervals = sorted(intervals, key=lambda x: x[0])\n",
    "    merged = [intervals[0]]\n",
    "    for current in intervals[1:]:\n",
    "        prev = merged[-1]\n",
    "        if current[0] <= prev[1]:\n",
    "            merged[-1] = (prev[0], max(prev[1], current[1]))\n",
    "        else:\n",
    "            merged.append(current)\n",
    "    return merged\n",
    "\n",
    "# 5. Compute gene lengths\n",
    "gene_intervals = defaultdict(list)\n",
    "for _, row in exons.iterrows():\n",
    "    gene = row[\"gene_name\"]\n",
    "    start = row[\"start\"]\n",
    "    end = row[\"end\"]\n",
    "    gene_intervals[gene].append((start, end))\n",
    "\n",
    "gene_lengths = {}\n",
    "for gene, intervals in gene_intervals.items():\n",
    "    merged = merge_intervals(intervals)\n",
    "    total_length = sum(end - start + 1 for start, end in merged)\n",
    "    gene_lengths[gene] = total_length\n",
    "\n",
    "# 6. Convert to pandas Series\n",
    "gene_lengths = pd.Series(gene_lengths)\n"
   ]
  },
  {
   "cell_type": "code",
   "execution_count": 12,
   "id": "7be887d9-848c-44a7-aa86-f5d48f216df7",
   "metadata": {},
   "outputs": [],
   "source": [
    "gene_lengths.to_pickle('./gene_length.pkl')"
   ]
  },
  {
   "cell_type": "code",
   "execution_count": null,
   "id": "e3e88bd8-146c-437e-bd89-748af1c637a5",
   "metadata": {},
   "outputs": [],
   "source": []
  }
 ],
 "metadata": {
  "kernelspec": {
   "display_name": "Python 3 (ipykernel)",
   "language": "python",
   "name": "python3"
  },
  "language_info": {
   "codemirror_mode": {
    "name": "ipython",
    "version": 3
   },
   "file_extension": ".py",
   "mimetype": "text/x-python",
   "name": "python",
   "nbconvert_exporter": "python",
   "pygments_lexer": "ipython3",
   "version": "3.8.18"
  }
 },
 "nbformat": 4,
 "nbformat_minor": 5
}
