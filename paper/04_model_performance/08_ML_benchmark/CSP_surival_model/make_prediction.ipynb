{
 "cells": [
  {
   "cell_type": "code",
   "execution_count": 6,
   "id": "84482c20-eb80-4e52-873f-df704506935b",
   "metadata": {},
   "outputs": [],
   "source": [
    "import csp_predictor as csp\n",
    "import pandas as pd\n",
    "import os"
   ]
  },
  {
   "cell_type": "code",
   "execution_count": 7,
   "id": "c18eda39-abed-47c9-a13c-5bfbef1dc341",
   "metadata": {},
   "outputs": [],
   "source": [
    "import pandas as pd\n",
    "import numpy as np\n",
    "\n",
    "def compute_agme_per_sample_mean(train_expr, pathways_csv, hidden_size=200):\n",
    "\n",
    "    pw = pd.read_csv(pathways_csv)\n",
    "    pw_copy = pw.copy()\n",
    "    pw_copy[pw_copy.isnull()] = \"null_gene\"\n",
    "    gene_set = []\n",
    "    for i in range(pw_copy.shape[1]):\n",
    "        gene_set += list(pw_copy.iloc[:, i])\n",
    "\n",
    "    # 准备缺失基因列表（用于插补）\n",
    "    pw_t = np.array(pw.T)\n",
    "    pw_flat = pd.DataFrame(pw_t.reshape(-1)).dropna().values.reshape(-1)\n",
    "    selected_genes_raw = np.array(gene_set)\n",
    "    selected_genes_raw1 = selected_genes_raw.reshape(-1, hidden_size)\n",
    "    selected_genes_dropna = pw_flat.reshape(-1)\n",
    "\n",
    "    expr = train_expr\n",
    "    expr_T = expr.T.copy()\n",
    "    expr_T[\"null_gene\"] = 0.0\n",
    "    expr_T_copy = expr_T.copy()\n",
    "\n",
    "    not_available = list(set(selected_genes_dropna) - set(expr.index))\n",
    "\n",
    "    for gene_vector in selected_genes_raw1:\n",
    "        avail = list(set(gene_vector) - set(not_available))\n",
    "        for g in gene_vector:\n",
    "            if g in not_available and g != \"null_gene\":\n",
    "                expr_T[g] = (np.power(2, pd.DataFrame(np.log2(expr_T_copy[avail] + 1)).mean(axis=1)) - 1)\n",
    "\n",
    "\n",
    "    expr_ordered = expr_T.loc[:, selected_genes_raw]\n",
    "\n",
    "    per_sample_sum = expr_ordered.sum(axis=1).astype(float)\n",
    "    return float(per_sample_sum.mean())\n"
   ]
  },
  {
   "cell_type": "code",
   "execution_count": 8,
   "id": "8a77788d-2863-43b5-8c28-149a25ef26aa",
   "metadata": {},
   "outputs": [],
   "source": [
    "data_path = '/home/shenwanxiang/Research/aliyun_sync/COMPASS/paper/00_data/'\n",
    "df_label = pd.read_pickle(os.path.join(data_path, 'ITRP.PATIENT.TABLE.ALIGN'))\n",
    "df_tpm = pd.read_pickle(os.path.join(data_path, 'ITRP.TPM.TABLE'))\n"
   ]
  },
  {
   "cell_type": "code",
   "execution_count": 9,
   "id": "cba15e9d-906e-4a09-9cac-2c4311814f8e",
   "metadata": {
    "scrolled": true
   },
   "outputs": [
    {
     "name": "stdout",
     "output_type": "stream",
     "text": [
      "37\n",
      "37\n",
      "37\n",
      "37\n",
      "37\n",
      "37\n",
      "37\n",
      "37\n",
      "37\n",
      "37\n",
      "37\n",
      "37\n",
      "37\n",
      "37\n",
      "37\n",
      "37\n"
     ]
    }
   ],
   "source": [
    "res= [] \n",
    "for cohort in df_label.cohort.unique():\n",
    "    dfc = df_tpm.loc[df_label[df_label.cohort==cohort].index].T\n",
    "\n",
    "    #dfc = np.log2(dfc + 1)\n",
    "    all_gene_mean_expression_value = compute_agme_per_sample_mean(dfc, \n",
    "                                                                  pathways_csv = \"./CSP_survival_model/Deep_learning_input_pathways.csv\")\n",
    "    \n",
    "    dfp = csp.predict_df(\n",
    "        expr_df=dfc,\n",
    "        pathways_csv=\"./CSP_survival_model/Deep_learning_input_pathways.csv\",\n",
    "        model_pth=\"./CSP_survival_model/Trained_deep_learning_model.pth\",\n",
    "        is_tpm_format=True, #already do the transofrm\n",
    "        #all_gene_mean_expression_value = all_gene_mean_expression_value\n",
    "    \n",
    "    )\n",
    "    res.append(dfp)"
   ]
  },
  {
   "cell_type": "code",
   "execution_count": 10,
   "id": "684f1ab7-1fda-4229-92b9-afc9733f6fbe",
   "metadata": {},
   "outputs": [],
   "source": [
    "pd.concat(res).to_csv('csp_itrp.csv')"
   ]
  },
  {
   "cell_type": "code",
   "execution_count": null,
   "id": "f7e8b99e-2272-46c6-96bf-f525b22ee346",
   "metadata": {},
   "outputs": [],
   "source": []
  },
  {
   "cell_type": "code",
   "execution_count": null,
   "id": "dcc64fd2-a9f0-4ef2-89e4-30715a04e1f2",
   "metadata": {},
   "outputs": [],
   "source": []
  },
  {
   "cell_type": "code",
   "execution_count": null,
   "id": "9e8a7fec-c24e-49ae-b6bb-3a89805738d6",
   "metadata": {},
   "outputs": [],
   "source": []
  },
  {
   "cell_type": "code",
   "execution_count": null,
   "id": "dce28d94-04c8-4132-a673-1fdd0fa18d92",
   "metadata": {},
   "outputs": [],
   "source": []
  }
 ],
 "metadata": {
  "kernelspec": {
   "display_name": "Python 3 (ipykernel)",
   "language": "python",
   "name": "python3"
  },
  "language_info": {
   "codemirror_mode": {
    "name": "ipython",
    "version": 3
   },
   "file_extension": ".py",
   "mimetype": "text/x-python",
   "name": "python",
   "nbconvert_exporter": "python",
   "pygments_lexer": "ipython3",
   "version": "3.7.16"
  }
 },
 "nbformat": 4,
 "nbformat_minor": 5
}
