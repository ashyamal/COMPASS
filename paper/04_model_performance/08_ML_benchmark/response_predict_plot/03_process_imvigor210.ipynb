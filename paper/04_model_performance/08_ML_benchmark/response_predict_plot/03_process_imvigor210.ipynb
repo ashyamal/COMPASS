{
 "cells": [
  {
   "cell_type": "code",
   "execution_count": 3,
   "id": "fb397e48-be36-41cc-8798-45c02cacacf9",
   "metadata": {
    "scrolled": true
   },
   "outputs": [],
   "source": [
    "import pandas as pd\n",
    "dfc = pd.read_csv('../EASIER/data/Imvigor210_clinical.csv',index_col=0)"
   ]
  },
  {
   "cell_type": "code",
   "execution_count": 4,
   "id": "d4ae1fc2-519e-4f0b-8733-81f2692af327",
   "metadata": {},
   "outputs": [],
   "source": [
    "df = pd.read_csv('../IRNet/results/Imvigor210_prediction_results/prediction_results.txt',index_col=0,sep = '\\t')\n",
    "df['Predicted score'].to_frame(name = 'IRnet').to_csv('./IMVigor210_IRnet_score.csv')"
   ]
  },
  {
   "cell_type": "code",
   "execution_count": 5,
   "id": "1bb3fe75-d491-4fd1-a100-fc16d9f2c240",
   "metadata": {},
   "outputs": [],
   "source": [
    "df1 = pd.read_csv('../../02_leave_one_cohort_out/conceptor_run/LOCO_a100/LOCO_PFT_24/source_performance.tsv',sep = '\\t', index_col = 0)\n",
    "df1 = df1[df1.test_cohort == 'IMVigor210']['1'].to_frame(name = 'COMPASS_score_24')\n",
    "\n",
    "df2 = pd.read_csv('../../02_leave_one_cohort_out/conceptor_run/LOCO_a100/LOCO_PFT_42/source_performance.tsv',sep = '\\t', index_col = 0)\n",
    "df2 = df2[df2.test_cohort == 'IMVigor210']['1'].to_frame(name = 'COMPASS_score_42')\n",
    "\n",
    "df3 = pd.read_csv('../../02_leave_one_cohort_out/conceptor_run/LOCO_a100/LOCO_PFT_64/source_performance.tsv',sep = '\\t', index_col = 0)\n",
    "df3 = df3[df3.test_cohort == 'IMVigor210']['1'].to_frame(name = 'COMPASS_score_64')\n",
    "\n",
    "df = df1.join(df2).join(df3)\n",
    "#df.index = df.index.map(dfc.reset_index().set_index('Index').rnaseq_id)\n",
    "df.to_csv('IMVigor210_COMPASS_score.csv')"
   ]
  },
  {
   "cell_type": "code",
   "execution_count": 8,
   "id": "2b15261a-27aa-4c03-bd8a-6a302ae2c1f1",
   "metadata": {},
   "outputs": [],
   "source": [
    "df = pd.read_csv('../EASIER/EASIER_Leave_IMvigor210_out.csv',index_col=0)\n",
    "df.EASIER.to_frame('EASIER').to_csv('IMVigor210_EASIER_score.csv')"
   ]
  },
  {
   "cell_type": "code",
   "execution_count": 117,
   "id": "f520ea2c-f74a-44e7-ae16-d18150147a66",
   "metadata": {},
   "outputs": [],
   "source": [
    "# df = pd.read_csv('../ENLIGHT/results/Imvigor210_EMS_score.csv',index_col=0)\n",
    "# df.to_csv('IMVigor210_ENLIGHT_score.csv') there is no model for PD-L1"
   ]
  },
  {
   "cell_type": "code",
   "execution_count": null,
   "id": "dab01de8-bc8a-4c91-a4ee-ce150e1e886e",
   "metadata": {},
   "outputs": [],
   "source": []
  },
  {
   "cell_type": "code",
   "execution_count": null,
   "id": "d1ab5d17-1f46-447c-acc3-a3e3555ca1a8",
   "metadata": {},
   "outputs": [],
   "source": []
  },
  {
   "cell_type": "code",
   "execution_count": null,
   "id": "fb66e39c-bbba-4e3b-90cf-17026a514d7a",
   "metadata": {},
   "outputs": [],
   "source": []
  },
  {
   "cell_type": "code",
   "execution_count": null,
   "id": "cb1bdb0a-135a-44cf-93c3-a5f22447ec02",
   "metadata": {},
   "outputs": [],
   "source": []
  }
 ],
 "metadata": {
  "kernelspec": {
   "display_name": "Python 3 (ipykernel)",
   "language": "python",
   "name": "python3"
  },
  "language_info": {
   "codemirror_mode": {
    "name": "ipython",
    "version": 3
   },
   "file_extension": ".py",
   "mimetype": "text/x-python",
   "name": "python",
   "nbconvert_exporter": "python",
   "pygments_lexer": "ipython3",
   "version": "3.8.18"
  }
 },
 "nbformat": 4,
 "nbformat_minor": 5
}
