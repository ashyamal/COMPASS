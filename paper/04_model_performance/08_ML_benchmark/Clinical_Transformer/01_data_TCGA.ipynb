{
 "cells": [
  {
   "cell_type": "code",
   "execution_count": 1,
   "id": "db307829-5274-402f-aa25-1874e97d5b4f",
   "metadata": {
    "tags": []
   },
   "outputs": [
    {
     "name": "stderr",
     "output_type": "stream",
     "text": [
      "/home/shenwanxiang/anaconda3/envs/compass/lib/python3.8/site-packages/tqdm/auto.py:21: TqdmWarning: IProgress not found. Please update jupyter and ipywidgets. See https://ipywidgets.readthedocs.io/en/stable/user_install.html\n",
      "  from .autonotebook import tqdm as notebook_tqdm\n"
     ]
    }
   ],
   "source": [
    "import pandas as pd\n",
    "import sys,os\n",
    "from tqdm import tqdm\n",
    "sys.path.insert(0, '/home/shenwanxiang/Research/aliyun_sync/COMPASS/')\n",
    "from baseline.immnue_score.scorer import ssGSEA\n",
    "from compass.utils import plot_embed_with_label\n",
    "from compass import PreTrainer, FineTuner, loadcompass #, get_minmal_epoch\n",
    "from compass.utils import plot_embed_with_label,plot_performance, score2\n",
    "from compass.tokenizer import CANCER_CODE, CONCEPT"
   ]
  },
  {
   "cell_type": "code",
   "execution_count": 2,
   "id": "a55e9c01-dd8f-4aad-98fc-27dda4ddf13e",
   "metadata": {},
   "outputs": [],
   "source": [
    "data_path = '/home/shenwanxiang/Research/aliyun_sync/COMPASS/paper/00_data/'\n",
    "df_tpm = pd.read_pickle(os.path.join(data_path,  'TCGA.TPM.TABLE'))\n",
    "df_label = pd.read_pickle(os.path.join(data_path, 'TCGA.PATIENT.PROCESSED.TABLE'))\n",
    "df_label_org = pd.read_pickle(os.path.join(data_path, 'TCGA.PATIENT.TABLE'))\n",
    "\n",
    "dfcx = df_label.cancer_type.apply(lambda x:x.replace('TCGA-', '')).map(CANCER_CODE).to_frame('cancer_code').join(df_tpm)"
   ]
  },
  {
   "cell_type": "code",
   "execution_count": 11,
   "id": "2d682819-c9bd-4070-9b51-85891a15359a",
   "metadata": {},
   "outputs": [],
   "source": [
    "df_label_org.to_csv('./data/TCGA_clinical.csv')"
   ]
  },
  {
   "cell_type": "code",
   "execution_count": 4,
   "id": "c7d9ce55-b241-4aba-b64b-8be1baadc44b",
   "metadata": {},
   "outputs": [],
   "source": [
    "from joblib import Parallel, delayed\n",
    "def run_one(item):\n",
    "    name, g_list = item\n",
    "    gsea = ssGSEA(g_list, name)              # your original class\n",
    "    score_df = gsea.fit_transform(df_tpm)    # rows=samples, one column: NES_{name}\n",
    "    s = score_df.iloc[:, 0].copy()           # convert to a Series\n",
    "    s.name = name                            # final column name = geneset name\n",
    "    return name, s"
   ]
  },
  {
   "cell_type": "code",
   "execution_count": null,
   "id": "9367af26-7bf4-4485-ad40-033d00c065db",
   "metadata": {},
   "outputs": [],
   "source": []
  },
  {
   "cell_type": "code",
   "execution_count": 5,
   "id": "d7fac360-dcb2-4be0-a392-7f27601b1e63",
   "metadata": {},
   "outputs": [
    {
     "name": "stderr",
     "output_type": "stream",
     "text": [
      "100%|███████████████████████████████████████████████████████████████████████████████████| 29/29 [09:34<00:00, 19.81s/it]\n"
     ]
    }
   ],
   "source": [
    "gmt29  = pd.read_excel('./Fges_29_gmt.xlsx',sheet_name= 'Gene Description',skiprows=1)\n",
    "gmt29 = gmt29.groupby(['Gene signature']).Gene.apply(lambda x:x.tolist())\n",
    "\n",
    "items = list(gmt29.items())\n",
    "results = Parallel(n_jobs=4)(delayed(run_one)(it) for it in tqdm(items))\n",
    "dfc = pd.concat([s for _, s in results], axis=1)\n",
    "dfc.loc[df_label.index].to_csv('./data/TCGA_ssGSEA_Fegs29.csv')"
   ]
  },
  {
   "cell_type": "code",
   "execution_count": 8,
   "id": "14f0af34-7502-47fd-906d-499a8680e016",
   "metadata": {},
   "outputs": [
    {
     "name": "stderr",
     "output_type": "stream",
     "text": [
      "100%|███████████████████████████████████████████████████████████████████████████████████| 43/43 [14:11<00:00, 19.81s/it]\n"
     ]
    }
   ],
   "source": [
    "def _connect(x):\n",
    "    from itertools import chain\n",
    "    return list(set(chain(*[i.split(':') for i in x])))\n",
    "    \n",
    "concept_genes = CONCEPT.groupby('BroadCelltypePathway').Genes.apply(lambda x:x.tolist()).apply(_connect)\n",
    "\n",
    "items = list(concept_genes.items())\n",
    "results = Parallel(n_jobs=4)(delayed(run_one)(it) for it in tqdm(items))\n",
    "dfc = pd.concat([s for _, s in results], axis=1)\n",
    "dfc.columns = dfc.columns.map(lambda x:x.replace('NES_', ''))\n",
    "dfc = dfc[CONCEPT.groupby('BroadCelltypePathway').Concept_index.mean().sort_values().index]\n",
    "dfc.loc[df_label.index].to_csv('./data/TCGA_ssGSEA_concept43.csv')"
   ]
  },
  {
   "cell_type": "code",
   "execution_count": null,
   "id": "ef49d5c1-1998-4875-bdba-89116ff9cb37",
   "metadata": {},
   "outputs": [],
   "source": []
  },
  {
   "cell_type": "code",
   "execution_count": 9,
   "id": "37aa0d91-b4d1-437a-9fab-447ea9013b2f",
   "metadata": {},
   "outputs": [
    {
     "name": "stderr",
     "output_type": "stream",
     "text": [
      "100%|###################################################################################| 80/80 [04:31<00:00,  3.39s/it]\n"
     ]
    }
   ],
   "source": [
    "pretrainer = loadcompass('../../../checkpoint/latest/pretrainer.pt', map_location = 'cpu')\n",
    "dfg, dfc = pretrainer.extract(dfcx,  batch_size= 128)"
   ]
  },
  {
   "cell_type": "code",
   "execution_count": 10,
   "id": "cc466c79-5aa4-4728-b870-dbfd5d6c0f22",
   "metadata": {},
   "outputs": [],
   "source": [
    "dfc.to_csv('./data/TCGA_COMPASS_concept44.csv')"
   ]
  },
  {
   "cell_type": "code",
   "execution_count": null,
   "id": "2742b87e-ecc0-4efb-98d8-8812903ff1df",
   "metadata": {},
   "outputs": [],
   "source": []
  },
  {
   "cell_type": "code",
   "execution_count": null,
   "id": "962431a8-182e-460b-84cb-4740b141d2d3",
   "metadata": {},
   "outputs": [],
   "source": []
  },
  {
   "cell_type": "code",
   "execution_count": null,
   "id": "e11a4171-0bcf-4ac5-9eb1-4ae8afe58283",
   "metadata": {},
   "outputs": [],
   "source": []
  }
 ],
 "metadata": {
  "kernelspec": {
   "display_name": "Python 3 (ipykernel)",
   "language": "python",
   "name": "python3"
  },
  "language_info": {
   "codemirror_mode": {
    "name": "ipython",
    "version": 3
   },
   "file_extension": ".py",
   "mimetype": "text/x-python",
   "name": "python",
   "nbconvert_exporter": "python",
   "pygments_lexer": "ipython3",
   "version": "3.8.18"
  }
 },
 "nbformat": 4,
 "nbformat_minor": 5
}
