{
 "cells": [
  {
   "cell_type": "markdown",
   "id": "6c15ee86-0303-44ef-996e-1a2fb126a8c1",
   "metadata": {},
   "source": [
    "# Dataset"
   ]
  },
  {
   "cell_type": "code",
   "execution_count": 1,
   "id": "0240b606-448c-4b78-a1d3-a2d7ac4f0013",
   "metadata": {
    "tags": []
   },
   "outputs": [],
   "source": [
    "import pandas as pd"
   ]
  },
  {
   "cell_type": "code",
   "execution_count": 2,
   "id": "304755aa-390c-47f0-83d2-a59323b68860",
   "metadata": {
    "tags": []
   },
   "outputs": [
    {
     "data": {
      "text/html": [
       "<div>\n",
       "<style scoped>\n",
       "    .dataframe tbody tr th:only-of-type {\n",
       "        vertical-align: middle;\n",
       "    }\n",
       "\n",
       "    .dataframe tbody tr th {\n",
       "        vertical-align: top;\n",
       "    }\n",
       "\n",
       "    .dataframe thead th {\n",
       "        text-align: right;\n",
       "    }\n",
       "</style>\n",
       "<table border=\"1\" class=\"dataframe\">\n",
       "  <thead>\n",
       "    <tr style=\"text-align: right;\">\n",
       "      <th></th>\n",
       "      <th>Bcell_general</th>\n",
       "      <th>Memory_Bcell</th>\n",
       "      <th>Naive_Bcell</th>\n",
       "      <th>Plasma_cell</th>\n",
       "      <th>CD4_Tcell</th>\n",
       "      <th>CD8_Tcell</th>\n",
       "      <th>Memory_Tcell</th>\n",
       "      <th>Naive_Tcell</th>\n",
       "      <th>Tcell_general</th>\n",
       "      <th>Cytotoxic_Tcell</th>\n",
       "      <th>...</th>\n",
       "      <th>Pancreatic</th>\n",
       "      <th>Pneumocyte</th>\n",
       "      <th>Apoptosis_pathway</th>\n",
       "      <th>IFNg_pathway</th>\n",
       "      <th>TGFb_pathway</th>\n",
       "      <th>Cytokine</th>\n",
       "      <th>Cell_proliferation</th>\n",
       "      <th>TLS</th>\n",
       "      <th>Genome_integrity</th>\n",
       "      <th>Reference</th>\n",
       "    </tr>\n",
       "    <tr>\n",
       "      <th>bcr_patient_barcode</th>\n",
       "      <th></th>\n",
       "      <th></th>\n",
       "      <th></th>\n",
       "      <th></th>\n",
       "      <th></th>\n",
       "      <th></th>\n",
       "      <th></th>\n",
       "      <th></th>\n",
       "      <th></th>\n",
       "      <th></th>\n",
       "      <th></th>\n",
       "      <th></th>\n",
       "      <th></th>\n",
       "      <th></th>\n",
       "      <th></th>\n",
       "      <th></th>\n",
       "      <th></th>\n",
       "      <th></th>\n",
       "      <th></th>\n",
       "      <th></th>\n",
       "      <th></th>\n",
       "    </tr>\n",
       "  </thead>\n",
       "  <tbody>\n",
       "    <tr>\n",
       "      <th>TCGA-OR-A5KT</th>\n",
       "      <td>-0.218178</td>\n",
       "      <td>-0.237161</td>\n",
       "      <td>-0.289123</td>\n",
       "      <td>-0.296135</td>\n",
       "      <td>-0.144476</td>\n",
       "      <td>0.063948</td>\n",
       "      <td>-0.075668</td>\n",
       "      <td>-0.224018</td>\n",
       "      <td>-0.136550</td>\n",
       "      <td>-0.137467</td>\n",
       "      <td>...</td>\n",
       "      <td>-0.100397</td>\n",
       "      <td>-0.198979</td>\n",
       "      <td>0.538634</td>\n",
       "      <td>-0.053679</td>\n",
       "      <td>0.360821</td>\n",
       "      <td>-0.544394</td>\n",
       "      <td>0.094575</td>\n",
       "      <td>-0.191396</td>\n",
       "      <td>0.202061</td>\n",
       "      <td>3.551066</td>\n",
       "    </tr>\n",
       "    <tr>\n",
       "      <th>TCGA-OR-A5J9</th>\n",
       "      <td>-0.346705</td>\n",
       "      <td>-0.439882</td>\n",
       "      <td>-0.390477</td>\n",
       "      <td>-0.451796</td>\n",
       "      <td>-0.318219</td>\n",
       "      <td>-0.121118</td>\n",
       "      <td>-0.102408</td>\n",
       "      <td>-0.202347</td>\n",
       "      <td>-0.277214</td>\n",
       "      <td>-0.281176</td>\n",
       "      <td>...</td>\n",
       "      <td>-0.104548</td>\n",
       "      <td>-0.317988</td>\n",
       "      <td>0.466456</td>\n",
       "      <td>-0.218492</td>\n",
       "      <td>0.215293</td>\n",
       "      <td>-0.682925</td>\n",
       "      <td>0.097832</td>\n",
       "      <td>-0.351167</td>\n",
       "      <td>0.373223</td>\n",
       "      <td>3.559286</td>\n",
       "    </tr>\n",
       "    <tr>\n",
       "      <th>TCGA-OR-A5K0</th>\n",
       "      <td>-0.292412</td>\n",
       "      <td>-0.388674</td>\n",
       "      <td>-0.452966</td>\n",
       "      <td>-0.456801</td>\n",
       "      <td>-0.384349</td>\n",
       "      <td>-0.087100</td>\n",
       "      <td>-0.215037</td>\n",
       "      <td>-0.211788</td>\n",
       "      <td>-0.332764</td>\n",
       "      <td>-0.386533</td>\n",
       "      <td>...</td>\n",
       "      <td>-0.290418</td>\n",
       "      <td>-0.070713</td>\n",
       "      <td>0.646386</td>\n",
       "      <td>-0.207376</td>\n",
       "      <td>0.126593</td>\n",
       "      <td>-0.647973</td>\n",
       "      <td>0.254753</td>\n",
       "      <td>-0.405575</td>\n",
       "      <td>0.388026</td>\n",
       "      <td>3.666971</td>\n",
       "    </tr>\n",
       "  </tbody>\n",
       "</table>\n",
       "<p>3 rows × 43 columns</p>\n",
       "</div>"
      ],
      "text/plain": [
       "                     Bcell_general  Memory_Bcell  Naive_Bcell  Plasma_cell  \\\n",
       "bcr_patient_barcode                                                          \n",
       "TCGA-OR-A5KT             -0.218178     -0.237161    -0.289123    -0.296135   \n",
       "TCGA-OR-A5J9             -0.346705     -0.439882    -0.390477    -0.451796   \n",
       "TCGA-OR-A5K0             -0.292412     -0.388674    -0.452966    -0.456801   \n",
       "\n",
       "                     CD4_Tcell  CD8_Tcell  Memory_Tcell  Naive_Tcell  \\\n",
       "bcr_patient_barcode                                                    \n",
       "TCGA-OR-A5KT         -0.144476   0.063948     -0.075668    -0.224018   \n",
       "TCGA-OR-A5J9         -0.318219  -0.121118     -0.102408    -0.202347   \n",
       "TCGA-OR-A5K0         -0.384349  -0.087100     -0.215037    -0.211788   \n",
       "\n",
       "                     Tcell_general  Cytotoxic_Tcell  ...  Pancreatic  \\\n",
       "bcr_patient_barcode                                  ...               \n",
       "TCGA-OR-A5KT             -0.136550        -0.137467  ...   -0.100397   \n",
       "TCGA-OR-A5J9             -0.277214        -0.281176  ...   -0.104548   \n",
       "TCGA-OR-A5K0             -0.332764        -0.386533  ...   -0.290418   \n",
       "\n",
       "                     Pneumocyte  Apoptosis_pathway  IFNg_pathway  \\\n",
       "bcr_patient_barcode                                                \n",
       "TCGA-OR-A5KT          -0.198979           0.538634     -0.053679   \n",
       "TCGA-OR-A5J9          -0.317988           0.466456     -0.218492   \n",
       "TCGA-OR-A5K0          -0.070713           0.646386     -0.207376   \n",
       "\n",
       "                     TGFb_pathway  Cytokine  Cell_proliferation       TLS  \\\n",
       "bcr_patient_barcode                                                         \n",
       "TCGA-OR-A5KT             0.360821 -0.544394            0.094575 -0.191396   \n",
       "TCGA-OR-A5J9             0.215293 -0.682925            0.097832 -0.351167   \n",
       "TCGA-OR-A5K0             0.126593 -0.647973            0.254753 -0.405575   \n",
       "\n",
       "                     Genome_integrity  Reference  \n",
       "bcr_patient_barcode                               \n",
       "TCGA-OR-A5KT                 0.202061   3.551066  \n",
       "TCGA-OR-A5J9                 0.373223   3.559286  \n",
       "TCGA-OR-A5K0                 0.388026   3.666971  \n",
       "\n",
       "[3 rows x 43 columns]"
      ]
     },
     "execution_count": 2,
     "metadata": {},
     "output_type": "execute_result"
    }
   ],
   "source": [
    "X_pretrain = pd.read_csv('../../data/TCGA_ssGSEA_concept43.csv', index_col=0)\n",
    "X_pretrain.head(3)"
   ]
  },
  {
   "cell_type": "code",
   "execution_count": 3,
   "id": "d97629ac-bb95-4026-ab99-795a256a7a2b",
   "metadata": {
    "tags": []
   },
   "outputs": [
    {
     "data": {
      "text/plain": [
       "Index(['Bcell_general', 'Memory_Bcell', 'Naive_Bcell', 'Plasma_cell',\n",
       "       'CD4_Tcell', 'CD8_Tcell', 'Memory_Tcell', 'Naive_Tcell',\n",
       "       'Tcell_general', 'Cytotoxic_Tcell', 'Exhausted_Tcell',\n",
       "       'Immune_checkpoint', 'Treg', 'NKcell', 'Innate_lymphoid_cell', 'cDC',\n",
       "       'pDC', 'Macrophage', 'Monocyte', 'Myeloid', 'Granulocyte', 'Mast',\n",
       "       'Erythrocyte', 'Platelet', 'Stem', 'Stroma', 'Pericyte', 'Fibroblast',\n",
       "       'Endothelial', 'Epithelial', 'Mesothelial', 'Adipocyte', 'Hepatocyte',\n",
       "       'Pancreatic', 'Pneumocyte', 'Apoptosis_pathway', 'IFNg_pathway',\n",
       "       'TGFb_pathway', 'Cytokine', 'Cell_proliferation', 'TLS',\n",
       "       'Genome_integrity', 'Reference'],\n",
       "      dtype='object')"
      ]
     },
     "execution_count": 3,
     "metadata": {},
     "output_type": "execute_result"
    }
   ],
   "source": [
    "X_pretrain.columns"
   ]
  },
  {
   "cell_type": "code",
   "execution_count": 5,
   "id": "ae0d89f6-0b51-4d69-9620-96169f419d99",
   "metadata": {
    "tags": []
   },
   "outputs": [],
   "source": [
    "y_pretrain = pd.read_csv('../../data/TCGA_clinical.csv', index_col=0)\n",
    "y_pretrain['time'] = y_pretrain['os_time']\n",
    "y_pretrain['event'] = y_pretrain['os_status'].map({'alive':0, 'dead':1})"
   ]
  },
  {
   "cell_type": "code",
   "execution_count": 6,
   "id": "ff236777-bdaf-437b-b9f8-54293beaab21",
   "metadata": {
    "tags": []
   },
   "outputs": [],
   "source": [
    "X_pretrain = y_pretrain[['time', 'event']].join(X_pretrain)"
   ]
  },
  {
   "cell_type": "code",
   "execution_count": 7,
   "id": "c8a614f6-8bc5-496a-b09e-6e607648d4f8",
   "metadata": {
    "tags": []
   },
   "outputs": [],
   "source": [
    "X_pretrain.to_csv('./data/dataset-pretrain.data.csv', index=False)"
   ]
  },
  {
   "cell_type": "code",
   "execution_count": null,
   "id": "00e56090-b6ed-47f5-af80-e22d4ee3ce1a",
   "metadata": {},
   "outputs": [],
   "source": []
  }
 ],
 "metadata": {
  "kernelspec": {
   "display_name": "Python 3 (ipykernel)",
   "language": "python",
   "name": "python3"
  },
  "language_info": {
   "codemirror_mode": {
    "name": "ipython",
    "version": 3
   },
   "file_extension": ".py",
   "mimetype": "text/x-python",
   "name": "python",
   "nbconvert_exporter": "python",
   "pygments_lexer": "ipython3",
   "version": "3.7.16"
  }
 },
 "nbformat": 4,
 "nbformat_minor": 5
}
