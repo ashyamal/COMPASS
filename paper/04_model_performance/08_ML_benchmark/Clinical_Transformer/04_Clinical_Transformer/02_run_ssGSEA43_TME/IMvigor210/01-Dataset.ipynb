{
 "cells": [
  {
   "cell_type": "markdown",
   "id": "6c15ee86-0303-44ef-996e-1a2fb126a8c1",
   "metadata": {},
   "source": [
    "# Dataset"
   ]
  },
  {
   "cell_type": "code",
   "execution_count": 10,
   "id": "0240b606-448c-4b78-a1d3-a2d7ac4f0013",
   "metadata": {
    "tags": []
   },
   "outputs": [],
   "source": [
    "import pandas as pd"
   ]
  },
  {
   "cell_type": "code",
   "execution_count": 11,
   "id": "b81810bd-2cab-4de2-9766-b9d51c7c9e6f",
   "metadata": {
    "tags": []
   },
   "outputs": [],
   "source": [
    "X = pd.read_csv('../../data/ITRP_ssGSEA_concept43.csv', index_col=0)\n",
    "y = pd.read_csv('../../data/ITRP_clinical.csv', index_col=0)"
   ]
  },
  {
   "cell_type": "code",
   "execution_count": 12,
   "id": "503f266f-6952-4c41-9866-41c207935cfc",
   "metadata": {
    "tags": []
   },
   "outputs": [
    {
     "data": {
      "text/plain": [
       "array(['IMVigor210', 'Rose', 'Snyder', 'SU2CLC1', 'SU2CLC2', 'Hugo',\n",
       "       'Gide', 'Liu', 'Riaz', 'Allen', 'MGH'], dtype=object)"
      ]
     },
     "execution_count": 12,
     "metadata": {},
     "output_type": "execute_result"
    }
   ],
   "source": [
    "y = y[(~y.OS_Months.isna()) & (~y.OS_Event.isna())]\n",
    "y.cohort.unique()"
   ]
  },
  {
   "cell_type": "code",
   "execution_count": 13,
   "id": "2219cddb-e63f-4394-bafd-7165b981da92",
   "metadata": {
    "tags": []
   },
   "outputs": [],
   "source": [
    "y['time'] = y['OS_Months']\n",
    "y['event'] = y['OS_Event']"
   ]
  },
  {
   "cell_type": "code",
   "execution_count": 14,
   "id": "b2fa9a30-060c-450d-9e84-eb77b5b345cb",
   "metadata": {
    "tags": []
   },
   "outputs": [],
   "source": [
    "dataset_full = y[['time', 'event','cohort', 'ICI_target', 'ICI','cancer_type','response_label', 'TMB']].join(X)"
   ]
  },
  {
   "cell_type": "code",
   "execution_count": 15,
   "id": "00e56090-b6ed-47f5-af80-e22d4ee3ce1a",
   "metadata": {},
   "outputs": [],
   "source": [
    "cohort = 'IMVigor210'\n",
    "X_train = dataset_full[dataset_full.cohort != cohort]\n",
    "X_test = dataset_full[dataset_full.cohort == cohort]"
   ]
  },
  {
   "cell_type": "code",
   "execution_count": 16,
   "id": "99a38372-090f-4a35-aa2b-7fc5497b95a9",
   "metadata": {},
   "outputs": [],
   "source": [
    "X_train.to_csv('./data/dataset-train.data.csv', index=False)\n",
    "X_test.to_csv('./data/dataset-test.data.csv', index=False)\n",
    "#dataset_full.to_csv('./data/dataset-full.data.csv', index=False)"
   ]
  },
  {
   "cell_type": "code",
   "execution_count": 17,
   "id": "a6b53d9f-32b6-461f-8656-a19883d1861c",
   "metadata": {
    "tags": []
   },
   "outputs": [
    {
     "data": {
      "text/plain": [
       "(860, 51)"
      ]
     },
     "execution_count": 17,
     "metadata": {},
     "output_type": "execute_result"
    }
   ],
   "source": [
    "dataset_full.shape"
   ]
  },
  {
   "cell_type": "code",
   "execution_count": 18,
   "id": "48c496ff-4336-4442-a70e-0968e29b5f7c",
   "metadata": {},
   "outputs": [
    {
     "data": {
      "text/plain": [
       "((562, 51), (298, 51))"
      ]
     },
     "execution_count": 18,
     "metadata": {},
     "output_type": "execute_result"
    }
   ],
   "source": [
    "X_train.shape, X_test.shape"
   ]
  },
  {
   "cell_type": "code",
   "execution_count": null,
   "id": "10781e1b-48c4-4bee-a6d0-7795d47f0cab",
   "metadata": {},
   "outputs": [],
   "source": []
  },
  {
   "cell_type": "code",
   "execution_count": null,
   "id": "4e871653-1645-466f-88c7-72d35bb8eb8b",
   "metadata": {},
   "outputs": [],
   "source": []
  }
 ],
 "metadata": {
  "kernelspec": {
   "display_name": "Python 3 (ipykernel)",
   "language": "python",
   "name": "python3"
  },
  "language_info": {
   "codemirror_mode": {
    "name": "ipython",
    "version": 3
   },
   "file_extension": ".py",
   "mimetype": "text/x-python",
   "name": "python",
   "nbconvert_exporter": "python",
   "pygments_lexer": "ipython3",
   "version": "3.7.16"
  }
 },
 "nbformat": 4,
 "nbformat_minor": 5
}
