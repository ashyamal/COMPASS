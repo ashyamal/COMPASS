{
 "cells": [
  {
   "cell_type": "code",
   "execution_count": 1,
   "id": "b061c332-0be1-41fc-9444-2de9c5064371",
   "metadata": {
    "tags": []
   },
   "outputs": [
    {
     "name": "stderr",
     "output_type": "stream",
     "text": [
      "2025-08-15 02:01:39.638268: I tensorflow/core/platform/cpu_feature_guard.cc:193] This TensorFlow binary is optimized with oneAPI Deep Neural Network Library (oneDNN) to use the following CPU instructions in performance-critical operations:  AVX2 AVX_VNNI FMA\n",
      "To enable them in other operations, rebuild TensorFlow with the appropriate compiler flags.\n",
      "2025-08-15 02:01:39.706176: I tensorflow/core/util/port.cc:104] oneDNN custom operations are on. You may see slightly different numerical results due to floating-point round-off errors from different computation orders. To turn them off, set the environment variable `TF_ENABLE_ONEDNN_OPTS=0`.\n",
      "2025-08-15 02:01:40.057458: W tensorflow/compiler/xla/stream_executor/platform/default/dso_loader.cc:64] Could not load dynamic library 'libnvinfer.so.7'; dlerror: libnvinfer.so.7: cannot open shared object file: No such file or directory; LD_LIBRARY_PATH: /home/shenwanxiang/anaconda3/lib:\n",
      "2025-08-15 02:01:40.057492: W tensorflow/compiler/xla/stream_executor/platform/default/dso_loader.cc:64] Could not load dynamic library 'libnvinfer_plugin.so.7'; dlerror: libnvinfer_plugin.so.7: cannot open shared object file: No such file or directory; LD_LIBRARY_PATH: /home/shenwanxiang/anaconda3/lib:\n",
      "2025-08-15 02:01:40.057494: W tensorflow/compiler/tf2tensorrt/utils/py_utils.cc:38] TF-TRT Warning: Cannot dlopen some TensorRT libraries. If you would like to use Nvidia GPU with TensorRT, please make sure the missing libraries mentioned above are installed properly.\n"
     ]
    },
    {
     "name": "stdout",
     "output_type": "stream",
     "text": [
      "WARNING:tensorflow:From /tmp/ipykernel_2513283/1398444278.py:8: is_gpu_available (from tensorflow.python.framework.test_util) is deprecated and will be removed in a future version.\n",
      "Instructions for updating:\n",
      "Use `tf.config.list_physical_devices('GPU')` instead.\n"
     ]
    },
    {
     "name": "stderr",
     "output_type": "stream",
     "text": [
      "2025-08-15 02:01:40.462622: I tensorflow/core/platform/cpu_feature_guard.cc:193] This TensorFlow binary is optimized with oneAPI Deep Neural Network Library (oneDNN) to use the following CPU instructions in performance-critical operations:  AVX2 AVX_VNNI FMA\n",
      "To enable them in other operations, rebuild TensorFlow with the appropriate compiler flags.\n",
      "2025-08-15 02:01:40.472681: I tensorflow/compiler/xla/stream_executor/cuda/cuda_gpu_executor.cc:981] successful NUMA node read from SysFS had negative value (-1), but there must be at least one NUMA node, so returning NUMA node zero\n",
      "2025-08-15 02:01:40.488486: I tensorflow/compiler/xla/stream_executor/cuda/cuda_gpu_executor.cc:981] successful NUMA node read from SysFS had negative value (-1), but there must be at least one NUMA node, so returning NUMA node zero\n",
      "2025-08-15 02:01:40.488573: I tensorflow/compiler/xla/stream_executor/cuda/cuda_gpu_executor.cc:981] successful NUMA node read from SysFS had negative value (-1), but there must be at least one NUMA node, so returning NUMA node zero\n",
      "2025-08-15 02:01:40.769155: I tensorflow/compiler/xla/stream_executor/cuda/cuda_gpu_executor.cc:981] successful NUMA node read from SysFS had negative value (-1), but there must be at least one NUMA node, so returning NUMA node zero\n",
      "2025-08-15 02:01:40.769275: I tensorflow/compiler/xla/stream_executor/cuda/cuda_gpu_executor.cc:981] successful NUMA node read from SysFS had negative value (-1), but there must be at least one NUMA node, so returning NUMA node zero\n",
      "2025-08-15 02:01:40.769341: I tensorflow/compiler/xla/stream_executor/cuda/cuda_gpu_executor.cc:981] successful NUMA node read from SysFS had negative value (-1), but there must be at least one NUMA node, so returning NUMA node zero\n",
      "2025-08-15 02:01:40.769404: I tensorflow/core/common_runtime/gpu/gpu_device.cc:1613] Created device /device:GPU:0 with 9998 MB memory:  -> device: 0, name: NVIDIA GeForce RTX 3080 Ti, pci bus id: 0000:01:00.0, compute capability: 8.6\n"
     ]
    },
    {
     "data": {
      "text/plain": [
       "'2.11.0'"
      ]
     },
     "execution_count": 1,
     "metadata": {},
     "output_type": "execute_result"
    }
   ],
   "source": [
    "# export LD_LIBRARY_PATH=/home/shenwanxiang/anaconda3/envs/IRnet_env/lib:$LD_LIBRARY_PATH\n",
    "# nohup /home/shenwanxiang/anaconda3/envs/IRnet_env/bin/python RunTransferLearning.py > RunTransferLearning.log 2>&1 &\n",
    "\n",
    "import os\n",
    "os.environ[\"XLA_FLAGS\"] = \"--xla_gpu_cuda_data_dir=/home/shenwanxiang/anaconda3\"\n",
    "os.environ[\"CUDA_VISIBLE_DEVICES\"] = \"0\"\n",
    "import tensorflow as tf\n",
    "tf.test.is_gpu_available()\n",
    "tf.config.run_functions_eagerly(True)\n",
    "tf.__version__"
   ]
  },
  {
   "cell_type": "code",
   "execution_count": 2,
   "id": "8954cc68-91b3-4155-890a-574f919fe3ba",
   "metadata": {
    "tags": []
   },
   "outputs": [
    {
     "name": "stderr",
     "output_type": "stream",
     "text": [
      "2025-08-15 02:01:40.774202: I tensorflow/compiler/xla/stream_executor/cuda/cuda_gpu_executor.cc:981] successful NUMA node read from SysFS had negative value (-1), but there must be at least one NUMA node, so returning NUMA node zero\n",
      "2025-08-15 02:01:40.774323: I tensorflow/compiler/xla/stream_executor/cuda/cuda_gpu_executor.cc:981] successful NUMA node read from SysFS had negative value (-1), but there must be at least one NUMA node, so returning NUMA node zero\n",
      "2025-08-15 02:01:40.774382: I tensorflow/compiler/xla/stream_executor/cuda/cuda_gpu_executor.cc:981] successful NUMA node read from SysFS had negative value (-1), but there must be at least one NUMA node, so returning NUMA node zero\n",
      "2025-08-15 02:01:40.774457: I tensorflow/compiler/xla/stream_executor/cuda/cuda_gpu_executor.cc:981] successful NUMA node read from SysFS had negative value (-1), but there must be at least one NUMA node, so returning NUMA node zero\n",
      "2025-08-15 02:01:40.774513: I tensorflow/compiler/xla/stream_executor/cuda/cuda_gpu_executor.cc:981] successful NUMA node read from SysFS had negative value (-1), but there must be at least one NUMA node, so returning NUMA node zero\n",
      "2025-08-15 02:01:40.774561: I tensorflow/core/common_runtime/gpu/gpu"
     ]
    },
    {
     "data": {
      "text/plain": [
       "True"
      ]
     },
     "execution_count": 2,
     "metadata": {},
     "output_type": "execute_result"
    },
    {
     "name": "stderr",
     "output_type": "stream",
     "text": [
      "_device.cc:1613] Created device /device:GPU:0 with 9998 MB memory:  -> device: 0, name: NVIDIA GeForce RTX 3080 Ti, pci bus id: 0000:01:00.0, compute capability: 8.6\n"
     ]
    }
   ],
   "source": [
    "tf.test.is_gpu_available()"
   ]
  },
  {
   "cell_type": "code",
   "execution_count": 3,
   "id": "1b15eb18-6e63-4118-8119-b21c5946ea8d",
   "metadata": {},
   "outputs": [
    {
     "name": "stderr",
     "output_type": "stream",
     "text": [
      "/home/shenwanxiang/.local/lib/python3.7/site-packages/tqdm/auto.py:22: TqdmWarning: IProgress not found. Please update jupyter and ipywidgets. See https://ipywidgets.readthedocs.io/en/stable/user_install.html\n",
      "  from .autonotebook import tqdm as notebook_tqdm\n",
      "sh: /home/shenwanxiang/anaconda3/lib/libtinfo.so.6: no version information available (required by sh)\n",
      "rm: cannot remove './ResultsTest/VanillaClinicalTransformer/IMVigor210': No such file or directory\n",
      "2025-08-15 02:01:52.617700: I tensorflow/compiler/xla/stream_executor/cuda/cuda_gpu_executor.cc:981] successful NUMA node read from SysFS had negative value (-1), but there must be at least one NUMA node, so returning NUMA node zero\n",
      "2025-08-15 02:01:52.617860: I tensorflow/compiler/xla/stream_executor/cuda/cuda_gpu_executor.cc:981] successful NUMA node read from SysFS had negative value (-1), but there must be at least one NUMA node, so returning NUMA node zero\n",
      "2025-08-15 02:01:52.617924: I tensorflow/compiler/xla/stream_executor/cuda/cuda_gpu_executor.cc:981] successful NUMA node read from SysFS had negative value (-1), but there must be at least one NUMA node, so returning NUMA node zero\n",
      "2025-08-15 02:01:52.618146: I tensorflow/compiler/xla/stream_executor/cuda/cuda_gpu_executor.cc:981] successful NUMA node read from SysFS had negative value (-1), but there must be at least one NUMA node, so returning NUMA node zero\n",
      "2025-08-15 02:01:52.618223: I tensorflow/compiler/xla/stream_executor/cuda/cuda_gpu_executor.cc:981] successful NUMA node read from SysFS had negative value (-1), but there must be at least one NUMA node, so returning NUMA node zero\n",
      "2025-08-15 02:01:52.618281: I tensorflow/compiler/xla/stream_executor/cuda/cuda_gpu_executor.cc:981] successful NUMA node read from SysFS had negative value (-1), but there must be at least one NUMA node, so returning NUMA node zero\n",
      "2025-08-15 02:01:52.618376: I tensorflow/compiler/xla/stream_executor/cuda/cuda_gpu_executor.cc:981] successful NUMA node read from SysFS had negative value (-1), but there must be at least one NUMA node, so returning NUMA node zero\n",
      "2025-08-15 02:01:52.618438: I tensorflow/compiler/xla/stream_executor/cuda/cuda_gpu_executor.cc:981] successful NUMA node read from SysFS had negative value (-1), but there must be at least one NUMA node, so returning NUMA node zero\n",
      "2025-08-15 02:01:52.618492: I tensorflow/core/common_runtime/gpu/gpu_device.cc:1613] Created device /job:localhost/replica:0/task:0/device:GPU:0 with 9998 MB memory:  -> device: 0, name: NVIDIA GeForce RTX 3080 Ti, pci bus id: 0000:01:00.0, compute capability: 8.6\n"
     ]
    },
    {
     "name": "stdout",
     "output_type": "stream",
     "text": [
      "Epoch 1/3\n"
     ]
    },
    {
     "name": "stderr",
     "output_type": "stream",
     "text": [
      "Even though the `tf.config.experimental_run_functions_eagerly` option is set, this option does not apply to tf.data functions. To force eager execution of tf.data functions, please use `tf.data.experimental.enable_debug_mode()`.\n",
      "2025-08-15 02:01:54.034014: I tensorflow/compiler/xla/stream_executor/cuda/cuda_blas.cc:630] TensorFloat-32 will be used for the matrix multiplication. This will only be logged once.\n"
     ]
    },
    {
     "name": "stdout",
     "output_type": "stream",
     "text": [
      "WARNING:tensorflow:AutoGraph could not transform <function cIndex_SigmoidApprox at 0x7fb872c2b710> and will run it as-is.\n",
      "Please report this to the TensorFlow team. When filing the bug, set the verbosity to 10 (on Linux, `export AUTOGRAPH_VERBOSITY=10`) and attach the full output.\n",
      "Cause: module 'gast' has no attribute 'Constant'\n",
      "To silence this warning, decorate the function with @tf.autograph.experimental.do_not_convert\n"
     ]
    },
    {
     "name": "stderr",
     "output_type": "stream",
     "text": [
      "WARNING\t2025-08-15 02:01:54,284\tAutoGraph could not transform <function cIndex_SigmoidApprox at 0x7fb872c2b710> and will run it as-is.\n",
      "Please report this to the TensorFlow team. When filing the bug, set the verbosity to 10 (on Linux, `export AUTOGRAPH_VERBOSITY=10`) and attach the full output.\n",
      "Cause: module 'gast' has no attribute 'Constant'\n",
      "To silence this warning, decorate the function with @tf.autograph.experimental.do_not_convert\n"
     ]
    },
    {
     "name": "stdout",
     "output_type": "stream",
     "text": [
      "WARNING: AutoGraph could not transform <function cIndex_SigmoidApprox at 0x7fb872c2b710> and will run it as-is.\n",
      "Please report this to the TensorFlow team. When filing the bug, set the verbosity to 10 (on Linux, `export AUTOGRAPH_VERBOSITY=10`) and attach the full output.\n",
      "Cause: module 'gast' has no attribute 'Constant'\n",
      "To silence this warning, decorate the function with @tf.autograph.experimental.do_not_convert\n",
      "WARNING:tensorflow:AutoGraph could not transform <function sigmoid_concordance at 0x7fb86bfd7b00> and will run it as-is.\n",
      "Please report this to the TensorFlow team. When filing the bug, set the verbosity to 10 (on Linux, `export AUTOGRAPH_VERBOSITY=10`) and attach the full output.\n",
      "Cause: module 'gast' has no attribute 'Constant'\n",
      "To silence this warning, decorate the function with @tf.autograph.experimental.do_not_convert\n"
     ]
    },
    {
     "name": "stderr",
     "output_type": "stream",
     "text": [
      "WARNING\t2025-08-15 02:01:54,696\tAutoGraph could not transform <function sigmoid_concordance at 0x7fb86bfd7b00> and will run it as-is.\n",
      "Please report this to the TensorFlow team. When filing the bug, set the verbosity to 10 (on Linux, `export AUTOGRAPH_VERBOSITY=10`) and attach the full output.\n",
      "Cause: module 'gast' has no attribute 'Constant'\n",
      "To silence this warning, decorate the function with @tf.autograph.experimental.do_not_convert\n"
     ]
    },
    {
     "name": "stdout",
     "output_type": "stream",
     "text": [
      "WARNING: AutoGraph could not transform <function sigmoid_concordance at 0x7fb86bfd7b00> and will run it as-is.\n",
      "Please report this to the TensorFlow team. When filing the bug, set the verbosity to 10 (on Linux, `export AUTOGRAPH_VERBOSITY=10`) and attach the full output.\n",
      "Cause: module 'gast' has no attribute 'Constant'\n",
      "To silence this warning, decorate the function with @tf.autograph.experimental.do_not_convert\n",
      "1/1 [==============================] - 1s 1s/step - loss: 0.5107 - sigmoid_concordance: 0.4834 - val_loss: 0.4975 - val_sigmoid_concordance: 0.5237\n",
      "Epoch 2/3\n",
      "1/1 [==============================] - 1s 622ms/step - loss: 0.5004 - sigmoid_concordance: 0.4965 - val_loss: 0.4749 - val_sigmoid_concordance: 0.5819\n",
      "Epoch 3/3\n",
      "1/1 [==============================] - 0s 467ms/step - loss: 0.4567 - sigmoid_concordance: 0.5859 - val_loss: 0.4571 - val_sigmoid_concordance: 0.6016\n",
      "Epoch 1/3\n"
     ]
    },
    {
     "name": "stderr",
     "output_type": "stream",
     "text": [
      "Even though the `tf.config.experimental_run_functions_eagerly` option is set, this option does not apply to tf.data functions. To force eager execution of tf.data functions, please use `tf.data.experimental.enable_debug_mode()`.\n"
     ]
    },
    {
     "name": "stdout",
     "output_type": "stream",
     "text": [
      "1/1 [==============================] - 1s 794ms/step - loss: 0.4823 - sigmoid_concordance: 0.5391 - val_loss: 0.4649 - val_sigmoid_concordance: 0.5753\n",
      "Epoch 2/3\n",
      "1/1 [==============================] - 1s 550ms/step - loss: 0.4482 - sigmoid_concordance: 0.5860 - val_loss: 0.4491 - val_sigmoid_concordance: 0.5804\n",
      "Epoch 3/3\n",
      "1/1 [==============================] - 1s 525ms/step - loss: 0.4274 - sigmoid_concordance: 0.6096 - val_loss: 0.4340 - val_sigmoid_concordance: 0.5906\n"
     ]
    },
    {
     "name": "stderr",
     "output_type": "stream",
     "text": [
      "sh: /home/shenwanxiang/anaconda3/lib/libtinfo.so.6: no version information available (required by sh)\n",
      "rm: cannot remove './ResultsTest/VanillaClinicalTransformer/IMVigor210/full_24': No such file or directory\n"
     ]
    },
    {
     "name": "stdout",
     "output_type": "stream",
     "text": [
      "Epoch 1/3\n",
      "1/1 [==============================] - 1s 846ms/step - loss: 0.5280 - sigmoid_concordance: 0.4432 - val_loss: 0.4762 - val_sigmoid_concordance: 0.7188\n",
      "Epoch 2/3\n",
      "1/1 [==============================] - 1s 521ms/step - loss: 0.5041 - sigmoid_concordance: 0.4882 - val_loss: 0.4377 - val_sigmoid_concordance: 0.8125\n",
      "Epoch 3/3\n",
      "1/1 [==============================] - 1s 551ms/step - loss: 0.4765 - sigmoid_concordance: 0.5534 - val_loss: 0.4031 - val_sigmoid_concordance: 0.7812\n"
     ]
    },
    {
     "name": "stderr",
     "output_type": "stream",
     "text": [
      "sh: /home/shenwanxiang/anaconda3/lib/libtinfo.so.6: no version information available (required by sh)\n",
      "rm: cannot remove './ResultsTest/VanillaClinicalTransformer/IMVigor210/full_42': No such file or directory\n"
     ]
    },
    {
     "name": "stdout",
     "output_type": "stream",
     "text": [
      "Epoch 1/3\n",
      "1/1 [==============================] - 1s 799ms/step - loss: 0.4825 - sigmoid_concordance: 0.5372 - val_loss: 0.3912 - val_sigmoid_concordance: 0.7188\n",
      "Epoch 2/3\n",
      "1/1 [==============================] - 1s 584ms/step - loss: 0.4397 - sigmoid_concordance: 0.6100 - val_loss: 0.3165 - val_sigmoid_concordance: 0.8750\n",
      "Epoch 3/3\n",
      "1/1 [==============================] - 1s 599ms/step - loss: 0.4290 - sigmoid_concordance: 0.6059 - val_loss: 0.2862 - val_sigmoid_concordance: 0.8438\n"
     ]
    },
    {
     "name": "stderr",
     "output_type": "stream",
     "text": [
      "sh: /home/shenwanxiang/anaconda3/lib/libtinfo.so.6: no version information available (required by sh)\n",
      "rm: cannot remove './ResultsTest/VanillaClinicalTransformer/IMVigor210/full_64': No such file or directory\n"
     ]
    },
    {
     "name": "stdout",
     "output_type": "stream",
     "text": [
      "Epoch 1/3\n",
      "1/1 [==============================] - 1s 840ms/step - loss: 0.4619 - sigmoid_concordance: 0.5717 - val_loss: 0.3904 - val_sigmoid_concordance: 0.6562\n",
      "Epoch 2/3\n",
      "1/1 [==============================] - 1s 627ms/step - loss: 0.4435 - sigmoid_concordance: 0.5905 - val_loss: 0.3495 - val_sigmoid_concordance: 0.6875\n",
      "Epoch 3/3\n",
      "1/1 [==============================] - 1s 510ms/step - loss: 0.4156 - sigmoid_concordance: 0.6119 - val_loss: 0.3303 - val_sigmoid_concordance: 0.7500\n"
     ]
    },
    {
     "name": "stderr",
     "output_type": "stream",
     "text": [
      "100%|████████████████████████████████████████████████████████████████████████████████| 562/562 [00:02<00:00, 191.74it/s]\n",
      "100%|█████████████████████████████████████████████████████████████████████████████████| 298/298 [00:07<00:00, 42.11it/s]\n",
      "100%|████████████████████████████████████████████████████████████████████████████████| 562/562 [00:03<00:00, 184.88it/s]\n",
      "100%|█████████████████████████████████████████████████████████████████████████████████| 298/298 [00:08<00:00, 36.61it/s]\n",
      "100%|████████████████████████████████████████████████████████████████████████████████| 562/562 [00:02<00:00, 189.31it/s]\n",
      "100%|█████████████████████████████████████████████████████████████████████████████████| 298/298 [00:08<00:00, 36.40it/s]\n",
      "sh: /home/shenwanxiang/anaconda3/lib/libtinfo.so.6: no version information available (required by sh)\n",
      "rm: cannot remove './ResultsTest/VanillaClinicalTransformer/Rose': No such file or directory\n"
     ]
    },
    {
     "name": "stdout",
     "output_type": "stream",
     "text": [
      "Epoch 1/3\n"
     ]
    },
    {
     "name": "stderr",
     "output_type": "stream",
     "text": [
      "Even though the `tf.config.experimental_run_functions_eagerly` option is set, this option does not apply to tf.data functions. To force eager execution of tf.data functions, please use `tf.data.experimental.enable_debug_mode()`.\n"
     ]
    },
    {
     "name": "stdout",
     "output_type": "stream",
     "text": [
      "1/1 [==============================] - 1s 851ms/step - loss: 0.5273 - sigmoid_concordance: 0.4519 - val_loss: 0.5153 - val_sigmoid_concordance: 0.4262\n",
      "Epoch 2/3\n",
      "1/1 [==============================] - 1s 524ms/step - loss: 0.5024 - sigmoid_concordance: 0.4939 - val_loss: 0.5024 - val_sigmoid_concordance: 0.4851\n",
      "Epoch 3/3\n",
      "1/1 [==============================] - 1s 560ms/step - loss: 0.4939 - sigmoid_concordance: 0.5141 - val_loss: 0.4927 - val_sigmoid_concordance: 0.5118\n",
      "Epoch 1/3\n"
     ]
    },
    {
     "name": "stderr",
     "output_type": "stream",
     "text": [
      "Even though the `tf.config.experimental_run_functions_eagerly` option is set, this option does not apply to tf.data functions. To force eager execution of tf.data functions, please use `tf.data.experimental.enable_debug_mode()`.\n"
     ]
    },
    {
     "name": "stdout",
     "output_type": "stream",
     "text": [
      "1/1 [==============================] - 1s 778ms/step - loss: 0.4797 - sigmoid_concordance: 0.5348 - val_loss: 0.4605 - val_sigmoid_concordance: 0.5841\n",
      "Epoch 2/3\n",
      "1/1 [==============================] - 1s 593ms/step - loss: 0.4681 - sigmoid_concordance: 0.5522 - val_loss: 0.4343 - val_sigmoid_concordance: 0.6145\n",
      "Epoch 3/3\n",
      "1/1 [==============================] - 0s 500ms/step - loss: 0.4536 - sigmoid_concordance: 0.5722 - val_loss: 0.4135 - val_sigmoid_concordance: 0.6225\n"
     ]
    },
    {
     "name": "stderr",
     "output_type": "stream",
     "text": [
      "sh: /home/shenwanxiang/anaconda3/lib/libtinfo.so.6: no version information available (required by sh)\n",
      "rm: cannot remove './ResultsTest/VanillaClinicalTransformer/Rose/full_24': No such file or directory\n"
     ]
    },
    {
     "name": "stdout",
     "output_type": "stream",
     "text": [
      "Epoch 1/3\n",
      "1/1 [==============================] - 1s 910ms/step - loss: 0.5185 - sigmoid_concordance: 0.4642 - val_loss: 0.4589 - val_sigmoid_concordance: 0.8235\n",
      "Epoch 2/3\n",
      "1/1 [==============================] - 1s 548ms/step - loss: 0.4991 - sigmoid_concordance: 0.5028 - val_loss: 0.5034 - val_sigmoid_concordance: 0.5000\n",
      "Epoch 3/3\n",
      "1/1 [==============================] - 1s 586ms/step - loss: 0.4724 - sigmoid_concordance: 0.5593 - val_loss: 0.5381 - val_sigmoid_concordance: 0.4706\n"
     ]
    },
    {
     "name": "stderr",
     "output_type": "stream",
     "text": [
      "sh: /home/shenwanxiang/anaconda3/lib/libtinfo.so.6: no version information available (required by sh)\n",
      "rm: cannot remove './ResultsTest/VanillaClinicalTransformer/Rose/full_42': No such file or directory\n"
     ]
    },
    {
     "name": "stdout",
     "output_type": "stream",
     "text": [
      "Epoch 1/3\n",
      "1/1 [==============================] - 1s 889ms/step - loss: 0.4796 - sigmoid_concordance: 0.5409 - val_loss: 0.5552 - val_sigmoid_concordance: 0.4412\n",
      "Epoch 2/3\n",
      "1/1 [==============================] - 1s 554ms/step - loss: 0.4551 - sigmoid_concordance: 0.5773 - val_loss: 0.6082 - val_sigmoid_concordance: 0.4118\n",
      "Epoch 3/3\n",
      "1/1 [==============================] - 0s 479ms/step - loss: 0.4349 - sigmoid_concordance: 0.5945 - val_loss: 0.6350 - val_sigmoid_concordance: 0.4118\n"
     ]
    },
    {
     "name": "stderr",
     "output_type": "stream",
     "text": [
      "sh: /home/shenwanxiang/anaconda3/lib/libtinfo.so.6: no version information available (required by sh)\n",
      "rm: cannot remove './ResultsTest/VanillaClinicalTransformer/Rose/full_64': No such file or directory\n"
     ]
    },
    {
     "name": "stdout",
     "output_type": "stream",
     "text": [
      "Epoch 1/3\n",
      "1/1 [==============================] - 1s 872ms/step - loss: 0.4682 - sigmoid_concordance: 0.5669 - val_loss: 0.5989 - val_sigmoid_concordance: 0.4118\n",
      "Epoch 2/3\n",
      "1/1 [==============================] - 1s 519ms/step - loss: 0.4549 - sigmoid_concordance: 0.5739 - val_loss: 0.6204 - val_sigmoid_concordance: 0.4118\n",
      "Epoch 3/3\n",
      "1/1 [==============================] - 1s 573ms/step - loss: 0.4276 - sigmoid_concordance: 0.6006 - val_loss: 0.6368 - val_sigmoid_concordance: 0.3824\n"
     ]
    },
    {
     "name": "stderr",
     "output_type": "stream",
     "text": [
      "100%|████████████████████████████████████████████████████████████████████████████████| 771/771 [00:04<00:00, 177.57it/s]\n",
      "100%|███████████████████████████████████████████████████████████████████████████████████| 89/89 [00:02<00:00, 33.59it/s]\n",
      "100%|████████████████████████████████████████████████████████████████████████████████| 771/771 [00:04<00:00, 180.93it/s]\n",
      "100%|███████████████████████████████████████████████████████████████████████████████████| 89/89 [00:01<00:00, 45.90it/s]\n",
      "100%|████████████████████████████████████████████████████████████████████████████████| 771/771 [00:04<00:00, 181.88it/s]\n",
      "100%|███████████████████████████████████████████████████████████████████████████████████| 89/89 [00:02<00:00, 39.79it/s]\n",
      "sh: /home/shenwanxiang/anaconda3/lib/libtinfo.so.6: no version information available (required by sh)\n",
      "rm: cannot remove './ResultsTest/VanillaClinicalTransformer/Snyder': No such file or directory\n"
     ]
    },
    {
     "name": "stdout",
     "output_type": "stream",
     "text": [
      "Epoch 1/3\n"
     ]
    },
    {
     "name": "stderr",
     "output_type": "stream",
     "text": [
      "Even though the `tf.config.experimental_run_functions_eagerly` option is set, this option does not apply to tf.data functions. To force eager execution of tf.data functions, please use `tf.data.experimental.enable_debug_mode()`.\n"
     ]
    },
    {
     "name": "stdout",
     "output_type": "stream",
     "text": [
      "1/1 [==============================] - 1s 876ms/step - loss: 0.5209 - sigmoid_concordance: 0.4595 - val_loss: 0.5089 - val_sigmoid_concordance: 0.4422\n",
      "Epoch 2/3\n",
      "1/1 [==============================] - 1s 532ms/step - loss: 0.4858 - sigmoid_concordance: 0.5309 - val_loss: 0.4935 - val_sigmoid_concordance: 0.5231\n",
      "Epoch 3/3\n",
      "1/1 [==============================] - 1s 578ms/step - loss: 0.4730 - sigmoid_concordance: 0.5555 - val_loss: 0.4805 - val_sigmoid_concordance: 0.5509\n",
      "Epoch 1/3\n"
     ]
    },
    {
     "name": "stderr",
     "output_type": "stream",
     "text": [
      "Even though the `tf.config.experimental_run_functions_eagerly` option is set, this option does not apply to tf.data functions. To force eager execution of tf.data functions, please use `tf.data.experimental.enable_debug_mode()`.\n"
     ]
    },
    {
     "name": "stdout",
     "output_type": "stream",
     "text": [
      "1/1 [==============================] - 1s 777ms/step - loss: 0.4922 - sigmoid_concordance: 0.5201 - val_loss: 0.4558 - val_sigmoid_concordance: 0.6024\n",
      "Epoch 2/3\n",
      "1/1 [==============================] - 1s 646ms/step - loss: 0.4733 - sigmoid_concordance: 0.5485 - val_loss: 0.4404 - val_sigmoid_concordance: 0.6043\n",
      "Epoch 3/3\n",
      "1/1 [==============================] - 1s 533ms/step - loss: 0.4510 - sigmoid_concordance: 0.5747 - val_loss: 0.4270 - val_sigmoid_concordance: 0.6024\n"
     ]
    },
    {
     "name": "stderr",
     "output_type": "stream",
     "text": [
      "sh: /home/shenwanxiang/anaconda3/lib/libtinfo.so.6: no version information available (required by sh)\n",
      "rm: cannot remove './ResultsTest/VanillaClinicalTransformer/Snyder/full_24': No such file or directory\n"
     ]
    },
    {
     "name": "stdout",
     "output_type": "stream",
     "text": [
      "Epoch 1/3\n",
      "1/1 [==============================] - 1s 811ms/step - loss: 0.5137 - sigmoid_concordance: 0.4733 - val_loss: 0.4652 - val_sigmoid_concordance: 0.7647\n",
      "Epoch 2/3\n",
      "1/1 [==============================] - 0s 364ms/step - loss: 0.5009 - sigmoid_concordance: 0.4990 - val_loss: 0.5147 - val_sigmoid_concordance: 0.4706\n",
      "Epoch 3/3\n",
      "1/1 [==============================] - 0s 373ms/step - loss: 0.4780 - sigmoid_concordance: 0.5547 - val_loss: 0.5524 - val_sigmoid_concordance: 0.4706\n"
     ]
    },
    {
     "name": "stderr",
     "output_type": "stream",
     "text": [
      "sh: /home/shenwanxiang/anaconda3/lib/libtinfo.so.6: no version information available (required by sh)\n",
      "rm: cannot remove './ResultsTest/VanillaClinicalTransformer/Snyder/full_42': No such file or directory\n"
     ]
    },
    {
     "name": "stdout",
     "output_type": "stream",
     "text": [
      "Epoch 1/3\n",
      "1/1 [==============================] - 1s 578ms/step - loss: 0.4878 - sigmoid_concordance: 0.5243 - val_loss: 0.5564 - val_sigmoid_concordance: 0.4412\n",
      "Epoch 2/3\n",
      "1/1 [==============================] - 0s 369ms/step - loss: 0.4545 - sigmoid_concordance: 0.5844 - val_loss: 0.5983 - val_sigmoid_concordance: 0.4412\n",
      "Epoch 3/3\n",
      "1/1 [==============================] - 0s 375ms/step - loss: 0.4324 - sigmoid_concordance: 0.6060 - val_loss: 0.6210 - val_sigmoid_concordance: 0.4118\n"
     ]
    },
    {
     "name": "stderr",
     "output_type": "stream",
     "text": [
      "sh: /home/shenwanxiang/anaconda3/lib/libtinfo.so.6: no version information available (required by sh)\n",
      "rm: cannot remove './ResultsTest/VanillaClinicalTransformer/Snyder/full_64': No such file or directory\n"
     ]
    },
    {
     "name": "stdout",
     "output_type": "stream",
     "text": [
      "Epoch 1/3\n",
      "1/1 [==============================] - 1s 582ms/step - loss: 0.4751 - sigmoid_concordance: 0.5453 - val_loss: 0.6009 - val_sigmoid_concordance: 0.4412\n",
      "Epoch 2/3\n",
      "1/1 [==============================] - 0s 368ms/step - loss: 0.4329 - sigmoid_concordance: 0.6131 - val_loss: 0.6247 - val_sigmoid_concordance: 0.4118\n",
      "Epoch 3/3\n",
      "1/1 [==============================] - 0s 366ms/step - loss: 0.4223 - sigmoid_concordance: 0.6042 - val_loss: 0.6414 - val_sigmoid_concordance: 0.3824\n"
     ]
    },
    {
     "name": "stderr",
     "output_type": "stream",
     "text": [
      "100%|████████████████████████████████████████████████████████████████████████████████| 839/839 [00:02<00:00, 288.06it/s]\n",
      "100%|███████████████████████████████████████████████████████████████████████████████████| 21/21 [00:00<00:00, 60.42it/s]\n",
      "100%|████████████████████████████████████████████████████████████████████████████████| 839/839 [00:02<00:00, 290.13it/s]\n",
      "100%|███████████████████████████████████████████████████████████████████████████████████| 21/21 [00:00<00:00, 60.19it/s]\n",
      "100%|████████████████████████████████████████████████████████████████████████████████| 839/839 [00:02<00:00, 290.13it/s]\n",
      "100%|███████████████████████████████████████████████████████████████████████████████████| 21/21 [00:00<00:00, 59.93it/s]\n",
      "sh: /home/shenwanxiang/anaconda3/lib/libtinfo.so.6: no version information available (required by sh)\n",
      "rm: cannot remove './ResultsTest/VanillaClinicalTransformer/SU2CLC1': No such file or directory\n"
     ]
    },
    {
     "name": "stdout",
     "output_type": "stream",
     "text": [
      "Epoch 1/3\n"
     ]
    },
    {
     "name": "stderr",
     "output_type": "stream",
     "text": [
      "Even though the `tf.config.experimental_run_functions_eagerly` option is set, this option does not apply to tf.data functions. To force eager execution of tf.data functions, please use `tf.data.experimental.enable_debug_mode()`.\n"
     ]
    },
    {
     "name": "stdout",
     "output_type": "stream",
     "text": [
      "1/1 [==============================] - 1s 564ms/step - loss: 0.5253 - sigmoid_concordance: 0.4525 - val_loss: 0.5100 - val_sigmoid_concordance: 0.4386\n",
      "Epoch 2/3\n",
      "1/1 [==============================] - 0s 342ms/step - loss: 0.5090 - sigmoid_concordance: 0.4801 - val_loss: 0.4876 - val_sigmoid_concordance: 0.5666\n",
      "Epoch 3/3\n",
      "1/1 [==============================] - 0s 350ms/step - loss: 0.4877 - sigmoid_concordance: 0.5298 - val_loss: 0.4690 - val_sigmoid_concordance: 0.6008\n",
      "Epoch 1/3\n"
     ]
    },
    {
     "name": "stderr",
     "output_type": "stream",
     "text": [
      "Even though the `tf.config.experimental_run_functions_eagerly` option is set, this option does not apply to tf.data functions. To force eager execution of tf.data functions, please use `tf.data.experimental.enable_debug_mode()`.\n"
     ]
    },
    {
     "name": "stdout",
     "output_type": "stream",
     "text": [
      "1/1 [==============================] - 1s 502ms/step - loss: 0.4919 - sigmoid_concordance: 0.5159 - val_loss: 0.4529 - val_sigmoid_concordance: 0.6073\n",
      "Epoch 2/3\n",
      "1/1 [==============================] - 0s 344ms/step - loss: 0.4713 - sigmoid_concordance: 0.5512 - val_loss: 0.4373 - val_sigmoid_concordance: 0.6122\n",
      "Epoch 3/3\n",
      "1/1 [==============================] - 0s 347ms/step - loss: 0.4593 - sigmoid_concordance: 0.5654 - val_loss: 0.4226 - val_sigmoid_concordance: 0.6135\n"
     ]
    },
    {
     "name": "stderr",
     "output_type": "stream",
     "text": [
      "sh: /home/shenwanxiang/anaconda3/lib/libtinfo.so.6: no version information available (required by sh)\n",
      "rm: cannot remove './ResultsTest/VanillaClinicalTransformer/SU2CLC1/full_24': No such file or directory\n"
     ]
    },
    {
     "name": "stdout",
     "output_type": "stream",
     "text": [
      "Epoch 1/3\n",
      "1/1 [==============================] - 1s 571ms/step - loss: 0.5222 - sigmoid_concordance: 0.4517 - val_loss: 0.4634 - val_sigmoid_concordance: 0.7941\n",
      "Epoch 2/3\n",
      "1/1 [==============================] - 0s 357ms/step - loss: 0.5000 - sigmoid_concordance: 0.5029 - val_loss: 0.5083 - val_sigmoid_concordance: 0.5000\n",
      "Epoch 3/3\n",
      "1/1 [==============================] - 0s 362ms/step - loss: 0.4896 - sigmoid_concordance: 0.5224 - val_loss: 0.5423 - val_sigmoid_concordance: 0.4706\n"
     ]
    },
    {
     "name": "stderr",
     "output_type": "stream",
     "text": [
      "sh: /home/shenwanxiang/anaconda3/lib/libtinfo.so.6: no version information available (required by sh)\n",
      "rm: cannot remove './ResultsTest/VanillaClinicalTransformer/SU2CLC1/full_42': No such file or directory\n"
     ]
    },
    {
     "name": "stdout",
     "output_type": "stream",
     "text": [
      "Epoch 1/3\n",
      "1/1 [==============================] - 1s 579ms/step - loss: 0.4873 - sigmoid_concordance: 0.5220 - val_loss: 0.5477 - val_sigmoid_concordance: 0.4412\n",
      "Epoch 2/3\n",
      "1/1 [==============================] - 0s 362ms/step - loss: 0.4597 - sigmoid_concordance: 0.5712 - val_loss: 0.5865 - val_sigmoid_concordance: 0.4412\n",
      "Epoch 3/3\n",
      "1/1 [==============================] - 0s 359ms/step - loss: 0.4401 - sigmoid_concordance: 0.5941 - val_loss: 0.6146 - val_sigmoid_concordance: 0.4412\n"
     ]
    },
    {
     "name": "stderr",
     "output_type": "stream",
     "text": [
      "sh: /home/shenwanxiang/anaconda3/lib/libtinfo.so.6: no version information available (required by sh)\n",
      "rm: cannot remove './ResultsTest/VanillaClinicalTransformer/SU2CLC1/full_64': No such file or directory\n"
     ]
    },
    {
     "name": "stdout",
     "output_type": "stream",
     "text": [
      "Epoch 1/3\n",
      "1/1 [==============================] - 1s 567ms/step - loss: 0.4567 - sigmoid_concordance: 0.5843 - val_loss: 0.5997 - val_sigmoid_concordance: 0.3824\n",
      "Epoch 2/3\n",
      "1/1 [==============================] - 0s 358ms/step - loss: 0.4412 - sigmoid_concordance: 0.5942 - val_loss: 0.6289 - val_sigmoid_concordance: 0.4118\n",
      "Epoch 3/3\n",
      "1/1 [==============================] - 0s 351ms/step - loss: 0.4267 - sigmoid_concordance: 0.6013 - val_loss: 0.6498 - val_sigmoid_concordance: 0.3529\n"
     ]
    },
    {
     "name": "stderr",
     "output_type": "stream",
     "text": [
      "100%|████████████████████████████████████████████████████████████████████████████████| 762/762 [00:02<00:00, 291.60it/s]\n",
      "100%|███████████████████████████████████████████████████████████████████████████████████| 98/98 [00:01<00:00, 55.70it/s]\n",
      "100%|████████████████████████████████████████████████████████████████████████████████| 762/762 [00:02<00:00, 291.51it/s]\n",
      "100%|███████████████████████████████████████████████████████████████████████████████████| 98/98 [00:01<00:00, 55.95it/s]\n",
      "100%|████████████████████████████████████████████████████████████████████████████████| 762/762 [00:02<00:00, 292.00it/s]\n",
      "100%|███████████████████████████████████████████████████████████████████████████████████| 98/98 [00:01<00:00, 75.62it/s]\n",
      "sh: /home/shenwanxiang/anaconda3/lib/libtinfo.so.6: no version information available (required by sh)\n",
      "rm: cannot remove './ResultsTest/VanillaClinicalTransformer/SU2CLC2': No such file or directory\n"
     ]
    },
    {
     "name": "stdout",
     "output_type": "stream",
     "text": [
      "Epoch 1/3\n"
     ]
    },
    {
     "name": "stderr",
     "output_type": "stream",
     "text": [
      "Even though the `tf.config.experimental_run_functions_eagerly` option is set, this option does not apply to tf.data functions. To force eager execution of tf.data functions, please use `tf.data.experimental.enable_debug_mode()`.\n"
     ]
    },
    {
     "name": "stdout",
     "output_type": "stream",
     "text": [
      "1/1 [==============================] - 1s 588ms/step - loss: 0.5356 - sigmoid_concordance: 0.4301 - val_loss: 0.5176 - val_sigmoid_concordance: 0.3931\n",
      "Epoch 2/3\n",
      "1/1 [==============================] - 0s 360ms/step - loss: 0.4968 - sigmoid_concordance: 0.5064 - val_loss: 0.4952 - val_sigmoid_concordance: 0.5260\n",
      "Epoch 3/3\n",
      "1/1 [==============================] - 0s 357ms/step - loss: 0.4739 - sigmoid_concordance: 0.5563 - val_loss: 0.4763 - val_sigmoid_concordance: 0.5803\n",
      "Epoch 1/3\n"
     ]
    },
    {
     "name": "stderr",
     "output_type": "stream",
     "text": [
      "Even though the `tf.config.experimental_run_functions_eagerly` option is set, this option does not apply to tf.data functions. To force eager execution of tf.data functions, please use `tf.data.experimental.enable_debug_mode()`.\n"
     ]
    },
    {
     "name": "stdout",
     "output_type": "stream",
     "text": [
      "1/1 [==============================] - 1s 528ms/step - loss: 0.4898 - sigmoid_concordance: 0.5215 - val_loss: 0.4469 - val_sigmoid_concordance: 0.6281\n",
      "Epoch 2/3\n",
      "1/1 [==============================] - 0s 353ms/step - loss: 0.4836 - sigmoid_concordance: 0.5323 - val_loss: 0.4238 - val_sigmoid_concordance: 0.6398\n",
      "Epoch 3/3\n",
      "1/1 [==============================] - 0s 357ms/step - loss: 0.4437 - sigmoid_concordance: 0.5907 - val_loss: 0.4041 - val_sigmoid_concordance: 0.6424\n"
     ]
    },
    {
     "name": "stderr",
     "output_type": "stream",
     "text": [
      "sh: /home/shenwanxiang/anaconda3/lib/libtinfo.so.6: no version information available (required by sh)\n",
      "rm: cannot remove './ResultsTest/VanillaClinicalTransformer/SU2CLC2/full_24': No such file or directory\n"
     ]
    },
    {
     "name": "stdout",
     "output_type": "stream",
     "text": [
      "Epoch 1/3\n",
      "1/1 [==============================] - 1s 583ms/step - loss: 0.5281 - sigmoid_concordance: 0.4394 - val_loss: 0.4681 - val_sigmoid_concordance: 0.7353\n",
      "Epoch 2/3\n",
      "1/1 [==============================] - 0s 384ms/step - loss: 0.5026 - sigmoid_concordance: 0.4994 - val_loss: 0.5221 - val_sigmoid_concordance: 0.4706\n",
      "Epoch 3/3\n",
      "1/1 [==============================] - 0s 370ms/step - loss: 0.4755 - sigmoid_concordance: 0.5489 - val_loss: 0.5601 - val_sigmoid_concordance: 0.4412\n"
     ]
    },
    {
     "name": "stderr",
     "output_type": "stream",
     "text": [
      "sh: /home/shenwanxiang/anaconda3/lib/libtinfo.so.6: no version information available (required by sh)\n",
      "rm: cannot remove './ResultsTest/VanillaClinicalTransformer/SU2CLC2/full_42': No such file or directory\n"
     ]
    },
    {
     "name": "stdout",
     "output_type": "stream",
     "text": [
      "Epoch 1/3\n",
      "1/1 [==============================] - 1s 574ms/step - loss: 0.4723 - sigmoid_concordance: 0.5561 - val_loss: 0.5561 - val_sigmoid_concordance: 0.4706\n",
      "Epoch 2/3\n",
      "1/1 [==============================] - 0s 370ms/step - loss: 0.4643 - sigmoid_concordance: 0.5607 - val_loss: 0.6030 - val_sigmoid_concordance: 0.4412\n",
      "Epoch 3/3\n",
      "1/1 [==============================] - 0s 360ms/step - loss: 0.4445 - sigmoid_concordance: 0.5875 - val_loss: 0.6263 - val_sigmoid_concordance: 0.4412\n"
     ]
    },
    {
     "name": "stderr",
     "output_type": "stream",
     "text": [
      "sh: /home/shenwanxiang/anaconda3/lib/libtinfo.so.6: no version information available (required by sh)\n",
      "rm: cannot remove './ResultsTest/VanillaClinicalTransformer/SU2CLC2/full_64': No such file or directory\n"
     ]
    },
    {
     "name": "stdout",
     "output_type": "stream",
     "text": [
      "Epoch 1/3\n",
      "1/1 [==============================] - 1s 566ms/step - loss: 0.4733 - sigmoid_concordance: 0.5559 - val_loss: 0.5994 - val_sigmoid_concordance: 0.4412\n",
      "Epoch 2/3\n",
      "1/1 [==============================] - 0s 354ms/step - loss: 0.4378 - sigmoid_concordance: 0.6006 - val_loss: 0.6211 - val_sigmoid_concordance: 0.4412\n",
      "Epoch 3/3\n",
      "1/1 [==============================] - 0s 364ms/step - loss: 0.4256 - sigmoid_concordance: 0.6023 - val_loss: 0.6369 - val_sigmoid_concordance: 0.3824\n"
     ]
    },
    {
     "name": "stderr",
     "output_type": "stream",
     "text": [
      "100%|████████████████████████████████████████████████████████████████████████████████| 835/835 [00:02<00:00, 289.88it/s]\n",
      "100%|███████████████████████████████████████████████████████████████████████████████████| 25/25 [00:00<00:00, 59.92it/s]\n",
      "100%|████████████████████████████████████████████████████████████████████████████████| 835/835 [00:02<00:00, 291.27it/s]\n",
      "100%|███████████████████████████████████████████████████████████████████████████████████| 25/25 [00:00<00:00, 59.63it/s]\n",
      "100%|████████████████████████████████████████████████████████████████████████████████| 835/835 [00:02<00:00, 290.06it/s]\n",
      "100%|███████████████████████████████████████████████████████████████████████████████████| 25/25 [00:00<00:00, 59.62it/s]\n",
      "sh: /home/shenwanxiang/anaconda3/lib/libtinfo.so.6: no version information available (required by sh)\n",
      "rm: cannot remove './ResultsTest/VanillaClinicalTransformer/Hugo': No such file or directory\n"
     ]
    },
    {
     "name": "stdout",
     "output_type": "stream",
     "text": [
      "Epoch 1/3\n"
     ]
    },
    {
     "name": "stderr",
     "output_type": "stream",
     "text": [
      "Even though the `tf.config.experimental_run_functions_eagerly` option is set, this option does not apply to tf.data functions. To force eager execution of tf.data functions, please use `tf.data.experimental.enable_debug_mode()`.\n"
     ]
    },
    {
     "name": "stdout",
     "output_type": "stream",
     "text": [
      "1/1 [==============================] - 1s 576ms/step - loss: 0.5288 - sigmoid_concordance: 0.4460 - val_loss: 0.5154 - val_sigmoid_concordance: 0.4177\n",
      "Epoch 2/3\n",
      "1/1 [==============================] - 0s 359ms/step - loss: 0.5017 - sigmoid_concordance: 0.4929 - val_loss: 0.5031 - val_sigmoid_concordance: 0.4987\n",
      "Epoch 3/3\n",
      "1/1 [==============================] - 0s 367ms/step - loss: 0.4766 - sigmoid_concordance: 0.5464 - val_loss: 0.4938 - val_sigmoid_concordance: 0.5274\n",
      "Epoch 1/3\n"
     ]
    },
    {
     "name": "stderr",
     "output_type": "stream",
     "text": [
      "Even though the `tf.config.experimental_run_functions_eagerly` option is set, this option does not apply to tf.data functions. To force eager execution of tf.data functions, please use `tf.data.experimental.enable_debug_mode()`.\n"
     ]
    },
    {
     "name": "stdout",
     "output_type": "stream",
     "text": [
      "1/1 [==============================] - 1s 513ms/step - loss: 0.4864 - sigmoid_concordance: 0.5288 - val_loss: 0.4614 - val_sigmoid_concordance: 0.5949\n",
      "Epoch 2/3\n",
      "1/1 [==============================] - 0s 365ms/step - loss: 0.4755 - sigmoid_concordance: 0.5491 - val_loss: 0.4438 - val_sigmoid_concordance: 0.6029\n",
      "Epoch 3/3\n",
      "1/1 [==============================] - 0s 351ms/step - loss: 0.4398 - sigmoid_concordance: 0.5989 - val_loss: 0.4290 - val_sigmoid_concordance: 0.6044\n"
     ]
    },
    {
     "name": "stderr",
     "output_type": "stream",
     "text": [
      "sh: /home/shenwanxiang/anaconda3/lib/libtinfo.so.6: no version information available (required by sh)\n",
      "rm: cannot remove './ResultsTest/VanillaClinicalTransformer/Hugo/full_24': No such file or directory\n"
     ]
    },
    {
     "name": "stdout",
     "output_type": "stream",
     "text": [
      "Epoch 1/3\n",
      "1/1 [==============================] - 1s 570ms/step - loss: 0.5290 - sigmoid_concordance: 0.4377 - val_loss: 0.4688 - val_sigmoid_concordance: 0.7353\n",
      "Epoch 2/3\n",
      "1/1 [==============================] - 0s 352ms/step - loss: 0.5022 - sigmoid_concordance: 0.5006 - val_loss: 0.5226 - val_sigmoid_concordance: 0.4706\n",
      "Epoch 3/3\n",
      "1/1 [==============================] - 0s 359ms/step - loss: 0.4771 - sigmoid_concordance: 0.5457 - val_loss: 0.5612 - val_sigmoid_concordance: 0.4412\n"
     ]
    },
    {
     "name": "stderr",
     "output_type": "stream",
     "text": [
      "sh: /home/shenwanxiang/anaconda3/lib/libtinfo.so.6: no version information available (required by sh)\n",
      "rm: cannot remove './ResultsTest/VanillaClinicalTransformer/Hugo/full_42': No such file or directory\n"
     ]
    },
    {
     "name": "stdout",
     "output_type": "stream",
     "text": [
      "Epoch 1/3\n",
      "1/1 [==============================] - 1s 570ms/step - loss: 0.4727 - sigmoid_concordance: 0.5549 - val_loss: 0.5569 - val_sigmoid_concordance: 0.4706\n",
      "Epoch 2/3\n",
      "1/1 [==============================] - 0s 359ms/step - loss: 0.4653 - sigmoid_concordance: 0.5589 - val_loss: 0.6037 - val_sigmoid_concordance: 0.4412\n",
      "Epoch 3/3\n",
      "1/1 [==============================] - 0s 358ms/step - loss: 0.4445 - sigmoid_concordance: 0.5875 - val_loss: 0.6284 - val_sigmoid_concordance: 0.4412\n"
     ]
    },
    {
     "name": "stderr",
     "output_type": "stream",
     "text": [
      "sh: /home/shenwanxiang/anaconda3/lib/libtinfo.so.6: no version information available (required by sh)\n",
      "rm: cannot remove './ResultsTest/VanillaClinicalTransformer/Hugo/full_64': No such file or directory\n"
     ]
    },
    {
     "name": "stdout",
     "output_type": "stream",
     "text": [
      "Epoch 1/3\n",
      "1/1 [==============================] - 1s 563ms/step - loss: 0.4733 - sigmoid_concordance: 0.5560 - val_loss: 0.6006 - val_sigmoid_concordance: 0.4412\n",
      "Epoch 2/3\n",
      "1/1 [==============================] - 0s 351ms/step - loss: 0.4413 - sigmoid_concordance: 0.5947 - val_loss: 0.6231 - val_sigmoid_concordance: 0.4412\n",
      "Epoch 3/3\n",
      "1/1 [==============================] - 0s 349ms/step - loss: 0.4256 - sigmoid_concordance: 0.6021 - val_loss: 0.6387 - val_sigmoid_concordance: 0.3824\n"
     ]
    },
    {
     "name": "stderr",
     "output_type": "stream",
     "text": [
      "100%|████████████████████████████████████████████████████████████████████████████████| 835/835 [00:02<00:00, 290.70it/s]\n",
      "100%|███████████████████████████████████████████████████████████████████████████████████| 25/25 [00:00<00:00, 81.20it/s]\n",
      "100%|████████████████████████████████████████████████████████████████████████████████| 835/835 [00:02<00:00, 291.31it/s]\n",
      "100%|███████████████████████████████████████████████████████████████████████████████████| 25/25 [00:00<00:00, 60.53it/s]\n",
      "100%|████████████████████████████████████████████████████████████████████████████████| 835/835 [00:02<00:00, 291.16it/s]\n",
      "100%|███████████████████████████████████████████████████████████████████████████████████| 25/25 [00:00<00:00, 60.43it/s]\n",
      "sh: /home/shenwanxiang/anaconda3/lib/libtinfo.so.6: no version information available (required by sh)\n",
      "rm: cannot remove './ResultsTest/VanillaClinicalTransformer/Gide': No such file or directory\n"
     ]
    },
    {
     "name": "stdout",
     "output_type": "stream",
     "text": [
      "Epoch 1/3\n"
     ]
    },
    {
     "name": "stderr",
     "output_type": "stream",
     "text": [
      "Even though the `tf.config.experimental_run_functions_eagerly` option is set, this option does not apply to tf.data functions. To force eager execution of tf.data functions, please use `tf.data.experimental.enable_debug_mode()`.\n"
     ]
    },
    {
     "name": "stdout",
     "output_type": "stream",
     "text": [
      "1/1 [==============================] - 1s 575ms/step - loss: 0.5105 - sigmoid_concordance: 0.4799 - val_loss: 0.5023 - val_sigmoid_concordance: 0.4810\n",
      "Epoch 2/3\n",
      "1/1 [==============================] - 0s 357ms/step - loss: 0.4791 - sigmoid_concordance: 0.5475 - val_loss: 0.4778 - val_sigmoid_concordance: 0.5561\n",
      "Epoch 3/3\n",
      "1/1 [==============================] - 0s 343ms/step - loss: 0.4700 - sigmoid_concordance: 0.5604 - val_loss: 0.4591 - val_sigmoid_concordance: 0.5823\n",
      "Epoch 1/3\n"
     ]
    },
    {
     "name": "stderr",
     "output_type": "stream",
     "text": [
      "Even though the `tf.config.experimental_run_functions_eagerly` option is set, this option does not apply to tf.data functions. To force eager execution of tf.data functions, please use `tf.data.experimental.enable_debug_mode()`.\n"
     ]
    },
    {
     "name": "stdout",
     "output_type": "stream",
     "text": [
      "1/1 [==============================] - 1s 514ms/step - loss: 0.4787 - sigmoid_concordance: 0.5390 - val_loss: 0.4735 - val_sigmoid_concordance: 0.5498\n",
      "Epoch 2/3\n",
      "1/1 [==============================] - 0s 359ms/step - loss: 0.4716 - sigmoid_concordance: 0.5518 - val_loss: 0.4687 - val_sigmoid_concordance: 0.5394\n",
      "Epoch 3/3\n",
      "1/1 [==============================] - 0s 352ms/step - loss: 0.4393 - sigmoid_concordance: 0.5925 - val_loss: 0.4669 - val_sigmoid_concordance: 0.5351\n"
     ]
    },
    {
     "name": "stderr",
     "output_type": "stream",
     "text": [
      "sh: /home/shenwanxiang/anaconda3/lib/libtinfo.so.6: no version information available (required by sh)\n",
      "rm: cannot remove './ResultsTest/VanillaClinicalTransformer/Gide/full_24': No such file or directory\n"
     ]
    },
    {
     "name": "stdout",
     "output_type": "stream",
     "text": [
      "Epoch 1/3\n",
      "1/1 [==============================] - 1s 578ms/step - loss: 0.5240 - sigmoid_concordance: 0.4525 - val_loss: 0.4664 - val_sigmoid_concordance: 0.8235\n",
      "Epoch 2/3\n",
      "1/1 [==============================] - 0s 361ms/step - loss: 0.4945 - sigmoid_concordance: 0.5153 - val_loss: 0.5129 - val_sigmoid_concordance: 0.4706\n",
      "Epoch 3/3\n",
      "1/1 [==============================] - 0s 375ms/step - loss: 0.4734 - sigmoid_concordance: 0.5588 - val_loss: 0.5501 - val_sigmoid_concordance: 0.4412\n"
     ]
    },
    {
     "name": "stderr",
     "output_type": "stream",
     "text": [
      "sh: /home/shenwanxiang/anaconda3/lib/libtinfo.so.6: no version information available (required by sh)\n",
      "rm: cannot remove './ResultsTest/VanillaClinicalTransformer/Gide/full_42': No such file or directory\n"
     ]
    },
    {
     "name": "stdout",
     "output_type": "stream",
     "text": [
      "Epoch 1/3\n",
      "1/1 [==============================] - 1s 578ms/step - loss: 0.4827 - sigmoid_concordance: 0.5357 - val_loss: 0.5541 - val_sigmoid_concordance: 0.4412\n",
      "Epoch 2/3\n",
      "1/1 [==============================] - 0s 366ms/step - loss: 0.4561 - sigmoid_concordance: 0.5798 - val_loss: 0.5996 - val_sigmoid_concordance: 0.4412\n",
      "Epoch 3/3\n",
      "1/1 [==============================] - 0s 361ms/step - loss: 0.4394 - sigmoid_concordance: 0.5908 - val_loss: 0.6236 - val_sigmoid_concordance: 0.4118\n"
     ]
    },
    {
     "name": "stderr",
     "output_type": "stream",
     "text": [
      "sh: /home/shenwanxiang/anaconda3/lib/libtinfo.so.6: no version information available (required by sh)\n",
      "rm: cannot remove './ResultsTest/VanillaClinicalTransformer/Gide/full_64': No such file or directory\n"
     ]
    },
    {
     "name": "stdout",
     "output_type": "stream",
     "text": [
      "Epoch 1/3\n",
      "1/1 [==============================] - 1s 578ms/step - loss: 0.4733 - sigmoid_concordance: 0.5546 - val_loss: 0.5960 - val_sigmoid_concordance: 0.4412\n",
      "Epoch 2/3\n",
      "1/1 [==============================] - 0s 354ms/step - loss: 0.4483 - sigmoid_concordance: 0.5839 - val_loss: 0.6161 - val_sigmoid_concordance: 0.4412\n",
      "Epoch 3/3\n",
      "1/1 [==============================] - 0s 366ms/step - loss: 0.4372 - sigmoid_concordance: 0.5875 - val_loss: 0.6314 - val_sigmoid_concordance: 0.4118\n"
     ]
    },
    {
     "name": "stderr",
     "output_type": "stream",
     "text": [
      "100%|████████████████████████████████████████████████████████████████████████████████| 787/787 [00:02<00:00, 289.23it/s]\n",
      "100%|███████████████████████████████████████████████████████████████████████████████████| 73/73 [00:01<00:00, 59.72it/s]\n",
      "100%|████████████████████████████████████████████████████████████████████████████████| 787/787 [00:02<00:00, 289.52it/s]\n",
      "100%|███████████████████████████████████████████████████████████████████████████████████| 73/73 [00:01<00:00, 70.62it/s]\n",
      "More than 20 figures have been opened. Figures created through the pyplot interface (`matplotlib.pyplot.figure`) are retained until explicitly closed and may consume too much memory. (To control this warning, see the rcParam `figure.max_open_warning`).\n",
      "More than 20 figures have been opened. Figures created through the pyplot interface (`matplotlib.pyplot.figure`) are retained until explicitly closed and may consume too much memory. (To control this warning, see the rcParam `figure.max_open_warning`).\n",
      "100%|████████████████████████████████████████████████████████████████████████████████| 787/787 [00:02<00:00, 289.12it/s]\n",
      "100%|███████████████████████████████████████████████████████████████████████████████████| 73/73 [00:01<00:00, 59.59it/s]\n",
      "More than 20 figures have been opened. Figures created through the pyplot interface (`matplotlib.pyplot.figure`) are retained until explicitly closed and may consume too much memory. (To control this warning, see the rcParam `figure.max_open_warning`).\n",
      "sh: /home/shenwanxiang/anaconda3/lib/libtinfo.so.6: no version information available (required by sh)\n",
      "rm: cannot remove './ResultsTest/VanillaClinicalTransformer/Liu': No such file or directory\n"
     ]
    },
    {
     "name": "stdout",
     "output_type": "stream",
     "text": [
      "Epoch 1/3\n"
     ]
    },
    {
     "name": "stderr",
     "output_type": "stream",
     "text": [
      "Even though the `tf.config.experimental_run_functions_eagerly` option is set, this option does not apply to tf.data functions. To force eager execution of tf.data functions, please use `tf.data.experimental.enable_debug_mode()`.\n"
     ]
    },
    {
     "name": "stdout",
     "output_type": "stream",
     "text": [
      "1/1 [==============================] - 1s 564ms/step - loss: 0.5257 - sigmoid_concordance: 0.4531 - val_loss: 0.5070 - val_sigmoid_concordance: 0.4644\n",
      "Epoch 2/3\n",
      "1/1 [==============================] - 0s 347ms/step - loss: 0.5021 - sigmoid_concordance: 0.4978 - val_loss: 0.4798 - val_sigmoid_concordance: 0.5773\n",
      "Epoch 3/3\n",
      "1/1 [==============================] - 0s 347ms/step - loss: 0.4662 - sigmoid_concordance: 0.5689 - val_loss: 0.4574 - val_sigmoid_concordance: 0.6093\n",
      "Epoch 1/3\n"
     ]
    },
    {
     "name": "stderr",
     "output_type": "stream",
     "text": [
      "Even though the `tf.config.experimental_run_functions_eagerly` option is set, this option does not apply to tf.data functions. To force eager execution of tf.data functions, please use `tf.data.experimental.enable_debug_mode()`.\n"
     ]
    },
    {
     "name": "stdout",
     "output_type": "stream",
     "text": [
      "1/1 [==============================] - 1s 511ms/step - loss: 0.4792 - sigmoid_concordance: 0.5410 - val_loss: 0.4516 - val_sigmoid_concordance: 0.5922\n",
      "Epoch 2/3\n",
      "1/1 [==============================] - 0s 356ms/step - loss: 0.4680 - sigmoid_concordance: 0.5570 - val_loss: 0.4403 - val_sigmoid_concordance: 0.5890\n",
      "Epoch 3/3\n",
      "1/1 [==============================] - 0s 364ms/step - loss: 0.4438 - sigmoid_concordance: 0.5859 - val_loss: 0.4309 - val_sigmoid_concordance: 0.5853\n"
     ]
    },
    {
     "name": "stderr",
     "output_type": "stream",
     "text": [
      "sh: /home/shenwanxiang/anaconda3/lib/libtinfo.so.6: no version information available (required by sh)\n",
      "rm: cannot remove './ResultsTest/VanillaClinicalTransformer/Liu/full_24': No such file or directory\n"
     ]
    },
    {
     "name": "stdout",
     "output_type": "stream",
     "text": [
      "Epoch 1/3\n",
      "1/1 [==============================] - 1s 567ms/step - loss: 0.5254 - sigmoid_concordance: 0.4478 - val_loss: 0.4641 - val_sigmoid_concordance: 0.7941\n",
      "Epoch 2/3\n",
      "1/1 [==============================] - 0s 371ms/step - loss: 0.5029 - sigmoid_concordance: 0.4912 - val_loss: 0.5126 - val_sigmoid_concordance: 0.4706\n",
      "Epoch 3/3\n",
      "1/1 [==============================] - 0s 368ms/step - loss: 0.4837 - sigmoid_concordance: 0.5395 - val_loss: 0.5480 - val_sigmoid_concordance: 0.4706\n"
     ]
    },
    {
     "name": "stderr",
     "output_type": "stream",
     "text": [
      "sh: /home/shenwanxiang/anaconda3/lib/libtinfo.so.6: no version information available (required by sh)\n",
      "rm: cannot remove './ResultsTest/VanillaClinicalTransformer/Liu/full_42': No such file or directory\n"
     ]
    },
    {
     "name": "stdout",
     "output_type": "stream",
     "text": [
      "Epoch 1/3\n",
      "1/1 [==============================] - 1s 573ms/step - loss: 0.4703 - sigmoid_concordance: 0.5608 - val_loss: 0.5466 - val_sigmoid_concordance: 0.4706\n",
      "Epoch 2/3\n",
      "1/1 [==============================] - 0s 357ms/step - loss: 0.4616 - sigmoid_concordance: 0.5678 - val_loss: 0.5905 - val_sigmoid_concordance: 0.4412\n",
      "Epoch 3/3\n",
      "1/1 [==============================] - 0s 361ms/step - loss: 0.4336 - sigmoid_concordance: 0.6000 - val_loss: 0.6204 - val_sigmoid_concordance: 0.4412\n"
     ]
    },
    {
     "name": "stderr",
     "output_type": "stream",
     "text": [
      "sh: /home/shenwanxiang/anaconda3/lib/libtinfo.so.6: no version information available (required by sh)\n",
      "rm: cannot remove './ResultsTest/VanillaClinicalTransformer/Liu/full_64': No such file or directory\n"
     ]
    },
    {
     "name": "stdout",
     "output_type": "stream",
     "text": [
      "Epoch 1/3\n",
      "1/1 [==============================] - 1s 569ms/step - loss: 0.4744 - sigmoid_concordance: 0.5474 - val_loss: 0.5958 - val_sigmoid_concordance: 0.4118\n",
      "Epoch 2/3\n",
      "1/1 [==============================] - 0s 359ms/step - loss: 0.4428 - sigmoid_concordance: 0.5933 - val_loss: 0.6196 - val_sigmoid_concordance: 0.4412\n",
      "Epoch 3/3\n",
      "1/1 [==============================] - 0s 359ms/step - loss: 0.4316 - sigmoid_concordance: 0.5919 - val_loss: 0.6414 - val_sigmoid_concordance: 0.3824\n"
     ]
    },
    {
     "name": "stderr",
     "output_type": "stream",
     "text": [
      "100%|████████████████████████████████████████████████████████████████████████████████| 753/753 [00:02<00:00, 292.31it/s]\n",
      "100%|█████████████████████████████████████████████████████████████████████████████████| 107/107 [00:01<00:00, 76.04it/s]\n",
      "100%|████████████████████████████████████████████████████████████████████████████████| 753/753 [00:02<00:00, 293.18it/s]\n",
      "100%|█████████████████████████████████████████████████████████████████████████████████| 107/107 [00:01<00:00, 57.46it/s]\n",
      "100%|████████████████████████████████████████████████████████████████████████████████| 753/753 [00:02<00:00, 294.11it/s]\n",
      "100%|█████████████████████████████████████████████████████████████████████████████████| 107/107 [00:01<00:00, 57.55it/s]\n",
      "sh: /home/shenwanxiang/anaconda3/lib/libtinfo.so.6: no version information available (required by sh)\n",
      "rm: cannot remove './ResultsTest/VanillaClinicalTransformer/Riaz': No such file or directory\n"
     ]
    },
    {
     "name": "stdout",
     "output_type": "stream",
     "text": [
      "Epoch 1/3\n"
     ]
    },
    {
     "name": "stderr",
     "output_type": "stream",
     "text": [
      "Even though the `tf.config.experimental_run_functions_eagerly` option is set, this option does not apply to tf.data functions. To force eager execution of tf.data functions, please use `tf.data.experimental.enable_debug_mode()`.\n"
     ]
    },
    {
     "name": "stdout",
     "output_type": "stream",
     "text": [
      "1/1 [==============================] - 1s 569ms/step - loss: 0.5239 - sigmoid_concordance: 0.4527 - val_loss: 0.5087 - val_sigmoid_concordance: 0.4508\n",
      "Epoch 2/3\n",
      "1/1 [==============================] - 0s 355ms/step - loss: 0.4858 - sigmoid_concordance: 0.5304 - val_loss: 0.4924 - val_sigmoid_concordance: 0.5372\n",
      "Epoch 3/3\n",
      "1/1 [==============================] - 0s 359ms/step - loss: 0.4746 - sigmoid_concordance: 0.5515 - val_loss: 0.4790 - val_sigmoid_concordance: 0.5534\n",
      "Epoch 1/3\n"
     ]
    },
    {
     "name": "stderr",
     "output_type": "stream",
     "text": [
      "Even though the `tf.config.experimental_run_functions_eagerly` option is set, this option does not apply to tf.data functions. To force eager execution of tf.data functions, please use `tf.data.experimental.enable_debug_mode()`.\n"
     ]
    },
    {
     "name": "stdout",
     "output_type": "stream",
     "text": [
      "1/1 [==============================] - 1s 512ms/step - loss: 0.4832 - sigmoid_concordance: 0.5321 - val_loss: 0.4618 - val_sigmoid_concordance: 0.5915\n",
      "Epoch 2/3\n",
      "1/1 [==============================] - 0s 348ms/step - loss: 0.4713 - sigmoid_concordance: 0.5530 - val_loss: 0.4407 - val_sigmoid_concordance: 0.6061\n",
      "Epoch 3/3\n",
      "1/1 [==============================] - 0s 354ms/step - loss: 0.4480 - sigmoid_concordance: 0.5859 - val_loss: 0.4248 - val_sigmoid_concordance: 0.6057\n"
     ]
    },
    {
     "name": "stderr",
     "output_type": "stream",
     "text": [
      "sh: /home/shenwanxiang/anaconda3/lib/libtinfo.so.6: no version information available (required by sh)\n",
      "rm: cannot remove './ResultsTest/VanillaClinicalTransformer/Riaz/full_24': No such file or directory\n"
     ]
    },
    {
     "name": "stdout",
     "output_type": "stream",
     "text": [
      "Epoch 1/3\n",
      "1/1 [==============================] - 1s 581ms/step - loss: 0.5233 - sigmoid_concordance: 0.4595 - val_loss: 0.4653 - val_sigmoid_concordance: 0.7647\n",
      "Epoch 2/3\n",
      "1/1 [==============================] - 0s 368ms/step - loss: 0.5049 - sigmoid_concordance: 0.4910 - val_loss: 0.5144 - val_sigmoid_concordance: 0.4706\n",
      "Epoch 3/3\n",
      "1/1 [==============================] - 0s 355ms/step - loss: 0.4760 - sigmoid_concordance: 0.5523 - val_loss: 0.5536 - val_sigmoid_concordance: 0.4412\n"
     ]
    },
    {
     "name": "stderr",
     "output_type": "stream",
     "text": [
      "sh: /home/shenwanxiang/anaconda3/lib/libtinfo.so.6: no version information available (required by sh)\n",
      "rm: cannot remove './ResultsTest/VanillaClinicalTransformer/Riaz/full_42': No such file or directory\n"
     ]
    },
    {
     "name": "stdout",
     "output_type": "stream",
     "text": [
      "Epoch 1/3\n",
      "1/1 [==============================] - 1s 571ms/step - loss: 0.4810 - sigmoid_concordance: 0.5390 - val_loss: 0.5477 - val_sigmoid_concordance: 0.4706\n",
      "Epoch 2/3\n",
      "1/1 [==============================] - 0s 360ms/step - loss: 0.4516 - sigmoid_concordance: 0.5845 - val_loss: 0.5903 - val_sigmoid_concordance: 0.4412\n",
      "Epoch 3/3\n",
      "1/1 [==============================] - 0s 355ms/step - loss: 0.4366 - sigmoid_concordance: 0.5979 - val_loss: 0.6173 - val_sigmoid_concordance: 0.4118\n"
     ]
    },
    {
     "name": "stderr",
     "output_type": "stream",
     "text": [
      "sh: /home/shenwanxiang/anaconda3/lib/libtinfo.so.6: no version information available (required by sh)\n",
      "rm: cannot remove './ResultsTest/VanillaClinicalTransformer/Riaz/full_64': No such file or directory\n"
     ]
    },
    {
     "name": "stdout",
     "output_type": "stream",
     "text": [
      "Epoch 1/3\n",
      "1/1 [==============================] - 1s 565ms/step - loss: 0.4707 - sigmoid_concordance: 0.5590 - val_loss: 0.6005 - val_sigmoid_concordance: 0.4118\n",
      "Epoch 2/3\n",
      "1/1 [==============================] - 0s 349ms/step - loss: 0.4473 - sigmoid_concordance: 0.5841 - val_loss: 0.6254 - val_sigmoid_concordance: 0.4412\n",
      "Epoch 3/3\n",
      "1/1 [==============================] - 0s 357ms/step - loss: 0.4245 - sigmoid_concordance: 0.6015 - val_loss: 0.6392 - val_sigmoid_concordance: 0.4118\n"
     ]
    },
    {
     "name": "stderr",
     "output_type": "stream",
     "text": [
      "100%|████████████████████████████████████████████████████████████████████████████████| 809/809 [00:02<00:00, 290.54it/s]\n",
      "100%|███████████████████████████████████████████████████████████████████████████████████| 51/51 [00:00<00:00, 65.92it/s]\n",
      " 63%|██████████████████████████████████████████████████▍                             | 510/809 [00:01<00:01, 285.11it/s]\n"
     ]
    },
    {
     "ename": "KeyboardInterrupt",
     "evalue": "",
     "output_type": "error",
     "traceback": [
      "\u001b[0;31m---------------------------------------------------------------------------\u001b[0m",
      "\u001b[0;31mKeyboardInterrupt\u001b[0m                         Traceback (most recent call last)",
      "\u001b[0;32m/tmp/ipykernel_2513283/4080067430.py\u001b[0m in \u001b[0;36m<module>\u001b[0;34m\u001b[0m\n\u001b[1;32m    257\u001b[0m \u001b[0;34m\u001b[0m\u001b[0m\n\u001b[1;32m    258\u001b[0m         pred_dirs = predict(train_data.copy(), test_data.copy(), \n\u001b[0;32m--> 259\u001b[0;31m                             features, best_epoch, model_dirs)\n\u001b[0m\u001b[1;32m    260\u001b[0m \u001b[0;34m\u001b[0m\u001b[0m\n\u001b[1;32m    261\u001b[0m         \u001b[0mtf\u001b[0m\u001b[0;34m.\u001b[0m\u001b[0mkeras\u001b[0m\u001b[0;34m.\u001b[0m\u001b[0mbackend\u001b[0m\u001b[0;34m.\u001b[0m\u001b[0mclear_session\u001b[0m\u001b[0;34m(\u001b[0m\u001b[0;34m)\u001b[0m\u001b[0;34m;\u001b[0m \u001b[0mgc\u001b[0m\u001b[0;34m.\u001b[0m\u001b[0mcollect\u001b[0m\u001b[0;34m(\u001b[0m\u001b[0;34m)\u001b[0m\u001b[0;34m\u001b[0m\u001b[0;34m\u001b[0m\u001b[0m\n",
      "\u001b[0;32m/tmp/ipykernel_2513283/4080067430.py\u001b[0m in \u001b[0;36mpredict\u001b[0;34m(train_data, test_data, features, best_epoch, model_dirs)\u001b[0m\n\u001b[1;32m    166\u001b[0m         \u001b[0mevaluator\u001b[0m \u001b[0;34m=\u001b[0m \u001b[0mTransformerSurvivalEvaluator\u001b[0m\u001b[0;34m(\u001b[0m\u001b[0mmodel\u001b[0m\u001b[0;34m=\u001b[0m\u001b[0mtrainer\u001b[0m\u001b[0;34m)\u001b[0m\u001b[0;34m\u001b[0m\u001b[0;34m\u001b[0m\u001b[0m\n\u001b[1;32m    167\u001b[0m         train_data, outputs, features, patient_ids, iters, attention_scores = survival_attention_scores(\n\u001b[0;32m--> 168\u001b[0;31m             \u001b[0mtransformed_data\u001b[0m\u001b[0;34m,\u001b[0m \u001b[0mevaluator\u001b[0m\u001b[0;34m,\u001b[0m \u001b[0miterations\u001b[0m\u001b[0;34m=\u001b[0m\u001b[0;36m1\u001b[0m\u001b[0;34m,\u001b[0m \u001b[0msample_id\u001b[0m\u001b[0;34m=\u001b[0m\u001b[0msample_id\u001b[0m\u001b[0;34m\u001b[0m\u001b[0;34m\u001b[0m\u001b[0m\n\u001b[0m\u001b[1;32m    169\u001b[0m         )\n\u001b[1;32m    170\u001b[0m         \u001b[0mtrain_cindex\u001b[0m \u001b[0;34m=\u001b[0m \u001b[0mlfcindex\u001b[0m\u001b[0;34m(\u001b[0m\u001b[0mtrain_data\u001b[0m\u001b[0;34m[\u001b[0m\u001b[0;34m'time'\u001b[0m\u001b[0;34m]\u001b[0m\u001b[0;34m,\u001b[0m \u001b[0mtrain_data\u001b[0m\u001b[0;34m[\u001b[0m\u001b[0;34m'β'\u001b[0m\u001b[0;34m]\u001b[0m\u001b[0;34m,\u001b[0m \u001b[0mtrain_data\u001b[0m\u001b[0;34m[\u001b[0m\u001b[0;34m'event'\u001b[0m\u001b[0;34m]\u001b[0m\u001b[0;34m)\u001b[0m\u001b[0;34m\u001b[0m\u001b[0;34m\u001b[0m\u001b[0m\n",
      "\u001b[0;32m~/Research/aliyun_sync/COMPASS/paper/04_model_performance/08_ML_benchmark/Clinical_Transformer/codeocean/environment/clinical_transformer/xai/models/SimplifiedClinicalTransformer/Topologies/BertLikeTransformer/Explainer/SurvivalExplainer.py\u001b[0m in \u001b[0;36msurvival_attention_scores\u001b[0;34m(data, evaluator, iterations, sample_id, batch_size)\u001b[0m\n\u001b[1;32m    116\u001b[0m \u001b[0;34m\u001b[0m\u001b[0m\n\u001b[1;32m    117\u001b[0m     \u001b[0;31m# The iterations in this parameter refers to the iteration vectors (repetitions of the same patient)\u001b[0m\u001b[0;34m\u001b[0m\u001b[0;34m\u001b[0m\u001b[0;34m\u001b[0m\u001b[0m\n\u001b[0;32m--> 118\u001b[0;31m     \u001b[0mattention_scores\u001b[0m \u001b[0;34m=\u001b[0m \u001b[0mcompute_attention_scores\u001b[0m\u001b[0;34m(\u001b[0m\u001b[0mdata\u001b[0m\u001b[0;34m,\u001b[0m \u001b[0mfeatures\u001b[0m\u001b[0;34m,\u001b[0m \u001b[0moutputs\u001b[0m\u001b[0;34m,\u001b[0m \u001b[0miters\u001b[0m\u001b[0;34m,\u001b[0m \u001b[0mpatient_ids\u001b[0m\u001b[0;34m,\u001b[0m \u001b[0msample_id\u001b[0m\u001b[0;34m=\u001b[0m\u001b[0msample_id\u001b[0m\u001b[0;34m)\u001b[0m\u001b[0;34m\u001b[0m\u001b[0;34m\u001b[0m\u001b[0m\n\u001b[0m\u001b[1;32m    119\u001b[0m \u001b[0;34m\u001b[0m\u001b[0m\n\u001b[1;32m    120\u001b[0m     \u001b[0;32mreturn\u001b[0m \u001b[0mdata\u001b[0m\u001b[0;34m,\u001b[0m \u001b[0moutputs\u001b[0m\u001b[0;34m,\u001b[0m \u001b[0mfeatures\u001b[0m\u001b[0;34m,\u001b[0m \u001b[0mpatient_ids\u001b[0m\u001b[0;34m,\u001b[0m \u001b[0miters\u001b[0m\u001b[0;34m,\u001b[0m \u001b[0mattention_scores\u001b[0m\u001b[0;34m\u001b[0m\u001b[0;34m\u001b[0m\u001b[0m\n",
      "\u001b[0;32m~/Research/aliyun_sync/COMPASS/paper/04_model_performance/08_ML_benchmark/Clinical_Transformer/codeocean/environment/clinical_transformer/xai/models/SimplifiedClinicalTransformer/Topologies/BertLikeTransformer/Explainer/SurvivalExplainer.py\u001b[0m in \u001b[0;36mcompute_attention_scores\u001b[0;34m(data, features, outputs, iterations, patient_ids, sample_id)\u001b[0m\n\u001b[1;32m     75\u001b[0m     \u001b[0memxso\u001b[0m \u001b[0;34m=\u001b[0m \u001b[0;34m[\u001b[0m\u001b[0;34m]\u001b[0m\u001b[0;34m\u001b[0m\u001b[0;34m\u001b[0m\u001b[0m\n\u001b[1;32m     76\u001b[0m     \u001b[0;32mfor\u001b[0m \u001b[0mpix\u001b[0m\u001b[0;34m,\u001b[0m \u001b[0mpatient\u001b[0m \u001b[0;32min\u001b[0m \u001b[0mtqdm\u001b[0m\u001b[0;34m(\u001b[0m\u001b[0mdata\u001b[0m\u001b[0;34m.\u001b[0m\u001b[0miterrows\u001b[0m\u001b[0;34m(\u001b[0m\u001b[0;34m)\u001b[0m\u001b[0;34m,\u001b[0m \u001b[0mtotal\u001b[0m\u001b[0;34m=\u001b[0m\u001b[0mdata\u001b[0m\u001b[0;34m.\u001b[0m\u001b[0mshape\u001b[0m\u001b[0;34m[\u001b[0m\u001b[0;36m0\u001b[0m\u001b[0;34m]\u001b[0m\u001b[0;34m)\u001b[0m\u001b[0;34m:\u001b[0m\u001b[0;34m\u001b[0m\u001b[0;34m\u001b[0m\u001b[0m\n\u001b[0;32m---> 77\u001b[0;31m         \u001b[0memx\u001b[0m \u001b[0;34m=\u001b[0m \u001b[0minner_cosine_scores\u001b[0m\u001b[0;34m(\u001b[0m\u001b[0mpatient\u001b[0m\u001b[0;34m[\u001b[0m\u001b[0msample_id\u001b[0m\u001b[0;34m]\u001b[0m\u001b[0;34m,\u001b[0m \u001b[0mfeatures\u001b[0m\u001b[0;34m,\u001b[0m \u001b[0moutputs\u001b[0m\u001b[0;34m,\u001b[0m \u001b[0miterations\u001b[0m\u001b[0;34m,\u001b[0m \u001b[0mpatient_ids\u001b[0m\u001b[0;34m)\u001b[0m\u001b[0;34m\u001b[0m\u001b[0;34m\u001b[0m\u001b[0m\n\u001b[0m\u001b[1;32m     78\u001b[0m         \u001b[0memx\u001b[0m\u001b[0;34m[\u001b[0m\u001b[0;34m'β'\u001b[0m\u001b[0;34m]\u001b[0m \u001b[0;34m=\u001b[0m \u001b[0mpatient\u001b[0m\u001b[0;34m.\u001b[0m\u001b[0mβ\u001b[0m\u001b[0;34m\u001b[0m\u001b[0;34m\u001b[0m\u001b[0m\n\u001b[1;32m     79\u001b[0m \u001b[0;34m\u001b[0m\u001b[0m\n",
      "\u001b[0;32m~/Research/aliyun_sync/COMPASS/paper/04_model_performance/08_ML_benchmark/Clinical_Transformer/codeocean/environment/clinical_transformer/xai/models/SimplifiedClinicalTransformer/Topologies/BertLikeTransformer/Explainer/SurvivalExplainer.py\u001b[0m in \u001b[0;36minner_cosine_scores\u001b[0;34m(patient, features, outputs, iterations, patient_ids)\u001b[0m\n\u001b[1;32m     59\u001b[0m     \u001b[0;31m# Transform the matrix to a vector\u001b[0m\u001b[0;34m\u001b[0m\u001b[0;34m\u001b[0m\u001b[0;34m\u001b[0m\u001b[0m\n\u001b[1;32m     60\u001b[0m     \u001b[0memx\u001b[0m \u001b[0;34m=\u001b[0m \u001b[0memx\u001b[0m\u001b[0;34m.\u001b[0m\u001b[0mmelt\u001b[0m\u001b[0;34m(\u001b[0m\u001b[0mid_vars\u001b[0m\u001b[0;34m=\u001b[0m\u001b[0;34m[\u001b[0m\u001b[0;34m'id'\u001b[0m\u001b[0;34m]\u001b[0m\u001b[0;34m)\u001b[0m\u001b[0;34m\u001b[0m\u001b[0;34m\u001b[0m\u001b[0m\n\u001b[0;32m---> 61\u001b[0;31m     \u001b[0memx\u001b[0m \u001b[0;34m=\u001b[0m \u001b[0memx\u001b[0m\u001b[0;34m.\u001b[0m\u001b[0mdropna\u001b[0m\u001b[0;34m(\u001b[0m\u001b[0;34m)\u001b[0m\u001b[0;34m\u001b[0m\u001b[0;34m\u001b[0m\u001b[0m\n\u001b[0m\u001b[1;32m     62\u001b[0m     \u001b[0;31m# emx['value']  = emx.value.abs()\u001b[0m\u001b[0;34m\u001b[0m\u001b[0;34m\u001b[0m\u001b[0;34m\u001b[0m\u001b[0m\n\u001b[1;32m     63\u001b[0m \u001b[0;34m\u001b[0m\u001b[0m\n",
      "\u001b[0;32m~/anaconda3/envs/IRnet_env/lib/python3.7/site-packages/pandas/util/_decorators.py\u001b[0m in \u001b[0;36mwrapper\u001b[0;34m(*args, **kwargs)\u001b[0m\n\u001b[1;32m    309\u001b[0m                     \u001b[0mstacklevel\u001b[0m\u001b[0;34m=\u001b[0m\u001b[0mstacklevel\u001b[0m\u001b[0;34m,\u001b[0m\u001b[0;34m\u001b[0m\u001b[0;34m\u001b[0m\u001b[0m\n\u001b[1;32m    310\u001b[0m                 )\n\u001b[0;32m--> 311\u001b[0;31m             \u001b[0;32mreturn\u001b[0m \u001b[0mfunc\u001b[0m\u001b[0;34m(\u001b[0m\u001b[0;34m*\u001b[0m\u001b[0margs\u001b[0m\u001b[0;34m,\u001b[0m \u001b[0;34m**\u001b[0m\u001b[0mkwargs\u001b[0m\u001b[0;34m)\u001b[0m\u001b[0;34m\u001b[0m\u001b[0;34m\u001b[0m\u001b[0m\n\u001b[0m\u001b[1;32m    312\u001b[0m \u001b[0;34m\u001b[0m\u001b[0m\n\u001b[1;32m    313\u001b[0m         \u001b[0;32mreturn\u001b[0m \u001b[0mwrapper\u001b[0m\u001b[0;34m\u001b[0m\u001b[0;34m\u001b[0m\u001b[0m\n",
      "\u001b[0;32m~/anaconda3/envs/IRnet_env/lib/python3.7/site-packages/pandas/core/frame.py\u001b[0m in \u001b[0;36mdropna\u001b[0;34m(self, axis, how, thresh, subset, inplace)\u001b[0m\n\u001b[1;32m   5968\u001b[0m                 \u001b[0;32mraise\u001b[0m \u001b[0mTypeError\u001b[0m\u001b[0;34m(\u001b[0m\u001b[0;34m\"must specify how or thresh\"\u001b[0m\u001b[0;34m)\u001b[0m\u001b[0;34m\u001b[0m\u001b[0;34m\u001b[0m\u001b[0m\n\u001b[1;32m   5969\u001b[0m \u001b[0;34m\u001b[0m\u001b[0m\n\u001b[0;32m-> 5970\u001b[0;31m         \u001b[0mresult\u001b[0m \u001b[0;34m=\u001b[0m \u001b[0mself\u001b[0m\u001b[0;34m.\u001b[0m\u001b[0mloc\u001b[0m\u001b[0;34m(\u001b[0m\u001b[0maxis\u001b[0m\u001b[0;34m=\u001b[0m\u001b[0maxis\u001b[0m\u001b[0;34m)\u001b[0m\u001b[0;34m[\u001b[0m\u001b[0mmask\u001b[0m\u001b[0;34m]\u001b[0m\u001b[0;34m\u001b[0m\u001b[0;34m\u001b[0m\u001b[0m\n\u001b[0m\u001b[1;32m   5971\u001b[0m \u001b[0;34m\u001b[0m\u001b[0m\n\u001b[1;32m   5972\u001b[0m         \u001b[0;32mif\u001b[0m \u001b[0minplace\u001b[0m\u001b[0;34m:\u001b[0m\u001b[0;34m\u001b[0m\u001b[0;34m\u001b[0m\u001b[0m\n",
      "\u001b[0;32m~/anaconda3/envs/IRnet_env/lib/python3.7/site-packages/pandas/core/indexing.py\u001b[0m in \u001b[0;36m__getitem__\u001b[0;34m(self, key)\u001b[0m\n\u001b[1;32m    929\u001b[0m \u001b[0;34m\u001b[0m\u001b[0m\n\u001b[1;32m    930\u001b[0m             \u001b[0mmaybe_callable\u001b[0m \u001b[0;34m=\u001b[0m \u001b[0mcom\u001b[0m\u001b[0;34m.\u001b[0m\u001b[0mapply_if_callable\u001b[0m\u001b[0;34m(\u001b[0m\u001b[0mkey\u001b[0m\u001b[0;34m,\u001b[0m \u001b[0mself\u001b[0m\u001b[0;34m.\u001b[0m\u001b[0mobj\u001b[0m\u001b[0;34m)\u001b[0m\u001b[0;34m\u001b[0m\u001b[0;34m\u001b[0m\u001b[0m\n\u001b[0;32m--> 931\u001b[0;31m             \u001b[0;32mreturn\u001b[0m \u001b[0mself\u001b[0m\u001b[0;34m.\u001b[0m\u001b[0m_getitem_axis\u001b[0m\u001b[0;34m(\u001b[0m\u001b[0mmaybe_callable\u001b[0m\u001b[0;34m,\u001b[0m \u001b[0maxis\u001b[0m\u001b[0;34m=\u001b[0m\u001b[0maxis\u001b[0m\u001b[0;34m)\u001b[0m\u001b[0;34m\u001b[0m\u001b[0;34m\u001b[0m\u001b[0m\n\u001b[0m\u001b[1;32m    932\u001b[0m \u001b[0;34m\u001b[0m\u001b[0m\n\u001b[1;32m    933\u001b[0m     \u001b[0;32mdef\u001b[0m \u001b[0m_is_scalar_access\u001b[0m\u001b[0;34m(\u001b[0m\u001b[0mself\u001b[0m\u001b[0;34m,\u001b[0m \u001b[0mkey\u001b[0m\u001b[0;34m:\u001b[0m \u001b[0mtuple\u001b[0m\u001b[0;34m)\u001b[0m\u001b[0;34m:\u001b[0m\u001b[0;34m\u001b[0m\u001b[0;34m\u001b[0m\u001b[0m\n",
      "\u001b[0;32m~/anaconda3/envs/IRnet_env/lib/python3.7/site-packages/pandas/core/indexing.py\u001b[0m in \u001b[0;36m_getitem_axis\u001b[0;34m(self, key, axis)\u001b[0m\n\u001b[1;32m   1142\u001b[0m             \u001b[0;32mreturn\u001b[0m \u001b[0mself\u001b[0m\u001b[0;34m.\u001b[0m\u001b[0m_get_slice_axis\u001b[0m\u001b[0;34m(\u001b[0m\u001b[0mkey\u001b[0m\u001b[0;34m,\u001b[0m \u001b[0maxis\u001b[0m\u001b[0;34m=\u001b[0m\u001b[0maxis\u001b[0m\u001b[0;34m)\u001b[0m\u001b[0;34m\u001b[0m\u001b[0;34m\u001b[0m\u001b[0m\n\u001b[1;32m   1143\u001b[0m         \u001b[0;32melif\u001b[0m \u001b[0mcom\u001b[0m\u001b[0;34m.\u001b[0m\u001b[0mis_bool_indexer\u001b[0m\u001b[0;34m(\u001b[0m\u001b[0mkey\u001b[0m\u001b[0;34m)\u001b[0m\u001b[0;34m:\u001b[0m\u001b[0;34m\u001b[0m\u001b[0;34m\u001b[0m\u001b[0m\n\u001b[0;32m-> 1144\u001b[0;31m             \u001b[0;32mreturn\u001b[0m \u001b[0mself\u001b[0m\u001b[0;34m.\u001b[0m\u001b[0m_getbool_axis\u001b[0m\u001b[0;34m(\u001b[0m\u001b[0mkey\u001b[0m\u001b[0;34m,\u001b[0m \u001b[0maxis\u001b[0m\u001b[0;34m=\u001b[0m\u001b[0maxis\u001b[0m\u001b[0;34m)\u001b[0m\u001b[0;34m\u001b[0m\u001b[0;34m\u001b[0m\u001b[0m\n\u001b[0m\u001b[1;32m   1145\u001b[0m         \u001b[0;32melif\u001b[0m \u001b[0mis_list_like_indexer\u001b[0m\u001b[0;34m(\u001b[0m\u001b[0mkey\u001b[0m\u001b[0;34m)\u001b[0m\u001b[0;34m:\u001b[0m\u001b[0;34m\u001b[0m\u001b[0;34m\u001b[0m\u001b[0m\n\u001b[1;32m   1146\u001b[0m \u001b[0;34m\u001b[0m\u001b[0m\n",
      "\u001b[0;32m~/anaconda3/envs/IRnet_env/lib/python3.7/site-packages/pandas/core/indexing.py\u001b[0m in \u001b[0;36m_getbool_axis\u001b[0;34m(self, key, axis)\u001b[0m\n\u001b[1;32m    948\u001b[0m         \u001b[0mkey\u001b[0m \u001b[0;34m=\u001b[0m \u001b[0mcheck_bool_indexer\u001b[0m\u001b[0;34m(\u001b[0m\u001b[0mlabels\u001b[0m\u001b[0;34m,\u001b[0m \u001b[0mkey\u001b[0m\u001b[0;34m)\u001b[0m\u001b[0;34m\u001b[0m\u001b[0;34m\u001b[0m\u001b[0m\n\u001b[1;32m    949\u001b[0m         \u001b[0minds\u001b[0m \u001b[0;34m=\u001b[0m \u001b[0mkey\u001b[0m\u001b[0;34m.\u001b[0m\u001b[0mnonzero\u001b[0m\u001b[0;34m(\u001b[0m\u001b[0;34m)\u001b[0m\u001b[0;34m[\u001b[0m\u001b[0;36m0\u001b[0m\u001b[0;34m]\u001b[0m\u001b[0;34m\u001b[0m\u001b[0;34m\u001b[0m\u001b[0m\n\u001b[0;32m--> 950\u001b[0;31m         \u001b[0;32mreturn\u001b[0m \u001b[0mself\u001b[0m\u001b[0;34m.\u001b[0m\u001b[0mobj\u001b[0m\u001b[0;34m.\u001b[0m\u001b[0m_take_with_is_copy\u001b[0m\u001b[0;34m(\u001b[0m\u001b[0minds\u001b[0m\u001b[0;34m,\u001b[0m \u001b[0maxis\u001b[0m\u001b[0;34m=\u001b[0m\u001b[0maxis\u001b[0m\u001b[0;34m)\u001b[0m\u001b[0;34m\u001b[0m\u001b[0;34m\u001b[0m\u001b[0m\n\u001b[0m\u001b[1;32m    951\u001b[0m \u001b[0;34m\u001b[0m\u001b[0m\n\u001b[1;32m    952\u001b[0m \u001b[0;34m\u001b[0m\u001b[0m\n",
      "\u001b[0;32m~/anaconda3/envs/IRnet_env/lib/python3.7/site-packages/pandas/core/generic.py\u001b[0m in \u001b[0;36m_take_with_is_copy\u001b[0;34m(self, indices, axis)\u001b[0m\n\u001b[1;32m   3626\u001b[0m         \u001b[0mSee\u001b[0m \u001b[0mthe\u001b[0m \u001b[0mdocstring\u001b[0m \u001b[0mof\u001b[0m\u001b[0;31m \u001b[0m\u001b[0;31m`\u001b[0m\u001b[0mtake\u001b[0m\u001b[0;31m`\u001b[0m \u001b[0;32mfor\u001b[0m \u001b[0mfull\u001b[0m \u001b[0mexplanation\u001b[0m \u001b[0mof\u001b[0m \u001b[0mthe\u001b[0m \u001b[0mparameters\u001b[0m\u001b[0;34m.\u001b[0m\u001b[0;34m\u001b[0m\u001b[0;34m\u001b[0m\u001b[0m\n\u001b[1;32m   3627\u001b[0m         \"\"\"\n\u001b[0;32m-> 3628\u001b[0;31m         \u001b[0mresult\u001b[0m \u001b[0;34m=\u001b[0m \u001b[0mself\u001b[0m\u001b[0;34m.\u001b[0m\u001b[0mtake\u001b[0m\u001b[0;34m(\u001b[0m\u001b[0mindices\u001b[0m\u001b[0;34m=\u001b[0m\u001b[0mindices\u001b[0m\u001b[0;34m,\u001b[0m \u001b[0maxis\u001b[0m\u001b[0;34m=\u001b[0m\u001b[0maxis\u001b[0m\u001b[0;34m)\u001b[0m\u001b[0;34m\u001b[0m\u001b[0;34m\u001b[0m\u001b[0m\n\u001b[0m\u001b[1;32m   3629\u001b[0m         \u001b[0;31m# Maybe set copy if we didn't actually change the index.\u001b[0m\u001b[0;34m\u001b[0m\u001b[0;34m\u001b[0m\u001b[0;34m\u001b[0m\u001b[0m\n\u001b[1;32m   3630\u001b[0m         \u001b[0;32mif\u001b[0m \u001b[0;32mnot\u001b[0m \u001b[0mresult\u001b[0m\u001b[0;34m.\u001b[0m\u001b[0m_get_axis\u001b[0m\u001b[0;34m(\u001b[0m\u001b[0maxis\u001b[0m\u001b[0;34m)\u001b[0m\u001b[0;34m.\u001b[0m\u001b[0mequals\u001b[0m\u001b[0;34m(\u001b[0m\u001b[0mself\u001b[0m\u001b[0;34m.\u001b[0m\u001b[0m_get_axis\u001b[0m\u001b[0;34m(\u001b[0m\u001b[0maxis\u001b[0m\u001b[0;34m)\u001b[0m\u001b[0;34m)\u001b[0m\u001b[0;34m:\u001b[0m\u001b[0;34m\u001b[0m\u001b[0;34m\u001b[0m\u001b[0m\n",
      "\u001b[0;32m~/anaconda3/envs/IRnet_env/lib/python3.7/site-packages/pandas/core/generic.py\u001b[0m in \u001b[0;36mtake\u001b[0;34m(self, indices, axis, is_copy, **kwargs)\u001b[0m\n\u001b[1;32m   3614\u001b[0m \u001b[0;34m\u001b[0m\u001b[0m\n\u001b[1;32m   3615\u001b[0m         new_data = self._mgr.take(\n\u001b[0;32m-> 3616\u001b[0;31m             \u001b[0mindices\u001b[0m\u001b[0;34m,\u001b[0m \u001b[0maxis\u001b[0m\u001b[0;34m=\u001b[0m\u001b[0mself\u001b[0m\u001b[0;34m.\u001b[0m\u001b[0m_get_block_manager_axis\u001b[0m\u001b[0;34m(\u001b[0m\u001b[0maxis\u001b[0m\u001b[0;34m)\u001b[0m\u001b[0;34m,\u001b[0m \u001b[0mverify\u001b[0m\u001b[0;34m=\u001b[0m\u001b[0;32mTrue\u001b[0m\u001b[0;34m\u001b[0m\u001b[0;34m\u001b[0m\u001b[0m\n\u001b[0m\u001b[1;32m   3617\u001b[0m         )\n\u001b[1;32m   3618\u001b[0m         \u001b[0;32mreturn\u001b[0m \u001b[0mself\u001b[0m\u001b[0;34m.\u001b[0m\u001b[0m_constructor\u001b[0m\u001b[0;34m(\u001b[0m\u001b[0mnew_data\u001b[0m\u001b[0;34m)\u001b[0m\u001b[0;34m.\u001b[0m\u001b[0m__finalize__\u001b[0m\u001b[0;34m(\u001b[0m\u001b[0mself\u001b[0m\u001b[0;34m,\u001b[0m \u001b[0mmethod\u001b[0m\u001b[0;34m=\u001b[0m\u001b[0;34m\"take\"\u001b[0m\u001b[0;34m)\u001b[0m\u001b[0;34m\u001b[0m\u001b[0;34m\u001b[0m\u001b[0m\n",
      "\u001b[0;32m~/anaconda3/envs/IRnet_env/lib/python3.7/site-packages/pandas/core/internals/managers.py\u001b[0m in \u001b[0;36mtake\u001b[0;34m(self, indexer, axis, verify)\u001b[0m\n\u001b[1;32m    859\u001b[0m         )\n\u001b[1;32m    860\u001b[0m \u001b[0;34m\u001b[0m\u001b[0m\n\u001b[0;32m--> 861\u001b[0;31m         \u001b[0mn\u001b[0m \u001b[0;34m=\u001b[0m \u001b[0mself\u001b[0m\u001b[0;34m.\u001b[0m\u001b[0mshape\u001b[0m\u001b[0;34m[\u001b[0m\u001b[0maxis\u001b[0m\u001b[0;34m]\u001b[0m\u001b[0;34m\u001b[0m\u001b[0;34m\u001b[0m\u001b[0m\n\u001b[0m\u001b[1;32m    862\u001b[0m         \u001b[0mindexer\u001b[0m \u001b[0;34m=\u001b[0m \u001b[0mmaybe_convert_indices\u001b[0m\u001b[0;34m(\u001b[0m\u001b[0mindexer\u001b[0m\u001b[0;34m,\u001b[0m \u001b[0mn\u001b[0m\u001b[0;34m,\u001b[0m \u001b[0mverify\u001b[0m\u001b[0;34m=\u001b[0m\u001b[0mverify\u001b[0m\u001b[0;34m)\u001b[0m\u001b[0;34m\u001b[0m\u001b[0;34m\u001b[0m\u001b[0m\n\u001b[1;32m    863\u001b[0m \u001b[0;34m\u001b[0m\u001b[0m\n",
      "\u001b[0;31mKeyboardInterrupt\u001b[0m: "
     ]
    },
    {
     "name": "stdout",
     "output_type": "stream",
     "text": [
      "Error in callback <function flush_figures at 0x7fb86bfc84d0> (for post_execute):\n"
     ]
    },
    {
     "ename": "KeyboardInterrupt",
     "evalue": "",
     "output_type": "error",
     "traceback": [
      "\u001b[0;31m---------------------------------------------------------------------------\u001b[0m",
      "\u001b[0;31mAttributeError\u001b[0m                            Traceback (most recent call last)",
      "\u001b[0;32m~/.local/lib/python3.7/site-packages/PIL/ImageFile.py\u001b[0m in \u001b[0;36m_save\u001b[0;34m(im, fp, tile, bufsize)\u001b[0m\n\u001b[1;32m    494\u001b[0m     \u001b[0;32mtry\u001b[0m\u001b[0;34m:\u001b[0m\u001b[0;34m\u001b[0m\u001b[0;34m\u001b[0m\u001b[0m\n\u001b[0;32m--> 495\u001b[0;31m         \u001b[0mfh\u001b[0m \u001b[0;34m=\u001b[0m \u001b[0mfp\u001b[0m\u001b[0;34m.\u001b[0m\u001b[0mfileno\u001b[0m\u001b[0;34m(\u001b[0m\u001b[0;34m)\u001b[0m\u001b[0;34m\u001b[0m\u001b[0;34m\u001b[0m\u001b[0m\n\u001b[0m\u001b[1;32m    496\u001b[0m         \u001b[0mfp\u001b[0m\u001b[0;34m.\u001b[0m\u001b[0mflush\u001b[0m\u001b[0;34m(\u001b[0m\u001b[0;34m)\u001b[0m\u001b[0;34m\u001b[0m\u001b[0;34m\u001b[0m\u001b[0m\n",
      "\u001b[0;31mAttributeError\u001b[0m: '_idat' object has no attribute 'fileno'",
      "\nDuring handling of the above exception, another exception occurred:\n",
      "\u001b[0;31mKeyboardInterrupt\u001b[0m                         Traceback (most recent call last)",
      "\u001b[0;32m~/anaconda3/envs/IRnet_env/lib/python3.7/site-packages/matplotlib_inline/backend_inline.py\u001b[0m in \u001b[0;36mflush_figures\u001b[0;34m()\u001b[0m\n\u001b[1;32m    124\u001b[0m             \u001b[0;31m# ignore the tracking, just draw and close all figures\u001b[0m\u001b[0;34m\u001b[0m\u001b[0;34m\u001b[0m\u001b[0;34m\u001b[0m\u001b[0m\n\u001b[1;32m    125\u001b[0m             \u001b[0;32mtry\u001b[0m\u001b[0;34m:\u001b[0m\u001b[0;34m\u001b[0m\u001b[0;34m\u001b[0m\u001b[0m\n\u001b[0;32m--> 126\u001b[0;31m                 \u001b[0;32mreturn\u001b[0m \u001b[0mshow\u001b[0m\u001b[0;34m(\u001b[0m\u001b[0;32mTrue\u001b[0m\u001b[0;34m)\u001b[0m\u001b[0;34m\u001b[0m\u001b[0;34m\u001b[0m\u001b[0m\n\u001b[0m\u001b[1;32m    127\u001b[0m             \u001b[0;32mexcept\u001b[0m \u001b[0mException\u001b[0m \u001b[0;32mas\u001b[0m \u001b[0me\u001b[0m\u001b[0;34m:\u001b[0m\u001b[0;34m\u001b[0m\u001b[0;34m\u001b[0m\u001b[0m\n\u001b[1;32m    128\u001b[0m                 \u001b[0;31m# safely show traceback if in IPython, else raise\u001b[0m\u001b[0;34m\u001b[0m\u001b[0;34m\u001b[0m\u001b[0;34m\u001b[0m\u001b[0m\n",
      "\u001b[0;32m~/anaconda3/envs/IRnet_env/lib/python3.7/site-packages/matplotlib_inline/backend_inline.py\u001b[0m in \u001b[0;36mshow\u001b[0;34m(close, block)\u001b[0m\n\u001b[1;32m     90\u001b[0m             display(\n\u001b[1;32m     91\u001b[0m                 \u001b[0mfigure_manager\u001b[0m\u001b[0;34m.\u001b[0m\u001b[0mcanvas\u001b[0m\u001b[0;34m.\u001b[0m\u001b[0mfigure\u001b[0m\u001b[0;34m,\u001b[0m\u001b[0;34m\u001b[0m\u001b[0;34m\u001b[0m\u001b[0m\n\u001b[0;32m---> 92\u001b[0;31m                 \u001b[0mmetadata\u001b[0m\u001b[0;34m=\u001b[0m\u001b[0m_fetch_figure_metadata\u001b[0m\u001b[0;34m(\u001b[0m\u001b[0mfigure_manager\u001b[0m\u001b[0;34m.\u001b[0m\u001b[0mcanvas\u001b[0m\u001b[0;34m.\u001b[0m\u001b[0mfigure\u001b[0m\u001b[0;34m)\u001b[0m\u001b[0;34m\u001b[0m\u001b[0;34m\u001b[0m\u001b[0m\n\u001b[0m\u001b[1;32m     93\u001b[0m             )\n\u001b[1;32m     94\u001b[0m     \u001b[0;32mfinally\u001b[0m\u001b[0;34m:\u001b[0m\u001b[0;34m\u001b[0m\u001b[0;34m\u001b[0m\u001b[0m\n",
      "\u001b[0;32m~/anaconda3/envs/IRnet_env/lib/python3.7/site-packages/IPython/core/display.py\u001b[0m in \u001b[0;36mdisplay\u001b[0;34m(include, exclude, metadata, transient, display_id, *objs, **kwargs)\u001b[0m\n\u001b[1;32m    318\u001b[0m             \u001b[0mpublish_display_data\u001b[0m\u001b[0;34m(\u001b[0m\u001b[0mdata\u001b[0m\u001b[0;34m=\u001b[0m\u001b[0mobj\u001b[0m\u001b[0;34m,\u001b[0m \u001b[0mmetadata\u001b[0m\u001b[0;34m=\u001b[0m\u001b[0mmetadata\u001b[0m\u001b[0;34m,\u001b[0m \u001b[0;34m**\u001b[0m\u001b[0mkwargs\u001b[0m\u001b[0;34m)\u001b[0m\u001b[0;34m\u001b[0m\u001b[0;34m\u001b[0m\u001b[0m\n\u001b[1;32m    319\u001b[0m         \u001b[0;32melse\u001b[0m\u001b[0;34m:\u001b[0m\u001b[0;34m\u001b[0m\u001b[0;34m\u001b[0m\u001b[0m\n\u001b[0;32m--> 320\u001b[0;31m             \u001b[0mformat_dict\u001b[0m\u001b[0;34m,\u001b[0m \u001b[0mmd_dict\u001b[0m \u001b[0;34m=\u001b[0m \u001b[0mformat\u001b[0m\u001b[0;34m(\u001b[0m\u001b[0mobj\u001b[0m\u001b[0;34m,\u001b[0m \u001b[0minclude\u001b[0m\u001b[0;34m=\u001b[0m\u001b[0minclude\u001b[0m\u001b[0;34m,\u001b[0m \u001b[0mexclude\u001b[0m\u001b[0;34m=\u001b[0m\u001b[0mexclude\u001b[0m\u001b[0;34m)\u001b[0m\u001b[0;34m\u001b[0m\u001b[0;34m\u001b[0m\u001b[0m\n\u001b[0m\u001b[1;32m    321\u001b[0m             \u001b[0;32mif\u001b[0m \u001b[0;32mnot\u001b[0m \u001b[0mformat_dict\u001b[0m\u001b[0;34m:\u001b[0m\u001b[0;34m\u001b[0m\u001b[0;34m\u001b[0m\u001b[0m\n\u001b[1;32m    322\u001b[0m                 \u001b[0;31m# nothing to display (e.g. _ipython_display_ took over)\u001b[0m\u001b[0;34m\u001b[0m\u001b[0;34m\u001b[0m\u001b[0;34m\u001b[0m\u001b[0m\n",
      "\u001b[0;32m~/anaconda3/envs/IRnet_env/lib/python3.7/site-packages/IPython/core/formatters.py\u001b[0m in \u001b[0;36mformat\u001b[0;34m(self, obj, include, exclude)\u001b[0m\n\u001b[1;32m    178\u001b[0m             \u001b[0mmd\u001b[0m \u001b[0;34m=\u001b[0m \u001b[0;32mNone\u001b[0m\u001b[0;34m\u001b[0m\u001b[0;34m\u001b[0m\u001b[0m\n\u001b[1;32m    179\u001b[0m             \u001b[0;32mtry\u001b[0m\u001b[0;34m:\u001b[0m\u001b[0;34m\u001b[0m\u001b[0;34m\u001b[0m\u001b[0m\n\u001b[0;32m--> 180\u001b[0;31m                 \u001b[0mdata\u001b[0m \u001b[0;34m=\u001b[0m \u001b[0mformatter\u001b[0m\u001b[0;34m(\u001b[0m\u001b[0mobj\u001b[0m\u001b[0;34m)\u001b[0m\u001b[0;34m\u001b[0m\u001b[0;34m\u001b[0m\u001b[0m\n\u001b[0m\u001b[1;32m    181\u001b[0m             \u001b[0;32mexcept\u001b[0m\u001b[0;34m:\u001b[0m\u001b[0;34m\u001b[0m\u001b[0;34m\u001b[0m\u001b[0m\n\u001b[1;32m    182\u001b[0m                 \u001b[0;31m# FIXME: log the exception\u001b[0m\u001b[0;34m\u001b[0m\u001b[0;34m\u001b[0m\u001b[0;34m\u001b[0m\u001b[0m\n",
      "\u001b[0;32m~/anaconda3/envs/IRnet_env/lib/python3.7/site-packages/decorator.py\u001b[0m in \u001b[0;36mfun\u001b[0;34m(*args, **kw)\u001b[0m\n\u001b[1;32m    230\u001b[0m             \u001b[0;32mif\u001b[0m \u001b[0;32mnot\u001b[0m \u001b[0mkwsyntax\u001b[0m\u001b[0;34m:\u001b[0m\u001b[0;34m\u001b[0m\u001b[0;34m\u001b[0m\u001b[0m\n\u001b[1;32m    231\u001b[0m                 \u001b[0margs\u001b[0m\u001b[0;34m,\u001b[0m \u001b[0mkw\u001b[0m \u001b[0;34m=\u001b[0m \u001b[0mfix\u001b[0m\u001b[0;34m(\u001b[0m\u001b[0margs\u001b[0m\u001b[0;34m,\u001b[0m \u001b[0mkw\u001b[0m\u001b[0;34m,\u001b[0m \u001b[0msig\u001b[0m\u001b[0;34m)\u001b[0m\u001b[0;34m\u001b[0m\u001b[0;34m\u001b[0m\u001b[0m\n\u001b[0;32m--> 232\u001b[0;31m             \u001b[0;32mreturn\u001b[0m \u001b[0mcaller\u001b[0m\u001b[0;34m(\u001b[0m\u001b[0mfunc\u001b[0m\u001b[0;34m,\u001b[0m \u001b[0;34m*\u001b[0m\u001b[0;34m(\u001b[0m\u001b[0mextras\u001b[0m \u001b[0;34m+\u001b[0m \u001b[0margs\u001b[0m\u001b[0;34m)\u001b[0m\u001b[0;34m,\u001b[0m \u001b[0;34m**\u001b[0m\u001b[0mkw\u001b[0m\u001b[0;34m)\u001b[0m\u001b[0;34m\u001b[0m\u001b[0;34m\u001b[0m\u001b[0m\n\u001b[0m\u001b[1;32m    233\u001b[0m     \u001b[0mfun\u001b[0m\u001b[0;34m.\u001b[0m\u001b[0m__name__\u001b[0m \u001b[0;34m=\u001b[0m \u001b[0mfunc\u001b[0m\u001b[0;34m.\u001b[0m\u001b[0m__name__\u001b[0m\u001b[0;34m\u001b[0m\u001b[0;34m\u001b[0m\u001b[0m\n\u001b[1;32m    234\u001b[0m     \u001b[0mfun\u001b[0m\u001b[0;34m.\u001b[0m\u001b[0m__doc__\u001b[0m \u001b[0;34m=\u001b[0m \u001b[0mfunc\u001b[0m\u001b[0;34m.\u001b[0m\u001b[0m__doc__\u001b[0m\u001b[0;34m\u001b[0m\u001b[0;34m\u001b[0m\u001b[0m\n",
      "\u001b[0;32m~/anaconda3/envs/IRnet_env/lib/python3.7/site-packages/IPython/core/formatters.py\u001b[0m in \u001b[0;36mcatch_format_error\u001b[0;34m(method, self, *args, **kwargs)\u001b[0m\n\u001b[1;32m    222\u001b[0m     \u001b[0;34m\"\"\"show traceback on failed format call\"\"\"\u001b[0m\u001b[0;34m\u001b[0m\u001b[0;34m\u001b[0m\u001b[0m\n\u001b[1;32m    223\u001b[0m     \u001b[0;32mtry\u001b[0m\u001b[0;34m:\u001b[0m\u001b[0;34m\u001b[0m\u001b[0;34m\u001b[0m\u001b[0m\n\u001b[0;32m--> 224\u001b[0;31m         \u001b[0mr\u001b[0m \u001b[0;34m=\u001b[0m \u001b[0mmethod\u001b[0m\u001b[0;34m(\u001b[0m\u001b[0mself\u001b[0m\u001b[0;34m,\u001b[0m \u001b[0;34m*\u001b[0m\u001b[0margs\u001b[0m\u001b[0;34m,\u001b[0m \u001b[0;34m**\u001b[0m\u001b[0mkwargs\u001b[0m\u001b[0;34m)\u001b[0m\u001b[0;34m\u001b[0m\u001b[0;34m\u001b[0m\u001b[0m\n\u001b[0m\u001b[1;32m    225\u001b[0m     \u001b[0;32mexcept\u001b[0m \u001b[0mNotImplementedError\u001b[0m\u001b[0;34m:\u001b[0m\u001b[0;34m\u001b[0m\u001b[0;34m\u001b[0m\u001b[0m\n\u001b[1;32m    226\u001b[0m         \u001b[0;31m# don't warn on NotImplementedErrors\u001b[0m\u001b[0;34m\u001b[0m\u001b[0;34m\u001b[0m\u001b[0;34m\u001b[0m\u001b[0m\n",
      "\u001b[0;32m~/anaconda3/envs/IRnet_env/lib/python3.7/site-packages/IPython/core/formatters.py\u001b[0m in \u001b[0;36m__call__\u001b[0;34m(self, obj)\u001b[0m\n\u001b[1;32m    339\u001b[0m                 \u001b[0;32mpass\u001b[0m\u001b[0;34m\u001b[0m\u001b[0;34m\u001b[0m\u001b[0m\n\u001b[1;32m    340\u001b[0m             \u001b[0;32melse\u001b[0m\u001b[0;34m:\u001b[0m\u001b[0;34m\u001b[0m\u001b[0;34m\u001b[0m\u001b[0m\n\u001b[0;32m--> 341\u001b[0;31m                 \u001b[0;32mreturn\u001b[0m \u001b[0mprinter\u001b[0m\u001b[0;34m(\u001b[0m\u001b[0mobj\u001b[0m\u001b[0;34m)\u001b[0m\u001b[0;34m\u001b[0m\u001b[0;34m\u001b[0m\u001b[0m\n\u001b[0m\u001b[1;32m    342\u001b[0m             \u001b[0;31m# Finally look for special method names\u001b[0m\u001b[0;34m\u001b[0m\u001b[0;34m\u001b[0m\u001b[0;34m\u001b[0m\u001b[0m\n\u001b[1;32m    343\u001b[0m             \u001b[0mmethod\u001b[0m \u001b[0;34m=\u001b[0m \u001b[0mget_real_method\u001b[0m\u001b[0;34m(\u001b[0m\u001b[0mobj\u001b[0m\u001b[0;34m,\u001b[0m \u001b[0mself\u001b[0m\u001b[0;34m.\u001b[0m\u001b[0mprint_method\u001b[0m\u001b[0;34m)\u001b[0m\u001b[0;34m\u001b[0m\u001b[0;34m\u001b[0m\u001b[0m\n",
      "\u001b[0;32m~/anaconda3/envs/IRnet_env/lib/python3.7/site-packages/IPython/core/pylabtools.py\u001b[0m in \u001b[0;36mprint_figure\u001b[0;34m(fig, fmt, bbox_inches, base64, **kwargs)\u001b[0m\n\u001b[1;32m    149\u001b[0m         \u001b[0mFigureCanvasBase\u001b[0m\u001b[0;34m(\u001b[0m\u001b[0mfig\u001b[0m\u001b[0;34m)\u001b[0m\u001b[0;34m\u001b[0m\u001b[0;34m\u001b[0m\u001b[0m\n\u001b[1;32m    150\u001b[0m \u001b[0;34m\u001b[0m\u001b[0m\n\u001b[0;32m--> 151\u001b[0;31m     \u001b[0mfig\u001b[0m\u001b[0;34m.\u001b[0m\u001b[0mcanvas\u001b[0m\u001b[0;34m.\u001b[0m\u001b[0mprint_figure\u001b[0m\u001b[0;34m(\u001b[0m\u001b[0mbytes_io\u001b[0m\u001b[0;34m,\u001b[0m \u001b[0;34m**\u001b[0m\u001b[0mkw\u001b[0m\u001b[0;34m)\u001b[0m\u001b[0;34m\u001b[0m\u001b[0;34m\u001b[0m\u001b[0m\n\u001b[0m\u001b[1;32m    152\u001b[0m     \u001b[0mdata\u001b[0m \u001b[0;34m=\u001b[0m \u001b[0mbytes_io\u001b[0m\u001b[0;34m.\u001b[0m\u001b[0mgetvalue\u001b[0m\u001b[0;34m(\u001b[0m\u001b[0;34m)\u001b[0m\u001b[0;34m\u001b[0m\u001b[0;34m\u001b[0m\u001b[0m\n\u001b[1;32m    153\u001b[0m     \u001b[0;32mif\u001b[0m \u001b[0mfmt\u001b[0m \u001b[0;34m==\u001b[0m \u001b[0;34m'svg'\u001b[0m\u001b[0;34m:\u001b[0m\u001b[0;34m\u001b[0m\u001b[0;34m\u001b[0m\u001b[0m\n",
      "\u001b[0;32m~/.local/lib/python3.7/site-packages/matplotlib/backend_bases.py\u001b[0m in \u001b[0;36mprint_figure\u001b[0;34m(self, filename, dpi, facecolor, edgecolor, orientation, format, bbox_inches, pad_inches, bbox_extra_artists, backend, **kwargs)\u001b[0m\n\u001b[1;32m   2323\u001b[0m                         \u001b[0morientation\u001b[0m\u001b[0;34m=\u001b[0m\u001b[0morientation\u001b[0m\u001b[0;34m,\u001b[0m\u001b[0;34m\u001b[0m\u001b[0;34m\u001b[0m\u001b[0m\n\u001b[1;32m   2324\u001b[0m                         \u001b[0mbbox_inches_restore\u001b[0m\u001b[0;34m=\u001b[0m\u001b[0m_bbox_inches_restore\u001b[0m\u001b[0;34m,\u001b[0m\u001b[0;34m\u001b[0m\u001b[0;34m\u001b[0m\u001b[0m\n\u001b[0;32m-> 2325\u001b[0;31m                         **kwargs)\n\u001b[0m\u001b[1;32m   2326\u001b[0m             \u001b[0;32mfinally\u001b[0m\u001b[0;34m:\u001b[0m\u001b[0;34m\u001b[0m\u001b[0;34m\u001b[0m\u001b[0m\n\u001b[1;32m   2327\u001b[0m                 \u001b[0;32mif\u001b[0m \u001b[0mbbox_inches\u001b[0m \u001b[0;32mand\u001b[0m \u001b[0mrestore_bbox\u001b[0m\u001b[0;34m:\u001b[0m\u001b[0;34m\u001b[0m\u001b[0;34m\u001b[0m\u001b[0m\n",
      "\u001b[0;32m~/.local/lib/python3.7/site-packages/matplotlib/backend_bases.py\u001b[0m in \u001b[0;36mwrapper\u001b[0;34m(*args, **kwargs)\u001b[0m\n\u001b[1;32m   1646\u001b[0m             \u001b[0mkwargs\u001b[0m\u001b[0;34m.\u001b[0m\u001b[0mpop\u001b[0m\u001b[0;34m(\u001b[0m\u001b[0marg\u001b[0m\u001b[0;34m)\u001b[0m\u001b[0;34m\u001b[0m\u001b[0;34m\u001b[0m\u001b[0m\n\u001b[1;32m   1647\u001b[0m \u001b[0;34m\u001b[0m\u001b[0m\n\u001b[0;32m-> 1648\u001b[0;31m         \u001b[0;32mreturn\u001b[0m \u001b[0mfunc\u001b[0m\u001b[0;34m(\u001b[0m\u001b[0;34m*\u001b[0m\u001b[0margs\u001b[0m\u001b[0;34m,\u001b[0m \u001b[0;34m**\u001b[0m\u001b[0mkwargs\u001b[0m\u001b[0;34m)\u001b[0m\u001b[0;34m\u001b[0m\u001b[0;34m\u001b[0m\u001b[0m\n\u001b[0m\u001b[1;32m   1649\u001b[0m \u001b[0;34m\u001b[0m\u001b[0m\n\u001b[1;32m   1650\u001b[0m     \u001b[0;32mreturn\u001b[0m \u001b[0mwrapper\u001b[0m\u001b[0;34m\u001b[0m\u001b[0;34m\u001b[0m\u001b[0m\n",
      "\u001b[0;32m~/.local/lib/python3.7/site-packages/matplotlib/_api/deprecation.py\u001b[0m in \u001b[0;36mwrapper\u001b[0;34m(*inner_args, **inner_kwargs)\u001b[0m\n\u001b[1;32m    410\u001b[0m                          \u001b[0;32melse\u001b[0m \u001b[0mdeprecation_addendum\u001b[0m\u001b[0;34m,\u001b[0m\u001b[0;34m\u001b[0m\u001b[0;34m\u001b[0m\u001b[0m\n\u001b[1;32m    411\u001b[0m                 **kwargs)\n\u001b[0;32m--> 412\u001b[0;31m         \u001b[0;32mreturn\u001b[0m \u001b[0mfunc\u001b[0m\u001b[0;34m(\u001b[0m\u001b[0;34m*\u001b[0m\u001b[0minner_args\u001b[0m\u001b[0;34m,\u001b[0m \u001b[0;34m**\u001b[0m\u001b[0minner_kwargs\u001b[0m\u001b[0;34m)\u001b[0m\u001b[0;34m\u001b[0m\u001b[0;34m\u001b[0m\u001b[0m\n\u001b[0m\u001b[1;32m    413\u001b[0m \u001b[0;34m\u001b[0m\u001b[0m\n\u001b[1;32m    414\u001b[0m     \u001b[0mDECORATORS\u001b[0m\u001b[0;34m[\u001b[0m\u001b[0mwrapper\u001b[0m\u001b[0;34m]\u001b[0m \u001b[0;34m=\u001b[0m \u001b[0mdecorator\u001b[0m\u001b[0;34m\u001b[0m\u001b[0;34m\u001b[0m\u001b[0m\n",
      "\u001b[0;32m~/.local/lib/python3.7/site-packages/matplotlib/backends/backend_agg.py\u001b[0m in \u001b[0;36mprint_png\u001b[0;34m(self, filename_or_obj, metadata, pil_kwargs, *args)\u001b[0m\n\u001b[1;32m    541\u001b[0m         mpl.image.imsave(\n\u001b[1;32m    542\u001b[0m             \u001b[0mfilename_or_obj\u001b[0m\u001b[0;34m,\u001b[0m \u001b[0mself\u001b[0m\u001b[0;34m.\u001b[0m\u001b[0mbuffer_rgba\u001b[0m\u001b[0;34m(\u001b[0m\u001b[0;34m)\u001b[0m\u001b[0;34m,\u001b[0m \u001b[0mformat\u001b[0m\u001b[0;34m=\u001b[0m\u001b[0;34m\"png\"\u001b[0m\u001b[0;34m,\u001b[0m \u001b[0morigin\u001b[0m\u001b[0;34m=\u001b[0m\u001b[0;34m\"upper\"\u001b[0m\u001b[0;34m,\u001b[0m\u001b[0;34m\u001b[0m\u001b[0;34m\u001b[0m\u001b[0m\n\u001b[0;32m--> 543\u001b[0;31m             dpi=self.figure.dpi, metadata=metadata, pil_kwargs=pil_kwargs)\n\u001b[0m\u001b[1;32m    544\u001b[0m \u001b[0;34m\u001b[0m\u001b[0m\n\u001b[1;32m    545\u001b[0m     \u001b[0;32mdef\u001b[0m \u001b[0mprint_to_buffer\u001b[0m\u001b[0;34m(\u001b[0m\u001b[0mself\u001b[0m\u001b[0;34m)\u001b[0m\u001b[0;34m:\u001b[0m\u001b[0;34m\u001b[0m\u001b[0;34m\u001b[0m\u001b[0m\n",
      "\u001b[0;32m~/.local/lib/python3.7/site-packages/matplotlib/image.py\u001b[0m in \u001b[0;36mimsave\u001b[0;34m(fname, arr, vmin, vmax, cmap, format, origin, dpi, metadata, pil_kwargs)\u001b[0m\n\u001b[1;32m   1673\u001b[0m         \u001b[0mpil_kwargs\u001b[0m\u001b[0;34m.\u001b[0m\u001b[0msetdefault\u001b[0m\u001b[0;34m(\u001b[0m\u001b[0;34m\"format\"\u001b[0m\u001b[0;34m,\u001b[0m \u001b[0mformat\u001b[0m\u001b[0;34m)\u001b[0m\u001b[0;34m\u001b[0m\u001b[0;34m\u001b[0m\u001b[0m\n\u001b[1;32m   1674\u001b[0m         \u001b[0mpil_kwargs\u001b[0m\u001b[0;34m.\u001b[0m\u001b[0msetdefault\u001b[0m\u001b[0;34m(\u001b[0m\u001b[0;34m\"dpi\"\u001b[0m\u001b[0;34m,\u001b[0m \u001b[0;34m(\u001b[0m\u001b[0mdpi\u001b[0m\u001b[0;34m,\u001b[0m \u001b[0mdpi\u001b[0m\u001b[0;34m)\u001b[0m\u001b[0;34m)\u001b[0m\u001b[0;34m\u001b[0m\u001b[0;34m\u001b[0m\u001b[0m\n\u001b[0;32m-> 1675\u001b[0;31m         \u001b[0mimage\u001b[0m\u001b[0;34m.\u001b[0m\u001b[0msave\u001b[0m\u001b[0;34m(\u001b[0m\u001b[0mfname\u001b[0m\u001b[0;34m,\u001b[0m \u001b[0;34m**\u001b[0m\u001b[0mpil_kwargs\u001b[0m\u001b[0;34m)\u001b[0m\u001b[0;34m\u001b[0m\u001b[0;34m\u001b[0m\u001b[0m\n\u001b[0m\u001b[1;32m   1676\u001b[0m \u001b[0;34m\u001b[0m\u001b[0m\n\u001b[1;32m   1677\u001b[0m \u001b[0;34m\u001b[0m\u001b[0m\n",
      "\u001b[0;32m~/.local/lib/python3.7/site-packages/PIL/Image.py\u001b[0m in \u001b[0;36msave\u001b[0;34m(self, fp, format, **params)\u001b[0m\n\u001b[1;32m   2210\u001b[0m \u001b[0;34m\u001b[0m\u001b[0m\n\u001b[1;32m   2211\u001b[0m         \u001b[0;32mtry\u001b[0m\u001b[0;34m:\u001b[0m\u001b[0;34m\u001b[0m\u001b[0;34m\u001b[0m\u001b[0m\n\u001b[0;32m-> 2212\u001b[0;31m             \u001b[0msave_handler\u001b[0m\u001b[0;34m(\u001b[0m\u001b[0mself\u001b[0m\u001b[0;34m,\u001b[0m \u001b[0mfp\u001b[0m\u001b[0;34m,\u001b[0m \u001b[0mfilename\u001b[0m\u001b[0;34m)\u001b[0m\u001b[0;34m\u001b[0m\u001b[0;34m\u001b[0m\u001b[0m\n\u001b[0m\u001b[1;32m   2213\u001b[0m         \u001b[0;32mfinally\u001b[0m\u001b[0;34m:\u001b[0m\u001b[0;34m\u001b[0m\u001b[0;34m\u001b[0m\u001b[0m\n\u001b[1;32m   2214\u001b[0m             \u001b[0;31m# do what we can to clean up\u001b[0m\u001b[0;34m\u001b[0m\u001b[0;34m\u001b[0m\u001b[0;34m\u001b[0m\u001b[0m\n",
      "\u001b[0;32m~/.local/lib/python3.7/site-packages/PIL/PngImagePlugin.py\u001b[0m in \u001b[0;36m_save\u001b[0;34m(im, fp, filename, chunk, save_all)\u001b[0m\n\u001b[1;32m   1346\u001b[0m         \u001b[0m_write_multiple_frames\u001b[0m\u001b[0;34m(\u001b[0m\u001b[0mim\u001b[0m\u001b[0;34m,\u001b[0m \u001b[0mfp\u001b[0m\u001b[0;34m,\u001b[0m \u001b[0mchunk\u001b[0m\u001b[0;34m,\u001b[0m \u001b[0mrawmode\u001b[0m\u001b[0;34m)\u001b[0m\u001b[0;34m\u001b[0m\u001b[0;34m\u001b[0m\u001b[0m\n\u001b[1;32m   1347\u001b[0m     \u001b[0;32melse\u001b[0m\u001b[0;34m:\u001b[0m\u001b[0;34m\u001b[0m\u001b[0;34m\u001b[0m\u001b[0m\n\u001b[0;32m-> 1348\u001b[0;31m         \u001b[0mImageFile\u001b[0m\u001b[0;34m.\u001b[0m\u001b[0m_save\u001b[0m\u001b[0;34m(\u001b[0m\u001b[0mim\u001b[0m\u001b[0;34m,\u001b[0m \u001b[0m_idat\u001b[0m\u001b[0;34m(\u001b[0m\u001b[0mfp\u001b[0m\u001b[0;34m,\u001b[0m \u001b[0mchunk\u001b[0m\u001b[0;34m)\u001b[0m\u001b[0;34m,\u001b[0m \u001b[0;34m[\u001b[0m\u001b[0;34m(\u001b[0m\u001b[0;34m\"zip\"\u001b[0m\u001b[0;34m,\u001b[0m \u001b[0;34m(\u001b[0m\u001b[0;36m0\u001b[0m\u001b[0;34m,\u001b[0m \u001b[0;36m0\u001b[0m\u001b[0;34m)\u001b[0m \u001b[0;34m+\u001b[0m \u001b[0mim\u001b[0m\u001b[0;34m.\u001b[0m\u001b[0msize\u001b[0m\u001b[0;34m,\u001b[0m \u001b[0;36m0\u001b[0m\u001b[0;34m,\u001b[0m \u001b[0mrawmode\u001b[0m\u001b[0;34m)\u001b[0m\u001b[0;34m]\u001b[0m\u001b[0;34m)\u001b[0m\u001b[0;34m\u001b[0m\u001b[0;34m\u001b[0m\u001b[0m\n\u001b[0m\u001b[1;32m   1349\u001b[0m \u001b[0;34m\u001b[0m\u001b[0m\n\u001b[1;32m   1350\u001b[0m     \u001b[0;32mif\u001b[0m \u001b[0minfo\u001b[0m\u001b[0;34m:\u001b[0m\u001b[0;34m\u001b[0m\u001b[0;34m\u001b[0m\u001b[0m\n",
      "\u001b[0;32m~/.local/lib/python3.7/site-packages/PIL/ImageFile.py\u001b[0m in \u001b[0;36m_save\u001b[0;34m(im, fp, tile, bufsize)\u001b[0m\n\u001b[1;32m    507\u001b[0m             \u001b[0;32melse\u001b[0m\u001b[0;34m:\u001b[0m\u001b[0;34m\u001b[0m\u001b[0;34m\u001b[0m\u001b[0m\n\u001b[1;32m    508\u001b[0m                 \u001b[0;32mwhile\u001b[0m \u001b[0;32mTrue\u001b[0m\u001b[0;34m:\u001b[0m\u001b[0;34m\u001b[0m\u001b[0;34m\u001b[0m\u001b[0m\n\u001b[0;32m--> 509\u001b[0;31m                     \u001b[0ml\u001b[0m\u001b[0;34m,\u001b[0m \u001b[0ms\u001b[0m\u001b[0;34m,\u001b[0m \u001b[0md\u001b[0m \u001b[0;34m=\u001b[0m \u001b[0me\u001b[0m\u001b[0;34m.\u001b[0m\u001b[0mencode\u001b[0m\u001b[0;34m(\u001b[0m\u001b[0mbufsize\u001b[0m\u001b[0;34m)\u001b[0m\u001b[0;34m\u001b[0m\u001b[0;34m\u001b[0m\u001b[0m\n\u001b[0m\u001b[1;32m    510\u001b[0m                     \u001b[0mfp\u001b[0m\u001b[0;34m.\u001b[0m\u001b[0mwrite\u001b[0m\u001b[0;34m(\u001b[0m\u001b[0md\u001b[0m\u001b[0;34m)\u001b[0m\u001b[0;34m\u001b[0m\u001b[0;34m\u001b[0m\u001b[0m\n\u001b[1;32m    511\u001b[0m                     \u001b[0;32mif\u001b[0m \u001b[0ms\u001b[0m\u001b[0;34m:\u001b[0m\u001b[0;34m\u001b[0m\u001b[0;34m\u001b[0m\u001b[0m\n",
      "\u001b[0;31mKeyboardInterrupt\u001b[0m: "
     ]
    }
   ],
   "source": [
    "import gc\n",
    "\n",
    "import sys\n",
    "sys.path.append('../codeocean/environment/clinical_transformer/')\n",
    "from xai.models import Trainer\n",
    "from xai.models import SurvivalTransformer\n",
    "from xai.models import OptimizedSurvivalDataGenerator as SurvivalDataGenerator\n",
    "from xai.losses.survival import cIndex_SigmoidApprox as cindex_loss\n",
    "from xai.metrics.survival import sigmoid_concordance as cindex_metric\n",
    "from xai.models.explainer import TransformerSurvivalEvaluator\n",
    "from xai.models.explainer import survival_attention_scores\n",
    "from xai.models import load_transformer\n",
    "\n",
    "import pandas as pd\n",
    "from samecode.random import set_seed\n",
    "\n",
    "import numpy as np \n",
    "import seaborn as sns\n",
    "from matplotlib import pyplot as plt\n",
    "from samecode.survival.plot import KMPlot\n",
    "from sklearn.model_selection import train_test_split\n",
    "from lifelines.utils import concordance_index as lfcindex\n",
    "import seaborn as sns\n",
    "from shap.plots import colors\n",
    "from glob import glob\n",
    "import os\n",
    "colors = [colors.blue_rgb, colors.red_rgb]\n",
    "\n",
    "## PARAMETERS\n",
    "max_features_percentile=100\n",
    "test_size=0.1 # fraction of samples used for validation\n",
    "repetitions=2  # number replicates (training / validation) random splits to evaluate variability.\n",
    "mode='survival'\n",
    "learning_rate=0.0001\n",
    "epochs=3\n",
    "verbose=1\n",
    "\n",
    "embedding_size = 128\n",
    "num_heads = 2\n",
    "num_layers = 8\n",
    "\n",
    "\n",
    "SEED = [24, 42, 64]\n",
    "\n",
    "\n",
    "def get_best_epoch(train_data, features, pretrained_path, \n",
    "                   work_dir = './results/model/cohort'):\n",
    "    \n",
    "    outdir = work_dir\n",
    "    os.system('rm -r %s' % outdir)\n",
    "\n",
    "    set_seed(0)\n",
    "\n",
    "    trainer = Trainer(\n",
    "        from_pretrained=pretrained_path,\n",
    "        out_dir = outdir,\n",
    "        max_features_percentile=max_features_percentile,\n",
    "        test_size=test_size,\n",
    "        mode=mode,\n",
    "        model=SurvivalTransformer, \n",
    "        dataloader=SurvivalDataGenerator,\n",
    "        loss=cindex_loss,\n",
    "        metrics=[cindex_metric]\n",
    "    )\n",
    "\n",
    "    trainer.setup_data(\n",
    "        train_data, \n",
    "        discrete_features = [],\n",
    "        continuous_features = features,\n",
    "        target=['time', 'event']\n",
    "    )\n",
    "\n",
    "    trainer.setup_model(\n",
    "        learning_rate=learning_rate,\n",
    "        embedding_size=embedding_size,\n",
    "        num_heads=num_heads,\n",
    "        num_layers=num_layers,\n",
    "        batch_size_max=True,\n",
    "        save_best_only=False\n",
    "    )\n",
    "\n",
    "    trainer.fit(repetitions=repetitions, \n",
    "                epochs=epochs, \n",
    "                verbose=verbose, \n",
    "                seed=0)\n",
    "    \n",
    "    del trainer; tf.keras.backend.clear_session(); gc.collect()\n",
    "    best_es = []\n",
    "    for i in range(repetitions):\n",
    "        dfh = pd.read_csv(f\"{outdir}/model.E002000.h5/fold-{i}_id-{i}/history.csv\", index_col=0)\n",
    "        #fig, ax=plt.subplots(figsize=(5,4))\n",
    "        #dfh[['loss', 'val_loss']].plot(ax=ax)\n",
    "        #ax.set_ylabel('C-index loss')\n",
    "        best_es.append(dfh.val_sigmoid_concordance)\n",
    "    best_epoch = pd.concat(best_es, axis=1).mean(axis=1).idxmax() + 1\n",
    "\n",
    "    return best_epoch\n",
    "\n",
    "\n",
    "def train(train_data, features, pretrained_path, best_epoch, \n",
    "                  work_dir = './results/TransferLearningSurvival/'\n",
    "                  ):\n",
    "\n",
    "    all_dirs = []\n",
    "    for seed in SEED:\n",
    "        set_seed(seed)\n",
    "        \n",
    "        outdir = f'{work_dir}/full_{seed}'\n",
    "        os.system('rm -r %s' % outdir)\n",
    "        \n",
    "        trainer = Trainer(\n",
    "            from_pretrained=pretrained_path,\n",
    "            out_dir = outdir,\n",
    "            max_features_percentile=max_features_percentile,\n",
    "            test_size=0.,\n",
    "            mode=mode,\n",
    "            model=SurvivalTransformer, \n",
    "            dataloader=SurvivalDataGenerator,\n",
    "            loss=cindex_loss,\n",
    "            metrics=[cindex_metric]\n",
    "        )\n",
    "\n",
    "        trainer.setup_data(\n",
    "            train_data, \n",
    "            discrete_features = [],\n",
    "            continuous_features = features,\n",
    "            target=['time', 'event']\n",
    "        )\n",
    "\n",
    "        trainer.setup_model(\n",
    "            learning_rate=learning_rate,\n",
    "            embedding_size=embedding_size,\n",
    "            num_heads=num_heads,\n",
    "            num_layers=num_layers,\n",
    "            batch_size_max=True,\n",
    "            save_best_only=False\n",
    "        )\n",
    "\n",
    "        trainer.fit(repetitions=1, \n",
    "                    epochs=best_epoch, \n",
    "                    verbose=verbose, \n",
    "                    seed=seed)\n",
    "        \n",
    "        del trainer; tf.keras.backend.clear_session(); gc.collect()\n",
    "        \n",
    "        all_dirs.append(outdir)\n",
    "        \n",
    "    return all_dirs\n",
    "\n",
    "\n",
    "def predict(train_data, test_data, features, best_epoch, model_dirs):\n",
    "\n",
    "    predicted_paths = []\n",
    "    for path_dir in model_dirs:\n",
    "        sample_id = 'Index'\n",
    "        run = 'fold-0_id-0'\n",
    "        path = f'{path_dir}/model.E002000.h5'\n",
    "        \n",
    "        repeat = path_dir.split('/')[-1]\n",
    "        cohort = path_dir.split('/')[-2]  \n",
    "        model = path_dir.split('/')[-3]        \n",
    "        \n",
    "        trainer = load_transformer(path, run, epoch=best_epoch)\n",
    "        transformed_data = trainer.data_converter.transform(train_data).reset_index(drop=True)\n",
    "        set_seed(0)\n",
    "        evaluator = TransformerSurvivalEvaluator(model=trainer)\n",
    "        train_data, outputs, features, patient_ids, iters, attention_scores = survival_attention_scores(\n",
    "            transformed_data, evaluator, iterations=1, sample_id=sample_id\n",
    "        )\n",
    "        train_cindex = lfcindex(train_data['time'], train_data['β'], train_data['event'])\n",
    "        transformed_test_data = trainer.data_converter.transform(test_data).reset_index(drop=True)\n",
    "        evaluator = TransformerSurvivalEvaluator(model=trainer)\n",
    "\n",
    "        test_data, outputs, features, patient_ids, iters, attention_scores = survival_attention_scores(\n",
    "            transformed_test_data, evaluator, iterations=10, sample_id=sample_id\n",
    "        )\n",
    "        test_cindex = lfcindex(test_data['time'], test_data['β'], test_data['event'])\n",
    "\n",
    "        del trainer; tf.keras.backend.clear_session(); gc.collect()\n",
    "        median_cutoff = np.quantile(train_data.β, 0.75)\n",
    "\n",
    "\n",
    "        test_data['population'] = (test_data.β >= median_cutoff).replace([False, True], ['Low Score', 'High Score'])\n",
    "        train_data['population'] = (train_data.β >= median_cutoff).replace([False, True], ['Low Score', 'High Score'])\n",
    "\n",
    "        fig, axs = plt.subplots(ncols=2, nrows=1, figsize = (12,5))\n",
    "        KMPlot(train_data, time='time', event='event', label=['population']).plot(ax=axs[0], \n",
    "                                                                              colors = colors, \n",
    "                                                                              title='Training set',\n",
    "                                                                              ci_show=True,ci_alpha=0.10,\n",
    "\n",
    "                                                                             )\n",
    "        KMPlot(test_data, time='time', event='event', label=['population']).plot(ax=axs[1],\n",
    "                                                                                 colors = colors, ci_show=True,\n",
    "                                                                                 ci_alpha=0.10,\n",
    "                                                                                 title=f'Testing set ({cohort})')\n",
    "\n",
    "        \n",
    "        test_data['test_cohort'] = cohort\n",
    "        test_data['model'] = model\n",
    "        test_data['repeat'] = repeat\n",
    "        \n",
    "        train_data['test_cohort'] = train_data['cohort']\n",
    "        train_data['model'] = model\n",
    "        train_data['repeat'] = repeat\n",
    "        \n",
    "        test_data.to_csv(os.path.join(path, 'test_data.csv'), index = False)\n",
    "        train_data.to_csv(os.path.join(path, 'train_data.csv'), index = False)\n",
    "        fig.savefig(os.path.join(path, 'train_test_km.svg'))\n",
    "        predicted_paths.append(os.path.join(path, 'test_data.csv'))\n",
    "    \n",
    "    return predicted_paths\n",
    "\n",
    "\n",
    "\n",
    "y = pd.read_csv('../data/ITRP_clinical.csv', index_col=0)\n",
    "y = y[(~y.OS_Months.isna()) & (~y.OS_Event.isna())]\n",
    "y['time'] = y['OS_Months']\n",
    "y['event'] = y['OS_Event']\n",
    "y = y[['time', 'event','cohort', 'ICI_target', 'ICI','cancer_type','response_label', 'TMB']]\n",
    "cohort_list = y.cohort.unique()\n",
    "\n",
    "\n",
    "Model_NAMES = ['VanillaClinicalTransformer',\n",
    "              'ssGSEA43ClinicalTransformer',\n",
    "              'COMPASSClinicalTransformer',]\n",
    "\n",
    "Model_PATHS = ['01_run_Feg29_TME',\n",
    "              '02_run_ssGSEA43_TME',\n",
    "              '03_run_Com44_TME',]\n",
    "\n",
    "X_PATHS = ['ITRP_ssGSEA_Fegs29',\n",
    "          'ITRP_ssGSEA_concept43',\n",
    "          'ITRP_COMPASS_concept44']\n",
    "\n",
    "\n",
    "save_dir = './ResultsTest'\n",
    "os.makedirs(save_dir, exist_ok=True)\n",
    "\n",
    "for model_name, pt_path, X_file_path in zip(Model_NAMES,Model_PATHS, X_PATHS):\n",
    "\n",
    "    pretrained_path = f'./{pt_path}/FoundationModel/fold-0_id-0/model.E002000.h5'\n",
    "    X = pd.read_csv(f'../data/{X_file_path}.csv', index_col=0)\n",
    "    dataset_full = y.join(X)\n",
    "    features = X.columns.tolist()\n",
    "\n",
    "    for test_cohort in cohort_list:\n",
    "        train_data = dataset_full[dataset_full.cohort != test_cohort].reset_index()\n",
    "        test_data = dataset_full[dataset_full.cohort == test_cohort].reset_index()\n",
    "        \n",
    "        best_epoch = get_best_epoch(train_data, features, pretrained_path, \n",
    "                           work_dir = f'{save_dir}/{model_name}/{test_cohort}')\n",
    "        \n",
    "        model_dirs = train(train_data, features, pretrained_path, best_epoch, \n",
    "                          work_dir = f'{save_dir}/{model_name}/{test_cohort}'\n",
    "                          )\n",
    "        \n",
    "        pred_dirs = predict(train_data.copy(), test_data.copy(), \n",
    "                            features, best_epoch, model_dirs)\n",
    "\n",
    "        tf.keras.backend.clear_session(); gc.collect()"
   ]
  },
  {
   "cell_type": "code",
   "execution_count": null,
   "id": "1bba91b6-f480-4ee9-93ff-9139b26750d9",
   "metadata": {},
   "outputs": [],
   "source": []
  }
 ],
 "metadata": {
  "kernelspec": {
   "display_name": "Python 3 (ipykernel)",
   "language": "python",
   "name": "python3"
  },
  "language_info": {
   "codemirror_mode": {
    "name": "ipython",
    "version": 3
   },
   "file_extension": ".py",
   "mimetype": "text/x-python",
   "name": "python",
   "nbconvert_exporter": "python",
   "pygments_lexer": "ipython3",
   "version": "3.7.16"
  }
 },
 "nbformat": 4,
 "nbformat_minor": 5
}
