{
 "cells": [
  {
   "cell_type": "markdown",
   "id": "6c15ee86-0303-44ef-996e-1a2fb126a8c1",
   "metadata": {},
   "source": [
    "# Dataset"
   ]
  },
  {
   "cell_type": "code",
   "execution_count": 1,
   "id": "0240b606-448c-4b78-a1d3-a2d7ac4f0013",
   "metadata": {
    "tags": []
   },
   "outputs": [],
   "source": [
    "import pandas as pd"
   ]
  },
  {
   "cell_type": "code",
   "execution_count": 2,
   "id": "304755aa-390c-47f0-83d2-a59323b68860",
   "metadata": {
    "tags": []
   },
   "outputs": [
    {
     "data": {
      "text/html": [
       "<div>\n",
       "<style scoped>\n",
       "    .dataframe tbody tr th:only-of-type {\n",
       "        vertical-align: middle;\n",
       "    }\n",
       "\n",
       "    .dataframe tbody tr th {\n",
       "        vertical-align: top;\n",
       "    }\n",
       "\n",
       "    .dataframe thead th {\n",
       "        text-align: right;\n",
       "    }\n",
       "</style>\n",
       "<table border=\"1\" class=\"dataframe\">\n",
       "  <thead>\n",
       "    <tr style=\"text-align: right;\">\n",
       "      <th></th>\n",
       "      <th>CANCER</th>\n",
       "      <th>Bcell_general</th>\n",
       "      <th>Memory_Bcell</th>\n",
       "      <th>Naive_Bcell</th>\n",
       "      <th>Plasma_cell</th>\n",
       "      <th>CD4_Tcell</th>\n",
       "      <th>CD8_Tcell</th>\n",
       "      <th>Memory_Tcell</th>\n",
       "      <th>Naive_Tcell</th>\n",
       "      <th>Tcell_general</th>\n",
       "      <th>...</th>\n",
       "      <th>Pancreatic</th>\n",
       "      <th>Pneumocyte</th>\n",
       "      <th>Apoptosis_pathway</th>\n",
       "      <th>IFNg_pathway</th>\n",
       "      <th>TGFb_pathway</th>\n",
       "      <th>Cytokine</th>\n",
       "      <th>Cell_proliferation</th>\n",
       "      <th>TLS</th>\n",
       "      <th>Genome_integrity</th>\n",
       "      <th>Reference</th>\n",
       "    </tr>\n",
       "    <tr>\n",
       "      <th>bcr_patient_barcode</th>\n",
       "      <th></th>\n",
       "      <th></th>\n",
       "      <th></th>\n",
       "      <th></th>\n",
       "      <th></th>\n",
       "      <th></th>\n",
       "      <th></th>\n",
       "      <th></th>\n",
       "      <th></th>\n",
       "      <th></th>\n",
       "      <th></th>\n",
       "      <th></th>\n",
       "      <th></th>\n",
       "      <th></th>\n",
       "      <th></th>\n",
       "      <th></th>\n",
       "      <th></th>\n",
       "      <th></th>\n",
       "      <th></th>\n",
       "      <th></th>\n",
       "      <th></th>\n",
       "    </tr>\n",
       "  </thead>\n",
       "  <tbody>\n",
       "    <tr>\n",
       "      <th>TCGA-OR-A5KT</th>\n",
       "      <td>-0.853948</td>\n",
       "      <td>-0.359383</td>\n",
       "      <td>0.230189</td>\n",
       "      <td>-0.797948</td>\n",
       "      <td>0.240306</td>\n",
       "      <td>-0.043658</td>\n",
       "      <td>-0.048390</td>\n",
       "      <td>0.058893</td>\n",
       "      <td>-0.341485</td>\n",
       "      <td>-0.142918</td>\n",
       "      <td>...</td>\n",
       "      <td>-0.101231</td>\n",
       "      <td>0.008945</td>\n",
       "      <td>0.067183</td>\n",
       "      <td>-0.037904</td>\n",
       "      <td>0.093233</td>\n",
       "      <td>-0.035511</td>\n",
       "      <td>-0.121605</td>\n",
       "      <td>0.139817</td>\n",
       "      <td>-0.125032</td>\n",
       "      <td>0.462973</td>\n",
       "    </tr>\n",
       "    <tr>\n",
       "      <th>TCGA-OR-A5J9</th>\n",
       "      <td>-0.854060</td>\n",
       "      <td>-0.221956</td>\n",
       "      <td>0.112477</td>\n",
       "      <td>-0.815024</td>\n",
       "      <td>0.213674</td>\n",
       "      <td>-0.140530</td>\n",
       "      <td>-0.063277</td>\n",
       "      <td>0.033839</td>\n",
       "      <td>-0.430476</td>\n",
       "      <td>-0.213720</td>\n",
       "      <td>...</td>\n",
       "      <td>0.030500</td>\n",
       "      <td>0.003747</td>\n",
       "      <td>0.064157</td>\n",
       "      <td>-0.115112</td>\n",
       "      <td>0.072321</td>\n",
       "      <td>-0.063510</td>\n",
       "      <td>-0.145776</td>\n",
       "      <td>-0.067980</td>\n",
       "      <td>-0.152064</td>\n",
       "      <td>0.462863</td>\n",
       "    </tr>\n",
       "    <tr>\n",
       "      <th>TCGA-OR-A5K0</th>\n",
       "      <td>-0.854023</td>\n",
       "      <td>-0.217040</td>\n",
       "      <td>0.118835</td>\n",
       "      <td>-0.820829</td>\n",
       "      <td>0.264063</td>\n",
       "      <td>-0.167273</td>\n",
       "      <td>-0.030240</td>\n",
       "      <td>-0.036775</td>\n",
       "      <td>-0.524360</td>\n",
       "      <td>-0.225605</td>\n",
       "      <td>...</td>\n",
       "      <td>0.172203</td>\n",
       "      <td>-0.030182</td>\n",
       "      <td>0.050998</td>\n",
       "      <td>-0.136406</td>\n",
       "      <td>0.010347</td>\n",
       "      <td>-0.067387</td>\n",
       "      <td>-0.079125</td>\n",
       "      <td>-0.111355</td>\n",
       "      <td>-0.135933</td>\n",
       "      <td>0.469751</td>\n",
       "    </tr>\n",
       "  </tbody>\n",
       "</table>\n",
       "<p>3 rows × 44 columns</p>\n",
       "</div>"
      ],
      "text/plain": [
       "                       CANCER  Bcell_general  Memory_Bcell  Naive_Bcell  \\\n",
       "bcr_patient_barcode                                                       \n",
       "TCGA-OR-A5KT        -0.853948      -0.359383      0.230189    -0.797948   \n",
       "TCGA-OR-A5J9        -0.854060      -0.221956      0.112477    -0.815024   \n",
       "TCGA-OR-A5K0        -0.854023      -0.217040      0.118835    -0.820829   \n",
       "\n",
       "                     Plasma_cell  CD4_Tcell  CD8_Tcell  Memory_Tcell  \\\n",
       "bcr_patient_barcode                                                    \n",
       "TCGA-OR-A5KT            0.240306  -0.043658  -0.048390      0.058893   \n",
       "TCGA-OR-A5J9            0.213674  -0.140530  -0.063277      0.033839   \n",
       "TCGA-OR-A5K0            0.264063  -0.167273  -0.030240     -0.036775   \n",
       "\n",
       "                     Naive_Tcell  Tcell_general  ...  Pancreatic  Pneumocyte  \\\n",
       "bcr_patient_barcode                              ...                           \n",
       "TCGA-OR-A5KT           -0.341485      -0.142918  ...   -0.101231    0.008945   \n",
       "TCGA-OR-A5J9           -0.430476      -0.213720  ...    0.030500    0.003747   \n",
       "TCGA-OR-A5K0           -0.524360      -0.225605  ...    0.172203   -0.030182   \n",
       "\n",
       "                     Apoptosis_pathway  IFNg_pathway  TGFb_pathway  Cytokine  \\\n",
       "bcr_patient_barcode                                                            \n",
       "TCGA-OR-A5KT                  0.067183     -0.037904      0.093233 -0.035511   \n",
       "TCGA-OR-A5J9                  0.064157     -0.115112      0.072321 -0.063510   \n",
       "TCGA-OR-A5K0                  0.050998     -0.136406      0.010347 -0.067387   \n",
       "\n",
       "                     Cell_proliferation       TLS  Genome_integrity  Reference  \n",
       "bcr_patient_barcode                                                             \n",
       "TCGA-OR-A5KT                  -0.121605  0.139817         -0.125032   0.462973  \n",
       "TCGA-OR-A5J9                  -0.145776 -0.067980         -0.152064   0.462863  \n",
       "TCGA-OR-A5K0                  -0.079125 -0.111355         -0.135933   0.469751  \n",
       "\n",
       "[3 rows x 44 columns]"
      ]
     },
     "execution_count": 2,
     "metadata": {},
     "output_type": "execute_result"
    }
   ],
   "source": [
    "X_pretrain = pd.read_csv('../data/TCGA_COMPASS_concept44.csv', index_col=0)\n",
    "X_pretrain.head(3)"
   ]
  },
  {
   "cell_type": "code",
   "execution_count": 3,
   "id": "d97629ac-bb95-4026-ab99-795a256a7a2b",
   "metadata": {
    "tags": []
   },
   "outputs": [
    {
     "data": {
      "text/plain": [
       "Index(['CANCER', 'Bcell_general', 'Memory_Bcell', 'Naive_Bcell', 'Plasma_cell',\n",
       "       'CD4_Tcell', 'CD8_Tcell', 'Memory_Tcell', 'Naive_Tcell',\n",
       "       'Tcell_general', 'Cytotoxic_Tcell', 'Exhausted_Tcell',\n",
       "       'Immune_checkpoint', 'Treg', 'NKcell', 'Innate_lymphoid_cell', 'cDC',\n",
       "       'pDC', 'Macrophage', 'Monocyte', 'Myeloid', 'Granulocyte', 'Mast',\n",
       "       'Erythrocyte', 'Platelet', 'Stem', 'Stroma', 'Pericyte', 'Fibroblast',\n",
       "       'Endothelial', 'Epithelial', 'Mesothelial', 'Adipocyte', 'Hepatocyte',\n",
       "       'Pancreatic', 'Pneumocyte', 'Apoptosis_pathway', 'IFNg_pathway',\n",
       "       'TGFb_pathway', 'Cytokine', 'Cell_proliferation', 'TLS',\n",
       "       'Genome_integrity', 'Reference'],\n",
       "      dtype='object')"
      ]
     },
     "execution_count": 3,
     "metadata": {},
     "output_type": "execute_result"
    }
   ],
   "source": [
    "X_pretrain.columns"
   ]
  },
  {
   "cell_type": "code",
   "execution_count": 4,
   "id": "ae0d89f6-0b51-4d69-9620-96169f419d99",
   "metadata": {
    "tags": []
   },
   "outputs": [],
   "source": [
    "y_pretrain = pd.read_csv('../data/TCGA_clinical.csv', index_col=0)\n",
    "y_pretrain['time'] = y_pretrain['os_time']\n",
    "y_pretrain['event'] = y_pretrain['os_status'].map({'alive':0, 'dead':1})"
   ]
  },
  {
   "cell_type": "code",
   "execution_count": 5,
   "id": "ff236777-bdaf-437b-b9f8-54293beaab21",
   "metadata": {
    "tags": []
   },
   "outputs": [],
   "source": [
    "X_pretrain = y_pretrain[['time', 'event']].join(X_pretrain)"
   ]
  },
  {
   "cell_type": "code",
   "execution_count": 6,
   "id": "c8a614f6-8bc5-496a-b09e-6e607648d4f8",
   "metadata": {
    "tags": []
   },
   "outputs": [],
   "source": [
    "X_pretrain.to_csv('./data/dataset-pretrain.data.csv', index=False)"
   ]
  },
  {
   "cell_type": "code",
   "execution_count": null,
   "id": "00e56090-b6ed-47f5-af80-e22d4ee3ce1a",
   "metadata": {},
   "outputs": [],
   "source": []
  },
  {
   "cell_type": "code",
   "execution_count": 7,
   "id": "48c496ff-4336-4442-a70e-0968e29b5f7c",
   "metadata": {},
   "outputs": [],
   "source": [
    "X = pd.read_csv('../data/ITRP_COMPASS_concept44.csv', index_col=0)\n",
    "y = pd.read_csv('../data/ITRP_clinical.csv', index_col=0)\n",
    "\n",
    "y = y[(~y.OS_Months.isna()) & (~y.OS_Event.isna())]\n",
    "y['time'] = y['OS_Months']\n",
    "y['event'] = y['OS_Event']\n",
    "\n",
    "dataset_full = y[['time', 'event','cohort', 'response_label', 'TMB']].join(X)"
   ]
  },
  {
   "cell_type": "code",
   "execution_count": 8,
   "id": "86a30091-3511-445d-9038-44b33b4adb2f",
   "metadata": {
    "tags": []
   },
   "outputs": [],
   "source": [
    "cohort = 'IMVigor210'\n",
    "X_train = dataset_full[dataset_full.cohort != cohort]\n",
    "X_test= dataset_full[dataset_full.cohort == cohort]"
   ]
  },
  {
   "cell_type": "code",
   "execution_count": 9,
   "id": "a0da78d2-a365-471f-9dea-33b9262494d3",
   "metadata": {
    "tags": []
   },
   "outputs": [],
   "source": [
    "X_train.to_csv('./data/dataset-train.data.csv', index=False)\n",
    "X_test.to_csv('./data/dataset-test.data.csv', index=False)\n",
    "dataset_full.to_csv('./data/dataset-full.data.csv', index=False)"
   ]
  },
  {
   "cell_type": "code",
   "execution_count": null,
   "id": "848b2ddd-81fc-4c9d-9633-c59c093e7dce",
   "metadata": {},
   "outputs": [],
   "source": []
  },
  {
   "cell_type": "code",
   "execution_count": null,
   "id": "53dd4c1b-1f95-4f46-a6d2-1d2ade22fb6a",
   "metadata": {},
   "outputs": [],
   "source": []
  },
  {
   "cell_type": "code",
   "execution_count": null,
   "id": "6e733c23-adff-43f2-87b5-ee790cba6aed",
   "metadata": {},
   "outputs": [],
   "source": []
  },
  {
   "cell_type": "code",
   "execution_count": null,
   "id": "10781e1b-48c4-4bee-a6d0-7795d47f0cab",
   "metadata": {},
   "outputs": [],
   "source": []
  }
 ],
 "metadata": {
  "kernelspec": {
   "display_name": "Python 3 (ipykernel)",
   "language": "python",
   "name": "python3"
  },
  "language_info": {
   "codemirror_mode": {
    "name": "ipython",
    "version": 3
   },
   "file_extension": ".py",
   "mimetype": "text/x-python",
   "name": "python",
   "nbconvert_exporter": "python",
   "pygments_lexer": "ipython3",
   "version": "3.7.16"
  }
 },
 "nbformat": 4,
 "nbformat_minor": 5
}
