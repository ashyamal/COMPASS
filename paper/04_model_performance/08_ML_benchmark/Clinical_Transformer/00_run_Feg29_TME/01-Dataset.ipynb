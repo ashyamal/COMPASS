{
 "cells": [
  {
   "cell_type": "markdown",
   "id": "6c15ee86-0303-44ef-996e-1a2fb126a8c1",
   "metadata": {},
   "source": [
    "# Dataset"
   ]
  },
  {
   "cell_type": "code",
   "execution_count": 2,
   "id": "0240b606-448c-4b78-a1d3-a2d7ac4f0013",
   "metadata": {
    "tags": []
   },
   "outputs": [],
   "source": [
    "import pandas as pd"
   ]
  },
  {
   "cell_type": "code",
   "execution_count": 3,
   "id": "304755aa-390c-47f0-83d2-a59323b68860",
   "metadata": {
    "tags": []
   },
   "outputs": [
    {
     "data": {
      "text/html": [
       "<div>\n",
       "<style scoped>\n",
       "    .dataframe tbody tr th:only-of-type {\n",
       "        vertical-align: middle;\n",
       "    }\n",
       "\n",
       "    .dataframe tbody tr th {\n",
       "        vertical-align: top;\n",
       "    }\n",
       "\n",
       "    .dataframe thead th {\n",
       "        text-align: right;\n",
       "    }\n",
       "</style>\n",
       "<table border=\"1\" class=\"dataframe\">\n",
       "  <thead>\n",
       "    <tr style=\"text-align: right;\">\n",
       "      <th></th>\n",
       "      <th>Angiogenesis</th>\n",
       "      <th>Antitumor cytokines</th>\n",
       "      <th>B cells</th>\n",
       "      <th>Cancer-associated fibroblasts</th>\n",
       "      <th>Checkpoint molecules</th>\n",
       "      <th>Co-stimulatory ligands</th>\n",
       "      <th>Co-stimulatory receptors</th>\n",
       "      <th>Effector cell traffic</th>\n",
       "      <th>Effector cells</th>\n",
       "      <th>Endothelium</th>\n",
       "      <th>...</th>\n",
       "      <th>NK cells</th>\n",
       "      <th>Neutrophil signature</th>\n",
       "      <th>Protumor cytokines</th>\n",
       "      <th>T cells</th>\n",
       "      <th>Th1 signature</th>\n",
       "      <th>Th2 signature</th>\n",
       "      <th>Treg</th>\n",
       "      <th>Treg and Th2 traffic</th>\n",
       "      <th>Tumor proliferation rate</th>\n",
       "      <th>Tumor-associated Macrophages</th>\n",
       "    </tr>\n",
       "    <tr>\n",
       "      <th>bcr_patient_barcode</th>\n",
       "      <th></th>\n",
       "      <th></th>\n",
       "      <th></th>\n",
       "      <th></th>\n",
       "      <th></th>\n",
       "      <th></th>\n",
       "      <th></th>\n",
       "      <th></th>\n",
       "      <th></th>\n",
       "      <th></th>\n",
       "      <th></th>\n",
       "      <th></th>\n",
       "      <th></th>\n",
       "      <th></th>\n",
       "      <th></th>\n",
       "      <th></th>\n",
       "      <th></th>\n",
       "      <th></th>\n",
       "      <th></th>\n",
       "      <th></th>\n",
       "      <th></th>\n",
       "    </tr>\n",
       "  </thead>\n",
       "  <tbody>\n",
       "    <tr>\n",
       "      <th>TCGA-OR-A5KT</th>\n",
       "      <td>0.360772</td>\n",
       "      <td>-0.267548</td>\n",
       "      <td>-0.138697</td>\n",
       "      <td>0.353325</td>\n",
       "      <td>-0.160285</td>\n",
       "      <td>-0.178488</td>\n",
       "      <td>-0.052012</td>\n",
       "      <td>-0.059106</td>\n",
       "      <td>-0.207080</td>\n",
       "      <td>0.414495</td>\n",
       "      <td>...</td>\n",
       "      <td>-0.365459</td>\n",
       "      <td>0.040377</td>\n",
       "      <td>-0.194519</td>\n",
       "      <td>-0.200729</td>\n",
       "      <td>-0.564284</td>\n",
       "      <td>-0.671525</td>\n",
       "      <td>-0.456830</td>\n",
       "      <td>-0.364683</td>\n",
       "      <td>0.072576</td>\n",
       "      <td>0.113659</td>\n",
       "    </tr>\n",
       "    <tr>\n",
       "      <th>TCGA-OR-A5J9</th>\n",
       "      <td>0.348421</td>\n",
       "      <td>-0.422394</td>\n",
       "      <td>-0.401913</td>\n",
       "      <td>0.125740</td>\n",
       "      <td>-0.322280</td>\n",
       "      <td>-0.163177</td>\n",
       "      <td>-0.150669</td>\n",
       "      <td>-0.157397</td>\n",
       "      <td>-0.336972</td>\n",
       "      <td>0.401914</td>\n",
       "      <td>...</td>\n",
       "      <td>-0.476653</td>\n",
       "      <td>-0.383949</td>\n",
       "      <td>-0.101780</td>\n",
       "      <td>-0.354796</td>\n",
       "      <td>-0.729085</td>\n",
       "      <td>-0.778986</td>\n",
       "      <td>-0.426247</td>\n",
       "      <td>-0.448769</td>\n",
       "      <td>0.187471</td>\n",
       "      <td>-0.393074</td>\n",
       "    </tr>\n",
       "    <tr>\n",
       "      <th>TCGA-OR-A5K0</th>\n",
       "      <td>0.047718</td>\n",
       "      <td>-0.348453</td>\n",
       "      <td>-0.187309</td>\n",
       "      <td>-0.029176</td>\n",
       "      <td>-0.392071</td>\n",
       "      <td>0.072188</td>\n",
       "      <td>-0.223933</td>\n",
       "      <td>-0.132247</td>\n",
       "      <td>-0.359488</td>\n",
       "      <td>0.046053</td>\n",
       "      <td>...</td>\n",
       "      <td>-0.523106</td>\n",
       "      <td>-0.309404</td>\n",
       "      <td>-0.439919</td>\n",
       "      <td>-0.380078</td>\n",
       "      <td>-0.713263</td>\n",
       "      <td>-0.777263</td>\n",
       "      <td>-0.559216</td>\n",
       "      <td>-0.304187</td>\n",
       "      <td>0.288886</td>\n",
       "      <td>-0.307317</td>\n",
       "    </tr>\n",
       "  </tbody>\n",
       "</table>\n",
       "<p>3 rows × 29 columns</p>\n",
       "</div>"
      ],
      "text/plain": [
       "                     Angiogenesis  Antitumor cytokines   B cells  \\\n",
       "bcr_patient_barcode                                                \n",
       "TCGA-OR-A5KT             0.360772            -0.267548 -0.138697   \n",
       "TCGA-OR-A5J9             0.348421            -0.422394 -0.401913   \n",
       "TCGA-OR-A5K0             0.047718            -0.348453 -0.187309   \n",
       "\n",
       "                     Cancer-associated fibroblasts  Checkpoint molecules  \\\n",
       "bcr_patient_barcode                                                        \n",
       "TCGA-OR-A5KT                              0.353325             -0.160285   \n",
       "TCGA-OR-A5J9                              0.125740             -0.322280   \n",
       "TCGA-OR-A5K0                             -0.029176             -0.392071   \n",
       "\n",
       "                     Co-stimulatory ligands  Co-stimulatory receptors  \\\n",
       "bcr_patient_barcode                                                     \n",
       "TCGA-OR-A5KT                      -0.178488                 -0.052012   \n",
       "TCGA-OR-A5J9                      -0.163177                 -0.150669   \n",
       "TCGA-OR-A5K0                       0.072188                 -0.223933   \n",
       "\n",
       "                     Effector cell traffic  Effector cells  Endothelium  ...  \\\n",
       "bcr_patient_barcode                                                      ...   \n",
       "TCGA-OR-A5KT                     -0.059106       -0.207080     0.414495  ...   \n",
       "TCGA-OR-A5J9                     -0.157397       -0.336972     0.401914  ...   \n",
       "TCGA-OR-A5K0                     -0.132247       -0.359488     0.046053  ...   \n",
       "\n",
       "                     NK cells  Neutrophil signature  Protumor cytokines  \\\n",
       "bcr_patient_barcode                                                       \n",
       "TCGA-OR-A5KT        -0.365459              0.040377           -0.194519   \n",
       "TCGA-OR-A5J9        -0.476653             -0.383949           -0.101780   \n",
       "TCGA-OR-A5K0        -0.523106             -0.309404           -0.439919   \n",
       "\n",
       "                      T cells  Th1 signature  Th2 signature      Treg  \\\n",
       "bcr_patient_barcode                                                     \n",
       "TCGA-OR-A5KT        -0.200729      -0.564284      -0.671525 -0.456830   \n",
       "TCGA-OR-A5J9        -0.354796      -0.729085      -0.778986 -0.426247   \n",
       "TCGA-OR-A5K0        -0.380078      -0.713263      -0.777263 -0.559216   \n",
       "\n",
       "                     Treg and Th2 traffic  Tumor proliferation rate  \\\n",
       "bcr_patient_barcode                                                   \n",
       "TCGA-OR-A5KT                    -0.364683                  0.072576   \n",
       "TCGA-OR-A5J9                    -0.448769                  0.187471   \n",
       "TCGA-OR-A5K0                    -0.304187                  0.288886   \n",
       "\n",
       "                     Tumor-associated Macrophages  \n",
       "bcr_patient_barcode                                \n",
       "TCGA-OR-A5KT                             0.113659  \n",
       "TCGA-OR-A5J9                            -0.393074  \n",
       "TCGA-OR-A5K0                            -0.307317  \n",
       "\n",
       "[3 rows x 29 columns]"
      ]
     },
     "execution_count": 3,
     "metadata": {},
     "output_type": "execute_result"
    }
   ],
   "source": [
    "X_pretrain = pd.read_csv('../data/TCGA_ssGSEA_Fegs29.csv', index_col=0)\n",
    "X_pretrain.head(3)"
   ]
  },
  {
   "cell_type": "code",
   "execution_count": 4,
   "id": "d97629ac-bb95-4026-ab99-795a256a7a2b",
   "metadata": {
    "tags": []
   },
   "outputs": [
    {
     "data": {
      "text/plain": [
       "Index(['Angiogenesis', 'Antitumor cytokines', 'B cells',\n",
       "       'Cancer-associated fibroblasts', 'Checkpoint molecules',\n",
       "       'Co-stimulatory ligands', 'Co-stimulatory receptors',\n",
       "       'Effector cell traffic', 'Effector cells', 'Endothelium',\n",
       "       'Granulocyte traffic', 'Immune Suppression by Myeloid Cells',\n",
       "       'M1 signature', 'MHCI', 'MHCII', 'Macrophage and DC traffic', 'Matrix',\n",
       "       'Matrix remodeling', 'Myeloid cells traffic', 'NK cells',\n",
       "       'Neutrophil signature', 'Protumor cytokines', 'T cells',\n",
       "       'Th1 signature', 'Th2 signature', 'Treg', 'Treg and Th2 traffic',\n",
       "       'Tumor proliferation rate', 'Tumor-associated Macrophages'],\n",
       "      dtype='object')"
      ]
     },
     "execution_count": 4,
     "metadata": {},
     "output_type": "execute_result"
    }
   ],
   "source": [
    "X_pretrain.columns"
   ]
  },
  {
   "cell_type": "code",
   "execution_count": 5,
   "id": "ae0d89f6-0b51-4d69-9620-96169f419d99",
   "metadata": {
    "tags": []
   },
   "outputs": [],
   "source": [
    "y_pretrain = pd.read_csv('../data/TCGA_clinical.csv', index_col=0)\n",
    "y_pretrain['time'] = y_pretrain['os_time']\n",
    "y_pretrain['event'] = y_pretrain['os_status'].map({'alive':0, 'dead':1})"
   ]
  },
  {
   "cell_type": "code",
   "execution_count": 6,
   "id": "ff236777-bdaf-437b-b9f8-54293beaab21",
   "metadata": {
    "tags": []
   },
   "outputs": [],
   "source": [
    "X_pretrain = y_pretrain[['time', 'event']].join(X_pretrain)"
   ]
  },
  {
   "cell_type": "code",
   "execution_count": 7,
   "id": "c8a614f6-8bc5-496a-b09e-6e607648d4f8",
   "metadata": {
    "tags": []
   },
   "outputs": [],
   "source": [
    "X_pretrain.to_csv('./data/dataset-pretrain.data.csv', index=False)"
   ]
  },
  {
   "cell_type": "code",
   "execution_count": null,
   "id": "bd540a47-60eb-4485-b935-a743665236f0",
   "metadata": {},
   "outputs": [],
   "source": []
  },
  {
   "cell_type": "code",
   "execution_count": null,
   "id": "9454e9e0-3b5a-4630-ae61-1cb4fba0c5be",
   "metadata": {},
   "outputs": [],
   "source": []
  },
  {
   "cell_type": "code",
   "execution_count": 15,
   "id": "b81810bd-2cab-4de2-9766-b9d51c7c9e6f",
   "metadata": {
    "tags": []
   },
   "outputs": [],
   "source": [
    "X = pd.read_csv('../data/ITRP_ssGSEA_Fegs29.csv', index_col=0)\n",
    "y = pd.read_csv('../data/ITRP_clinical.csv', index_col=0)"
   ]
  },
  {
   "cell_type": "code",
   "execution_count": 18,
   "id": "503f266f-6952-4c41-9866-41c207935cfc",
   "metadata": {
    "tags": []
   },
   "outputs": [
    {
     "data": {
      "text/plain": [
       "array(['IMVigor210', 'Rose', 'Snyder', 'SU2CLC1', 'SU2CLC2', 'Hugo',\n",
       "       'Gide', 'Liu', 'Riaz', 'Allen', 'MGH'], dtype=object)"
      ]
     },
     "execution_count": 18,
     "metadata": {},
     "output_type": "execute_result"
    }
   ],
   "source": [
    "y = y[(~y.OS_Months.isna()) & (~y.OS_Event.isna())]\n",
    "y.cohort.unique()"
   ]
  },
  {
   "cell_type": "code",
   "execution_count": 20,
   "id": "2219cddb-e63f-4394-bafd-7165b981da92",
   "metadata": {
    "tags": []
   },
   "outputs": [],
   "source": [
    "y['time'] = y['OS_Months']\n",
    "y['event'] = y['OS_Event']"
   ]
  },
  {
   "cell_type": "code",
   "execution_count": 24,
   "id": "b2fa9a30-060c-450d-9e84-eb77b5b345cb",
   "metadata": {
    "tags": []
   },
   "outputs": [],
   "source": [
    "dataset_full = y[['time', 'event','cohort', 'response_label']].join(X)"
   ]
  },
  {
   "cell_type": "code",
   "execution_count": 27,
   "id": "00e56090-b6ed-47f5-af80-e22d4ee3ce1a",
   "metadata": {},
   "outputs": [],
   "source": [
    "cohort = 'IMVigor210'\n",
    "X_train = dataset_full[dataset_full.cohort != cohort]\n",
    "X_test= dataset_full[dataset_full.cohort == cohort]"
   ]
  },
  {
   "cell_type": "code",
   "execution_count": 29,
   "id": "99a38372-090f-4a35-aa2b-7fc5497b95a9",
   "metadata": {},
   "outputs": [],
   "source": [
    "X_train.to_csv('./data/dataset-train.data.csv', index=False)\n",
    "X_test.to_csv('./data/dataset-test.data.csv', index=False)\n",
    "dataset_full.to_csv('./data/dataset-full.data.csv', index=False)"
   ]
  },
  {
   "cell_type": "code",
   "execution_count": 30,
   "id": "983fc50d-d013-4654-91ee-a56f99f8c4b8",
   "metadata": {},
   "outputs": [
    {
     "data": {
      "text/plain": [
       "(10184, 31)"
      ]
     },
     "execution_count": 30,
     "metadata": {},
     "output_type": "execute_result"
    }
   ],
   "source": [
    "X_pretrain.shape"
   ]
  },
  {
   "cell_type": "code",
   "execution_count": 31,
   "id": "a6b53d9f-32b6-461f-8656-a19883d1861c",
   "metadata": {
    "tags": []
   },
   "outputs": [
    {
     "data": {
      "text/plain": [
       "(860, 33)"
      ]
     },
     "execution_count": 31,
     "metadata": {},
     "output_type": "execute_result"
    }
   ],
   "source": [
    "dataset_full.shape"
   ]
  },
  {
   "cell_type": "code",
   "execution_count": null,
   "id": "48c496ff-4336-4442-a70e-0968e29b5f7c",
   "metadata": {},
   "outputs": [],
   "source": []
  },
  {
   "cell_type": "code",
   "execution_count": null,
   "id": "10781e1b-48c4-4bee-a6d0-7795d47f0cab",
   "metadata": {},
   "outputs": [],
   "source": []
  }
 ],
 "metadata": {
  "kernelspec": {
   "display_name": "Python 3 (ipykernel)",
   "language": "python",
   "name": "python3"
  },
  "language_info": {
   "codemirror_mode": {
    "name": "ipython",
    "version": 3
   },
   "file_extension": ".py",
   "mimetype": "text/x-python",
   "name": "python",
   "nbconvert_exporter": "python",
   "pygments_lexer": "ipython3",
   "version": "3.7.16"
  }
 },
 "nbformat": 4,
 "nbformat_minor": 5
}
