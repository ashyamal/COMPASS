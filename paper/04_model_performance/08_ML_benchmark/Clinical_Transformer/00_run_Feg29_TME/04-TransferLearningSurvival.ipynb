{
 "cells": [
  {
   "cell_type": "markdown",
   "id": "2657593a-5eb3-4de7-8577-fd0e787e4ca0",
   "metadata": {
    "tags": []
   },
   "source": [
    "# Transfer learning - Survival prediction\n",
    "Here we are initializing the survival prediction task by using the pre-trained weights from the \"foundation model\" and fine tuning on survival prediction. We use for training 70% of the data and 30% for validation. \n",
    "\n",
    "This notebook guides you through the use of the clinical transformere API"
   ]
  },
  {
   "cell_type": "code",
   "execution_count": 1,
   "id": "b0466044-8b53-4639-bb6e-946a192f73f4",
   "metadata": {
    "tags": []
   },
   "outputs": [
    {
     "name": "stderr",
     "output_type": "stream",
     "text": [
      "2025-08-12 18:35:09.557480: I tensorflow/core/platform/cpu_feature_guard.cc:193] This TensorFlow binary is optimized with oneAPI Deep Neural Network Library (oneDNN) to use the following CPU instructions in performance-critical operations:  AVX2 AVX_VNNI FMA\n",
      "To enable them in other operations, rebuild TensorFlow with the appropriate compiler flags.\n",
      "2025-08-12 18:35:09.613290: I tensorflow/core/util/port.cc:104] oneDNN custom operations are on. You may see slightly different numerical results due to floating-point round-off errors from different computation orders. To turn them off, set the environment variable `TF_ENABLE_ONEDNN_OPTS=0`.\n",
      "2025-08-12 18:35:09.960133: W tensorflow/compiler/xla/stream_executor/platform/default/dso_loader.cc:64] Could not load dynamic library 'libnvinfer.so.7'; dlerror: libnvinfer.so.7: cannot open shared object file: No such file or directory; LD_LIBRARY_PATH: /home/shenwanxiang/anaconda3/lib:\n",
      "2025-08-12 18:35:09.960166: W tensorflow/compiler/xla/stream_executor/platform/default/dso_loader.cc:64] Could not load dynamic library 'libnvinfer_plugin.so.7'; dlerror: libnvinfer_plugin.so.7: cannot open shared object file: No such file or directory; LD_LIBRARY_PATH: /home/shenwanxiang/anaconda3/lib:\n",
      "2025-08-12 18:35:09.960169: W tensorflow/compiler/tf2tensorrt/utils/py_utils.cc:38] TF-TRT Warning: Cannot dlopen some TensorRT libraries. If you would like to use Nvidia GPU with TensorRT, please make sure the missing libraries mentioned above are installed properly.\n"
     ]
    },
    {
     "name": "stdout",
     "output_type": "stream",
     "text": [
      "WARNING:tensorflow:From /tmp/ipykernel_1653228/421870479.py:5: is_gpu_available (from tensorflow.python.framework.test_util) is deprecated and will be removed in a future version.\n",
      "Instructions for updating:\n",
      "Use `tf.config.list_physical_devices('GPU')` instead.\n"
     ]
    },
    {
     "name": "stderr",
     "output_type": "stream",
     "text": [
      "2025-08-12 18:35:10.368521: I tensorflow/core/platform/cpu_feature_guard.cc:193] This TensorFlow binary is optimized with oneAPI Deep Neural Network Library (oneDNN) to use the following CPU instructions in performance-critical operations:  AVX2 AVX_VNNI FMA\n",
      "To enable them in other operations, rebuild TensorFlow with the appropriate compiler flags.\n",
      "2025-08-12 18:35:10.379964: I tensorflow/compiler/xla/stream_executor/cuda/cuda_gpu_executor.cc:981] successful NUMA node read from SysFS had negative value (-1), but there must be at least one NUMA node, so returning NUMA node zero\n",
      "2025-08-12 18:35:10.396116: I tensorflow/compiler/xla/stream_executor/cuda/cuda_gpu_executor.cc:981] successful NUMA node read from SysFS had negative value (-1), but there must be at least one NUMA node, so returning NUMA node zero\n",
      "2025-08-12 18:35:10.396203: I tensorflow/compiler/xla/stream_executor/cuda/cuda_gpu_executor.cc:981] successful NUMA node read from SysFS had negative value (-1), but there must be at least one NUMA node, so returning NUMA node zero\n",
      "2025-08-12 18:35:10.673113: I tensorflow/compiler/xla/stream_executor/cuda/cuda_gpu_executor.cc:981] successful NUMA node read from SysFS had negative value (-1), but there must be at least one NUMA node, so returning NUMA node zero\n",
      "2025-08-12 18:35:10.673236: I tensorflow/compiler/xla/stream_executor/cuda/cuda_gpu_executor.cc:981] successful NUMA node read from SysFS had negative value (-1), but there must be at least one NUMA node, so returning NUMA node zero\n",
      "2025-08-12 18:35:10.673298: I tensorflow/compiler/xla/stream_executor/cuda/cuda_gpu_executor.cc:981] successful NUMA node read from SysFS had negative value (-1), but there must be at least one NUMA node, so returning NUMA node zero\n",
      "2025-08-12 18:35:10.673358: I tensorflow/core/common_runtime/gpu/gpu_device.cc:1613] Created device /device:GPU:0 with 9998 MB memory:  -> device: 0, name: NVIDIA GeForce RTX 3080 Ti, pci bus id: 0000:01:00.0, compute capability: 8.6\n"
     ]
    }
   ],
   "source": [
    "import os\n",
    "os.environ[\"XLA_FLAGS\"] = \"--xla_gpu_cuda_data_dir=/home/shenwanxiang/anaconda3\"\n",
    "os.environ[\"CUDA_VISIBLE_DEVICES\"] = \"0\"\n",
    "import tensorflow as tf\n",
    "tf.test.is_gpu_available()\n",
    "\n",
    "tf.config.run_functions_eagerly(True)\n",
    "\n",
    "tf.__version__\n",
    "import sys\n",
    "sys.path.append('../codeocean/environment/clinical_transformer/')\n",
    "\n"
   ]
  },
  {
   "cell_type": "code",
   "execution_count": 2,
   "id": "fccb0e33-62ab-42bb-84a6-0e00012fb491",
   "metadata": {
    "tags": []
   },
   "outputs": [],
   "source": [
    "from xai.models import Trainer\n",
    "from xai.models import SurvivalTransformer\n",
    "from xai.models import OptimizedSurvivalDataGenerator as SurvivalDataGenerator\n",
    "from xai.losses.survival import cIndex_SigmoidApprox as cindex_loss\n",
    "from xai.metrics.survival import sigmoid_concordance as cindex_metric"
   ]
  },
  {
   "cell_type": "code",
   "execution_count": 3,
   "id": "a6022ee0-aeca-4ce1-919e-c2dfa84082e3",
   "metadata": {
    "tags": []
   },
   "outputs": [],
   "source": [
    "import pandas as pd\n",
    "from samecode.random import set_seed"
   ]
  },
  {
   "cell_type": "markdown",
   "id": "cdcc6680-0b2a-4cee-9cc4-edaaaf509993",
   "metadata": {},
   "source": [
    "## Dataset"
   ]
  },
  {
   "cell_type": "code",
   "execution_count": 6,
   "id": "779b8988-f6e9-44c3-92f6-a57a9adf3df0",
   "metadata": {
    "tags": []
   },
   "outputs": [
    {
     "data": {
      "text/plain": [
       "['Angiogenesis',\n",
       " 'Antitumor cytokines',\n",
       " 'B cells',\n",
       " 'Cancer-associated fibroblasts',\n",
       " 'Checkpoint molecules',\n",
       " 'Co-stimulatory ligands',\n",
       " 'Co-stimulatory receptors',\n",
       " 'Effector cell traffic',\n",
       " 'Effector cells',\n",
       " 'Endothelium',\n",
       " 'Granulocyte traffic',\n",
       " 'Immune Suppression by Myeloid Cells',\n",
       " 'M1 signature',\n",
       " 'MHCI',\n",
       " 'MHCII',\n",
       " 'Macrophage and DC traffic',\n",
       " 'Matrix',\n",
       " 'Matrix remodeling',\n",
       " 'Myeloid cells traffic',\n",
       " 'NK cells',\n",
       " 'Neutrophil signature',\n",
       " 'Protumor cytokines',\n",
       " 'T cells',\n",
       " 'Th1 signature',\n",
       " 'Th2 signature',\n",
       " 'Treg',\n",
       " 'Treg and Th2 traffic',\n",
       " 'Tumor proliferation rate',\n",
       " 'Tumor-associated Macrophages']"
      ]
     },
     "execution_count": 6,
     "metadata": {},
     "output_type": "execute_result"
    }
   ],
   "source": [
    "data = pd.read_csv('./data/dataset-train.data.csv')\n",
    "features = data.columns[-29:].tolist()\n",
    "features"
   ]
  },
  {
   "cell_type": "markdown",
   "id": "b114d87a-1ae9-40a5-9961-9ca06822bf25",
   "metadata": {},
   "source": [
    "## Parameters"
   ]
  },
  {
   "cell_type": "code",
   "execution_count": 7,
   "id": "492f6484-440f-4d15-8b8e-972bd44c87d0",
   "metadata": {
    "tags": []
   },
   "outputs": [],
   "source": [
    "max_features_percentile=100\n",
    "test_size=0.3 # fraction of samples used for validation\n",
    "repetitions=1 # number replicates (training / validation) random splits to evaluate variability.\n",
    "\n",
    "mode='survival'\n",
    "learning_rate=0.0001\n",
    "epochs=100\n",
    "verbose=1\n",
    "seed=0\n",
    "embedding_size = 128\n",
    "num_heads = 2\n",
    "num_layers = 2"
   ]
  },
  {
   "cell_type": "markdown",
   "id": "fad610b5-6d88-4ecb-b923-b28e7984424b",
   "metadata": {},
   "source": [
    "## Training"
   ]
  },
  {
   "cell_type": "code",
   "execution_count": 8,
   "id": "e30fc909-590c-4b83-9a19-ac85228832dd",
   "metadata": {
    "tags": []
   },
   "outputs": [
    {
     "name": "stdout",
     "output_type": "stream",
     "text": [
      "/bin/sh: /home/shenwanxiang/anaconda3/lib/libtinfo.so.6: no version information available (required by /bin/sh)\n",
      "rm: cannot remove './results/runs/TransferLearningSurvival/': No such file or directory\n"
     ]
    }
   ],
   "source": [
    "!rm -r ./results/runs/TransferLearningSurvival/"
   ]
  },
  {
   "cell_type": "code",
   "execution_count": 9,
   "id": "d5daafdb-611b-42a6-9ab1-e6c16b437f4c",
   "metadata": {
    "tags": []
   },
   "outputs": [
    {
     "name": "stderr",
     "output_type": "stream",
     "text": [
      "/home/shenwanxiang/.local/lib/python3.7/site-packages/tqdm/auto.py:22: TqdmWarning: IProgress not found. Please update jupyter and ipywidgets. See https://ipywidgets.readthedocs.io/en/stable/user_install.html\n",
      "  from .autonotebook import tqdm as notebook_tqdm\n",
      "INFO\t2025-08-12 18:35:51,800\tSetting up working directory: ./results/runs/TransferLearningSurvival/\n",
      "INFO\t2025-08-12 18:35:51,801\tSetting up transfer learning directory: ./results/runs/TransferLearningSurvival//model.E001000.h5/\n",
      "2025-08-12 18:35:51.804250: I tensorflow/compiler/xla/stream_executor/cuda/cuda_gpu_executor.cc:981] successful NUMA node read from SysFS had negative value (-1), but there must be at least one NUMA node, so returning NUMA node zero\n",
      "2025-08-12 18:35:51.804397: I tensorflow/compiler/xla/stream_executor/cuda/cuda_gpu_executor.cc:981] successful NUMA node read from SysFS had negative value (-1), but there must be at least one NUMA node, so returning NUMA node zero\n",
      "2025-08-12 18:35:51.804457: I tensorflow/compiler/xla/stream_executor/cuda/cuda_gpu_executor.cc:981] successful NUMA node read from SysFS had negative value (-1), but there must be at least one NUMA node, so returning NUMA node zero\n",
      "2025-08-12 18:35:51.804653: I tensorflow/compiler/xla/stream_executor/cuda/cuda_gpu_executor.cc:981] successful NUMA node read from SysFS had negative value (-1), but there must be at least one NUMA node, so returning NUMA node zero\n",
      "2025-08-12 18:35:51.804719: I tensorflow/compiler/xla/stream_executor/cuda/cuda_gpu_executor.cc:981] successful NUMA node read from SysFS had negative value (-1), but there must be at least one NUMA node, so returning NUMA node zero\n",
      "2025-08-12 18:35:51.804772: I tensorflow/compiler/xla/stream_executor/cuda/cuda_gpu_executor.cc:981] successful NUMA node read from SysFS had negative value (-1), but there must be at least one NUMA node, so returning NUMA node zero\n",
      "2025-08-12 18:35:51.804858: I tensorflow/compiler/xla/stream_executor/cuda/cuda_gpu_executor.cc:981] successful NUMA node read from SysFS had negative value (-1), but there must be at least one NUMA node, so returning NUMA node zero\n",
      "2025-08-12 18:35:51.804914: I tensorflow/compiler/xla/stream_executor/cuda/cuda_gpu_executor.cc:981] successful NUMA node read from SysFS had negative value (-1), but there must be at least one NUMA node, so returning NUMA node zero\n",
      "2025-08-12 18:35:51.804962: I tensorflow/core/common_runtime/gpu/gpu_device.cc:1613] Created device /job:localhost/replica:0/task:0/device:GPU:0 with 9998 MB memory:  -> device: 0, name: NVIDIA GeForce RTX 3080 Ti, pci bus id: 0000:01:00.0, compute capability: 8.6\n",
      "2025-08-12 18:35:52.328021: I tensorflow/compiler/xla/stream_executor/cuda/cuda_blas.cc:630] TensorFloat-32 will be used for the matrix multiplication. This will only be logged once.\n",
      "INFO\t2025-08-12 18:35:52,418\tNumber of continuous features: 29\n",
      "INFO\t2025-08-12 18:35:52,418\tNumber of discrete features: 0\n",
      "INFO\t2025-08-12 18:35:52,418\tNumber of samples: 562\n",
      "INFO\t2025-08-12 18:35:52,421\tNumber of classes: 1\n",
      "INFO\t2025-08-12 18:35:52,423\tRUN ID: fold-0_id-0\n",
      "INFO\t2025-08-12 18:35:52,423\tRUN ID out directory: ./results/runs/TransferLearningSurvival//model.E001000.h5//fold-0_id-0/\n",
      "INFO\t2025-08-12 18:35:52,464\tTraining samples: 393\n",
      "INFO\t2025-08-12 18:35:52,465\tTesting samples: 169\n",
      "INFO\t2025-08-12 18:35:52,467\tNumber of features at 100th percentile: 29 that are non nans\n",
      "/home/shenwanxiang/anaconda3/envs/IRnet_env/lib/python3.7/site-packages/tensorflow/python/data/ops/structured_function.py:257: UserWarning: Even though the `tf.config.experimental_run_functions_eagerly` option is set, this option does not apply to tf.data functions. To force eager execution of tf.data functions, please use `tf.data.experimental.enable_debug_mode()`.\n",
      "  \"Even though the `tf.config.experimental_run_functions_eagerly` \"\n"
     ]
    },
    {
     "name": "stdout",
     "output_type": "stream",
     "text": [
      "Epoch 1/100\n",
      "WARNING:tensorflow:AutoGraph could not transform <function cIndex_SigmoidApprox at 0x7f985e9e7050> and will run it as-is.\n",
      "Please report this to the TensorFlow team. When filing the bug, set the verbosity to 10 (on Linux, `export AUTOGRAPH_VERBOSITY=10`) and attach the full output.\n",
      "Cause: module 'gast' has no attribute 'Constant'\n",
      "To silence this warning, decorate the function with @tf.autograph.experimental.do_not_convert\n"
     ]
    },
    {
     "name": "stderr",
     "output_type": "stream",
     "text": [
      "WARNING\t2025-08-12 18:35:52,709\tAutoGraph could not transform <function cIndex_SigmoidApprox at 0x7f985e9e7050> and will run it as-is.\n",
      "Please report this to the TensorFlow team. When filing the bug, set the verbosity to 10 (on Linux, `export AUTOGRAPH_VERBOSITY=10`) and attach the full output.\n",
      "Cause: module 'gast' has no attribute 'Constant'\n",
      "To silence this warning, decorate the function with @tf.autograph.experimental.do_not_convert\n"
     ]
    },
    {
     "name": "stdout",
     "output_type": "stream",
     "text": [
      "WARNING: AutoGraph could not transform <function cIndex_SigmoidApprox at 0x7f985e9e7050> and will run it as-is.\n",
      "Please report this to the TensorFlow team. When filing the bug, set the verbosity to 10 (on Linux, `export AUTOGRAPH_VERBOSITY=10`) and attach the full output.\n",
      "Cause: module 'gast' has no attribute 'Constant'\n",
      "To silence this warning, decorate the function with @tf.autograph.experimental.do_not_convert\n",
      "WARNING:tensorflow:AutoGraph could not transform <function sigmoid_concordance at 0x7f985dd964d0> and will run it as-is.\n",
      "Please report this to the TensorFlow team. When filing the bug, set the verbosity to 10 (on Linux, `export AUTOGRAPH_VERBOSITY=10`) and attach the full output.\n",
      "Cause: module 'gast' has no attribute 'Constant'\n",
      "To silence this warning, decorate the function with @tf.autograph.experimental.do_not_convert\n"
     ]
    },
    {
     "name": "stderr",
     "output_type": "stream",
     "text": [
      "WARNING\t2025-08-12 18:35:52,808\tAutoGraph could not transform <function sigmoid_concordance at 0x7f985dd964d0> and will run it as-is.\n",
      "Please report this to the TensorFlow team. When filing the bug, set the verbosity to 10 (on Linux, `export AUTOGRAPH_VERBOSITY=10`) and attach the full output.\n",
      "Cause: module 'gast' has no attribute 'Constant'\n",
      "To silence this warning, decorate the function with @tf.autograph.experimental.do_not_convert\n"
     ]
    },
    {
     "name": "stdout",
     "output_type": "stream",
     "text": [
      "WARNING: AutoGraph could not transform <function sigmoid_concordance at 0x7f985dd964d0> and will run it as-is.\n",
      "Please report this to the TensorFlow team. When filing the bug, set the verbosity to 10 (on Linux, `export AUTOGRAPH_VERBOSITY=10`) and attach the full output.\n",
      "Cause: module 'gast' has no attribute 'Constant'\n",
      "To silence this warning, decorate the function with @tf.autograph.experimental.do_not_convert\n",
      "1/1 [==============================] - 0s 252ms/step - loss: 0.5127 - sigmoid_concordance: 0.4669 - val_loss: 0.4762 - val_sigmoid_concordance: 0.6160\n",
      "Epoch 2/100\n",
      "1/1 [==============================] - 0s 150ms/step - loss: 0.4978 - sigmoid_concordance: 0.5074 - val_loss: 0.4710 - val_sigmoid_concordance: 0.6159\n",
      "Epoch 3/100\n",
      "1/1 [==============================] - 0s 119ms/step - loss: 0.4937 - sigmoid_concordance: 0.5115 - val_loss: 0.4662 - val_sigmoid_concordance: 0.6075\n",
      "Epoch 4/100\n",
      "1/1 [==============================] - 0s 119ms/step - loss: 0.4858 - sigmoid_concordance: 0.5315 - val_loss: 0.4616 - val_sigmoid_concordance: 0.5991\n",
      "Epoch 5/100\n",
      "1/1 [==============================] - 0s 120ms/step - loss: 0.4677 - sigmoid_concordance: 0.5669 - val_loss: 0.4572 - val_sigmoid_concordance: 0.5940\n",
      "Epoch 6/100\n",
      "1/1 [==============================] - 0s 131ms/step - loss: 0.4608 - sigmoid_concordance: 0.5813 - val_loss: 0.4532 - val_sigmoid_concordance: 0.5919\n",
      "Epoch 7/100\n",
      "1/1 [==============================] - 0s 122ms/step - loss: 0.4466 - sigmoid_concordance: 0.6088 - val_loss: 0.4494 - val_sigmoid_concordance: 0.5905\n",
      "Epoch 8/100\n",
      "1/1 [==============================] - 0s 124ms/step - loss: 0.4671 - sigmoid_concordance: 0.5600 - val_loss: 0.4459 - val_sigmoid_concordance: 0.5896\n",
      "Epoch 9/100\n",
      "1/1 [==============================] - 0s 138ms/step - loss: 0.4457 - sigmoid_concordance: 0.6016 - val_loss: 0.4424 - val_sigmoid_concordance: 0.5892\n",
      "Epoch 10/100\n",
      "1/1 [==============================] - 0s 121ms/step - loss: 0.4308 - sigmoid_concordance: 0.6184 - val_loss: 0.4394 - val_sigmoid_concordance: 0.5900\n",
      "Epoch 11/100\n",
      "1/1 [==============================] - 0s 120ms/step - loss: 0.4305 - sigmoid_concordance: 0.6182 - val_loss: 0.4363 - val_sigmoid_concordance: 0.5898\n",
      "Epoch 12/100\n",
      "1/1 [==============================] - 0s 128ms/step - loss: 0.4307 - sigmoid_concordance: 0.6097 - val_loss: 0.4335 - val_sigmoid_concordance: 0.5883\n",
      "Epoch 13/100\n",
      "1/1 [==============================] - 0s 119ms/step - loss: 0.4282 - sigmoid_concordance: 0.6117 - val_loss: 0.4307 - val_sigmoid_concordance: 0.5875\n",
      "Epoch 14/100\n",
      "1/1 [==============================] - 0s 119ms/step - loss: 0.4412 - sigmoid_concordance: 0.5882 - val_loss: 0.4284 - val_sigmoid_concordance: 0.5877\n",
      "Epoch 15/100\n",
      "1/1 [==============================] - 0s 124ms/step - loss: 0.4182 - sigmoid_concordance: 0.6218 - val_loss: 0.4262 - val_sigmoid_concordance: 0.5865\n",
      "Epoch 16/100\n",
      "1/1 [==============================] - 0s 120ms/step - loss: 0.4092 - sigmoid_concordance: 0.6271 - val_loss: 0.4242 - val_sigmoid_concordance: 0.5868\n",
      "Epoch 17/100\n",
      "1/1 [==============================] - 0s 127ms/step - loss: 0.4098 - sigmoid_concordance: 0.6224 - val_loss: 0.4225 - val_sigmoid_concordance: 0.5870\n",
      "Epoch 18/100\n",
      "1/1 [==============================] - 0s 129ms/step - loss: 0.4072 - sigmoid_concordance: 0.6263 - val_loss: 0.4209 - val_sigmoid_concordance: 0.5892\n",
      "Epoch 19/100\n",
      "1/1 [==============================] - 0s 119ms/step - loss: 0.4081 - sigmoid_concordance: 0.6203 - val_loss: 0.4192 - val_sigmoid_concordance: 0.5893\n",
      "Epoch 20/100\n",
      "1/1 [==============================] - 0s 124ms/step - loss: 0.4006 - sigmoid_concordance: 0.6264 - val_loss: 0.4176 - val_sigmoid_concordance: 0.5904\n",
      "Epoch 21/100\n",
      "1/1 [==============================] - 0s 122ms/step - loss: 0.4021 - sigmoid_concordance: 0.6221 - val_loss: 0.4163 - val_sigmoid_concordance: 0.5921\n",
      "Epoch 22/100\n",
      "1/1 [==============================] - 0s 119ms/step - loss: 0.3897 - sigmoid_concordance: 0.6378 - val_loss: 0.4151 - val_sigmoid_concordance: 0.5926\n",
      "Epoch 23/100\n",
      "1/1 [==============================] - 0s 119ms/step - loss: 0.3871 - sigmoid_concordance: 0.6360 - val_loss: 0.4140 - val_sigmoid_concordance: 0.5930\n",
      "Epoch 24/100\n",
      "1/1 [==============================] - 0s 119ms/step - loss: 0.3874 - sigmoid_concordance: 0.6348 - val_loss: 0.4129 - val_sigmoid_concordance: 0.5936\n",
      "Epoch 25/100\n",
      "1/1 [==============================] - 0s 118ms/step - loss: 0.3911 - sigmoid_concordance: 0.6301 - val_loss: 0.4120 - val_sigmoid_concordance: 0.5945\n",
      "Epoch 26/100\n",
      "1/1 [==============================] - 0s 119ms/step - loss: 0.3901 - sigmoid_concordance: 0.6308 - val_loss: 0.4109 - val_sigmoid_concordance: 0.5952\n",
      "Epoch 27/100\n",
      "1/1 [==============================] - 0s 120ms/step - loss: 0.3888 - sigmoid_concordance: 0.6289 - val_loss: 0.4101 - val_sigmoid_concordance: 0.5957\n",
      "Epoch 28/100\n",
      "1/1 [==============================] - 0s 121ms/step - loss: 0.3947 - sigmoid_concordance: 0.6218 - val_loss: 0.4095 - val_sigmoid_concordance: 0.5972\n",
      "Epoch 29/100\n",
      "1/1 [==============================] - 0s 132ms/step - loss: 0.3799 - sigmoid_concordance: 0.6364 - val_loss: 0.4088 - val_sigmoid_concordance: 0.5968\n",
      "Epoch 30/100\n",
      "1/1 [==============================] - 0s 121ms/step - loss: 0.3799 - sigmoid_concordance: 0.6365 - val_loss: 0.4082 - val_sigmoid_concordance: 0.5971\n",
      "Epoch 31/100\n",
      "1/1 [==============================] - 0s 129ms/step - loss: 0.3766 - sigmoid_concordance: 0.6385 - val_loss: 0.4077 - val_sigmoid_concordance: 0.5979\n",
      "Epoch 32/100\n",
      "1/1 [==============================] - 0s 121ms/step - loss: 0.3694 - sigmoid_concordance: 0.6468 - val_loss: 0.4073 - val_sigmoid_concordance: 0.5983\n",
      "Epoch 33/100\n",
      "1/1 [==============================] - 0s 127ms/step - loss: 0.3927 - sigmoid_concordance: 0.6212 - val_loss: 0.4068 - val_sigmoid_concordance: 0.5991\n",
      "Epoch 34/100\n",
      "1/1 [==============================] - 0s 140ms/step - loss: 0.3816 - sigmoid_concordance: 0.6311 - val_loss: 0.4063 - val_sigmoid_concordance: 0.5993\n",
      "Epoch 35/100\n",
      "1/1 [==============================] - 0s 122ms/step - loss: 0.3807 - sigmoid_concordance: 0.6317 - val_loss: 0.4058 - val_sigmoid_concordance: 0.5987\n",
      "Epoch 36/100\n",
      "1/1 [==============================] - 0s 120ms/step - loss: 0.3808 - sigmoid_concordance: 0.6309 - val_loss: 0.4054 - val_sigmoid_concordance: 0.5991\n",
      "Epoch 37/100\n",
      "1/1 [==============================] - 0s 125ms/step - loss: 0.3686 - sigmoid_concordance: 0.6448 - val_loss: 0.4051 - val_sigmoid_concordance: 0.5991\n",
      "Epoch 38/100\n",
      "1/1 [==============================] - 0s 127ms/step - loss: 0.3874 - sigmoid_concordance: 0.6233 - val_loss: 0.4049 - val_sigmoid_concordance: 0.5985\n",
      "Epoch 39/100\n",
      "1/1 [==============================] - 0s 131ms/step - loss: 0.3779 - sigmoid_concordance: 0.6333 - val_loss: 0.4046 - val_sigmoid_concordance: 0.5997\n",
      "Epoch 40/100\n",
      "1/1 [==============================] - 0s 133ms/step - loss: 0.3718 - sigmoid_concordance: 0.6405 - val_loss: 0.4043 - val_sigmoid_concordance: 0.6000\n",
      "Epoch 41/100\n",
      "1/1 [==============================] - 0s 122ms/step - loss: 0.3804 - sigmoid_concordance: 0.6294 - val_loss: 0.4042 - val_sigmoid_concordance: 0.5988\n",
      "Epoch 42/100\n",
      "1/1 [==============================] - 0s 127ms/step - loss: 0.3587 - sigmoid_concordance: 0.6525 - val_loss: 0.4042 - val_sigmoid_concordance: 0.5984\n",
      "Epoch 43/100\n",
      "1/1 [==============================] - 0s 121ms/step - loss: 0.3768 - sigmoid_concordance: 0.6325 - val_loss: 0.4042 - val_sigmoid_concordance: 0.5970\n",
      "Epoch 44/100\n",
      "1/1 [==============================] - 0s 120ms/step - loss: 0.3688 - sigmoid_concordance: 0.6412 - val_loss: 0.4043 - val_sigmoid_concordance: 0.5980\n",
      "Epoch 45/100\n",
      "1/1 [==============================] - 0s 120ms/step - loss: 0.3820 - sigmoid_concordance: 0.6277 - val_loss: 0.4045 - val_sigmoid_concordance: 0.5976\n",
      "Epoch 46/100\n",
      "1/1 [==============================] - 0s 119ms/step - loss: 0.3697 - sigmoid_concordance: 0.6396 - val_loss: 0.4046 - val_sigmoid_concordance: 0.5976\n",
      "Epoch 47/100\n",
      "1/1 [==============================] - 0s 120ms/step - loss: 0.3617 - sigmoid_concordance: 0.6473 - val_loss: 0.4046 - val_sigmoid_concordance: 0.5971\n",
      "Epoch 48/100\n",
      "1/1 [==============================] - 0s 126ms/step - loss: 0.3663 - sigmoid_concordance: 0.6435 - val_loss: 0.4046 - val_sigmoid_concordance: 0.5974\n",
      "Epoch 49/100\n",
      "1/1 [==============================] - 0s 134ms/step - loss: 0.3667 - sigmoid_concordance: 0.6422 - val_loss: 0.4046 - val_sigmoid_concordance: 0.5975\n",
      "Epoch 50/100\n",
      "1/1 [==============================] - 0s 119ms/step - loss: 0.3668 - sigmoid_concordance: 0.6411 - val_loss: 0.4044 - val_sigmoid_concordance: 0.5973\n",
      "Epoch 51/100\n",
      "1/1 [==============================] - 0s 121ms/step - loss: 0.3670 - sigmoid_concordance: 0.6419 - val_loss: 0.4042 - val_sigmoid_concordance: 0.5977\n",
      "Epoch 52/100\n",
      "1/1 [==============================] - 0s 119ms/step - loss: 0.3585 - sigmoid_concordance: 0.6506 - val_loss: 0.4039 - val_sigmoid_concordance: 0.5988\n",
      "Epoch 53/100\n",
      "1/1 [==============================] - 0s 122ms/step - loss: 0.3687 - sigmoid_concordance: 0.6395 - val_loss: 0.4037 - val_sigmoid_concordance: 0.5987\n",
      "Epoch 54/100\n",
      "1/1 [==============================] - 0s 129ms/step - loss: 0.3728 - sigmoid_concordance: 0.6347 - val_loss: 0.4034 - val_sigmoid_concordance: 0.5983\n",
      "Epoch 55/100\n",
      "1/1 [==============================] - 0s 123ms/step - loss: 0.3533 - sigmoid_concordance: 0.6563 - val_loss: 0.4032 - val_sigmoid_concordance: 0.5986\n",
      "Epoch 56/100\n",
      "1/1 [==============================] - 0s 128ms/step - loss: 0.3589 - sigmoid_concordance: 0.6492 - val_loss: 0.4029 - val_sigmoid_concordance: 0.5988\n",
      "Epoch 57/100\n",
      "1/1 [==============================] - 0s 120ms/step - loss: 0.3632 - sigmoid_concordance: 0.6446 - val_loss: 0.4027 - val_sigmoid_concordance: 0.5994\n",
      "Epoch 58/100\n",
      "1/1 [==============================] - 0s 124ms/step - loss: 0.3636 - sigmoid_concordance: 0.6449 - val_loss: 0.4024 - val_sigmoid_concordance: 0.5996\n",
      "Epoch 59/100\n",
      "1/1 [==============================] - 0s 121ms/step - loss: 0.3447 - sigmoid_concordance: 0.6649 - val_loss: 0.4023 - val_sigmoid_concordance: 0.5999\n",
      "Epoch 60/100\n",
      "1/1 [==============================] - 0s 119ms/step - loss: 0.3641 - sigmoid_concordance: 0.6436 - val_loss: 0.4022 - val_sigmoid_concordance: 0.6004\n",
      "Epoch 61/100\n",
      "1/1 [==============================] - 0s 143ms/step - loss: 0.3635 - sigmoid_concordance: 0.6428 - val_loss: 0.4020 - val_sigmoid_concordance: 0.6001\n",
      "Epoch 62/100\n",
      "1/1 [==============================] - 0s 122ms/step - loss: 0.3655 - sigmoid_concordance: 0.6431 - val_loss: 0.4020 - val_sigmoid_concordance: 0.6006\n",
      "Epoch 63/100\n",
      "1/1 [==============================] - 0s 119ms/step - loss: 0.3629 - sigmoid_concordance: 0.6431 - val_loss: 0.4019 - val_sigmoid_concordance: 0.6009\n",
      "Epoch 64/100\n",
      "1/1 [==============================] - 0s 118ms/step - loss: 0.3491 - sigmoid_concordance: 0.6601 - val_loss: 0.4018 - val_sigmoid_concordance: 0.6009\n",
      "Epoch 65/100\n",
      "1/1 [==============================] - 0s 119ms/step - loss: 0.3534 - sigmoid_concordance: 0.6542 - val_loss: 0.4017 - val_sigmoid_concordance: 0.5999\n",
      "Epoch 66/100\n",
      "1/1 [==============================] - 0s 122ms/step - loss: 0.3584 - sigmoid_concordance: 0.6502 - val_loss: 0.4018 - val_sigmoid_concordance: 0.6010\n",
      "Epoch 67/100\n",
      "1/1 [==============================] - 0s 125ms/step - loss: 0.3633 - sigmoid_concordance: 0.6441 - val_loss: 0.4018 - val_sigmoid_concordance: 0.6012\n",
      "Epoch 68/100\n",
      "1/1 [==============================] - 0s 130ms/step - loss: 0.3675 - sigmoid_concordance: 0.6411 - val_loss: 0.4018 - val_sigmoid_concordance: 0.6007\n",
      "Epoch 69/100\n",
      "1/1 [==============================] - 0s 130ms/step - loss: 0.3657 - sigmoid_concordance: 0.6439 - val_loss: 0.4019 - val_sigmoid_concordance: 0.6003\n",
      "Epoch 70/100\n",
      "1/1 [==============================] - 0s 126ms/step - loss: 0.3537 - sigmoid_concordance: 0.6561 - val_loss: 0.4019 - val_sigmoid_concordance: 0.6005\n",
      "Epoch 71/100\n",
      "1/1 [==============================] - 0s 128ms/step - loss: 0.3382 - sigmoid_concordance: 0.6700 - val_loss: 0.4019 - val_sigmoid_concordance: 0.6008\n",
      "Epoch 72/100\n",
      "1/1 [==============================] - 0s 122ms/step - loss: 0.3489 - sigmoid_concordance: 0.6579 - val_loss: 0.4020 - val_sigmoid_concordance: 0.6000\n",
      "Epoch 73/100\n",
      "1/1 [==============================] - 0s 120ms/step - loss: 0.3593 - sigmoid_concordance: 0.6488 - val_loss: 0.4021 - val_sigmoid_concordance: 0.5994\n",
      "Epoch 74/100\n",
      "1/1 [==============================] - 0s 126ms/step - loss: 0.3615 - sigmoid_concordance: 0.6451 - val_loss: 0.4022 - val_sigmoid_concordance: 0.5994\n",
      "Epoch 75/100\n",
      "1/1 [==============================] - 0s 124ms/step - loss: 0.3552 - sigmoid_concordance: 0.6508 - val_loss: 0.4024 - val_sigmoid_concordance: 0.5994\n",
      "Epoch 76/100\n",
      "1/1 [==============================] - 0s 119ms/step - loss: 0.3604 - sigmoid_concordance: 0.6469 - val_loss: 0.4027 - val_sigmoid_concordance: 0.5996\n",
      "Epoch 77/100\n",
      "1/1 [==============================] - 0s 122ms/step - loss: 0.3522 - sigmoid_concordance: 0.6543 - val_loss: 0.4029 - val_sigmoid_concordance: 0.5995\n",
      "Epoch 78/100\n",
      "1/1 [==============================] - 0s 120ms/step - loss: 0.3615 - sigmoid_concordance: 0.6458 - val_loss: 0.4032 - val_sigmoid_concordance: 0.5988\n",
      "Epoch 79/100\n",
      "1/1 [==============================] - 0s 125ms/step - loss: 0.3563 - sigmoid_concordance: 0.6508 - val_loss: 0.4034 - val_sigmoid_concordance: 0.5986\n",
      "Epoch 80/100\n",
      "1/1 [==============================] - 0s 132ms/step - loss: 0.3449 - sigmoid_concordance: 0.6638 - val_loss: 0.4034 - val_sigmoid_concordance: 0.5986\n",
      "Epoch 81/100\n",
      "1/1 [==============================] - 0s 129ms/step - loss: 0.3466 - sigmoid_concordance: 0.6595 - val_loss: 0.4034 - val_sigmoid_concordance: 0.5992\n",
      "Epoch 82/100\n",
      "1/1 [==============================] - 0s 127ms/step - loss: 0.3540 - sigmoid_concordance: 0.6525 - val_loss: 0.4034 - val_sigmoid_concordance: 0.5991\n",
      "Epoch 83/100\n",
      "1/1 [==============================] - 0s 120ms/step - loss: 0.3507 - sigmoid_concordance: 0.6569 - val_loss: 0.4034 - val_sigmoid_concordance: 0.5989\n",
      "Epoch 84/100\n",
      "1/1 [==============================] - 0s 129ms/step - loss: 0.3602 - sigmoid_concordance: 0.6466 - val_loss: 0.4031 - val_sigmoid_concordance: 0.5996\n",
      "Epoch 85/100\n",
      "1/1 [==============================] - 0s 141ms/step - loss: 0.3587 - sigmoid_concordance: 0.6473 - val_loss: 0.4029 - val_sigmoid_concordance: 0.5996\n",
      "Epoch 86/100\n",
      "1/1 [==============================] - 0s 124ms/step - loss: 0.3453 - sigmoid_concordance: 0.6624 - val_loss: 0.4027 - val_sigmoid_concordance: 0.5999\n",
      "Epoch 87/100\n",
      "1/1 [==============================] - 0s 119ms/step - loss: 0.3544 - sigmoid_concordance: 0.6518 - val_loss: 0.4023 - val_sigmoid_concordance: 0.6008\n",
      "Epoch 88/100\n",
      "1/1 [==============================] - 0s 122ms/step - loss: 0.3505 - sigmoid_concordance: 0.6564 - val_loss: 0.4021 - val_sigmoid_concordance: 0.6019\n",
      "Epoch 89/100\n",
      "1/1 [==============================] - 0s 121ms/step - loss: 0.3520 - sigmoid_concordance: 0.6546 - val_loss: 0.4018 - val_sigmoid_concordance: 0.6024\n",
      "Epoch 90/100\n",
      "1/1 [==============================] - 0s 141ms/step - loss: 0.3595 - sigmoid_concordance: 0.6464 - val_loss: 0.4015 - val_sigmoid_concordance: 0.6026\n",
      "Epoch 91/100\n",
      "1/1 [==============================] - 0s 121ms/step - loss: 0.3420 - sigmoid_concordance: 0.6646 - val_loss: 0.4014 - val_sigmoid_concordance: 0.6025\n",
      "Epoch 92/100\n",
      "1/1 [==============================] - 0s 139ms/step - loss: 0.3415 - sigmoid_concordance: 0.6652 - val_loss: 0.4012 - val_sigmoid_concordance: 0.6027\n",
      "Epoch 93/100\n",
      "1/1 [==============================] - 0s 121ms/step - loss: 0.3515 - sigmoid_concordance: 0.6552 - val_loss: 0.4010 - val_sigmoid_concordance: 0.6028\n",
      "Epoch 94/100\n",
      "1/1 [==============================] - 0s 125ms/step - loss: 0.3479 - sigmoid_concordance: 0.6596 - val_loss: 0.4007 - val_sigmoid_concordance: 0.6033\n",
      "Epoch 95/100\n",
      "1/1 [==============================] - 0s 124ms/step - loss: 0.3569 - sigmoid_concordance: 0.6503 - val_loss: 0.4002 - val_sigmoid_concordance: 0.6037\n",
      "Epoch 96/100\n",
      "1/1 [==============================] - 0s 122ms/step - loss: 0.3614 - sigmoid_concordance: 0.6455 - val_loss: 0.3998 - val_sigmoid_concordance: 0.6042\n",
      "Epoch 97/100\n",
      "1/1 [==============================] - 0s 120ms/step - loss: 0.3513 - sigmoid_concordance: 0.6555 - val_loss: 0.3994 - val_sigmoid_concordance: 0.6045\n",
      "Epoch 98/100\n",
      "1/1 [==============================] - 0s 129ms/step - loss: 0.3487 - sigmoid_concordance: 0.6578 - val_loss: 0.3990 - val_sigmoid_concordance: 0.6047\n",
      "Epoch 99/100\n",
      "1/1 [==============================] - 0s 119ms/step - loss: 0.3563 - sigmoid_concordance: 0.6509 - val_loss: 0.3985 - val_sigmoid_concordance: 0.6051\n",
      "Epoch 100/100\n",
      "1/1 [==============================] - 0s 125ms/step - loss: 0.3503 - sigmoid_concordance: 0.6561 - val_loss: 0.3982 - val_sigmoid_concordance: 0.6055\n"
     ]
    }
   ],
   "source": [
    "outdir = './results/runs/TransferLearningSurvival/'\n",
    "set_seed(0)\n",
    "\n",
    "trainer = Trainer(\n",
    "    from_pretrained='./results/runs/FoundationModel/fold-0_id-0/model.E001000.h5',\n",
    "    out_dir = outdir,\n",
    "    max_features_percentile=max_features_percentile,\n",
    "    test_size=test_size,\n",
    "    mode=mode,\n",
    "    model=SurvivalTransformer, \n",
    "    dataloader=SurvivalDataGenerator,\n",
    "    loss=cindex_loss,\n",
    "    metrics=[cindex_metric]\n",
    ")\n",
    "\n",
    "trainer.setup_data(\n",
    "    data, \n",
    "    discrete_features = [],\n",
    "    continuous_features = features,\n",
    "    target=['time', 'event']\n",
    ")\n",
    "\n",
    "trainer.setup_model(\n",
    "    learning_rate=learning_rate,\n",
    "    embedding_size=embedding_size,\n",
    "    num_heads=num_heads,\n",
    "    num_layers=num_layers,\n",
    "    batch_size_max=True,\n",
    "    save_best_only=False\n",
    ")\n",
    "\n",
    "trainer.fit(repetitions=repetitions, epochs=epochs, verbose=verbose, seed=seed)"
   ]
  },
  {
   "cell_type": "code",
   "execution_count": 11,
   "id": "f2f19618-2c10-4a99-90b8-5f6442bad0d3",
   "metadata": {},
   "outputs": [
    {
     "data": {
      "text/plain": [
       "Text(0, 0.5, 'Cindex loss')"
      ]
     },
     "execution_count": 11,
     "metadata": {},
     "output_type": "execute_result"
    },
    {
     "data": {
      "image/png": "[encoded data removed]",
      "text/plain": [
       "<Figure size 500x400 with 1 Axes>"
      ]
     },
     "metadata": {},
     "output_type": "display_data"
    }
   ],
   "source": [
    "import pandas as pd\n",
    "import matplotlib.pyplot as plt\n",
    "\n",
    "dfh = pd.read_csv(\"./results/runs/TransferLearningSurvival/model.E001000.h5/fold-0_id-0/history.csv\", index_col=0)\n",
    "fig, ax=plt.subplots(figsize=(5,4))\n",
    "dfh[['loss', 'val_loss']].plot(ax=ax)\n",
    "ax.set_ylabel('Cindex loss')"
   ]
  },
  {
   "cell_type": "code",
   "execution_count": null,
   "id": "a569abb2-205a-424a-8894-fbf026fabf11",
   "metadata": {},
   "outputs": [],
   "source": []
  }
 ],
 "metadata": {
  "kernelspec": {
   "display_name": "Python 3 (ipykernel)",
   "language": "python",
   "name": "python3"
  },
  "language_info": {
   "codemirror_mode": {
    "name": "ipython",
    "version": 3
   },
   "file_extension": ".py",
   "mimetype": "text/x-python",
   "name": "python",
   "nbconvert_exporter": "python",
   "pygments_lexer": "ipython3",
   "version": "3.7.16"
  }
 },
 "nbformat": 4,
 "nbformat_minor": 5
}
