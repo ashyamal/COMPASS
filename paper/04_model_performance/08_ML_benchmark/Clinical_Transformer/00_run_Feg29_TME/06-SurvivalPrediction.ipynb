{
 "cells": [
  {
   "cell_type": "markdown",
   "id": "5a0e66b2-86a0-4dda-8ef2-b6451bed47b0",
   "metadata": {},
   "source": [
    "# Model Interpretability and Independent validation using model with transfer learning over independent validation dataset\n",
    "\n",
    "In this notebook we are exploring the results of the clinical transformer to identify the important features (functional groups, feature permutation importance) as well as the impact on survival (Kapplan-Meier curves on the predicted populations). "
   ]
  },
  {
   "cell_type": "code",
   "execution_count": 1,
   "id": "3707bdc7-40b2-403f-9aaa-bf9e6961f4d4",
   "metadata": {
    "tags": []
   },
   "outputs": [],
   "source": [
    "import sys\n",
    "import os\n",
    "os.environ[\"CUDA_VISIBLE_DEVICES\"] = \"-1\"\n",
    "sys.path.append('../codeocean/environment/clinical_transformer/')"
   ]
  },
  {
   "cell_type": "code",
   "execution_count": null,
   "id": "8fc224ef-6a59-4999-aef6-0aa81fca762d",
   "metadata": {
    "tags": []
   },
   "outputs": [],
   "source": []
  },
  {
   "cell_type": "code",
   "execution_count": 2,
   "id": "3a102792-be65-4563-bfe7-95ae50c2edd1",
   "metadata": {
    "tags": []
   },
   "outputs": [
    {
     "name": "stderr",
     "output_type": "stream",
     "text": [
      "2025-08-12 18:59:19.303606: I tensorflow/core/platform/cpu_feature_guard.cc:193] This TensorFlow binary is optimized with oneAPI Deep Neural Network Library (oneDNN) to use the following CPU instructions in performance-critical operations:  AVX2 AVX_VNNI FMA\n",
      "To enable them in other operations, rebuild TensorFlow with the appropriate compiler flags.\n",
      "2025-08-12 18:59:19.359239: I tensorflow/core/util/port.cc:104] oneDNN custom operations are on. You may see slightly different numerical results due to floating-point round-off errors from different computation orders. To turn them off, set the environment variable `TF_ENABLE_ONEDNN_OPTS=0`.\n",
      "2025-08-12 18:59:19.705371: W tensorflow/compiler/xla/stream_executor/platform/default/dso_loader.cc:64] Could not load dynamic library 'libnvinfer.so.7'; dlerror: libnvinfer.so.7: cannot open shared object file: No such file or directory; LD_LIBRARY_PATH: /home/shenwanxiang/anaconda3/lib:\n",
      "2025-08-12 18:59:19.705403: W tensorflow/compiler/xla/stream_executor/platform/default/dso_loader.cc:64] Could not load dynamic library 'libnvinfer_plugin.so.7'; dlerror: libnvinfer_plugin.so.7: cannot open shared object file: No such file or directory; LD_LIBRARY_PATH: /home/shenwanxiang/anaconda3/lib:\n",
      "2025-08-12 18:59:19.705406: W tensorflow/compiler/tf2tensorrt/utils/py_utils.cc:38] TF-TRT Warning: Cannot dlopen some TensorRT libraries. If you would like to use Nvidia GPU with TensorRT, please make sure the missing libraries mentioned above are installed properly.\n",
      "/home/shenwanxiang/.local/lib/python3.7/site-packages/tqdm/auto.py:22: TqdmWarning: IProgress not found. Please update jupyter and ipywidgets. See https://ipywidgets.readthedocs.io/en/stable/user_install.html\n",
      "  from .autonotebook import tqdm as notebook_tqdm\n"
     ]
    }
   ],
   "source": [
    "from xai.models.explainer import TransformerSurvivalEvaluator\n",
    "from xai.models.explainer import survival_attention_scores\n",
    "from xai.models import load_transformer"
   ]
  },
  {
   "cell_type": "code",
   "execution_count": 3,
   "id": "d6ce133d-574d-49ad-8506-312f1a516924",
   "metadata": {
    "tags": []
   },
   "outputs": [],
   "source": [
    "import pandas as pd\n",
    "from samecode.random import set_seed\n",
    "import numpy as np \n",
    "import seaborn as sns\n",
    "from matplotlib import pyplot as plt\n"
   ]
  },
  {
   "cell_type": "markdown",
   "id": "3b1288f5-ce75-4978-b39f-6501092f5b66",
   "metadata": {},
   "source": [
    "## Dataset"
   ]
  },
  {
   "cell_type": "code",
   "execution_count": 4,
   "id": "c1a95db1-7e1f-402c-b86a-71dbab1405b3",
   "metadata": {
    "tags": []
   },
   "outputs": [],
   "source": [
    "data = pd.read_csv('./data/dataset-train.data.csv')\n",
    "data['sample_id'] = data.index\n",
    "features = data.columns[-29:].tolist()"
   ]
  },
  {
   "cell_type": "code",
   "execution_count": 5,
   "id": "443fcfbc-a621-4d1d-9d5f-262064bc441a",
   "metadata": {
    "tags": []
   },
   "outputs": [],
   "source": [
    "path = './results/runs/TransferLearningSurvival/model.E001000.h5/'\n",
    "run = 'fold-0_id-0'\n",
    "sample_id = 'sample_id'\n",
    "epoch = 100"
   ]
  },
  {
   "cell_type": "code",
   "execution_count": 6,
   "id": "bd6dc8a9-0f37-4b2c-b9cb-81698a56bc1d",
   "metadata": {
    "tags": []
   },
   "outputs": [
    {
     "name": "stderr",
     "output_type": "stream",
     "text": [
      "2025-08-12 18:59:24.029372: E tensorflow/compiler/xla/stream_executor/cuda/cuda_driver.cc:267] failed call to cuInit: CUDA_ERROR_NO_DEVICE: no CUDA-capable device is detected\n",
      "2025-08-12 18:59:24.029416: I tensorflow/compiler/xla/stream_executor/cuda/cuda_diagnostics.cc:169] retrieving CUDA diagnostic information for host: wu\n",
      "2025-08-12 18:59:24.029423: I tensorflow/compiler/xla/stream_executor/cuda/cuda_diagnostics.cc:176] hostname: wu\n",
      "2025-08-12 18:59:24.029541: I tensorflow/compiler/xla/stream_executor/cuda/cuda_diagnostics.cc:200] libcuda reported version is: 535.230.2\n",
      "2025-08-12 18:59:24.029570: I tensorflow/compiler/xla/stream_executor/cuda/cuda_diagnostics.cc:204] kernel reported version is: 535.230.2\n",
      "2025-08-12 18:59:24.029575: I tensorflow/compiler/xla/stream_executor/cuda/cuda_diagnostics.cc:310] kernel version seems to match DSO: 535.230.2\n",
      "2025-08-12 18:59:24.030077: I tensorflow/core/platform/cpu_feature_guard.cc:193] This TensorFlow binary is optimized with oneAPI Deep Neural Network Library (oneDNN) to use the following CPU instructions in performance-critical operations:  AVX2 AVX_VNNI FMA\n",
      "To enable them in other operations, rebuild TensorFlow with the appropriate compiler flags.\n"
     ]
    }
   ],
   "source": [
    "trainer = load_transformer(path, run, epoch=epoch)\n",
    "transformed_data = trainer.data_converter.transform(data).reset_index(drop=True)"
   ]
  },
  {
   "cell_type": "code",
   "execution_count": 7,
   "id": "23bcab7c-34dc-469a-92d0-f7dd29749bbd",
   "metadata": {
    "tags": []
   },
   "outputs": [
    {
     "name": "stderr",
     "output_type": "stream",
     "text": [
      "100%|████████████████████████████████████████████████████████████████████████████████| 562/562 [00:01<00:00, 332.59it/s]\n"
     ]
    }
   ],
   "source": [
    "set_seed(0)\n",
    "\n",
    "evaluator = TransformerSurvivalEvaluator(model=trainer)\n",
    "\n",
    "data, outputs, features, patient_ids, iters, attention_scores = survival_attention_scores(\n",
    "    transformed_data, evaluator, iterations=1, sample_id=sample_id\n",
    ")"
   ]
  },
  {
   "cell_type": "markdown",
   "id": "24aa0e20-e9f4-4e72-9e73-9d1249790556",
   "metadata": {
    "tags": []
   },
   "source": [
    "## Survival Analysis"
   ]
  },
  {
   "cell_type": "code",
   "execution_count": 8,
   "id": "44ae9cd1-c029-412b-a518-a4a78b9871bd",
   "metadata": {
    "tags": []
   },
   "outputs": [],
   "source": [
    "from samecode.survival.plot import KMPlot\n",
    "from sklearn.model_selection import train_test_split\n",
    "from lifelines.utils import concordance_index as lfcindex\n",
    "import seaborn as sns"
   ]
  },
  {
   "cell_type": "markdown",
   "id": "20de3814-5eb9-4dd3-99d9-a2a9c29d48de",
   "metadata": {},
   "source": [
    "### Training dataset"
   ]
  },
  {
   "cell_type": "code",
   "execution_count": 9,
   "id": "7868001a-e76b-4df4-a3e6-ac534d194503",
   "metadata": {
    "tags": []
   },
   "outputs": [],
   "source": [
    "data = pd.read_csv('./data/dataset-train.data.csv')\n",
    "data['sample_id'] = data.index"
   ]
  },
  {
   "cell_type": "code",
   "execution_count": 10,
   "id": "b50beea0-6615-433f-acf2-aa92edb6b5b8",
   "metadata": {
    "tags": []
   },
   "outputs": [],
   "source": [
    "transformed_data = trainer.data_converter.transform(data).reset_index(drop=True)"
   ]
  },
  {
   "cell_type": "code",
   "execution_count": 11,
   "id": "0b927b27-7050-490b-a683-91060907d6f8",
   "metadata": {
    "tags": []
   },
   "outputs": [
    {
     "name": "stderr",
     "output_type": "stream",
     "text": [
      "100%|████████████████████████████████████████████████████████████████████████████████| 562/562 [00:01<00:00, 333.43it/s]\n"
     ]
    }
   ],
   "source": [
    "set_seed(0)\n",
    "\n",
    "evaluator = TransformerSurvivalEvaluator(model=trainer)\n",
    "\n",
    "train_data, outputs, features, patient_ids, iters, attention_scores = survival_attention_scores(\n",
    "    transformed_data, evaluator, iterations=1, sample_id=sample_id\n",
    ")"
   ]
  },
  {
   "cell_type": "code",
   "execution_count": 12,
   "id": "3ffa981f-c0cb-427d-9f39-1fe2321c5c8c",
   "metadata": {
    "tags": []
   },
   "outputs": [
    {
     "data": {
      "text/plain": [
       "0.6480073757377998"
      ]
     },
     "execution_count": 12,
     "metadata": {},
     "output_type": "execute_result"
    }
   ],
   "source": [
    "lfcindex(train_data['time'], train_data['β'], train_data['event'])"
   ]
  },
  {
   "cell_type": "markdown",
   "id": "d9dd18b4-ffa4-46d6-8bb5-f5e6d738865f",
   "metadata": {
    "tags": []
   },
   "source": [
    "### Define survival cutoffs"
   ]
  },
  {
   "cell_type": "code",
   "execution_count": 45,
   "id": "fde0dab1-bdaf-421f-8cff-978266eb24ef",
   "metadata": {
    "tags": []
   },
   "outputs": [],
   "source": [
    "median_cutoff = np.quantile(train_data.β, 0.5)"
   ]
  },
  {
   "cell_type": "markdown",
   "id": "e00f87ed-f292-4d1a-86d5-f8e52dd4777e",
   "metadata": {},
   "source": [
    "### Testing dataset"
   ]
  },
  {
   "cell_type": "code",
   "execution_count": 46,
   "id": "957b443a-8bab-47f5-8779-fe751c2e8b79",
   "metadata": {
    "tags": []
   },
   "outputs": [],
   "source": [
    "data = pd.read_csv('./data/dataset-test.data.csv')\n",
    "data['sample_id'] = data.index\n"
   ]
  },
  {
   "cell_type": "code",
   "execution_count": 47,
   "id": "efe33ba5-300f-47be-86da-5500082509af",
   "metadata": {
    "tags": []
   },
   "outputs": [],
   "source": [
    "transformed_data = trainer.data_converter.transform(data).reset_index(drop=True)"
   ]
  },
  {
   "cell_type": "code",
   "execution_count": 48,
   "id": "26b68777-7688-464e-8f50-875941a0faed",
   "metadata": {
    "tags": []
   },
   "outputs": [
    {
     "name": "stderr",
     "output_type": "stream",
     "text": [
      "100%|█████████████████████████████████████████████████████████████████████████████████| 298/298 [00:04<00:00, 64.61it/s]\n"
     ]
    }
   ],
   "source": [
    "set_seed(0)\n",
    "\n",
    "evaluator = TransformerSurvivalEvaluator(model=trainer)\n",
    "\n",
    "test_data, outputs, features, patient_ids, iters, attention_scores = survival_attention_scores(\n",
    "    transformed_data, evaluator, iterations=10, sample_id=sample_id\n",
    ")"
   ]
  },
  {
   "cell_type": "code",
   "execution_count": 49,
   "id": "cdfb1a9b-3392-46e1-b8df-4dfb9107c725",
   "metadata": {
    "tags": []
   },
   "outputs": [],
   "source": [
    "test_data['population'] = (test_data.β >= median_cutoff).replace([False, True], ['Low Score', 'High Score'])\n",
    "train_data['population'] = (train_data.β >= median_cutoff).replace([False, True], ['Low Score', 'High Score'])"
   ]
  },
  {
   "cell_type": "code",
   "execution_count": 50,
   "id": "b1956678-ad88-4883-8532-d0b664737717",
   "metadata": {
    "tags": []
   },
   "outputs": [],
   "source": [
    "from shap.plots import colors\n",
    "colors = [colors.blue_rgb, colors.red_rgb]"
   ]
  },
  {
   "cell_type": "code",
   "execution_count": 51,
   "id": "eada0803-6e23-49e8-9a79-98e1fb419380",
   "metadata": {
    "tags": []
   },
   "outputs": [
    {
     "data": {
      "image/png": "[encoded data removed]",
      "text/plain": [
       "<Figure size 1200x500 with 2 Axes>"
      ]
     },
     "metadata": {},
     "output_type": "display_data"
    }
   ],
   "source": [
    "fig, axs = plt.subplots(ncols=2, nrows=1, figsize = (12,5))\n",
    "KMPlot(train_data, time='time', event='event', label=['population']).plot(ax=axs[0], \n",
    "                                                                          colors = colors, \n",
    "                                                                          title='Training set')\n",
    "KMPlot(test_data, time='time', event='event', label=['population']).plot(ax=axs[1],\n",
    "                                                                         colors = colors, \n",
    "                                                                         title='Testing set')"
   ]
  },
  {
   "cell_type": "code",
   "execution_count": 52,
   "id": "3a98cffc-41a5-4e19-b47e-b162bce2e103",
   "metadata": {
    "tags": []
   },
   "outputs": [
    {
     "data": {
      "text/plain": [
       "0.6480073757377998"
      ]
     },
     "execution_count": 52,
     "metadata": {},
     "output_type": "execute_result"
    }
   ],
   "source": [
    "lfcindex(train_data['time'], train_data['β'], train_data['event'])"
   ]
  },
  {
   "cell_type": "code",
   "execution_count": 53,
   "id": "ee712cc9-a76f-4bbe-86a6-5cd252772783",
   "metadata": {},
   "outputs": [
    {
     "data": {
      "text/plain": [
       "0.5687392102595018"
      ]
     },
     "execution_count": 53,
     "metadata": {},
     "output_type": "execute_result"
    }
   ],
   "source": [
    "lfcindex(test_data['time'], test_data['β'], test_data['event'])"
   ]
  },
  {
   "cell_type": "code",
   "execution_count": null,
   "id": "d41007d8-5f4f-4df0-b8d7-d86eb6ca9bee",
   "metadata": {},
   "outputs": [],
   "source": []
  },
  {
   "cell_type": "code",
   "execution_count": null,
   "id": "a51cbc00-d782-4e80-9f95-690595e2ed5e",
   "metadata": {},
   "outputs": [],
   "source": []
  },
  {
   "cell_type": "code",
   "execution_count": null,
   "id": "c9298aaf-29aa-49c4-a760-3859fa29236b",
   "metadata": {},
   "outputs": [],
   "source": []
  },
  {
   "cell_type": "code",
   "execution_count": null,
   "id": "06f05611-5a59-4206-bbbf-5ee1dd7dfb9d",
   "metadata": {},
   "outputs": [],
   "source": []
  }
 ],
 "metadata": {
  "kernelspec": {
   "display_name": "Python 3 (ipykernel)",
   "language": "python",
   "name": "python3"
  },
  "language_info": {
   "codemirror_mode": {
    "name": "ipython",
    "version": 3
   },
   "file_extension": ".py",
   "mimetype": "text/x-python",
   "name": "python",
   "nbconvert_exporter": "python",
   "pygments_lexer": "ipython3",
   "version": "3.7.16"
  }
 },
 "nbformat": 4,
 "nbformat_minor": 5
}
