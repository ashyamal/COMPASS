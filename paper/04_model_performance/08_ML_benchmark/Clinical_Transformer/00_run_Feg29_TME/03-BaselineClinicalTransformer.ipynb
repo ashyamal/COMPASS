{
 "cells": [
  {
   "cell_type": "markdown",
   "id": "e50684b7-efe5-4d3c-a37c-f3a3f69ecefb",
   "metadata": {},
   "source": [
    "# Train baseline clinical transformer Model for Survival\n",
    "This is the training of the clinical transformer withoug using pre-trained weights from the self uspervised model."
   ]
  },
  {
   "cell_type": "code",
   "execution_count": 1,
   "id": "3550d668-eb43-48de-9bc4-41a9f1219102",
   "metadata": {
    "tags": []
   },
   "outputs": [
    {
     "name": "stderr",
     "output_type": "stream",
     "text": [
      "2025-08-12 18:34:11.529433: I tensorflow/core/platform/cpu_feature_guard.cc:193] This TensorFlow binary is optimized with oneAPI Deep Neural Network Library (oneDNN) to use the following CPU instructions in performance-critical operations:  AVX2 AVX_VNNI FMA\n",
      "To enable them in other operations, rebuild TensorFlow with the appropriate compiler flags.\n",
      "2025-08-12 18:34:11.585523: I tensorflow/core/util/port.cc:104] oneDNN custom operations are on. You may see slightly different numerical results due to floating-point round-off errors from different computation orders. To turn them off, set the environment variable `TF_ENABLE_ONEDNN_OPTS=0`.\n",
      "2025-08-12 18:34:11.935486: W tensorflow/compiler/xla/stream_executor/platform/default/dso_loader.cc:64] Could not load dynamic library 'libnvinfer.so.7'; dlerror: libnvinfer.so.7: cannot open shared object file: No such file or directory; LD_LIBRARY_PATH: /home/shenwanxiang/anaconda3/lib:\n",
      "2025-08-12 18:34:11.935520: W tensorflow/compiler/xla/stream_executor/platform/default/dso_loader.cc:64] Could not load dynamic library 'libnvinfer_plugin.so.7'; dlerror: libnvinfer_plugin.so.7: cannot open shared object file: No such file or directory; LD_LIBRARY_PATH: /home/shenwanxiang/anaconda3/lib:\n",
      "2025-08-12 18:34:11.935523: W tensorflow/compiler/tf2tensorrt/utils/py_utils.cc:38] TF-TRT Warning: Cannot dlopen some TensorRT libraries. If you would like to use Nvidia GPU with TensorRT, please make sure the missing libraries mentioned above are installed properly.\n"
     ]
    },
    {
     "name": "stdout",
     "output_type": "stream",
     "text": [
      "WARNING:tensorflow:From /tmp/ipykernel_1645440/2790295772.py:7: is_gpu_available (from tensorflow.python.framework.test_util) is deprecated and will be removed in a future version.\n",
      "Instructions for updating:\n",
      "Use `tf.config.list_physical_devices('GPU')` instead.\n"
     ]
    },
    {
     "name": "stderr",
     "output_type": "stream",
     "text": [
      "2025-08-12 18:34:12.345262: I tensorflow/core/platform/cpu_feature_guard.cc:193] This TensorFlow binary is optimized with oneAPI Deep Neural Network Library (oneDNN) to use the following CPU instructions in performance-critical operations:  AVX2 AVX_VNNI FMA\n",
      "To enable them in other operations, rebuild TensorFlow with the appropriate compiler flags.\n",
      "2025-08-12 18:34:12.355771: I tensorflow/compiler/xla/stream_executor/cuda/cuda_gpu_executor.cc:981] successful NUMA node read from SysFS had negative value (-1), but there must be at least one NUMA node, so returning NUMA node zero\n",
      "2025-08-12 18:34:12.371944: I tensorflow/compiler/xla/stream_executor/cuda/cuda_gpu_executor.cc:981] successful NUMA node read from SysFS had negative value (-1), but there must be at least one NUMA node, so returning NUMA node zero\n",
      "2025-08-12 18:34:12.372037: I tensorflow/compiler/xla/stream_executor/cuda/cuda_gpu_executor.cc:981] successful NUMA node read from SysFS had negative value (-1), but there must be at least one NUMA node, so returning NUMA node zero\n",
      "2025-08-12 18:34:12.646005: I tensorflow/compiler/xla/stream_executor/cuda/cuda_gpu_executor.cc:981] successful NUMA node read from SysFS had negative value (-1), but there must be at least one NUMA node, so returning NUMA node zero\n",
      "2025-08-12 18:34:12.646125: I tensorflow/compiler/xla/stream_executor/cuda/cuda_gpu_executor.cc:981] successful NUMA node read from SysFS had negative value (-1), but there must be at least one NUMA node, so returning NUMA node zero\n",
      "2025-08-12 18:34:12.646192: I tensorflow/compiler/xla/stream_executor/cuda/cuda_gpu_executor.cc:981] successful NUMA node read from SysFS had negative value (-1), but there must be at least one NUMA node, so returning NUMA node zero\n",
      "2025-08-12 18:34:12.646253: I tensorflow/core/common_runtime/gpu/gpu_device.cc:1613] Created device /device:GPU:0 with 9998 MB memory:  -> device: 0, name: NVIDIA GeForce RTX 3080 Ti, pci bus id: 0000:01:00.0, compute capability: 8.6\n"
     ]
    }
   ],
   "source": [
    "\n",
    "import os\n",
    "os.environ[\"XLA_FLAGS\"] = \"--xla_gpu_cuda_data_dir=/home/shenwanxiang/anaconda3\"\n",
    "\n",
    "os.environ[\"CUDA_VISIBLE_DEVICES\"] = \"0\"\n",
    "\n",
    "import tensorflow as tf\n",
    "tf.test.is_gpu_available()\n",
    "tf.__version__\n",
    "\n",
    "tf.config.run_functions_eagerly(True)\n",
    "\n",
    "import sys\n",
    "sys.path.append('../codeocean/environment/clinical_transformer/')"
   ]
  },
  {
   "cell_type": "code",
   "execution_count": null,
   "id": "4b9ae495-836d-4392-b544-256cb2637aef",
   "metadata": {
    "tags": []
   },
   "outputs": [],
   "source": []
  },
  {
   "cell_type": "code",
   "execution_count": null,
   "id": "aa2b9f77-3900-48f9-a9e0-059bc9bbdc85",
   "metadata": {
    "tags": []
   },
   "outputs": [],
   "source": []
  },
  {
   "cell_type": "code",
   "execution_count": 2,
   "id": "44cfb7ff-599a-4cc9-b5d8-1862588f9e17",
   "metadata": {
    "tags": []
   },
   "outputs": [],
   "source": [
    "from xai.models import Trainer\n",
    "from xai.models import SurvivalTransformer\n",
    "from xai.models import OptimizedSurvivalDataGenerator as SurvivalDataGenerator\n",
    "from xai.losses.survival import cIndex_SigmoidApprox as cindex_loss\n",
    "from xai.metrics.survival import sigmoid_concordance as cindex_metric"
   ]
  },
  {
   "cell_type": "code",
   "execution_count": 3,
   "id": "53a2f5ef-a0a3-4026-ae10-5fc76f259d2f",
   "metadata": {
    "tags": []
   },
   "outputs": [],
   "source": [
    "import pandas as pd\n",
    "from samecode.random import set_seed"
   ]
  },
  {
   "cell_type": "markdown",
   "id": "55c11a38-4905-4378-b35a-b165832e642e",
   "metadata": {},
   "source": [
    "## Dataset"
   ]
  },
  {
   "cell_type": "code",
   "execution_count": 4,
   "id": "c7fb8a34-f209-4845-b461-88ded0cc8960",
   "metadata": {
    "tags": []
   },
   "outputs": [],
   "source": [
    "data = pd.read_csv('./data/dataset-train.data.csv')\n",
    "features = data.columns[-29:].tolist()"
   ]
  },
  {
   "cell_type": "code",
   "execution_count": 5,
   "id": "b588faab-8513-4c2e-bf49-91a2d97ae6c4",
   "metadata": {
    "tags": []
   },
   "outputs": [
    {
     "data": {
      "text/plain": [
       "['Angiogenesis',\n",
       " 'Antitumor cytokines',\n",
       " 'B cells',\n",
       " 'Cancer-associated fibroblasts',\n",
       " 'Checkpoint molecules',\n",
       " 'Co-stimulatory ligands',\n",
       " 'Co-stimulatory receptors',\n",
       " 'Effector cell traffic',\n",
       " 'Effector cells',\n",
       " 'Endothelium',\n",
       " 'Granulocyte traffic',\n",
       " 'Immune Suppression by Myeloid Cells',\n",
       " 'M1 signature',\n",
       " 'MHCI',\n",
       " 'MHCII',\n",
       " 'Macrophage and DC traffic',\n",
       " 'Matrix',\n",
       " 'Matrix remodeling',\n",
       " 'Myeloid cells traffic',\n",
       " 'NK cells',\n",
       " 'Neutrophil signature',\n",
       " 'Protumor cytokines',\n",
       " 'T cells',\n",
       " 'Th1 signature',\n",
       " 'Th2 signature',\n",
       " 'Treg',\n",
       " 'Treg and Th2 traffic',\n",
       " 'Tumor proliferation rate',\n",
       " 'Tumor-associated Macrophages']"
      ]
     },
     "execution_count": 5,
     "metadata": {},
     "output_type": "execute_result"
    }
   ],
   "source": [
    "features"
   ]
  },
  {
   "cell_type": "markdown",
   "id": "95682ddf-9119-45ce-a4cc-28fd3301837c",
   "metadata": {},
   "source": [
    "## Parameters"
   ]
  },
  {
   "cell_type": "code",
   "execution_count": 6,
   "id": "620a7cd2-f645-459d-8d1a-90ad1613045c",
   "metadata": {
    "tags": []
   },
   "outputs": [],
   "source": [
    "max_features_percentile=100\n",
    "test_size=0.3 # fraction of samples used for testing\n",
    "repetitions=1 # number replicates (training / testing) random splits to evaluate variability.\n",
    "\n",
    "mode='survival'\n",
    "learning_rate=0.0001\n",
    "epochs=100\n",
    "verbose=1\n",
    "seed=0\n",
    "embedding_size = 128\n",
    "num_heads = 2\n",
    "num_layers = 2"
   ]
  },
  {
   "cell_type": "markdown",
   "id": "b03f5d7c-eb74-434c-9577-fc107be03e06",
   "metadata": {},
   "source": [
    "## Training"
   ]
  },
  {
   "cell_type": "code",
   "execution_count": 12,
   "id": "536bb595-0472-4982-9947-611a687c2cec",
   "metadata": {
    "tags": []
   },
   "outputs": [
    {
     "name": "stdout",
     "output_type": "stream",
     "text": [
      "/bin/sh: /home/shenwanxiang/anaconda3/lib/libtinfo.so.6: no version information available (required by /bin/sh)\n"
     ]
    }
   ],
   "source": [
    "!rm -r ./results/runs/Survival/"
   ]
  },
  {
   "cell_type": "code",
   "execution_count": 13,
   "id": "15d1a512-a379-407b-896a-060737661c35",
   "metadata": {
    "tags": []
   },
   "outputs": [
    {
     "name": "stderr",
     "output_type": "stream",
     "text": [
      "INFO\t2025-08-12 18:34:31,873\tSetting up working directory: ./results/runs/Survival/\n",
      "INFO\t2025-08-12 18:34:31,877\tNumber of continuous features: 29\n",
      "INFO\t2025-08-12 18:34:31,878\tNumber of discrete features: 0\n",
      "INFO\t2025-08-12 18:34:31,880\tNumber of samples: 562\n",
      "INFO\t2025-08-12 18:34:31,891\tNumber of classes: 1\n",
      "INFO\t2025-08-12 18:34:31,891\tRUN ID: fold-0_id-0\n",
      "INFO\t2025-08-12 18:34:31,892\tRUN ID out directory: ./results/runs/Survival//fold-0_id-0/\n",
      "INFO\t2025-08-12 18:34:31,944\tTraining samples: 393\n",
      "INFO\t2025-08-12 18:34:31,944\tTesting samples: 169\n",
      "INFO\t2025-08-12 18:34:31,947\tNumber of features at 100th percentile: 29 that are non nans\n",
      "2025-08-12 18:34:31.948299: I tensorflow/compiler/xla/stream_executor/cuda/cuda_gpu_executor.cc:981] successful NUMA node read from SysFS had negative value (-1), but there must be at least one NUMA node, so returning NUMA node zero\n",
      "2025-08-12 18:34:31.948450: I tensorflow/compiler/xla/stream_executor/cuda/cuda_gpu_executor.cc:981] successful NUMA node read from SysFS had negative value (-1), but there must be at least one NUMA node, so returning NUMA node zero\n",
      "2025-08-12 18:34:31.948507: I tensorflow/compiler/xla/stream_executor/cuda/cuda_gpu_executor.cc:981] successful NUMA node read from SysFS had negative value (-1), but there must be at least one NUMA node, so returning NUMA node zero\n",
      "2025-08-12 18:34:31.949454: I tensorflow/compiler/xla/stream_executor/cuda/cuda_gpu_executor.cc:981] successful NUMA node read from SysFS had negative value (-1), but there must be at least one NUMA node, so returning NUMA node zero\n",
      "2025-08-12 18:34:31.949547: I tensorflow/compiler/xla/stream_executor/cuda/cuda_gpu_executor.cc:981] successful NUMA node read from SysFS had negative value (-1), but there must be at least one NUMA node, so returning NUMA node zero\n",
      "2025-08-12 18:34:31.949603: I tensorflow/compiler/xla/stream_executor/cuda/cuda_gpu_executor.cc:981] successful NUMA node read from SysFS had negative value (-1), but there must be at least one NUMA node, so returning NUMA node zero\n",
      "2025-08-12 18:34:31.949695: I tensorflow/compiler/xla/stream_executor/cuda/cuda_gpu_executor.cc:981] successful NUMA node read from SysFS had negative value (-1), but there must be at least one NUMA node, so returning NUMA node zero\n",
      "2025-08-12 18:34:31.949751: I tensorflow/compiler/xla/stream_executor/cuda/cuda_gpu_executor.cc:981] successful NUMA node read from SysFS had negative value (-1), but there must be at least one NUMA node, so returning NUMA node zero\n",
      "2025-08-12 18:34:31.949802: I tensorflow/core/common_runtime/gpu/gpu_device.cc:1613] Created device /job:localhost/replica:0/task:0/device:GPU:0 with 9998 MB memory:  -> device: 0, name: NVIDIA GeForce RTX 3080 Ti, pci bus id: 0000:01:00.0, compute capability: 8.6\n"
     ]
    },
    {
     "name": "stdout",
     "output_type": "stream",
     "text": [
      "Epoch 1/100\n",
      "WARNING:tensorflow:AutoGraph could not transform <function cIndex_SigmoidApprox at 0x7fdcd031c3b0> and will run it as-is.\n",
      "Please report this to the TensorFlow team. When filing the bug, set the verbosity to 10 (on Linux, `export AUTOGRAPH_VERBOSITY=10`) and attach the full output.\n",
      "Cause: module 'gast' has no attribute 'Constant'\n",
      "To silence this warning, decorate the function with @tf.autograph.experimental.do_not_convert\n"
     ]
    },
    {
     "name": "stderr",
     "output_type": "stream",
     "text": [
      "2025-08-12 18:34:32.476537: I tensorflow/compiler/xla/stream_executor/cuda/cuda_blas.cc:630] TensorFloat-32 will be used for the matrix multiplication. This will only be logged once.\n",
      "/home/shenwanxiang/anaconda3/envs/IRnet_env/lib/python3.7/site-packages/tensorflow/python/data/ops/structured_function.py:257: UserWarning: Even though the `tf.config.experimental_run_functions_eagerly` option is set, this option does not apply to tf.data functions. To force eager execution of tf.data functions, please use `tf.data.experimental.enable_debug_mode()`.\n",
      "  \"Even though the `tf.config.experimental_run_functions_eagerly` \"\n",
      "WARNING\t2025-08-12 18:34:32,641\tAutoGraph could not transform <function cIndex_SigmoidApprox at 0x7fdcd031c3b0> and will run it as-is.\n",
      "Please report this to the TensorFlow team. When filing the bug, set the verbosity to 10 (on Linux, `export AUTOGRAPH_VERBOSITY=10`) and attach the full output.\n",
      "Cause: module 'gast' has no attribute 'Constant'\n",
      "To silence this warning, decorate the function with @tf.autograph.experimental.do_not_convert\n"
     ]
    },
    {
     "name": "stdout",
     "output_type": "stream",
     "text": [
      "WARNING: AutoGraph could not transform <function cIndex_SigmoidApprox at 0x7fdcd031c3b0> and will run it as-is.\n",
      "Please report this to the TensorFlow team. When filing the bug, set the verbosity to 10 (on Linux, `export AUTOGRAPH_VERBOSITY=10`) and attach the full output.\n",
      "Cause: module 'gast' has no attribute 'Constant'\n",
      "To silence this warning, decorate the function with @tf.autograph.experimental.do_not_convert\n",
      "WARNING:tensorflow:AutoGraph could not transform <function sigmoid_concordance at 0x7fdc92ce2830> and will run it as-is.\n",
      "Please report this to the TensorFlow team. When filing the bug, set the verbosity to 10 (on Linux, `export AUTOGRAPH_VERBOSITY=10`) and attach the full output.\n",
      "Cause: module 'gast' has no attribute 'Constant'\n",
      "To silence this warning, decorate the function with @tf.autograph.experimental.do_not_convert\n"
     ]
    },
    {
     "name": "stderr",
     "output_type": "stream",
     "text": [
      "WARNING\t2025-08-12 18:34:32,743\tAutoGraph could not transform <function sigmoid_concordance at 0x7fdc92ce2830> and will run it as-is.\n",
      "Please report this to the TensorFlow team. When filing the bug, set the verbosity to 10 (on Linux, `export AUTOGRAPH_VERBOSITY=10`) and attach the full output.\n",
      "Cause: module 'gast' has no attribute 'Constant'\n",
      "To silence this warning, decorate the function with @tf.autograph.experimental.do_not_convert\n"
     ]
    },
    {
     "name": "stdout",
     "output_type": "stream",
     "text": [
      "WARNING: AutoGraph could not transform <function sigmoid_concordance at 0x7fdc92ce2830> and will run it as-is.\n",
      "Please report this to the TensorFlow team. When filing the bug, set the verbosity to 10 (on Linux, `export AUTOGRAPH_VERBOSITY=10`) and attach the full output.\n",
      "Cause: module 'gast' has no attribute 'Constant'\n",
      "To silence this warning, decorate the function with @tf.autograph.experimental.do_not_convert\n",
      "1/1 [==============================] - 0s 264ms/step - loss: 0.5020 - sigmoid_concordance: 0.4927 - val_loss: 0.4982 - val_sigmoid_concordance: 0.5177\n",
      "Epoch 2/100\n",
      "1/1 [==============================] - 0s 121ms/step - loss: 0.5082 - sigmoid_concordance: 0.4844 - val_loss: 0.4963 - val_sigmoid_concordance: 0.5237\n",
      "Epoch 3/100\n",
      "1/1 [==============================] - 0s 139ms/step - loss: 0.5032 - sigmoid_concordance: 0.4994 - val_loss: 0.4947 - val_sigmoid_concordance: 0.5264\n",
      "Epoch 4/100\n",
      "1/1 [==============================] - 0s 126ms/step - loss: 0.4865 - sigmoid_concordance: 0.5226 - val_loss: 0.4930 - val_sigmoid_concordance: 0.5271\n",
      "Epoch 5/100\n",
      "1/1 [==============================] - 0s 125ms/step - loss: 0.4924 - sigmoid_concordance: 0.5201 - val_loss: 0.4914 - val_sigmoid_concordance: 0.5277\n",
      "Epoch 6/100\n",
      "1/1 [==============================] - 0s 123ms/step - loss: 0.5064 - sigmoid_concordance: 0.4846 - val_loss: 0.4900 - val_sigmoid_concordance: 0.5273\n",
      "Epoch 7/100\n",
      "1/1 [==============================] - 0s 141ms/step - loss: 0.4910 - sigmoid_concordance: 0.5142 - val_loss: 0.4885 - val_sigmoid_concordance: 0.5276\n",
      "Epoch 8/100\n",
      "1/1 [==============================] - 0s 122ms/step - loss: 0.4809 - sigmoid_concordance: 0.5306 - val_loss: 0.4870 - val_sigmoid_concordance: 0.5279\n",
      "Epoch 9/100\n",
      "1/1 [==============================] - 0s 122ms/step - loss: 0.5010 - sigmoid_concordance: 0.4936 - val_loss: 0.4855 - val_sigmoid_concordance: 0.5282\n",
      "Epoch 10/100\n",
      "1/1 [==============================] - 0s 124ms/step - loss: 0.4787 - sigmoid_concordance: 0.5427 - val_loss: 0.4841 - val_sigmoid_concordance: 0.5298\n",
      "Epoch 11/100\n",
      "1/1 [==============================] - 0s 124ms/step - loss: 0.4940 - sigmoid_concordance: 0.5086 - val_loss: 0.4826 - val_sigmoid_concordance: 0.5300\n",
      "Epoch 12/100\n",
      "1/1 [==============================] - 0s 130ms/step - loss: 0.4830 - sigmoid_concordance: 0.5278 - val_loss: 0.4812 - val_sigmoid_concordance: 0.5306\n",
      "Epoch 13/100\n",
      "1/1 [==============================] - 0s 124ms/step - loss: 0.4573 - sigmoid_concordance: 0.5781 - val_loss: 0.4797 - val_sigmoid_concordance: 0.5308\n",
      "Epoch 14/100\n",
      "1/1 [==============================] - 0s 132ms/step - loss: 0.4670 - sigmoid_concordance: 0.5567 - val_loss: 0.4782 - val_sigmoid_concordance: 0.5312\n",
      "Epoch 15/100\n",
      "1/1 [==============================] - 0s 121ms/step - loss: 0.4598 - sigmoid_concordance: 0.5684 - val_loss: 0.4768 - val_sigmoid_concordance: 0.5320\n",
      "Epoch 16/100\n",
      "1/1 [==============================] - 0s 127ms/step - loss: 0.4580 - sigmoid_concordance: 0.5669 - val_loss: 0.4754 - val_sigmoid_concordance: 0.5329\n",
      "Epoch 17/100\n",
      "1/1 [==============================] - 0s 125ms/step - loss: 0.4505 - sigmoid_concordance: 0.5797 - val_loss: 0.4740 - val_sigmoid_concordance: 0.5333\n",
      "Epoch 18/100\n",
      "1/1 [==============================] - 0s 122ms/step - loss: 0.4486 - sigmoid_concordance: 0.5858 - val_loss: 0.4726 - val_sigmoid_concordance: 0.5337\n",
      "Epoch 19/100\n",
      "1/1 [==============================] - 0s 121ms/step - loss: 0.4413 - sigmoid_concordance: 0.5934 - val_loss: 0.4712 - val_sigmoid_concordance: 0.5353\n",
      "Epoch 20/100\n",
      "1/1 [==============================] - 0s 122ms/step - loss: 0.4504 - sigmoid_concordance: 0.5743 - val_loss: 0.4699 - val_sigmoid_concordance: 0.5358\n",
      "Epoch 21/100\n",
      "1/1 [==============================] - 0s 123ms/step - loss: 0.4470 - sigmoid_concordance: 0.5799 - val_loss: 0.4686 - val_sigmoid_concordance: 0.5368\n",
      "Epoch 22/100\n",
      "1/1 [==============================] - 0s 129ms/step - loss: 0.4325 - sigmoid_concordance: 0.6027 - val_loss: 0.4674 - val_sigmoid_concordance: 0.5373\n",
      "Epoch 23/100\n",
      "1/1 [==============================] - 0s 125ms/step - loss: 0.4426 - sigmoid_concordance: 0.5866 - val_loss: 0.4662 - val_sigmoid_concordance: 0.5375\n",
      "Epoch 24/100\n",
      "1/1 [==============================] - 0s 137ms/step - loss: 0.4320 - sigmoid_concordance: 0.6002 - val_loss: 0.4650 - val_sigmoid_concordance: 0.5383\n",
      "Epoch 25/100\n",
      "1/1 [==============================] - 0s 130ms/step - loss: 0.4495 - sigmoid_concordance: 0.5695 - val_loss: 0.4638 - val_sigmoid_concordance: 0.5391\n",
      "Epoch 26/100\n",
      "1/1 [==============================] - 0s 129ms/step - loss: 0.4301 - sigmoid_concordance: 0.5979 - val_loss: 0.4627 - val_sigmoid_concordance: 0.5402\n",
      "Epoch 27/100\n",
      "1/1 [==============================] - 0s 124ms/step - loss: 0.4387 - sigmoid_concordance: 0.5806 - val_loss: 0.4618 - val_sigmoid_concordance: 0.5412\n",
      "Epoch 28/100\n",
      "1/1 [==============================] - 0s 123ms/step - loss: 0.4280 - sigmoid_concordance: 0.5954 - val_loss: 0.4609 - val_sigmoid_concordance: 0.5418\n",
      "Epoch 29/100\n",
      "1/1 [==============================] - 0s 122ms/step - loss: 0.4358 - sigmoid_concordance: 0.5826 - val_loss: 0.4601 - val_sigmoid_concordance: 0.5431\n",
      "Epoch 30/100\n",
      "1/1 [==============================] - 0s 120ms/step - loss: 0.4250 - sigmoid_concordance: 0.5957 - val_loss: 0.4593 - val_sigmoid_concordance: 0.5436\n",
      "Epoch 31/100\n",
      "1/1 [==============================] - 0s 131ms/step - loss: 0.4247 - sigmoid_concordance: 0.5966 - val_loss: 0.4586 - val_sigmoid_concordance: 0.5447\n",
      "Epoch 32/100\n",
      "1/1 [==============================] - 0s 128ms/step - loss: 0.4294 - sigmoid_concordance: 0.5911 - val_loss: 0.4579 - val_sigmoid_concordance: 0.5456\n",
      "Epoch 33/100\n",
      "1/1 [==============================] - 0s 135ms/step - loss: 0.4126 - sigmoid_concordance: 0.6078 - val_loss: 0.4572 - val_sigmoid_concordance: 0.5456\n",
      "Epoch 34/100\n",
      "1/1 [==============================] - 0s 129ms/step - loss: 0.4107 - sigmoid_concordance: 0.6093 - val_loss: 0.4566 - val_sigmoid_concordance: 0.5467\n",
      "Epoch 35/100\n",
      "1/1 [==============================] - 0s 130ms/step - loss: 0.4154 - sigmoid_concordance: 0.6073 - val_loss: 0.4560 - val_sigmoid_concordance: 0.5476\n",
      "Epoch 36/100\n",
      "1/1 [==============================] - 0s 126ms/step - loss: 0.4151 - sigmoid_concordance: 0.6020 - val_loss: 0.4555 - val_sigmoid_concordance: 0.5479\n",
      "Epoch 37/100\n",
      "1/1 [==============================] - 0s 122ms/step - loss: 0.4194 - sigmoid_concordance: 0.5966 - val_loss: 0.4548 - val_sigmoid_concordance: 0.5488\n",
      "Epoch 38/100\n",
      "1/1 [==============================] - 0s 123ms/step - loss: 0.4080 - sigmoid_concordance: 0.6083 - val_loss: 0.4541 - val_sigmoid_concordance: 0.5503\n",
      "Epoch 39/100\n",
      "1/1 [==============================] - 0s 120ms/step - loss: 0.4212 - sigmoid_concordance: 0.5906 - val_loss: 0.4535 - val_sigmoid_concordance: 0.5506\n",
      "Epoch 40/100\n",
      "1/1 [==============================] - 0s 137ms/step - loss: 0.4201 - sigmoid_concordance: 0.5919 - val_loss: 0.4528 - val_sigmoid_concordance: 0.5517\n",
      "Epoch 41/100\n",
      "1/1 [==============================] - 0s 126ms/step - loss: 0.4110 - sigmoid_concordance: 0.6039 - val_loss: 0.4521 - val_sigmoid_concordance: 0.5526\n",
      "Epoch 42/100\n",
      "1/1 [==============================] - 0s 132ms/step - loss: 0.4145 - sigmoid_concordance: 0.5982 - val_loss: 0.4514 - val_sigmoid_concordance: 0.5539\n",
      "Epoch 43/100\n",
      "1/1 [==============================] - 0s 127ms/step - loss: 0.3983 - sigmoid_concordance: 0.6166 - val_loss: 0.4509 - val_sigmoid_concordance: 0.5552\n",
      "Epoch 44/100\n",
      "1/1 [==============================] - 0s 123ms/step - loss: 0.3950 - sigmoid_concordance: 0.6201 - val_loss: 0.4503 - val_sigmoid_concordance: 0.5563\n",
      "Epoch 45/100\n",
      "1/1 [==============================] - 0s 126ms/step - loss: 0.3959 - sigmoid_concordance: 0.6170 - val_loss: 0.4498 - val_sigmoid_concordance: 0.5568\n",
      "Epoch 46/100\n",
      "1/1 [==============================] - 0s 121ms/step - loss: 0.4218 - sigmoid_concordance: 0.5879 - val_loss: 0.4494 - val_sigmoid_concordance: 0.5568\n",
      "Epoch 47/100\n",
      "1/1 [==============================] - 0s 132ms/step - loss: 0.4068 - sigmoid_concordance: 0.6039 - val_loss: 0.4490 - val_sigmoid_concordance: 0.5573\n",
      "Epoch 48/100\n",
      "1/1 [==============================] - 0s 122ms/step - loss: 0.3943 - sigmoid_concordance: 0.6192 - val_loss: 0.4488 - val_sigmoid_concordance: 0.5582\n",
      "Epoch 49/100\n",
      "1/1 [==============================] - 0s 123ms/step - loss: 0.3960 - sigmoid_concordance: 0.6157 - val_loss: 0.4486 - val_sigmoid_concordance: 0.5588\n",
      "Epoch 50/100\n",
      "1/1 [==============================] - 0s 123ms/step - loss: 0.3936 - sigmoid_concordance: 0.6163 - val_loss: 0.4483 - val_sigmoid_concordance: 0.5590\n",
      "Epoch 51/100\n",
      "1/1 [==============================] - 0s 121ms/step - loss: 0.3916 - sigmoid_concordance: 0.6193 - val_loss: 0.4480 - val_sigmoid_concordance: 0.5586\n",
      "Epoch 52/100\n",
      "1/1 [==============================] - 0s 140ms/step - loss: 0.3939 - sigmoid_concordance: 0.6167 - val_loss: 0.4478 - val_sigmoid_concordance: 0.5586\n",
      "Epoch 53/100\n",
      "1/1 [==============================] - 0s 140ms/step - loss: 0.3977 - sigmoid_concordance: 0.6110 - val_loss: 0.4475 - val_sigmoid_concordance: 0.5593\n",
      "Epoch 54/100\n",
      "1/1 [==============================] - 0s 155ms/step - loss: 0.3865 - sigmoid_concordance: 0.6243 - val_loss: 0.4474 - val_sigmoid_concordance: 0.5606\n",
      "Epoch 55/100\n",
      "1/1 [==============================] - 0s 126ms/step - loss: 0.3923 - sigmoid_concordance: 0.6182 - val_loss: 0.4472 - val_sigmoid_concordance: 0.5610\n",
      "Epoch 56/100\n",
      "1/1 [==============================] - 0s 122ms/step - loss: 0.4009 - sigmoid_concordance: 0.6066 - val_loss: 0.4471 - val_sigmoid_concordance: 0.5609\n",
      "Epoch 57/100\n",
      "1/1 [==============================] - 0s 123ms/step - loss: 0.3901 - sigmoid_concordance: 0.6181 - val_loss: 0.4470 - val_sigmoid_concordance: 0.5610\n",
      "Epoch 58/100\n",
      "1/1 [==============================] - 0s 124ms/step - loss: 0.3792 - sigmoid_concordance: 0.6293 - val_loss: 0.4469 - val_sigmoid_concordance: 0.5614\n",
      "Epoch 59/100\n",
      "1/1 [==============================] - 0s 122ms/step - loss: 0.3815 - sigmoid_concordance: 0.6274 - val_loss: 0.4468 - val_sigmoid_concordance: 0.5618\n",
      "Epoch 60/100\n",
      "1/1 [==============================] - 0s 124ms/step - loss: 0.3847 - sigmoid_concordance: 0.6224 - val_loss: 0.4468 - val_sigmoid_concordance: 0.5621\n",
      "Epoch 61/100\n",
      "1/1 [==============================] - 0s 121ms/step - loss: 0.3851 - sigmoid_concordance: 0.6230 - val_loss: 0.4468 - val_sigmoid_concordance: 0.5627\n",
      "Epoch 62/100\n",
      "1/1 [==============================] - 0s 130ms/step - loss: 0.3704 - sigmoid_concordance: 0.6396 - val_loss: 0.4468 - val_sigmoid_concordance: 0.5626\n",
      "Epoch 63/100\n",
      "1/1 [==============================] - 0s 121ms/step - loss: 0.3865 - sigmoid_concordance: 0.6218 - val_loss: 0.4468 - val_sigmoid_concordance: 0.5623\n",
      "Epoch 64/100\n",
      "1/1 [==============================] - 0s 133ms/step - loss: 0.3855 - sigmoid_concordance: 0.6210 - val_loss: 0.4468 - val_sigmoid_concordance: 0.5622\n",
      "Epoch 65/100\n",
      "1/1 [==============================] - 0s 123ms/step - loss: 0.3717 - sigmoid_concordance: 0.6368 - val_loss: 0.4467 - val_sigmoid_concordance: 0.5625\n",
      "Epoch 66/100\n",
      "1/1 [==============================] - 0s 130ms/step - loss: 0.3706 - sigmoid_concordance: 0.6392 - val_loss: 0.4465 - val_sigmoid_concordance: 0.5628\n",
      "Epoch 67/100\n",
      "1/1 [==============================] - 0s 122ms/step - loss: 0.3831 - sigmoid_concordance: 0.6243 - val_loss: 0.4463 - val_sigmoid_concordance: 0.5624\n",
      "Epoch 68/100\n",
      "1/1 [==============================] - 0s 128ms/step - loss: 0.3861 - sigmoid_concordance: 0.6209 - val_loss: 0.4461 - val_sigmoid_concordance: 0.5631\n",
      "Epoch 69/100\n",
      "1/1 [==============================] - 0s 121ms/step - loss: 0.3787 - sigmoid_concordance: 0.6296 - val_loss: 0.4459 - val_sigmoid_concordance: 0.5629\n",
      "Epoch 70/100\n",
      "1/1 [==============================] - 0s 132ms/step - loss: 0.3752 - sigmoid_concordance: 0.6327 - val_loss: 0.4457 - val_sigmoid_concordance: 0.5630\n",
      "Epoch 71/100\n",
      "1/1 [==============================] - 0s 123ms/step - loss: 0.3772 - sigmoid_concordance: 0.6292 - val_loss: 0.4455 - val_sigmoid_concordance: 0.5631\n",
      "Epoch 72/100\n",
      "1/1 [==============================] - 0s 122ms/step - loss: 0.3702 - sigmoid_concordance: 0.6371 - val_loss: 0.4453 - val_sigmoid_concordance: 0.5639\n",
      "Epoch 73/100\n",
      "1/1 [==============================] - 0s 121ms/step - loss: 0.3791 - sigmoid_concordance: 0.6275 - val_loss: 0.4452 - val_sigmoid_concordance: 0.5643\n",
      "Epoch 74/100\n",
      "1/1 [==============================] - 0s 121ms/step - loss: 0.3755 - sigmoid_concordance: 0.6310 - val_loss: 0.4450 - val_sigmoid_concordance: 0.5645\n",
      "Epoch 75/100\n",
      "1/1 [==============================] - 0s 130ms/step - loss: 0.3770 - sigmoid_concordance: 0.6303 - val_loss: 0.4447 - val_sigmoid_concordance: 0.5645\n",
      "Epoch 76/100\n",
      "1/1 [==============================] - 0s 128ms/step - loss: 0.3743 - sigmoid_concordance: 0.6318 - val_loss: 0.4445 - val_sigmoid_concordance: 0.5653\n",
      "Epoch 77/100\n",
      "1/1 [==============================] - 0s 122ms/step - loss: 0.3705 - sigmoid_concordance: 0.6363 - val_loss: 0.4441 - val_sigmoid_concordance: 0.5656\n",
      "Epoch 78/100\n",
      "1/1 [==============================] - 0s 130ms/step - loss: 0.3809 - sigmoid_concordance: 0.6238 - val_loss: 0.4439 - val_sigmoid_concordance: 0.5657\n",
      "Epoch 79/100\n",
      "1/1 [==============================] - 0s 122ms/step - loss: 0.3728 - sigmoid_concordance: 0.6332 - val_loss: 0.4436 - val_sigmoid_concordance: 0.5660\n",
      "Epoch 80/100\n",
      "1/1 [==============================] - 0s 123ms/step - loss: 0.3678 - sigmoid_concordance: 0.6385 - val_loss: 0.4432 - val_sigmoid_concordance: 0.5655\n",
      "Epoch 81/100\n",
      "1/1 [==============================] - 0s 124ms/step - loss: 0.3733 - sigmoid_concordance: 0.6336 - val_loss: 0.4429 - val_sigmoid_concordance: 0.5653\n",
      "Epoch 82/100\n",
      "1/1 [==============================] - 0s 123ms/step - loss: 0.3668 - sigmoid_concordance: 0.6396 - val_loss: 0.4425 - val_sigmoid_concordance: 0.5667\n",
      "Epoch 83/100\n",
      "1/1 [==============================] - 0s 126ms/step - loss: 0.3668 - sigmoid_concordance: 0.6394 - val_loss: 0.4422 - val_sigmoid_concordance: 0.5675\n",
      "Epoch 84/100\n",
      "1/1 [==============================] - 0s 121ms/step - loss: 0.3663 - sigmoid_concordance: 0.6394 - val_loss: 0.4419 - val_sigmoid_concordance: 0.5682\n",
      "Epoch 85/100\n",
      "1/1 [==============================] - 0s 131ms/step - loss: 0.3761 - sigmoid_concordance: 0.6302 - val_loss: 0.4417 - val_sigmoid_concordance: 0.5684\n",
      "Epoch 86/100\n",
      "1/1 [==============================] - 0s 141ms/step - loss: 0.3740 - sigmoid_concordance: 0.6320 - val_loss: 0.4414 - val_sigmoid_concordance: 0.5691\n",
      "Epoch 87/100\n",
      "1/1 [==============================] - 0s 122ms/step - loss: 0.3683 - sigmoid_concordance: 0.6368 - val_loss: 0.4411 - val_sigmoid_concordance: 0.5697\n",
      "Epoch 88/100\n",
      "1/1 [==============================] - 0s 122ms/step - loss: 0.3627 - sigmoid_concordance: 0.6445 - val_loss: 0.4408 - val_sigmoid_concordance: 0.5695\n",
      "Epoch 89/100\n",
      "1/1 [==============================] - 0s 122ms/step - loss: 0.3608 - sigmoid_concordance: 0.6460 - val_loss: 0.4405 - val_sigmoid_concordance: 0.5711\n",
      "Epoch 90/100\n",
      "1/1 [==============================] - 0s 121ms/step - loss: 0.3665 - sigmoid_concordance: 0.6395 - val_loss: 0.4402 - val_sigmoid_concordance: 0.5712\n",
      "Epoch 91/100\n",
      "1/1 [==============================] - 0s 122ms/step - loss: 0.3642 - sigmoid_concordance: 0.6425 - val_loss: 0.4399 - val_sigmoid_concordance: 0.5716\n",
      "Epoch 92/100\n",
      "1/1 [==============================] - 0s 124ms/step - loss: 0.3666 - sigmoid_concordance: 0.6397 - val_loss: 0.4395 - val_sigmoid_concordance: 0.5720\n",
      "Epoch 93/100\n",
      "1/1 [==============================] - 0s 124ms/step - loss: 0.3697 - sigmoid_concordance: 0.6369 - val_loss: 0.4392 - val_sigmoid_concordance: 0.5721\n",
      "Epoch 94/100\n",
      "1/1 [==============================] - 0s 126ms/step - loss: 0.3656 - sigmoid_concordance: 0.6408 - val_loss: 0.4388 - val_sigmoid_concordance: 0.5725\n",
      "Epoch 95/100\n",
      "1/1 [==============================] - 0s 138ms/step - loss: 0.3670 - sigmoid_concordance: 0.6386 - val_loss: 0.4385 - val_sigmoid_concordance: 0.5727\n",
      "Epoch 96/100\n",
      "1/1 [==============================] - 0s 121ms/step - loss: 0.3714 - sigmoid_concordance: 0.6350 - val_loss: 0.4382 - val_sigmoid_concordance: 0.5741\n",
      "Epoch 97/100\n",
      "1/1 [==============================] - 0s 135ms/step - loss: 0.3771 - sigmoid_concordance: 0.6285 - val_loss: 0.4379 - val_sigmoid_concordance: 0.5748\n",
      "Epoch 98/100\n",
      "1/1 [==============================] - 0s 121ms/step - loss: 0.3602 - sigmoid_concordance: 0.6487 - val_loss: 0.4376 - val_sigmoid_concordance: 0.5753\n",
      "Epoch 99/100\n",
      "1/1 [==============================] - 0s 124ms/step - loss: 0.3751 - sigmoid_concordance: 0.6313 - val_loss: 0.4374 - val_sigmoid_concordance: 0.5753\n",
      "Epoch 100/100\n",
      "1/1 [==============================] - 0s 133ms/step - loss: 0.3707 - sigmoid_concordance: 0.6350 - val_loss: 0.4369 - val_sigmoid_concordance: 0.5759\n"
     ]
    }
   ],
   "source": [
    "outdir = './results/runs/Survival/'\n",
    "set_seed(0)\n",
    "\n",
    "trainer = Trainer(\n",
    "    out_dir = outdir,\n",
    "    max_features_percentile=max_features_percentile,\n",
    "    test_size=test_size,\n",
    "    mode=mode,\n",
    "    model=SurvivalTransformer, \n",
    "    dataloader=SurvivalDataGenerator,\n",
    "    loss=cindex_loss,\n",
    "    metrics=[cindex_metric]\n",
    ")\n",
    "\n",
    "trainer.setup_data(\n",
    "    data, \n",
    "    discrete_features = [],\n",
    "    continuous_features = features,\n",
    "    target=['time', 'event']\n",
    ")\n",
    "\n",
    "trainer.setup_model(\n",
    "    learning_rate=learning_rate,\n",
    "    embedding_size=embedding_size,\n",
    "    num_heads=num_heads,\n",
    "    num_layers=num_layers,\n",
    "    batch_size_max=True,\n",
    "    save_best_only=False\n",
    ")\n",
    "\n",
    "trainer.fit(repetitions=repetitions, epochs=epochs, verbose=verbose, seed=seed)"
   ]
  },
  {
   "cell_type": "code",
   "execution_count": 14,
   "id": "d31fbdd8-afca-4157-aa00-6a7fef344715",
   "metadata": {},
   "outputs": [
    {
     "data": {
      "text/plain": [
       "Text(0, 0.5, 'Cindex loss')"
      ]
     },
     "execution_count": 14,
     "metadata": {},
     "output_type": "execute_result"
    },
    {
     "data": {
      "image/png": "[encoded data removed]",
      "text/plain": [
       "<Figure size 500x400 with 1 Axes>"
      ]
     },
     "metadata": {},
     "output_type": "display_data"
    }
   ],
   "source": [
    "import pandas as pd\n",
    "import matplotlib.pyplot as plt\n",
    "\n",
    "dfh = pd.read_csv(\"./results/runs/Survival///fold-0_id-0/history.csv\", index_col=0)\n",
    "fig, ax=plt.subplots(figsize=(5,4))\n",
    "dfh[['loss', 'val_loss']].plot(ax=ax)\n",
    "ax.set_ylabel('Cindex loss')"
   ]
  },
  {
   "cell_type": "code",
   "execution_count": null,
   "id": "401fe089-6418-44f6-99bf-9dbbaa72982a",
   "metadata": {},
   "outputs": [],
   "source": []
  },
  {
   "cell_type": "code",
   "execution_count": null,
   "id": "9d040cf8-81eb-48c0-a33e-31184365b874",
   "metadata": {},
   "outputs": [],
   "source": []
  },
  {
   "cell_type": "code",
   "execution_count": null,
   "id": "bb298fe9-5cc7-4377-8933-d9f38effe9b6",
   "metadata": {},
   "outputs": [],
   "source": []
  }
 ],
 "metadata": {
  "kernelspec": {
   "display_name": "Python 3 (ipykernel)",
   "language": "python",
   "name": "python3"
  },
  "language_info": {
   "codemirror_mode": {
    "name": "ipython",
    "version": 3
   },
   "file_extension": ".py",
   "mimetype": "text/x-python",
   "name": "python",
   "nbconvert_exporter": "python",
   "pygments_lexer": "ipython3",
   "version": "3.7.16"
  }
 },
 "nbformat": 4,
 "nbformat_minor": 5
}
