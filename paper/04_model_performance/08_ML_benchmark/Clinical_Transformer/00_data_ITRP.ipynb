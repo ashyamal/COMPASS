{
 "cells": [
  {
   "cell_type": "code",
   "execution_count": 1,
   "id": "db307829-5274-402f-aa25-1874e97d5b4f",
   "metadata": {
    "tags": []
   },
   "outputs": [
    {
     "name": "stderr",
     "output_type": "stream",
     "text": [
      "/home/shenwanxiang/anaconda3/envs/compass/lib/python3.8/site-packages/tqdm/auto.py:21: TqdmWarning: IProgress not found. Please update jupyter and ipywidgets. See https://ipywidgets.readthedocs.io/en/stable/user_install.html\n",
      "  from .autonotebook import tqdm as notebook_tqdm\n"
     ]
    }
   ],
   "source": [
    "import pandas as pd\n",
    "import sys,os\n",
    "from tqdm import tqdm\n",
    "sys.path.insert(0, '/home/shenwanxiang/Research/aliyun_sync/COMPASS/')\n",
    "from baseline.immnue_score.scorer import ssGSEA\n",
    "\n",
    "from compass.utils import plot_embed_with_label\n",
    "from compass import PreTrainer, FineTuner, loadcompass #, get_minmal_epoch\n",
    "from compass.utils import plot_embed_with_label,plot_performance, score2\n",
    "from compass.tokenizer import CANCER_CODE, CONCEPT"
   ]
  },
  {
   "cell_type": "code",
   "execution_count": 2,
   "id": "a55e9c01-dd8f-4aad-98fc-27dda4ddf13e",
   "metadata": {},
   "outputs": [],
   "source": [
    "data_path = '/home/shenwanxiang/Research/aliyun_sync/COMPASS/paper/00_data/'\n",
    "df_label = pd.read_pickle(os.path.join(data_path, 'ITRP.PATIENT.TABLE.ALIGN'))\n",
    "df_tpm = pd.read_pickle(os.path.join(data_path, 'ITRP.TPM.TABLE'))\n",
    "df_tpm.shape, df_label.shape\n",
    "\n",
    "dfcx = df_label.cancer_type.map(CANCER_CODE).to_frame('cancer_code').join(df_tpm)"
   ]
  },
  {
   "cell_type": "code",
   "execution_count": 8,
   "id": "2d682819-c9bd-4070-9b51-85891a15359a",
   "metadata": {},
   "outputs": [],
   "source": [
    "df_label.to_csv('./data/ITRP_clinical.csv')"
   ]
  },
  {
   "cell_type": "code",
   "execution_count": null,
   "id": "d7fac360-dcb2-4be0-a392-7f27601b1e63",
   "metadata": {},
   "outputs": [],
   "source": [
    "gmt29  = pd.read_excel('./Fges_29_gmt.xlsx',sheet_name= 'Gene Description',skiprows=1)\n",
    "gmt29 = gmt29.groupby(['Gene signature']).Gene.apply(lambda x:x.tolist())\n",
    "\n",
    "res=[]\n",
    "for name, g_list in tqdm(gmt29.items()):\n",
    "    gsea = ssGSEA(g_list, name)\n",
    "    score = gsea.fit_transform(df_tpm)\n",
    "    res.append(score) \n",
    "\n",
    "dfc = pd.concat(res,axis=1)\n",
    "dfc.columns = dfc.columns.map(lambda x:x.replace('NES_', ''))\n",
    "dfc.loc[df_label.index].to_csv('./data/ITRP_ssGSEA_Fegs29.csv')"
   ]
  },
  {
   "cell_type": "code",
   "execution_count": 41,
   "id": "ef49d5c1-1998-4875-bdba-89116ff9cb37",
   "metadata": {},
   "outputs": [
    {
     "name": "stderr",
     "output_type": "stream",
     "text": [
      "43it [06:22,  8.88s/it]\n"
     ]
    }
   ],
   "source": [
    "def _connect(x):\n",
    "    from itertools import chain\n",
    "    return list(set(chain(*[i.split(':') for i in x])))\n",
    "    \n",
    "concept_genes = CONCEPT.groupby('BroadCelltypePathway').Genes.apply(lambda x:x.tolist()).apply(_connect)\n",
    "\n",
    "res=[]\n",
    "for name, g_list in tqdm(concept_genes.items()):\n",
    "    gsea = ssGSEA(g_list, name)\n",
    "    score = gsea.fit_transform(df_tpm)\n",
    "    res.append(score) \n",
    "\n",
    "dfc = pd.concat(res,axis=1)\n",
    "dfc.columns = dfc.columns.map(lambda x:x.replace('NES_', ''))\n",
    "dfc = dfc[CONCEPT.groupby('BroadCelltypePathway').Concept_index.mean().sort_values().index]\n",
    "dfc.loc[df_label.index].to_csv('./data/ITRP_ssGSEA_concept43.csv')"
   ]
  },
  {
   "cell_type": "code",
   "execution_count": 52,
   "id": "37aa0d91-b4d1-437a-9fab-447ea9013b2f",
   "metadata": {},
   "outputs": [
    {
     "name": "stderr",
     "output_type": "stream",
     "text": [
      "100%|#####################################################################################| 9/9 [00:28<00:00,  3.21s/it]\n"
     ]
    }
   ],
   "source": [
    "pretrainer = loadcompass('../../../checkpoint/latest/pretrainer.pt', map_location = 'cpu')\n",
    "dfg, dfc = pretrainer.extract(dfcx,  batch_size= 128)"
   ]
  },
  {
   "cell_type": "code",
   "execution_count": 54,
   "id": "cc466c79-5aa4-4728-b870-dbfd5d6c0f22",
   "metadata": {},
   "outputs": [],
   "source": [
    "dfc.to_csv('./data/ITRP_COMPASS_concept44.csv')"
   ]
  },
  {
   "cell_type": "code",
   "execution_count": 13,
   "id": "2742b87e-ecc0-4efb-98d8-8812903ff1df",
   "metadata": {},
   "outputs": [
    {
     "name": "stderr",
     "output_type": "stream",
     "text": [
      "Downloading...\n",
      "From: https://www.immuno-compass.com/download/model/LOCO/pft_leave_IMVigor210.pt\n",
      "To: /tmp/tmpk5eztk07\n"
     ]
    },
    {
     "name": "stdout",
     "output_type": "stream",
     "text": [
      "Downloading model from https://www.immuno-compass.com/download/model/LOCO/pft_leave_IMVigor210.pt...\n"
     ]
    },
    {
     "name": "stderr",
     "output_type": "stream",
     "text": [
      "100%|███████████████████████████████████████████████████████████████████████████████| 35.1M/35.1M [00:51<00:00, 679kB/s]\n"
     ]
    },
    {
     "name": "stdout",
     "output_type": "stream",
     "text": [
      "Model downloaded to: /tmp/tmpk5eztk07\n",
      "IMVigor210\n"
     ]
    },
    {
     "name": "stderr",
     "output_type": "stream",
     "text": [
      "100%|#####################################################################################| 3/3 [00:07<00:00,  2.53s/it]\n",
      "Downloading...\n",
      "From: https://www.immuno-compass.com/download/model/LOCO/pft_leave_Rose.pt\n",
      "To: /tmp/tmpb8d4v2bx\n"
     ]
    },
    {
     "name": "stdout",
     "output_type": "stream",
     "text": [
      "Downloading model from https://www.immuno-compass.com/download/model/LOCO/pft_leave_Rose.pt...\n"
     ]
    },
    {
     "name": "stderr",
     "output_type": "stream",
     "text": [
      "100%|███████████████████████████████████████████████████████████████████████████████| 35.1M/35.1M [00:56<00:00, 621kB/s]\n"
     ]
    },
    {
     "name": "stdout",
     "output_type": "stream",
     "text": [
      "Model downloaded to: /tmp/tmpb8d4v2bx\n",
      "Rose\n"
     ]
    },
    {
     "name": "stderr",
     "output_type": "stream",
     "text": [
      "100%|#####################################################################################| 1/1 [00:02<00:00,  2.39s/it]\n",
      "Downloading...\n",
      "From: https://www.immuno-compass.com/download/model/LOCO/pft_leave_Snyder.pt\n",
      "To: /tmp/tmpmjcabv92\n"
     ]
    },
    {
     "name": "stdout",
     "output_type": "stream",
     "text": [
      "Downloading model from https://www.immuno-compass.com/download/model/LOCO/pft_leave_Snyder.pt...\n"
     ]
    },
    {
     "name": "stderr",
     "output_type": "stream",
     "text": [
      "100%|███████████████████████████████████████████████████████████████████████████████| 35.1M/35.1M [00:58<00:00, 599kB/s]\n"
     ]
    },
    {
     "name": "stdout",
     "output_type": "stream",
     "text": [
      "Model downloaded to: /tmp/tmpmjcabv92\n",
      "Snyder\n"
     ]
    },
    {
     "name": "stderr",
     "output_type": "stream",
     "text": [
      "100%|#####################################################################################| 1/1 [00:00<00:00,  1.47it/s]\n",
      "Downloading...\n",
      "From: https://www.immuno-compass.com/download/model/LOCO/pft_leave_Zhao.pt\n",
      "To: /tmp/tmpzwzug6cu\n"
     ]
    },
    {
     "name": "stdout",
     "output_type": "stream",
     "text": [
      "Downloading model from https://www.immuno-compass.com/download/model/LOCO/pft_leave_Zhao.pt...\n"
     ]
    },
    {
     "name": "stderr",
     "output_type": "stream",
     "text": [
      "100%|███████████████████████████████████████████████████████████████████████████████| 35.1M/35.1M [00:54<00:00, 645kB/s]\n"
     ]
    },
    {
     "name": "stdout",
     "output_type": "stream",
     "text": [
      "Model downloaded to: /tmp/tmpzwzug6cu\n",
      "Zhao\n"
     ]
    },
    {
     "name": "stderr",
     "output_type": "stream",
     "text": [
      "100%|#####################################################################################| 1/1 [00:00<00:00,  1.27it/s]\n",
      "Downloading...\n",
      "From: https://www.immuno-compass.com/download/model/LOCO/pft_leave_Choueiri.pt\n",
      "To: /tmp/tmprxmwrcwm\n"
     ]
    },
    {
     "name": "stdout",
     "output_type": "stream",
     "text": [
      "Downloading model from https://www.immuno-compass.com/download/model/LOCO/pft_leave_Choueiri.pt...\n"
     ]
    },
    {
     "name": "stderr",
     "output_type": "stream",
     "text": [
      "100%|███████████████████████████████████████████████████████████████████████████████| 35.1M/35.1M [00:56<00:00, 625kB/s]\n"
     ]
    },
    {
     "name": "stdout",
     "output_type": "stream",
     "text": [
      "Model downloaded to: /tmp/tmprxmwrcwm\n",
      "Choueiri\n"
     ]
    },
    {
     "name": "stderr",
     "output_type": "stream",
     "text": [
      "100%|#####################################################################################| 1/1 [00:00<00:00,  1.85it/s]\n",
      "Downloading...\n",
      "From: https://www.immuno-compass.com/download/model/LOCO/pft_leave_Miao.pt\n",
      "To: /tmp/tmpawxl9437\n"
     ]
    },
    {
     "name": "stdout",
     "output_type": "stream",
     "text": [
      "Downloading model from https://www.immuno-compass.com/download/model/LOCO/pft_leave_Miao.pt...\n"
     ]
    },
    {
     "name": "stderr",
     "output_type": "stream",
     "text": [
      "100%|███████████████████████████████████████████████████████████████████████████████| 35.1M/35.1M [00:56<00:00, 622kB/s]\n"
     ]
    },
    {
     "name": "stdout",
     "output_type": "stream",
     "text": [
      "Model downloaded to: /tmp/tmpawxl9437\n",
      "Miao\n"
     ]
    },
    {
     "name": "stderr",
     "output_type": "stream",
     "text": [
      "100%|#####################################################################################| 1/1 [00:00<00:00,  1.72it/s]\n",
      "Downloading...\n",
      "From: https://www.immuno-compass.com/download/model/LOCO/pft_leave_Kim.pt\n",
      "To: /tmp/tmp2nzkt64n\n"
     ]
    },
    {
     "name": "stdout",
     "output_type": "stream",
     "text": [
      "Downloading model from https://www.immuno-compass.com/download/model/LOCO/pft_leave_Kim.pt...\n"
     ]
    },
    {
     "name": "stderr",
     "output_type": "stream",
     "text": [
      "100%|███████████████████████████████████████████████████████████████████████████████| 35.1M/35.1M [00:54<00:00, 641kB/s]\n"
     ]
    },
    {
     "name": "stdout",
     "output_type": "stream",
     "text": [
      "Model downloaded to: /tmp/tmp2nzkt64n\n",
      "Kim\n"
     ]
    },
    {
     "name": "stderr",
     "output_type": "stream",
     "text": [
      "100%|#####################################################################################| 1/1 [00:01<00:00,  1.31s/it]\n",
      "Downloading...\n",
      "From: https://www.immuno-compass.com/download/model/LOCO/pft_leave_SU2CLC1.pt\n",
      "To: /tmp/tmpruwgbwp1\n"
     ]
    },
    {
     "name": "stdout",
     "output_type": "stream",
     "text": [
      "Downloading model from https://www.immuno-compass.com/download/model/LOCO/pft_leave_SU2CLC1.pt...\n"
     ]
    },
    {
     "name": "stderr",
     "output_type": "stream",
     "text": [
      "100%|███████████████████████████████████████████████████████████████████████████████| 35.1M/35.1M [00:54<00:00, 650kB/s]\n"
     ]
    },
    {
     "name": "stdout",
     "output_type": "stream",
     "text": [
      "Model downloaded to: /tmp/tmpruwgbwp1\n",
      "SU2CLC1\n"
     ]
    },
    {
     "name": "stderr",
     "output_type": "stream",
     "text": [
      "100%|#####################################################################################| 1/1 [00:04<00:00,  4.07s/it]\n",
      "Downloading...\n",
      "From: https://www.immuno-compass.com/download/model/LOCO/pft_leave_SU2CLC2.pt\n",
      "To: /tmp/tmpm18rgrt1\n"
     ]
    },
    {
     "name": "stdout",
     "output_type": "stream",
     "text": [
      "Downloading model from https://www.immuno-compass.com/download/model/LOCO/pft_leave_SU2CLC2.pt...\n"
     ]
    },
    {
     "name": "stderr",
     "output_type": "stream",
     "text": [
      "100%|███████████████████████████████████████████████████████████████████████████████| 35.1M/35.1M [01:04<00:00, 545kB/s]\n"
     ]
    },
    {
     "name": "stdout",
     "output_type": "stream",
     "text": [
      "Model downloaded to: /tmp/tmpm18rgrt1\n",
      "SU2CLC2\n"
     ]
    },
    {
     "name": "stderr",
     "output_type": "stream",
     "text": [
      "100%|#####################################################################################| 1/1 [00:00<00:00,  1.26it/s]\n",
      "Downloading...\n",
      "From: https://www.immuno-compass.com/download/model/LOCO/pft_leave_Hugo.pt\n",
      "To: /tmp/tmp5uzqw9rs\n"
     ]
    },
    {
     "name": "stdout",
     "output_type": "stream",
     "text": [
      "Downloading model from https://www.immuno-compass.com/download/model/LOCO/pft_leave_Hugo.pt...\n"
     ]
    },
    {
     "name": "stderr",
     "output_type": "stream",
     "text": [
      "100%|███████████████████████████████████████████████████████████████████████████████| 35.1M/35.1M [01:02<00:00, 560kB/s]\n"
     ]
    },
    {
     "name": "stdout",
     "output_type": "stream",
     "text": [
      "Model downloaded to: /tmp/tmp5uzqw9rs\n",
      "Hugo\n"
     ]
    },
    {
     "name": "stderr",
     "output_type": "stream",
     "text": [
      "100%|#####################################################################################| 1/1 [00:00<00:00,  1.23it/s]\n",
      "Downloading...\n",
      "From: https://www.immuno-compass.com/download/model/LOCO/pft_leave_Gide.pt\n",
      "To: /tmp/tmpqaz_79y1\n"
     ]
    },
    {
     "name": "stdout",
     "output_type": "stream",
     "text": [
      "Downloading model from https://www.immuno-compass.com/download/model/LOCO/pft_leave_Gide.pt...\n"
     ]
    },
    {
     "name": "stderr",
     "output_type": "stream",
     "text": [
      "100%|███████████████████████████████████████████████████████████████████████████████| 35.1M/35.1M [00:55<00:00, 628kB/s]\n"
     ]
    },
    {
     "name": "stdout",
     "output_type": "stream",
     "text": [
      "Model downloaded to: /tmp/tmpqaz_79y1\n",
      "Gide\n"
     ]
    },
    {
     "name": "stderr",
     "output_type": "stream",
     "text": [
      "100%|#####################################################################################| 1/1 [00:02<00:00,  2.01s/it]\n",
      "Downloading...\n",
      "From: https://www.immuno-compass.com/download/model/LOCO/pft_leave_Liu.pt\n",
      "To: /tmp/tmpx3yu376y\n"
     ]
    },
    {
     "name": "stdout",
     "output_type": "stream",
     "text": [
      "Downloading model from https://www.immuno-compass.com/download/model/LOCO/pft_leave_Liu.pt...\n"
     ]
    },
    {
     "name": "stderr",
     "output_type": "stream",
     "text": [
      "100%|███████████████████████████████████████████████████████████████████████████████| 35.1M/35.1M [00:54<00:00, 641kB/s]\n"
     ]
    },
    {
     "name": "stdout",
     "output_type": "stream",
     "text": [
      "Model downloaded to: /tmp/tmpx3yu376y\n",
      "Liu\n"
     ]
    },
    {
     "name": "stderr",
     "output_type": "stream",
     "text": [
      "100%|#####################################################################################| 1/1 [00:02<00:00,  2.83s/it]\n",
      "Downloading...\n",
      "From: https://www.immuno-compass.com/download/model/LOCO/pft_leave_Riaz.pt\n",
      "To: /tmp/tmpb3xqqevn\n"
     ]
    },
    {
     "name": "stdout",
     "output_type": "stream",
     "text": [
      "Downloading model from https://www.immuno-compass.com/download/model/LOCO/pft_leave_Riaz.pt...\n"
     ]
    },
    {
     "name": "stderr",
     "output_type": "stream",
     "text": [
      "100%|███████████████████████████████████████████████████████████████████████████████| 35.1M/35.1M [00:58<00:00, 598kB/s]\n"
     ]
    },
    {
     "name": "stdout",
     "output_type": "stream",
     "text": [
      "Model downloaded to: /tmp/tmpb3xqqevn\n",
      "Riaz\n"
     ]
    },
    {
     "name": "stderr",
     "output_type": "stream",
     "text": [
      "100%|#####################################################################################| 1/1 [00:01<00:00,  1.50s/it]\n",
      "Downloading...\n",
      "From: https://www.immuno-compass.com/download/model/LOCO/pft_leave_Allen.pt\n",
      "To: /tmp/tmpj6n8_pa3\n"
     ]
    },
    {
     "name": "stdout",
     "output_type": "stream",
     "text": [
      "Downloading model from https://www.immuno-compass.com/download/model/LOCO/pft_leave_Allen.pt...\n"
     ]
    },
    {
     "name": "stderr",
     "output_type": "stream",
     "text": [
      "100%|███████████████████████████████████████████████████████████████████████████████| 35.1M/35.1M [00:58<00:00, 603kB/s]\n"
     ]
    },
    {
     "name": "stdout",
     "output_type": "stream",
     "text": [
      "Model downloaded to: /tmp/tmpj6n8_pa3\n",
      "Allen\n"
     ]
    },
    {
     "name": "stderr",
     "output_type": "stream",
     "text": [
      "100%|#####################################################################################| 1/1 [00:01<00:00,  1.17s/it]\n",
      "Downloading...\n",
      "From: https://www.immuno-compass.com/download/model/LOCO/pft_leave_MGH.pt\n",
      "To: /tmp/tmp4ynnjemq\n"
     ]
    },
    {
     "name": "stdout",
     "output_type": "stream",
     "text": [
      "Downloading model from https://www.immuno-compass.com/download/model/LOCO/pft_leave_MGH.pt...\n"
     ]
    },
    {
     "name": "stderr",
     "output_type": "stream",
     "text": [
      "100%|███████████████████████████████████████████████████████████████████████████████| 35.1M/35.1M [00:54<00:00, 642kB/s]\n"
     ]
    },
    {
     "name": "stdout",
     "output_type": "stream",
     "text": [
      "Model downloaded to: /tmp/tmp4ynnjemq\n",
      "MGH\n"
     ]
    },
    {
     "name": "stderr",
     "output_type": "stream",
     "text": [
      "100%|#####################################################################################| 1/1 [00:01<00:00,  1.03s/it]\n",
      "Downloading...\n",
      "From: https://www.immuno-compass.com/download/model/LOCO/pft_leave_IMmotion150.pt\n",
      "To: /tmp/tmp9xtd1dpk\n"
     ]
    },
    {
     "name": "stdout",
     "output_type": "stream",
     "text": [
      "Downloading model from https://www.immuno-compass.com/download/model/LOCO/pft_leave_IMmotion150.pt...\n"
     ]
    },
    {
     "name": "stderr",
     "output_type": "stream",
     "text": [
      "100%|███████████████████████████████████████████████████████████████████████████████| 35.1M/35.1M [00:52<00:00, 666kB/s]\n"
     ]
    },
    {
     "name": "stdout",
     "output_type": "stream",
     "text": [
      "Model downloaded to: /tmp/tmp9xtd1dpk\n",
      "IMmotion150\n"
     ]
    },
    {
     "name": "stderr",
     "output_type": "stream",
     "text": [
      "100%|#####################################################################################| 2/2 [00:04<00:00,  2.15s/it]\n"
     ]
    }
   ],
   "source": [
    "# leave-cohort-out feature extraction\n",
    "## to extract the concept features from the model that was not finetuned on this cohort\n",
    "dfl = df_label\n",
    "c = []\n",
    "for cohort in dfl.cohort.unique():\n",
    "    model_path = 'https://www.immuno-compass.com/download/model/LOCO/pft_leave_%s.pt' % cohort\n",
    "    finetuner = loadcompass(model_path, map_location='cpu')\n",
    "    print(cohort)\n",
    "    dfcx1 = dfcx.loc[dfl[dfl.cohort == cohort].index]\n",
    "    dfg1, dfc1 = finetuner.extract(dfcx1,  batch_size= 128)\n",
    "    c.append(dfc1)"
   ]
  },
  {
   "cell_type": "code",
   "execution_count": 15,
   "id": "980927b5-d1ba-43fa-b6b0-8c162341987a",
   "metadata": {},
   "outputs": [],
   "source": [
    "dfc = pd.concat(c).loc[dfcx.index]\n",
    "dfc.to_csv('./data/ITRP_PFT_COMPASS_concept44.csv')"
   ]
  },
  {
   "cell_type": "code",
   "execution_count": 16,
   "id": "96bd824a-d2b6-4a0c-99d6-c3e5b09174b7",
   "metadata": {},
   "outputs": [
    {
     "data": {
      "text/html": [
       "<div>\n",
       "<style scoped>\n",
       "    .dataframe tbody tr th:only-of-type {\n",
       "        vertical-align: middle;\n",
       "    }\n",
       "\n",
       "    .dataframe tbody tr th {\n",
       "        vertical-align: top;\n",
       "    }\n",
       "\n",
       "    .dataframe thead th {\n",
       "        text-align: right;\n",
       "    }\n",
       "</style>\n",
       "<table border=\"1\" class=\"dataframe\">\n",
       "  <thead>\n",
       "    <tr style=\"text-align: right;\">\n",
       "      <th></th>\n",
       "      <th>CANCER</th>\n",
       "      <th>Bcell_general</th>\n",
       "      <th>Memory_Bcell</th>\n",
       "      <th>Naive_Bcell</th>\n",
       "      <th>Plasma_cell</th>\n",
       "      <th>CD4_Tcell</th>\n",
       "      <th>CD8_Tcell</th>\n",
       "      <th>Memory_Tcell</th>\n",
       "      <th>Naive_Tcell</th>\n",
       "      <th>Tcell_general</th>\n",
       "      <th>...</th>\n",
       "      <th>Pancreatic</th>\n",
       "      <th>Pneumocyte</th>\n",
       "      <th>Apoptosis_pathway</th>\n",
       "      <th>IFNg_pathway</th>\n",
       "      <th>TGFb_pathway</th>\n",
       "      <th>Cytokine</th>\n",
       "      <th>Cell_proliferation</th>\n",
       "      <th>TLS</th>\n",
       "      <th>Genome_integrity</th>\n",
       "      <th>Reference</th>\n",
       "    </tr>\n",
       "    <tr>\n",
       "      <th>Index</th>\n",
       "      <th></th>\n",
       "      <th></th>\n",
       "      <th></th>\n",
       "      <th></th>\n",
       "      <th></th>\n",
       "      <th></th>\n",
       "      <th></th>\n",
       "      <th></th>\n",
       "      <th></th>\n",
       "      <th></th>\n",
       "      <th></th>\n",
       "      <th></th>\n",
       "      <th></th>\n",
       "      <th></th>\n",
       "      <th></th>\n",
       "      <th></th>\n",
       "      <th></th>\n",
       "      <th></th>\n",
       "      <th></th>\n",
       "      <th></th>\n",
       "      <th></th>\n",
       "    </tr>\n",
       "  </thead>\n",
       "  <tbody>\n",
       "    <tr>\n",
       "      <th>IMVigor210-0257bb-ar-0257bbb</th>\n",
       "      <td>1.456546</td>\n",
       "      <td>0.019397</td>\n",
       "      <td>1.381796</td>\n",
       "      <td>-0.370585</td>\n",
       "      <td>0.452068</td>\n",
       "      <td>0.678281</td>\n",
       "      <td>0.732779</td>\n",
       "      <td>0.911525</td>\n",
       "      <td>1.192506</td>\n",
       "      <td>0.571735</td>\n",
       "      <td>...</td>\n",
       "      <td>0.790673</td>\n",
       "      <td>0.379837</td>\n",
       "      <td>1.044820</td>\n",
       "      <td>0.542234</td>\n",
       "      <td>0.439366</td>\n",
       "      <td>0.530098</td>\n",
       "      <td>0.551015</td>\n",
       "      <td>0.533078</td>\n",
       "      <td>0.883911</td>\n",
       "      <td>1.105827</td>\n",
       "    </tr>\n",
       "    <tr>\n",
       "      <th>IMVigor210-025b45-ar-025b45c</th>\n",
       "      <td>1.456528</td>\n",
       "      <td>0.214744</td>\n",
       "      <td>1.306711</td>\n",
       "      <td>-0.387404</td>\n",
       "      <td>0.565886</td>\n",
       "      <td>0.416493</td>\n",
       "      <td>0.705398</td>\n",
       "      <td>1.013120</td>\n",
       "      <td>1.334937</td>\n",
       "      <td>0.523259</td>\n",
       "      <td>...</td>\n",
       "      <td>0.606107</td>\n",
       "      <td>0.403372</td>\n",
       "      <td>1.020884</td>\n",
       "      <td>0.440796</td>\n",
       "      <td>0.726907</td>\n",
       "      <td>0.583664</td>\n",
       "      <td>0.371870</td>\n",
       "      <td>0.622946</td>\n",
       "      <td>0.755367</td>\n",
       "      <td>1.102651</td>\n",
       "    </tr>\n",
       "    <tr>\n",
       "      <th>IMVigor210-032c64-ar-032c642</th>\n",
       "      <td>1.456583</td>\n",
       "      <td>0.022168</td>\n",
       "      <td>1.483314</td>\n",
       "      <td>-0.357910</td>\n",
       "      <td>0.198185</td>\n",
       "      <td>0.697679</td>\n",
       "      <td>0.702471</td>\n",
       "      <td>1.030406</td>\n",
       "      <td>1.296986</td>\n",
       "      <td>0.806432</td>\n",
       "      <td>...</td>\n",
       "      <td>0.931995</td>\n",
       "      <td>0.377759</td>\n",
       "      <td>1.073285</td>\n",
       "      <td>0.862106</td>\n",
       "      <td>0.587562</td>\n",
       "      <td>0.443517</td>\n",
       "      <td>0.615876</td>\n",
       "      <td>0.571930</td>\n",
       "      <td>0.954822</td>\n",
       "      <td>1.109750</td>\n",
       "    </tr>\n",
       "    <tr>\n",
       "      <th>IMVigor210-0571f1-ar-0571f17</th>\n",
       "      <td>1.456573</td>\n",
       "      <td>0.221132</td>\n",
       "      <td>1.711198</td>\n",
       "      <td>0.211879</td>\n",
       "      <td>0.351435</td>\n",
       "      <td>0.385675</td>\n",
       "      <td>0.909300</td>\n",
       "      <td>1.076376</td>\n",
       "      <td>1.729098</td>\n",
       "      <td>1.225904</td>\n",
       "      <td>...</td>\n",
       "      <td>0.922287</td>\n",
       "      <td>0.460977</td>\n",
       "      <td>0.912766</td>\n",
       "      <td>0.863578</td>\n",
       "      <td>0.441387</td>\n",
       "      <td>0.522413</td>\n",
       "      <td>0.528561</td>\n",
       "      <td>1.264815</td>\n",
       "      <td>0.821885</td>\n",
       "      <td>1.097564</td>\n",
       "    </tr>\n",
       "    <tr>\n",
       "      <th>IMVigor210-065890-ar-0658907</th>\n",
       "      <td>1.456561</td>\n",
       "      <td>0.031006</td>\n",
       "      <td>1.477538</td>\n",
       "      <td>-0.373197</td>\n",
       "      <td>0.113452</td>\n",
       "      <td>0.662746</td>\n",
       "      <td>0.714458</td>\n",
       "      <td>0.863025</td>\n",
       "      <td>1.186389</td>\n",
       "      <td>0.698400</td>\n",
       "      <td>...</td>\n",
       "      <td>1.001964</td>\n",
       "      <td>0.445109</td>\n",
       "      <td>1.130237</td>\n",
       "      <td>0.684552</td>\n",
       "      <td>0.349045</td>\n",
       "      <td>0.530858</td>\n",
       "      <td>0.473466</td>\n",
       "      <td>0.487399</td>\n",
       "      <td>0.860129</td>\n",
       "      <td>1.116720</td>\n",
       "    </tr>\n",
       "    <tr>\n",
       "      <th>...</th>\n",
       "      <td>...</td>\n",
       "      <td>...</td>\n",
       "      <td>...</td>\n",
       "      <td>...</td>\n",
       "      <td>...</td>\n",
       "      <td>...</td>\n",
       "      <td>...</td>\n",
       "      <td>...</td>\n",
       "      <td>...</td>\n",
       "      <td>...</td>\n",
       "      <td>...</td>\n",
       "      <td>...</td>\n",
       "      <td>...</td>\n",
       "      <td>...</td>\n",
       "      <td>...</td>\n",
       "      <td>...</td>\n",
       "      <td>...</td>\n",
       "      <td>...</td>\n",
       "      <td>...</td>\n",
       "      <td>...</td>\n",
       "      <td>...</td>\n",
       "    </tr>\n",
       "    <tr>\n",
       "      <th>IMmotion150-p97816-ar-1270d</th>\n",
       "      <td>-0.329531</td>\n",
       "      <td>0.063988</td>\n",
       "      <td>1.028003</td>\n",
       "      <td>-0.565454</td>\n",
       "      <td>0.128116</td>\n",
       "      <td>0.164539</td>\n",
       "      <td>0.578495</td>\n",
       "      <td>0.486751</td>\n",
       "      <td>0.660887</td>\n",
       "      <td>0.595266</td>\n",
       "      <td>...</td>\n",
       "      <td>0.469923</td>\n",
       "      <td>0.432903</td>\n",
       "      <td>0.548849</td>\n",
       "      <td>0.506794</td>\n",
       "      <td>0.483246</td>\n",
       "      <td>0.396237</td>\n",
       "      <td>0.267659</td>\n",
       "      <td>0.470257</td>\n",
       "      <td>0.585417</td>\n",
       "      <td>0.939150</td>\n",
       "    </tr>\n",
       "    <tr>\n",
       "      <th>IMmotion150-p97909-ar-c7295</th>\n",
       "      <td>-0.329445</td>\n",
       "      <td>0.164098</td>\n",
       "      <td>0.822569</td>\n",
       "      <td>-0.597204</td>\n",
       "      <td>0.626622</td>\n",
       "      <td>0.246451</td>\n",
       "      <td>0.479684</td>\n",
       "      <td>0.615778</td>\n",
       "      <td>0.347046</td>\n",
       "      <td>0.304133</td>\n",
       "      <td>...</td>\n",
       "      <td>0.376021</td>\n",
       "      <td>0.439916</td>\n",
       "      <td>0.562050</td>\n",
       "      <td>0.232171</td>\n",
       "      <td>0.408161</td>\n",
       "      <td>0.393197</td>\n",
       "      <td>0.218544</td>\n",
       "      <td>0.244641</td>\n",
       "      <td>0.529493</td>\n",
       "      <td>0.946691</td>\n",
       "    </tr>\n",
       "    <tr>\n",
       "      <th>IMmotion150-p98637-ar-bcb5a</th>\n",
       "      <td>-0.329409</td>\n",
       "      <td>0.075307</td>\n",
       "      <td>0.958596</td>\n",
       "      <td>-0.519167</td>\n",
       "      <td>0.467963</td>\n",
       "      <td>0.184852</td>\n",
       "      <td>0.602223</td>\n",
       "      <td>0.615597</td>\n",
       "      <td>1.018818</td>\n",
       "      <td>0.850902</td>\n",
       "      <td>...</td>\n",
       "      <td>0.473836</td>\n",
       "      <td>0.378169</td>\n",
       "      <td>0.524828</td>\n",
       "      <td>0.759137</td>\n",
       "      <td>0.385891</td>\n",
       "      <td>0.429615</td>\n",
       "      <td>0.201687</td>\n",
       "      <td>0.430165</td>\n",
       "      <td>0.555165</td>\n",
       "      <td>0.935734</td>\n",
       "    </tr>\n",
       "    <tr>\n",
       "      <th>IMmotion150-p98987-ar-12652</th>\n",
       "      <td>-0.329424</td>\n",
       "      <td>0.019462</td>\n",
       "      <td>0.869971</td>\n",
       "      <td>-0.570846</td>\n",
       "      <td>0.181476</td>\n",
       "      <td>0.409301</td>\n",
       "      <td>0.643544</td>\n",
       "      <td>0.591062</td>\n",
       "      <td>0.755235</td>\n",
       "      <td>0.446695</td>\n",
       "      <td>...</td>\n",
       "      <td>0.563883</td>\n",
       "      <td>0.384286</td>\n",
       "      <td>0.410840</td>\n",
       "      <td>0.449925</td>\n",
       "      <td>0.360586</td>\n",
       "      <td>0.435379</td>\n",
       "      <td>0.143080</td>\n",
       "      <td>0.660033</td>\n",
       "      <td>0.533227</td>\n",
       "      <td>0.952796</td>\n",
       "    </tr>\n",
       "    <tr>\n",
       "      <th>IMmotion150-p99039-ar-ef7b7</th>\n",
       "      <td>-0.329413</td>\n",
       "      <td>0.037970</td>\n",
       "      <td>0.866964</td>\n",
       "      <td>-0.590605</td>\n",
       "      <td>0.496637</td>\n",
       "      <td>0.406883</td>\n",
       "      <td>0.573688</td>\n",
       "      <td>0.645900</td>\n",
       "      <td>0.480029</td>\n",
       "      <td>0.263063</td>\n",
       "      <td>...</td>\n",
       "      <td>0.533447</td>\n",
       "      <td>0.390265</td>\n",
       "      <td>0.451778</td>\n",
       "      <td>0.344372</td>\n",
       "      <td>0.359700</td>\n",
       "      <td>0.431237</td>\n",
       "      <td>0.119192</td>\n",
       "      <td>0.313422</td>\n",
       "      <td>0.559837</td>\n",
       "      <td>0.926941</td>\n",
       "    </tr>\n",
       "  </tbody>\n",
       "</table>\n",
       "<p>1133 rows × 44 columns</p>\n",
       "</div>"
      ],
      "text/plain": [
       "                                CANCER  Bcell_general  Memory_Bcell  \\\n",
       "Index                                                                 \n",
       "IMVigor210-0257bb-ar-0257bbb  1.456546       0.019397      1.381796   \n",
       "IMVigor210-025b45-ar-025b45c  1.456528       0.214744      1.306711   \n",
       "IMVigor210-032c64-ar-032c642  1.456583       0.022168      1.483314   \n",
       "IMVigor210-0571f1-ar-0571f17  1.456573       0.221132      1.711198   \n",
       "IMVigor210-065890-ar-0658907  1.456561       0.031006      1.477538   \n",
       "...                                ...            ...           ...   \n",
       "IMmotion150-p97816-ar-1270d  -0.329531       0.063988      1.028003   \n",
       "IMmotion150-p97909-ar-c7295  -0.329445       0.164098      0.822569   \n",
       "IMmotion150-p98637-ar-bcb5a  -0.329409       0.075307      0.958596   \n",
       "IMmotion150-p98987-ar-12652  -0.329424       0.019462      0.869971   \n",
       "IMmotion150-p99039-ar-ef7b7  -0.329413       0.037970      0.866964   \n",
       "\n",
       "                              Naive_Bcell  Plasma_cell  CD4_Tcell  CD8_Tcell  \\\n",
       "Index                                                                          \n",
       "IMVigor210-0257bb-ar-0257bbb    -0.370585     0.452068   0.678281   0.732779   \n",
       "IMVigor210-025b45-ar-025b45c    -0.387404     0.565886   0.416493   0.705398   \n",
       "IMVigor210-032c64-ar-032c642    -0.357910     0.198185   0.697679   0.702471   \n",
       "IMVigor210-0571f1-ar-0571f17     0.211879     0.351435   0.385675   0.909300   \n",
       "IMVigor210-065890-ar-0658907    -0.373197     0.113452   0.662746   0.714458   \n",
       "...                                   ...          ...        ...        ...   \n",
       "IMmotion150-p97816-ar-1270d     -0.565454     0.128116   0.164539   0.578495   \n",
       "IMmotion150-p97909-ar-c7295     -0.597204     0.626622   0.246451   0.479684   \n",
       "IMmotion150-p98637-ar-bcb5a     -0.519167     0.467963   0.184852   0.602223   \n",
       "IMmotion150-p98987-ar-12652     -0.570846     0.181476   0.409301   0.643544   \n",
       "IMmotion150-p99039-ar-ef7b7     -0.590605     0.496637   0.406883   0.573688   \n",
       "\n",
       "                              Memory_Tcell  Naive_Tcell  Tcell_general  ...  \\\n",
       "Index                                                                   ...   \n",
       "IMVigor210-0257bb-ar-0257bbb      0.911525     1.192506       0.571735  ...   \n",
       "IMVigor210-025b45-ar-025b45c      1.013120     1.334937       0.523259  ...   \n",
       "IMVigor210-032c64-ar-032c642      1.030406     1.296986       0.806432  ...   \n",
       "IMVigor210-0571f1-ar-0571f17      1.076376     1.729098       1.225904  ...   \n",
       "IMVigor210-065890-ar-0658907      0.863025     1.186389       0.698400  ...   \n",
       "...                                    ...          ...            ...  ...   \n",
       "IMmotion150-p97816-ar-1270d       0.486751     0.660887       0.595266  ...   \n",
       "IMmotion150-p97909-ar-c7295       0.615778     0.347046       0.304133  ...   \n",
       "IMmotion150-p98637-ar-bcb5a       0.615597     1.018818       0.850902  ...   \n",
       "IMmotion150-p98987-ar-12652       0.591062     0.755235       0.446695  ...   \n",
       "IMmotion150-p99039-ar-ef7b7       0.645900     0.480029       0.263063  ...   \n",
       "\n",
       "                              Pancreatic  Pneumocyte  Apoptosis_pathway  \\\n",
       "Index                                                                     \n",
       "IMVigor210-0257bb-ar-0257bbb    0.790673    0.379837           1.044820   \n",
       "IMVigor210-025b45-ar-025b45c    0.606107    0.403372           1.020884   \n",
       "IMVigor210-032c64-ar-032c642    0.931995    0.377759           1.073285   \n",
       "IMVigor210-0571f1-ar-0571f17    0.922287    0.460977           0.912766   \n",
       "IMVigor210-065890-ar-0658907    1.001964    0.445109           1.130237   \n",
       "...                                  ...         ...                ...   \n",
       "IMmotion150-p97816-ar-1270d     0.469923    0.432903           0.548849   \n",
       "IMmotion150-p97909-ar-c7295     0.376021    0.439916           0.562050   \n",
       "IMmotion150-p98637-ar-bcb5a     0.473836    0.378169           0.524828   \n",
       "IMmotion150-p98987-ar-12652     0.563883    0.384286           0.410840   \n",
       "IMmotion150-p99039-ar-ef7b7     0.533447    0.390265           0.451778   \n",
       "\n",
       "                              IFNg_pathway  TGFb_pathway  Cytokine  \\\n",
       "Index                                                                \n",
       "IMVigor210-0257bb-ar-0257bbb      0.542234      0.439366  0.530098   \n",
       "IMVigor210-025b45-ar-025b45c      0.440796      0.726907  0.583664   \n",
       "IMVigor210-032c64-ar-032c642      0.862106      0.587562  0.443517   \n",
       "IMVigor210-0571f1-ar-0571f17      0.863578      0.441387  0.522413   \n",
       "IMVigor210-065890-ar-0658907      0.684552      0.349045  0.530858   \n",
       "...                                    ...           ...       ...   \n",
       "IMmotion150-p97816-ar-1270d       0.506794      0.483246  0.396237   \n",
       "IMmotion150-p97909-ar-c7295       0.232171      0.408161  0.393197   \n",
       "IMmotion150-p98637-ar-bcb5a       0.759137      0.385891  0.429615   \n",
       "IMmotion150-p98987-ar-12652       0.449925      0.360586  0.435379   \n",
       "IMmotion150-p99039-ar-ef7b7       0.344372      0.359700  0.431237   \n",
       "\n",
       "                              Cell_proliferation       TLS  Genome_integrity  \\\n",
       "Index                                                                          \n",
       "IMVigor210-0257bb-ar-0257bbb            0.551015  0.533078          0.883911   \n",
       "IMVigor210-025b45-ar-025b45c            0.371870  0.622946          0.755367   \n",
       "IMVigor210-032c64-ar-032c642            0.615876  0.571930          0.954822   \n",
       "IMVigor210-0571f1-ar-0571f17            0.528561  1.264815          0.821885   \n",
       "IMVigor210-065890-ar-0658907            0.473466  0.487399          0.860129   \n",
       "...                                          ...       ...               ...   \n",
       "IMmotion150-p97816-ar-1270d             0.267659  0.470257          0.585417   \n",
       "IMmotion150-p97909-ar-c7295             0.218544  0.244641          0.529493   \n",
       "IMmotion150-p98637-ar-bcb5a             0.201687  0.430165          0.555165   \n",
       "IMmotion150-p98987-ar-12652             0.143080  0.660033          0.533227   \n",
       "IMmotion150-p99039-ar-ef7b7             0.119192  0.313422          0.559837   \n",
       "\n",
       "                              Reference  \n",
       "Index                                    \n",
       "IMVigor210-0257bb-ar-0257bbb   1.105827  \n",
       "IMVigor210-025b45-ar-025b45c   1.102651  \n",
       "IMVigor210-032c64-ar-032c642   1.109750  \n",
       "IMVigor210-0571f1-ar-0571f17   1.097564  \n",
       "IMVigor210-065890-ar-0658907   1.116720  \n",
       "...                                 ...  \n",
       "IMmotion150-p97816-ar-1270d    0.939150  \n",
       "IMmotion150-p97909-ar-c7295    0.946691  \n",
       "IMmotion150-p98637-ar-bcb5a    0.935734  \n",
       "IMmotion150-p98987-ar-12652    0.952796  \n",
       "IMmotion150-p99039-ar-ef7b7    0.926941  \n",
       "\n",
       "[1133 rows x 44 columns]"
      ]
     },
     "execution_count": 16,
     "metadata": {},
     "output_type": "execute_result"
    }
   ],
   "source": []
  },
  {
   "cell_type": "code",
   "execution_count": null,
   "id": "2eec24e7-30be-4155-8c01-26e8efe28f25",
   "metadata": {},
   "outputs": [],
   "source": []
  },
  {
   "cell_type": "code",
   "execution_count": null,
   "id": "5cab5251-8c2d-4f7e-96d4-32a7eea5dd29",
   "metadata": {},
   "outputs": [],
   "source": []
  }
 ],
 "metadata": {
  "kernelspec": {
   "display_name": "Python 3 (ipykernel)",
   "language": "python",
   "name": "python3"
  },
  "language_info": {
   "codemirror_mode": {
    "name": "ipython",
    "version": 3
   },
   "file_extension": ".py",
   "mimetype": "text/x-python",
   "name": "python",
   "nbconvert_exporter": "python",
   "pygments_lexer": "ipython3",
   "version": "3.8.18"
  }
 },
 "nbformat": 4,
 "nbformat_minor": 5
}
