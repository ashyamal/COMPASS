{
 "cells": [
  {
   "cell_type": "code",
   "execution_count": 1,
   "id": "db307829-5274-402f-aa25-1874e97d5b4f",
   "metadata": {
    "tags": []
   },
   "outputs": [
    {
     "name": "stderr",
     "output_type": "stream",
     "text": [
      "/home/shenwanxiang/anaconda3/envs/compass/lib/python3.8/site-packages/tqdm/auto.py:21: TqdmWarning: IProgress not found. Please update jupyter and ipywidgets. See https://ipywidgets.readthedocs.io/en/stable/user_install.html\n",
      "  from .autonotebook import tqdm as notebook_tqdm\n"
     ]
    }
   ],
   "source": [
    "import pandas as pd\n",
    "import sys,os\n",
    "from tqdm import tqdm\n",
    "sys.path.insert(0, '/home/shenwanxiang/Research/aliyun_sync/COMPASS/')\n",
    "from baseline.immnue_score.scorer import ssGSEA\n",
    "\n",
    "from compass.utils import plot_embed_with_label\n",
    "from compass import PreTrainer, FineTuner, loadcompass #, get_minmal_epoch\n",
    "from compass.utils import plot_embed_with_label,plot_performance, score2\n",
    "from compass.tokenizer import CANCER_CODE, CONCEPT"
   ]
  },
  {
   "cell_type": "code",
   "execution_count": 7,
   "id": "a55e9c01-dd8f-4aad-98fc-27dda4ddf13e",
   "metadata": {},
   "outputs": [],
   "source": [
    "data_path = '/home/shenwanxiang/Research/aliyun_sync/COMPASS/paper/00_data/'\n",
    "df_label = pd.read_pickle(os.path.join(data_path, 'ITRP.PATIENT.TABLE.ALIGN'))\n",
    "df_tpm = pd.read_pickle(os.path.join(data_path, 'ITRP.TPM.TABLE'))\n",
    "df_tpm.shape, df_label.shape\n",
    "\n",
    "dfcx = df_label.cancer_type.map(CANCER_CODE).to_frame('cancer_code').join(df_tpm)"
   ]
  },
  {
   "cell_type": "code",
   "execution_count": 8,
   "id": "2d682819-c9bd-4070-9b51-85891a15359a",
   "metadata": {},
   "outputs": [],
   "source": [
    "df_label.to_csv('./data/ITRP_clinical.csv')"
   ]
  },
  {
   "cell_type": "code",
   "execution_count": null,
   "id": "d7fac360-dcb2-4be0-a392-7f27601b1e63",
   "metadata": {},
   "outputs": [],
   "source": [
    "gmt29  = pd.read_excel('./Fges_29_gmt.xlsx',sheet_name= 'Gene Description',skiprows=1)\n",
    "gmt29 = gmt29.groupby(['Gene signature']).Gene.apply(lambda x:x.tolist())\n",
    "\n",
    "res=[]\n",
    "for name, g_list in tqdm(gmt29.items()):\n",
    "    gsea = ssGSEA(g_list, name)\n",
    "    score = gsea.fit_transform(df_tpm)\n",
    "    res.append(score) \n",
    "\n",
    "dfc = pd.concat(res,axis=1)\n",
    "dfc.columns = dfc.columns.map(lambda x:x.replace('NES_', ''))\n",
    "dfc.loc[df_label.index].to_csv('./data/ITRP_ssGSEA_Fegs29.csv')"
   ]
  },
  {
   "cell_type": "code",
   "execution_count": 41,
   "id": "ef49d5c1-1998-4875-bdba-89116ff9cb37",
   "metadata": {},
   "outputs": [
    {
     "name": "stderr",
     "output_type": "stream",
     "text": [
      "43it [06:22,  8.88s/it]\n"
     ]
    }
   ],
   "source": [
    "def _connect(x):\n",
    "    from itertools import chain\n",
    "    return list(set(chain(*[i.split(':') for i in x])))\n",
    "    \n",
    "concept_genes = CONCEPT.groupby('BroadCelltypePathway').Genes.apply(lambda x:x.tolist()).apply(_connect)\n",
    "\n",
    "res=[]\n",
    "for name, g_list in tqdm(concept_genes.items()):\n",
    "    gsea = ssGSEA(g_list, name)\n",
    "    score = gsea.fit_transform(df_tpm)\n",
    "    res.append(score) \n",
    "\n",
    "dfc = pd.concat(res,axis=1)\n",
    "dfc.columns = dfc.columns.map(lambda x:x.replace('NES_', ''))\n",
    "dfc = dfc[CONCEPT.groupby('BroadCelltypePathway').Concept_index.mean().sort_values().index]\n",
    "dfc.loc[df_label.index].to_csv('./data/ITRP_ssGSEA_concept43.csv')"
   ]
  },
  {
   "cell_type": "code",
   "execution_count": 52,
   "id": "37aa0d91-b4d1-437a-9fab-447ea9013b2f",
   "metadata": {},
   "outputs": [
    {
     "name": "stderr",
     "output_type": "stream",
     "text": [
      "100%|#####################################################################################| 9/9 [00:28<00:00,  3.21s/it]\n"
     ]
    }
   ],
   "source": [
    "pretrainer = loadcompass('../../../checkpoint/latest/pretrainer.pt', map_location = 'cpu')\n",
    "dfg, dfc = pretrainer.extract(dfcx,  batch_size= 128)"
   ]
  },
  {
   "cell_type": "code",
   "execution_count": 54,
   "id": "cc466c79-5aa4-4728-b870-dbfd5d6c0f22",
   "metadata": {},
   "outputs": [],
   "source": [
    "dfc.to_csv('./data/ITRP_COMPASS_concept44.csv')"
   ]
  },
  {
   "cell_type": "code",
   "execution_count": null,
   "id": "2742b87e-ecc0-4efb-98d8-8812903ff1df",
   "metadata": {},
   "outputs": [],
   "source": []
  }
 ],
 "metadata": {
  "kernelspec": {
   "display_name": "Python 3 (ipykernel)",
   "language": "python",
   "name": "python3"
  },
  "language_info": {
   "codemirror_mode": {
    "name": "ipython",
    "version": 3
   },
   "file_extension": ".py",
   "mimetype": "text/x-python",
   "name": "python",
   "nbconvert_exporter": "python",
   "pygments_lexer": "ipython3",
   "version": "3.8.18"
  }
 },
 "nbformat": 4,
 "nbformat_minor": 5
}
