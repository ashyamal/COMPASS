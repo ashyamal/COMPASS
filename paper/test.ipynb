{
 "cells": [
  {
   "cell_type": "code",
   "execution_count": 3,
   "id": "c7b8a17e-b9f1-4e55-9239-10eb47cbdb10",
   "metadata": {},
   "outputs": [],
   "source": [
    "import pandas as pd\n",
    "import os\n",
    "from glob import glob\n",
    "import numpy as np\n",
    "import matplotlib.pyplot as plt\n",
    "\n",
    "\n",
    "import sys\n",
    "sys.path.insert(0, '/home/was966/Research/PSOG/')\n",
    "from gdd.correlation import pairwise_correlation\n",
    "from gdd.combination import pairwise_combination\n",
    "from gdd.score import Xy_score"
   ]
  },
  {
   "cell_type": "code",
   "execution_count": null,
   "id": "06cf36cf-63d3-4e65-b77f-64ad7d4dbab1",
   "metadata": {},
   "outputs": [],
   "source": []
  },
  {
   "cell_type": "code",
   "execution_count": 4,
   "id": "4ed43997-3654-4977-ba6d-fa14c9c5e543",
   "metadata": {},
   "outputs": [],
   "source": [
    "data_path = '/n/data1/hms/dbmi/zitnik/lab/users/was966/ITRP/TCGA-ITRP-MERGE/735'\n",
    "\n",
    "tcga_tpm = pd.read_pickle(os.path.join(data_path, 'TPM.TCGA.TABLE'))\n",
    "itrp_tpm = pd.read_pickle(os.path.join(data_path, 'TPM.ITRP.TABLE'))\n",
    "tcga_patient = pd.read_pickle(os.path.join(data_path, 'PATIENT.TCGA.TABLE'))\n",
    "tcga_patient['cohort'] = tcga_patient.cancer_type\n",
    "itrp_patient = pd.read_pickle(os.path.join(data_path, 'PATIENT.ITRP.TABLE'))\n",
    "gene = pd.read_pickle(os.path.join(data_path, 'GENE.TABLE'))\n"
   ]
  },
  {
   "cell_type": "code",
   "execution_count": 5,
   "id": "4c7dbfea-ff61-4486-a898-255a6a8b0c0e",
   "metadata": {},
   "outputs": [],
   "source": [
    "X = tcga_tpm.values\n",
    "# corrmatrix = pairwise_correlation(X, n_cpus=6, method='correlation')"
   ]
  },
  {
   "cell_type": "code",
   "execution_count": 16,
   "id": "a656d610-dd83-4616-b254-e9422d84d2a0",
   "metadata": {},
   "outputs": [
    {
     "name": "stderr",
     "output_type": "stream",
     "text": [
      "100%|##########| 4/4 [00:00<00:00, 1201.38it/s]\n"
     ]
    }
   ],
   "source": [
    "itrp_tpm_diff = pairwise_combination(itrp_tpm, combination_pairs = [('TOLLIP', 'PIK3CD'), ('RUNX3','SERPINB2'), ('PIK3CD','GTF3C1'), ('IL6R', 'MAP2K2')], n_cpus=1)"
   ]
  },
  {
   "cell_type": "code",
   "execution_count": 43,
   "id": "3c21b742-f408-4268-9d11-6d64036d9298",
   "metadata": {},
   "outputs": [],
   "source": [
    "df1 = (-itrp_tpm_diff).join(itrp_patient[['Freeman_response']])"
   ]
  },
  {
   "cell_type": "code",
   "execution_count": 44,
   "id": "bfc044fb-6374-4882-93a3-d246b802d4d0",
   "metadata": {},
   "outputs": [
    {
     "name": "stderr",
     "output_type": "stream",
     "text": [
      "100%|##########| 4/4 [00:00<00:00, 2508.56it/s]\n"
     ]
    },
    {
     "data": {
      "text/html": [
       "<div>\n",
       "<style scoped>\n",
       "    .dataframe tbody tr th:only-of-type {\n",
       "        vertical-align: middle;\n",
       "    }\n",
       "\n",
       "    .dataframe tbody tr th {\n",
       "        vertical-align: top;\n",
       "    }\n",
       "\n",
       "    .dataframe thead th {\n",
       "        text-align: right;\n",
       "    }\n",
       "</style>\n",
       "<table border=\"1\" class=\"dataframe\">\n",
       "  <thead>\n",
       "    <tr style=\"text-align: right;\">\n",
       "      <th></th>\n",
       "      <th>prc</th>\n",
       "    </tr>\n",
       "    <tr>\n",
       "      <th>gene_name</th>\n",
       "      <th></th>\n",
       "    </tr>\n",
       "  </thead>\n",
       "  <tbody>\n",
       "    <tr>\n",
       "      <th>TOLLIP-PIK3CD</th>\n",
       "      <td>0.650567</td>\n",
       "    </tr>\n",
       "    <tr>\n",
       "      <th>RUNX3-SERPINB2</th>\n",
       "      <td>0.337325</td>\n",
       "    </tr>\n",
       "    <tr>\n",
       "      <th>PIK3CD-GTF3C1</th>\n",
       "      <td>0.349611</td>\n",
       "    </tr>\n",
       "    <tr>\n",
       "      <th>IL6R-MAP2K2</th>\n",
       "      <td>0.362600</td>\n",
       "    </tr>\n",
       "  </tbody>\n",
       "</table>\n",
       "</div>"
      ],
      "text/plain": [
       "                     prc\n",
       "gene_name               \n",
       "TOLLIP-PIK3CD   0.650567\n",
       "RUNX3-SERPINB2  0.337325\n",
       "PIK3CD-GTF3C1   0.349611\n",
       "IL6R-MAP2K2     0.362600"
      ]
     },
     "execution_count": 44,
     "metadata": {},
     "output_type": "execute_result"
    }
   ],
   "source": [
    "Xy_score(df1, 'Freeman_response',  method='prc')"
   ]
  },
  {
   "cell_type": "code",
   "execution_count": 19,
   "id": "6bf2c93e-4088-462c-9f4a-6cd4ec00ba0b",
   "metadata": {},
   "outputs": [],
   "source": [
    "from sklearn.metrics import roc_auc_score, precision_recall_curve\n",
    "from sklearn.metrics import auc as prc_auc_score\n",
    "from sklearn.feature_selection import mutual_info_classif"
   ]
  },
  {
   "cell_type": "code",
   "execution_count": 32,
   "id": "061da154-0393-42fe-90e3-0b1c450ceb73",
   "metadata": {},
   "outputs": [],
   "source": [
    "score = mutual_info_classif(-df1[['TOLLIP-PIK3CD', 'RUNX3-SERPINB2', 'PIK3CD-GTF3C1', 'IL6R-MAP2K2']].values, \n",
    "                    df1.Freeman_response.map({'R':1, 'NR':0}), random_state=123)"
   ]
  },
  {
   "cell_type": "code",
   "execution_count": 38,
   "id": "8ab95110-ff73-4704-9dad-6b0171b58df2",
   "metadata": {},
   "outputs": [
    {
     "name": "stderr",
     "output_type": "stream",
     "text": [
      "100%|##########| 4/4 [00:00<00:00, 2466.51it/s]\n"
     ]
    },
    {
     "data": {
      "text/html": [
       "<div>\n",
       "<style scoped>\n",
       "    .dataframe tbody tr th:only-of-type {\n",
       "        vertical-align: middle;\n",
       "    }\n",
       "\n",
       "    .dataframe tbody tr th {\n",
       "        vertical-align: top;\n",
       "    }\n",
       "\n",
       "    .dataframe thead th {\n",
       "        text-align: right;\n",
       "    }\n",
       "</style>\n",
       "<table border=\"1\" class=\"dataframe\">\n",
       "  <thead>\n",
       "    <tr style=\"text-align: right;\">\n",
       "      <th></th>\n",
       "      <th>prc</th>\n",
       "    </tr>\n",
       "    <tr>\n",
       "      <th>gene_name</th>\n",
       "      <th></th>\n",
       "    </tr>\n",
       "  </thead>\n",
       "  <tbody>\n",
       "    <tr>\n",
       "      <th>TOLLIP-PIK3CD</th>\n",
       "      <td>0.650567</td>\n",
       "    </tr>\n",
       "    <tr>\n",
       "      <th>RUNX3-SERPINB2</th>\n",
       "      <td>0.337325</td>\n",
       "    </tr>\n",
       "    <tr>\n",
       "      <th>PIK3CD-GTF3C1</th>\n",
       "      <td>0.349611</td>\n",
       "    </tr>\n",
       "    <tr>\n",
       "      <th>IL6R-MAP2K2</th>\n",
       "      <td>0.362600</td>\n",
       "    </tr>\n",
       "  </tbody>\n",
       "</table>\n",
       "</div>"
      ],
      "text/plain": [
       "                     prc\n",
       "gene_name               \n",
       "TOLLIP-PIK3CD   0.650567\n",
       "RUNX3-SERPINB2  0.337325\n",
       "PIK3CD-GTF3C1   0.349611\n",
       "IL6R-MAP2K2     0.362600"
      ]
     },
     "execution_count": 38,
     "metadata": {},
     "output_type": "execute_result"
    }
   ],
   "source": []
  },
  {
   "cell_type": "code",
   "execution_count": 24,
   "id": "cadc3c62-0a7c-4107-a293-4361d7d9e197",
   "metadata": {},
   "outputs": [
    {
     "data": {
      "text/html": [
       "<div>\n",
       "<style scoped>\n",
       "    .dataframe tbody tr th:only-of-type {\n",
       "        vertical-align: middle;\n",
       "    }\n",
       "\n",
       "    .dataframe tbody tr th {\n",
       "        vertical-align: top;\n",
       "    }\n",
       "\n",
       "    .dataframe thead th {\n",
       "        text-align: right;\n",
       "    }\n",
       "</style>\n",
       "<table border=\"1\" class=\"dataframe\">\n",
       "  <thead>\n",
       "    <tr style=\"text-align: right;\">\n",
       "      <th></th>\n",
       "      <th>TOLLIP</th>\n",
       "      <th>PIK3CD</th>\n",
       "    </tr>\n",
       "  </thead>\n",
       "  <tbody>\n",
       "    <tr>\n",
       "      <th>Patient100_T_P</th>\n",
       "      <td>2.526069</td>\n",
       "      <td>6.162693</td>\n",
       "    </tr>\n",
       "    <tr>\n",
       "      <th>Patient102_T_P</th>\n",
       "      <td>2.592158</td>\n",
       "      <td>3.121015</td>\n",
       "    </tr>\n",
       "    <tr>\n",
       "      <th>Patient105_T_P</th>\n",
       "      <td>1.169925</td>\n",
       "      <td>1.536053</td>\n",
       "    </tr>\n",
       "    <tr>\n",
       "      <th>Patient106_T_P</th>\n",
       "      <td>2.153805</td>\n",
       "      <td>2.750607</td>\n",
       "    </tr>\n",
       "    <tr>\n",
       "      <th>Patient10_T_M</th>\n",
       "      <td>2.891419</td>\n",
       "      <td>3.581351</td>\n",
       "    </tr>\n",
       "    <tr>\n",
       "      <th>...</th>\n",
       "      <td>...</td>\n",
       "      <td>...</td>\n",
       "    </tr>\n",
       "    <tr>\n",
       "      <th>Pt94_Pre_AD732850</th>\n",
       "      <td>4.702658</td>\n",
       "      <td>5.183089</td>\n",
       "    </tr>\n",
       "    <tr>\n",
       "      <th>Pt98_Pre_AD733586</th>\n",
       "      <td>4.831877</td>\n",
       "      <td>2.821710</td>\n",
       "    </tr>\n",
       "    <tr>\n",
       "      <th>Pt101_Pre_AD486328</th>\n",
       "      <td>4.444932</td>\n",
       "      <td>5.672142</td>\n",
       "    </tr>\n",
       "    <tr>\n",
       "      <th>Pt103_Pre_AE134058</th>\n",
       "      <td>3.676944</td>\n",
       "      <td>2.521051</td>\n",
       "    </tr>\n",
       "    <tr>\n",
       "      <th>Pt106_Pre_AD502250</th>\n",
       "      <td>4.880686</td>\n",
       "      <td>3.455492</td>\n",
       "    </tr>\n",
       "  </tbody>\n",
       "</table>\n",
       "<p>334 rows × 2 columns</p>\n",
       "</div>"
      ],
      "text/plain": [
       "                      TOLLIP    PIK3CD\n",
       "Patient100_T_P      2.526069  6.162693\n",
       "Patient102_T_P      2.592158  3.121015\n",
       "Patient105_T_P      1.169925  1.536053\n",
       "Patient106_T_P      2.153805  2.750607\n",
       "Patient10_T_M       2.891419  3.581351\n",
       "...                      ...       ...\n",
       "Pt94_Pre_AD732850   4.702658  5.183089\n",
       "Pt98_Pre_AD733586   4.831877  2.821710\n",
       "Pt101_Pre_AD486328  4.444932  5.672142\n",
       "Pt103_Pre_AE134058  3.676944  2.521051\n",
       "Pt106_Pre_AD502250  4.880686  3.455492\n",
       "\n",
       "[334 rows x 2 columns]"
      ]
     },
     "execution_count": 24,
     "metadata": {},
     "output_type": "execute_result"
    }
   ],
   "source": [
    "itrp_tpm[['TOLLIP', 'PIK3CD']]"
   ]
  },
  {
   "cell_type": "code",
   "execution_count": 31,
   "id": "04b3274d-72e7-45e4-b67b-4668be4a0de6",
   "metadata": {},
   "outputs": [
    {
     "data": {
      "text/plain": [
       "Patient100_T_P        3.636625\n",
       "Patient102_T_P        0.528857\n",
       "Patient105_T_P        0.366128\n",
       "Patient106_T_P        0.596801\n",
       "Patient10_T_M         0.689932\n",
       "                        ...   \n",
       "Pt94_Pre_AD732850     0.480432\n",
       "Pt98_Pre_AD733586    -2.010167\n",
       "Pt101_Pre_AD486328    1.227210\n",
       "Pt103_Pre_AE134058   -1.155894\n",
       "Pt106_Pre_AD502250   -1.425194\n",
       "Name: TOLLIP-PIK3CD, Length: 334, dtype: float64"
      ]
     },
     "execution_count": 31,
     "metadata": {},
     "output_type": "execute_result"
    }
   ],
   "source": [
    "-df1['TOLLIP-PIK3CD']"
   ]
  },
  {
   "cell_type": "code",
   "execution_count": null,
   "id": "90358df1-e083-499f-b7f6-adf1054e97b5",
   "metadata": {},
   "outputs": [],
   "source": []
  },
  {
   "cell_type": "code",
   "execution_count": 22,
   "id": "4fed4a50-8e08-4706-8610-e517fd201b6f",
   "metadata": {},
   "outputs": [
    {
     "name": "stderr",
     "output_type": "stream",
     "text": [
      "100%|##########| 4/4 [00:00<00:00, 2679.21it/s]\n"
     ]
    },
    {
     "data": {
      "text/html": [
       "<div>\n",
       "<style scoped>\n",
       "    .dataframe tbody tr th:only-of-type {\n",
       "        vertical-align: middle;\n",
       "    }\n",
       "\n",
       "    .dataframe tbody tr th {\n",
       "        vertical-align: top;\n",
       "    }\n",
       "\n",
       "    .dataframe thead th {\n",
       "        text-align: right;\n",
       "    }\n",
       "</style>\n",
       "<table border=\"1\" class=\"dataframe\">\n",
       "  <thead>\n",
       "    <tr style=\"text-align: right;\">\n",
       "      <th></th>\n",
       "      <th>prc</th>\n",
       "    </tr>\n",
       "    <tr>\n",
       "      <th>gene_name</th>\n",
       "      <th></th>\n",
       "    </tr>\n",
       "  </thead>\n",
       "  <tbody>\n",
       "    <tr>\n",
       "      <th>TOLLIP-PIK3CD</th>\n",
       "      <td>0.313189</td>\n",
       "    </tr>\n",
       "    <tr>\n",
       "      <th>RUNX3-SERPINB2</th>\n",
       "      <td>0.526713</td>\n",
       "    </tr>\n",
       "    <tr>\n",
       "      <th>PIK3CD-GTF3C1</th>\n",
       "      <td>0.549737</td>\n",
       "    </tr>\n",
       "    <tr>\n",
       "      <th>IL6R-MAP2K2</th>\n",
       "      <td>0.493955</td>\n",
       "    </tr>\n",
       "  </tbody>\n",
       "</table>\n",
       "</div>"
      ],
      "text/plain": [
       "                     prc\n",
       "gene_name               \n",
       "TOLLIP-PIK3CD   0.313189\n",
       "RUNX3-SERPINB2  0.526713\n",
       "PIK3CD-GTF3C1   0.549737\n",
       "IL6R-MAP2K2     0.493955"
      ]
     },
     "execution_count": 22,
     "metadata": {},
     "output_type": "execute_result"
    }
   ],
   "source": [
    "Xy_score(df1, 'Freeman_response', method='prc',)"
   ]
  },
  {
   "cell_type": "code",
   "execution_count": 14,
   "id": "f7e6f671-bbdc-4fbb-bebe-cd5aafc2896f",
   "metadata": {},
   "outputs": [
    {
     "name": "stderr",
     "output_type": "stream",
     "text": [
      "100%|##########| 4/4 [00:00<00:00, 2352.72it/s]\n"
     ]
    },
    {
     "data": {
      "text/html": [
       "<div>\n",
       "<style scoped>\n",
       "    .dataframe tbody tr th:only-of-type {\n",
       "        vertical-align: middle;\n",
       "    }\n",
       "\n",
       "    .dataframe tbody tr th {\n",
       "        vertical-align: top;\n",
       "    }\n",
       "\n",
       "    .dataframe thead th {\n",
       "        text-align: right;\n",
       "    }\n",
       "</style>\n",
       "<table border=\"1\" class=\"dataframe\">\n",
       "  <thead>\n",
       "    <tr style=\"text-align: right;\">\n",
       "      <th></th>\n",
       "      <th>mic</th>\n",
       "    </tr>\n",
       "    <tr>\n",
       "      <th>gene_name</th>\n",
       "      <th></th>\n",
       "    </tr>\n",
       "  </thead>\n",
       "  <tbody>\n",
       "    <tr>\n",
       "      <th>PIK3CD-TOLLIP</th>\n",
       "      <td>0.040215</td>\n",
       "    </tr>\n",
       "    <tr>\n",
       "      <th>RUNX3-SERPINB2</th>\n",
       "      <td>0.000423</td>\n",
       "    </tr>\n",
       "    <tr>\n",
       "      <th>PIK3CD-GTF3C1</th>\n",
       "      <td>0.002100</td>\n",
       "    </tr>\n",
       "    <tr>\n",
       "      <th>IL6R-MAP2K2</th>\n",
       "      <td>0.025935</td>\n",
       "    </tr>\n",
       "  </tbody>\n",
       "</table>\n",
       "</div>"
      ],
      "text/plain": [
       "                     mic\n",
       "gene_name               \n",
       "PIK3CD-TOLLIP   0.040215\n",
       "RUNX3-SERPINB2  0.000423\n",
       "PIK3CD-GTF3C1   0.002100\n",
       "IL6R-MAP2K2     0.025935"
      ]
     },
     "execution_count": 14,
     "metadata": {},
     "output_type": "execute_result"
    }
   ],
   "source": [
    "Xy_score(df1, 'Freeman_response', method='mic',)"
   ]
  },
  {
   "cell_type": "code",
   "execution_count": 2,
   "id": "4d15639f-8cc6-494c-bbf7-db7560d2def2",
   "metadata": {},
   "outputs": [
    {
     "ename": "NameError",
     "evalue": "name 'df1' is not defined",
     "output_type": "error",
     "traceback": [
      "\u001b[0;31m---------------------------------------------------------------------------\u001b[0m",
      "\u001b[0;31mNameError\u001b[0m                                 Traceback (most recent call last)",
      "Cell \u001b[0;32mIn[2], line 1\u001b[0m\n\u001b[0;32m----> 1\u001b[0m \u001b[43mdf1\u001b[49m[[\u001b[38;5;124m'\u001b[39m\u001b[38;5;124mPIK3CD-TOLLIP\u001b[39m\u001b[38;5;124m'\u001b[39m, \u001b[38;5;124m'\u001b[39m\u001b[38;5;124mRUNX3-SERPINB2\u001b[39m\u001b[38;5;124m'\u001b[39m, \u001b[38;5;124m'\u001b[39m\u001b[38;5;124mPIK3CD-GTF3C1\u001b[39m\u001b[38;5;124m'\u001b[39m, \u001b[38;5;124m'\u001b[39m\u001b[38;5;124mIL6R-MAP2K2\u001b[39m\u001b[38;5;124m'\u001b[39m]]\u001b[38;5;241m.\u001b[39mvalues\u001b[38;5;241m.\u001b[39mreshape(\u001b[38;5;241m-\u001b[39m\u001b[38;5;241m1\u001b[39m,\u001b[38;5;241m4\u001b[39m)\n",
      "\u001b[0;31mNameError\u001b[0m: name 'df1' is not defined"
     ]
    }
   ],
   "source": [
    "df1[['PIK3CD-TOLLIP', 'RUNX3-SERPINB2', 'PIK3CD-GTF3C1', 'IL6R-MAP2K2']].values.reshape(-1,4)"
   ]
  },
  {
   "cell_type": "code",
   "execution_count": 1,
   "id": "51669a8b-8943-48fc-9abd-6502a82f102e",
   "metadata": {},
   "outputs": [],
   "source": [
    "recall"
   ]
  },
  {
   "cell_type": "code",
   "execution_count": null,
   "id": "d1df5908-98e3-441d-9497-58405463c254",
   "metadata": {},
   "outputs": [],
   "source": []
  },
  {
   "cell_type": "code",
   "execution_count": 25,
   "id": "abd8ee01-6d61-4859-a0d1-b8a756d947a3",
   "metadata": {},
   "outputs": [
    {
     "data": {
      "text/plain": [
       "[<matplotlib.lines.Line2D at 0x7f14f0467150>]"
      ]
     },
     "execution_count": 25,
     "metadata": {},
     "output_type": "execute_result"
    },
    {
     "data": {
      "image/png": "[encoded data removed]",
      "text/plain": [
       "<Figure size 640x480 with 1 Axes>"
      ]
     },
     "metadata": {},
     "output_type": "display_data"
    }
   ],
   "source": [
    "#create precision recall curve\n",
    "fig, ax = plt.subplots()\n",
    "ax.plot(recall, precision, color='purple')"
   ]
  },
  {
   "cell_type": "code",
   "execution_count": null,
   "id": "cd9b2cb9-456f-4910-8a96-0f2303c9cbe8",
   "metadata": {},
   "outputs": [],
   "source": []
  },
  {
   "cell_type": "code",
   "execution_count": null,
   "id": "75138d2a-e8d3-440e-a25e-7007c84555c6",
   "metadata": {},
   "outputs": [],
   "source": []
  },
  {
   "cell_type": "code",
   "execution_count": null,
   "id": "5fbbce8d-1165-49d3-8878-be833539ef79",
   "metadata": {},
   "outputs": [],
   "source": []
  }
 ],
 "metadata": {
  "kernelspec": {
   "display_name": "Python 3 (ipykernel)",
   "language": "python",
   "name": "python3"
  },
  "language_info": {
   "codemirror_mode": {
    "name": "ipython",
    "version": 3
   },
   "file_extension": ".py",
   "mimetype": "text/x-python",
   "name": "python",
   "nbconvert_exporter": "python",
   "pygments_lexer": "ipython3",
   "version": "3.11.4"
  }
 },
 "nbformat": 4,
 "nbformat_minor": 5
}
