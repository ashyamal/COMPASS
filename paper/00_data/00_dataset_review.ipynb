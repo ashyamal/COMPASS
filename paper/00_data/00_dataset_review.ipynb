{
 "cells": [
  {
   "cell_type": "code",
   "execution_count": 1,
   "id": "5c86cbbc-1efb-4ac2-b5c4-f9f06fc0d3d8",
   "metadata": {},
   "outputs": [],
   "source": [
    "import os\n",
    "from tqdm import tqdm\n",
    "from itertools import chain\n",
    "import pandas as pd\n",
    "import numpy as np\n",
    "import random, torch\n",
    "import matplotlib.pyplot as plt\n",
    "import seaborn as sns\n",
    "sns.set(style = 'white', font_scale=1.5)\n",
    "\n",
    "import sys\n",
    "sys.path.insert(0, '/home/was966/Research/mims-conceptor/')\n",
    "from conceptor.utils import plot_embed_with_label\n",
    "from conceptor import PreTrainer, FineTuner, loadconceptor\n",
    "from conceptor.utils import plot_embed_with_label, score\n",
    "from conceptor.tokenizer import CANCER_CODE"
   ]
  },
  {
   "cell_type": "code",
   "execution_count": 2,
   "id": "094827d7-3590-43a6-9fd2-7cda0940354f",
   "metadata": {},
   "outputs": [
    {
     "data": {
      "text/plain": [
       "((1231, 15672), (1231, 34))"
      ]
     },
     "execution_count": 2,
     "metadata": {},
     "output_type": "execute_result"
    }
   ],
   "source": [
    "data_path = '/n/data1/hms/dbmi/zitnik/lab/users/was966/ITRP/TCGA-ITRP-GENESET-MERGE/15672/data'\n",
    "df_label = pd.read_pickle(os.path.join(data_path, 'ALL.ITRP.PATIENT.TABLE.HUGO'))\n",
    "df_tpm = pd.read_pickle(os.path.join(data_path, 'ALL.ITRP.TPM.TABLE.HUGO'))\n",
    "df_tpm.shape, df_label.shape"
   ]
  },
  {
   "cell_type": "code",
   "execution_count": 3,
   "id": "83d04b41-64d2-4d9d-844b-f431ee8f6ed7",
   "metadata": {},
   "outputs": [
    {
     "data": {
      "text/html": [
       "<div>\n",
       "<style scoped>\n",
       "    .dataframe tbody tr th:only-of-type {\n",
       "        vertical-align: middle;\n",
       "    }\n",
       "\n",
       "    .dataframe tbody tr th {\n",
       "        vertical-align: top;\n",
       "    }\n",
       "\n",
       "    .dataframe thead th {\n",
       "        text-align: right;\n",
       "    }\n",
       "</style>\n",
       "<table border=\"1\" class=\"dataframe\">\n",
       "  <thead>\n",
       "    <tr style=\"text-align: right;\">\n",
       "      <th></th>\n",
       "      <th>Cohort</th>\n",
       "      <th>Cancer Type</th>\n",
       "      <th>ICI</th>\n",
       "      <th>ICI Target</th>\n",
       "      <th>Patients(R/NR)</th>\n",
       "      <th>Sequencer</th>\n",
       "      <th>Reference</th>\n",
       "    </tr>\n",
       "  </thead>\n",
       "  <tbody>\n",
       "    <tr>\n",
       "      <th>0</th>\n",
       "      <td>IMVigor210</td>\n",
       "      <td>BLCA</td>\n",
       "      <td>atezolizumab</td>\n",
       "      <td>PD-L1</td>\n",
       "      <td>298(68/230)</td>\n",
       "      <td>HiSeq2500</td>\n",
       "      <td>IMvigor210 Study Group. The Lancet, 2017</td>\n",
       "    </tr>\n",
       "    <tr>\n",
       "      <th>1</th>\n",
       "      <td>Rose</td>\n",
       "      <td>BLCA</td>\n",
       "      <td>atezolizumab, avelumab, durvalumab, nivolumab,...</td>\n",
       "      <td>PD-L1 or PD1</td>\n",
       "      <td>89(16/73)</td>\n",
       "      <td>NovaSeq6000</td>\n",
       "      <td>Rose et al. BJC 2021</td>\n",
       "    </tr>\n",
       "    <tr>\n",
       "      <th>2</th>\n",
       "      <td>Snyder</td>\n",
       "      <td>BLCA</td>\n",
       "      <td>atezolizumab</td>\n",
       "      <td>PD-L1</td>\n",
       "      <td>21(7/14)</td>\n",
       "      <td>HiSeq4000</td>\n",
       "      <td>Snyder et al. PLoS Med. 2017</td>\n",
       "    </tr>\n",
       "    <tr>\n",
       "      <th>3</th>\n",
       "      <td>Zhao</td>\n",
       "      <td>GBM</td>\n",
       "      <td>nivolumab, pembrolizumab</td>\n",
       "      <td>PD1</td>\n",
       "      <td>25(11/14)</td>\n",
       "      <td>HiSeq2000</td>\n",
       "      <td>Zhao et al. Nature Medicine, 2019</td>\n",
       "    </tr>\n",
       "    <tr>\n",
       "      <th>4</th>\n",
       "      <td>Choueiri</td>\n",
       "      <td>KIRC</td>\n",
       "      <td>nivolumab</td>\n",
       "      <td>PD1</td>\n",
       "      <td>16(3/13)</td>\n",
       "      <td>HiSeq2500</td>\n",
       "      <td>Choueiri et al. Clinical Cancer Research, 2016</td>\n",
       "    </tr>\n",
       "  </tbody>\n",
       "</table>\n",
       "</div>"
      ],
      "text/plain": [
       "       Cohort Cancer Type                                                ICI  \\\n",
       "0  IMVigor210        BLCA                                       atezolizumab   \n",
       "1        Rose        BLCA  atezolizumab, avelumab, durvalumab, nivolumab,...   \n",
       "2      Snyder        BLCA                                       atezolizumab   \n",
       "3        Zhao         GBM                           nivolumab, pembrolizumab   \n",
       "4    Choueiri        KIRC                                          nivolumab   \n",
       "\n",
       "     ICI Target Patients(R/NR)    Sequencer  \\\n",
       "0         PD-L1    298(68/230)    HiSeq2500   \n",
       "1  PD-L1 or PD1      89(16/73)  NovaSeq6000   \n",
       "2         PD-L1     21(7/14)      HiSeq4000   \n",
       "3           PD1      25(11/14)    HiSeq2000   \n",
       "4           PD1       16(3/13)    HiSeq2500   \n",
       "\n",
       "                                        Reference  \n",
       "0        IMvigor210 Study Group. The Lancet, 2017  \n",
       "1                            Rose et al. BJC 2021  \n",
       "2                    Snyder et al. PLoS Med. 2017  \n",
       "3               Zhao et al. Nature Medicine, 2019  \n",
       "4  Choueiri et al. Clinical Cancer Research, 2016  "
      ]
     },
     "execution_count": 3,
     "metadata": {},
     "output_type": "execute_result"
    }
   ],
   "source": [
    "df = pd.read_excel('./ITRP_dataset.xlsx')\n",
    "df.head()"
   ]
  },
  {
   "cell_type": "markdown",
   "id": "4d1ac676-08ab-4315-a1b6-df8de3aa3185",
   "metadata": {},
   "source": [
    "# save cohort one-by-one"
   ]
  },
  {
   "cell_type": "code",
   "execution_count": 4,
   "id": "5ee6730b-f187-4a5e-8b3e-0170298799ba",
   "metadata": {},
   "outputs": [],
   "source": [
    "for i in range(len(df)):\n",
    "    s = df.iloc[i]\n",
    "    cohort = s['Cohort']\n",
    "    cancer = s['Cancer Type']\n",
    "    dfc = pd.read_excel('./ITRP_dataset.xlsx', sheet_name=cohort, index_col=0)\n",
    "    dft = df_tpm.loc[dfc.index]\n",
    "    dfc.to_csv('./%s/%s_clinical.tsv' % (cancer, cohort), sep = '\\t')\n",
    "    dft.to_csv('./%s/%s_tpm.tsv' % (cancer, cohort), sep = '\\t')"
   ]
  },
  {
   "cell_type": "code",
   "execution_count": null,
   "id": "b9f7092b-74df-4a1c-badf-03218581bea0",
   "metadata": {},
   "outputs": [],
   "source": []
  },
  {
   "cell_type": "markdown",
   "id": "74c43420-fd40-4338-aa7b-efe872f96ddc",
   "metadata": {},
   "source": [
    "## load all"
   ]
  },
  {
   "cell_type": "code",
   "execution_count": 5,
   "id": "d57c2ded-c00c-4ed3-a603-3b82299abdcc",
   "metadata": {},
   "outputs": [],
   "source": [
    "from glob import glob"
   ]
  },
  {
   "cell_type": "code",
   "execution_count": 6,
   "id": "af4f17c7-3916-4a88-aef7-640a2a035dd3",
   "metadata": {},
   "outputs": [],
   "source": [
    "fs = glob('./*/*_clinical.tsv')"
   ]
  },
  {
   "cell_type": "code",
   "execution_count": 7,
   "id": "8f21d1dd-6857-4cd7-8944-83f24d1d1d7f",
   "metadata": {},
   "outputs": [],
   "source": [
    "res = []\n",
    "for f in fs:\n",
    "    dfc = pd.read_csv(f, sep='\\t', index_col=0)\n",
    "    res.append(dfc)"
   ]
  },
  {
   "cell_type": "code",
   "execution_count": 8,
   "id": "979a7545-1d6f-4775-a05f-a3f5d2710aa2",
   "metadata": {},
   "outputs": [],
   "source": [
    "df_clinical = pd.concat(res)\n",
    "df_mrna = df_tpm.loc[df_clinical.index]"
   ]
  },
  {
   "cell_type": "code",
   "execution_count": 9,
   "id": "485050bd-8582-4414-aee6-3f59f43d6069",
   "metadata": {},
   "outputs": [],
   "source": [
    "ICI_target_map = {'PD-L1': 'PDL1',\n",
    " 'PD1': 'PD1',\n",
    " 'CTLA4': 'CTLA4',\n",
    " 'CTLA4+PD1': 'PD1+CTLA4',\n",
    " 'PD1 + CTLA4': 'PD1+CTLA4',\n",
    " 'CTLA4 + PD1': 'PD1+CTLA4',\n",
    " 'PDL1': 'PDL1'}\n",
    "\n",
    "ICI_map = {'Atezolizumab':'Atezo', \n",
    "           'Nivolumab':'Nivo', \n",
    "           'Pembrolizumab':'Pembro', \n",
    "           'Pembro':'Pembro', \n",
    "           'ipilimumab':'Ipi',\n",
    "          'Ipilimumab + Pembrolizumab':'Ipi+Pembro',\n",
    "          'Ipilimumab + Nivolumab':'Ipi+Nivo',\n",
    "          'Nivolumab + Ipilimumab':'Ipi+Nivo',\n",
    "           'unknow':'Uknow',\n",
    "          }\n",
    "\n",
    "tissue_map = {'bladder': 'Bladder',\n",
    " 'skin': 'Skin',\n",
    " 'Skin': 'Skin', \n",
    " 'SKin': 'Skin',\n",
    " 'SQ': 'Skin',\n",
    " 'R upper arm': 'Skin',\n",
    " 'ureter': 'Ureter',\n",
    " 'kidney': 'Kidney',\n",
    " 'Kidney': 'Kidney',\n",
    " 'lymph node': 'Lymph node',\n",
    " 'LN': 'Lymph node',\n",
    " 'Lymph-node': 'Lymph node',\n",
    " 'Brain': 'Brain',\n",
    " 'brain': 'Brain',\n",
    " 'mucosa': 'Mucosa',\n",
    " 'Mucosa': 'Mucosa',\n",
    " 'Ocular': 'Ocular',\n",
    " 'ocular/uveal': 'Ocular',\n",
    " 'liver/visceral': 'Liver',\n",
    " 'liver': 'Liver',\n",
    " 'soft tissue': 'Soft tissue',\n",
    " 'lung': 'Lung',\n",
    " 'Lung': 'Lung',\n",
    " 'other': 'Other',\n",
    " 'Other': 'Other',\n",
    " 'Penile': 'Other',\n",
    " 'bone': 'Other',\n",
    " 'Abdomen': 'Other',\n",
    " 'Bowel': 'Other',\n",
    " 'Adbdominal wall': 'Other',\n",
    " 'Colon': 'Other',\n",
    " 'Inguinal': 'Other',\n",
    " 'Clavicle': 'Other',\n",
    " 'Adrenal': 'Other',\n",
    " 'acral': 'Other'}"
   ]
  },
  {
   "cell_type": "code",
   "execution_count": 10,
   "id": "15c50016-f045-4280-8f60-f484c7ef0711",
   "metadata": {},
   "outputs": [],
   "source": [
    "df_clinical['ICI_target_map'] = df_clinical.ICI_target.map(ICI_target_map).fillna('Other')\n",
    "df_clinical['ICI_map'] = df_clinical.ICI.map(ICI_map).fillna('Other')\n",
    "\n",
    "df_clinical['Biopsy_site'] = df_clinical['Tissue'].map(tissue_map)"
   ]
  },
  {
   "cell_type": "code",
   "execution_count": null,
   "id": "3de0804e-4777-4a6f-aa29-cc1ce6fb8bad",
   "metadata": {},
   "outputs": [],
   "source": []
  },
  {
   "cell_type": "code",
   "execution_count": null,
   "id": "40c6cf8c-f816-4f59-9479-a51751eca317",
   "metadata": {},
   "outputs": [],
   "source": []
  },
  {
   "cell_type": "code",
   "execution_count": 11,
   "id": "8a1ff93b-b4d9-4669-8fce-a16937b54178",
   "metadata": {},
   "outputs": [],
   "source": [
    "def fill_recist(row):\n",
    "    if pd.isna(row['RECIST']):\n",
    "        return 'PR' if row['response_label'] == 'R' else 'PD'\n",
    "    else:\n",
    "        return row['RECIST']\n",
    "\n",
    "# Zhao Cohort has no RECIST labels, so we creat psedo-RECIST labels for no-FT\n",
    "df_clinical['RECIST'] = df_clinical.apply(fill_recist, axis=1)"
   ]
  },
  {
   "cell_type": "code",
   "execution_count": 12,
   "id": "97ecea1a-f609-4598-ba24-592f5844d37a",
   "metadata": {},
   "outputs": [],
   "source": [
    "df_clinical['sub_cohort'] = df_clinical['cohort'] + '(' + df_clinical['ICI_map'] + ')'\n",
    "size = df_clinical.groupby(['sub_cohort']).size()\n",
    "sub_cohort_used_flag = df_clinical.groupby(['sub_cohort', 'response_label']).size().unstack().dropna()\n",
    "sub_cohort_used_flag = sub_cohort_used_flag[sub_cohort_used_flag > 2].dropna().sort_index()\n",
    "df_clinical['sub_cohort_used_flag'] = df_clinical['sub_cohort'].isin(sub_cohort_used_flag.index)"
   ]
  },
  {
   "cell_type": "code",
   "execution_count": 13,
   "id": "2e6969b9-2a6b-4707-b58a-de05c1cc2637",
   "metadata": {
    "scrolled": true
   },
   "outputs": [
    {
     "data": {
      "text/html": [
       "<div>\n",
       "<style scoped>\n",
       "    .dataframe tbody tr th:only-of-type {\n",
       "        vertical-align: middle;\n",
       "    }\n",
       "\n",
       "    .dataframe tbody tr th {\n",
       "        vertical-align: top;\n",
       "    }\n",
       "\n",
       "    .dataframe thead th {\n",
       "        text-align: right;\n",
       "    }\n",
       "</style>\n",
       "<table border=\"1\" class=\"dataframe\">\n",
       "  <thead>\n",
       "    <tr style=\"text-align: right;\">\n",
       "      <th>response_label</th>\n",
       "      <th>NR</th>\n",
       "      <th>R</th>\n",
       "    </tr>\n",
       "    <tr>\n",
       "      <th>sub_cohort</th>\n",
       "      <th></th>\n",
       "      <th></th>\n",
       "    </tr>\n",
       "  </thead>\n",
       "  <tbody>\n",
       "    <tr>\n",
       "      <th>Allen(Ipi)</th>\n",
       "      <td>26.0</td>\n",
       "      <td>13.0</td>\n",
       "    </tr>\n",
       "    <tr>\n",
       "      <th>Choueiri(Nivo)</th>\n",
       "      <td>13.0</td>\n",
       "      <td>3.0</td>\n",
       "    </tr>\n",
       "    <tr>\n",
       "      <th>Gide(Ipi+Pembro)</th>\n",
       "      <td>9.0</td>\n",
       "      <td>16.0</td>\n",
       "    </tr>\n",
       "    <tr>\n",
       "      <th>Gide(Nivo)</th>\n",
       "      <td>5.0</td>\n",
       "      <td>4.0</td>\n",
       "    </tr>\n",
       "    <tr>\n",
       "      <th>Gide(Pembro)</th>\n",
       "      <td>17.0</td>\n",
       "      <td>15.0</td>\n",
       "    </tr>\n",
       "    <tr>\n",
       "      <th>Hugo(Pembro)</th>\n",
       "      <td>12.0</td>\n",
       "      <td>14.0</td>\n",
       "    </tr>\n",
       "    <tr>\n",
       "      <th>IMVigor210(Atezo)</th>\n",
       "      <td>230.0</td>\n",
       "      <td>68.0</td>\n",
       "    </tr>\n",
       "    <tr>\n",
       "      <th>IMmotion150(Atezo)</th>\n",
       "      <td>117.0</td>\n",
       "      <td>48.0</td>\n",
       "    </tr>\n",
       "    <tr>\n",
       "      <th>Kim(Pembro)</th>\n",
       "      <td>33.0</td>\n",
       "      <td>12.0</td>\n",
       "    </tr>\n",
       "    <tr>\n",
       "      <th>Liu(Nivo)</th>\n",
       "      <td>28.0</td>\n",
       "      <td>17.0</td>\n",
       "    </tr>\n",
       "    <tr>\n",
       "      <th>Liu(Pembro)</th>\n",
       "      <td>38.0</td>\n",
       "      <td>24.0</td>\n",
       "    </tr>\n",
       "    <tr>\n",
       "      <th>MGH(Uknow)</th>\n",
       "      <td>22.0</td>\n",
       "      <td>12.0</td>\n",
       "    </tr>\n",
       "    <tr>\n",
       "      <th>Riaz(Nivo)</th>\n",
       "      <td>41.0</td>\n",
       "      <td>10.0</td>\n",
       "    </tr>\n",
       "    <tr>\n",
       "      <th>Rose(Atezo)</th>\n",
       "      <td>26.0</td>\n",
       "      <td>9.0</td>\n",
       "    </tr>\n",
       "    <tr>\n",
       "      <th>Rose(Pembro)</th>\n",
       "      <td>39.0</td>\n",
       "      <td>7.0</td>\n",
       "    </tr>\n",
       "    <tr>\n",
       "      <th>SU2CLC1(Nivo)</th>\n",
       "      <td>31.0</td>\n",
       "      <td>18.0</td>\n",
       "    </tr>\n",
       "    <tr>\n",
       "      <th>SU2CLC1(Pembro)</th>\n",
       "      <td>23.0</td>\n",
       "      <td>10.0</td>\n",
       "    </tr>\n",
       "    <tr>\n",
       "      <th>SU2CLC2(Nivo)</th>\n",
       "      <td>11.0</td>\n",
       "      <td>3.0</td>\n",
       "    </tr>\n",
       "    <tr>\n",
       "      <th>SU2CLC2(Pembro)</th>\n",
       "      <td>5.0</td>\n",
       "      <td>5.0</td>\n",
       "    </tr>\n",
       "    <tr>\n",
       "      <th>Snyder(Atezo)</th>\n",
       "      <td>14.0</td>\n",
       "      <td>7.0</td>\n",
       "    </tr>\n",
       "    <tr>\n",
       "      <th>Zhao(Nivo)</th>\n",
       "      <td>14.0</td>\n",
       "      <td>6.0</td>\n",
       "    </tr>\n",
       "  </tbody>\n",
       "</table>\n",
       "</div>"
      ],
      "text/plain": [
       "response_label         NR     R\n",
       "sub_cohort                     \n",
       "Allen(Ipi)           26.0  13.0\n",
       "Choueiri(Nivo)       13.0   3.0\n",
       "Gide(Ipi+Pembro)      9.0  16.0\n",
       "Gide(Nivo)            5.0   4.0\n",
       "Gide(Pembro)         17.0  15.0\n",
       "Hugo(Pembro)         12.0  14.0\n",
       "IMVigor210(Atezo)   230.0  68.0\n",
       "IMmotion150(Atezo)  117.0  48.0\n",
       "Kim(Pembro)          33.0  12.0\n",
       "Liu(Nivo)            28.0  17.0\n",
       "Liu(Pembro)          38.0  24.0\n",
       "MGH(Uknow)           22.0  12.0\n",
       "Riaz(Nivo)           41.0  10.0\n",
       "Rose(Atezo)          26.0   9.0\n",
       "Rose(Pembro)         39.0   7.0\n",
       "SU2CLC1(Nivo)        31.0  18.0\n",
       "SU2CLC1(Pembro)      23.0  10.0\n",
       "SU2CLC2(Nivo)        11.0   3.0\n",
       "SU2CLC2(Pembro)       5.0   5.0\n",
       "Snyder(Atezo)        14.0   7.0\n",
       "Zhao(Nivo)           14.0   6.0"
      ]
     },
     "execution_count": 13,
     "metadata": {},
     "output_type": "execute_result"
    }
   ],
   "source": [
    "sub_cohort_used_flag"
   ]
  },
  {
   "cell_type": "code",
   "execution_count": 14,
   "id": "be807f68-4ca3-4b69-a83f-04d11c923a08",
   "metadata": {},
   "outputs": [],
   "source": [
    "## process TMB\n",
    "df_label = df_clinical\n",
    "capsize= 35.8\n",
    "df_label.loc[df_label.cohort == 'Hugo', 'real_TMB'] = (2**(df_label.loc[df_label.cohort == 'Hugo', 'log2_tmb.dan'])*capsize)\n",
    "df_label.loc[df_label.cohort == 'Allen', 'real_TMB'] = (2**(df_label.loc[df_label.cohort == 'Allen', 'log2_tmb.dan'])*capsize)\n",
    "df_label.loc[df_label.cohort == 'MGH', 'real_TMB'] = (2**(df_label.loc[df_label.cohort == 'MGH', 'log2_tmb.dan'])*capsize)\n",
    "\n",
    "df_label.loc[df_label.cohort == 'Liu', 'real_TMB'] = (2**(df_label.loc[df_label.cohort == 'Liu', 'log2_tmb.dan'])*capsize)\n",
    "df_label.loc[df_label.cohort == 'Riaz', 'real_TMB'] = (2**(df_label.loc[df_label.cohort == 'Riaz', 'log2_tmb.dan'])*capsize)\n",
    "df_label.loc[df_label.cohort == 'Rose', 'real_TMB'] = df_label.loc[df_label.cohort == 'Rose', 'TMB']\n",
    "df_label.loc[df_label.cohort == 'IMVigor210', 'real_TMB'] = df_label.loc[df_label.cohort == 'IMVigor210', 'TMB (FMOne mutation burden per MB)']"
   ]
  },
  {
   "cell_type": "code",
   "execution_count": null,
   "id": "ea8d18d7-110f-428b-938c-1c8b9005ebf1",
   "metadata": {},
   "outputs": [],
   "source": []
  },
  {
   "cell_type": "code",
   "execution_count": 15,
   "id": "3fd63c23-3961-4cfd-9849-eccd76bfef41",
   "metadata": {},
   "outputs": [],
   "source": [
    "df_label.to_pickle('./ITRP.PATIENT.TABLE')\n",
    "df_mrna.to_pickle('./ITRP.TPM.TABLE')"
   ]
  },
  {
   "cell_type": "code",
   "execution_count": null,
   "id": "adc5a3b2-54f7-4687-8652-8f6216fde8c2",
   "metadata": {},
   "outputs": [],
   "source": []
  },
  {
   "cell_type": "code",
   "execution_count": null,
   "id": "bb9823c8-c797-4cd1-9c1e-3c4e97f2d6d8",
   "metadata": {},
   "outputs": [],
   "source": []
  },
  {
   "cell_type": "code",
   "execution_count": null,
   "id": "b4fa6788-51fe-4db2-b05c-249e5da165c0",
   "metadata": {},
   "outputs": [],
   "source": []
  },
  {
   "cell_type": "code",
   "execution_count": null,
   "id": "46010dfd-c544-4835-8c46-a8077ae61bdb",
   "metadata": {},
   "outputs": [],
   "source": []
  },
  {
   "cell_type": "code",
   "execution_count": 16,
   "id": "6194f851-3837-4670-abf4-526136f9f036",
   "metadata": {},
   "outputs": [],
   "source": [
    "df_clinical = pd.read_pickle('./ITRP.PATIENT.TABLE')\n",
    "df_mrna = pd.read_pickle('./ITRP.TPM.TABLE')"
   ]
  },
  {
   "cell_type": "code",
   "execution_count": 17,
   "id": "78fe5399-b042-4105-804e-d8b1184740bc",
   "metadata": {},
   "outputs": [
    {
     "data": {
      "text/html": [
       "<div>\n",
       "<style scoped>\n",
       "    .dataframe tbody tr th:only-of-type {\n",
       "        vertical-align: middle;\n",
       "    }\n",
       "\n",
       "    .dataframe tbody tr th {\n",
       "        vertical-align: top;\n",
       "    }\n",
       "\n",
       "    .dataframe thead th {\n",
       "        text-align: right;\n",
       "    }\n",
       "</style>\n",
       "<table border=\"1\" class=\"dataframe\">\n",
       "  <thead>\n",
       "    <tr style=\"text-align: right;\">\n",
       "      <th>response_label</th>\n",
       "      <th>NR</th>\n",
       "      <th>R</th>\n",
       "      <th>Total</th>\n",
       "    </tr>\n",
       "    <tr>\n",
       "      <th>cohort</th>\n",
       "      <th></th>\n",
       "      <th></th>\n",
       "      <th></th>\n",
       "    </tr>\n",
       "  </thead>\n",
       "  <tbody>\n",
       "    <tr>\n",
       "      <th>Choueiri</th>\n",
       "      <td>13</td>\n",
       "      <td>3</td>\n",
       "      <td>16</td>\n",
       "    </tr>\n",
       "    <tr>\n",
       "      <th>Miao</th>\n",
       "      <td>12</td>\n",
       "      <td>5</td>\n",
       "      <td>17</td>\n",
       "    </tr>\n",
       "    <tr>\n",
       "      <th>Snyder</th>\n",
       "      <td>14</td>\n",
       "      <td>7</td>\n",
       "      <td>21</td>\n",
       "    </tr>\n",
       "    <tr>\n",
       "      <th>SU2CLC2</th>\n",
       "      <td>17</td>\n",
       "      <td>8</td>\n",
       "      <td>25</td>\n",
       "    </tr>\n",
       "    <tr>\n",
       "      <th>Zhao</th>\n",
       "      <td>14</td>\n",
       "      <td>11</td>\n",
       "      <td>25</td>\n",
       "    </tr>\n",
       "    <tr>\n",
       "      <th>Hugo</th>\n",
       "      <td>12</td>\n",
       "      <td>14</td>\n",
       "      <td>26</td>\n",
       "    </tr>\n",
       "    <tr>\n",
       "      <th>MGH</th>\n",
       "      <td>22</td>\n",
       "      <td>12</td>\n",
       "      <td>34</td>\n",
       "    </tr>\n",
       "    <tr>\n",
       "      <th>Allen</th>\n",
       "      <td>26</td>\n",
       "      <td>13</td>\n",
       "      <td>39</td>\n",
       "    </tr>\n",
       "    <tr>\n",
       "      <th>Kim</th>\n",
       "      <td>33</td>\n",
       "      <td>12</td>\n",
       "      <td>45</td>\n",
       "    </tr>\n",
       "    <tr>\n",
       "      <th>Riaz</th>\n",
       "      <td>41</td>\n",
       "      <td>10</td>\n",
       "      <td>51</td>\n",
       "    </tr>\n",
       "    <tr>\n",
       "      <th>Gide</th>\n",
       "      <td>33</td>\n",
       "      <td>40</td>\n",
       "      <td>73</td>\n",
       "    </tr>\n",
       "    <tr>\n",
       "      <th>Rose</th>\n",
       "      <td>73</td>\n",
       "      <td>16</td>\n",
       "      <td>89</td>\n",
       "    </tr>\n",
       "    <tr>\n",
       "      <th>SU2CLC1</th>\n",
       "      <td>64</td>\n",
       "      <td>38</td>\n",
       "      <td>102</td>\n",
       "    </tr>\n",
       "    <tr>\n",
       "      <th>Liu</th>\n",
       "      <td>66</td>\n",
       "      <td>41</td>\n",
       "      <td>107</td>\n",
       "    </tr>\n",
       "    <tr>\n",
       "      <th>IMmotion150</th>\n",
       "      <td>117</td>\n",
       "      <td>48</td>\n",
       "      <td>165</td>\n",
       "    </tr>\n",
       "    <tr>\n",
       "      <th>IMVigor210</th>\n",
       "      <td>230</td>\n",
       "      <td>68</td>\n",
       "      <td>298</td>\n",
       "    </tr>\n",
       "  </tbody>\n",
       "</table>\n",
       "</div>"
      ],
      "text/plain": [
       "response_label   NR   R  Total\n",
       "cohort                        \n",
       "Choueiri         13   3     16\n",
       "Miao             12   5     17\n",
       "Snyder           14   7     21\n",
       "SU2CLC2          17   8     25\n",
       "Zhao             14  11     25\n",
       "Hugo             12  14     26\n",
       "MGH              22  12     34\n",
       "Allen            26  13     39\n",
       "Kim              33  12     45\n",
       "Riaz             41  10     51\n",
       "Gide             33  40     73\n",
       "Rose             73  16     89\n",
       "SU2CLC1          64  38    102\n",
       "Liu              66  41    107\n",
       "IMmotion150     117  48    165\n",
       "IMVigor210      230  68    298"
      ]
     },
     "execution_count": 17,
     "metadata": {},
     "output_type": "execute_result"
    }
   ],
   "source": [
    "dfs = df_clinical.groupby(['cohort', 'response_label']).size().unstack()\n",
    "dfs['Total'] = dfs.sum(axis=1)\n",
    "dfs.sort_values('Total')"
   ]
  },
  {
   "cell_type": "code",
   "execution_count": 18,
   "id": "9f2204c9-9260-4b93-a9b6-925932ddbd0d",
   "metadata": {},
   "outputs": [
    {
     "data": {
      "text/plain": [
       "Text(0, 0.5, 'Number of Patients')"
      ]
     },
     "execution_count": 18,
     "metadata": {},
     "output_type": "execute_result"
    },
    {
     "data": {
      "image/png": "[encoded data removed]",
      "text/plain": [
       "<Figure size 1000x600 with 1 Axes>"
      ]
     },
     "metadata": {},
     "output_type": "display_data"
    }
   ],
   "source": [
    "skcm = df_clinical[df_clinical.cancer_type == 'SKCM']\n",
    "data = skcm.groupby('cohort').apply(lambda x:x.Biopsy_site.value_counts()).unstack()\n",
    "data = data.loc[data.sum(axis=1).sort_values(ascending=False).index]\n",
    "data = data[data.sum().sort_values(ascending=False).index]\n",
    "fig, ax = plt.subplots(figsize=(10, 6))\n",
    "data.plot(kind='bar', ax = ax)\n",
    "ax.legend(loc='upper right', ncol=2)\n",
    "ax.tick_params(bottom='on', left='off',  labelleft='on', labelbottom='on', pad=-.6,)\n",
    "sns.despine(top=True, right=True, left=False, bottom=False)\n",
    "ax.set_ylabel('Number of Patients')"
   ]
  },
  {
   "cell_type": "code",
   "execution_count": 19,
   "id": "a6b95ca7-f43a-4d00-bcb8-a30ad1777866",
   "metadata": {},
   "outputs": [
    {
     "data": {
      "text/plain": [
       "Text(0, 0.5, 'Number of Patients')"
      ]
     },
     "execution_count": 19,
     "metadata": {},
     "output_type": "execute_result"
    },
    {
     "data": {
      "image/png": "[encoded data removed]",
      "text/plain": [
       "<Figure size 1000x600 with 1 Axes>"
      ]
     },
     "metadata": {},
     "output_type": "display_data"
    }
   ],
   "source": [
    "skcm = df_clinical[df_clinical.cancer_type == 'BLCA']\n",
    "data = skcm.groupby('cohort').apply(lambda x:x.Biopsy_site.value_counts()).unstack()\n",
    "data = data.loc[data.sum(axis=1).sort_values(ascending=False).index]\n",
    "data = data[data.sum().sort_values(ascending=False).index]\n",
    "fig, ax = plt.subplots(figsize=(10, 6))\n",
    "data.plot(kind='bar', ax = ax)\n",
    "ax.legend(loc='upper right', ncol=2)\n",
    "ax.tick_params(bottom='on', left='off',  labelleft='on', labelbottom='on', pad=-.6,)\n",
    "sns.despine(top=True, right=True, left=False, bottom=False)\n",
    "ax.set_ylabel('Number of Patients')"
   ]
  },
  {
   "cell_type": "code",
   "execution_count": null,
   "id": "f2abb38a-e038-4017-b597-1bcfe1230616",
   "metadata": {},
   "outputs": [],
   "source": []
  },
  {
   "cell_type": "code",
   "execution_count": 20,
   "id": "404cec4b-349a-4511-b664-f736ed50fa07",
   "metadata": {},
   "outputs": [],
   "source": [
    "skcm = df_clinical[df_clinical.cohort == 'IMVigor210']\n",
    "data = skcm.groupby('cohort').apply(lambda x:x['Immune phenotype'].value_counts())\n",
    "# data = data.loc[data.sum(axis=1).sort_values(ascending=False).index]\n",
    "# data = data[data.sum().sort_values(ascending=False).index]\n",
    "# fig, ax = plt.subplots(figsize=(10, 6))\n",
    "# data.plot(kind='bar', ax = ax)\n",
    "# ax.legend(loc='upper right', ncol=2)\n",
    "# ax.tick_params(bottom='on', left='off',  labelleft='on', labelbottom='on', pad=-.6,)\n",
    "# sns.despine(top=True, right=True, left=False, bottom=False)\n",
    "# ax.set_ylabel('Number of Patients')"
   ]
  },
  {
   "cell_type": "code",
   "execution_count": 21,
   "id": "b43e7f3c-9e2a-42a6-8214-69b2f61b4d2f",
   "metadata": {},
   "outputs": [
    {
     "data": {
      "text/plain": [
       "<Axes: xlabel='cohort'>"
      ]
     },
     "execution_count": 21,
     "metadata": {},
     "output_type": "execute_result"
    },
    {
     "data": {
      "image/png": "[encoded data removed]",
      "text/plain": [
       "<Figure size 640x480 with 1 Axes>"
      ]
     },
     "metadata": {},
     "output_type": "display_data"
    }
   ],
   "source": [
    "data.plot(kind='bar')"
   ]
  },
  {
   "cell_type": "code",
   "execution_count": 27,
   "id": "84423b89-09f3-49b7-9c95-a5f069fceb90",
   "metadata": {},
   "outputs": [
    {
     "data": {
      "text/plain": [
       "array(['IMVigor210', 'Rose', 'Allen', 'Hugo', 'Liu', 'MGH', 'Riaz'],\n",
       "      dtype=object)"
      ]
     },
     "execution_count": 27,
     "metadata": {},
     "output_type": "execute_result"
    }
   ],
   "source": [
    "df_clinical[~df_clinical.real_TMB.isna()].cohort.unique()"
   ]
  },
  {
   "cell_type": "code",
   "execution_count": null,
   "id": "822f0661-c346-472f-bc5e-a1924f60f4dc",
   "metadata": {},
   "outputs": [],
   "source": []
  },
  {
   "cell_type": "code",
   "execution_count": null,
   "id": "93980446-da2e-4318-8e69-3fbdf19cd2c0",
   "metadata": {},
   "outputs": [],
   "source": []
  },
  {
   "cell_type": "code",
   "execution_count": null,
   "id": "bcaf6d3e-b012-4994-a694-4239ac5f31e4",
   "metadata": {},
   "outputs": [],
   "source": []
  }
 ],
 "metadata": {
  "kernelspec": {
   "display_name": "Python 3 (ipykernel)",
   "language": "python",
   "name": "python3"
  },
  "language_info": {
   "codemirror_mode": {
    "name": "ipython",
    "version": 3
   },
   "file_extension": ".py",
   "mimetype": "text/x-python",
   "name": "python",
   "nbconvert_exporter": "python",
   "pygments_lexer": "ipython3",
   "version": "3.8.18"
  }
 },
 "nbformat": 4,
 "nbformat_minor": 5
}
