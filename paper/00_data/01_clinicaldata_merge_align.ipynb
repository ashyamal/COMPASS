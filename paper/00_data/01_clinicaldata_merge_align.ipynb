{
 "cells": [
  {
   "cell_type": "code",
   "execution_count": 1,
   "id": "21357a25-8c0f-4084-8941-13ecc1bc9430",
   "metadata": {},
   "outputs": [],
   "source": [
    "import pandas as pd\n",
    "import numpy as np\n",
    "import os\n",
    "\n",
    "data_path = './'\n",
    "df_label = pd.read_pickle(os.path.join(data_path, 'ITRP.PATIENT.TABLE'))\n"
   ]
  },
  {
   "cell_type": "code",
   "execution_count": 2,
   "id": "598fb00a-0517-42a5-8c06-d460cb87f2d1",
   "metadata": {},
   "outputs": [],
   "source": [
    "usedcols = ['Sample_id', 'response_label', 'RECIST',  \n",
    "            'Timing', 'cohort', 'sub_cohort', 'cancer_type', 'cancer_stage', 'Immune phenotype', 'sequencer',\n",
    "            'ICI', 'ICI_target', 'ICI_map', 'ICI_target_map',\n",
    "             'Biopsy_site', 'Tissue', 'Tissue_map',\n",
    "            'TMB', 'Age', 'Gender', 'Race', \n",
    "            'OS_Months','OS_Event', 'PFS_Months', 'PFS_Event','patient_id']\n",
    "\n",
    "#IMVigor210\n",
    "sidx = df_label[df_label.cohort == 'IMVigor210'].index\n",
    "dfcl = df_label.loc[sidx].dropna(axis=1, how='all')\n",
    "dfcl['TMB'] = dfcl['TMB (FMOne mutation burden per MB)']\n",
    "dfcl = dfcl.rename(columns = { 'Sex':'Gender', 'os':'OS_Months','censOS':'OS_Event'})\n",
    "dfcl['cancer_stage'] = dfcl['TCGA Subtype']\n",
    "\n",
    "df1 = dfcl.copy()"
   ]
  },
  {
   "cell_type": "code",
   "execution_count": null,
   "id": "45eca6f0-d9b0-4ff2-a7a6-1baf9cdfff98",
   "metadata": {},
   "outputs": [],
   "source": []
  },
  {
   "cell_type": "code",
   "execution_count": 3,
   "id": "b6879785-30c6-4a9b-afcb-6e56fc1b44ea",
   "metadata": {
    "scrolled": true
   },
   "outputs": [],
   "source": [
    "#Rose\n",
    "sidx = df_label[df_label.cohort == 'Rose'].index\n",
    "dfcl = df_label.loc[sidx].dropna(axis=1, how='all')\n",
    "\n",
    "dfcl = dfcl.rename(columns = {'age':'Age', 'gender':'Gender', 'race':'Race'})\n",
    "\n",
    "dfcl['OS_Months'] = dfcl['os (days)'] / 30\n",
    "dfcl['OS_Event'] = dfcl['alive'].map({'Yes':0, 'No':1}) # 1 for dead, 0 for alive\n",
    "dfcl['PFS_Months'] = dfcl['pfs'] / 30\n",
    "dfcl['PFS_Event'] = dfcl['progressed'].map({'Yes':1, 'No':0}) # 1 = 发生事件（progression or death），0 = 截尾\n",
    "dfcl['cancer_stage'] = dfcl['t.stage.at.diagnosis']\n",
    "\n",
    "df2 = dfcl.copy()"
   ]
  },
  {
   "cell_type": "code",
   "execution_count": null,
   "id": "fb13cfa9-e279-462a-b6cb-15c840ef961f",
   "metadata": {},
   "outputs": [],
   "source": []
  },
  {
   "cell_type": "code",
   "execution_count": null,
   "id": "08a83131-e617-41b0-8d0c-cd6139838f9f",
   "metadata": {},
   "outputs": [],
   "source": []
  },
  {
   "cell_type": "code",
   "execution_count": 4,
   "id": "9438e3cd-57f9-4a47-be74-943fa643356a",
   "metadata": {},
   "outputs": [],
   "source": [
    "#Snyder\n",
    "sidx = df_label[df_label.cohort == 'Snyder'].index\n",
    "dfcl = df_label.loc[sidx].dropna(axis=1, how='all')\n",
    "\n",
    "dfcl = dfcl.rename(columns = {'age':'Age'})\n",
    "dfcl['OS_Months'] = dfcl['os (days)'] / 30\n",
    "dfcl['OS_Event'] = dfcl['alive_status'].map({'Y':0, 'N':1}) # 1 for dead, 0 for alive\n",
    "dfcl['PFS_Months'] = dfcl['pfs (days)'] / 30\n",
    "\n",
    "df3 = dfcl.copy()\n"
   ]
  },
  {
   "cell_type": "code",
   "execution_count": 5,
   "id": "331a9088-184c-40fb-8982-75def3db275a",
   "metadata": {},
   "outputs": [],
   "source": [
    "#Zhao\n",
    "sidx = df_label[df_label.cohort == 'Zhao'].index\n",
    "dfcl = df_label.loc[sidx].dropna(axis=1, how='all')\n",
    "dfcl['OS_Event'] = dfcl['Alive (Y=1, No=0)'].map({1:0.0, 0:1}) # 1 for dead, 0 for alive\n",
    "df4 = dfcl.copy()"
   ]
  },
  {
   "cell_type": "code",
   "execution_count": 6,
   "id": "30a9d6f8-9af1-4da4-953a-45f5f31b20b3",
   "metadata": {},
   "outputs": [],
   "source": [
    "#Choueiri\n",
    "sidx = df_label[df_label.cohort == 'Choueiri'].index\n",
    "dfcl = df_label.loc[sidx].dropna(axis=1, how='all')\n",
    "dfcl['OS_Event'] = dfcl['Alive (Y=1, No=0)'].map({1:0.0, 0:1}) # 1 for dead, 0 for alive\n",
    "df5 = dfcl.copy()"
   ]
  },
  {
   "cell_type": "code",
   "execution_count": 7,
   "id": "a0728bfe-41ea-4b12-a67f-edccf1f55e7f",
   "metadata": {},
   "outputs": [],
   "source": [
    "#Miao\n",
    "sidx = df_label[df_label.cohort == 'Miao'].index\n",
    "dfcl = df_label.loc[sidx].dropna(axis=1, how='all')\n",
    "dfcl['OS_Event'] = dfcl['Alive (Y=1, No=0)'].map({1:0.0, 0:1}) # 1 for dead, 0 for alive\n",
    "df6 = dfcl.copy()\n"
   ]
  },
  {
   "cell_type": "code",
   "execution_count": 8,
   "id": "7bb32599-23d3-49a9-af61-2687f1513d20",
   "metadata": {},
   "outputs": [],
   "source": [
    "#Kim\n",
    "sidx = df_label[df_label.cohort == 'Kim'].index\n",
    "dfcl = df_label.loc[sidx].dropna(axis=1, how='all')\n",
    "dfcl['OS_Event'] = dfcl['Alive (Y=1, No=0)'].map({1:0.0, 0:1}) # 1 for dead, 0 for alive\n",
    "df7 = dfcl.copy()\n"
   ]
  },
  {
   "cell_type": "code",
   "execution_count": 9,
   "id": "2aca4140-bb9a-400d-be18-0f59d5e2520e",
   "metadata": {},
   "outputs": [],
   "source": [
    "#SU2CLC1\n",
    "sidx = df_label[df_label.cohort == 'SU2CLC1'].index\n",
    "dfcl = df_label.loc[sidx].dropna(axis=1, how='all')\n",
    "\n",
    "dfcl['OS_Months'] = dfcl['OS_Days'] / 30\n",
    "dfcl['PFS_Months'] = dfcl['PFS_Days'] / 30\n",
    "\n",
    "\n",
    "dfp = pd.read_csv('./SU2CLC1_phenotype.tsv', index_col=0, sep='\\t')\n",
    "dfcl['Immune phenotype'] = dfcl.Sample_id.map(dfp.Phenotype)\n",
    "\n",
    "\n",
    "df8 = dfcl.copy()\n"
   ]
  },
  {
   "cell_type": "code",
   "execution_count": 10,
   "id": "87056567-9039-41e7-91d2-3e751c25043a",
   "metadata": {},
   "outputs": [],
   "source": [
    "#SU2CLC2\n",
    "sidx = df_label[df_label.cohort == 'SU2CLC2'].index\n",
    "dfcl = df_label.loc[sidx].dropna(axis=1, how='all')\n",
    "\n",
    "dfcl['OS_Months'] = dfcl['OS_Days'] / 30\n",
    "dfcl['PFS_Months'] = dfcl['PFS_Days'] / 30\n",
    "dfcl['Immune phenotype'] = dfcl.Sample_id.map(dfp.Phenotype)\n",
    "\n",
    "df9 = dfcl.copy()"
   ]
  },
  {
   "cell_type": "code",
   "execution_count": 11,
   "id": "d60f938d-3944-4338-8020-66a8c23ef5c3",
   "metadata": {},
   "outputs": [],
   "source": [
    "#Hugo\n",
    "sidx = df_label[df_label.cohort == 'Hugo'].index\n",
    "dfcl = df_label.loc[sidx].dropna(axis=1, how='all')\n",
    "\n",
    "dfcl['TMB'] = dfcl['real_TMB']\n",
    "dfcl['cancer_stage'] = dfcl['Disease Status']\n",
    "dfcl['OS_Months'] = dfcl['Overall Survival'] / 30\n",
    "dfcl['OS_Event'] = dfcl['Vital Status'].map({'Dead':1, 'Alive':0 })\n",
    "\n",
    "df10 = dfcl.copy()\n"
   ]
  },
  {
   "cell_type": "code",
   "execution_count": 12,
   "id": "92ac5a15-07ac-4d71-8f6a-d8a20234893f",
   "metadata": {},
   "outputs": [],
   "source": [
    "#Gide\n",
    "sidx = df_label[df_label.cohort == 'Gide'].index\n",
    "dfcl = df_label.loc[sidx].dropna(axis=1, how='all')\n",
    "\n",
    "dfcl['OS_Months'] = dfcl['Overall_survival'] / 30\n",
    "dfcl['OS_Event'] = dfcl['Alive (Y=1, No=0)'].map({1:0, 0:1 })\n",
    "dfcl['PFS_Months'] = dfcl['Progression Free Survival (Days)'] / 30\n",
    "dfcl['PFS_Event'] = dfcl['Progressed'].map({'Yes':1, 'No':0}) # 1 = 发生事件（progression or death），0 = 截尾\n",
    "\n",
    "df11 = dfcl.copy()\n"
   ]
  },
  {
   "cell_type": "code",
   "execution_count": 13,
   "id": "16bbfe40-ee06-43b5-a1db-25c2a86013ef",
   "metadata": {},
   "outputs": [],
   "source": [
    "#Liu\n",
    "sidx = df_label[df_label.cohort == 'Liu'].index\n",
    "dfcl = df_label.loc[sidx].dropna(axis=1, how='all')\n",
    "\n",
    "\n",
    "dfcl['TMB'] = dfcl['real_TMB']\n",
    "dfcl['Gender'] = dfcl['gender (Male=1, Female=0)'].map({1:'Male', 0:'Female'})\n",
    "\n",
    "dfcl['OS_Months'] = dfcl['OS'] / 30\n",
    "dfcl['OS_Event'] = dfcl['dead']\n",
    "dfcl['PFS_Months'] = dfcl['PFS'] / 30\n",
    "dfcl['PFS_Event'] = dfcl['progressed'] # 1 = 发生事件（progression or death），0 = 截尾\n",
    "\n",
    "df12 = dfcl.copy()\n"
   ]
  },
  {
   "cell_type": "code",
   "execution_count": 14,
   "id": "6f121f91-214d-4dde-89f6-4bac71c2abd0",
   "metadata": {},
   "outputs": [],
   "source": [
    "#Riaz\n",
    "sidx = df_label[df_label.cohort == 'Riaz'].index\n",
    "dfcl = df_label.loc[sidx].dropna(axis=1, how='all')\n",
    "\n",
    "\n",
    "dfcl['TMB'] = dfcl['real_TMB']\n",
    "\n",
    "dfcl['OS_Months'] = dfcl['Overall_survival'] / 30\n",
    "dfcl['OS_Event'] = dfcl['Alive (Y=1, No=0)'].map({1:0, 0:1 })\n",
    "\n",
    "df13 = dfcl.copy()"
   ]
  },
  {
   "cell_type": "code",
   "execution_count": 15,
   "id": "435336e5-2a9f-4747-8696-b28dc6bc8ecc",
   "metadata": {},
   "outputs": [],
   "source": [
    "#Allen\n",
    "sidx = df_label[df_label.cohort == 'Allen'].index\n",
    "dfcl = df_label.loc[sidx].dropna(axis=1, how='all')\n",
    "\n",
    "dfcl['TMB'] = dfcl['real_TMB']\n",
    "\n",
    "dfcl['OS_Months'] = dfcl['Overall_survival'] / 30\n",
    "dfcl['OS_Event'] = dfcl['Alive (Y=1, No=0)'].map({1:0, 0:1 })\n",
    "\n",
    "df14 = dfcl.copy()"
   ]
  },
  {
   "cell_type": "code",
   "execution_count": 16,
   "id": "d16718a1-3725-4c1f-9cd3-f94952705bb4",
   "metadata": {},
   "outputs": [],
   "source": [
    "#MGH\n",
    "sidx = df_label[df_label.cohort == 'MGH'].index\n",
    "dfcl = df_label.loc[sidx].dropna(axis=1, how='all')\n",
    "\n",
    "dfcl['TMB'] = dfcl['real_TMB']\n",
    "\n",
    "dfcl['OS_Months'] = dfcl['Overall_survival'] / 30\n",
    "dfcl['OS_Event'] = dfcl['Alive (Y=1, No=0)'].map({1:0, 0:1 })\n",
    "\n",
    "df15 = dfcl.copy()\n"
   ]
  },
  {
   "cell_type": "code",
   "execution_count": 17,
   "id": "4d3734bc-b282-4014-9afc-d4cd7ebbee54",
   "metadata": {},
   "outputs": [],
   "source": [
    "sidx = df_label[df_label.cohort == 'IMmotion150'].index\n",
    "dfcl = df_label.loc[sidx].dropna(axis=1, how='all')\n",
    "df16 = dfcl.copy()"
   ]
  },
  {
   "cell_type": "code",
   "execution_count": 18,
   "id": "28648f77-ac2b-4a58-8025-370e0d7da767",
   "metadata": {},
   "outputs": [
    {
     "data": {
      "text/plain": [
       "Index(['Sample_id', 'response_label', 'RECIST', 'Timing', 'cohort',\n",
       "       'cancer_type', 'sequencer', 'ICI', 'ICI_target', 'Tissue',\n",
       "       'Immune phenotype', 'TMB (FMOne mutation burden per MB)', 'OS_Months',\n",
       "       'OS_Event', 'Neoantigen burden per MB', 'binaryResponse', 'Gender',\n",
       "       'Race', 'Intravesical BCG administered', 'Baseline ECOG Score',\n",
       "       'Tobacco Use History', 'Met Disease Status', 'Received platinum',\n",
       "       'Sample collected pre-platinum', 'sizeFactor', 'ANONPT_ID', 'Lund',\n",
       "       'Lund2', 'TCGA Subtype', 'ICI_target_map', 'ICI_map', 'Biopsy_site',\n",
       "       'sub_cohort', 'sub_cohort_used_flag', 'real_TMB', 'TMB',\n",
       "       'cancer_stage'],\n",
       "      dtype='object')"
      ]
     },
     "execution_count": 18,
     "metadata": {},
     "output_type": "execute_result"
    }
   ],
   "source": [
    "df1.columns"
   ]
  },
  {
   "cell_type": "code",
   "execution_count": 19,
   "id": "68ed36ae-c37d-4e6c-ace9-a79d98de4f2a",
   "metadata": {},
   "outputs": [],
   "source": [
    "df = pd.concat([df1,df2,df3,df4,df5,df6,df7,\n",
    "           df8,df9,df10,df11,df12,df13,\n",
    "           df14,df15,df16])[usedcols]"
   ]
  },
  {
   "cell_type": "code",
   "execution_count": 20,
   "id": "fac27e20-814f-453d-b830-11c9fde931a0",
   "metadata": {},
   "outputs": [],
   "source": [
    "df.to_pickle(os.path.join(data_path, 'ITRP.PATIENT.TABLE.ALIGN'))"
   ]
  },
  {
   "cell_type": "code",
   "execution_count": 31,
   "id": "588822b0-13fd-4e36-b99f-3ce676a43311",
   "metadata": {},
   "outputs": [],
   "source": [
    "info = df.groupby('cohort')[['OS_Months','OS_Event']].apply(lambda x:x.dropna(axis=1, how='all').shape)"
   ]
  },
  {
   "cell_type": "code",
   "execution_count": 36,
   "id": "8af775db-6346-4e44-9229-21d2adef9e8a",
   "metadata": {},
   "outputs": [
    {
     "data": {
      "text/html": [
       "<div>\n",
       "<style scoped>\n",
       "    .dataframe tbody tr th:only-of-type {\n",
       "        vertical-align: middle;\n",
       "    }\n",
       "\n",
       "    .dataframe tbody tr th {\n",
       "        vertical-align: top;\n",
       "    }\n",
       "\n",
       "    .dataframe thead th {\n",
       "        text-align: right;\n",
       "    }\n",
       "</style>\n",
       "<table border=\"1\" class=\"dataframe\">\n",
       "  <thead>\n",
       "    <tr style=\"text-align: right;\">\n",
       "      <th></th>\n",
       "      <th>0</th>\n",
       "      <th>1</th>\n",
       "    </tr>\n",
       "    <tr>\n",
       "      <th>cohort</th>\n",
       "      <th></th>\n",
       "      <th></th>\n",
       "    </tr>\n",
       "  </thead>\n",
       "  <tbody>\n",
       "    <tr>\n",
       "      <th>IMVigor210</th>\n",
       "      <td>298</td>\n",
       "      <td>2</td>\n",
       "    </tr>\n",
       "    <tr>\n",
       "      <th>Liu</th>\n",
       "      <td>107</td>\n",
       "      <td>2</td>\n",
       "    </tr>\n",
       "    <tr>\n",
       "      <th>SU2CLC1</th>\n",
       "      <td>102</td>\n",
       "      <td>2</td>\n",
       "    </tr>\n",
       "    <tr>\n",
       "      <th>Rose</th>\n",
       "      <td>89</td>\n",
       "      <td>2</td>\n",
       "    </tr>\n",
       "    <tr>\n",
       "      <th>Gide</th>\n",
       "      <td>73</td>\n",
       "      <td>2</td>\n",
       "    </tr>\n",
       "    <tr>\n",
       "      <th>Riaz</th>\n",
       "      <td>51</td>\n",
       "      <td>2</td>\n",
       "    </tr>\n",
       "    <tr>\n",
       "      <th>Allen</th>\n",
       "      <td>39</td>\n",
       "      <td>2</td>\n",
       "    </tr>\n",
       "    <tr>\n",
       "      <th>MGH</th>\n",
       "      <td>34</td>\n",
       "      <td>2</td>\n",
       "    </tr>\n",
       "    <tr>\n",
       "      <th>Hugo</th>\n",
       "      <td>26</td>\n",
       "      <td>2</td>\n",
       "    </tr>\n",
       "    <tr>\n",
       "      <th>SU2CLC2</th>\n",
       "      <td>25</td>\n",
       "      <td>2</td>\n",
       "    </tr>\n",
       "    <tr>\n",
       "      <th>Snyder</th>\n",
       "      <td>21</td>\n",
       "      <td>2</td>\n",
       "    </tr>\n",
       "    <tr>\n",
       "      <th>Kim</th>\n",
       "      <td>45</td>\n",
       "      <td>1</td>\n",
       "    </tr>\n",
       "    <tr>\n",
       "      <th>Zhao</th>\n",
       "      <td>25</td>\n",
       "      <td>1</td>\n",
       "    </tr>\n",
       "    <tr>\n",
       "      <th>Miao</th>\n",
       "      <td>17</td>\n",
       "      <td>1</td>\n",
       "    </tr>\n",
       "    <tr>\n",
       "      <th>Choueiri</th>\n",
       "      <td>16</td>\n",
       "      <td>1</td>\n",
       "    </tr>\n",
       "    <tr>\n",
       "      <th>IMmotion150</th>\n",
       "      <td>165</td>\n",
       "      <td>0</td>\n",
       "    </tr>\n",
       "  </tbody>\n",
       "</table>\n",
       "</div>"
      ],
      "text/plain": [
       "               0  1\n",
       "cohort             \n",
       "IMVigor210   298  2\n",
       "Liu          107  2\n",
       "SU2CLC1      102  2\n",
       "Rose          89  2\n",
       "Gide          73  2\n",
       "Riaz          51  2\n",
       "Allen         39  2\n",
       "MGH           34  2\n",
       "Hugo          26  2\n",
       "SU2CLC2       25  2\n",
       "Snyder        21  2\n",
       "Kim           45  1\n",
       "Zhao          25  1\n",
       "Miao          17  1\n",
       "Choueiri      16  1\n",
       "IMmotion150  165  0"
      ]
     },
     "execution_count": 36,
     "metadata": {},
     "output_type": "execute_result"
    }
   ],
   "source": [
    "info.apply(pd.Series).sort_values([1,0], ascending=False)\n",
    "#cohorts that able to draw a KM-plot"
   ]
  },
  {
   "cell_type": "code",
   "execution_count": null,
   "id": "43eb896d-878c-4480-a483-c2b7849e38d8",
   "metadata": {},
   "outputs": [],
   "source": []
  },
  {
   "cell_type": "code",
   "execution_count": null,
   "id": "c7b7eb32-15ac-44e2-9fed-9e798b589f31",
   "metadata": {},
   "outputs": [],
   "source": []
  },
  {
   "cell_type": "code",
   "execution_count": null,
   "id": "55c1f639-b1e2-4973-a94d-bd8f16a696ec",
   "metadata": {},
   "outputs": [],
   "source": []
  },
  {
   "cell_type": "code",
   "execution_count": null,
   "id": "f8bf53af-e1e0-44b8-99eb-a55d9df2b907",
   "metadata": {},
   "outputs": [],
   "source": []
  },
  {
   "cell_type": "code",
   "execution_count": null,
   "id": "d22f3177-0ab2-4dc7-9bcb-309b087a0041",
   "metadata": {},
   "outputs": [],
   "source": []
  }
 ],
 "metadata": {
  "kernelspec": {
   "display_name": "Python 3 (ipykernel)",
   "language": "python",
   "name": "python3"
  },
  "language_info": {
   "codemirror_mode": {
    "name": "ipython",
    "version": 3
   },
   "file_extension": ".py",
   "mimetype": "text/x-python",
   "name": "python",
   "nbconvert_exporter": "python",
   "pygments_lexer": "ipython3",
   "version": "3.8.18"
  }
 },
 "nbformat": 4,
 "nbformat_minor": 5
}
