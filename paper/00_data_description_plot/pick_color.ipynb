{
 "cells": [
  {
   "cell_type": "code",
   "execution_count": 5,
   "id": "910fd6f2-05b7-4905-868f-dd7d50ceafe8",
   "metadata": {},
   "outputs": [],
   "source": [
    "import seaborn as sns\n",
    "import palettable\n",
    "import pandas as pd\n",
    "import seaborn as sns\n",
    "import numpy as np"
   ]
  },
  {
   "cell_type": "code",
   "execution_count": 6,
   "id": "20005cbe-c882-4021-ad14-81ffeea23281",
   "metadata": {},
   "outputs": [
    {
     "data": {
      "image/png": "[encoded data removed]",
      "text/plain": [
       "<Figure size 1000x100 with 1 Axes>"
      ]
     },
     "metadata": {},
     "output_type": "display_data"
    },
    {
     "data": {
      "image/png": "[encoded data removed]",
      "text/plain": [
       "<Figure size 1000x100 with 1 Axes>"
      ]
     },
     "metadata": {},
     "output_type": "display_data"
    },
    {
     "data": {
      "image/png": "[encoded data removed]",
      "text/plain": [
       "<Figure size 1600x100 with 1 Axes>"
      ]
     },
     "metadata": {},
     "output_type": "display_data"
    }
   ],
   "source": [
    "import palettable\n",
    "vivid_10 = palettable.cartocolors.qualitative.Vivid_10.mpl_colors\n",
    "bright = sns.palettes.color_palette('bright', 10)\n",
    "sns.palplot(bright)\n",
    "sns.palplot(vivid_10)\n",
    "\n",
    "vivid_10.append(bright[0])\n",
    "vivid_10.append(bright[2])\n",
    "vivid_10.append(bright[3])\n",
    "vivid_10.append(bright[5])\n",
    "vivid_10.append(bright[7])\n",
    "vivid_10.append(bright[9])\n",
    "\n",
    "idx = pd.DataFrame(vivid_10).sort_values([2,1,0]).index\n",
    "colors = np.array(vivid_10)[idx]\n",
    "sns.palplot(colors)"
   ]
  },
  {
   "cell_type": "code",
   "execution_count": null,
   "id": "8e76a83d-e370-4b9f-8e91-0998070b3c83",
   "metadata": {},
   "outputs": [],
   "source": []
  },
  {
   "cell_type": "code",
   "execution_count": 7,
   "id": "15fcbbfd-1945-4662-8f21-3d9f80f43f36",
   "metadata": {},
   "outputs": [
    {
     "data": {
      "image/png": "[encoded data removed]",
      "text/plain": [
       "<Figure size 1000x100 with 1 Axes>"
      ]
     },
     "metadata": {},
     "output_type": "display_data"
    },
    {
     "data": {
      "image/png": "[encoded data removed]",
      "text/plain": [
       "<Figure size 1000x100 with 1 Axes>"
      ]
     },
     "metadata": {},
     "output_type": "display_data"
    },
    {
     "data": {
      "image/png": "[encoded data removed]",
      "text/plain": [
       "<Figure size 1600x100 with 1 Axes>"
      ]
     },
     "metadata": {},
     "output_type": "display_data"
    }
   ],
   "source": [
    "vivid_10 = palettable.cartocolors.qualitative.Vivid_10.mpl_colors\n",
    "bright = sns.palettes.color_palette('bright', 10)\n",
    "sns.palplot(bright)\n",
    "sns.palplot(vivid_10)\n",
    "\n",
    "bright.append(vivid_10[0])\n",
    "bright.append(vivid_10[2])\n",
    "bright.append(vivid_10[3])\n",
    "bright.append(vivid_10[5])\n",
    "bright.append(vivid_10[7])\n",
    "bright.append(vivid_10[9])\n",
    "\n",
    "idx = pd.DataFrame(bright).sort_values([2,0,1]).index\n",
    "colors = np.array(bright)[idx]\n",
    "sns.palplot(colors)"
   ]
  },
  {
   "cell_type": "code",
   "execution_count": 8,
   "id": "860ebfe7-801f-455b-aef7-7897ca4b8981",
   "metadata": {},
   "outputs": [
    {
     "name": "stderr",
     "output_type": "stream",
     "text": [
      "/home/was966/micromamba/envs/responder/lib/python3.8/site-packages/umap/umap_.py:1943: UserWarning: n_jobs value -1 overridden to 1 by setting random_state. Use no seed for parallelism.\n",
      "  warn(f\"n_jobs value {self.n_jobs} overridden to 1 by setting random_state. Use no seed for parallelism.\")\n"
     ]
    },
    {
     "data": {
      "image/png": "[encoded data removed]",
      "text/plain": [
       "<Figure size 1600x100 with 1 Axes>"
      ]
     },
     "metadata": {},
     "output_type": "display_data"
    }
   ],
   "source": [
    "from umap import UMAP\n",
    "mp = UMAP(n_components=1, n_neighbors=5, random_state = 42)\n",
    "order = mp.fit_transform(bright)\n",
    "idx = pd.Series(order.reshape(-1,)).sort_values(ascending=False).index\n",
    "colors = np.array(bright)[idx]\n",
    "sns.palplot(colors)"
   ]
  },
  {
   "cell_type": "code",
   "execution_count": 9,
   "id": "a1d16c67-2554-4d22-96ec-7926c52a8fd9",
   "metadata": {},
   "outputs": [
    {
     "name": "stderr",
     "output_type": "stream",
     "text": [
      "/home/was966/micromamba/envs/responder/lib/python3.8/site-packages/umap/umap_.py:1943: UserWarning: n_jobs value -1 overridden to 1 by setting random_state. Use no seed for parallelism.\n",
      "  warn(f\"n_jobs value {self.n_jobs} overridden to 1 by setting random_state. Use no seed for parallelism.\")\n"
     ]
    },
    {
     "data": {
      "image/png": "[encoded data removed]",
      "text/plain": [
       "<Figure size 1600x100 with 1 Axes>"
      ]
     },
     "metadata": {},
     "output_type": "display_data"
    }
   ],
   "source": [
    "from umap import UMAP\n",
    "mp = UMAP(n_components=1, n_neighbors=5, random_state = 128)\n",
    "order = mp.fit_transform(bright)\n",
    "idx = pd.Series(order.reshape(-1,)).sort_values(ascending=False).index\n",
    "colors = np.array(bright)[idx]\n",
    "sns.palplot(colors)"
   ]
  },
  {
   "cell_type": "code",
   "execution_count": 10,
   "id": "84cd5728-7edc-4ac0-bbc5-3cf57ed6d1a9",
   "metadata": {},
   "outputs": [
    {
     "data": {
      "text/plain": [
       "16"
      ]
     },
     "execution_count": 10,
     "metadata": {},
     "output_type": "execute_result"
    }
   ],
   "source": [
    "len(bright)"
   ]
  },
  {
   "cell_type": "code",
   "execution_count": 11,
   "id": "19742795-ee73-43ce-ad14-ef8a6ea7dbb9",
   "metadata": {},
   "outputs": [
    {
     "data": {
      "text/html": [
       "<svg  width=\"880\" height=\"55\"><rect x=\"0\" y=\"0\" width=\"55\" height=\"55\" style=\"fill:#023eff;stroke-width:2;stroke:rgb(255,255,255)\"/><rect x=\"55\" y=\"0\" width=\"55\" height=\"55\" style=\"fill:#ff7c00;stroke-width:2;stroke:rgb(255,255,255)\"/><rect x=\"110\" y=\"0\" width=\"55\" height=\"55\" style=\"fill:#1ac938;stroke-width:2;stroke:rgb(255,255,255)\"/><rect x=\"165\" y=\"0\" width=\"55\" height=\"55\" style=\"fill:#e8000b;stroke-width:2;stroke:rgb(255,255,255)\"/><rect x=\"220\" y=\"0\" width=\"55\" height=\"55\" style=\"fill:#8b2be2;stroke-width:2;stroke:rgb(255,255,255)\"/><rect x=\"275\" y=\"0\" width=\"55\" height=\"55\" style=\"fill:#9f4800;stroke-width:2;stroke:rgb(255,255,255)\"/><rect x=\"330\" y=\"0\" width=\"55\" height=\"55\" style=\"fill:#f14cc1;stroke-width:2;stroke:rgb(255,255,255)\"/><rect x=\"385\" y=\"0\" width=\"55\" height=\"55\" style=\"fill:#a3a3a3;stroke-width:2;stroke:rgb(255,255,255)\"/><rect x=\"440\" y=\"0\" width=\"55\" height=\"55\" style=\"fill:#ffc400;stroke-width:2;stroke:rgb(255,255,255)\"/><rect x=\"495\" y=\"0\" width=\"55\" height=\"55\" style=\"fill:#00d7ff;stroke-width:2;stroke:rgb(255,255,255)\"/><rect x=\"550\" y=\"0\" width=\"55\" height=\"55\" style=\"fill:#e58606;stroke-width:2;stroke:rgb(255,255,255)\"/><rect x=\"605\" y=\"0\" width=\"55\" height=\"55\" style=\"fill:#52bca3;stroke-width:2;stroke:rgb(255,255,255)\"/><rect x=\"660\" y=\"0\" width=\"55\" height=\"55\" style=\"fill:#99c945;stroke-width:2;stroke:rgb(255,255,255)\"/><rect x=\"715\" y=\"0\" width=\"55\" height=\"55\" style=\"fill:#24796c;stroke-width:2;stroke:rgb(255,255,255)\"/><rect x=\"770\" y=\"0\" width=\"55\" height=\"55\" style=\"fill:#2f8ac4;stroke-width:2;stroke:rgb(255,255,255)\"/><rect x=\"825\" y=\"0\" width=\"55\" height=\"55\" style=\"fill:#ed645a;stroke-width:2;stroke:rgb(255,255,255)\"/></svg>"
      ],
      "text/plain": [
       "[(0.00784313725490196, 0.24313725490196078, 1.0),\n",
       " (1.0, 0.48627450980392156, 0.0),\n",
       " (0.10196078431372549, 0.788235294117647, 0.2196078431372549),\n",
       " (0.9098039215686274, 0.0, 0.043137254901960784),\n",
       " (0.5450980392156862, 0.16862745098039217, 0.8862745098039215),\n",
       " (0.6235294117647059, 0.2823529411764706, 0.0),\n",
       " (0.9450980392156862, 0.2980392156862745, 0.7568627450980392),\n",
       " (0.6392156862745098, 0.6392156862745098, 0.6392156862745098),\n",
       " (1.0, 0.7686274509803922, 0.0),\n",
       " (0.0, 0.8431372549019608, 1.0),\n",
       " (0.8980392156862745, 0.5254901960784314, 0.023529411764705882),\n",
       " (0.3215686274509804, 0.7372549019607844, 0.6392156862745098),\n",
       " (0.6, 0.788235294117647, 0.27058823529411763),\n",
       " (0.1411764705882353, 0.4745098039215686, 0.4235294117647059),\n",
       " (0.1843137254901961, 0.5411764705882353, 0.7686274509803922),\n",
       " (0.9294117647058824, 0.39215686274509803, 0.35294117647058826)]"
      ]
     },
     "execution_count": 11,
     "metadata": {},
     "output_type": "execute_result"
    }
   ],
   "source": [
    "bright"
   ]
  },
  {
   "cell_type": "code",
   "execution_count": null,
   "id": "22bbc640-3762-4ae9-b875-94a479630489",
   "metadata": {},
   "outputs": [],
   "source": []
  },
  {
   "cell_type": "code",
   "execution_count": null,
   "id": "18250497-73cf-4dd5-8870-47da85994950",
   "metadata": {},
   "outputs": [],
   "source": []
  },
  {
   "cell_type": "code",
   "execution_count": null,
   "id": "8bff4fc3-28cf-474e-9b77-f75a1556811a",
   "metadata": {},
   "outputs": [],
   "source": []
  },
  {
   "cell_type": "code",
   "execution_count": null,
   "id": "53bf94b4-4b72-40a3-9867-8857e8071a11",
   "metadata": {},
   "outputs": [],
   "source": []
  },
  {
   "cell_type": "code",
   "execution_count": null,
   "id": "0b6a752c-f707-4787-a3c1-016309df339c",
   "metadata": {},
   "outputs": [],
   "source": []
  },
  {
   "cell_type": "code",
   "execution_count": null,
   "id": "ec617f4b-0a88-41c9-9f36-2aa541de53db",
   "metadata": {},
   "outputs": [],
   "source": []
  }
 ],
 "metadata": {
  "kernelspec": {
   "display_name": "Python 3 (ipykernel)",
   "language": "python",
   "name": "python3"
  },
  "language_info": {
   "codemirror_mode": {
    "name": "ipython",
    "version": 3
   },
   "file_extension": ".py",
   "mimetype": "text/x-python",
   "name": "python",
   "nbconvert_exporter": "python",
   "pygments_lexer": "ipython3",
   "version": "3.8.18"
  }
 },
 "nbformat": 4,
 "nbformat_minor": 5
}
