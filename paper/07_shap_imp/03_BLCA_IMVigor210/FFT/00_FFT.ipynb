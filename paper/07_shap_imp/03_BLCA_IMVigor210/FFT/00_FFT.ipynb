{
 "cells": [
  {
   "cell_type": "markdown",
   "id": "386dae45-32f7-43c5-904d-98d79f078421",
   "metadata": {},
   "source": [
    "The calculation of feature explained variance (EV) quantifies the proportion of the total variance in the response variable that is attributable to each feature in the dataset, essentially measuring the strength of the relationship between the feature and the response. This is achieved by fitting a statistical model, like a logistic regression for binary outcomes, where the EV is often represented by pseudo R-squared values. These values indicate how well a feature explains the variance in the outcome, with higher values signifying greater explanatory power. To assess the reliability of these estimates, error bars are generated through methods like bootstrapping, where the original dataset is repeatedly resampled with replacement to create a distribution of EV estimates for each feature. The variability (standard deviation) or range (confidence interval) of these bootstrap estimates provides a measure of the error or uncertainty, offering insights into the stability and precision of the feature’s explained variance in predicting the response variable."
   ]
  },
  {
   "cell_type": "code",
   "execution_count": 1,
   "id": "269fe091-8ff3-43e2-b7a1-7f5e313e669d",
   "metadata": {},
   "outputs": [],
   "source": [
    "import os\n",
    "from tqdm import tqdm\n",
    "from itertools import chain\n",
    "import pandas as pd\n",
    "import numpy as np\n",
    "import random, torch\n",
    "import matplotlib.pyplot as plt\n",
    "import seaborn as sns\n",
    "sns.set(style = 'white', font_scale=1.5)"
   ]
  },
  {
   "cell_type": "code",
   "execution_count": 2,
   "id": "451f7310-a088-42fd-bed1-0d69afde16b6",
   "metadata": {},
   "outputs": [
    {
     "data": {
      "text/plain": [
       "'0.12.2'"
      ]
     },
     "execution_count": 2,
     "metadata": {},
     "output_type": "execute_result"
    }
   ],
   "source": [
    "sns.__version__"
   ]
  },
  {
   "cell_type": "code",
   "execution_count": null,
   "id": "7dec1d35-98b4-44d8-ab0e-72f04777c020",
   "metadata": {},
   "outputs": [],
   "source": []
  },
  {
   "cell_type": "code",
   "execution_count": 3,
   "id": "038cb76a-3306-40fb-a8b7-e9d1ffaee09c",
   "metadata": {},
   "outputs": [],
   "source": [
    "import sys\n",
    "\n",
    "sys.path.insert(0,  '/home/was966/Research/mims-conceptor/')\n",
    "from conceptor.utils import plot_embed_with_label\n",
    "from conceptor import PreTrainer, FineTuner, loadconceptor #, get_minmal_epoch\n",
    "from conceptor.utils import plot_embed_with_label, plot_performance, score2\n",
    "from conceptor.tokenizer import CANCER_CODE\n",
    "def onehot(S):\n",
    "    assert type(S) == pd.Series, 'Input type should be pd.Series'\n",
    "    dfd = pd.get_dummies(S, dummy_na=True)\n",
    "    nanidx = dfd[dfd[np.nan].astype(bool)].index\n",
    "    dfd.loc[nanidx, :] = np.nan\n",
    "    dfd = dfd.drop(columns=[np.nan])*1.\n",
    "    cols = dfd.sum().sort_values(ascending=False).index.tolist()\n",
    "    dfd = dfd[cols]\n",
    "    return dfd"
   ]
  },
  {
   "cell_type": "code",
   "execution_count": 4,
   "id": "17acad13-43c6-4237-81c3-99711cc983b3",
   "metadata": {},
   "outputs": [
    {
     "data": {
      "text/plain": [
       "'/home/was966/Research/mims-conceptor/paper/07_shap_imp/03_BLCA_IMVigor210/FFT'"
      ]
     },
     "execution_count": 4,
     "metadata": {},
     "output_type": "execute_result"
    }
   ],
   "source": [
    "pwd"
   ]
  },
  {
   "cell_type": "code",
   "execution_count": 5,
   "id": "650d61b6-1bce-4f0f-9bda-acb8636efad6",
   "metadata": {},
   "outputs": [],
   "source": [
    "from conceptor.tokenizer import CONCEPT_palette"
   ]
  },
  {
   "cell_type": "code",
   "execution_count": 6,
   "id": "e66870ba-d86d-452e-9f04-93c000ab847e",
   "metadata": {},
   "outputs": [
    {
     "data": {
      "text/plain": [
       "((1133, 15672), (1133, 110))"
      ]
     },
     "execution_count": 6,
     "metadata": {},
     "output_type": "execute_result"
    }
   ],
   "source": [
    "## load pretrainer\n",
    "mfile = '/home/was966/Research/mims-conceptor/paper/checkpoint/latest/pretrainer.pt'\n",
    "pretrainer = loadconceptor(mfile)\n",
    "\n",
    "## read data\n",
    "df_label = pd.read_pickle('/home/was966/Research/mims-conceptor/paper//00_data/ITRP.PATIENT.TABLE')\n",
    "df_tpm = pd.read_pickle('/home/was966/Research/mims-conceptor/paper//00_data/ITRP.TPM.TABLE')\n",
    "df_tpm.shape, df_label.shape"
   ]
  },
  {
   "cell_type": "code",
   "execution_count": 7,
   "id": "18dd5385-03a4-42eb-8e5c-8ff238e68c9e",
   "metadata": {},
   "outputs": [
    {
     "data": {
      "text/plain": [
       "cancer_type  cohort     \n",
       "BLCA         IMVigor210     298\n",
       "             Rose            89\n",
       "             Snyder          21\n",
       "GBM          Zhao            25\n",
       "KIRC         Choueiri        16\n",
       "             IMmotion150    165\n",
       "             Miao            17\n",
       "LUAD         SU2CLC1        102\n",
       "LUSC         SU2CLC2         25\n",
       "SKCM         Allen           39\n",
       "             Gide            73\n",
       "             Hugo            26\n",
       "             Liu            107\n",
       "             MGH             34\n",
       "             Riaz            51\n",
       "STAD         Kim             45\n",
       "dtype: int64"
      ]
     },
     "execution_count": 7,
     "metadata": {},
     "output_type": "execute_result"
    }
   ],
   "source": [
    "df_label.groupby(['cancer_type', 'cohort']).size()"
   ]
  },
  {
   "cell_type": "code",
   "execution_count": 8,
   "id": "05088ec0-a173-475a-a6fa-692603b61268",
   "metadata": {},
   "outputs": [],
   "source": [
    "s = df_label.groupby('cohort').size()\n",
    "cohorts = ['IMVigor210']\n",
    "\n",
    "cohort_name = '_'.join(cohorts)\n",
    "df_label = df_label[df_label.cohort.isin(cohorts)]\n",
    "\n",
    "cancer_type = '_'.join(df_label.cancer_type.unique())\n",
    "cohort_name = cancer_type + ':' + cohort_name\n",
    "\n",
    "df_tpm = df_tpm.loc[df_label.index]"
   ]
  },
  {
   "cell_type": "code",
   "execution_count": null,
   "id": "443ef3db-ef61-43cc-aee9-19068b1acdc0",
   "metadata": {},
   "outputs": [],
   "source": []
  },
  {
   "cell_type": "code",
   "execution_count": 9,
   "id": "1b065aee-c1e1-4588-9f59-abd813553609",
   "metadata": {},
   "outputs": [],
   "source": [
    "dfcx = df_label.cancer_type.map(CANCER_CODE).to_frame('cancer_code').join(df_tpm)\n",
    "df_task = onehot(df_label.response_label)"
   ]
  },
  {
   "cell_type": "code",
   "execution_count": 10,
   "id": "48d56daa-60e3-428e-8c8a-263376f9031a",
   "metadata": {},
   "outputs": [
    {
     "data": {
      "text/plain": [
       "cohort\n",
       "IMVigor210    IMVigor210(n=298)\n",
       "dtype: object"
      ]
     },
     "execution_count": 10,
     "metadata": {},
     "output_type": "execute_result"
    }
   ],
   "source": [
    "size = df_label.groupby('cohort').size()\n",
    "size = size.index + '(n=' + size.astype(str) + ')'\n",
    "size"
   ]
  },
  {
   "cell_type": "code",
   "execution_count": 11,
   "id": "ecfbefa4-5161-4972-a282-886cd93b2b30",
   "metadata": {},
   "outputs": [],
   "source": [
    "params = {'mode': 'FFT',\n",
    "        'seed':42,\n",
    "        'lr': 1e-3,\n",
    "        'device':'cuda',\n",
    "        'weight_decay': 1e-2,\n",
    "        'batch_size':32, \n",
    "        'max_epochs': 100,\n",
    "        'with_wandb': False,\n",
    "        'save_best_model':False,\n",
    "        'task_dense_layer':[16],\n",
    "        'verbose': False}"
   ]
  },
  {
   "cell_type": "code",
   "execution_count": 12,
   "id": "0786d4ec-02be-4161-b64f-f6fddcfe5b36",
   "metadata": {},
   "outputs": [
    {
     "name": "stderr",
     "output_type": "stream",
     "text": [
      " 21%|##1       | 21/100 [06:20<23:50, 18.11s/it]"
     ]
    },
    {
     "name": "stdout",
     "output_type": "stream",
     "text": [
      "Stopping early at epoch 22. Meet minimal requirements by: f1=0.89,mcc=0.87,prc=0.96, roc=0.99\n"
     ]
    },
    {
     "name": "stderr",
     "output_type": "stream",
     "text": [
      "\n"
     ]
    },
    {
     "name": "stdout",
     "output_type": "stream",
     "text": [
      "Saving the model to ./finetuner.pt\n"
     ]
    }
   ],
   "source": [
    "finetuner = FineTuner(pretrainer.copy(), **params)\n",
    "finetuner = finetuner.tune(dfcx_train = dfcx, \n",
    "                           dfy_train = df_task,      \n",
    "                           min_prc=0.8,\n",
    "                           min_mcc = 0.8)\n",
    "\n",
    "finetuner.save('./finetuner.pt')\n"
   ]
  },
  {
   "cell_type": "code",
   "execution_count": 13,
   "id": "062e68ef-bd6f-4e01-9a63-ac2d5f3d9baa",
   "metadata": {},
   "outputs": [
    {
     "name": "stderr",
     "output_type": "stream",
     "text": [
      "100%|##########| 19/19 [00:01<00:00, 10.13it/s]\n",
      "/home/was966/Research/mims-conceptor/conceptor/utils/plotter.py:111: FutureWarning: Passing `palette` without assigning `hue` is deprecated.\n",
      "  sns.stripplot(data = dfp, x = 'Label', y = 'Pred. Prob.', ax=ax1, size=3,\n"
     ]
    },
    {
     "data": {
      "image/png": "[encoded data removed]",
      "text/plain": [
       "<Figure size 800x300 with 3 Axes>"
      ]
     },
     "metadata": {},
     "output_type": "display_data"
    }
   ],
   "source": [
    "## Evaluate the model performance\n",
    "dfe, df_pred = finetuner.predict(dfcx, batch_size = 16)\n",
    "dfp = df_task.join(df_pred)\n",
    "y_true, y_prob, y_pred = dfp['R'], dfp[1], dfp[[0, 1]].idxmax(axis=1)\n",
    "fig = plot_performance(y_true, y_prob, y_pred)"
   ]
  },
  {
   "cell_type": "code",
   "execution_count": null,
   "id": "079fc4b8-c159-45f6-8dc0-54128ce2cbfc",
   "metadata": {},
   "outputs": [],
   "source": []
  },
  {
   "cell_type": "code",
   "execution_count": null,
   "id": "e6232ca3-5a92-4b8d-a74f-f697983cce4c",
   "metadata": {},
   "outputs": [],
   "source": []
  },
  {
   "cell_type": "code",
   "execution_count": null,
   "id": "f53a07c6-06dc-4043-b8a0-d1f085765b08",
   "metadata": {},
   "outputs": [],
   "source": []
  },
  {
   "cell_type": "code",
   "execution_count": null,
   "id": "abb28422-cb92-40ef-baff-f5d5484eafd1",
   "metadata": {},
   "outputs": [],
   "source": []
  }
 ],
 "metadata": {
  "kernelspec": {
   "display_name": "Python 3 (ipykernel)",
   "language": "python",
   "name": "python3"
  },
  "language_info": {
   "codemirror_mode": {
    "name": "ipython",
    "version": 3
   },
   "file_extension": ".py",
   "mimetype": "text/x-python",
   "name": "python",
   "nbconvert_exporter": "python",
   "pygments_lexer": "ipython3",
   "version": "3.8.18"
  }
 },
 "nbformat": 4,
 "nbformat_minor": 5
}
