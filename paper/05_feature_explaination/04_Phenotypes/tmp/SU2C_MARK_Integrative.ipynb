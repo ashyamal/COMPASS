{
 "cells": [
  {
   "cell_type": "markdown",
   "id": "87d122ef",
   "metadata": {
    "tags": []
   },
   "source": [
    "# Imports"
   ]
  },
  {
   "cell_type": "code",
   "execution_count": null,
   "id": "3c0356d2",
   "metadata": {},
   "outputs": [],
   "source": [
    "import pandas as pd\n",
    "import numpy as np\n",
    "import seaborn as sns\n",
    "import matplotlib.pyplot as plt\n",
    "import scipy.stats as scp\n",
    "from scipy.cluster.hierarchy import linkage, dendrogram\n",
    "import statsmodels.api as sm\n",
    "import statsmodels.stats.multitest as multi"
   ]
  },
  {
   "cell_type": "code",
   "execution_count": null,
   "id": "8a40eff6",
   "metadata": {},
   "outputs": [],
   "source": [
    "from lifelines import KaplanMeierFitter\n",
    "from lifelines.statistics import logrank_test, multivariate_logrank_test\n",
    "from lifelines.plotting import add_at_risk_counts"
   ]
  },
  {
   "cell_type": "code",
   "execution_count": null,
   "id": "4ce4a209-cac0-4586-9a5b-e216a1bc5a67",
   "metadata": {},
   "outputs": [],
   "source": [
    "from matplotlib.pyplot import FormatStrFormatter"
   ]
  },
  {
   "cell_type": "code",
   "execution_count": null,
   "id": "f2279190-858d-44de-840f-e54b4e8d2615",
   "metadata": {},
   "outputs": [],
   "source": [
    "import matplotlib.patches as mpatches"
   ]
  },
  {
   "cell_type": "code",
   "execution_count": null,
   "id": "f7edd43f-c861-49bc-b16f-df7f104d06f6",
   "metadata": {},
   "outputs": [],
   "source": [
    "# Toggle as needed\n",
    "import warnings\n",
    "warnings.filterwarnings(\"ignore\")"
   ]
  },
  {
   "cell_type": "markdown",
   "id": "7116d98c",
   "metadata": {},
   "source": [
    "# Functions"
   ]
  },
  {
   "cell_type": "code",
   "execution_count": null,
   "id": "15d6e7a9",
   "metadata": {},
   "outputs": [],
   "source": [
    "def response_rate_logit(x,y):\n",
    "    log_reg = sm.Logit(y,sm.add_constant(x)).fit(method='lbfgs',maxiter=99999,disp=0)\n",
    "    return log_reg.pvalues,log_reg.params"
   ]
  },
  {
   "cell_type": "code",
   "execution_count": null,
   "id": "0378124f",
   "metadata": {},
   "outputs": [],
   "source": [
    "def survival_curve_pair(df,var_label,durations_label,event_observed_label):\n",
    "    \n",
    "    fig=plt.figure(figsize=(6,4))\n",
    "    ax = fig.add_subplot(111)\n",
    "    \n",
    "    med_pfs = []\n",
    "    df_trim = df.dropna(subset=[var_label,durations_label,event_observed_label])\n",
    "    df_onehot = pd.get_dummies(df_trim[var_label])\n",
    "    \n",
    "    kmf_exp = KaplanMeierFitter()\n",
    "    df_surv = df_trim[df_trim[var_label]==df_onehot.columns[0]][[durations_label,event_observed_label]]\n",
    "    ax = kmf_exp.fit(df_surv[durations_label],df_surv[event_observed_label],label=df_onehot.columns[0]).\\\n",
    "            plot_survival_function(ax=ax,show_censors=False,ci_show=False)\n",
    "    med_pfs.append([var_label,df_onehot.columns[0],kmf_exp.median_survival_time_])\n",
    "    \n",
    "    kmf_ctl = KaplanMeierFitter()\n",
    "    df_surv = df_trim[df_trim[var_label]==df_onehot.columns[1]][[durations_label,event_observed_label]]\n",
    "    ax = kmf_ctl.fit(df_surv[durations_label],df_surv[event_observed_label],label=df_onehot.columns[1]).\\\n",
    "            plot_survival_function(ax=ax,show_censors=False,ci_show=False)\n",
    "    \n",
    "    med_pfs.append([var_label,df_onehot.columns[1],kmf_ctl.median_survival_time_])\n",
    "    add_at_risk_counts(kmf_exp, kmf_ctl, ax=ax)\n",
    "    \n",
    "    return med_pfs, ax"
   ]
  },
  {
   "cell_type": "markdown",
   "id": "ca8e2a89",
   "metadata": {
    "tags": []
   },
   "source": [
    "# Read in Data"
   ]
  },
  {
   "cell_type": "markdown",
   "id": "73616c50-b7b6-45ac-b736-646c9d991eb7",
   "metadata": {},
   "source": [
    "## Set Paths"
   ]
  },
  {
   "cell_type": "code",
   "execution_count": null,
   "id": "43746a39-cc4a-42a0-8f02-0c0c75e352e7",
   "metadata": {},
   "outputs": [],
   "source": [
    "# Set this to your source_data directory\n",
    "source_data_path = \".../Source Data/\""
   ]
  },
  {
   "cell_type": "code",
   "execution_count": null,
   "id": "43a4fb25",
   "metadata": {},
   "outputs": [],
   "source": [
    "source_data_path_clinical = source_data_path + 'Clinical/'\n",
    "source_data_path_exome = source_data_path + 'Exome/'\n",
    "source_data_path_rna = source_data_path + 'RNA/'\n",
    "source_data_path_ref = source_data_path + 'Reference/'\n",
    "source_data_path_int = source_data_path + 'Integrative/'\n",
    "source_data_path_out = source_data_path + 'Output/'"
   ]
  },
  {
   "cell_type": "markdown",
   "id": "31b5c719",
   "metadata": {
    "tags": []
   },
   "source": [
    "## Read in Reference Data"
   ]
  },
  {
   "cell_type": "code",
   "execution_count": null,
   "id": "df2c5857-3e6a-40fa-b073-07ad4d9daf76",
   "metadata": {},
   "outputs": [],
   "source": [
    "panlung_drivers = pd.read_csv(source_data_path_ref + 'panlung_drivers.txt',sep='\\t',header=None).iloc[:,0].to_list()\n",
    "panlung_amps = pd.read_csv(source_data_path_ref + 'panlung_amps.txt',sep='\\t',header=None).iloc[:,0].to_list()\n",
    "panlung_dels = pd.read_csv(source_data_path_ref + 'panlung_dels.txt',sep='\\t',header=None).iloc[:,0].to_list()"
   ]
  },
  {
   "cell_type": "markdown",
   "id": "b42ddec8",
   "metadata": {
    "tags": []
   },
   "source": [
    "## Read in Clinical Data"
   ]
  },
  {
   "cell_type": "code",
   "execution_count": null,
   "id": "8161d793",
   "metadata": {},
   "outputs": [],
   "source": [
    "annot_file = 'Table_S1_Clinical_Annotations.xlsx'\n",
    "su2c_clinical = pd.read_excel(source_data_path_clinical + annot_file,skiprows=2)"
   ]
  },
  {
   "cell_type": "code",
   "execution_count": null,
   "id": "2b082a22",
   "metadata": {},
   "outputs": [],
   "source": [
    "su2c_clinical_extra = pd.read_csv\\\n",
    "    (source_data_path_clinical+'SU2C-MARK_Harmonized_Clinical_Annotations_Supplement_v1.txt',sep='\\t')"
   ]
  },
  {
   "cell_type": "markdown",
   "id": "1fa3583a",
   "metadata": {
    "tags": []
   },
   "source": [
    "## Read in Exome Data"
   ]
  },
  {
   "cell_type": "code",
   "execution_count": null,
   "id": "29b2d83c-52fb-426f-9840-1ce33d1d6fc1",
   "metadata": {},
   "outputs": [],
   "source": [
    "su2c_val_harm_dam_pv_bin = pd.read_csv(source_data_path_exome + 'SU2C-MARK_Harmonized_Validated_Damaging_Pivot_Bin_v1.txt',sep='\\t')\n",
    "su2c_val_harm_dam_pv_drivers = su2c_val_harm_dam_pv_bin.loc[:,su2c_val_harm_dam_pv_bin.columns.isin(panlung_drivers)]\n",
    "su2c_val_harm_dam_pv_drivers['Tumor_Sample_Barcode'] = su2c_val_harm_dam_pv_bin['Tumor_Sample_Barcode']"
   ]
  },
  {
   "cell_type": "code",
   "execution_count": null,
   "id": "44efe8d1-e8e2-41fc-a4da-ca3bbcde7bca",
   "metadata": {},
   "outputs": [],
   "source": [
    "su2c_tmb_sig_tmb_harm = pd.read_csv(source_data_path_exome + 'SU2C-MARK_Harmonized_Exome_TMB_Signatures_v1.txt',sep = '\\t')\n",
    "su2c_tmb_sig_tmb_harm_log = su2c_tmb_sig_tmb_harm.set_index('Harmonized_SU2C_WES_Tumor_Sample_ID_v2').\\\n",
    "    applymap(lambda x: np.log10(x+1))\n",
    "su2c_tmb_sig_tmb_harm_log.rename(columns=lambda x: 'log_'+x,inplace=True)"
   ]
  },
  {
   "cell_type": "code",
   "execution_count": null,
   "id": "f7c427b3-40b6-408e-ba13-acd16a2b7caf",
   "metadata": {},
   "outputs": [],
   "source": [
    "su2c_cnv_gene = pd.read_csv(source_data_path_exome + 'SU2C-MARK_Harmonized_Gistic_Gene_v1.txt',sep='\\t')\n",
    "su2c_cnv_gene_sig = su2c_cnv_gene[su2c_cnv_gene['Gene Symbol'].isin(panlung_amps + panlung_dels)]\n",
    "su2c_cnv_gene_sig_t = su2c_cnv_gene_sig.iloc[:,3:].T\n",
    "su2c_cnv_gene_sig_t.columns = su2c_cnv_gene_sig['Gene Symbol']"
   ]
  },
  {
   "cell_type": "code",
   "execution_count": null,
   "id": "fb808ce9-d148-4aa6-86f4-94986ec804e3",
   "metadata": {},
   "outputs": [],
   "source": [
    "su2c_cnv_peak = pd.read_csv(source_data_path_exome + 'SU2C-MARK_Harmonized_Gistic_Focal_v1.txt',sep='\\t')\n",
    "su2c_cnv_peak_actual = su2c_cnv_peak[su2c_cnv_peak['Amplitude Threshold']=='Actual Copy Change Given']\n",
    "su2c_cnv_peak_actual['Descriptor'] = su2c_cnv_peak_actual.apply(lambda x: 'Amp_' + x['Descriptor'] if 'Amp' in x['Unique Name'] \\\n",
    "                           else 'Del_' + x['Descriptor'],axis=1)\n",
    "su2c_cnv_peak_actual_t = su2c_cnv_peak_actual.set_index('Descriptor').iloc[:,8:].T"
   ]
  },
  {
   "cell_type": "code",
   "execution_count": null,
   "id": "ee4bfb11-eeea-45a9-a41f-31e32b6b60ca",
   "metadata": {},
   "outputs": [],
   "source": [
    "su2c_cnv_arm = pd.read_csv(source_data_path_exome + 'SU2C-MARK_Harmonized_Gistic_Arm_v1.txt',sep='\\t')\n",
    "su2c_cnv_arm_t = su2c_cnv_arm.set_index('Chromosome Arm').T"
   ]
  },
  {
   "cell_type": "code",
   "execution_count": null,
   "id": "18d5698f",
   "metadata": {},
   "outputs": [],
   "source": [
    "su2c_cnv_totals = pd.read_csv(source_data_path_exome + 'SU2C-MARK_Harmonized_Total_Amps_Dels_v1.txt',sep='\\t')"
   ]
  },
  {
   "cell_type": "code",
   "execution_count": null,
   "id": "3a300f97",
   "metadata": {},
   "outputs": [],
   "source": [
    "su2c_hla_summary = pd.read_csv(source_data_path_exome + 'SU2C-MARK_Harmonized_Antigen_Presentation_v1.txt',sep='\\t')"
   ]
  },
  {
   "cell_type": "code",
   "execution_count": null,
   "id": "58c38ab6",
   "metadata": {},
   "outputs": [],
   "source": [
    "su2c_wes_mixcr_harm = pd.read_csv(source_data_path_exome + 'SU2C-MARK_Harmonized_Mixcr_v1.txt',sep='\\t')"
   ]
  },
  {
   "cell_type": "code",
   "execution_count": null,
   "id": "9303d861",
   "metadata": {},
   "outputs": [],
   "source": [
    "su2c_wes_abs_harm = pd.read_csv(source_data_path_exome + 'SU2C-MARK_Harmonized_Absolute_Purity_Ploidy_v1.txt',sep='\\t')"
   ]
  },
  {
   "cell_type": "markdown",
   "id": "9d33a81e",
   "metadata": {
    "tags": []
   },
   "source": [
    "## Read in RNA Data"
   ]
  },
  {
   "cell_type": "code",
   "execution_count": null,
   "id": "d5f084ea",
   "metadata": {},
   "outputs": [],
   "source": [
    "su2c_bnmf_harm = pd.read_csv(source_data_path_rna + 'SU2C-MARK_Harmonized_Tumor_Clusters_v1.txt',sep='\\t')"
   ]
  },
  {
   "cell_type": "code",
   "execution_count": null,
   "id": "fce7a42c",
   "metadata": {},
   "outputs": [],
   "source": [
    "su2c_ssbnmf_harm = pd.read_csv(source_data_path_rna + 'SU2C-MARK_Harmonized_Integrative_Clusters_v1.txt',sep='\\t')"
   ]
  },
  {
   "cell_type": "code",
   "execution_count": null,
   "id": "70ce9afd",
   "metadata": {},
   "outputs": [],
   "source": [
    "su2c_is_hm_harm = pd.read_csv(source_data_path_rna + 'SU2C-MARK_Harmonized_Curated_Sets_HM_v1.txt',sep='\\t')"
   ]
  },
  {
   "cell_type": "code",
   "execution_count": null,
   "id": "31e24ca9",
   "metadata": {},
   "outputs": [],
   "source": [
    "su2c_is_dh_harm = pd.read_csv(source_data_path_rna + 'SU2C-MARK_Harmonized_Curated_Sets_DH_v1.txt',sep='\\t')"
   ]
  },
  {
   "cell_type": "code",
   "execution_count": null,
   "id": "42230e6c",
   "metadata": {},
   "outputs": [],
   "source": [
    "su2c_is_sf_harm = pd.read_csv(source_data_path_rna + 'SU2C-MARK_Harmonized_Curated_Sets_SF_v1.txt',sep='\\t')"
   ]
  },
  {
   "cell_type": "code",
   "execution_count": null,
   "id": "4e3367ec",
   "metadata": {},
   "outputs": [],
   "source": [
    "su2c_is_zi_harm = pd.read_csv(source_data_path_rna + 'SU2C-MARK_Harmonized_Curated_Sets_ZI_v1.txt',sep='\\t')"
   ]
  },
  {
   "cell_type": "code",
   "execution_count": null,
   "id": "70ae52ae",
   "metadata": {},
   "outputs": [],
   "source": [
    "su2c_is_zi_ext_harm = pd.read_csv(source_data_path_rna + 'SU2C-MARK_Harmonized_Curated_Sets_ZI_Extended_v1.txt',sep='\\t')"
   ]
  },
  {
   "cell_type": "code",
   "execution_count": null,
   "id": "455a065d",
   "metadata": {},
   "outputs": [],
   "source": [
    "su2c_rna_harm = pd.read_csv(source_data_path_rna + 'SU2C-MARK_Harmonized_rnaseqc_tpm_v1.gct',skiprows=2,sep='\\t')"
   ]
  },
  {
   "cell_type": "code",
   "execution_count": null,
   "id": "b865e9ae",
   "metadata": {},
   "outputs": [],
   "source": [
    "su2c_limma_harm = pd.read_csv(source_data_path_rna + 'SU2C-MARK_Harmonized_Limma_All_v1.txt',sep='\\t')"
   ]
  },
  {
   "cell_type": "code",
   "execution_count": null,
   "id": "e821934c-8fe9-476b-b6d4-074dfe9a5ffe",
   "metadata": {},
   "outputs": [],
   "source": [
    "su2c_tme_gsea_harm = pd.read_csv(source_data_path_rna + 'SU2C-MARK_TME_Cluster_GSEA.tsv',sep='\\t')"
   ]
  },
  {
   "cell_type": "markdown",
   "id": "ad9ef088",
   "metadata": {
    "tags": []
   },
   "source": [
    "## Merge Data"
   ]
  },
  {
   "cell_type": "code",
   "execution_count": null,
   "id": "e304ac36-0646-4925-9239-e22aabca8898",
   "metadata": {},
   "outputs": [],
   "source": [
    "su2c_merge_master = su2c_clinical.merge(su2c_clinical_extra,\\\n",
    "        left_on='Harmonized_SU2C_Participant_ID_v2',right_on='Harmonized_SU2C_Participant_ID_v2',how='inner')\\\n",
    "    .merge(su2c_val_harm_dam_pv_drivers.rename(columns = lambda x: x+'_MUT'),\\\n",
    "        left_on='Harmonized_SU2C_WES_Tumor_Sample_ID_v2',right_on='Tumor_Sample_Barcode_MUT',how='left').drop('Tumor_Sample_Barcode_MUT',axis=1)\\\n",
    "    .merge(su2c_cnv_gene_sig_t.rename(columns=lambda x: x+'_CNV'),\\\n",
    "        left_on='Harmonized_SU2C_WES_Tumor_Sample_ID_v2',right_index=True,how='left')\\\n",
    "    .merge(su2c_cnv_peak_actual_t,\\\n",
    "        left_on='Harmonized_SU2C_WES_Tumor_Sample_ID_v2',right_index=True,how='left')\\\n",
    "    .merge(su2c_cnv_arm_t,\\\n",
    "        left_on='Harmonized_SU2C_WES_Tumor_Sample_ID_v2',right_index=True,how='left')\\\n",
    "    .merge(su2c_cnv_totals,\\\n",
    "        left_on='Harmonized_SU2C_WES_Tumor_Sample_ID_v2',right_on='Harmonized_SU2C_WES_Tumor_Sample_ID_v2',how='left')\\\n",
    "    .merge(su2c_tmb_sig_tmb_harm,\\\n",
    "        left_on='Harmonized_SU2C_WES_Tumor_Sample_ID_v2',right_on='Harmonized_SU2C_WES_Tumor_Sample_ID_v2',how='left')\\\n",
    "    .merge(su2c_tmb_sig_tmb_harm_log,\\\n",
    "        left_on='Harmonized_SU2C_WES_Tumor_Sample_ID_v2',right_index=True,how='left')\\\n",
    "    .merge(su2c_hla_summary,\\\n",
    "        left_on='Harmonized_SU2C_WES_Tumor_Sample_ID_v2',right_on='Harmonized_SU2C_WES_Tumor_Sample_ID_v2',how='left')\\\n",
    "    .merge(su2c_wes_mixcr_harm,\\\n",
    "        left_on='Harmonized_SU2C_WES_Tumor_Sample_ID_v2',right_on='Harmonized_SU2C_WES_Tumor_Sample_ID_v2',how='left')\\\n",
    "    .merge(su2c_wes_abs_harm,\\\n",
    "          left_on='Harmonized_SU2C_WES_Tumor_Sample_ID_v2',right_on='Harmonized_SU2C_WES_Tumor_Sample_ID_v2',how='left')\\\n",
    "    .merge(su2c_bnmf_harm,\\\n",
    "          left_on='Harmonized_SU2C_RNA_Tumor_Sample_ID_v2',right_on='Harmonized_SU2C_RNA_Tumor_Sample_ID_v2',how='left')\\\n",
    "    .merge(su2c_ssbnmf_harm,\\\n",
    "          left_on='Harmonized_SU2C_RNA_Tumor_Sample_ID_v2',right_on='Harmonized_SU2C_RNA_Tumor_Sample_ID_v2',how='left')\\\n",
    "    .merge(su2c_is_hm_harm.rename(columns = lambda x: x + '_HM'),\\\n",
    "          left_on='Harmonized_SU2C_RNA_Tumor_Sample_ID_v2',right_on='Harmonized_SU2C_RNA_Tumor_Sample_ID_v2_HM',how='left')\\\n",
    "          .drop('Harmonized_SU2C_RNA_Tumor_Sample_ID_v2_HM',axis=1)\\\n",
    "    .merge(su2c_is_dh_harm.rename(columns = lambda x: x + '_DH'),\\\n",
    "          left_on='Harmonized_SU2C_RNA_Tumor_Sample_ID_v2',right_on='Harmonized_SU2C_RNA_Tumor_Sample_ID_v2_DH',how='left')\\\n",
    "          .drop('Harmonized_SU2C_RNA_Tumor_Sample_ID_v2_DH',axis=1)\\\n",
    "    .merge(su2c_is_sf_harm.rename(columns = lambda x: x + '_SF'),\\\n",
    "          left_on='Harmonized_SU2C_RNA_Tumor_Sample_ID_v2',right_on='Harmonized_SU2C_RNA_Tumor_Sample_ID_v2_SF',how='left')\\\n",
    "          .drop('Harmonized_SU2C_RNA_Tumor_Sample_ID_v2_SF',axis=1)\\\n",
    "    .merge(su2c_is_zi_harm.rename(columns = lambda x: x + '_ZI'),\\\n",
    "          left_on='Harmonized_SU2C_RNA_Tumor_Sample_ID_v2',right_on='Harmonized_SU2C_RNA_Tumor_Sample_ID_v2_ZI',how='left')\\\n",
    "          .drop('Harmonized_SU2C_RNA_Tumor_Sample_ID_v2_ZI',axis=1)\\\n",
    "    .merge(su2c_is_zi_ext_harm.rename(columns = lambda x: x + '_ZI'),\\\n",
    "          left_on='Harmonized_SU2C_RNA_Tumor_Sample_ID_v2',right_on='Harmonized_SU2C_RNA_Tumor_Sample_ID_v2_ZI',how='left')\\\n",
    "          .drop('Harmonized_SU2C_RNA_Tumor_Sample_ID_v2_ZI',axis=1)"
   ]
  },
  {
   "cell_type": "code",
   "execution_count": null,
   "id": "1316e514",
   "metadata": {},
   "outputs": [],
   "source": [
    "su2c_merge_master['log_TMB'] = su2c_merge_master.dropna(subset=['TMB'])['TMB'].apply(lambda x: np.log10((x+1)/33))"
   ]
  },
  {
   "cell_type": "markdown",
   "id": "a3cc97b8-542d-4cab-aef8-5e546fe286e8",
   "metadata": {},
   "source": [
    "# Significance Testing"
   ]
  },
  {
   "cell_type": "markdown",
   "id": "ecef7e33-993c-4dfb-b38e-1a49b89333c0",
   "metadata": {},
   "source": [
    "## Feature List"
   ]
  },
  {
   "cell_type": "code",
   "execution_count": null,
   "id": "c888b39e",
   "metadata": {},
   "outputs": [],
   "source": [
    "select_cols = \\\n",
    "['PDL1_TPS'] +\\\n",
    "['APC_MUT',\n",
    " 'ARID1A_MUT',\n",
    " 'ATM_MUT',\n",
    " 'BRAF_MUT',\n",
    " 'CDKN2A_MUT',\n",
    " 'COL5A2_MUT',\n",
    " 'EGFR_MUT',\n",
    " 'FAT1_MUT',\n",
    " 'KEAP1_MUT',\n",
    " 'KMT2C_MUT',\n",
    " 'KMT2D_MUT',\n",
    " 'KRAS_MUT',\n",
    " 'MGA_MUT',\n",
    " 'NF1_MUT',\n",
    " 'NFE2L2_MUT',\n",
    " 'NOTCH1_MUT',\n",
    " 'PIK3CA_MUT',\n",
    " 'PLXNB2_MUT',\n",
    " 'RBM10_MUT',\n",
    " 'SETD2_MUT',\n",
    " 'SMARCA4_MUT',\n",
    " 'STK11_MUT',\n",
    " 'TP53_MUT'] +\\\n",
    "['Amp_1q21.3  ',\n",
    " 'Amp_3q26.2  ',\n",
    " 'Amp_3q27.1  ',\n",
    " 'Amp_5p15.33 ',\n",
    " 'Amp_7p15.3  ',\n",
    " 'Amp_7p11.2  ',\n",
    " 'Amp_7q21.12 ',\n",
    " 'Amp_8p11.23 ',\n",
    " 'Amp_8q24.21 ',\n",
    " 'Amp_11q13.3 ',\n",
    " 'Amp_12p12.1 ',\n",
    " 'Amp_14q13.3 ',\n",
    " 'Amp_19q12   ',\n",
    " 'Amp_20q13.33'] +\\\n",
    "['MCL1_CNV',\n",
    " 'MECOM_CNV',\n",
    " 'TERC_CNV',\n",
    " 'SOX2_CNV',\n",
    " 'TERT_CNV',\n",
    " 'EGFR_CNV',\n",
    " 'FGFR1_CNV',\n",
    " 'KAT6A_CNV',\n",
    " 'MYC_CNV',\n",
    " 'CDKN2A_CNV',\n",
    " 'CCND1_CNV',\n",
    " 'KRAS_CNV',\n",
    " 'CCNE1_CNV',\n",
    " 'ZNF217_CNV'] +\\\n",
    "[ 'log_TMB',\n",
    " 'log_TMB_clonal',\n",
    " 'log_TMB_subclonal',\n",
    " 'log_TMB_indel',\n",
    " 'log_Neoantigens',\n",
    " 'log_Neoantigens_clonal',\n",
    " 'log_Neoantigens_subclonal',\n",
    " 'Subclone_count',\n",
    " 'log_Aging_Signature',\n",
    " 'log_Smoking_Signature',\n",
    " 'log_APOBEC_Signature',\n",
    " 'log_DNA_BCR_burden',\n",
    " 'log_DNA_TCR_burden',\n",
    " 'Total_dels',\n",
    " 'Total_amps',\n",
    " 'HLA_LOH_present',\n",
    " 'HLA_hom_present',\n",
    " 'B2M_altered',\n",
    " 'T1_norm',\n",
    " 'T2_norm',\n",
    " 'T3_norm',\n",
    " 'T4_norm',\n",
    " 'I1_norm',\n",
    " 'I2_norm',\n",
    " 'I3_norm',\n",
    " 'B-cells_SF',\n",
    " 'Cytotoxic cells_SF',\n",
    " 'DC_SF',\n",
    " 'Exhausted CD8_SF',\n",
    " 'Exhausted/HS CD8_SF',\n",
    " 'Lymphocytes_SF',\n",
    " 'Lymphocytes exhausted/cell cycle_SF',\n",
    " 'Macrophages/Monocytes_SF',\n",
    " 'Memory T cells_SF',\n",
    " 'Plasma_SF',\n",
    " 'Treg_SF',\n",
    " 'hMø1_ZI',\n",
    " 'hMø4_ZI',\n",
    " 'hMø5_ZI',\n",
    " 'hMø6_ZI',\n",
    " 'hMø7_ZI',\n",
    " 'hMø8_ZI',\n",
    " 'hMø9_ZI',\n",
    " 'hMono1_ZI',\n",
    " 'hMono2_ZI',\n",
    " 'hMono3_ZI']+\\\n",
    "['hN1_ZI', \n",
    "'hN2_ZI',\n",
    "'hN3_ZI',\n",
    "'hN5_ZI',\n",
    "'hDC1_ZI',\n",
    "'hDC2_ZI',\n",
    "'hDC3_ZI',\n",
    "'hpDC_ZI']"
   ]
  },
  {
   "cell_type": "markdown",
   "id": "3a5d5635",
   "metadata": {
    "tags": []
   },
   "source": [
    "## Logistic Regression Testing"
   ]
  },
  {
   "cell_type": "code",
   "execution_count": null,
   "id": "97a7ce84",
   "metadata": {
    "tags": []
   },
   "outputs": [],
   "source": [
    "log_reg = []\n",
    "df = pd.DataFrame()\n",
    "df_test = su2c_merge_master\n",
    "for feature in select_cols:\n",
    "    X = df_test.set_index('Harmonized_SU2C_Participant_ID_v2').loc[:,[feature]]\n",
    "    if X.iloc[:,0].dtype.name!='float64':\n",
    "        Xd = pd.get_dummies(X,dummy_na=True).iloc[:,0:-1]\n",
    "        df = pd.concat([df,Xd],axis=1)\n",
    "        for col in Xd.columns:\n",
    "            y = df_test.set_index('Harmonized_SU2C_Participant_ID_v2')['Harmonized_Confirmed_BOR_Bin']\n",
    "            Xi = Xd[[col]]\n",
    "            Xy = Xi.merge(y,left_index=True,right_index=True,how='inner').dropna()\n",
    "            Xi = Xy.iloc[:,[0]]\n",
    "            y = Xy.iloc[:,[1]]\n",
    "            p, param = response_rate_logit(Xi,y)\n",
    "            log_reg.append([Xi.columns[0],p[1],param[1]])\n",
    "    else:\n",
    "        df = pd.concat([df,X],axis=1)\n",
    "        y = df_test.set_index('Harmonized_SU2C_Participant_ID_v2')['Harmonized_Confirmed_BOR_Bin']\n",
    "        Xy = X.merge(y,left_index=True,right_index=True,how='inner').dropna()\n",
    "        X = Xy.iloc[:,[0]]\n",
    "        y = Xy.iloc[:,[1]]\n",
    "        p, param = response_rate_logit(X,y)\n",
    "        log_reg.append([feature,p[1],param[1]])\n",
    "log_reg_df = pd.DataFrame(log_reg,columns=['Feature','p_value','coeff']).set_index('Feature')"
   ]
  },
  {
   "cell_type": "code",
   "execution_count": null,
   "id": "31373df6-f0a2-46be-a63d-0281e4936149",
   "metadata": {},
   "outputs": [],
   "source": [
    "log_reg_df['q_value'] = multi.multipletests(log_reg_df['p_value'],method='fdr_bh')[1]"
   ]
  },
  {
   "cell_type": "markdown",
   "id": "5a09c530",
   "metadata": {},
   "source": [
    "# Cohort and Mutations"
   ]
  },
  {
   "cell_type": "markdown",
   "id": "e281bf84",
   "metadata": {},
   "source": [
    "## Mutations and TMB"
   ]
  },
  {
   "cell_type": "code",
   "execution_count": null,
   "id": "a5a6c483-8f81-4135-b758-93bc46413120",
   "metadata": {},
   "outputs": [],
   "source": [
    "p = sns.swarmplot(data = su2c_merge_master.dropna(subset=['log_TMB']),x = 'Harmonized_Confirmed_BOR_3_Cat',y='log_TMB',order=['CR/PR','SD','PD'])\n",
    "p.set_xticklabels(['PR/CR\\n(N = 121)','SD\\n(N = 84)','PD\\n(N = 104)'],font='Arial',weight='bold',fontsize=14)\n",
    "p.set_yticklabels([str(i) for i in p.get_yticks()],font='Arial',weight='bold',fontsize=14)\n",
    "p.set_ylabel('$\\mathregular{log_{10}(TMB)}$',font='Arial',weight='bold',fontsize=16,labelpad=10)\n",
    "p.set_xlabel('')\n",
    "p.yaxis.set_major_formatter(FormatStrFormatter('%.1f'))"
   ]
  },
  {
   "cell_type": "markdown",
   "id": "97eb1b43",
   "metadata": {},
   "source": [
    "## Driver Survival Curves"
   ]
  },
  {
   "cell_type": "code",
   "execution_count": null,
   "id": "7b4cf4ea",
   "metadata": {},
   "outputs": [],
   "source": [
    "su2c_val_harm_dam_pv = pd.read_csv(source_data_path_exome + 'SU2C-MARK_Harmonized_Validated_Damaging_Pivot_v1.txt',sep='\\t')"
   ]
  },
  {
   "cell_type": "code",
   "execution_count": null,
   "id": "bb55604a",
   "metadata": {},
   "outputs": [],
   "source": [
    "su2c_clinical_dam_merge = su2c_clinical.merge(su2c_clinical_extra,\\\n",
    "        left_on='Harmonized_SU2C_Participant_ID_v2',right_on='Harmonized_SU2C_Participant_ID_v2',how='inner')\\\n",
    "        .merge(su2c_val_harm_dam_pv,left_on='Harmonized_SU2C_WES_Tumor_Sample_ID_v2',\n",
    "                    right_on='Tumor_Sample_Barcode',how='inner')"
   ]
  },
  {
   "cell_type": "code",
   "execution_count": null,
   "id": "b235ab0d-1dba-440f-b841-0cc82fe967f6",
   "metadata": {},
   "outputs": [],
   "source": [
    "# Plot PFS by Gene\n",
    "\n",
    "feature_col = 'EGFR'\n",
    "duration_col = 'Harmonized_PFS_Months'\n",
    "event_col = 'Harmonized_PFS_Event'\n",
    "\n",
    "df = su2c_clinical_dam_merge.copy()\n",
    "df_filt = df[[feature_col,duration_col,event_col]].dropna()\n",
    "medpfs, ax = survival_curve_pair(df_filt,feature_col,duration_col,event_col)\n",
    "\n",
    "ax.set_ylabel(\"PFS Probability\",font='Arial',weight='bold',fontsize=16,labelpad = 14)\n",
    "ax.set_xlabel(\"Months\",font='Arial',weight='bold',fontsize=16,labelpad=14)\n",
    "ax.set_xticklabels(ax.get_xticks(),font='Arial',weight='bold',fontsize=14)\n",
    "ax.set_yticklabels(np.round(ax.get_yticks(),1),font='Arial',weight='bold',fontsize=14)\n",
    "ax.xaxis.set_major_formatter(FormatStrFormatter('%.0f'))\n",
    "\n",
    "L = ax.legend(frameon=False,prop={'size':14,'weight':'bold'})\n",
    "L.get_texts()[0].set_text(feature_col + \" unmutated\")\n",
    "L.get_texts()[1].set_text(feature_col + \" mutated\")"
   ]
  },
  {
   "cell_type": "code",
   "execution_count": null,
   "id": "a42e4b5d-18e3-44c9-85b3-b4d583f926e5",
   "metadata": {},
   "outputs": [],
   "source": [
    "# Plot PFS by Gene\n",
    "\n",
    "feature_col = 'KRAS/STK11'\n",
    "duration_col = 'Harmonized_PFS_Months'\n",
    "event_col = 'Harmonized_PFS_Event'\n",
    "\n",
    "df = su2c_clinical_dam_merge.copy()\n",
    "df = df[df['KRAS']==1]\n",
    "df['KRAS/STK11'] = df['KRAS'] * df['STK11']\n",
    "df_filt = df[[feature_col,duration_col,event_col]].dropna()\n",
    "medpfs, ax = survival_curve_pair(df_filt,feature_col,duration_col,event_col)\n",
    "\n",
    "ax.set_ylabel(\"PFS Probability\",font='Arial',weight='bold',fontsize=16,labelpad = 14)\n",
    "ax.set_xlabel(\"Months\",font='Arial',weight='bold',fontsize=16,labelpad=14)\n",
    "ax.set_xticklabels(np.round(ax.get_xticks()),font='Arial',weight='bold',fontsize=14)\n",
    "ax.set_yticklabels(np.round(ax.get_yticks(),1),font='Arial',weight='bold',fontsize=14)\n",
    "ax.xaxis.set_major_formatter(FormatStrFormatter('%.0f'))\n",
    "\n",
    "L = ax.legend(frameon=False,prop={'size':14,'weight':'bold'})\n",
    "L.get_texts()[0].set_text(\"KRAS mutant; STK11 unmutated\")\n",
    "L.get_texts()[1].set_text(\"KRAS mutant; STK11 mutated\")"
   ]
  },
  {
   "cell_type": "markdown",
   "id": "86d8dad9",
   "metadata": {},
   "source": [
    "## Logistic Regression Across Exome Drivers"
   ]
  },
  {
   "cell_type": "code",
   "execution_count": null,
   "id": "81cd9da4-6ca5-4092-b828-a7b963f7e5d1",
   "metadata": {},
   "outputs": [],
   "source": [
    "log_reg_df_mut = log_reg_df.loc[log_reg_df.index.to_series().apply(lambda x: '_MUT' in x)]"
   ]
  },
  {
   "cell_type": "code",
   "execution_count": null,
   "id": "1349ff5b",
   "metadata": {},
   "outputs": [],
   "source": [
    "df = log_reg_df_mut\n",
    "x = df['coeff']\n",
    "y = df['q_value']\n",
    "\n",
    "fig,ax = plt.subplots(figsize=(6,6))\n",
    "\n",
    "ax.axhline(linewidth=1,y=-np.log10(0.1),linestyle='-',c='r')\n",
    "ax.axhline(linewidth=1,y=-np.log10(0.25),linestyle='dashed',c='purple')\n",
    "ax.axhline(linewidth=1,y=0,linestyle='dotted',c='k')\n",
    "\n",
    "sns.scatterplot(x=x,y=-np.log10(y),ax=ax,s=100)\n",
    "plt.xlim(-2,2)\n",
    "plt.ylim(0,1.6)\n",
    "\n",
    "for i in range(0,len(df.index)):\n",
    "    \n",
    "    xi = x[i]\n",
    "    yi = -np.log10(y[i])\n",
    "    gene = df.index[i].split('_')[0]\n",
    "    \n",
    "    if yi>(-np.log10(0.25)):\n",
    "        if gene == 'ATM':\n",
    "            plt.annotate(gene,xy=(x[i],-np.log10(y[i])),\\\n",
    "                         xycoords='data',xytext=(0,20),textcoords='offset points', va='center',ha='left',\\\n",
    "                        arrowprops=dict(arrowstyle='-',lw=2,color='k'),size=12,style='italic')\n",
    "        elif gene == 'ARID1A':\n",
    "            plt.annotate(gene,xy=(x[i],-np.log10(y[i])),\\\n",
    "                         xycoords='data',xytext=(15,15),textcoords='offset points', va='center',ha='left',\\\n",
    "                        arrowprops=dict(arrowstyle='-',lw=2,color='k'),size=12,style='italic')\n",
    "        elif gene == 'KEAP1':\n",
    "            plt.annotate(gene,xy=(x[i],-np.log10(y[i])),\\\n",
    "                         xycoords='data',xytext=(-5,15),textcoords='offset points', va='center',ha='right',\\\n",
    "                        arrowprops=dict(arrowstyle='-',color='k',lw=2),size=12,style='italic')\n",
    "        elif gene == 'SMARCA4':\n",
    "            plt.annotate(gene,xy=(x[i],-np.log10(y[i])),\\\n",
    "                         xycoords='data',xytext=(15,10),textcoords='offset points', va='center',ha='left',\\\n",
    "                        arrowprops=dict(arrowstyle='-',color='k',lw=2),size=12,style='italic')\n",
    "        elif gene == 'TP53':\n",
    "            plt.annotate(gene,xy=(x[i],-np.log10(y[i])),\\\n",
    "                         xycoords='data',xytext=(0,25),textcoords='offset points', va='center',ha='left',\\\n",
    "                        arrowprops=dict(arrowstyle='-',color='k',lw=2),size=12,style='italic')\n",
    "        elif gene == 'RBM10':\n",
    "            plt.annotate(gene,xy=(x[i],-np.log10(y[i])),\\\n",
    "                         xycoords='data',xytext=(-30,25),textcoords='offset points', va='center',ha='left',\\\n",
    "                        arrowprops=dict(arrowstyle='-',color='k',lw=2),size=12,style='italic')\n",
    "        elif gene == 'EGFR':\n",
    "            plt.annotate(gene,xy=(x[i],-np.log10(y[i])),\\\n",
    "                         xycoords='data',xytext=(10,25),textcoords='offset points', va='center',ha='right',\\\n",
    "                        arrowprops=dict(arrowstyle='-',color='k',lw=2),size=12,style='italic')\n",
    "\n",
    "\n",
    "_ = ax.set_xlabel(\"ln(Odds Ratio)\",font='Arial',weight='bold',fontsize=16,labelpad = 14)\n",
    "_ = ax.set_ylabel(\"$\\mathregular{-log_{10}(q-value)}$\",font='Arial',weight='bold',fontsize=16,labelpad=14)\n",
    "_ = ax.set_xticklabels(np.round(ax.get_xticks()),font='Arial',weight='bold',fontsize=14)\n",
    "_ = ax.set_yticklabels(np.round(ax.get_yticks(),1),font='Arial',weight='bold',fontsize=14)            \n",
    "\n",
    "ax.xaxis.set_major_formatter(FormatStrFormatter('%.1f'))"
   ]
  },
  {
   "cell_type": "markdown",
   "id": "3edc2118",
   "metadata": {},
   "source": [
    "## Copy Number and Response"
   ]
  },
  {
   "cell_type": "code",
   "execution_count": null,
   "id": "badc32b5",
   "metadata": {},
   "outputs": [],
   "source": [
    "common_peaks_index = np.where(((su2c_cnv_peak.iloc[0:68,9:]>1).sum(axis=1)/309)>0.05)[0]"
   ]
  },
  {
   "cell_type": "code",
   "execution_count": null,
   "id": "7c528731",
   "metadata": {},
   "outputs": [],
   "source": [
    "common_peaks_freq = su2c_cnv_peak_actual_t.columns[common_peaks_index].to_list()"
   ]
  },
  {
   "cell_type": "code",
   "execution_count": null,
   "id": "ae0b8149",
   "metadata": {},
   "outputs": [],
   "source": [
    "df = log_reg_df.loc[common_peaks_freq]\n",
    "x = df['coeff']\n",
    "y = df['q_value']\n",
    "\n",
    "fig,ax = plt.subplots(figsize=(6,6))\n",
    "sns.scatterplot(x=x,y=-np.log10(y),ax=ax,s=100)\n",
    "plt.xlim(-0.6,0.6)\n",
    "plt.ylim(0,1.6)\n",
    "\n",
    "ax.axhline(linewidth=1,y=-np.log10(0.1),linestyle='-',c='r')\n",
    "ax.axhline(linewidth=1,y=-np.log10(0.25),linestyle='dashed',c='purple')\n",
    "ax.axhline(linewidth=1,y=0,linestyle='dotted',c='k')\n",
    "\n",
    "for i in range(0,len(df.index)):\n",
    "    \n",
    "    xi = x[i]\n",
    "    yi = -np.log10(y[i])\n",
    "    gene = df.index[i]\n",
    "    \n",
    "    if y[i]<1:\n",
    "        if gene == 'Amp_5p15.33 ':\n",
    "            plt.annotate(df.index[i],xy=(x[i],-np.log10(y[i])),\\\n",
    "                         xycoords='data',xytext=(15,15),textcoords='offset points', va='center',ha='left',\\\n",
    "                        arrowprops=dict(arrowstyle='-',lw=2,color='k'),size=12)\n",
    "            \n",
    "_ = ax.set_xlabel(\"ln(Odds Ratio)\",font='Arial',weight='bold',fontsize=16,labelpad = 14)\n",
    "_ = ax.set_ylabel(\"$\\mathregular{-log_{10}(q-value)}$\",font='Arial',weight='bold',fontsize=16,labelpad=14)\n",
    "_ = ax.set_xticklabels(np.round(ax.get_xticks(),1),font='Arial',weight='bold',fontsize=14)\n",
    "_ = ax.set_yticklabels(np.round(ax.get_yticks(),1),font='Arial',weight='bold',fontsize=14)            "
   ]
  },
  {
   "cell_type": "markdown",
   "id": "7e8cd7e0",
   "metadata": {},
   "source": [
    "## Gene CNVs and Response"
   ]
  },
  {
   "cell_type": "code",
   "execution_count": null,
   "id": "799fc4df",
   "metadata": {},
   "outputs": [],
   "source": [
    "common_cnv_gene_freq = su2c_cnv_gene_sig_t.columns[((abs(su2c_cnv_gene_sig_t)>0.9).sum()/309)>0.05].to_list()"
   ]
  },
  {
   "cell_type": "code",
   "execution_count": null,
   "id": "a8fb0d64",
   "metadata": {},
   "outputs": [],
   "source": [
    "df = log_reg_df.loc[[gene + '_CNV' for gene in common_cnv_gene_freq]]\n",
    "\n",
    "x = df['coeff']\n",
    "y = df['q_value']\n",
    "\n",
    "fig,ax = plt.subplots(figsize=(6,6))\n",
    "sns.scatterplot(x=x,y=-np.log10(y),ax=ax,s=100)\n",
    "plt.xlim(-3.3,3.3)\n",
    "plt.ylim(0,1.6)\n",
    "\n",
    "ax.axhline(linewidth=1,y=-np.log10(0.1),linestyle='-',c='r')\n",
    "ax.axhline(linewidth=1,y=-np.log10(0.25),linestyle='dashed',c='purple')\n",
    "ax.axhline(linewidth=1,y=0,linestyle='dotted',c='k')\n",
    "\n",
    "for i in range(0,len(df.index)):\n",
    "    \n",
    "    xi = x[i]\n",
    "    yi = -np.log10(y[i])\n",
    "    gene = df.index[i].split('_')[0]\n",
    "    \n",
    "    if y[i]<0.3:\n",
    "        if gene == 'TERT':\n",
    "            plt.annotate(gene,xy=(x[i],-np.log10(y[i])),\\\n",
    "                         xycoords='data',xytext=(-25,25),textcoords='offset points', va='center',ha='left',\\\n",
    "                        arrowprops=dict(arrowstyle='-',lw=2,color='k'),size=12,style='italic')\n",
    "    elif gene == 'CCNE1':\n",
    "            plt.annotate(gene,xy=(x[i],-np.log10(y[i])),\\\n",
    "                         xycoords='data',xytext=(5,-15),textcoords='offset points', va='center',ha='left',\\\n",
    "                        arrowprops=dict(arrowstyle='-',lw=2,color='k'),size=12,style='italic')\n",
    "    elif gene == 'B2M':\n",
    "            plt.annotate(gene,xy=(x[i],-np.log10(y[i])),\\\n",
    "                         xycoords='data',xytext=(-30,15),textcoords='offset points', va='center',ha='left',\\\n",
    "                        arrowprops=dict(arrowstyle='-',lw=2,color='k'),size=12,style='italic')    \n",
    "    elif gene == 'ZNF217':\n",
    "            plt.annotate(gene,xy=(x[i],-np.log10(y[i])),\\\n",
    "                         xycoords='data',xytext=(-45,20),textcoords='offset points', va='center',ha='left',\\\n",
    "                        arrowprops=dict(arrowstyle='-',lw=2,color='k'),size=12,style='italic')\n",
    "    elif gene == 'CDKN2A':\n",
    "            plt.annotate(gene,xy=(x[i],-np.log10(y[i])),\\\n",
    "                         xycoords='data',xytext=(15,15),textcoords='offset points', va='center',ha='left',\\\n",
    "                        arrowprops=dict(arrowstyle='-',lw=2,color='k'),size=12,style='italic')\n",
    "    elif gene == 'MYC':\n",
    "            plt.annotate(gene,xy=(x[i],-np.log10(y[i])),\\\n",
    "                         xycoords='data',xytext=(-5,25),textcoords='offset points', va='center',ha='left',\\\n",
    "                        arrowprops=dict(arrowstyle='-',lw=2,color='k'),size=12,style='italic')\n",
    "    elif gene == 'CCND1':\n",
    "            plt.annotate(gene,xy=(x[i],-np.log10(y[i])),\\\n",
    "                         xycoords='data',xytext=(-45,20),textcoords='offset points', va='center',ha='left',\\\n",
    "                        arrowprops=dict(arrowstyle='-',lw=2,color='k'),size=12,style='italic')\n",
    "            \n",
    "            \n",
    "_ = ax.set_xlabel(\"ln(Odds Ratio)\",font='Arial',weight='bold',fontsize=16,labelpad = 14)\n",
    "_ = ax.set_ylabel(\"$\\mathregular{-log_{10}(q-value)}$\",font='Arial',weight='bold',fontsize=16,labelpad=14)\n",
    "_ = ax.set_xticklabels(np.round(ax.get_xticks()),font='Arial',weight='bold',fontsize=14)\n",
    "_ = ax.set_yticklabels(np.round(ax.get_yticks(),1),font='Arial',weight='bold',fontsize=14)"
   ]
  },
  {
   "cell_type": "markdown",
   "id": "6ee22515",
   "metadata": {},
   "source": [
    "## Signature Totals"
   ]
  },
  {
   "cell_type": "code",
   "execution_count": null,
   "id": "4fa85bfa",
   "metadata": {},
   "outputs": [],
   "source": [
    "sig_cols = ['log_Neoantigens',\n",
    "       'log_Neoantigens_clonal', 'log_Neoantigens_subclonal',\n",
    "       'Subclone_count', 'log_Aging_Signature', 'log_Smoking_Signature',\n",
    "       'log_APOBEC_Signature', 'log_TMB_indel','HLA_LOH_present', 'HLA_hom_present', 'B2M_altered',\n",
    "            'log_DNA_BCR_burden', 'log_DNA_TCR_burden']"
   ]
  },
  {
   "cell_type": "code",
   "execution_count": null,
   "id": "26833915",
   "metadata": {},
   "outputs": [],
   "source": [
    "sig_cols_rename = ['Neoantigens', 'Neoantigens clonal',\n",
    "       'Neoantigens subclonal', 'Subclone count', 'Aging burden', 'Smoking burden',\n",
    "       'APOBEC burden', 'Indel burden','HLA LOH','HLA homozygosity','B2M alteration','DNA BCR burden',\n",
    "       'DNA TCR burden']"
   ]
  },
  {
   "cell_type": "code",
   "execution_count": null,
   "id": "6ec78523",
   "metadata": {},
   "outputs": [],
   "source": [
    "df_plot = log_reg_df.loc[sig_cols]"
   ]
  },
  {
   "cell_type": "code",
   "execution_count": null,
   "id": "580f90e8",
   "metadata": {},
   "outputs": [],
   "source": [
    "df_plot['-log10(q-value)'] = -np.log10(df_plot['q_value'])"
   ]
  },
  {
   "cell_type": "code",
   "execution_count": null,
   "id": "c5e0ca60",
   "metadata": {},
   "outputs": [],
   "source": [
    "df_plot.index = sig_cols_rename"
   ]
  },
  {
   "cell_type": "code",
   "execution_count": null,
   "id": "34e057e7",
   "metadata": {},
   "outputs": [],
   "source": [
    "plt.figure(figsize=(6,6))\n",
    "h = sns.barplot(y=sig_cols_rename,x=df_plot['-log10(q-value)'],orient = 'h')\n",
    "\n",
    "for item in h.get_yticklabels():\n",
    "    item.set_font('Arial')\n",
    "    item.set_fontweight('bold')\n",
    "    item.set_fontsize(14)\n",
    "    ax=plt.gca()\n",
    "    \n",
    "ax.axvline(linewidth=1,x=-np.log10(0.1),linestyle='-',c='r')\n",
    "ax.axvline(linewidth=1,x=-np.log10(0.25),linestyle='dashed',c='purple')\n",
    "\n",
    "_ = ax.set_xlabel(\"$\\mathregular{-log_{10}(q-value)}$\",font='Arial',weight='bold',fontsize=14,labelpad=14)\n",
    "_ = ax.set_xticklabels(np.round(ax.get_yticks(),1),font='Arial',weight='bold',fontsize=14)"
   ]
  },
  {
   "cell_type": "markdown",
   "id": "1381e500-e5aa-4f9e-b474-12a3a382429f",
   "metadata": {},
   "source": [
    "# Expression Analysis"
   ]
  },
  {
   "cell_type": "markdown",
   "id": "c95839b1",
   "metadata": {},
   "source": [
    "## Immune Cell Subsets"
   ]
  },
  {
   "cell_type": "code",
   "execution_count": null,
   "id": "be085014-721d-4d2a-ba52-d88c5042f6a6",
   "metadata": {},
   "outputs": [],
   "source": [
    "sf_subsets = ['B-cells_y', 'Cytotoxic cells_y', 'DC_y',\n",
    "       'Exhausted CD8_y', 'Exhausted/HS CD8', 'Lymphocytes',\n",
    "       'Lymphocytes exhausted/cell cycle', 'Macrophages/Monocytes',\n",
    "       'Memory T cells', 'Plasma', 'Treg_y']"
   ]
  },
  {
   "cell_type": "code",
   "execution_count": null,
   "id": "4564cc49",
   "metadata": {},
   "outputs": [],
   "source": [
    "df_plot = log_reg_df.loc[su2c_is_sf_harm.columns[1:] + '_SF']"
   ]
  },
  {
   "cell_type": "code",
   "execution_count": null,
   "id": "b72f933d",
   "metadata": {},
   "outputs": [],
   "source": [
    "df_plot = df_plot.sort_values('coeff',ascending=False)"
   ]
  },
  {
   "cell_type": "code",
   "execution_count": null,
   "id": "4e7a44d6",
   "metadata": {},
   "outputs": [],
   "source": [
    "sf_cols_rename=['Exhausted CD8+ T-cells (G6)',\n",
    "                'Regulatory T-cells (G7)',\n",
    "                'Lymphocytes exhausted/cell-cycle (G11)',\n",
    "                'Exhausted/HS CD8+ T-cells (G9)',\n",
    "                'Cytotoxic lymphocytes (G8)',\n",
    "                'B-cells (G1)',                \n",
    "                'Lymphocytes (G5)',\n",
    "                'Plasma cells (G2)',\n",
    "                'Memory T-cells (G10)',\n",
    "                'Dendritic cells (G4)',\n",
    "                'Monocytes/Macrophages (G3)']"
   ]
  },
  {
   "cell_type": "code",
   "execution_count": null,
   "id": "ea2ab4ff",
   "metadata": {},
   "outputs": [],
   "source": [
    "df_plot['Signed log10(q-value)'] = -np.log10(df_plot['q_value'])*\\\n",
    "    np.sign(df_plot['coeff'])"
   ]
  },
  {
   "cell_type": "code",
   "execution_count": null,
   "id": "35617cb1",
   "metadata": {},
   "outputs": [],
   "source": [
    "df_plot = df_plot.sort_values('Signed log10(q-value)',ascending=False)"
   ]
  },
  {
   "cell_type": "code",
   "execution_count": null,
   "id": "73ac61e2",
   "metadata": {},
   "outputs": [],
   "source": [
    "df_plot['hue'] = np.sign(df_plot[\"coeff\"])"
   ]
  },
  {
   "cell_type": "code",
   "execution_count": null,
   "id": "c6345d37",
   "metadata": {},
   "outputs": [],
   "source": [
    "df_plot.index = sf_cols_rename"
   ]
  },
  {
   "cell_type": "code",
   "execution_count": null,
   "id": "811a71e7",
   "metadata": {},
   "outputs": [],
   "source": [
    "plt.figure(figsize=(6,6))\n",
    "h = sns.barplot(y=df_plot.index,x=df_plot['Signed log10(q-value)'],orient='h',\\\n",
    "                hue=df_plot['hue'],dodge=False)\n",
    "\n",
    "ax=plt.gca()\n",
    "ymin=ax.get_ylim()[0]\n",
    "ymax=ax.get_ylim()[1]\n",
    "\n",
    "plt.vlines(x=0,ymin=ymin,ymax=ymax,colors='k')\n",
    "ax.axvline(linewidth=1,x=-np.log10(0.1),linestyle='-',c='r')\n",
    "ax.axvline(linewidth=1,x=-np.log10(0.25),linestyle='dashed',c='purple')\n",
    "ax.axvline(linewidth=1,x=np.log10(0.1),linestyle='-',c='r')\n",
    "ax.axvline(linewidth=1,x=np.log10(0.25),linestyle='dashed',c='purple')\n",
    "\n",
    "plt.ylabel(None)\n",
    "plt.setp(ax.get_yticklabels(), font = 'Arial',fontsize=14,weight='bold')\n",
    "plt.setp(ax.get_xticklabels(), fontsize=12)\n",
    "plt.ylim(10.5,-0.5)\n",
    "\n",
    "plt.xlabel('$\\mathregular{Signed\\hspace{0.5}log_{10}(q-value)}$',weight='bold',fontsize=14)\n",
    "\n",
    "ax.set_xticklabels(ax.get_xticks(),font='Arial',weight='bold',fontsize=14)\n",
    "h.legend_.remove()"
   ]
  },
  {
   "cell_type": "markdown",
   "id": "e0d8c3ca-0947-4a08-a421-a33dcc376a45",
   "metadata": {},
   "source": [
    "## M Cluster Signatures"
   ]
  },
  {
   "cell_type": "code",
   "execution_count": null,
   "id": "288716db-b5a1-4109-b60b-de20f965b57e",
   "metadata": {},
   "outputs": [],
   "source": [
    "su2c_ssbnmf_harm = su2c_ssbnmf_harm.sort_values(by=['Integrative_cluster'])\n",
    "su2c_ssbnmf_harm_sorted_I1 = su2c_ssbnmf_harm[su2c_ssbnmf_harm['Integrative_cluster']==1].sort_values(by='I1_norm',\\\n",
    "                                                                ascending=False)\n",
    "su2c_ssbnmf_harm_sorted_I2 = su2c_ssbnmf_harm[su2c_ssbnmf_harm['Integrative_cluster']==2].sort_values(by='I2_norm',\\\n",
    "                                                                ascending=False)\n",
    "su2c_ssbnmf_harm_sorted_I3 = su2c_ssbnmf_harm[su2c_ssbnmf_harm['Integrative_cluster']==3].sort_values(by='I3_norm',\\\n",
    "                                                                ascending=False)\n",
    "su2c_ssbnmf_harm_sorted = pd.concat([su2c_ssbnmf_harm_sorted_I1,su2c_ssbnmf_harm_sorted_I2,\\\n",
    "          su2c_ssbnmf_harm_sorted_I3])\n",
    "plt.figure(figsize=(14,8))\n",
    "g = sns.clustermap(su2c_ssbnmf_harm_sorted[['I1_norm','I2_norm','I3_norm']].T,vmin=0,vmax=1,cmap='Blues',\\\n",
    "            yticklabels=False,xticklabels=False,row_cluster=False,col_cluster=False,\\\n",
    "               cbar_kws={'ticks':None,'label':None},figsize=(14,8))\n",
    "_=g.ax_heatmap.set_xlabel('SU2C-MARK Cohort Samples',fontsize=30,labelpad=20)"
   ]
  },
  {
   "cell_type": "markdown",
   "id": "2739900c-6201-451f-93d1-67f149bb188b",
   "metadata": {},
   "source": [
    "## Gene Set Enrichment Results for M Clusters"
   ]
  },
  {
   "cell_type": "code",
   "execution_count": null,
   "id": "6fd485a6-9536-49c2-a965-a076e82df67d",
   "metadata": {},
   "outputs": [],
   "source": [
    "su2c_tme_gsea_harm['-log10(p-value)'] = -np.log10(su2c_tme_gsea_harm['p-value'])"
   ]
  },
  {
   "cell_type": "code",
   "execution_count": null,
   "id": "07112986-1a48-4cd5-9969-80b72d223de9",
   "metadata": {},
   "outputs": [],
   "source": [
    "su2c_tme_gsea_harm_pivot = pd.pivot_table(su2c_tme_gsea_harm[['Gene Set Name','Set','-log10(p-value)']],\\\n",
    "                    index='Set',values='-log10(p-value)',columns='Gene Set Name').fillna(0).T\n",
    "su2c_tme_gsea_harm_pivot_sorted =su2c_tme_gsea_harm_pivot.sort_values(by=['G1','G2','G3'],ascending=False)"
   ]
  },
  {
   "cell_type": "code",
   "execution_count": null,
   "id": "2d9ab3fb-cde3-44b2-b560-3e2bf31c4f4d",
   "metadata": {},
   "outputs": [],
   "source": [
    "su2c_tme_gsea_harm['Gene Set Name Short'] = su2c_tme_gsea_harm['Gene Set Name'].apply(lambda x: x.replace('HALLMARK_',''))"
   ]
  },
  {
   "cell_type": "code",
   "execution_count": null,
   "id": "c068b9e3-eb14-4948-a43b-3d909aaf7c77",
   "metadata": {},
   "outputs": [],
   "source": [
    "plt.figure(figsize=(4,6))\n",
    "\n",
    "g = plt.scatter(data = su2c_tme_gsea_harm,x = 'Set',y = 'Gene Set Name Short',\\\n",
    "           color='r',vmin=0,vmax=5,s=su2c_tme_gsea_harm['-log10(p-value)']*5)\n",
    "\n",
    "plt.gca().invert_yaxis()\n",
    "\n",
    "ax = plt.gca()\n",
    "ax.set_xticklabels(['Wound\\nHealing\\n(M-1)','Immune\\nActivated\\n(M-2)','Immune\\nDesert\\n(M-3)'])\n",
    "plt.ylabel(None)\n",
    "_ = plt.setp(ax.get_yticklabels(), font = 'Arial',fontsize=12,weight='bold')\n",
    "plt.xlabel(None)\n",
    "_ = plt.setp(ax.get_xticklabels(),font = 'Arial',fontsize=14,weight='bold')\n",
    "\n",
    "msizes = [2, 5, 10, 20]\n",
    "markers = []\n",
    "for size in msizes:\n",
    "   markers.append(plt.scatter([],[], s=size*5, label=size, color='r'))\n",
    "\n",
    "_=plt.legend(handles=markers,title = \"$\\mathregular{-log_{10}(p-value)}$\",title_fontsize=14,fontsize=14,loc='lower left')"
   ]
  },
  {
   "cell_type": "markdown",
   "id": "cabc1dca-7fe4-42be-8c02-d79f5a17bf35",
   "metadata": {},
   "source": [
    "## Response Rate by M Cluster"
   ]
  },
  {
   "cell_type": "code",
   "execution_count": null,
   "id": "ac8f88be-dbfe-4a98-b89e-b25c8965dade",
   "metadata": {},
   "outputs": [],
   "source": [
    "I_cluster_response = su2c_merge_master[['Integrative_cluster','Harmonized_Confirmed_BOR_Bin']]\\\n",
    "    .groupby(by=['Integrative_cluster','Harmonized_Confirmed_BOR_Bin']).size().reset_index().\\\n",
    "    sort_values(['Integrative_cluster','Harmonized_Confirmed_BOR_Bin'])"
   ]
  },
  {
   "cell_type": "code",
   "execution_count": null,
   "id": "a2786195-10dc-4ade-bf79-2a33c9a90eaf",
   "metadata": {},
   "outputs": [],
   "source": [
    "I_cluster_response['Response']= ['Non-responder','Responder']*3"
   ]
  },
  {
   "cell_type": "code",
   "execution_count": null,
   "id": "d5a97ca2-5810-42ac-8232-30d544a8b10e",
   "metadata": {},
   "outputs": [],
   "source": [
    "a = I_cluster_response.pivot_table(index='Integrative_cluster',values=0,columns='Response')\n",
    "a_norm = a.apply(lambda x: x/x.sum(),axis=1)"
   ]
  },
  {
   "cell_type": "code",
   "execution_count": null,
   "id": "4e6098db-dd4b-45bf-b9d7-f92e6d910878",
   "metadata": {},
   "outputs": [],
   "source": [
    "tab10 = sns.color_palette('tab10')"
   ]
  },
  {
   "cell_type": "code",
   "execution_count": null,
   "id": "714f3a3f-6c9f-4e97-9f98-d3717758eec1",
   "metadata": {},
   "outputs": [],
   "source": [
    "plt.figure(figsize=(4,6))\n",
    "plt.bar(a_norm.index,a_norm['Responder'],color=tab10[0],label = 'Responder')\n",
    "plt.bar(a_norm.index,a_norm['Non-responder'],color=tab10[1],bottom = a_norm['Responder'],label='Non-responder')\n",
    "plt.legend(loc='center left',bbox_to_anchor=(1.05,0.5),ncol=1,fontsize=14)\n",
    "g = plt.gca()\n",
    "g.set_xticklabels(['','','Wound\\nHealing\\n(TME-1)','','Immune\\nActivated\\n(TME-2)','','Immune\\nDesert\\n(TME-3)'],fontsize=14)\n",
    "g.set_yticklabels([0,0.2,0.4,0.6,0.8,1],fontsize=14)\n",
    "g.tick_params(bottom=False)\n",
    "_=g.set_ylabel('Frequency',fontsize=16,labelpad = 14)"
   ]
  },
  {
   "cell_type": "markdown",
   "id": "dc7335cb-1458-4310-b427-7eaa3a4d402a",
   "metadata": {},
   "source": [
    "## Immune Cell Subsets by M Cluster"
   ]
  },
  {
   "cell_type": "code",
   "execution_count": null,
   "id": "2821d65d-9173-409c-b62d-a3dbf43a3e57",
   "metadata": {},
   "outputs": [],
   "source": [
    "sf_subsets = [col for col in su2c_merge_master.columns if '_SF' in col][1:]"
   ]
  },
  {
   "cell_type": "code",
   "execution_count": null,
   "id": "8cbfd0a2-7037-4b5a-88f3-6655b8bc539f",
   "metadata": {},
   "outputs": [],
   "source": [
    "rows = 2\n",
    "cols = 6\n",
    "zi_cols = sf_subsets\n",
    "\n",
    "fig,axs = plt.subplots(rows,cols,figsize=(26,10))\n",
    "\n",
    "for i in range(0,len(zi_cols)):\n",
    "    row = int(np.floor(i/cols))\n",
    "    col = i%cols\n",
    "    subset = zi_cols[i]\n",
    "    g = sns.swarmplot(data=su2c_merge_master,x='Integrative_cluster',\\\n",
    "                   y=subset,ax=axs[row,col])\n",
    "    g.set_xticklabels(['M-1','M-2','M-3'],fontsize=14)\n",
    "    g.set_ylabel(g.get_ylabel().split('_')[0]+' (z-score)',fontsize=16)\n",
    "    df = su2c_merge_master[[subset,'Integrative_cluster']].dropna()\n",
    "    x = df[df.iloc[:,1]==1].iloc[:,0]\n",
    "    y = df[df.iloc[:,1]==2].iloc[:,0]\n",
    "    z = df[df.iloc[:,1]==3].iloc[:,0]\n",
    "    ax = axs[row,col]\n",
    "    plt.setp(ax.get_xticklabels(), fontsize=18, weight='bold')\n",
    "    plt.setp(ax.get_yticklabels(), fontsize=18, weight='bold')\n",
    "    ax.set_xlabel(None)\n",
    "    ax.set_ylabel(ax.get_ylabel(),fontsize=18,weight='bold')\n",
    "\n",
    "fig.tight_layout(pad=2)\n",
    "fig.delaxes(axs[1][5])"
   ]
  },
  {
   "cell_type": "markdown",
   "id": "cbd95960-a988-4452-9ffa-c08bd08e2dfc",
   "metadata": {},
   "source": [
    "## Myeloid Subsets"
   ]
  },
  {
   "cell_type": "code",
   "execution_count": null,
   "id": "157c9095",
   "metadata": {},
   "outputs": [],
   "source": [
    "mphage_subsets = ['hMø1','hMø4', 'hMø5', 'hMø6', 'hMø7', 'hMø8', 'hMø9', 'hMono1', 'hMono2',\n",
    "       'hMono3', 'hN1', 'hN2', 'hN3', 'hN5', 'hDC1', 'hDC2', 'hDC3', 'hpDC']"
   ]
  },
  {
   "cell_type": "code",
   "execution_count": null,
   "id": "f7bc459d",
   "metadata": {},
   "outputs": [],
   "source": [
    "df_plot = log_reg_df.loc[[name + '_ZI' for name in mphage_subsets]]"
   ]
  },
  {
   "cell_type": "code",
   "execution_count": null,
   "id": "a5b4858a",
   "metadata": {},
   "outputs": [],
   "source": [
    "df_plot = df_plot.sort_values('coeff',ascending=False)"
   ]
  },
  {
   "cell_type": "code",
   "execution_count": null,
   "id": "2d05da7c",
   "metadata": {},
   "outputs": [],
   "source": [
    "df_plot['Signed log10(q-value)'] = -np.log10(df_plot['q_value'])*\\\n",
    "    np.sign(df_plot['coeff'])"
   ]
  },
  {
   "cell_type": "code",
   "execution_count": null,
   "id": "51cef12b",
   "metadata": {},
   "outputs": [],
   "source": [
    "df_plot = df_plot.sort_values('Signed log10(q-value)',ascending=False)"
   ]
  },
  {
   "cell_type": "code",
   "execution_count": null,
   "id": "14ebea01",
   "metadata": {},
   "outputs": [],
   "source": [
    "df_plot['hue'] = np.sign(df_plot[\"coeff\"])"
   ]
  },
  {
   "cell_type": "code",
   "execution_count": null,
   "id": "ec67dde2",
   "metadata": {},
   "outputs": [],
   "source": [
    "df_plot.index = [name.split('_')[0] for name in df_plot.index]"
   ]
  },
  {
   "cell_type": "code",
   "execution_count": null,
   "id": "8747de10-82f6-4702-9c2a-1d3e44f89c4c",
   "metadata": {},
   "outputs": [],
   "source": [
    "df_plot = df_plot.loc[['hMono2','hMono1','hMono3','hMø1', 'hMø9', 'hMø6', 'hMø4','hMø5','hMø8','hMø7','hN2','hN1',  'hN5',  'hN3','hDC2', 'hDC1',  'hpDC', \n",
    "       'hDC3']]"
   ]
  },
  {
   "cell_type": "code",
   "execution_count": null,
   "id": "3ba47143",
   "metadata": {},
   "outputs": [],
   "source": [
    "plt.figure(figsize=(6,6))\n",
    "h = sns.barplot(y=df_plot.index,x=df_plot['Signed log10(q-value)'],orient='h',\\\n",
    "                hue=df_plot['hue'],dodge=False)\n",
    "\n",
    "ax=plt.gca()\n",
    "ymin=ax.get_ylim()[0]\n",
    "ymax=ax.get_ylim()[1]\n",
    "\n",
    "plt.vlines(x=0,ymin=ymin,ymax=ymax,colors='k')\n",
    "ax.axvline(linewidth=1,x=-np.log10(0.1),linestyle='-',c='r')\n",
    "ax.axvline(linewidth=1,x=-np.log10(0.25),linestyle='dashed',c='purple')\n",
    "ax.axvline(linewidth=1,x=np.log10(0.1),linestyle='-',c='r')\n",
    "ax.axvline(linewidth=1,x=np.log10(0.25),linestyle='dashed',c='purple')\n",
    "\n",
    "plt.ylabel(None)\n",
    "plt.setp(ax.get_yticklabels(), font = 'Arial',fontsize=14,weight='bold')\n",
    "plt.setp(ax.get_xticklabels(), fontsize=12)\n",
    "plt.ylim(17.5,-0.5)\n",
    "\n",
    "plt.xlabel('$\\mathregular{Signed\\hspace{0.5}log_{10}(q-value)}$',weight='bold',fontsize=14)\n",
    "ax.set_xticklabels(ax.get_xticks(),font='Arial',weight='bold',fontsize=14)\n",
    "h.legend_.remove()"
   ]
  },
  {
   "cell_type": "markdown",
   "id": "08a2b31f-d442-44f1-b118-52aff05c8cf6",
   "metadata": {},
   "source": [
    "## Myeloid Subsets by M Cluster"
   ]
  },
  {
   "cell_type": "code",
   "execution_count": null,
   "id": "6a9b9dac-731c-4593-aefd-dccf2cc1b08d",
   "metadata": {},
   "outputs": [],
   "source": [
    "rows = 3\n",
    "cols = 6\n",
    "zi_cols = [col +'_ZI' for col in mphage_subsets]\n",
    "\n",
    "fig,axs = plt.subplots(rows,cols,figsize=(26,14))\n",
    "\n",
    "for i in range(0,len(zi_cols)):\n",
    "    row = int(np.floor(i/cols))\n",
    "    col = i%cols\n",
    "    subset = zi_cols[i]\n",
    "    \n",
    "    g = sns.swarmplot(data=su2c_merge_master,x='Integrative_cluster',\\\n",
    "                   y=subset,ax=axs[row,col])\n",
    "    g.set_xticklabels(['M-1','M-2','M-3'],fontsize=18)\n",
    "    g.set_ylabel(g.get_ylabel().split('_')[0]+' (z-score)',fontsize=18)\n",
    "    \n",
    "    df = su2c_merge_master[[subset,'Integrative_cluster']].dropna()\n",
    "    x = df[df.iloc[:,1]==1].iloc[:,0]\n",
    "    y = df[df.iloc[:,1]==2].iloc[:,0]\n",
    "    z = df[df.iloc[:,1]==3].iloc[:,0]\n",
    "    \n",
    "    ax = axs[row,col]\n",
    "    plt.setp(ax.get_xticklabels(), fontsize=20, weight='bold')\n",
    "    plt.setp(ax.get_yticklabels(), fontsize=20, weight='bold')\n",
    "    ax.set_xlabel(None)\n",
    "    ax.set_ylabel(ax.get_ylabel(),fontsize=20,weight='bold')\n",
    "    \n",
    "fig.tight_layout(pad=2)"
   ]
  },
  {
   "cell_type": "markdown",
   "id": "1fabc930",
   "metadata": {},
   "source": [
    "## TI Clusters"
   ]
  },
  {
   "cell_type": "code",
   "execution_count": null,
   "id": "e80d9bcd",
   "metadata": {},
   "outputs": [],
   "source": [
    "df_plot = log_reg_df.loc[['T1_norm','T2_norm','T3_norm','T4_norm']]"
   ]
  },
  {
   "cell_type": "code",
   "execution_count": null,
   "id": "b7d4bb0b",
   "metadata": {},
   "outputs": [],
   "source": [
    "df_plot = df_plot.sort_values('coeff',ascending=False)"
   ]
  },
  {
   "cell_type": "code",
   "execution_count": null,
   "id": "4c3b76c5",
   "metadata": {},
   "outputs": [],
   "source": [
    "df_plot['Signed log10(q-value)'] = -np.log10(df_plot['q_value'])*\\\n",
    "    np.sign(df_plot['coeff'])"
   ]
  },
  {
   "cell_type": "code",
   "execution_count": null,
   "id": "d846287f",
   "metadata": {},
   "outputs": [],
   "source": [
    "df_plot = df_plot.sort_values('Signed log10(q-value)',ascending=False)"
   ]
  },
  {
   "cell_type": "code",
   "execution_count": null,
   "id": "a311d65b",
   "metadata": {},
   "outputs": [],
   "source": [
    "df_plot['hue'] = np.sign(df_plot[\"coeff\"])"
   ]
  },
  {
   "cell_type": "code",
   "execution_count": null,
   "id": "d5446f48",
   "metadata": {},
   "outputs": [],
   "source": [
    "df_plot.index = ['TI-1','TI-2','TI-3','TI-4']"
   ]
  },
  {
   "cell_type": "code",
   "execution_count": null,
   "id": "856dd1c8",
   "metadata": {},
   "outputs": [],
   "source": [
    "plt.figure(figsize=(6,6))\n",
    "h = sns.barplot(y=df_plot.index,x=df_plot['Signed log10(q-value)'],orient='h',\\\n",
    "                hue=df_plot['hue'],dodge=False)\n",
    "\n",
    "ax=plt.gca()\n",
    "ymin=ax.get_ylim()[0]\n",
    "ymax=ax.get_ylim()[1]\n",
    "\n",
    "plt.vlines(x=0,ymin=ymin,ymax=ymax,colors='k')\n",
    "ax.axvline(linewidth=1,x=-np.log10(0.1),linestyle='-',c='r')\n",
    "ax.axvline(linewidth=1,x=-np.log10(0.25),linestyle='dashed',c='purple')\n",
    "ax.axvline(linewidth=1,x=np.log10(0.1),linestyle='-',c='r')\n",
    "ax.axvline(linewidth=1,x=np.log10(0.25),linestyle='dashed',c='purple')\n",
    "\n",
    "plt.ylabel(None)\n",
    "plt.xticks([-1,-0.5,0,0.5,1])\n",
    "plt.setp(ax.get_yticklabels(), font = 'Arial',fontsize=18,weight='bold')\n",
    "plt.setp(ax.get_xticklabels(), fontsize=18)\n",
    "plt.ylim(3.5,-0.5)\n",
    "            \n",
    "plt.xlabel('$\\mathregular{Signed\\hspace{0.5}log_{10}(q-value)}$',weight='bold',fontsize=18,labelpad=10)\n",
    "\n",
    "ax.set_xticklabels(ax.get_xticks(),font='Arial',weight='bold',fontsize=18)\n",
    "h.legend_.remove()"
   ]
  },
  {
   "cell_type": "markdown",
   "id": "1a113af5-f5cb-4961-a84d-bd0a2367c562",
   "metadata": {},
   "source": [
    "## M Clusters vs TI Clusters"
   ]
  },
  {
   "cell_type": "code",
   "execution_count": null,
   "id": "1a77baad-8c22-4bc9-adde-cf54306b50cf",
   "metadata": {},
   "outputs": [],
   "source": [
    "fig,ax = plt.subplots(1,4,figsize=(14,2))\n",
    "\n",
    "ylabels = ['De-differentiated (TI-1)','Adeno (TI-2)','Squamous (TI-3)','LCNE (TI-4)']\n",
    "xlabels = ['Wound\\nHealing\\n(M-1)','Immune\\nActivated\\n(M-2)','Immune\\nDesert\\n(M-3)']\n",
    "for tc in [1,2,3,4]:\n",
    "    axis = sns.violinplot(data = su2c_merge_master[su2c_merge_master['Tumor_cluster']==tc][['I1_norm','I2_norm','I3_norm']]\\\n",
    "                          ,ax=ax[tc-1],inner=None)\n",
    "    \n",
    "    for violin in axis.collections:\n",
    "        violin.set_edgecolor(violin.get_facecolor())\n",
    "        violin.set_facecolor((0,0,0,0))\n",
    "\n",
    "    g = sns.swarmplot(data = su2c_merge_master[su2c_merge_master['Tumor_cluster']==tc][['I1_norm','I2_norm','I3_norm']],\\\n",
    "                   s=3,ax=ax[tc-1])\n",
    "\n",
    "    plt.setp(ax[tc-1].get_yticklabels(), font = 'Arial',fontsize=10,weight='bold')\n",
    "    plt.setp(ax[tc-1].get_xticklabels(), fontsize=14)\n",
    "    ax[tc-1].set_ylim(-0.6,1.6)\n",
    "    ax[tc-1].set_ylabel(ylabels[tc-1],font='Arial',weight='bold',fontsize=10,\\\n",
    "                        rotation=90)\n",
    "            \n",
    "    ax[tc-1].set_xticklabels(xlabels,font='Arial',weight='bold',fontsize=10)\n",
    "    #plt.yticks([0,0.5,1],[0.0,0.5,1.0])\n",
    "\n",
    "plt.subplots_adjust(wspace=0.3)"
   ]
  },
  {
   "cell_type": "markdown",
   "id": "ccb3b216-1fed-460f-bf44-eaf7ffd8d68d",
   "metadata": {},
   "source": [
    "## TI-1 vs M-2"
   ]
  },
  {
   "cell_type": "code",
   "execution_count": null,
   "id": "bd2cb286-d3c5-4868-afd0-c0986dc4b54f",
   "metadata": {},
   "outputs": [],
   "source": [
    "_ = sns.kdeplot(data = su2c_merge_master, x='T1_norm',y='I2_norm')\n",
    "_ = sns.scatterplot(data = su2c_merge_master, x='T1_norm',y='I2_norm',alpha = 0.5)\n",
    "\n",
    "plt.axis('square')\n",
    "plt.xlim(-0.5,1.5)\n",
    "plt.ylim(-.5,1.5)\n",
    "\n",
    "ax = plt.gca()\n",
    "\n",
    "plt.setp(ax.get_yticklabels(), font = 'Arial',fontsize=14,weight='bold')\n",
    "plt.setp(ax.get_xticklabels(), font = 'Arial',fontsize=14,weight='bold')\n",
    "\n",
    "ax.xaxis.set_major_locator(plt.MaxNLocator(4))\n",
    "ax.yaxis.set_major_locator(plt.MaxNLocator(4))\n",
    "\n",
    "ax.set_xlabel(\"De-differentiated (TI-1)\",font='Arial',weight='bold',fontsize=16,labelpad=14)\n",
    "ax.set_ylabel(\"Immune Activated (M-2)\",font='Arial',weight='bold',fontsize=16,labelpad=14)"
   ]
  },
  {
   "cell_type": "markdown",
   "id": "dabf3052-2b3c-4e7d-80c3-ef5de8c1e541",
   "metadata": {},
   "source": [
    "## Response Rate Grid"
   ]
  },
  {
   "cell_type": "code",
   "execution_count": null,
   "id": "5de80966-4f2a-4ef6-a51a-1ee68d755ea7",
   "metadata": {},
   "outputs": [],
   "source": [
    "a = su2c_merge_master[(su2c_merge_master['T1_norm']<0.5) & (su2c_merge_master['I2_norm']<0.5)]['Harmonized_Confirmed_BOR_Bin'].mean()"
   ]
  },
  {
   "cell_type": "code",
   "execution_count": null,
   "id": "2150e769-1c3e-4f84-8a80-34ae51f97a0a",
   "metadata": {},
   "outputs": [],
   "source": [
    "b = su2c_merge_master[(su2c_merge_master['T1_norm']>=0.5) & (su2c_merge_master['I2_norm']<0.5)]['Harmonized_Confirmed_BOR_Bin'].mean()"
   ]
  },
  {
   "cell_type": "code",
   "execution_count": null,
   "id": "b386f42b-4803-4813-a279-5038bdea5655",
   "metadata": {},
   "outputs": [],
   "source": [
    "c = su2c_merge_master[(su2c_merge_master['T1_norm']<0.5) & (su2c_merge_master['I2_norm']>=0.5)]['Harmonized_Confirmed_BOR_Bin'].mean()"
   ]
  },
  {
   "cell_type": "code",
   "execution_count": null,
   "id": "7430fca0-20dc-418b-96ae-44264a569bdc",
   "metadata": {},
   "outputs": [],
   "source": [
    "d = su2c_merge_master[(su2c_merge_master['T1_norm']>=0.5) & (su2c_merge_master['I2_norm']>=0.5)]['Harmonized_Confirmed_BOR_Bin'].mean()"
   ]
  },
  {
   "cell_type": "code",
   "execution_count": null,
   "id": "7fc56cdd-9bda-4dd7-9413-cf08901900d8",
   "metadata": {},
   "outputs": [],
   "source": [
    "rr_df = pd.DataFrame([[c,d],[a,b]],index=['TME-2','TME-2/3/4'],columns=['TI-2/3/4','TI-1'])"
   ]
  },
  {
   "cell_type": "code",
   "execution_count": null,
   "id": "32dea428-a0ba-4829-99fa-66b9698a9f19",
   "metadata": {},
   "outputs": [],
   "source": [
    "k = sns.heatmap(rr_df,cmap='coolwarm',center=0.5,vmin=0,vmax=1,square='equal',annot=True,fmt=\"0.2f\",annot_kws={\"font\":'Arial',\"size\":16})\n",
    "\n",
    "ax = plt.gca()\n",
    "\n",
    "plt.setp(ax.get_yticklabels(), font = 'Arial',fontsize=14,weight='bold')\n",
    "plt.setp(ax.get_xticklabels(), font = 'Arial',fontsize=14,weight='bold')\n",
    "\n",
    "k.set_xticklabels(labels=['low','high'], va='center')\n",
    "k.set_yticklabels(labels=['high','low'], va='center')\n",
    "\n",
    "ax.tick_params(axis='x', which='major', pad=10)\n",
    "\n",
    "_ = ax.set_xlabel(\"De-differentiated (TI-1)\",font='Arial',weight='bold',fontsize=16,labelpad=14)\n",
    "_ = ax.set_ylabel(\"Immune Activated (TME-2)\",font='Arial',weight='bold',fontsize=16,labelpad=14)\n",
    "\n",
    "cbar = ax.collections[0].colorbar\n",
    "cbar.ax.tick_params(labelsize=14,rotation=90)\n",
    "_ = cbar.ax.set_ylabel(\"Response Rate\",rotation=90,labelpad=30,font='Arial',fontsize=16)"
   ]
  },
  {
   "cell_type": "markdown",
   "id": "110f32b0",
   "metadata": {},
   "source": [
    "# Heatmap"
   ]
  },
  {
   "cell_type": "code",
   "execution_count": null,
   "id": "136c3f73-23e2-430d-8f73-1f98ec56d715",
   "metadata": {},
   "outputs": [],
   "source": [
    "su2c_limma_harm_names = su2c_limma_harm.copy()"
   ]
  },
  {
   "cell_type": "code",
   "execution_count": null,
   "id": "905e53f5-d708-426e-b3af-87e1e1249dba",
   "metadata": {},
   "outputs": [],
   "source": [
    "su2c_limma_harm_names.index = su2c_limma_harm.apply(lambda x: x['ensembl_gene_id_version'] + ':' + str(x['hgnc_symbol']),axis=1)"
   ]
  },
  {
   "cell_type": "code",
   "execution_count": null,
   "id": "fc03fac1-7926-4a5f-bad8-92528a38c2a0",
   "metadata": {},
   "outputs": [],
   "source": [
    "su2c_rna_harm_log = su2c_rna_harm.set_index(['Name','Description']).apply(lambda x: np.log(x+1))"
   ]
  },
  {
   "cell_type": "code",
   "execution_count": null,
   "id": "263d3384-dc8b-4ddb-b902-f6e034166f38",
   "metadata": {},
   "outputs": [],
   "source": [
    "su2c_rna_harm_log.index = su2c_rna_harm.apply(lambda x: x['Name'] + ':' + x['Description'],axis=1)"
   ]
  },
  {
   "cell_type": "code",
   "execution_count": null,
   "id": "e82e2e09-e172-43ab-afd0-9f2569b5b186",
   "metadata": {},
   "outputs": [],
   "source": [
    "su2c_rna_harm_log_z = su2c_rna_harm_log.T.apply(scp.zscore).T"
   ]
  },
  {
   "cell_type": "code",
   "execution_count": null,
   "id": "04aa31be-7de7-45cb-9537-5c5a337b3a63",
   "metadata": {},
   "outputs": [],
   "source": [
    "top_cutoff = 20"
   ]
  },
  {
   "cell_type": "code",
   "execution_count": null,
   "id": "27da2244-bf8b-47a6-a840-13357ed36540",
   "metadata": {},
   "outputs": [],
   "source": [
    "su2c_limma_harm_names['signed_log10p'] = np.sign(su2c_limma_harm_names['logFC'])*(-np.log10(su2c_limma_harm_names['P.Value']))"
   ]
  },
  {
   "cell_type": "code",
   "execution_count": null,
   "id": "3596227c-3025-409e-9202-6cdfe7fd1db7",
   "metadata": {},
   "outputs": [],
   "source": [
    "l_top_up = su2c_limma_harm_names.sort_values('signed_log10p').tail(int(top_cutoff/2)).index.to_list()\n",
    "l_top_dn = su2c_limma_harm_names.sort_values('signed_log10p').head(int(top_cutoff/2)).index.to_list()\n",
    "l_top_all = l_top_up+l_top_dn"
   ]
  },
  {
   "cell_type": "code",
   "execution_count": null,
   "id": "7770435b-1557-4519-8de9-dc361a109514",
   "metadata": {},
   "outputs": [],
   "source": [
    "l_top_up_clean =[gene for gene in l_top_up if 'nan' not in gene]\n",
    "l_top_dn_clean =[gene for gene in l_top_dn if 'nan' not in gene]\n",
    "l_top_all_clean =[gene for gene in l_top_all if 'nan' not in gene]"
   ]
  },
  {
   "cell_type": "code",
   "execution_count": null,
   "id": "752dcb0e-07e3-4fde-9cc1-115920e25e4a",
   "metadata": {},
   "outputs": [],
   "source": [
    "su2c_rna_harm_log_z_all = su2c_rna_harm_log_z.loc[l_top_all_clean]"
   ]
  },
  {
   "cell_type": "code",
   "execution_count": null,
   "id": "ffa8d87e-1ada-4732-9516-9834d04c93d4",
   "metadata": {},
   "outputs": [],
   "source": [
    "su2c_rna_harm_log_merge = su2c_rna_harm_log_z_all.T.merge(su2c_merge_master,left_index=True,right_on='Harmonized_SU2C_RNA_Tumor_Sample_ID_v2',how='left')"
   ]
  },
  {
   "cell_type": "code",
   "execution_count": null,
   "id": "ef535f9c-4a93-44c8-86a8-3d1fd2715b6a",
   "metadata": {},
   "outputs": [],
   "source": [
    "su2c_rna_harm_log_merge.set_index('Harmonized_SU2C_Participant_ID_v2',inplace=True)"
   ]
  },
  {
   "cell_type": "code",
   "execution_count": null,
   "id": "78555256-6dcf-471a-9b6f-0bf248886e20",
   "metadata": {},
   "outputs": [],
   "source": [
    "q_near_sig_list = ['PDL1_TPS', 'ARID1A_MUT', 'ATM_MUT', 'EGFR_MUT', 'KEAP1_MUT',\n",
    "       'RBM10_MUT', 'SMARCA4_MUT', 'Amp_5p15.33 ', 'TERT_CNV', 'log_TMB',\n",
    "       'log_TMB_clonal', 'log_TMB_indel','log_Neoantigens', 'log_Neoantigens_clonal',\n",
    "       'log_Aging_Signature', 'log_Smoking_Signature', 'log_APOBEC_Signature', 'T1_norm',\n",
    "       'I2_norm', 'Macrophages/Monocytes_SF', 'hMono3_ZI','hN3_ZI']"
   ]
  },
  {
   "cell_type": "code",
   "execution_count": null,
   "id": "33f773db-ae03-4e6a-8964-bed5eecde8bb",
   "metadata": {},
   "outputs": [],
   "source": [
    "q_sig_list = ['PDL1_TPS', 'ATM_MUT', 'Amp_5p15.33 ', 'TERT_CNV', 'log_TMB',\n",
    "       'log_TMB_clonal', 'log_Neoantigens', 'log_Neoantigens_clonal',\n",
    "       'log_S1-SBS80_P', 'log_S3-SBS4_P', 'log_S5-SBS13_P', 'T1_norm']"
   ]
  },
  {
   "cell_type": "code",
   "execution_count": null,
   "id": "e3d8c92c-24c7-42d9-9b9e-0c65f91d1fe3",
   "metadata": {},
   "outputs": [],
   "source": [
    "select_cols = ['hMono3_ZI', 'hN3_ZI',\n",
    "       'Macrophages/Monocytes_SF', 'Adenosine (Corvus)_HM',\n",
    "       'ENSG00000204131.9:NHSL2', 'EMT2 (PMID: 27321955)_HM',\n",
    "       'TGF-B (Mariathasan Nature 2018)_HM', 'ENSG00000143554.13:SLC27A3',\n",
    "       'NFAT/NR4A1 family T cell dysfunction_HM', 'ENSG00000116991.10:SIPA1L2',\n",
    "       'ENSG00000158321.15:AUTS2', 'ENSG00000152284.4:TCF7L1',\n",
    "       'ENSG00000196504.15:PRPF40A',\n",
    "       'Merck/Nanostring 18 gene\\xa0T cell–inflamed GEP score_HM',\n",
    "       'ENSG00000240065.7:PSMB9',\n",
    "       'Antigen processing machinery (PMID: 27855702)_HM', 'IFNG_HM',\n",
    "       'ENSG00000092010.14:PSME1', 'ENSG00000100911.15:PSME2', 'PDL1_TPS',\n",
    "       'T1_norm', 'I2_norm','log_APOBEC_Signature', 'log_Aging_Signature', 'log_TMB_indel',\n",
    "       'log_Smoking_Signature', 'log_Neoantigens', 'log_Neoantigens_clonal',\n",
    "       'log_TMB', 'log_TMB_clonal', 'EGFR_MUT', 'Amp_5p15.33 ', 'TERT_CNV',\n",
    "       'KEAP1_MUT', 'ENSG00000128564.6:VGF', 'ATM_MUT', 'SMARCA4_MUT',\n",
    "       'ARID1A_MUT', 'RBM10_MUT']"
   ]
  },
  {
   "cell_type": "code",
   "execution_count": null,
   "id": "340f3456-fdde-42aa-a8c0-64d3f2c44f5e",
   "metadata": {},
   "outputs": [],
   "source": [
    "su2c_heatmap = su2c_rna_harm_log_merge[select_cols].corr().fillna(0)"
   ]
  },
  {
   "cell_type": "code",
   "execution_count": null,
   "id": "7928caa3-cabf-4c86-af1a-a5961cc95fde",
   "metadata": {},
   "outputs": [],
   "source": [
    "su2c_heatmap_renamed = su2c_heatmap.copy()"
   ]
  },
  {
   "cell_type": "code",
   "execution_count": null,
   "id": "34a05e73-bb9c-473a-a4c6-f4ef1f959050",
   "metadata": {},
   "outputs": [],
   "source": [
    "su2c_rename_dict = {'hMono3_ZI':'hMono3 (Zilionas et al.)', \n",
    "                    'hN3_ZI':'hN3 (Zilionas et al.)',\n",
    "       'Macrophages/Monocytes_SF':r'M$\\phi$\\Monocyte (Sade-Feldman et al.)', \n",
    "        'Adenosine (Corvus)_HM':'A2AR (Willingham et al.)',\n",
    "       'ENSG00000204131.9:NHSL2':'$\\it{NHSL2}$ Expression',\n",
    "        'EMT2 (PMID: 27321955)_HM':'EMT (Hedegaard et al.)',\n",
    "       'TGF-B (Mariathasan Nature 2018)_HM':'TGF-B (Mariathasan et al.)',\n",
    "        'ENSG00000143554.13:SLC27A3':'$\\it{SLC27A3}$ Expression',\n",
    "       'NFAT/NR4A1 family T cell dysfunction_HM':'NR4A1 (Chen et al.)',\n",
    "        'ENSG00000116991.10:SIPA1L2':'$\\it{SIPA1L2}$ Expression',\n",
    "       'ENSG00000158321.15:AUTS2':'$\\it{AUTS2}$ Expression',\n",
    "        'ENSG00000152284.4:TCF7L1':'$\\it{TCF7L1}$ Expression',\n",
    "       'ENSG00000196504.15:PRPF40A':'$\\it{PRPF40A}$ Expression',\n",
    "       'Merck/Nanostring 18 gene\\xa0T cell–inflamed GEP score_HM':'T cell–inflamed (Ayers et al.)',\n",
    "       'ENSG00000240065.7:PSMB9':'$\\it{PSMB9}$ Expression',\n",
    "       'Antigen processing machinery (PMID: 27855702)_HM':'MHC Class I (Senbabaoglu et al.)',\n",
    "        'IFNG_HM':'IFNG Signature (Gao et al.)',\n",
    "       'ENSG00000092010.14:PSME1':'$\\it{PSME1}$ Expression',\n",
    "        'ENSG00000100911.15:PSME2':'$\\it{PSME2}$ Expression', \n",
    "        'PDL1_TPS':'PDL1 TPS',\n",
    "       'T1_norm':'De-differentiated (TI-1)',\n",
    "        'I2_norm':'Immune Activated (M-2)',\n",
    "        'log_APOBEC_Signature':'APOBEC burden',\n",
    "        'log_Aging_Signature':'Aging burden',\n",
    "        'log_TMB_indel':'TMB indel',\n",
    "       'log_Smoking_Signature':'Smoking burden',\n",
    "        'log_Neoantigens':'Neoantigens', \n",
    "        'log_Neoantigens_clonal':'Neoantigens clonal',\n",
    "       'log_TMB':'TMB', \n",
    "        'log_TMB_clonal':'TMB clonal',\n",
    "        'EGFR_MUT':'$\\it{EGFR}$ Mutation', \n",
    "        'Amp_5p15.33 ':'5p15.33 Amplification',\n",
    "        'TERT_CNV':'$\\it{TERT}$ Amplification',\n",
    "       'KEAP1_MUT':'$\\it{KEAP1}$ Mutation',\n",
    "        'ENSG00000128564.6:VGF':'$\\it{VGF}$ Expression',\n",
    "        'ATM_MUT':'$\\it{ATM}$ Mutation',\n",
    "        'SMARCA4_MUT':'$\\it{SMARCA4}$ Mutation',\n",
    "       'ARID1A_MUT':'$\\it{ARID1A}$ Mutation',\n",
    "        'RBM10_MUT':'$\\it{RBM10}$ Mutation'}"
   ]
  },
  {
   "cell_type": "code",
   "execution_count": null,
   "id": "1b825d2e-a507-42dc-b142-6bae0e266013",
   "metadata": {},
   "outputs": [],
   "source": [
    "su2c_heatmap_renamed.rename(index=su2c_rename_dict,columns=su2c_rename_dict,inplace=True)"
   ]
  },
  {
   "cell_type": "code",
   "execution_count": null,
   "id": "6d7c2e5f-9a65-4d76-b806-1c5a4b82ccfb",
   "metadata": {},
   "outputs": [],
   "source": [
    "favorable_list = ['$\\it{PRPF40A}$ Expression', 'T cell–inflamed (Ayers et al.)',\n",
    "       '$\\it{PSMB9}$ Expression', 'MHC Class I (Senbabaoglu et al.)',\n",
    "       'IFNG Signature (Gao et al.)', '$\\it{PSME1}$ Expression',\n",
    "       '$\\it{PSME2}$ Expression', 'PDL1 TPS', 'De-differentiated (TI-1)',\n",
    "       'Immune Activated (M-2)', 'APOBEC burden', 'Aging burden', 'TMB indel',\n",
    "       'Smoking burden', 'Neoantigens', 'Neoantigens clonal', 'TMB',\n",
    "       'TMB clonal', '$\\it{KEAP1}$ Mutation',\n",
    "       '$\\it{VGF}$ Expression', '$\\it{ATM}$ Mutation',\n",
    "       '$\\it{SMARCA4}$ Mutation', '$\\it{ARID1A}$ Mutation',\n",
    "       '$\\it{RBM10}$ Mutation']"
   ]
  },
  {
   "cell_type": "code",
   "execution_count": null,
   "id": "ee68f747-3350-47de-a9c9-5dcb3c9a84f1",
   "metadata": {},
   "outputs": [],
   "source": [
    "palette_sig = sns.diverging_palette(150,10,n=8)"
   ]
  },
  {
   "cell_type": "code",
   "execution_count": null,
   "id": "3fad578d-b17b-4b35-ac4c-6b84f259e03d",
   "metadata": {},
   "outputs": [],
   "source": [
    "df_corr = su2c_heatmap_renamed\n",
    "palette = sns.color_palette()\n",
    "palette\n",
    "color_dict = {}\n",
    "for i in range(0,len(df_corr.columns)):\n",
    "    if i<12:\n",
    "        color_dict[df_corr.columns[i]] = palette[4]\n",
    "    elif i<22:\n",
    "        color_dict[df_corr.columns[i]] = palette[1]\n",
    "    elif i<30:\n",
    "        color_dict[df_corr.columns[i]] = palette[0]\n",
    "    else:\n",
    "        color_dict[df_corr.columns[i]] = palette[6]\n",
    "# Convert the dictionary into a Series\n",
    "color_rows_heatmap = pd.Series(color_dict,name='Correlation Cluster')"
   ]
  },
  {
   "cell_type": "code",
   "execution_count": null,
   "id": "17c1bca0-bcc7-4967-b8af-eebb349897de",
   "metadata": {},
   "outputs": [],
   "source": [
    "df_corr = su2c_heatmap_renamed\n",
    "color_dict = {}\n",
    "for i in range(0,len(df_corr.index)):\n",
    "    if df_corr.index[i] in favorable_list:\n",
    "        color_dict[df_corr.index[i]] = palette_sig[0]\n",
    "    else:\n",
    "        color_dict[df_corr.index[i]] = palette_sig[7]\n",
    "\n",
    "    # Convert the dictionary into a Series\n",
    "color_sig_heatmap = pd.Series(color_dict,name='Correlation Cluster')"
   ]
  },
  {
   "cell_type": "code",
   "execution_count": null,
   "id": "b6df8122-187e-49cc-99de-1912f9b7df34",
   "metadata": {},
   "outputs": [],
   "source": [
    "lut = dict(zip(['Positive','Negative'], \\\n",
    "               [palette_sig[0],palette_sig[7]]))"
   ]
  },
  {
   "cell_type": "code",
   "execution_count": null,
   "id": "566fa236-9023-4f00-a1e7-2ebe3489a2a9",
   "metadata": {},
   "outputs": [],
   "source": [
    "og = sns.clustermap(su2c_heatmap_renamed)\n",
    "og.fig.clf()\n",
    "g = sns.clustermap(su2c_heatmap_renamed,vmin=-1,vmax=1,cmap='coolwarm',\\\n",
    "              yticklabels=True,xticklabels=True,figsize=(15,15),\\\n",
    "                   col_colors=[color_rows_heatmap,color_sig_heatmap],row_cluster=False,col_cluster=False)\n",
    "axx = g.ax_col_dendrogram.axes\n",
    "axx.clear()\n",
    "\n",
    "link = og.dendrogram_col.linkage\n",
    "link[[36,35]] = link[[35,36]]\n",
    "dendrogram(link, \n",
    "           color_threshold=0, \n",
    "           ax=axx,\n",
    "           #truncate_mode='lastp',\n",
    "           orientation='top',\n",
    "           link_color_func=lambda x: 'k'\n",
    "          );\n",
    "\n",
    "g.ax_cbar.set_position((0.05, .9, .025, .1))\n",
    "handles = [mpatches.Patch(facecolor=lut[name]) for name in lut]\n",
    "plt.legend(handles, lut, title='Response Association',\n",
    "           bbox_to_anchor=(1, 1), bbox_transform=plt.gcf().transFigure, loc='upper right')\n",
    "_ = g.ax_heatmap.set_xticklabels(g.ax_heatmap.get_xmajorticklabels(), fontsize = 12)\n",
    "_ = g.ax_heatmap.set_yticklabels(g.ax_heatmap.get_ymajorticklabels(), fontsize = 12)\n",
    "\n",
    "g.ax_heatmap.yaxis.set_label_position('left')\n"
   ]
  },
  {
   "cell_type": "markdown",
   "id": "cc252c80",
   "metadata": {},
   "source": [
    "# Survival Curves"
   ]
  },
  {
   "cell_type": "markdown",
   "id": "5038a154-ed11-4ae5-a196-b34690fefccb",
   "metadata": {},
   "source": [
    "## Biomarker Subsets"
   ]
  },
  {
   "cell_type": "code",
   "execution_count": null,
   "id": "ec510ce5-9cc3-4b6f-91dd-8b7cc91cf199",
   "metadata": {},
   "outputs": [],
   "source": [
    "interaction_list_tmb = ['hMono3_ZI','Macrophages/Monocytes_SF','T1_norm', 'I2_norm','log_TMB_indel',\n",
    "                              'TERT_CNV','ATM_MUT']\n",
    "interaction_list_pdl1 = ['hMono3_ZI','Macrophages/Monocytes_SF','T1_norm', 'I2_norm','log_TMB','log_TMB_indel',\n",
    "                              'TERT_CNV','ATM_MUT']"
   ]
  },
  {
   "cell_type": "code",
   "execution_count": null,
   "id": "13d31df2-0040-44b8-95f7-3aa3d7b87a58",
   "metadata": {},
   "outputs": [],
   "source": [
    "ls_high_tmb = []\n",
    "\n",
    "for feature in interaction_list_tmb:\n",
    "    \n",
    "    feature_col = feature\n",
    "\n",
    "    duration_col = 'Harmonized_PFS_Months'\n",
    "    event_col = 'Harmonized_PFS_Event'\n",
    "\n",
    "    df = su2c_merge_master[su2c_merge_master['log_TMB']>np.log10(331/33)]\n",
    "\n",
    "    df_filt = df[[feature_col,duration_col,event_col]].dropna()\n",
    "    \n",
    "    if feature_col in ['log_TMB','log_TMB_indel','T1_norm','I2_norm']:\n",
    "        med = df[feature_col].median()\n",
    "        df_filt[feature_col] = df_filt[feature_col].apply(lambda x: x>med)\n",
    "    else:\n",
    "        df_filt[feature_col] = df_filt[feature_col].apply(lambda x: x>0)\n",
    "    \n",
    "    durations = df_filt[duration_col]\n",
    "    events = df_filt[event_col]\n",
    "    groups = df_filt[feature_col].astype('category').cat.codes\n",
    "\n",
    "    results = multivariate_logrank_test(durations,groups,events)\n",
    "\n",
    "    df_filt_low = df_filt[df_filt[feature_col]==0]\n",
    "    df_filt_high = df_filt[df_filt[feature_col]==1]\n",
    "\n",
    "    kmf_exp = KaplanMeierFitter()\n",
    "    med_pfs_low = kmf_exp.fit(df_filt_low[duration_col],df_filt_low[event_col]).median_survival_time_\n",
    "    med_pfs_high = kmf_exp.fit(df_filt_high[duration_col],df_filt_high[event_col]).median_survival_time_\n",
    "    \n",
    "    ls_high_tmb.append([feature,results.p_value,-np.log10(results.p_value),results.test_statistic,med_pfs_low,med_pfs_high])"
   ]
  },
  {
   "cell_type": "code",
   "execution_count": null,
   "id": "91708152-07fd-4d06-b88c-4143e9fcccc9",
   "metadata": {},
   "outputs": [],
   "source": [
    "df_high_tmb = pd.DataFrame(ls_high_tmb,columns=['feature','p_value','-log10(p_value)','test_stat','med_pfs_low','med_pfs_high'])"
   ]
  },
  {
   "cell_type": "code",
   "execution_count": null,
   "id": "97d8c551-fe0f-4d11-9d53-11c78270143f",
   "metadata": {},
   "outputs": [],
   "source": [
    "ls_pdl1_high = []\n",
    "\n",
    "for feature in interaction_list_pdl1:\n",
    "    \n",
    "    feature_col = feature\n",
    "\n",
    "    duration_col = 'Harmonized_PFS_Months'\n",
    "    event_col = 'Harmonized_PFS_Event'\n",
    "\n",
    "    df = su2c_merge_master[su2c_merge_master['PDL1_TPS']>=0.5]\n",
    "\n",
    "    df_filt = df[[feature_col,duration_col,event_col]].dropna()\n",
    "\n",
    "    if feature_col in ['log_TMB','log_TMB_indel','T1_norm','I2_norm']:\n",
    "        med = df[feature_col].median()\n",
    "        df_filt[feature_col] = df_filt[feature_col].apply(lambda x: x>med)\n",
    "    else:\n",
    "        df_filt[feature_col] = df_filt[feature_col].apply(lambda x: x>0)\n",
    "    \n",
    "    durations = df_filt[duration_col]\n",
    "    events = df_filt[event_col]\n",
    "    groups = df_filt[feature_col].astype('category').cat.codes\n",
    "\n",
    "    results = multivariate_logrank_test(durations,groups,events)\n",
    "\n",
    "    df_filt_low = df_filt[df_filt[feature_col]==0]\n",
    "    df_filt_high = df_filt[df_filt[feature_col]==1]\n",
    "\n",
    "    kmf_exp = KaplanMeierFitter()\n",
    "    med_pfs_low = kmf_exp.fit(df_filt_low[duration_col],df_filt_low[event_col]).median_survival_time_\n",
    "    med_pfs_high = kmf_exp.fit(df_filt_high[duration_col],df_filt_high[event_col]).median_survival_time_\n",
    "    \n",
    "    ls_pdl1_high.append([feature,results.p_value,-np.log10(results.p_value),results.test_statistic,med_pfs_low,med_pfs_high])"
   ]
  },
  {
   "cell_type": "code",
   "execution_count": null,
   "id": "10a7d8c7-549e-4b9e-a9f9-a5169e022b0b",
   "metadata": {},
   "outputs": [],
   "source": [
    "df_pdl1_high = pd.DataFrame(ls_pdl1_high,columns=['feature','p_value','-log10(p_value)','test_stat','med_pfs_low','med_pfs_high'])"
   ]
  },
  {
   "cell_type": "code",
   "execution_count": null,
   "id": "62cdea0e-5b03-4a92-88e8-0ab4223434ac",
   "metadata": {},
   "outputs": [],
   "source": [
    "ls_pdl1_low = []\n",
    "\n",
    "for feature in interaction_list_pdl1:\n",
    "\n",
    "    feature_col = feature\n",
    "\n",
    "    duration_col = 'Harmonized_PFS_Months'\n",
    "    event_col = 'Harmonized_PFS_Event'\n",
    "\n",
    "    df = su2c_merge_master[su2c_merge_master['PDL1_TPS']<=0.01]\n",
    "\n",
    "    df_filt = df[[feature_col,duration_col,event_col]].dropna()\n",
    "\n",
    "    if feature_col in ['log_TMB','log_TMB_indel','T1_norm','I2_norm']:\n",
    "        med = df[feature_col].median()\n",
    "        df_filt[feature_col] = df_filt[feature_col].apply(lambda x: x>med)\n",
    "    else:\n",
    "        df_filt[feature_col] = df_filt[feature_col].apply(lambda x: x>0)\n",
    "    \n",
    "    durations = df_filt[duration_col]\n",
    "    events = df_filt[event_col]\n",
    "    groups = df_filt[feature_col].astype('category').cat.codes\n",
    "\n",
    "    results = multivariate_logrank_test(durations,groups,events)\n",
    "\n",
    "    df_filt_low = df_filt[df_filt[feature_col]==0]\n",
    "    df_filt_high = df_filt[df_filt[feature_col]==1]\n",
    "\n",
    "    kmf_exp = KaplanMeierFitter()\n",
    "    med_pfs_low = kmf_exp.fit(df_filt_low[duration_col],df_filt_low[event_col]).median_survival_time_\n",
    "    med_pfs_high = kmf_exp.fit(df_filt_high[duration_col],df_filt_high[event_col]).median_survival_time_\n",
    "    \n",
    "    ls_pdl1_low.append([feature,results.p_value,-np.log10(results.p_value),results.test_statistic,med_pfs_low,med_pfs_high])"
   ]
  },
  {
   "cell_type": "code",
   "execution_count": null,
   "id": "d3ef8c51-796c-41ce-b28c-8d82a1629870",
   "metadata": {},
   "outputs": [],
   "source": [
    "df_pdl1_low = pd.DataFrame(ls_pdl1_low,columns=['feature','p_value','-log10(p_value)','test_stat','med_pfs_low','med_pfs_high'])"
   ]
  },
  {
   "cell_type": "code",
   "execution_count": null,
   "id": "d711a1c0-21ee-47a9-b0d9-15049a5b3d5e",
   "metadata": {},
   "outputs": [],
   "source": [
    "df_high_tmb['subset'] = 'High TMB'\n",
    "df_pdl1_high['subset'] = 'High PDL1'\n",
    "df_pdl1_low['subset'] = 'Low PDL1'"
   ]
  },
  {
   "cell_type": "code",
   "execution_count": null,
   "id": "d9967e0a-3a4d-4093-9ad9-76cb4a541380",
   "metadata": {},
   "outputs": [],
   "source": [
    "df_subset = pd.concat([df_high_tmb,df_pdl1_high,df_pdl1_low]).dropna(subset=['p_value'])"
   ]
  },
  {
   "cell_type": "code",
   "execution_count": null,
   "id": "19da7ae4-19ef-4624-b9ad-2a7cfe96ea96",
   "metadata": {},
   "outputs": [],
   "source": [
    "df_subset['q'] = multi.multipletests(df_subset['p_value'],method='fdr_bh')[1]"
   ]
  },
  {
   "cell_type": "code",
   "execution_count": null,
   "id": "43a4e73e-065a-4050-bfbe-5b1b39bab40d",
   "metadata": {},
   "outputs": [],
   "source": [
    "df_subset['-log10(q-values)'] = -np.log10(df_subset['q'])"
   ]
  },
  {
   "cell_type": "code",
   "execution_count": null,
   "id": "5cb359aa-dea4-4acf-a9a4-a04ba0a73202",
   "metadata": {},
   "outputs": [],
   "source": [
    "df_subset['favorable'] = df_subset['med_pfs_low']<df_subset['med_pfs_high']"
   ]
  },
  {
   "cell_type": "code",
   "execution_count": null,
   "id": "52279f52-454e-4c97-bfb1-e3197a55ce42",
   "metadata": {},
   "outputs": [],
   "source": [
    "df_subset = df_subset.reset_index().drop('index',axis=1)"
   ]
  },
  {
   "cell_type": "code",
   "execution_count": null,
   "id": "e165e59f-010b-4bbb-bfac-d9731e0694c9",
   "metadata": {},
   "outputs": [],
   "source": [
    "for row in range(0,len(df_subset.index)):\n",
    "    if df_subset.loc[row,'favorable']:\n",
    "        df_subset.loc[row,'Signed log10(q-value)'] = df_subset.loc[row,'-log10(q-values)']\n",
    "    else:\n",
    "        df_subset.loc[row,'Signed log10(q-value)'] = -1*df_subset.loc[row,'-log10(q-values)']"
   ]
  },
  {
   "cell_type": "code",
   "execution_count": null,
   "id": "d5c54290-5bf1-4bd1-ad45-3ebcb3ad300e",
   "metadata": {},
   "outputs": [],
   "source": [
    "df_subset['cluster'] = '0'\n",
    "for i in range(0,len(df_subset.index)):\n",
    "    if df_subset['feature'][i] in ['hMono3_ZI','Macrophages/Monocytes_SF']:\n",
    "        df_subset.iloc[i,-1] = '1'\n",
    "    elif df_subset['feature'][i] in ['PDL1_TPS','T1_norm','I2_norm']:\n",
    "        df_subset.iloc[i,-1] = '2'\n",
    "    elif df_subset['feature'][i] in ['log_TMB','log_TMB_indel']:\n",
    "        df_subset.iloc[i,-1] = '3'\n",
    "    else:\n",
    "        df_subset.iloc[i,-1] = '4'"
   ]
  },
  {
   "cell_type": "code",
   "execution_count": null,
   "id": "92b535d2-e456-4321-a3a3-b5cbbf809fcb",
   "metadata": {},
   "outputs": [],
   "source": [
    "df_subset = df_subset.sort_values(by=['subset','cluster'])"
   ]
  },
  {
   "cell_type": "code",
   "execution_count": null,
   "id": "333a60f1-d82c-44cb-a477-50e774626e14",
   "metadata": {},
   "outputs": [],
   "source": [
    "df_plot=df_subset[df_subset['subset']=='High TMB'].sort_values(by='cluster')\n",
    "plt.figure(figsize=(6,6))\n",
    "ylabels = ['hMono3','Macrophages/Monocytes','De-differentiated (TI-1)',\n",
    "           'Immune Activated (M-2)','TMB indels',\n",
    "           '$\\it{TERT}$ Amplification','$\\it{ATM}$ Mutation']\n",
    "h = sns.barplot(y=df_plot['feature'],x=df_plot['Signed log10(q-value)'],orient='h',\\\n",
    "                hue=df_plot['favorable'],dodge=False)\n",
    "ax=plt.gca()\n",
    "ymin=ax.get_ylim()[0]\n",
    "ymax=ax.get_ylim()[1]\n",
    "plt.vlines(x=0,ymin=ymin,ymax=ymax,colors='k')\n",
    "ax.axvline(linewidth=1,x=-np.log10(0.1),linestyle='-',c='r')\n",
    "ax.axvline(linewidth=1,x=-np.log10(0.25),linestyle='dashed',c='purple')\n",
    "ax.axvline(linewidth=1,x=np.log10(0.1),linestyle='-',c='r')\n",
    "ax.axvline(linewidth=1,x=np.log10(0.25),linestyle='dashed',c='purple')\n",
    "plt.ylabel(None)\n",
    "plt.setp(ax.get_yticklabels(),font = 'Arial',fontsize=18,weight='bold')\n",
    "plt.setp(ax.get_xticklabels(), fontsize=18)\n",
    "plt.xlim(-1.5,1.5)\n",
    "plt.ylim(6.5,-0.5)\n",
    "h.set_yticklabels(ylabels)\n",
    "plt.xlabel('$\\mathregular{Signed\\hspace{0.5}log_{10}(q-value)}$',weight='bold',fontsize=18,labelpad=10)\n",
    "ax.set_xticklabels(ax.get_xticks(),font='Arial',weight='bold',fontsize=18)\n",
    "h.legend_.remove()"
   ]
  },
  {
   "cell_type": "code",
   "execution_count": null,
   "id": "90bd2e8b-93ee-4358-ba5f-eacad1fff58e",
   "metadata": {},
   "outputs": [],
   "source": [
    "df_plot=df_subset[df_subset['subset']=='High PDL1'].sort_values(by='cluster')\n",
    "plt.figure(figsize=(6,6))\n",
    "ylabels = ['hMono3','Macrophages/Monocytes','De-differentiated (TI-1)','Immune Activated (M-2)','TMB','TMB Indel','$\\it{TERT}$ Amplification','$\\it{ATM}$ Mutation']\n",
    "h = sns.barplot(y=df_plot['feature'],x=df_plot['Signed log10(q-value)'],orient='h',\\\n",
    "                hue=df_plot['favorable'],dodge=False)\n",
    "ax=plt.gca()\n",
    "ymin=ax.get_ylim()[0]\n",
    "ymax=ax.get_ylim()[1]\n",
    "plt.vlines(x=0,ymin=ymin,ymax=ymax,colors='k')\n",
    "ax.axvline(linewidth=1,x=-np.log10(0.1),linestyle='-',c='r')\n",
    "ax.axvline(linewidth=1,x=-np.log10(0.25),linestyle='dashed',c='purple')\n",
    "ax.axvline(linewidth=1,x=np.log10(0.1),linestyle='-',c='r')\n",
    "ax.axvline(linewidth=1,x=np.log10(0.25),linestyle='dashed',c='purple')\n",
    "plt.ylabel(None)\n",
    "plt.setp(ax.get_yticklabels(),font = 'Arial',fontsize=18,weight='bold')\n",
    "plt.setp(ax.get_xticklabels(), fontsize=12)\n",
    "plt.xlim(-1.5,1.5)\n",
    "plt.ylim(6.5,-0.5)\n",
    "h.set_yticklabels(ylabels)    \n",
    "plt.xlabel('$\\mathregular{Signed\\hspace{0.5}log_{10}(q-value)}$',weight='bold',fontsize=18,labelpad=10)\n",
    "ax.set_xticklabels(ax.get_xticks(),font='Arial',weight='bold',fontsize=18)\n",
    "h.legend_.remove()"
   ]
  },
  {
   "cell_type": "code",
   "execution_count": null,
   "id": "bd10c82a-b3ce-4719-977c-4aa2195fcf70",
   "metadata": {},
   "outputs": [],
   "source": [
    "df_plot=df_subset[df_subset['subset']=='Low PDL1'].sort_values(by='cluster')\n",
    "plt.figure(figsize=(6,6))\n",
    "ylabels = ['hMono3','Macrophages/Monocytes','De-differentiated (TI-1)','Immune Activated (M-2)','TMB','TMB Indel','$\\it{TERT}$ Amplification','$\\it{ATM}$ Mutation']\n",
    "h = sns.barplot(y=df_plot['feature'],x=df_plot['Signed log10(q-value)'],orient='h',\\\n",
    "                hue=df_plot['favorable'],dodge=False)\n",
    "ax=plt.gca()\n",
    "ymin=ax.get_ylim()[0]\n",
    "ymax=ax.get_ylim()[1]\n",
    "plt.vlines(x=0,ymin=ymin,ymax=ymax,colors='k')\n",
    "ax.axvline(linewidth=1,x=-np.log10(0.1),linestyle='-',c='r')\n",
    "ax.axvline(linewidth=1,x=-np.log10(0.25),linestyle='dashed',c='purple')\n",
    "ax.axvline(linewidth=1,x=np.log10(0.1),linestyle='-',c='r')\n",
    "ax.axvline(linewidth=1,x=np.log10(0.25),linestyle='dashed',c='purple')\n",
    "plt.ylabel(None)\n",
    "plt.setp(ax.get_yticklabels(),font = 'Arial',fontsize=18,weight='bold')\n",
    "plt.setp(ax.get_xticklabels(), fontsize=12)\n",
    "plt.xlim(-1.5,1.5)\n",
    "plt.ylim(6.5,-0.5)\n",
    "h.set_yticklabels(ylabels)    \n",
    "plt.xlabel('$\\mathregular{Signed\\hspace{0.5}log_{10}(q-value)}$',weight='bold',fontsize=18,labelpad=10)\n",
    "ax.set_xticklabels(ax.get_xticks(),font='Arial',weight='bold',fontsize=18)\n",
    "h.legend_.remove()"
   ]
  },
  {
   "cell_type": "markdown",
   "id": "2a02e98d-0c9c-4d22-a647-5734606ca08c",
   "metadata": {},
   "source": [
    "## Biomarker PFS Plots"
   ]
  },
  {
   "cell_type": "code",
   "execution_count": null,
   "id": "4bac3faf-018e-4605-ad7f-323269f0604d",
   "metadata": {},
   "outputs": [],
   "source": [
    "plt.figure(figsize=(8,4))\n",
    "\n",
    "feature_col = 'Macrophages/Monocytes_SF'\n",
    "duration_col = 'Harmonized_PFS_Months'\n",
    "event_col = 'Harmonized_PFS_Event'\n",
    "\n",
    "df = su2c_merge_master[su2c_merge_master['PDL1_TPS']>=.5]\n",
    "df_filt = df[[feature_col,duration_col,event_col]].dropna()\n",
    "df_filt[feature_col] = df_filt[feature_col].apply(lambda x: x>0)\n",
    "\n",
    "medpfs, ax = survival_curve_pair(df_filt,feature_col,duration_col,event_col)\n",
    "\n",
    "plt.ylim(0,1.1)\n",
    "ax.set_ylabel(\"PFS Probability\",font='Arial',weight='bold',fontsize=16,labelpad = 14)\n",
    "ax.set_xlabel(\"Months\",font='Arial',weight='bold',fontsize=16,labelpad=14)\n",
    "ax.set_xticklabels(np.round(ax.get_xticks()),font='Arial',weight='bold',fontsize=14)\n",
    "ax.set_yticklabels(np.round(ax.get_yticks(),1),font='Arial',weight='bold',fontsize=14)\n",
    "L = ax.legend(frameon=False,prop={'size':12,'weight':'bold'})\n",
    "L.get_texts()[0].set_text(\"Macrophages/Monocytes high\")\n",
    "L.get_texts()[1].set_text(\"Macrophages/Monocytes low\")\n",
    "ax.xaxis.set_major_formatter(FormatStrFormatter('%.0f'))\n",
    "fig = plt.gcf()\n",
    "fig.set_size_inches(8, 4)"
   ]
  },
  {
   "cell_type": "code",
   "execution_count": null,
   "id": "f32274b8-d463-40c3-86a3-e0180f8b6ac5",
   "metadata": {},
   "outputs": [],
   "source": [
    "feature_col = 'I2_norm'\n",
    "duration_col = 'Harmonized_PFS_Months'\n",
    "event_col = 'Harmonized_PFS_Event'\n",
    "\n",
    "df = su2c_merge_master[su2c_merge_master['PDL1_TPS']<0.01]\n",
    "df_filt = df[[feature_col,duration_col,event_col]].dropna()\n",
    "med = su2c_merge_master[feature_col].median()\n",
    "\n",
    "df_filt[feature_col] = (df_filt[feature_col]>med)\n",
    "\n",
    "medpfs, ax = survival_curve_pair(df_filt,feature_col,duration_col,event_col)\n",
    "plt.ylim(0,1.1)\n",
    "ax.set_ylabel(\"PFS Probability\",font='Arial',weight='bold',fontsize=16,labelpad = 14)\n",
    "ax.set_xlabel(\"Months\",font='Arial',weight='bold',fontsize=16,labelpad=14)\n",
    "ax.set_xticklabels(np.round(ax.get_xticks()),font='Arial',weight='bold',fontsize=14)\n",
    "ax.set_yticklabels(np.round(ax.get_yticks(),1),font='Arial',weight='bold',fontsize=14)\n",
    "L = ax.legend(frameon=False,prop={'size':12,'weight':'bold'})\n",
    "L.get_texts()[0].set_text(\"Immune Activation (TME-2)\")\n",
    "L.get_texts()[1].set_text(\"Other TME subtype\")\n",
    "ax.xaxis.set_major_formatter(FormatStrFormatter('%.0f'))\n",
    "fig = plt.gcf()\n",
    "fig.set_size_inches(8, 4)"
   ]
  },
  {
   "cell_type": "code",
   "execution_count": null,
   "id": "505ab862-f432-40f0-81ab-0f1be4e64fa5",
   "metadata": {},
   "outputs": [],
   "source": []
  }
 ],
 "metadata": {
  "kernelspec": {
   "display_name": "Python 3 (ipykernel)",
   "language": "python",
   "name": "python3"
  },
  "language_info": {
   "codemirror_mode": {
    "name": "ipython",
    "version": 3
   },
   "file_extension": ".py",
   "mimetype": "text/x-python",
   "name": "python",
   "nbconvert_exporter": "python",
   "pygments_lexer": "ipython3",
   "version": "3.8.18"
  },
  "toc-autonumbering": true
 },
 "nbformat": 4,
 "nbformat_minor": 5
}
