{
 "cells": [
  {
   "cell_type": "markdown",
   "id": "87d122ef",
   "metadata": {},
   "source": [
    "# Imports"
   ]
  },
  {
   "cell_type": "code",
   "execution_count": null,
   "id": "3c0356d2",
   "metadata": {},
   "outputs": [],
   "source": [
    "import pandas as pd\n",
    "import numpy as np\n",
    "import seaborn as sns\n",
    "import matplotlib.pyplot as plt\n",
    "import matplotlib.patches as mpatches\n",
    "from sklearn.metrics import confusion_matrix"
   ]
  },
  {
   "cell_type": "code",
   "execution_count": null,
   "id": "41f8f61d-8a9a-48a2-90d7-96029736a7a8",
   "metadata": {},
   "outputs": [],
   "source": [
    "# Toggle as needed\n",
    "import warnings\n",
    "warnings.filterwarnings(\"ignore\")"
   ]
  },
  {
   "cell_type": "markdown",
   "id": "80a61cd0",
   "metadata": {},
   "source": [
    "# Read Data"
   ]
  },
  {
   "cell_type": "code",
   "execution_count": null,
   "id": "924a23ad",
   "metadata": {},
   "outputs": [],
   "source": [
    "# Set this to your source_data directory\n",
    "source_data_path = \".../Source Data/\""
   ]
  },
  {
   "cell_type": "code",
   "execution_count": null,
   "id": "01b2032e-75e2-4af1-bfa8-49bd06f7bea2",
   "metadata": {},
   "outputs": [],
   "source": [
    "source_data_path_tcga = source_data_path + \"TCGA/\""
   ]
  },
  {
   "cell_type": "code",
   "execution_count": null,
   "id": "0b5cef1c",
   "metadata": {},
   "outputs": [],
   "source": [
    "tcga_bnmf_harm = pd.read_csv(source_data_path_tcga + 'TCGA_Histology_NMF_Harmonized.txt',sep='\\t')"
   ]
  },
  {
   "cell_type": "code",
   "execution_count": null,
   "id": "3f7a3d87",
   "metadata": {},
   "outputs": [],
   "source": [
    "tcga_clinical = pd.read_csv(source_data_path_tcga + 'TCGA_Clinical_Harmonized.txt',sep='\\t')"
   ]
  },
  {
   "cell_type": "code",
   "execution_count": null,
   "id": "c1269c6d",
   "metadata": {},
   "outputs": [],
   "source": [
    "tcga_tmb_harm = pd.read_csv(source_data_path_tcga + 'TCGA_Harmonized_TMB.txt',sep='\\t')"
   ]
  },
  {
   "cell_type": "code",
   "execution_count": null,
   "id": "12e1a7be",
   "metadata": {},
   "outputs": [],
   "source": [
    "tcga_bnmf_tmb_merge = tcga_bnmf_harm.merge(tcga_tmb_harm)"
   ]
  },
  {
   "cell_type": "code",
   "execution_count": null,
   "id": "e8d5a926",
   "metadata": {},
   "outputs": [],
   "source": [
    "tcga_rna_harm = pd.read_csv(source_data_path_tcga + 'TCGA_RNA_Harmonized_log.txt',sep='\\t')"
   ]
  },
  {
   "cell_type": "code",
   "execution_count": null,
   "id": "f0d7b3e0",
   "metadata": {},
   "outputs": [],
   "source": [
    "tcga_clinical_bnmf_harm_merge = tcga_clinical.iloc[:,0:2].merge(tcga_bnmf_harm, left_on='Tumor_Sample_Barcode',\\\n",
    "                                right_on='Tumor_Sample_Barcode',how='right')"
   ]
  },
  {
   "cell_type": "code",
   "execution_count": null,
   "id": "d860dc77",
   "metadata": {},
   "outputs": [],
   "source": [
    "tcga_clinical_bnmf_harm_merge['Study ID'] = \\\n",
    "    tcga_clinical_bnmf_harm_merge['Study ID'].fillna('LCNE').replace('luad_tcga','LUAD').replace('lusc_tcga','LUSC')"
   ]
  },
  {
   "cell_type": "markdown",
   "id": "8afa65cf",
   "metadata": {
    "tags": []
   },
   "source": [
    "# Analysis"
   ]
  },
  {
   "cell_type": "markdown",
   "id": "bc8617a5",
   "metadata": {},
   "source": [
    "## TI Cluster Heatmap"
   ]
  },
  {
   "cell_type": "code",
   "execution_count": null,
   "id": "cdddaa33",
   "metadata": {},
   "outputs": [],
   "source": [
    "df = tcga_clinical_bnmf_harm_merge"
   ]
  },
  {
   "cell_type": "code",
   "execution_count": null,
   "id": "822d2ae4",
   "metadata": {},
   "outputs": [],
   "source": [
    "tcga_bnmf_harm_sorted_T1 = df[df['B_cluster']==1].sort_values(by='B1_norm',\\\n",
    "                                                                ascending=False)"
   ]
  },
  {
   "cell_type": "code",
   "execution_count": null,
   "id": "239782e1",
   "metadata": {},
   "outputs": [],
   "source": [
    "tcga_bnmf_harm_sorted_T2 = df[df['B_cluster']==2].sort_values(by='B2_norm',\\\n",
    "                                                                ascending=False)"
   ]
  },
  {
   "cell_type": "code",
   "execution_count": null,
   "id": "d40e45a7",
   "metadata": {},
   "outputs": [],
   "source": [
    "tcga_bnmf_harm_sorted_T3 = df[df['B_cluster']==3].sort_values(by='B3_norm',\\\n",
    "                                                                ascending=False)"
   ]
  },
  {
   "cell_type": "code",
   "execution_count": null,
   "id": "cfebc56a",
   "metadata": {},
   "outputs": [],
   "source": [
    "tcga_bnmf_harm_sorted_T4 = df[df['B_cluster']==4].sort_values(by='B4_norm',\\\n",
    "                                                                ascending=False)"
   ]
  },
  {
   "cell_type": "code",
   "execution_count": null,
   "id": "cfd2faff",
   "metadata": {},
   "outputs": [],
   "source": [
    "tcga_bnmf_harm_sorted = pd.concat([tcga_bnmf_harm_sorted_T1,tcga_bnmf_harm_sorted_T2,\\\n",
    "          tcga_bnmf_harm_sorted_T3,tcga_bnmf_harm_sorted_T4])"
   ]
  },
  {
   "cell_type": "code",
   "execution_count": null,
   "id": "36746e9d",
   "metadata": {},
   "outputs": [],
   "source": [
    "row_color_dict = {'LUAD':'r','LUSC':'g','LCNE':'b'}"
   ]
  },
  {
   "cell_type": "code",
   "execution_count": null,
   "id": "8e60e299",
   "metadata": {},
   "outputs": [],
   "source": [
    "row_colors = tcga_bnmf_harm_sorted.replace({\"Study ID\":row_color_dict})['Study ID']"
   ]
  },
  {
   "cell_type": "code",
   "execution_count": null,
   "id": "7c06356a",
   "metadata": {},
   "outputs": [],
   "source": [
    "row_colors.name = ''"
   ]
  },
  {
   "cell_type": "code",
   "execution_count": null,
   "id": "87e777a1",
   "metadata": {},
   "outputs": [],
   "source": [
    "legend_TN = [mpatches.Patch(color=c, label=l) for c,l in \\\n",
    "             [['r','LUAD'],['g','LUSC'],['b','LCNE']]]"
   ]
  },
  {
   "cell_type": "code",
   "execution_count": null,
   "id": "75ece966",
   "metadata": {},
   "outputs": [],
   "source": [
    "plt.figure(figsize=(16,8))\n",
    "g = sns.clustermap(tcga_bnmf_harm_sorted[['B1_norm','B2_norm','B3_norm','B4_norm']].T,vmin=0,vmax=1,cmap='Blues',\\\n",
    "            yticklabels=False,xticklabels=False,row_cluster=False,col_cluster=False,\\\n",
    "               col_colors=row_colors,cbar_kws={'ticks':None,'label':None})\n",
    "\n",
    "l2 = g.ax_heatmap.legend(loc='center left',bbox_to_anchor=(1.01,1.1),handles = legend_TN,frameon=True,\\\n",
    "                        prop={'size':14})\n",
    "l2.set_title(title='Histology',prop={'size':14,'weight':\"bold\"})"
   ]
  },
  {
   "cell_type": "markdown",
   "id": "11bd2064-6434-4c2e-bf54-958731b62d41",
   "metadata": {},
   "source": [
    "## TI Cluster Confusion Matrix"
   ]
  },
  {
   "cell_type": "code",
   "execution_count": null,
   "id": "246bc0fb",
   "metadata": {},
   "outputs": [],
   "source": [
    "cm = confusion_matrix(tcga_bnmf_harm_sorted['B_cluster'].apply(lambda x: str(x)),tcga_bnmf_harm_sorted['Study ID'])"
   ]
  },
  {
   "cell_type": "code",
   "execution_count": null,
   "id": "9966e974",
   "metadata": {},
   "outputs": [],
   "source": [
    "df_cm=pd.DataFrame(cm).iloc[[0,1,2,3],[5,6,4]]"
   ]
  },
  {
   "cell_type": "code",
   "execution_count": null,
   "id": "6a3102c1",
   "metadata": {},
   "outputs": [],
   "source": [
    "df_cm.columns=['LUAD','LUSC','LCNE']\n",
    "df_cm.index=['De-differentiated\\n(TI-1)','Adeno\\n(TI-2)','Squamous\\n(TI-3)','LCNE\\n(TI-4)']"
   ]
  },
  {
   "cell_type": "code",
   "execution_count": null,
   "id": "ef908d3a",
   "metadata": {},
   "outputs": [],
   "source": [
    "g = sns.heatmap(df_cm,annot=True,cmap=\"OrRd\",fmt='g',annot_kws={\"size\":18})\n",
    "g.set_xticklabels(['LUAD','LUSC','LCNE'],fontsize=18)\n",
    "g.set_yticklabels(['De-differentiated (TI-1)','Adeno (TI-2)','Squamous (TI-3)','LCNE (TI-4)'],fontsize=18)\n",
    "g.tick_params(left=False,bottom=False)\n",
    "g.collections[0].colorbar.ax.tick_params(labelsize=16)"
   ]
  },
  {
   "cell_type": "markdown",
   "id": "8f614c75-3d90-4630-ba69-a6ab4572edf9",
   "metadata": {},
   "source": [
    "## TI Cluster Lineage Scatterplot"
   ]
  },
  {
   "cell_type": "code",
   "execution_count": null,
   "id": "5e15edf4-c3eb-4dfe-a486-88f57c17ad61",
   "metadata": {},
   "outputs": [],
   "source": [
    "tcga_rna_harm_slim = tcga_rna_harm[['Tumor_Sample_Barcode','NKX2-1_RNA','SOX2_RNA','NAPSA_RNA','TP63_RNA']]"
   ]
  },
  {
   "cell_type": "code",
   "execution_count": null,
   "id": "1a02b40c",
   "metadata": {},
   "outputs": [],
   "source": [
    "tcga_merge_bnmf_rna = tcga_bnmf_harm.merge(tcga_rna_harm_slim,left_on='Tumor_Sample_Barcode',right_on='Tumor_Sample_Barcode')"
   ]
  },
  {
   "cell_type": "code",
   "execution_count": null,
   "id": "c022569a",
   "metadata": {},
   "outputs": [],
   "source": [
    "tcga_merge_bnmf_rna = tcga_merge_bnmf_rna[tcga_merge_bnmf_rna['B_cluster'].isin([1,2,3,4])].sort_values('B_cluster')"
   ]
  },
  {
   "cell_type": "code",
   "execution_count": null,
   "id": "190bb6b4",
   "metadata": {},
   "outputs": [],
   "source": [
    "tcga_merge_bnmf_rna['T cluster'] = tcga_merge_bnmf_rna['B_cluster'].apply(lambda x: 'T'+str(x))"
   ]
  },
  {
   "cell_type": "code",
   "execution_count": null,
   "id": "5f3d3c6e",
   "metadata": {},
   "outputs": [],
   "source": [
    "g = sns.scatterplot(data = tcga_merge_bnmf_rna,x = 'NAPSA_RNA',y='TP63_RNA',hue='T cluster')\n",
    "g.set_xticklabels(['',0,2,4,6,8,10],fontsize=14)\n",
    "g.set_yticklabels(['',0,1,2,3,4,5,6,7],fontsize=14)\n",
    "plt.xlabel('NAPSA log(tpm + 1)',fontsize=16)\n",
    "plt.ylabel('TP63 log(tpm + 1)',fontsize=16)\n",
    "l2 = g.legend(loc='center left',bbox_to_anchor=(1.05,0.8),frameon=True,\\\n",
    "                        prop={'size':12})\n",
    "l2.set_title(title='Tumor-Intrinsic (TI) Cluster',prop={'size':12,'weight':\"bold\"})\n",
    "\n",
    "new_labels = ['De-differentiated (TI-1)','Adeno (TI-2)','Squamous (TI-3)','LCNE (TI-4)']\n",
    "for t, l in zip(l2.texts, new_labels):\n",
    "    t.set_text(l)"
   ]
  },
  {
   "cell_type": "markdown",
   "id": "59348ccf-c4f3-438c-a74e-af7916a31b6e",
   "metadata": {},
   "source": [
    "## TI Cluster Markers"
   ]
  },
  {
   "cell_type": "code",
   "execution_count": null,
   "id": "df14fc52",
   "metadata": {},
   "outputs": [],
   "source": [
    "marker_list = ['NKX2-1_RNA','SFTA3_RNA','SFTPC_RNA',\\\n",
    "              'TFF1_RNA','FGA_RNA','CPS1_RNA',\\\n",
    "              'KRT5_RNA','KRT6B_RNA','TP63_RNA',\\\n",
    "              'CHGA_RNA','CHGB_RNA','NCAM1_RNA']"
   ]
  },
  {
   "cell_type": "code",
   "execution_count": null,
   "id": "4eb22738",
   "metadata": {},
   "outputs": [],
   "source": [
    "tcga_rna_harm_slim = tcga_rna_harm[['Tumor_Sample_Barcode'] + marker_list]"
   ]
  },
  {
   "cell_type": "code",
   "execution_count": null,
   "id": "e8516ae5",
   "metadata": {},
   "outputs": [],
   "source": [
    "tcga_merge_bnmf_rna = tcga_bnmf_harm.merge(tcga_rna_harm_slim,left_on='Tumor_Sample_Barcode',right_on='Tumor_Sample_Barcode')"
   ]
  },
  {
   "cell_type": "code",
   "execution_count": null,
   "id": "f03df5ce-0a0b-419f-a953-18c50088ed47",
   "metadata": {},
   "outputs": [],
   "source": [
    "marker_list_clean = [gene.replace('_RNA','') for gene in marker_list]"
   ]
  },
  {
   "cell_type": "code",
   "execution_count": null,
   "id": "104ef8bf",
   "metadata": {},
   "outputs": [],
   "source": [
    "fig,axes = plt.subplots(4,3, figsize=(24,14))\n",
    "\n",
    "xlabels = ['TI-1','TI-2','TI-3','TI-4']\n",
    "\n",
    "for i in range(0,12):\n",
    "    row = int(np.floor(i/3))\n",
    "    column = i%3\n",
    "\n",
    "    axis = axes[row,column]\n",
    "    ax = sns.violinplot(data = tcga_merge_bnmf_rna,\n",
    "             x='B_cluster',y=marker_list[i],linewidth=2,inner=None,ax=axis)\n",
    "    for violin in ax.collections:\n",
    "        violin.set_edgecolor(violin.get_facecolor())\n",
    "        violin.set_facecolor((0,0,0,0))\n",
    "\n",
    "    g = sns.swarmplot(data = tcga_merge_bnmf_rna,\\\n",
    "                   x='B_cluster',y=marker_list[i],s=2,ax=ax)\n",
    "    ax.set_ylabel(marker_list_clean[i]+'\\nln(TPM+1)',font='Arial',weight='bold',fontsize=18,\\\n",
    "                        rotation=90)\n",
    "    ax.set_xticklabels(xlabels,font='Arial',weight='bold',fontsize=18)\n",
    "    ax.set_yticklabels(ax.get_yticks(),font='Arial',weight='bold',fontsize=18)\n",
    "    ax.set_xlabel(None)\n",
    "plt.subplots_adjust(wspace=0.25,hspace=0.25)"
   ]
  },
  {
   "cell_type": "markdown",
   "id": "0abceedc-e306-4cf4-96a9-9d2bb35fd9b3",
   "metadata": {},
   "source": [
    "## TMB Comparison of TI Clusters"
   ]
  },
  {
   "cell_type": "code",
   "execution_count": null,
   "id": "7f2ac5f8",
   "metadata": {},
   "outputs": [],
   "source": [
    "#Convert from log(total mutations) to log(total mutations/MB)\n",
    "tcga_bnmf_tmb_merge['log_TMB_scaled'] = tcga_bnmf_tmb_merge['log_TMB'].apply(lambda x: np.log((np.exp(x))/33))"
   ]
  },
  {
   "cell_type": "code",
   "execution_count": null,
   "id": "93b63ffe",
   "metadata": {},
   "outputs": [],
   "source": [
    "plt.figure(figsize=(7,4))\n",
    "h=sns.swarmplot(data=tcga_bnmf_tmb_merge,y='log_TMB_scaled',x='B_cluster',size=2.5)\n",
    "plt.locator_params(axis='y', nbins=6)\n",
    "h.set_xticklabels(['De-differentiated\\n(TI-1)','Adeno\\n(TI-2)','Squamous\\n(TI-3)','LCNE\\n(TI-4)'])\n",
    "ax = plt.gca()\n",
    "plt.setp(ax.get_yticklabels(), fontsize=12,weight='bold')\n",
    "plt.setp(ax.get_xticklabels(), fontsize=10, weight='bold')\n",
    "plt.ylabel('ln(TMB)',font='Arial',fontsize=14,weight='bold',labelpad=10)\n",
    "plt.xlabel('')"
   ]
  }
 ],
 "metadata": {
  "kernelspec": {
   "display_name": "Python 3 (ipykernel)",
   "language": "python",
   "name": "python3"
  },
  "language_info": {
   "codemirror_mode": {
    "name": "ipython",
    "version": 3
   },
   "file_extension": ".py",
   "mimetype": "text/x-python",
   "name": "python",
   "nbconvert_exporter": "python",
   "pygments_lexer": "ipython3",
   "version": "3.7.4"
  },
  "vscode": {
   "interpreter": {
    "hash": "7e6475b47a062f4dadee85d04b7b0d3de45c88793cdd870295f6d532304bf291"
   }
  }
 },
 "nbformat": 4,
 "nbformat_minor": 5
}
