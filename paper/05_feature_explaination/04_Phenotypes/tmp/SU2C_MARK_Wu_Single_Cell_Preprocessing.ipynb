{
 "cells": [
  {
   "cell_type": "markdown",
   "id": "fa3c2eaf-5da8-49cb-a424-b461540d7fee",
   "metadata": {},
   "source": [
    "# imports\n"
   ]
  },
  {
   "cell_type": "code",
   "execution_count": null,
   "id": "cf109d6e-f802-44aa-9800-1bba8a55172e",
   "metadata": {
    "tags": []
   },
   "outputs": [],
   "source": [
    "import sys\n",
    "import os\n",
    "import psutil\n",
    "import gc\n",
    "\n",
    "import random\n",
    "import numpy as np\n",
    "import pandas as pd\n",
    "import scipy as sp\n",
    "from scipy.sparse import csr_matrix\n",
    "from scipy import io\n",
    "\n",
    "import anndata as ad\n",
    "import scanpy as sc\n",
    "import h5py\n",
    "\n",
    "import matplotlib.pyplot as plt\n",
    "from matplotlib.pyplot import figure\n",
    "import seaborn as sea\n",
    "from pylab import rcParams\n",
    "\n",
    "from os import listdir\n",
    "from os.path import isfile, join\n",
    "\n",
    "import copy as cp\n",
    "import warnings"
   ]
  },
  {
   "cell_type": "code",
   "execution_count": null,
   "id": "b27040d3-e6e2-4ec5-93be-a7e6152edc66",
   "metadata": {},
   "outputs": [],
   "source": [
    "# Toggle as needed\n",
    "warnings.filterwarnings(\"ignore\")"
   ]
  },
  {
   "cell_type": "code",
   "execution_count": null,
   "id": "7c22a60d-7cf5-4855-973d-236df38127f9",
   "metadata": {},
   "outputs": [],
   "source": [
    "# Set this to your source_data directory\n",
    "source_data_path = \".../Source Data/\""
   ]
  },
  {
   "cell_type": "markdown",
   "id": "15b33bdb-540d-472c-aef6-89234b7e38df",
   "metadata": {},
   "source": [
    "# Functions and variables"
   ]
  },
  {
   "cell_type": "code",
   "execution_count": null,
   "id": "f5c3c843-8a55-45ed-92a6-6e4c37a2d552",
   "metadata": {
    "tags": []
   },
   "outputs": [],
   "source": [
    "def filter_adata(cohort):\n",
    "    # load data\n",
    "    adata = ad.read_h5ad('%s/Single_Cell/%s_all_samples_anndata.h5ad.gzip'%(source_data_path, cohort))\n",
    "\n",
    "    # filter out by expression \n",
    "    sc.pp.filter_cells(adata, min_genes=200)\n",
    "    sc.pp.filter_genes(adata, min_cells=50)\n",
    "    sc.pl.highest_expr_genes(adata, n_top=20, )\n",
    "    \n",
    "    # annotate mito and ribosome genes and do qc\n",
    "    adata.var['mt'] = adata.var_names.str.startswith('MT-')  # annotate the group of mitochondrial genes as 'mt'\n",
    "    adata.var['ribo'] = adata.var_names.str.startswith('RPS') + adata.var_names.str.startswith('RPL')\n",
    "    sc.pp.calculate_qc_metrics(adata, qc_vars=['mt','ribo'], percent_top=None, log1p=False, inplace=True)\n",
    "    sc.pl.violin(adata, ['n_genes_by_counts', 'total_counts', 'pct_counts_mt', 'pct_counts_ribo'],\n",
    "                 jitter=0.4, multi_panel=True)\n",
    "    \n",
    "    if \"Samples\" in adata.obs.columns:\n",
    "        adata.obs[\"sample\"] = adata.obs[\"Samples\"]\n",
    "\n",
    "    # plot qc\n",
    "    rcParams['figure.figsize'] = 5, 5\n",
    "    sc.pl.scatter(adata, x='total_counts', y='n_genes_by_counts', color='pct_counts_mt')\n",
    "    sc.pl.scatter(adata, x='total_counts', y='n_genes_by_counts', color='pct_counts_ribo')\n",
    "\n",
    "    sc.pl.scatter(adata, x='total_counts', y='pct_counts_mt', color='sample')\n",
    "    sc.pl.scatter(adata, x='total_counts', y='pct_counts_ribo', color='sample')\n",
    "\n",
    "    # further filter data based on chosen qc metrics\n",
    "    adata = adata[(adata.obs.n_genes_by_counts < 8000) & (adata.obs.n_genes_by_counts > 1000), :] # heavy filter\n",
    "    adata = adata[(adata.obs.total_counts < 100000) & (adata.obs.total_counts > 3000), :]\n",
    "    adata = adata[(adata.obs.pct_counts_mt < 15) & (adata.obs.pct_counts_ribo < 20), :] # heavy filter\n",
    "\n",
    "    adata.write('%s/Single_Cell/all_%s_samples_filtered_anndata.h5ad.gzip'%(source_data_path, cohort), compression='gzip')\n"
   ]
  },
  {
   "cell_type": "code",
   "execution_count": null,
   "id": "2714f1ff-4fd5-4e17-9c69-b33fbe5f5aeb",
   "metadata": {
    "tags": []
   },
   "outputs": [],
   "source": [
    "def norm_adata(cohort, outFSuf=\"_all_samples_integrated_anndata\"):\n",
    "    # load data\n",
    "    adata = ad.read_h5ad('%s/Single_Cell/all_%s_samples_filtered_anndata.h5ad.gzip'%(source_data_path, cohort))\n",
    "    \n",
    "    # normalize \n",
    "    sc.pp.normalize_total(adata, target_sum=1e4)\n",
    "    sc.pp.log1p(adata)\n",
    "    adata.raw = adata\n",
    "    \n",
    "    # highly var\n",
    "    sc.pp.highly_variable_genes(adata, min_mean=0.0125, max_mean=3, min_disp=0.5)\n",
    "    sc.pl.highly_variable_genes(adata)\n",
    "    \n",
    "    # regress\n",
    "    cell_cycle_genes = [x.strip() for x in open('%s/Single_Cell/regev_lab_cell_cycle_genes.txt'%(source_data_path))]\n",
    "    s_genes = cell_cycle_genes[:43]\n",
    "    g2m_genes = cell_cycle_genes[43:]\n",
    "    adata = adata[:, adata.var.highly_variable]\n",
    "    cell_cycle_genes = [x for x in cell_cycle_genes if x in adata.var_names]\n",
    "    sc.tl.score_genes_cell_cycle(adata, s_genes=s_genes, g2m_genes=g2m_genes)\n",
    "\n",
    "    for c in ['S_score', 'G2M_score', 'total_counts', 'pct_counts_mt', 'pct_counts_ribo']: #'total_counts'\n",
    "        sc.pl.matrixplot(adata, ['LGR5', 'DLL1'], c, title=c)\n",
    "\n",
    "    sc.pp.regress_out(adata, ['S_score', 'G2M_score'])\n",
    "    sc.pp.scale(adata, max_value=10)\n",
    "\n",
    "    # PCA after regressing out\n",
    "    adata_cc_genes = adata[:, cell_cycle_genes]\n",
    "    sc.tl.pca(adata_cc_genes, random_state=123)\n",
    "    sc.pl.pca_scatter(adata_cc_genes, color='phase')\n",
    "\n",
    "    \n",
    "    \n",
    "    random.seed(123)\n",
    "    sc.pp.pca(adata, n_comps=50, use_highly_variable=True, svd_solver='arpack', random_state=123)\n",
    "    sc.pp.neighbors(adata, random_state=123)\n",
    "    sc.tl.umap(adata, random_state=123)\n",
    "\n",
    "\n",
    "    sc.pl.pca_scatter(adata, color= ['pct_counts_ribo', 'pct_counts_mt', 'total_counts','sample'])\n",
    "    sc.pl.umap(adata, color= ['phase','total_counts','sample'])\n",
    "\n",
    "\n",
    "    sc.external.pp.harmony_integrate(adata, 'sample')\n",
    "\n",
    "    adata.obsm['X_pca'] = adata.obsm['X_pca_harmony']\n",
    "    sc.pl.pca(adata, color='sample')\n",
    "\n",
    "\n",
    "    random.seed(123)\n",
    "    sc.pp.neighbors(adata, n_neighbors=10, n_pcs=40, random_state=123)\n",
    "    sc.tl.umap(adata, random_state=123)\n",
    "    sc.tl.leiden(adata, resolution = 0.5, random_state=123)\n",
    "    sc.pl.umap(adata, ncols = 3, color=['pct_counts_ribo', 'pct_counts_mt', 'total_counts',\n",
    "                                        'phase',  'sample']) \n",
    "    sc.pl.umap(adata, color = 'leiden', legend_loc = 'on data')\n",
    "    \n",
    "    random.seed(123)\n",
    "    sc.tl.leiden(adata, resolution = 0.9)\n",
    "    sc.pl.umap(adata, color='leiden', legend_loc='on data')\n",
    "\n",
    "    adata.write('%s/Single_Cell/%s%s.h5ad.gzip'%(source_data_path, cohort, outFSuf), compression='gzip')\n",
    "\n"
   ]
  },
  {
   "cell_type": "code",
   "execution_count": null,
   "id": "a094d88f-0a85-4cb8-8214-c28b857cc204",
   "metadata": {},
   "outputs": [],
   "source": [
    "def get_markergenes(marker_genes, adata=None, verbose=False, subset=True, verbose_all=False):\n",
    "    \n",
    "    marker_genes = cp.deepcopy(marker_genes)\n",
    "   \n",
    "    if adata is not None:\n",
    "        \n",
    "        # removes ones not in adata data and made list valid subset of adata.var\n",
    "        adata_valid_list = adata.var_names\n",
    "        if not adata.var_names.equals(adata.var.index):\n",
    "            print(\"!!!!!!!!anndata.var does not match anndata.var_names!!!!!!!!\")\n",
    "        \n",
    "        if isinstance(marker_genes, dict): \n",
    "            empty_keys = []\n",
    "            for group_key in marker_genes:\n",
    "                to_remove = []\n",
    "                if verbose:\n",
    "                    print(\"############### Current group is %s\"%(group_key))\n",
    "                for gene in marker_genes[group_key]:\n",
    "                    if verbose_all:\n",
    "                        print(\"%s not in adata_valid_list = %s\"%(gene, gene not in adata_valid_list))\n",
    "                    if gene not in adata_valid_list:\n",
    "                        to_remove.append(gene)\n",
    "\n",
    "                for gene in to_remove:\n",
    "                    if verbose:\n",
    "                            print(\"removing %s\"%(gene))\n",
    "                    marker_genes[group_key].remove(gene)\n",
    "                if marker_genes[group_key] == []:\n",
    "                    empty_keys.append(group_key)\n",
    "\n",
    "            for group_key in empty_keys:\n",
    "                del marker_genes[group_key]\n",
    "        elif isinstance(marker_genes, list) :\n",
    "            to_remove = []\n",
    "            for gene in marker_genes:\n",
    "                if verbose_all:\n",
    "                    print(\"%s not in adata_valid_list = %s\"%(gene, gene not in adata_valid_list))\n",
    "                if gene not in adata_valid_list:\n",
    "                        to_remove.append(gene)\n",
    "            for gene in to_remove:\n",
    "                if verbose:\n",
    "                    print(\"removing %s\"%(gene))\n",
    "                marker_genes.remove(gene)\n",
    "        elif isinstance(marker_genes, pd.core.series.Series):\n",
    "            to_remove = []\n",
    "            for gene in marker_genes:\n",
    "                if verbose_all:\n",
    "                    print(\"%s not in adata_valid_list = %s\"%(gene, gene not in adata_valid_list))\n",
    "                if gene not in adata_valid_list:\n",
    "                        to_remove.append(marker_genes.index[marker_genes==gene].tolist()[0])\n",
    "            if verbose:\n",
    "                print(to_remove)\n",
    "            for index in to_remove:\n",
    "                if verbose:\n",
    "                    print(\"removing %s at index %s\"%(marker_genes[index], index))\n",
    "                marker_genes.drop(index, inplace=True)\n",
    "        elif verbose:\n",
    "            print(\"Not valid type for subsetting\")\n",
    "\n",
    "\n",
    "    return marker_genes\n"
   ]
  },
  {
   "cell_type": "code",
   "execution_count": null,
   "id": "91fed059-3881-4f9e-8f2a-9bac2a13c59e",
   "metadata": {
    "tags": []
   },
   "outputs": [],
   "source": [
    "def plot_dotplot(adata, gene_list_list, group_by='leiden', title_name=\"\", verbose=False, subset=True, verbose_all=False):\n",
    "    for gene_list in gene_list_list:\n",
    "        if subset:\n",
    "            gene_list = get_markergenes(gene_list, adata, verbose=verbose, verbose_all= verbose_all, subset=subset)\n",
    "        sc.pl.dotplot(adata, gene_list, group_by, title=title_name)\n",
    "        "
   ]
  },
  {
   "cell_type": "code",
   "execution_count": null,
   "id": "2c3443a1-f595-4b4e-ae9a-90b17f11890f",
   "metadata": {
    "tags": []
   },
   "outputs": [],
   "source": [
    "all_marker_genes = {}\n",
    "\n",
    "all_marker_genes['Cancer subtypes'] =  ['TFF1', 'FGA', 'CPS1', 'NKX2-1', 'SFTA3', 'SFTPC', 'KRT5', 'KRT6B', 'TP63', 'NCAM1',   'CHGA',   'CHGB']\n",
    "\n",
    "\n",
    "\n",
    "all_marker_genes['Natural killer cells'] = ['KLRC1' ,'KLRD1' ,'NKG7']\n",
    "all_marker_genes['T cells'] = ['CD2', 'CD3D', 'CD3E', 'CD3G']\n",
    "all_marker_genes['CD8+ T cells'] = ['NKG7', 'CD8A', 'GNLY', 'GZMA', 'GZMB', 'GZMK', 'GZMH']\n",
    "all_marker_genes['CD4+ T cells'] = ['CD4']\n",
    "all_marker_genes['Naïve T cells'] = ['CCR7' ,'LEF1' ,'IL7R' ,'SELL']\n",
    "all_marker_genes['Exhausted T cells'] = ['LAG3' , 'TIGIT', 'CTLA4']\n",
    "all_marker_genes['Regulator T cells'] = ['FOXP3' ,'IL2RA', 'IKZF2', 'CTLA4']\n",
    "all_marker_genes['Tissue-resident memory T cells'] = ['ITGAE' ,'ITGA1' ,'ZNF683']\n",
    "\n",
    "all_marker_genes['B cells'] = ['CD79A', 'CD79B']\n",
    "all_marker_genes['Follicular B cells'] = ['MS4A1', 'HLA-DRB1','HLA-DRA','HLA-DRB5','HLA-DRB6', \n",
    "                                          'HLA-DRB9 ', 'CXCR4']\n",
    "\n",
    "all_marker_genes['Plasma cells'] = ['MZB1' ,'JCHAIN' ,'IGHG1']\n",
    "\n",
    "all_marker_genes['Myeloid cells'] = ['LYZ']\n",
    "\n",
    "all_marker_genes['Neutrophils'] = ['CSF3R' ,'S100A8', 'S100A9' ,'FCGR3B']\n",
    "\n",
    "all_marker_genes['cDC1'] = ['XCR1' , 'CLEC9A']\n",
    "all_marker_genes['cDC2'] = ['FCER1A', 'CD1C']\n",
    "all_marker_genes['Mature dendritic cells'] = ['LAMP3']\n",
    "all_marker_genes['Follicular dendritic cells'] = ['FDCSP']\n",
    "all_marker_genes['Plasmacytoid dendritic cells'] = ['IL3RA' ,'LILRA4' ,'CLEC4C']\n",
    "\n",
    "all_marker_genes['Macrophages'] = ['CD68']\n",
    "all_marker_genes['M2 macrophages'] = ['MRC1' ,'CD163']\n",
    "\n",
    "all_marker_genes['Monocytes'] = ['CD14' ,'FCN1']\n",
    "\n",
    "all_marker_genes['Mast cells'] = ['TPSAB1' ,'TPSB2','GATA2']\n",
    "\n",
    "all_marker_genes['Tip cells'] = ['DLL4' ,'KCNE3' ,'ESM1','ANGPT2']\n",
    "\n",
    "all_marker_genes['Endothelial cells'] = ['CLDN5' ,'PECAM1' ,'VWF']\n",
    "all_marker_genes['Vein endothelial cells'] = ['ACKR1']\n",
    "all_marker_genes['Artery endothelial cells'] = ['GJA5']\n",
    "all_marker_genes['Lymphatic endothelial cells'] = ['PROX1' ,'PDPN']\n",
    "\n",
    "all_marker_genes['Pericytes'] = ['RGS5' ,'CSPG4']\n",
    "\n",
    "all_marker_genes['Fibroblasts'] = ['DCN' ,'COL1A1', 'COL1A2' ]\n",
    "all_marker_genes['Myofibroblasts'] = ['ACTA2' ,'MYH11']\n",
    "\n",
    "all_marker_genes['Epithelial cells'] = ['CAPS' ,'SNTN'] \n",
    "\n",
    "all_marker_genes['Alveolar cells'] = ['CLDN18' ,'AQP4'] \n",
    "all_marker_genes['Alveolar type 1 cells'] = ['CAV1' ,'AGER'] \n",
    "all_marker_genes['Alveolar type 2 cells'] = ['SFTPC' , 'SFTPA1' , 'ABCA3'] \n",
    "\n",
    "all_marker_genes['Club cells'] = ['SCGB1A1' ,'SCGB3A1'] \n",
    "\n",
    "all_marker_genes['Basal cells'] = ['KRT5' ,'KRT6A' ,'KRT14'] \n",
    "\n",
    "all_marker_genes['Ciliated cells'] = ['FOXJ1' ,'TPPP3' ,'PIFO'] \n",
    "\n",
    "all_marker_genes['Cancer drivers'] = ['EGFR', 'ALK','RET', 'HER2'] "
   ]
  },
  {
   "cell_type": "code",
   "execution_count": null,
   "id": "89482c37-575d-49c2-8b02-1b76ff6bcfce",
   "metadata": {
    "tags": []
   },
   "outputs": [],
   "source": [
    "sub_marker_genes = {}\n",
    "sub_marker_genes['Cancer'] = ['EGFR', 'ALK','RET', 'HER2',\n",
    "                             'EPCAM', \n",
    "                              'TFF1', 'NKX2-1', 'KRT5', 'NCAM1', 'FGA', 'SFTA3', 'KRT6B', 'CHGA', 'CPS1', 'SFTPC', 'TP63', 'CHGB'\n",
    "\n",
    "                             ]\n",
    "sub_marker_genes['Myeloid'] = ['LYZ',\n",
    "                               'CD14', 'CD68', 'FCGR1A', 'FCGR3A', 'MNDA' \n",
    "                              ]\n",
    "sub_marker_genes['Fibroblast'] = ['DCN' ,'COL1A1', 'COL1A2', 'ACTA2' ,'MYH11',\n",
    "                                  'LUM', 'C1R' \n",
    "                                 ]\n",
    "sub_marker_genes['T_cell'] = ['CD2', 'CD3D', 'CD3E', 'CD3G', 'NKG7', 'CD8A', 'GNLY', 'GZMA', 'GZMB', 'GZMK', 'GZMH', 'CD4', \n",
    "                              'CCR7' ,'LEF1' ,'IL7R' ,'SELL', 'LAG3' , 'TIGIT', 'CTLA4', 'FOXP3' ,'IL2RA', 'IKZF2', 'CTLA4',\n",
    "                              'ITGAE' ,'ITGA1' ,'ZNF683',\n",
    "                              'TRAC' \n",
    "                             ]\n",
    "sub_marker_genes['B_cell'] = ['CD79A', 'CD79B', 'MS4A1', 'HLA-DRB1', 'HLA-DRA', 'HLA-DRB5', 'HLA-DRB6', 'HLA-DRB9 ', 'CXCR4',\n",
    "                              'MZB1' ,'JCHAIN' ,'IGHG1',\n",
    "                              'IGLC3' \n",
    "                             ]\n",
    "sub_marker_genes['Neutrophil'] = ['CSF3R' ,'S100A8', 'S100A9' ,'FCGR3B',\n",
    "                                  'CXCR2', 'FCGR3B' \n",
    "                                 ]\n",
    "sub_marker_genes['Alveolar'] = ['CLDN18' ,'AQP4', 'CAV1' ,'AGER', 'SFTPC' , 'SFTPA1' , 'ABCA3',\n",
    "                                'FOLR1', 'SFTPB', 'SCGB3A1' \n",
    "                               ]\n",
    "sub_marker_genes['Epithelial'] = ['CAPS' ,'SNTN',\n",
    "                                  'TFF3', 'CDH1', 'FOXJ1' \n",
    "                                 ]\n",
    "sub_marker_genes['Endothelial'] = ['CLDN5' , 'PECAM1' , 'VWF', 'ACKR1', 'GJA5', 'PROX1' ,'PDPN',\n",
    "                                   'FLT1', 'KDR', 'CDH5', 'ANGPT2' \n",
    "                                  ]\n",
    "sub_marker_genes['Mast_cell'] = ['TPSAB1' ,'TPSB2','GATA2',\n",
    "                                 'CPA3', 'MS4A2' \n",
    "                                ]\n",
    "sub_marker_genes['fDC'] = ['FDCSP']\n",
    "\n"
   ]
  },
  {
   "cell_type": "markdown",
   "id": "bd7f3b19-71e2-4914-ad11-88f543da03aa",
   "metadata": {},
   "source": [
    "# set cohort and load starting data"
   ]
  },
  {
   "cell_type": "code",
   "execution_count": null,
   "id": "e0aad7af-1c50-433f-9cb7-2fd7256aec13",
   "metadata": {
    "tags": []
   },
   "outputs": [],
   "source": [
    "# Wu data\n",
    "cohort = \"Wu\"\n",
    "mypath = '%s/Single_Cell/raw_data_exp_matrix'%(source_data_path)\n",
    "onlyfiles = [f for f in listdir(mypath) if isfile(join(mypath, f))]\n",
    "all_samples = [f.split('_')[1] for f in listdir(mypath) if isfile(join(mypath, f))]\n",
    "\n",
    "all_adata = [sc.read('%s/%s'%(mypath, dir_path), cache=True, deliminator = '\\t').transpose() for dir_path in onlyfiles]\n",
    "\n",
    "for i in range(len(all_samples)):\n",
    "    sample_col = pd.DataFrame({'sample':[all_samples[i]]*(all_adata[i].obs.shape[0]), 'idx':all_adata[i].obs.index.tolist()}).set_index('idx')\n",
    "    sample_col.index.name = None\n",
    "    all_adata[i].obs = (all_adata[i].obs).join(sample_col)"
   ]
  },
  {
   "cell_type": "code",
   "execution_count": null,
   "id": "ee5a1e57-0848-4865-9f39-84d2839a104a",
   "metadata": {
    "tags": []
   },
   "outputs": [],
   "source": [
    "merged_all_adata = all_adata[0].concatenate(*all_adata[1:len(all_adata)], batch_key='sample_n')\n",
    "merged_all_adata.var_names_make_unique() \n",
    "adata = merged_all_adata\n"
   ]
  },
  {
   "cell_type": "code",
   "execution_count": null,
   "id": "eef16322-6c30-455e-92b5-abfda985d36c",
   "metadata": {},
   "outputs": [],
   "source": [
    "adata.write('%s/Single_Cell/%s_all_samples_anndata.h5ad.gzip'%(source_data_path, cohort), compression='gzip')"
   ]
  },
  {
   "cell_type": "markdown",
   "id": "e882478b-e542-4b49-b9f4-af5d13775eb8",
   "metadata": {},
   "source": [
    "## filter and normalize Wu data"
   ]
  },
  {
   "cell_type": "code",
   "execution_count": null,
   "id": "9f879abb-b90a-4282-8d8c-4b5853778a61",
   "metadata": {
    "tags": []
   },
   "outputs": [],
   "source": [
    "filter_adata(cohort)"
   ]
  },
  {
   "cell_type": "code",
   "execution_count": null,
   "id": "9cf6caf9-658e-4948-ae1e-07da592d8f54",
   "metadata": {
    "tags": []
   },
   "outputs": [],
   "source": [
    "norm_adata(cohort, outFSuf=\"_all_samples_integrated_anndata_paper\")"
   ]
  },
  {
   "cell_type": "markdown",
   "id": "a8763f2a-be75-41c6-bd66-16c9b7da4bbd",
   "metadata": {},
   "source": [
    "# Label clusters "
   ]
  },
  {
   "cell_type": "code",
   "execution_count": null,
   "id": "57ab8309-a11d-4571-ad66-7f7690708b44",
   "metadata": {},
   "outputs": [],
   "source": [
    "adata  = ad.read('%s/Single_Cell/Wu_all_samples_integrated_anndata_paper_lock.h5ad.gzip'%(source_data_path))\n"
   ]
  },
  {
   "cell_type": "markdown",
   "id": "ccf6f350-7516-425c-a53c-2e69ec300c0d",
   "metadata": {
    "tags": []
   },
   "source": [
    "# cell type dotplots"
   ]
  },
  {
   "cell_type": "code",
   "execution_count": null,
   "id": "2fdf5734-8c52-4c85-8252-b162d0bcbd11",
   "metadata": {
    "tags": []
   },
   "outputs": [],
   "source": [
    "# determine cluster cell type\n",
    "plot_dotplot(adata,  [sub_marker_genes, all_marker_genes], title_name = \"Wu cell type leiden\" )"
   ]
  },
  {
   "cell_type": "markdown",
   "id": "52f4925e-e640-45f6-804c-ea677d6354e2",
   "metadata": {},
   "source": [
    "## Cell type annotations"
   ]
  },
  {
   "cell_type": "code",
   "execution_count": null,
   "id": "ba8bbdb9-7e85-4463-b947-d5eb63a4fd62",
   "metadata": {},
   "outputs": [],
   "source": [
    "leiden_clust_annotation_min = {\n",
    "    '0' : 'Cancer-Squamous',\n",
    "    '1' : 'Cancer-Adeno/Squamous',\n",
    "    '2' : 'Myeloid',\n",
    "    '3' : 'Cancer-Squamous',\n",
    "    '4' : 'Fibroblasts',\n",
    "    '5' : 'Myeloid', \n",
    "    '6' : 'Cancer-Squamous',\n",
    "    '7' : 'Cancer-Squamous',\n",
    "    '8' : 'Cancer-Squamous',\n",
    "    '9' : 'Myeloid', \n",
    "    '10': 'Cancer-Adeno', \n",
    "    '11': 'Cancer-Squamous',\n",
    "    '12': 'Cancer-DeDifferentiated', \n",
    "    '13': 'B cells', \n",
    "    '14': 'Fibroblasts',\n",
    "    '15': 'T cell',\n",
    "    '16': 'Cancer-Squamous', \n",
    "    '17': 'Endothelial', \n",
    "    '18': 'Alveolar',\n",
    "    '19': 'Epithelial',\n",
    "    '20': 'Myeloid', \n",
    "    '21': 'Cancer-Adeno',\n",
    "    '22': 'Cancer-Adeno/Squamous', \n",
    "    '23': 'Cancer-Squamous',\n",
    "    '24': 'T cell',\n",
    "    '25': 'Myeloid',\n",
    "}"
   ]
  },
  {
   "cell_type": "markdown",
   "id": "2ad15812-13cf-4512-aad3-8ebfc11ade8f",
   "metadata": {},
   "source": [
    "## leiden labeling"
   ]
  },
  {
   "cell_type": "code",
   "execution_count": null,
   "id": "1452847c-d592-4fca-9c97-8ea63f315ed8",
   "metadata": {},
   "outputs": [],
   "source": [
    "adata.obs['leiden_annotation_min'] = [leiden_clust_annotation_min[l] for l in adata.obs['leiden']]\n",
    "\n",
    "adata = adata.raw.to_adata()\n",
    "for cell in adata.obs.index:\n",
    "    l = adata.obs.loc[cell, 'leiden']\n",
    "    cell_type = adata.obs.loc[cell, 'leiden_annotation_min']\n",
    "    adata.obs.loc[cell, 'leiden_annotation_pair'] = '%s-%s'%(cell_type, l)\n",
    "    \n"
   ]
  },
  {
   "cell_type": "code",
   "execution_count": null,
   "id": "38505ba5-f2e1-46b3-8cbe-b5113a729b8b",
   "metadata": {},
   "outputs": [],
   "source": [
    "adata.write('%s/Single_Cell/Wu_integrated_leiden_ann_adata.h5ad.gzip'%(source_data_path), compression=\"gzip\")"
   ]
  },
  {
   "cell_type": "code",
   "execution_count": null,
   "id": "183090d2-7c89-48ee-b2c9-319919cdb5e4",
   "metadata": {},
   "outputs": [],
   "source": []
  }
 ],
 "metadata": {
  "kernelspec": {
   "display_name": "Python 3 (ipykernel)",
   "language": "python",
   "name": "python3"
  },
  "language_info": {
   "codemirror_mode": {
    "name": "ipython",
    "version": 3
   },
   "file_extension": ".py",
   "mimetype": "text/x-python",
   "name": "python",
   "nbconvert_exporter": "python",
   "pygments_lexer": "ipython3",
   "version": "3.7.4"
  }
 },
 "nbformat": 4,
 "nbformat_minor": 5
}
