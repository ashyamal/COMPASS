{
 "cells": [
  {
   "cell_type": "markdown",
   "id": "87d122ef",
   "metadata": {},
   "source": [
    "# Imports"
   ]
  },
  {
   "cell_type": "code",
   "execution_count": null,
   "id": "5ba49cfd-c8c1-41a6-8615-a583768119f6",
   "metadata": {},
   "outputs": [],
   "source": [
    "import pandas as pd\n",
    "import matplotlib.pyplot as plt\n",
    "import seaborn as sns\n",
    "import numpy as np\n",
    "from matplotlib.ticker import FormatStrFormatter"
   ]
  },
  {
   "cell_type": "code",
   "execution_count": null,
   "id": "d5c3e099-7275-496c-b2e8-b9ef97c19ef1",
   "metadata": {},
   "outputs": [],
   "source": [
    "# Toggle as needed\n",
    "import warnings\n",
    "warnings.filterwarnings(\"ignore\")"
   ]
  },
  {
   "cell_type": "markdown",
   "id": "ca8e2a89",
   "metadata": {},
   "source": [
    "# Read in Data"
   ]
  },
  {
   "cell_type": "code",
   "execution_count": null,
   "id": "9a91fcba-753c-4d5d-80ee-c0c2e322e969",
   "metadata": {},
   "outputs": [],
   "source": [
    "# Set this to your source_data directory\n",
    "source_data_path = \".../Source Data/\""
   ]
  },
  {
   "cell_type": "code",
   "execution_count": null,
   "id": "f6aff913-58ef-4c65-9ea2-92c0b891cb91",
   "metadata": {},
   "outputs": [],
   "source": [
    "source_data_path_rna = source_data_path + 'RNA/'"
   ]
  },
  {
   "cell_type": "code",
   "execution_count": null,
   "id": "02082b08-296e-437a-ad96-b04360d75583",
   "metadata": {},
   "outputs": [],
   "source": [
    "su2c_limma_all_harm = pd.read_csv(source_data_path_rna + 'SU2C-MARK_Harmonized_Limma_All_v1.txt',sep='\\t')"
   ]
  },
  {
   "cell_type": "code",
   "execution_count": null,
   "id": "8d97cca5",
   "metadata": {},
   "outputs": [],
   "source": [
    "su2c_gsea_harm = pd.read_csv(source_data_path_rna + 'SU2C-MARK_Harmonized_GSEA_Hallmark_All_v1.txt',sep='\\t')"
   ]
  },
  {
   "cell_type": "markdown",
   "id": "9d33a81e",
   "metadata": {},
   "source": [
    "# Plots"
   ]
  },
  {
   "cell_type": "markdown",
   "id": "a230d49f",
   "metadata": {},
   "source": [
    "## Volcano Plot"
   ]
  },
  {
   "cell_type": "code",
   "execution_count": null,
   "id": "69101886",
   "metadata": {},
   "outputs": [],
   "source": [
    "df = su2c_limma_all_harm\n",
    "df['hue'] = 1\n",
    "df_p_f = df[(df['P.Value']<0.05) & (abs(df['logFC'])>0.5)]\n",
    "df_n = df[(df['P.Value']>=0.05) & (abs(df['logFC'])<=0.5)]\n",
    "df_f = df[(df['P.Value']>=0.05) & (abs(df['logFC'])>0.5)]\n",
    "df_p = df[(df['P.Value']<0.05) & (abs(df['logFC'])<=0.5)]\n",
    "  \n",
    "df_list = [df_p_f, df_p,df_f,df_n]\n",
    "fig,ax = plt.subplots(figsize=(6,6))\n",
    "palette_list = ['red','gray','gray','gray']\n",
    "alpha_list = [1,0.5,0.5,0.5]\n",
    "for i in range(0,4):\n",
    "    df = df_list[i]\n",
    "    x = df['logFC']\n",
    "    y = df['P.Value']\n",
    "    h = sns.scatterplot(x=x,y=-np.log10(y),ax=ax,s=30,alpha=alpha_list[i],hue=df['hue'],palette=[palette_list[i]],\\\n",
    "                       legend=None)\n",
    "for i in range(0,len(su2c_limma_all_harm.index)):\n",
    "        df = su2c_limma_all_harm\n",
    "        \n",
    "        x = df['logFC']\n",
    "        y = df['P.Value']\n",
    "        \n",
    "        xi = x.iloc[i]\n",
    "        yi = -np.log10(y.iloc[i])\n",
    "        \n",
    "        gene = df['hgnc_symbol'].iloc[i]\n",
    "        \n",
    "        if gene == 'PSME2':\n",
    "            plt.annotate('$\\it{gene}$'.format(gene=gene),xy=(xi,yi),\\\n",
    "                         xycoords='data',xytext=(15,15),textcoords='offset points', va='center',ha='left',\\\n",
    "                        arrowprops=dict(arrowstyle='-',lw=2,color='k'),size=12)\n",
    "        if gene == 'PSME1':\n",
    "            plt.annotate('$\\it{gene}$'.format(gene=gene),xy=(xi,yi),\\\n",
    "                         xycoords='data',xytext=(15,15),textcoords='offset points', va='center',ha='left',\\\n",
    "                        arrowprops=dict(arrowstyle='-',lw=2,color='k'),size=12)\n",
    "        if gene == 'PSMB9':\n",
    "            plt.annotate('$\\it{gene}$'.format(gene=gene),xy=(xi,yi),\\\n",
    "                         xycoords='data',xytext=(-5,25),textcoords='offset points', va='center',ha='left',\\\n",
    "                        arrowprops=dict(arrowstyle='-',lw=2,color='k'),size=12)\n",
    "        if gene == 'PSMD6':\n",
    "            plt.annotate('$\\it{gene}$'.format(gene=gene),xy=(xi,yi),\\\n",
    "                         xycoords='data',xytext=(-5,25),textcoords='offset points', va='center',ha='right',\\\n",
    "                        arrowprops=dict(arrowstyle='-',lw=2,color='k'),size=12)\n",
    "        if gene == 'VGF':\n",
    "            plt.annotate('$\\it{gene}$'.format(gene=gene),xy=(xi,yi),\\\n",
    "                         xycoords='data',xytext=(20,20),textcoords='offset points', va='center',ha='left',\\\n",
    "                        arrowprops=dict(arrowstyle='-',lw=2,color='k'),size=12)\n",
    "        if gene == 'CXCL11':\n",
    "            plt.annotate('$\\it{gene}$'.format(gene=gene),xy=(xi,yi),\\\n",
    "                         xycoords='data',xytext=(15,20),textcoords='offset points', va='center',ha='right',\\\n",
    "                        arrowprops=dict(arrowstyle='-',lw=2,color='k'),size=12)\n",
    "        if gene == 'CXCL9':\n",
    "            plt.annotate('$\\it{gene}$'.format(gene=gene),xy=(xi,yi),\\\n",
    "                         xycoords='data',xytext=(15,0),textcoords='offset points', va='center',ha='left',\\\n",
    "                        arrowprops=dict(arrowstyle='-',lw=2,color='k'),size=12)\n",
    "        if gene == 'UBD':\n",
    "            plt.annotate('$\\it{gene}$'.format(gene=gene),xy=(xi,yi),\\\n",
    "                         xycoords='data',xytext=(10,0),textcoords='offset points', va='center',ha='left',\\\n",
    "                        arrowprops=dict(arrowstyle='-',lw=2,color='k'),size=12)\n",
    "        if gene == 'CXCL13':\n",
    "            plt.annotate('$\\it{gene}$'.format(gene=gene),xy=(xi,yi),\\\n",
    "                         xycoords='data',xytext=(10,5),textcoords='offset points', va='center',ha='left',\\\n",
    "                        arrowprops=dict(arrowstyle='-',lw=2,color='k'),size=12)\n",
    "        if gene == 'CXCL10':\n",
    "            plt.annotate('$\\it{gene}$'.format(gene=gene),xy=(xi,yi),\\\n",
    "                         xycoords='data',xytext=(10,-5),textcoords='offset points', va='center',ha='left',\\\n",
    "                        arrowprops=dict(arrowstyle='-',lw=2,color='k'),size=12)\n",
    "        if gene == 'MMP12':\n",
    "            plt.annotate('$\\it{gene}$'.format(gene=gene),xy=(xi,yi),\\\n",
    "                         xycoords='data',xytext=(35,0),textcoords='offset points', va='center',ha='left',\\\n",
    "                        arrowprops=dict(arrowstyle='-',lw=2,color='k'),size=12)\n",
    "        if gene == 'MT1G':\n",
    "            plt.annotate('$\\it{gene}$'.format(gene=gene),xy=(xi,yi),\\\n",
    "                         xycoords='data',xytext=(35,-15),textcoords='offset points', va='center',ha='left',\\\n",
    "                        arrowprops=dict(arrowstyle='-',lw=2,color='k'),size=12)\n",
    "        if gene == 'PLA2G2D':\n",
    "            plt.annotate('$\\it{gene}$'.format(gene=gene),xy=(xi,yi),\\\n",
    "                         xycoords='data',xytext=(5,-25),textcoords='offset points', va='center',ha='left',\\\n",
    "                        arrowprops=dict(arrowstyle='-',lw=2,color='k'),size=12)\n",
    "        if gene == 'AUTS2':\n",
    "            plt.annotate('$\\it{gene}$'.format(gene=gene),xy=(xi,yi),\\\n",
    "                         xycoords='data',xytext=(5,70),textcoords='offset points', va='center',ha='right',\\\n",
    "                        arrowprops=dict(arrowstyle='-',lw=2,color='k'),size=12)\n",
    "        if gene == 'NHSL2':\n",
    "            plt.annotate('$\\it{gene}$'.format(gene=gene),xy=(xi,yi),\\\n",
    "                         xycoords='data',xytext=(-15,65),textcoords='offset points', va='center',ha='right',\\\n",
    "                        arrowprops=dict(arrowstyle='-',lw=2,color='k'),size=12)\n",
    "        if gene == 'TCF7L1':\n",
    "            plt.annotate('$\\it{gene}$'.format(gene=gene),xy=(xi,yi),\\\n",
    "                         xycoords='data',xytext=(-33,55),textcoords='offset points', va='center',ha='right',\\\n",
    "                        arrowprops=dict(arrowstyle='-',lw=2,color='k'),size=12)\n",
    "        if gene == 'KIAA1324L':\n",
    "            plt.annotate('$\\it{gene}$'.format(gene=gene),xy=(xi,yi),\\\n",
    "                         xycoords='data',xytext=(-50,30),textcoords='offset points', va='center',ha='right',\\\n",
    "                        arrowprops=dict(arrowstyle='-',lw=2,color='k'),size=12)\n",
    "        if gene == 'PDLIM3':\n",
    "            plt.annotate('$\\it{gene}$'.format(gene=gene),xy=(xi,yi),\\\n",
    "                         xycoords='data',xytext=(-45,45),textcoords='offset points', va='center',ha='right',\\\n",
    "                        arrowprops=dict(arrowstyle='-',lw=2,color='k'),size=12)\n",
    "        if gene == 'CECR2':\n",
    "            plt.annotate('$\\it{gene}$'.format(gene=gene),xy=(xi,yi),\\\n",
    "                         xycoords='data',xytext=(-40,15),textcoords='offset points', va='center',ha='right',\\\n",
    "                        arrowprops=dict(arrowstyle='-',lw=2,color='k'),size=12)\n",
    "        if gene == 'C3orf30':\n",
    "            plt.annotate('$\\it{gene}$'.format(gene=gene),xy=(xi,yi),\\\n",
    "                         xycoords='data',xytext=(-15,-3),textcoords='offset points', va='center',ha='right',\\\n",
    "                        arrowprops=dict(arrowstyle='-',lw=2,color='k'),size=12)\n",
    "        if gene == 'PGC':\n",
    "            plt.annotate('$\\it{gene}$'.format(gene=gene),xy=(xi,yi),\\\n",
    "                         xycoords='data',xytext=(25,15),textcoords='offset points', va='center',ha='right',\\\n",
    "                        arrowprops=dict(arrowstyle='-',lw=2,color='k'),size=12)\n",
    "        if gene == 'SFTPC':\n",
    "            plt.annotate('$\\it{gene}$'.format(gene=gene),xy=(xi,yi),\\\n",
    "                         xycoords='data',xytext=(15,15),textcoords='offset points', va='center',ha='right',\\\n",
    "                        arrowprops=dict(arrowstyle='-',lw=2,color='k'),size=12)            \n",
    "            \n",
    "plt.xlim(-3.3,3.3)\n",
    "plt.ylim(0,8)\n",
    "xmin = ax.get_xlim()[0]\n",
    "xmax = ax.get_xlim()[1]\n",
    "ymin = ax.get_ylim()[0]\n",
    "ymax = ax.get_ylim()[1]\n",
    "plt.hlines(y=-np.log10(.05),xmin=xmin,xmax=xmax,linestyles='dashed',colors='k',alpha=0.3)\n",
    "plt.vlines(x=0.5,ymin=ymin,ymax=ymax,linestyles='dashed',colors='k',alpha=0.3)\n",
    "plt.vlines(x=-0.5,ymin=ymin,ymax=ymax,linestyles='dashed',colors='k',alpha=0.3)\n",
    "plt.xlabel('Coefficient',labelpad=10,fontname='Arial',size=14,fontweight='bold')\n",
    "plt.ylabel('-log10p',labelpad=10,size=14,fontweight='bold')\n",
    "_ = ax.set_xlabel(\"$\\mathregular{log_{2}(Fold Change)}$\",font='Arial',weight='bold',fontsize=16,labelpad = 14)\n",
    "_ = ax.set_ylabel(\"$\\mathregular{-log_{10}(p-value)}$\",font='Arial',weight='bold',fontsize=16,labelpad=14)\n",
    "_ = ax.set_xticklabels(np.round(ax.get_xticks()),font='Arial',weight='bold',fontsize=14)\n",
    "_ = ax.set_yticklabels(np.round(ax.get_yticks(),1),font='Arial',weight='bold',fontsize=14)            \n",
    "ax.yaxis.set_major_formatter(FormatStrFormatter('%.0f'))\n",
    "ax.xaxis.set_major_formatter(FormatStrFormatter('%.0f'))"
   ]
  },
  {
   "cell_type": "markdown",
   "id": "629d482b-ebac-4a5a-a1e1-c8289916ab04",
   "metadata": {},
   "source": [
    "## GSEA Plot"
   ]
  },
  {
   "cell_type": "code",
   "execution_count": null,
   "id": "d6ee0356",
   "metadata": {},
   "outputs": [],
   "source": [
    "su2c_gsea_harm_sig = su2c_gsea_harm[su2c_gsea_harm['padj']<0.1]"
   ]
  },
  {
   "cell_type": "code",
   "execution_count": null,
   "id": "73c676de",
   "metadata": {},
   "outputs": [],
   "source": [
    "su2c_gsea_harm_sig['signed_log10p'] = -np.log10(su2c_gsea_harm_sig['padj'])*np.sign(su2c_gsea_harm_sig['NES'])"
   ]
  },
  {
   "cell_type": "code",
   "execution_count": null,
   "id": "f32b2778",
   "metadata": {},
   "outputs": [],
   "source": [
    "su2c_gsea_harm_sig = su2c_gsea_harm_sig.sort_values('signed_log10p',ascending=False)"
   ]
  },
  {
   "cell_type": "code",
   "execution_count": null,
   "id": "ef9fa33b",
   "metadata": {},
   "outputs": [],
   "source": [
    "su2c_gsea_harm_sig['hue'] = np.sign(su2c_gsea_harm_sig[\"NES\"])"
   ]
  },
  {
   "cell_type": "code",
   "execution_count": null,
   "id": "b388ef33-d28e-4479-805f-6802e49da1a6",
   "metadata": {},
   "outputs": [],
   "source": [
    "plt.figure(figsize=(6,6))\n",
    "h = sns.barplot(y=su2c_gsea_harm_sig['pathway'],x=su2c_gsea_harm_sig['signed_log10p'],orient='h',\\\n",
    "                hue=su2c_gsea_harm_sig['hue'],dodge=False)\n",
    "ax=plt.gca()\n",
    "ymin=ax.get_ylim()[0]\n",
    "ymax=ax.get_ylim()[1]\n",
    "plt.vlines(x=0,ymin=ymin,ymax=ymax,colors='k')\n",
    "plt.vlines(x=-1,ymin=ymin,ymax=ymax,colors='r',linestyles='dashed',alpha=0.5)\n",
    "plt.vlines(x=1,ymin=ymin,ymax=ymax,colors='r',linestyles='dashed',alpha=0.5)\n",
    "plt.xlabel('$\\mathregular{Signed\\hspace{0.5}log_{10}(q-value)}$',fontsize=14,weight='bold')\n",
    "plt.ylabel(None)\n",
    "plt.setp(ax.get_yticklabels(), fontsize=8,weight='bold')\n",
    "plt.setp(ax.get_xticklabels(), fontsize=12)\n",
    "plt.ylim(37.5,-0.5)\n",
    "h.legend_.remove()"
   ]
  }
 ],
 "metadata": {
  "kernelspec": {
   "display_name": "Python 3 (ipykernel)",
   "language": "python",
   "name": "python3"
  },
  "language_info": {
   "codemirror_mode": {
    "name": "ipython",
    "version": 3
   },
   "file_extension": ".py",
   "mimetype": "text/x-python",
   "name": "python",
   "nbconvert_exporter": "python",
   "pygments_lexer": "ipython3",
   "version": "3.7.4"
  }
 },
 "nbformat": 4,
 "nbformat_minor": 5
}
