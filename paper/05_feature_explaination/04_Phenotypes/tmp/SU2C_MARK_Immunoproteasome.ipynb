{
 "cells": [
  {
   "cell_type": "markdown",
   "id": "18615ccc-50ca-4938-9a8b-1921db36d54d",
   "metadata": {},
   "source": [
    "# Library Import"
   ]
  },
  {
   "cell_type": "code",
   "execution_count": null,
   "id": "86f90e08-4f86-4189-aaad-e4fd9e66f6c3",
   "metadata": {},
   "outputs": [],
   "source": [
    "import numpy as np\n",
    "import pandas as pd\n",
    "import matplotlib.pyplot as plt\n",
    "import seaborn as sns\n",
    "from matplotlib.pyplot import FormatStrFormatter\n",
    "import scipy.stats as scp\n",
    "import scipy.optimize as sco"
   ]
  },
  {
   "cell_type": "code",
   "execution_count": null,
   "id": "d15d20bc-654e-42e4-9eec-6b80a1f76f38",
   "metadata": {},
   "outputs": [],
   "source": [
    "# Toggle as needed\n",
    "import warnings\n",
    "warnings.filterwarnings(\"ignore\")"
   ]
  },
  {
   "cell_type": "markdown",
   "id": "5eec5db5-7697-49a4-875e-ae3fa57267cc",
   "metadata": {},
   "source": [
    "# Load Data"
   ]
  },
  {
   "cell_type": "code",
   "execution_count": null,
   "id": "29098122-cc9f-4a3b-8290-2a11dff162cd",
   "metadata": {},
   "outputs": [],
   "source": [
    "# Set this to your source_data directory\n",
    "source_data_path = \".../Source Data/\""
   ]
  },
  {
   "cell_type": "code",
   "execution_count": null,
   "id": "2c24dfe1-f26b-4864-9091-f911d9e3f72e",
   "metadata": {},
   "outputs": [],
   "source": [
    "source_data_path_clinical = source_data_path + \"Clinical/\"\n",
    "source_data_path_rna = source_data_path + \"RNA/\"\n",
    "source_data_path_ref = source_data_path + \"Reference/\""
   ]
  },
  {
   "cell_type": "code",
   "execution_count": null,
   "id": "e2705df8-5b4b-4168-a18d-3d77beae0ba6",
   "metadata": {},
   "outputs": [],
   "source": [
    "annot_file = 'Table_S1_Clinical_Annotations.xlsx'\n",
    "su2c_clinical = pd.read_excel(source_data_path_clinical + annot_file,skiprows=2)"
   ]
  },
  {
   "cell_type": "code",
   "execution_count": null,
   "id": "d3d7636b-f6db-4eb9-a410-c317b421d92a",
   "metadata": {},
   "outputs": [],
   "source": [
    "su2c_limma_harm = pd.read_csv(source_data_path_rna + 'SU2C-MARK_Harmonized_Limma_All_v1.txt',sep='\\t')"
   ]
  },
  {
   "cell_type": "code",
   "execution_count": null,
   "id": "4d645dc4-6cc0-42c1-a4c4-ef6d780c8797",
   "metadata": {},
   "outputs": [],
   "source": [
    "su2c_gsea_harm = pd.read_csv(source_data_path_rna + 'SU2C-MARK_Harmonized_GSEA_Hallmark_All_v1.txt',sep='\\t')"
   ]
  },
  {
   "cell_type": "code",
   "execution_count": null,
   "id": "c1236c16-aec0-4d84-8af1-59cdb2ae7848",
   "metadata": {},
   "outputs": [],
   "source": [
    "su2c_rna_harm = pd.read_csv(source_data_path_rna + 'SU2C-MARK_Harmonized_rnaseqc_tpm_v1.gct',skiprows=2,sep='\\t')"
   ]
  },
  {
   "cell_type": "code",
   "execution_count": null,
   "id": "20bea892-90a8-44cf-b1bd-f9da4b6cd01a",
   "metadata": {},
   "outputs": [],
   "source": [
    "ifng_file = 'HALLMARK_INTERFERON_GAMMA_RESPONSE.v7.5.1.tsv'\n",
    "ipro_file = 'Immunoproteasome.tsv'\n",
    "pro_file = 'GOCC_PROTEASOME_COMPLEX.v7.5.1.tsv'"
   ]
  },
  {
   "cell_type": "code",
   "execution_count": null,
   "id": "94adce84-d2ef-4272-ac1a-5f9b35f95d82",
   "metadata": {},
   "outputs": [],
   "source": [
    "go_ifng = pd.read_csv(source_data_path_ref + ifng_file).columns.to_list()"
   ]
  },
  {
   "cell_type": "code",
   "execution_count": null,
   "id": "b71bd0c4-a3a4-4be4-ac30-d45574de02ba",
   "metadata": {},
   "outputs": [],
   "source": [
    "go_pro = pd.read_csv(source_data_path_ref + pro_file).columns.to_list()"
   ]
  },
  {
   "cell_type": "code",
   "execution_count": null,
   "id": "69b8b2b6-f9e5-4522-be1b-1b32cea43919",
   "metadata": {},
   "outputs": [],
   "source": [
    "go_ipro = pd.read_csv(source_data_path_ref + ipro_file).columns.to_list()"
   ]
  },
  {
   "cell_type": "markdown",
   "id": "5aa089c5-45f6-494d-a061-a0d7b6a60e24",
   "metadata": {},
   "source": [
    "# Analysis"
   ]
  },
  {
   "cell_type": "markdown",
   "id": "a190c121-482a-4ee7-a0ed-187f3b0ba81e",
   "metadata": {},
   "source": [
    "## Response and Non-Response Associated Genes"
   ]
  },
  {
   "cell_type": "code",
   "execution_count": null,
   "id": "63e38c29-68b7-4ccb-9e2c-b8e673ab78b1",
   "metadata": {},
   "outputs": [],
   "source": [
    "su2c_rna_harm_log = su2c_rna_harm.set_index(['Name','Description']).apply(lambda x: np.log(x+1))"
   ]
  },
  {
   "cell_type": "code",
   "execution_count": null,
   "id": "6472274b-923f-4670-b074-66b0a540c904",
   "metadata": {},
   "outputs": [],
   "source": [
    "df_response = su2c_clinical[['Harmonized_SU2C_RNA_Tumor_Sample_ID_v2','Harmonized_Confirmed_BOR']]"
   ]
  },
  {
   "cell_type": "code",
   "execution_count": null,
   "id": "6474d594-d94e-4730-88ab-994273db6367",
   "metadata": {},
   "outputs": [],
   "source": [
    "df_response['Harmonized_Confirmed_BOR'].replace({'PR':1,'CR':1,'SD':0,'PD':0,'NE':np.nan},inplace=True)"
   ]
  },
  {
   "cell_type": "code",
   "execution_count": null,
   "id": "62aad5b7-249f-4d36-905c-b43fdc9a7963",
   "metadata": {},
   "outputs": [],
   "source": [
    "su2c_limma_harm_up = su2c_limma_harm[su2c_limma_harm['logFC']>0]"
   ]
  },
  {
   "cell_type": "code",
   "execution_count": null,
   "id": "3fa37628-e5d3-4ff6-8e41-d591cd1d31b9",
   "metadata": {},
   "outputs": [],
   "source": [
    "su2c_limma_harm_dn = su2c_limma_harm[su2c_limma_harm['logFC']<0]"
   ]
  },
  {
   "cell_type": "code",
   "execution_count": null,
   "id": "e135c64d-5a27-4e26-b0ef-6dd5d7442b24",
   "metadata": {},
   "outputs": [],
   "source": [
    "top_10_limma_up = su2c_limma_harm_up.sort_values(by='P.Value')['ensembl_gene_id_version'][0:10]"
   ]
  },
  {
   "cell_type": "code",
   "execution_count": null,
   "id": "8c1ac736-d7f6-435c-b898-1debd44ce37f",
   "metadata": {},
   "outputs": [],
   "source": [
    "top_10_limma_dn = su2c_limma_harm_dn.sort_values(by='P.Value')['ensembl_gene_id_version'][0:10]"
   ]
  },
  {
   "cell_type": "code",
   "execution_count": null,
   "id": "bf62119d-7b4d-4691-aeb9-28f7f48d9e7f",
   "metadata": {},
   "outputs": [],
   "source": [
    "df_rna_response_up = su2c_rna_harm_log.reset_index().set_index('Name').loc[top_10_limma_up].reset_index()\\\n",
    "    .melt(id_vars=['Name','Description'])\\\n",
    "    .merge(df_response[['Harmonized_SU2C_RNA_Tumor_Sample_ID_v2','Harmonized_Confirmed_BOR']],\\\n",
    "           left_on='variable',right_on='Harmonized_SU2C_RNA_Tumor_Sample_ID_v2')"
   ]
  },
  {
   "cell_type": "code",
   "execution_count": null,
   "id": "fb8bf249-3277-4ebe-be5c-2815c620803e",
   "metadata": {},
   "outputs": [],
   "source": [
    "fig,ax = plt.subplots(figsize=(14,6))\n",
    "g_s = sns.stripplot(data=df_rna_response_up,x='Description',y='value', hue='Harmonized_Confirmed_BOR',\\\n",
    "              dodge=True,ax=ax)\n",
    "\n",
    "g_b = sns.boxplot(data=df_rna_response_up,x='Description',y='value', hue='Harmonized_Confirmed_BOR',\\\n",
    "                dodge=True,showfliers=False,ax=ax)\n",
    "\n",
    "box_line_col = sns.color_palette('tab10')[0:2]\n",
    "\n",
    "for i in range(0,len(g_b.artists)):\n",
    "    mybox = g_b.artists[i]\n",
    "    idx = i%2\n",
    "    box_col = box_line_col[idx]\n",
    "    mybox.set_edgecolor(box_col)\n",
    "    mybox.set_facecolor('white')\n",
    "\n",
    "    for j in range(i*5,i*5+5):\n",
    "        line = g_b.lines[j]\n",
    "        line.set_color(box_col)\n",
    "        line.set_mfc(box_col)\n",
    "        line.set_mec(box_col)\n",
    "\n",
    "handles, labels = ax.get_legend_handles_labels()\n",
    "ax.legend(handles[2:], ['Non-responder (SD/PD)','Responder (PR/CR)'],ncol=2,\n",
    "          loc='upper center',bbox_to_anchor=(0.5,1.1),frameon=False,fontsize=14)\n",
    "     \n",
    "_ = ax.set_xlabel(\"\",font='Arial',weight='bold',fontsize=20,labelpad = 14)\n",
    "_ = ax.set_ylabel(\"ln(TPM + 1)\",font='Arial',weight='bold',fontsize=20,labelpad=14)\n",
    "_ = ax.set_xticklabels(ax.get_xticklabels(),font='Arial',weight='bold',style='italic',fontsize=18)\n",
    "_ = ax.set_yticklabels(np.round(ax.get_yticks(),0),font='Arial',weight='bold',fontsize=18)            \n",
    "\n",
    "ax.yaxis.set_major_formatter(FormatStrFormatter('%.0f'))\n",
    "plt.setp(ax.get_legend().get_texts(), font='Arial',fontsize=20,weight='bold')\n",
    "[ymin,ymax] = ax.get_ylim()\n",
    "_=plt.ylim(ymin,ymax)"
   ]
  },
  {
   "cell_type": "code",
   "execution_count": null,
   "id": "1812a0cc-7437-448b-9104-613c1c56430a",
   "metadata": {},
   "outputs": [],
   "source": [
    "df_rna_response_dn = su2c_rna_harm_log.reset_index().set_index('Name').loc[top_10_limma_dn].reset_index()\\\n",
    "    .melt(id_vars=['Name','Description'])\\\n",
    "    .merge(df_response[['Harmonized_SU2C_RNA_Tumor_Sample_ID_v2','Harmonized_Confirmed_BOR']],\\\n",
    "           left_on='variable',right_on='Harmonized_SU2C_RNA_Tumor_Sample_ID_v2')"
   ]
  },
  {
   "cell_type": "code",
   "execution_count": null,
   "id": "6f2c8e80-9ac8-4fa6-bfd1-30412cc3b57d",
   "metadata": {},
   "outputs": [],
   "source": [
    "fig,ax = plt.subplots(figsize=(14,6))\n",
    "g_s = sns.stripplot(data=df_rna_response_dn,x='Description',y='value', hue='Harmonized_Confirmed_BOR',\\\n",
    "              dodge=True,ax=ax)\n",
    "\n",
    "g_b = sns.boxplot(data=df_rna_response_dn,x='Description',y='value', hue='Harmonized_Confirmed_BOR',\\\n",
    "                dodge=True,showfliers=False,ax=ax)\n",
    "\n",
    "box_line_col = sns.color_palette('tab10')[0:2]\n",
    "\n",
    "for i in range(0,len(g_b.artists)):\n",
    "    mybox = g_b.artists[i]\n",
    "    idx = i%2\n",
    "    box_col = box_line_col[idx]\n",
    "    mybox.set_edgecolor(box_col)\n",
    "    mybox.set_facecolor('white')\n",
    "\n",
    "    for j in range(i*5,i*5+5):\n",
    "        line = g_b.lines[j]\n",
    "        line.set_color(box_col)\n",
    "        line.set_mfc(box_col)\n",
    "        line.set_mec(box_col)\n",
    "\n",
    "handles, labels = ax.get_legend_handles_labels()\n",
    "ax.legend(handles[2:], ['Non-responder (SD/PD)','Responder (PR/CR)'],ncol=2,loc = 'upper center',\n",
    "          bbox_to_anchor=(0.5,1.1),frameon=False,fontsize=14)\n",
    "     \n",
    "_ = ax.set_xlabel(\"\",font='Arial',weight='bold',fontsize=16,labelpad = 14)\n",
    "_ = ax.set_ylabel(\"ln(TPM + 1)\",font='Arial',weight='bold',fontsize=20,labelpad=14)\n",
    "_ = ax.set_xticklabels(ax.get_xticklabels(),font='Arial',weight='bold',style='italic',fontsize=18)\n",
    "_ = ax.set_yticklabels(np.round(ax.get_yticks(),0),font='Arial',weight='bold',fontsize=18)            \n",
    "\n",
    "ax.yaxis.set_major_formatter(FormatStrFormatter('%.0f'))\n",
    "plt.setp(ax.get_legend().get_texts(), font='Arial',fontsize=20,weight='bold')\n",
    "[ymin,ymax] = ax.get_ylim()\n",
    "_ = plt.ylim(ymin,ymax)"
   ]
  },
  {
   "cell_type": "markdown",
   "id": "b6d4ad3a-dc26-4c7d-b7ea-5d5ae8bc9e13",
   "metadata": {},
   "source": [
    "## Immunoproteasome Subunit Volcano Plot"
   ]
  },
  {
   "cell_type": "code",
   "execution_count": null,
   "id": "54b28c05-8120-4c7b-a7d5-dcb750cf91ca",
   "metadata": {},
   "outputs": [],
   "source": [
    "df_all = su2c_limma_harm\n",
    "df = df_all\n",
    "df['hue'] = 1\n",
    "df_ipro = df[df['hgnc_symbol'].isin(go_ipro)]\n",
    "df_pro = df[df['hgnc_symbol'].isin(go_pro)]\n",
    "df_ifng = df[df['hgnc_symbol'].isin(go_ifng)]\n",
    "df_ifn = df[df['hgnc_symbol'].isin(['IFNG'])]\n",
    "df_list = [df_ipro, df_pro, df_ifng, df_ifn]\n",
    "fig,ax = plt.subplots(figsize=(6,6))\n",
    "palette_list = [sns.color_palette(\"tab10\")[2],sns.color_palette(\"tab10\")[1],sns.color_palette(\"tab10\")[0]]\n",
    "label_list = ['Immunoproteasome','Proteasome','$\\it{IFNG}$ Targets','Interferon Gamma']\n",
    "alpha_list = [1,1,1,1]\n",
    "\n",
    "for i in [2,1,0]:\n",
    "    df = df_list[i]\n",
    "    x = df['logFC']\n",
    "    y = df['P.Value']\n",
    "    h = sns.scatterplot(x=x,y=-np.log10(y),ax=ax,s=100,alpha=alpha_list[i],hue=df['hue'],palette=[palette_list[i]],\\\n",
    "                       legend=None,label=label_list[i])\n",
    "        \n",
    "plt.xlim(-2,2)\n",
    "plt.ylim(0,7.3)\n",
    "xmin = ax.get_xlim()[0]\n",
    "xmax = ax.get_xlim()[1]\n",
    "ymin = ax.get_ylim()[0]\n",
    "ymax = ax.get_ylim()[1]\n",
    "plt.hlines(y=-np.log10(.05),xmin=xmin,xmax=xmax,linestyles='dashed',colors='k',alpha=0.3)\n",
    "plt.vlines(x=0.5,ymin=ymin,ymax=ymax,linestyles='dashed',colors='k',alpha=0.3)\n",
    "plt.vlines(x=-0.5,ymin=ymin,ymax=ymax,linestyles='dashed',colors='k',alpha=0.3)\n",
    "plt.xlabel('Coefficient',labelpad=10,fontname='Arial',size=18,fontweight='bold')\n",
    "plt.ylabel('-log10p',labelpad=10,size=18,fontweight='bold')\n",
    "_ = ax.set_xlabel(\"$\\mathregular{log_{2}(Fold Change)}$\",font='Arial',weight='bold',fontsize=18,labelpad = 14)\n",
    "_ = ax.set_ylabel(\"$\\mathregular{-log_{10}(p-value)}$\",font='Arial',weight='bold',fontsize=20,labelpad=14)\n",
    "_ = ax.set_xticklabels(ax.get_xticks(),font='Arial',weight='bold',fontsize=20)\n",
    "_ = ax.set_yticklabels(np.round(ax.get_yticks(),1),font='Arial',weight='bold',fontsize=20)            \n",
    "ax.yaxis.set_major_formatter(FormatStrFormatter('%.0f'))\n",
    "ax.xaxis.set_major_formatter(FormatStrFormatter('%.1f'))\n",
    "_ = plt.legend(title=None,prop={'size':18,'family':'Arial','weight':'bold'},\\\n",
    "           markerscale=1,loc='upper left',frameon=False)"
   ]
  },
  {
   "cell_type": "markdown",
   "id": "2cbfeac2-f040-41b1-aba9-942cb705a1f7",
   "metadata": {},
   "source": [
    "## Immunoproteasome Features"
   ]
  },
  {
   "cell_type": "code",
   "execution_count": null,
   "id": "c9101046-b338-42e4-924a-7842cf3bc1ce",
   "metadata": {},
   "outputs": [],
   "source": [
    "df_all = su2c_limma_harm\n",
    "df = df_all\n",
    "df['hue'] = 1\n",
    "df_ipro = df[df['hgnc_symbol'].isin(go_ipro)]\n",
    "df_pro = df[df['hgnc_symbol'].isin(go_pro)]\n",
    "df_ifng = df[df['hgnc_symbol'].isin(go_ifng)]\n",
    "df_ifn = df[df['hgnc_symbol'].isin(['IFNG'])]\n",
    "\n",
    "df_ipro['set'] = 'Immunoproteasome'\n",
    "df_pro['set'] = 'Proteasome'\n",
    "df_ifng['set'] = 'Interferon Gamma Targets'\n",
    "\n",
    "df_pool = pd.concat([df_ifng,df_pro,df_ipro],axis=0)"
   ]
  },
  {
   "cell_type": "code",
   "execution_count": null,
   "id": "7f916a8e-1d21-49df-8a04-01778af089a4",
   "metadata": {},
   "outputs": [],
   "source": [
    "df_pool['signed_log10p'] = np.sign(df_pool['logFC'])*-np.log10(df_pool['P.Value'])"
   ]
  },
  {
   "cell_type": "code",
   "execution_count": null,
   "id": "e472dbf1-df75-4e99-83f0-02e389961c36",
   "metadata": {},
   "outputs": [],
   "source": [
    "fig,ax = plt.subplots(figsize=(4,5))\n",
    "g_s = sns.stripplot(data=df_pool,x='set',y='signed_log10p',\\\n",
    "              dodge=True,ax=ax)\n",
    "\n",
    "g_b = sns.boxplot(data=df_pool,x='set',y='signed_log10p',\\\n",
    "                dodge=True,showfliers=False,ax=ax)\n",
    "\n",
    "box_line_col = sns.color_palette('tab10')[0:3]\n",
    "\n",
    "for i in range(0,len(g_b.artists)):\n",
    "    mybox = g_b.artists[i]\n",
    "    idx = i%3\n",
    "    box_col = box_line_col[idx]\n",
    "    mybox.set_edgecolor(box_col)\n",
    "    mybox.set_facecolor('white')\n",
    "\n",
    "    for j in range(i*5,i*5+5):\n",
    "        line = g_b.lines[j]\n",
    "        line.set_color(box_col)\n",
    "        line.set_mfc(box_col)\n",
    "        line.set_mec(box_col)\n",
    "\n",
    "handles, labels = ax.get_legend_handles_labels()\n",
    "     \n",
    "_ = ax.set_xlabel(\"\",font='Arial',weight='bold',fontsize=16,labelpad = 14)\n",
    "_ = ax.set_ylabel(\"signed $\\mathregular{log_{10}(p-value)}$\",font='Arial',weight='bold',fontsize=14,labelpad=14)\n",
    "_ = ax.set_xticklabels(['Interferon\\nGamma\\nTargets','Proteasome\\nSubunits','Immuno-\\nproteasome\\nSubunits'],font='Arial',weight='bold',fontsize=12)\n",
    "_ = ax.set_yticklabels(np.round(ax.get_yticks(),0),font='Arial',weight='bold',fontsize=12)            \n",
    "\n",
    "ax.yaxis.set_major_formatter(FormatStrFormatter('%.0f'))\n",
    "[ymin,ymax] = ax.get_ylim()\n",
    "_=plt.ylim(ymin,ymax)"
   ]
  },
  {
   "cell_type": "markdown",
   "id": "118ed242-6a01-4d30-9e8a-3e0397d9a869",
   "metadata": {},
   "source": [
    "## Immunoproteasome Subunit Expression"
   ]
  },
  {
   "cell_type": "code",
   "execution_count": null,
   "id": "6686d867-e04e-47fd-a345-fae9df822bf6",
   "metadata": {},
   "outputs": [],
   "source": [
    "df_rna_ipro = su2c_rna_harm_log.reset_index().drop('Name',axis=1).set_index('Description').loc[go_ipro+['IFNG','TNF']]"
   ]
  },
  {
   "cell_type": "code",
   "execution_count": null,
   "id": "9f69db57-59b4-4bf3-9229-f0fce7557bb5",
   "metadata": {},
   "outputs": [],
   "source": [
    "df_response = su2c_clinical[['Harmonized_SU2C_RNA_Tumor_Sample_ID_v2','Harmonized_Confirmed_BOR']]"
   ]
  },
  {
   "cell_type": "code",
   "execution_count": null,
   "id": "2370d181-fd29-42ba-bdf3-1fe7ab3b91b5",
   "metadata": {},
   "outputs": [],
   "source": [
    "df_response['Harmonized_Confirmed_BOR'].replace({'PR':'PR/CR','CR':'PR/CR','SD':'SD','PD':'PD','NE':np.nan},inplace=True)"
   ]
  },
  {
   "cell_type": "code",
   "execution_count": null,
   "id": "daee6a86-6a8c-4d1f-8ba2-27f82a5f51c5",
   "metadata": {},
   "outputs": [],
   "source": [
    "df_rna_ipro_response = df_rna_ipro.T.merge(df_response,left_index=True,right_on='Harmonized_SU2C_RNA_Tumor_Sample_ID_v2')"
   ]
  },
  {
   "cell_type": "code",
   "execution_count": null,
   "id": "cdbd107f-04b7-4ee3-a017-2c915d7debba",
   "metadata": {},
   "outputs": [],
   "source": [
    "with sns.plotting_context(rc={\"axes.labelsize\":14,\"font.family\":'Arial'}):\n",
    "    plt.figure(figsize=(10,10))\n",
    "    pp = sns.pairplot(df_rna_ipro_response.drop('TNF',axis=1),kind='reg')\n",
    "\n",
    "for ax in pp.axes.flat[::6]:\n",
    "    ax.set_ylabel(ax.get_ylabel()+'\\nln(TPM+1)',style='italic',weight='bold')\n",
    "    ax.set_ylim(0,7)\n",
    "    ax.set_yticks([0,2,4,6])\n",
    "    ax.set_yticklabels(['0','2','4','6'],weight='bold',size=14)\n",
    "for ax in pp.axes.flat[-6:]:\n",
    "    ax.set_xlabel(ax.get_xlabel()+'\\nln(TPM+1)',style='italic',weight='bold')\n",
    "    ax.set_xlim(0,7)\n",
    "    ax.set_xticks([0,2,4,6])\n",
    "    ax.set_xticklabels(['0','2','4','6'],weight='bold',size=14)"
   ]
  },
  {
   "cell_type": "code",
   "execution_count": null,
   "id": "630dd65f-8a01-4935-9a5f-2e379211ccf6",
   "metadata": {},
   "outputs": [],
   "source": [
    "plot_width = 600\n",
    "plot_height = 800\n",
    "num_contours = 16\n",
    "\n",
    "def Plot_Contours(fit_function, vals, params):\n",
    "    f = plt.figure(figsize=(plot_width/100.0, plot_height/100.0), dpi=100)\n",
    "    axes = f.add_subplot(111)\n",
    "\n",
    "    x_vals = vals[0]\n",
    "    y_vals = vals[1]\n",
    "    z_vals = vals[2]\n",
    "\n",
    "    xModel = np.linspace(min(x_vals), max(x_vals), 20)\n",
    "    yModel = np.linspace(min(y_vals), max(y_vals), 20)\n",
    "    X, Y = np.meshgrid(xModel, yModel)\n",
    "    Z = fit_function(np.array([X, Y]), *params)\n",
    "\n",
    "    axes.set_xlabel('$\\it{IFNG}$\\nln(TPM + 1)',font='Arial',weight='bold',fontsize=14,labelpad=10) # X axis vals label\n",
    "    axes.set_ylabel('$\\it{TNF}$\\nln(TPM + 1)',font='Arial',weight='bold',fontsize=14,labelpad=10) # Y axis vals label\n",
    "    CS = plt.contourf(X, Y, Z, num_contours, cmap='coolwarm')\n",
    "    cbar = plt.colorbar(orientation='horizontal')\n",
    "    cbar.set_label(label='$\\it{PSMB8}$ Modeled\\nln(TPM + 1)',size=14)\n",
    "    cbar.ax.tick_params(labelsize=13)\n",
    "    sns.scatterplot(x=x_vals,y=y_vals, hue=z_vals)\n",
    "    _ = axes.set_xticklabels(axes.get_xticks(),font='Arial',weight='bold',fontsize=14)\n",
    "    _ = axes.set_yticklabels(axes.get_yticks(),font='Arial',weight='bold',fontsize=14)            \n",
    "    axes.legend(title='$\\it{PSMB8}$',fontsize=14,title_fontsize=14)    \n",
    "    plt.show()\n",
    "\n",
    "def fit_function(vals, a, b, c):\n",
    "    x = vals[0]\n",
    "    y = vals[1]\n",
    "    return (a * x) + (y * b) + c\n",
    "\n",
    "if __name__ == \"__main__\":\n",
    "    x_vals = df_rna_ipro_response['IFNG']\n",
    "    y_vals = df_rna_ipro_response['TNF']\n",
    "    z_vals = df_rna_ipro_response['PSMB8']\n",
    "    vals = [x_vals,y_vals,z_vals]\n",
    "    \n",
    "    initialParameters = [1.0, 1.0, 1.0]\n",
    "    params, pcov = sco.curve_fit(fit_function, [x_vals, y_vals], z_vals, p0 = initialParameters)\n",
    "    Plot_Contours(fit_function,vals,params)"
   ]
  }
 ],
 "metadata": {
  "kernelspec": {
   "display_name": "Python 3 (ipykernel)",
   "language": "python",
   "name": "python3"
  },
  "language_info": {
   "codemirror_mode": {
    "name": "ipython",
    "version": 3
   },
   "file_extension": ".py",
   "mimetype": "text/x-python",
   "name": "python",
   "nbconvert_exporter": "python",
   "pygments_lexer": "ipython3",
   "version": "3.8.18"
  }
 },
 "nbformat": 4,
 "nbformat_minor": 5
}
