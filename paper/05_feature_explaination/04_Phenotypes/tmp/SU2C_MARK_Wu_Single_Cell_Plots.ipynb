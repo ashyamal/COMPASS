{
 "cells": [
  {
   "cell_type": "markdown",
   "id": "027b55c3-b70f-4925-9ed3-f0b585eccb42",
   "metadata": {
    "tags": []
   },
   "source": [
    "# import packages"
   ]
  },
  {
   "cell_type": "code",
   "execution_count": null,
   "id": "76969447-e342-4f2a-abe5-dfbdd2476f27",
   "metadata": {
    "tags": []
   },
   "outputs": [],
   "source": [
    "import sys\n",
    "import os\n",
    "import psutil\n",
    "import gc\n",
    "import sklearn.neighbors._base\n",
    "sys.modules['sklearn.neighbors.base'] = sklearn.neighbors._base\n",
    "import random\n",
    "import numpy as np\n",
    "import pandas as pd\n",
    "import scipy as sp\n",
    "from scipy.sparse import csr_matrix\n",
    "from scipy import io\n",
    "from scipy.stats import zscore\n",
    "import anndata as ad\n",
    "import scanpy as sc\n",
    "import h5py\n",
    "import matplotlib.pyplot as plt\n",
    "from matplotlib.pyplot import figure\n",
    "import seaborn as sea\n",
    "from pylab import rcParams\n",
    "from signatureanalyzer.utils import postprocess_msigs, get_nlogs_from_output, select_markers\n",
    "from os import listdir\n",
    "from os.path import isfile, join\n",
    "import copy as cp\n",
    "import warnings"
   ]
  },
  {
   "cell_type": "code",
   "execution_count": null,
   "id": "d402196d-d26a-49e2-a0a1-4ffcde8a7eba",
   "metadata": {},
   "outputs": [],
   "source": [
    "# Toggle as needed\n",
    "warnings.filterwarnings(\"ignore\")"
   ]
  },
  {
   "cell_type": "code",
   "execution_count": null,
   "id": "7f30df01-eb14-4d45-82ef-d19c386b5c64",
   "metadata": {},
   "outputs": [],
   "source": [
    "# Set this to your source_data directory\n",
    "source_data_path = \".../Source Data/\""
   ]
  },
  {
   "cell_type": "markdown",
   "id": "9aa32feb-ace7-4416-b3cf-cdaeaf6810aa",
   "metadata": {
    "tags": []
   },
   "source": [
    "# load data and cancer subtypes"
   ]
  },
  {
   "cell_type": "code",
   "execution_count": null,
   "id": "de33ce54-dc7f-4e22-990e-55ca3350cf80",
   "metadata": {
    "tags": []
   },
   "outputs": [],
   "source": [
    "cancer_subtypes={}\n",
    "\n",
    "cancer_subtypes['DeDifferentiated'] = ['TFF1', 'FGA', 'CPS1']\n",
    "cancer_subtypes['Adeno'] = ['NKX2-1', 'SFTA3', 'SFTPC']\n",
    "cancer_subtypes['Squamous'] = ['KRT5', 'KRT6B', 'TP63']\n",
    "cancer_subtypes[\"Large cell neuroendocrine\"] = ['NCAM1', 'CHGA', 'CHGB']\n",
    "\n",
    "cancer_subtypes_all = {'Cancer subtypes': ['TFF1', 'FGA', 'CPS1', 'NKX2-1', 'SFTA3', 'SFTPC', \n",
    "                                              'KRT5', 'KRT6B', 'TP63', 'NCAM1',   'CHGA',   'CHGB']}\n"
   ]
  },
  {
   "cell_type": "code",
   "execution_count": null,
   "id": "2eb7dcc6-bc04-4b59-b753-50b44d8e5a21",
   "metadata": {},
   "outputs": [],
   "source": [
    "adata  = ad.read('%s/Single_Cell/Wu_integrated_leiden_ann_adata.h5ad.gzip'%(source_data_path))"
   ]
  },
  {
   "cell_type": "markdown",
   "id": "d562c69e-0a73-4502-a6da-251c7213b67f",
   "metadata": {},
   "source": [
    "# cell type umap"
   ]
  },
  {
   "cell_type": "code",
   "execution_count": null,
   "id": "b41c1086-2716-4ec0-b6d0-51a9a184a124",
   "metadata": {},
   "outputs": [],
   "source": [
    "random.seed(123)\n",
    "rcParams['figure.figsize'] = (6,6)\n",
    "sc.pl.umap(adata, color = 'leiden', legend_loc='on data', save=\"_Wu_leiden_number.svg\")\n",
    "sc.pl.umap(adata, color = 'leiden_annotation_min', save=\"_Wu_leiden_cellType.svg\")"
   ]
  },
  {
   "cell_type": "markdown",
   "id": "93327e53-0706-410c-96fe-07c85247c31e",
   "metadata": {},
   "source": [
    "# clustermap markers"
   ]
  },
  {
   "cell_type": "code",
   "execution_count": null,
   "id": "5d100e74-59ae-47f9-a043-c905cc3e8b0f",
   "metadata": {},
   "outputs": [],
   "source": [
    "# get only the columns you want from the csv file\n",
    "target_file = '/Single_Cell/Clustermap_Markers_SU2C - Clustermap_Markers_SU2C.csv'\n",
    "clustermap_markers_df = pd.read_csv(source_data_path + target_file, usecols=['Pathway', 'hgnc_symbol' ], \n",
    "                                    index_col='Pathway')"
   ]
  },
  {
   "cell_type": "code",
   "execution_count": null,
   "id": "2e527fc2-301e-486e-a00c-1b0bd9530f07",
   "metadata": {
    "tags": []
   },
   "outputs": [],
   "source": [
    "result_raw = {}\n",
    "for path in np.unique(clustermap_markers_df.index):\n",
    "    sub_su2c_gene_list = clustermap_markers_df.loc[path, 'hgnc_symbol'].to_list()\n",
    "    su2c_gene_list_inPaper_raw = []\n",
    "    for gene in sub_su2c_gene_list:\n",
    "        if (gene in adata.var.index):\n",
    "            su2c_gene_list_inPaper_raw.append(gene)\n",
    "    result_raw[path] = su2c_gene_list_inPaper_raw\n",
    "    if result_raw[path] == []:\n",
    "        del result_raw[path]\n",
    "su2c_gene_list_raw = np.unique(clustermap_markers_df.loc[:, 'hgnc_symbol'].to_list())"
   ]
  },
  {
   "cell_type": "code",
   "execution_count": null,
   "id": "7efa9428-f5f9-402b-8cf9-6f3f844351ee",
   "metadata": {},
   "outputs": [],
   "source": [
    "result = result_raw"
   ]
  },
  {
   "cell_type": "code",
   "execution_count": null,
   "id": "a44821fa-415d-4036-9d7e-e0ae36af94c8",
   "metadata": {
    "tags": []
   },
   "outputs": [],
   "source": [
    "su2c_gene_markers = {'Wound Healing' : list(np.unique(result['hMono3'] + result['hN3'] + \n",
    "                                                      result['Macrophages/Monocytes'] + result['A2AR'] + \n",
    "                                                      ['PGC', 'PDLIM3'] + result['EMT'] + result['TGF-B'] + \n",
    "                                                      ['ELN', 'MFAP4', 'TBX5', 'GRIA1', 'DES'] + result['NR4A1'] +\n",
    "                                                      ['LGR5', 'BCHE'])),\n",
    "                     \n",
    "                     'Immune Activation/Exhaustion' : list(np.unique(['MT1G', 'PDL1_TPS', 'AZGP1', 'TI-1', 'TME-2'] + \n",
    "                                                                     result['IFNG Signature'] + \n",
    "                                                                     ['CD274', 'PRPF40A', 'CXCL11', 'PSMB9'] + \n",
    "                                                                     result['MHC Class I'] + ['UBD'] + \n",
    "                                                                     result['T Cell Inflamed'] + \n",
    "                                                                     ['IGHV3-48', 'TRBV9']))\n",
    "                    }\n",
    "\n"
   ]
  },
  {
   "cell_type": "code",
   "execution_count": null,
   "id": "75022efb-6456-47e2-8f30-829c1d4fbabd",
   "metadata": {
    "tags": []
   },
   "outputs": [],
   "source": [
    "for key in su2c_gene_markers.keys():\n",
    "    gene_to_rev = []\n",
    "    for gene in su2c_gene_markers[key]:\n",
    "        if gene not in adata.var.index:\n",
    "            gene_to_rev.append(gene)\n",
    "            \n",
    "    for gene in gene_to_rev:\n",
    "        su2c_gene_markers[key].remove(gene)"
   ]
  },
  {
   "cell_type": "markdown",
   "id": "e248e1cb-1e81-43fa-b249-86581c055e61",
   "metadata": {},
   "source": [
    "# metagenes"
   ]
  },
  {
   "cell_type": "code",
   "execution_count": null,
   "id": "59d8b037-876c-4dcd-92ba-8554d6be03ff",
   "metadata": {
    "tags": []
   },
   "outputs": [],
   "source": [
    "df = adata.to_df()\n",
    "metaGenes = list(result.keys())\n",
    "\n",
    "mg_names = []\n",
    "for mGene in metaGenes:\n",
    "    mg_names.append('MG_%s'%(mGene))\n",
    "    df = df.join(pd.Series(df.loc[df.index, result[mGene]].mean(axis = 1), name = 'MG_%s'%(mGene) ))\n",
    "\n",
    "df_sub = df.loc[:, mg_names]\n"
   ]
  },
  {
   "cell_type": "code",
   "execution_count": null,
   "id": "fd835a21-ce7b-4499-9ae9-973474212913",
   "metadata": {
    "tags": []
   },
   "outputs": [],
   "source": [
    "# to merge with raw data\n",
    "metaGenes_adata = ad.concat([adata, ad.AnnData(df_sub)], axis=1, join='inner', \n",
    "                            merge = 'first', uns_merge='first')\n"
   ]
  },
  {
   "cell_type": "markdown",
   "id": "7dc08197-2419-4a4b-820e-36f7b4c680ca",
   "metadata": {},
   "source": [
    "# meta genes TI-1 and TME-2 start here\n"
   ]
  },
  {
   "cell_type": "code",
   "execution_count": null,
   "id": "b7f7965d-4433-476b-b05b-36891fcc152f",
   "metadata": {
    "tags": []
   },
   "outputs": [],
   "source": [
    "TME =pd.read_csv(\"%s/Single_Cell/SU2C-MARK_Supplementary_Table_25_RNA_SU2C-MARK_M_Gene_Weights_Up.txt\"%(source_data_path), sep=\"\\t\")\n",
    "TME = TME.sort_values(\"M-2_loading\", ascending=False)\n",
    "\n",
    "TI =pd.read_csv(\"%s/Single_Cell/SU2C-MARK_Supplementary_Table_30_RNA_TCGA-LCNE_TI_Weights_Up.txt\"%(source_data_path), sep=\"\\t\")\n",
    "TI = TI.sort_values(\"TI-1_loading\", ascending=False)"
   ]
  },
  {
   "cell_type": "markdown",
   "id": "d65b9bf8-b8b1-45d7-8d9a-63a74a93937f",
   "metadata": {
    "tags": []
   },
   "source": [
    "### TI 1 (4 TCGA based signatures) results G3\n"
   ]
  },
  {
   "cell_type": "code",
   "execution_count": null,
   "id": "273a2c2e-1564-412b-9095-885d058f7ec6",
   "metadata": {
    "tags": []
   },
   "outputs": [],
   "source": [
    "common_TI_1 = TI.loc[TI['Hugo_Symbol'].isin(adata.var.index).to_list(), :]\n",
    "common_TI_1 = common_TI_1.sort_values(\"TI-1_loading\", ascending=False)\n",
    "common_TI_1_adata = adata[:, adata.var.index.isin(TI[\"Hugo_Symbol\"])]\n",
    "common_TI_1_genes = common_TI_1[\"Hugo_Symbol\"]"
   ]
  },
  {
   "cell_type": "code",
   "execution_count": null,
   "id": "cd51b1f1-3b8f-412d-8277-984f6fe537e3",
   "metadata": {
    "tags": []
   },
   "outputs": [],
   "source": [
    "weighted_TI_df = adata[:, common_TI_1_genes].to_df()\n"
   ]
  },
  {
   "cell_type": "code",
   "execution_count": null,
   "id": "48d0fac0-6f94-4e5c-b3a3-5eadcd9ec472",
   "metadata": {},
   "outputs": [],
   "source": [
    "common_TI_1 = TI.loc[TI['Hugo_Symbol'].isin(adata.var.index).to_list(), :]\n",
    "\n",
    "i=10\n",
    "top_i_TI_1 = TI.iloc[0:i, :]\n",
    "top_is_in_adata_ti = top_i_TI_1['Hugo_Symbol'].isin(adata.var.index).to_list()\n",
    "top_i_TI_1genes = top_i_TI_1.loc[top_is_in_adata_ti, \"Hugo_Symbol\"].to_list()\n",
    "weighted_TI_df[\"MG_TI_Top_%s\"%(i)] = weighted_TI_df[top_i_TI_1genes].mean(axis=1)"
   ]
  },
  {
   "cell_type": "code",
   "execution_count": null,
   "id": "4ec61cd4-f514-4eb9-8f39-30d3f00f1afd",
   "metadata": {},
   "outputs": [],
   "source": [
    "weighted_TI_adata_data = ad.AnnData(weighted_TI_df)\n",
    "weighted_TI_adata_data.obs = common_TI_1_adata.obs"
   ]
  },
  {
   "cell_type": "markdown",
   "id": "9944d907-457b-4b7a-80af-28acc803d646",
   "metadata": {},
   "source": [
    "### TME 2 (3 SU2C based signatures) results G1\n"
   ]
  },
  {
   "cell_type": "code",
   "execution_count": null,
   "id": "1de949a4-1fe4-4f24-9b0f-079e9630e3ca",
   "metadata": {
    "tags": []
   },
   "outputs": [],
   "source": [
    "common_TME_2 = TME.loc[TME['Hugo_Symbol'].isin(adata.var.index).to_list(), :]\n",
    "common_TME_2 = common_TME_2.sort_values(\"M-2_loading\", ascending=False)\n",
    "common_TME_2_adata = adata[:, adata.var.index.isin(common_TME_2[\"Hugo_Symbol\"])] \n",
    "common_TME_2_genes = common_TME_2[\"Hugo_Symbol\"]\n",
    "common_TME_2_genes_unique = np.unique(common_TME_2_genes)"
   ]
  },
  {
   "cell_type": "code",
   "execution_count": null,
   "id": "35c17297-3ff6-458f-b605-dc790cc68800",
   "metadata": {
    "tags": []
   },
   "outputs": [],
   "source": [
    "weighted_TME_df = adata[:, common_TME_2_genes_unique].to_df()"
   ]
  },
  {
   "cell_type": "code",
   "execution_count": null,
   "id": "96fa1c6b-e278-473a-99ff-4de2cfe8c3bc",
   "metadata": {
    "tags": []
   },
   "outputs": [],
   "source": [
    "i = 10 \n",
    "top_i_TME_2 = TME.iloc[0:i, :]\n",
    "top_is_in_adata_tme = top_i_TME_2['Hugo_Symbol'].isin(adata.var.index).to_list()\n",
    "top_i_TME_2genes = top_i_TME_2.loc[top_is_in_adata_tme, \"Hugo_Symbol\"].to_list()    \n",
    "weighted_TME_df[\"MG_TME_Top_%s\"%(i)] = weighted_TME_df[top_i_TME_2genes].mean(axis=1)"
   ]
  },
  {
   "cell_type": "code",
   "execution_count": null,
   "id": "ce1eacf7-fb61-4306-88ce-5c77a8c5d7f3",
   "metadata": {},
   "outputs": [],
   "source": [
    "weighted_TME_adata_data = ad.AnnData(weighted_TME_df)\n",
    "weighted_TME_adata_data.obs =  common_TME_2_adata.obs"
   ]
  },
  {
   "cell_type": "markdown",
   "id": "6e31a213-9e6a-4303-9e06-7f22c8e60832",
   "metadata": {},
   "source": [
    "## select best TI and TME meta gene"
   ]
  },
  {
   "cell_type": "code",
   "execution_count": null,
   "id": "d1cb8774-264b-453a-8c86-f8c077cd43c9",
   "metadata": {},
   "outputs": [],
   "source": [
    "# merge TI and TME adata data for later selection of best version of meta gene calculation\n",
    "immune_adata = ad.concat([weighted_TI_adata_data, weighted_TME_adata_data], axis=1)\n",
    "immune_adata.var_names_make_unique()\n",
    "immune_adata.obs =  weighted_TME_adata_data.obs\n"
   ]
  },
  {
   "cell_type": "code",
   "execution_count": null,
   "id": "7d41ed97-40bf-4f87-96fd-636008c67c65",
   "metadata": {},
   "outputs": [],
   "source": [
    "imm_ann = ad.AnnData(immune_adata.to_df().loc[:,['MG_TME_Top_10', 'MG_TI_Top_10']])\n"
   ]
  },
  {
   "cell_type": "markdown",
   "id": "36fa0d46-7725-480d-8746-3c6e91913ab6",
   "metadata": {
    "tags": []
   },
   "source": [
    "## write metagene adata"
   ]
  },
  {
   "cell_type": "code",
   "execution_count": null,
   "id": "930409af-a30c-4f34-ad46-6eb2219f0438",
   "metadata": {},
   "outputs": [],
   "source": [
    "madata = ad.concat([metaGenes_adata, imm_ann], axis=1, join='inner', merge = 'first', uns_merge='first')\n",
    "\n",
    "for cell in madata.obs.index:\n",
    "    l = madata.obs.loc[cell, 'leiden']\n",
    "    cell_type = madata.obs.loc[cell, 'leiden_annotation_min']\n",
    "    madata.obs.loc[cell, 'leiden_annotation_pair'] = '%s-%s'%(cell_type, l)\n",
    "    "
   ]
  },
  {
   "cell_type": "markdown",
   "id": "06765b9f-7b24-4e70-94ad-0910202000d9",
   "metadata": {},
   "source": [
    "## updated marker lists"
   ]
  },
  {
   "cell_type": "code",
   "execution_count": null,
   "id": "e9013e59-605a-4b56-a4ea-6f167ccef86f",
   "metadata": {
    "tags": []
   },
   "outputs": [],
   "source": [
    "ordered_su2c_gene_markers_list = ['MG_hMono3', \n",
    "                                  'MG_hN3',\n",
    "                                  'MG_Macrophages/Monocytes',\n",
    "                                  'MG_A2AR',\n",
    "                                  'NHSL2',\n",
    "                                  'MG_EMT',\n",
    "                                  'MG_TGF-B',\n",
    "                                  'SIPA1L2',\n",
    "                                  'MG_NR4A1',\n",
    "                                  'AUTS2',\n",
    "                                  'TCF7L1',\n",
    "                                  'PRPF40A',\n",
    "                                  'MG_T Cell Inflamed',\n",
    "                                  'PSMB9',\n",
    "                                  'MG_MHC Class I',\n",
    "                                  'PSME1',\n",
    "                                  'PSME2',\n",
    "                                  'MG_TME_Top_10',\n",
    "                                  'MG_TI_Top_10']\n"
   ]
  },
  {
   "cell_type": "markdown",
   "id": "c9e3381d-72dd-4e33-af4c-bdb805a437a5",
   "metadata": {},
   "source": [
    "# final figure plots "
   ]
  },
  {
   "cell_type": "markdown",
   "id": "54180a63-3d97-4d1f-af0e-2c68174a91da",
   "metadata": {},
   "source": [
    "### subset to only cancer"
   ]
  },
  {
   "cell_type": "code",
   "execution_count": null,
   "id": "0e90b909-dec0-48f1-8881-9f1beaa2b8ea",
   "metadata": {},
   "outputs": [],
   "source": [
    "np.unique(madata.obs[\"leiden_annotation_pair\"])\n",
    "cancer_annPair = ['Cancer-Adeno-10', 'Cancer-Adeno-21', 'Cancer-Adeno/Squamous-1', \n",
    "               'Cancer-Adeno/Squamous-22', 'Cancer-DeDifferentiated-12', 'Cancer-Squamous-0', \n",
    "               'Cancer-Squamous-11', 'Cancer-Squamous-16', 'Cancer-Squamous-23', 'Cancer-Squamous-3', \n",
    "               'Cancer-Squamous-6', 'Cancer-Squamous-7', 'Cancer-Squamous-8']\n",
    "cancer_adata = madata[madata.obs[\"leiden_annotation_pair\"].isin(cancer_annPair)]"
   ]
  },
  {
   "cell_type": "markdown",
   "id": "a16a12cf-729f-4804-8c27-e75ba6ccad95",
   "metadata": {},
   "source": [
    "### cancer subtype"
   ]
  },
  {
   "cell_type": "code",
   "execution_count": null,
   "id": "4e5f839e-3471-488f-85f1-e976224b8d04",
   "metadata": {},
   "outputs": [],
   "source": [
    "sc.pl.dotplot(adata = cancer_adata, var_names=cancer_subtypes, \n",
    "              groupby='leiden_annotation_pair', save= \"_cancer_subtypes.svg\")\n"
   ]
  },
  {
   "cell_type": "markdown",
   "id": "16cb62a5-e76c-4bb6-a7e1-f100ca313b90",
   "metadata": {},
   "source": [
    "## limma response and nonresopnse associated"
   ]
  },
  {
   "cell_type": "code",
   "execution_count": null,
   "id": "af2ab525-36f3-4b0c-9a32-c003159eb2b0",
   "metadata": {
    "tags": []
   },
   "outputs": [],
   "source": [
    "# Limma on pre data\n",
    "revised_limma = pd.read_csv('%s/RNA/SU2C-MARK_Harmonized_Limma_All_v1.txt'%(source_data_path), sep=\"\\t\", index_col=0)\n",
    "revised_limma_top_genes = revised_limma.sort_values(\"P.Value\", ascending=True)[0:100]"
   ]
  },
  {
   "cell_type": "code",
   "execution_count": null,
   "id": "47a324c1-2a42-4346-8491-258483d941be",
   "metadata": {
    "tags": []
   },
   "outputs": [],
   "source": [
    "limma_results= revised_limma\n",
    "limma_results.set_index('hgnc_symbol', drop=True, inplace=True)\n",
    "limma_results[\"-log10p\"] = -np.log10(limma_results['P.Value'])\n"
   ]
  },
  {
   "cell_type": "code",
   "execution_count": null,
   "id": "21c1ffbd-27c8-42f5-ba69-b8cc9eb704de",
   "metadata": {
    "tags": []
   },
   "outputs": [],
   "source": [
    "genelist_responce_topP = limma_results[limma_results['logFC']>0].sort_values(\"P.Value\", \n",
    "                                                                             ascending= True)[0:10].index.to_list()\n",
    "\n",
    "genelist_resist_topP = limma_results[limma_results['logFC']<0].sort_values(\"P.Value\", \n",
    "                                                                           ascending= True)[0:10].index.to_list()\n",
    "\n"
   ]
  },
  {
   "cell_type": "code",
   "execution_count": null,
   "id": "50563d9c-1db2-4cd3-9a59-fa42c725c03e",
   "metadata": {},
   "outputs": [],
   "source": [
    "limma_sup_markers = {\n",
    "    \"Response\":genelist_responce_topP,\n",
    "    \"Non-response\":genelist_resist_topP,\n",
    "}"
   ]
  },
  {
   "cell_type": "code",
   "execution_count": null,
   "id": "c3ca6949-4fa8-4d3d-8f05-82ff469228ef",
   "metadata": {
    "tags": []
   },
   "outputs": [],
   "source": [
    "sc.pl.dotplot(adata=madata, var_names=limma_sup_markers[\"Non-response\"], groupby='leiden_annotation_pair', \n",
    "              title=\"Leiden expression of non-response genes\", var_group_rotation=0, save= \"_non_response_limma_updated.svg\")\n",
    "sc.pl.dotplot(adata=madata, var_names=limma_sup_markers[\"Response\"], groupby='leiden_annotation_pair', \n",
    "              title=\"Leiden expression of response genes\", var_group_rotation=0, save= \"_response_limma_updated.svg\")"
   ]
  },
  {
   "cell_type": "markdown",
   "id": "6dea65a8-5027-4406-a0e8-42e5853ce525",
   "metadata": {},
   "source": [
    "## Update column names for meta gene dotplot figure "
   ]
  },
  {
   "cell_type": "code",
   "execution_count": null,
   "id": "30c02216-e027-419b-aec7-c833c82018da",
   "metadata": {},
   "outputs": [],
   "source": [
    "renamed_ordered_su2c_gene_markers = {'Wound Healing': ['hMono3 (Zilionas et al.)',\n",
    "                                                       'hN3 (Zilionas et al.)',\n",
    "                                                       'Macrophages/Monocytes (Sade-Feldman et al.)',\n",
    "                                                       'A2AR (Willingham et al.)',\n",
    "                                                       '$\\it{NHSL2}$ Expression',\n",
    "                                                       'EMT (Hedegaard et al.)',\n",
    "                                                       'TGF-B (Mariathasan et al.)',\n",
    "                                                       '$\\it{SIPA1L2}$ Expression',\n",
    "                                                       'NR4A1 (Chen et al.)',\n",
    "                                                       '$\\it{AUTS2}$ Expression',\n",
    "                                                       '$\\it{TCF7L1}$ Expression'],\n",
    "                                     'Immune Activation/Exhaustion': ['$\\it{PRPF40A}$ Expression',\n",
    "                                                                      'T cell-inflamed (Ayers et al.)',\n",
    "                                                                      '$\\it{PSMB9}$ Expression',\n",
    "                                                                      'MHC Class I (Senbabaoglu et al.)',\n",
    "                                                                      '$\\it{PSME1}$ Expression',\n",
    "                                                                      '$\\it{PSME2}$ Expression',\n",
    "                                                                      'De-differentiated (TI-1)',\n",
    "                                                                      'Immune Activated (M-2)']\n",
    "                                    }\n"
   ]
  },
  {
   "cell_type": "code",
   "execution_count": null,
   "id": "c7824e11-d038-4cd7-81c7-0f68a630cd49",
   "metadata": {},
   "outputs": [],
   "source": [
    "tempdict = {'MG_hMono3':'hMono3 (Zilionas et al.)',\n",
    "                                  'MG_hN3':'hN3 (Zilionas et al.)',\n",
    "                                  'MG_Macrophages/Monocytes':'Macrophages/Monocytes (Sade-Feldman et al.)',\n",
    "                                  'MG_A2AR':'A2AR (Willingham et al.)',\n",
    "                                  'NHSL2':'$\\it{NHSL2}$ Expression',\n",
    "                                  'MG_EMT':'EMT (Hedegaard et al.)',\n",
    "                                  'MG_TGF-B':'TGF-B (Mariathasan et al.)',\n",
    "                                  'SIPA1L2':'$\\it{SIPA1L2}$ Expression',\n",
    "                                  'MG_NR4A1': 'NR4A1 (Chen et al.)',\n",
    "                                  'AUTS2':'$\\it{AUTS2}$ Expression',\n",
    "                                  'TCF7L1':'$\\it{TCF7L1}$ Expression',\n",
    "                             \n",
    "                                  'PRPF40A':'$\\it{PRPF40A}$ Expression',\n",
    "                                  'MG_T Cell Inflamed':'T cell-inflamed (Ayers et al.)',\n",
    "                                  'PSMB9':'$\\it{PSMB9}$ Expression',\n",
    "                                  'MG_MHC Class I':'MHC Class I (Senbabaoglu et al.)',\n",
    "                                  'PSME1':'$\\it{PSME1}$ Expression',\n",
    "                                  'PSME2':'$\\it{PSME2}$ Expression',\n",
    "                                  'MG_TME_Top_10':'Immune Activated (M-2)',\n",
    "                                  'MG_TI_Top_10':'De-differentiated (TI-1)'}"
   ]
  },
  {
   "cell_type": "code",
   "execution_count": null,
   "id": "78349ab2-ed15-4729-8ecd-d19f0f0c1a51",
   "metadata": {
    "tags": []
   },
   "outputs": [],
   "source": [
    "sub_madata = madata[:, ordered_su2c_gene_markers_list]\n",
    "mdf = sub_madata.to_df()\n",
    "mdf.rename(tempdict, axis='columns', inplace = True)\n",
    "renamed_madata = ad.AnnData(mdf)\n",
    "renamed_madata.obs['leiden_annotation_pair'] = madata.obs['leiden_annotation_pair']"
   ]
  },
  {
   "cell_type": "code",
   "execution_count": null,
   "id": "fb15df05-71f4-4ed1-b9f2-38e0f17f2905",
   "metadata": {},
   "outputs": [],
   "source": [
    "sc.pl.dotplot(adata=renamed_madata, var_names=renamed_ordered_su2c_gene_markers, groupby='leiden_annotation_pair',\n",
    "              var_group_rotation=0, save= \"SU2C_fig_4c_update_top10.svg\")"
   ]
  }
 ],
 "metadata": {
  "kernelspec": {
   "display_name": "Python 3 (ipykernel)",
   "language": "python",
   "name": "python3"
  },
  "language_info": {
   "codemirror_mode": {
    "name": "ipython",
    "version": 3
   },
   "file_extension": ".py",
   "mimetype": "text/x-python",
   "name": "python",
   "nbconvert_exporter": "python",
   "pygments_lexer": "ipython3",
   "version": "3.7.4"
  },
  "toc-showcode": false
 },
 "nbformat": 4,
 "nbformat_minor": 5
}
