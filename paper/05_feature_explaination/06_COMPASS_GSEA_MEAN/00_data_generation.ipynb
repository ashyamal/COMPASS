{
 "cells": [
  {
   "cell_type": "code",
   "execution_count": 1,
   "id": "db307829-5274-402f-aa25-1874e97d5b4f",
   "metadata": {
    "tags": []
   },
   "outputs": [
    {
     "name": "stderr",
     "output_type": "stream",
     "text": [
      "/home/shenwanxiang/anaconda3/envs/compass/lib/python3.8/site-packages/tqdm/auto.py:21: TqdmWarning: IProgress not found. Please update jupyter and ipywidgets. See https://ipywidgets.readthedocs.io/en/stable/user_install.html\n",
      "  from .autonotebook import tqdm as notebook_tqdm\n"
     ]
    }
   ],
   "source": [
    "import pandas as pd\n",
    "import sys,os\n",
    "from tqdm import tqdm\n",
    "from joblib import Parallel, delayed\n",
    "\n",
    "sys.path.insert(0, '/home/shenwanxiang/Research/aliyun_sync/COMPASS/')\n",
    "from baseline.immnue_score.scorer import ssGSEA, avgAbundance\n",
    "\n",
    "from compass.utils import plot_embed_with_label\n",
    "from compass import PreTrainer, FineTuner, loadcompass #, get_minmal_epoch\n",
    "from compass.utils import plot_embed_with_label,plot_performance, score2\n",
    "from compass.tokenizer import CANCER_CODE, CONCEPT\n"
   ]
  },
  {
   "cell_type": "code",
   "execution_count": 2,
   "id": "a55e9c01-dd8f-4aad-98fc-27dda4ddf13e",
   "metadata": {},
   "outputs": [],
   "source": [
    "data_path = '/home/shenwanxiang/Research/aliyun_sync/COMPASS/paper/00_data/'\n",
    "df_label = pd.read_pickle(os.path.join(data_path, 'ITRP.PATIENT.TABLE.ALIGN'))\n",
    "df_tpm = pd.read_pickle(os.path.join(data_path, 'ITRP.TPM.TABLE'))\n",
    "df_tpm.shape, df_label.shape\n",
    "\n",
    "dfcx = df_label.cancer_type.map(CANCER_CODE).to_frame('cancer_code').join(df_tpm)\n",
    "df_label.to_csv('./data/ITRP_clinical.csv')"
   ]
  },
  {
   "cell_type": "markdown",
   "id": "42bded66-6297-47d7-9cfa-9440f3463b4f",
   "metadata": {},
   "source": [
    "## Signature-level"
   ]
  },
  {
   "cell_type": "code",
   "execution_count": 3,
   "id": "3fcd2146-cc07-4ac2-a56e-b310136caf8d",
   "metadata": {},
   "outputs": [
    {
     "name": "stderr",
     "output_type": "stream",
     "text": [
      "100%|#################################################################################| 132/132 [03:25<00:00,  1.56s/it]\n"
     ]
    }
   ],
   "source": [
    "signature_genes = CONCEPT.Genes.apply(lambda x:x.split(':'))  \n",
    "signature_genes.head()\n",
    " \n",
    "def run_one_ssgsea(name, g_list, df_tpm):\n",
    "    gsea = ssGSEA(g_list, name)\n",
    "    return gsea.fit_transform(df_tpm) \n",
    "\n",
    "# Create task generator\n",
    "tasks = (delayed(run_one_ssgsea)(name, g_list, df_tpm)\n",
    "         for name, g_list in tqdm(signature_genes.items(), ascii=True, total = len(signature_genes)))\n",
    "res = Parallel(n_jobs=8, backend=\"loky\")(tasks)\n",
    "\n",
    "dfc = pd.concat(res, axis=1)\n",
    "dfc.columns = dfc.columns.str.replace(\"NES_\", \"\", regex=False)\n",
    "dfc.loc[df_label.index].to_csv('./data/ITRP_ssGSEA_signature_132.csv')"
   ]
  },
  {
   "cell_type": "code",
   "execution_count": 4,
   "id": "648420e0-b11f-4225-940d-7b8712ab88d0",
   "metadata": {},
   "outputs": [
    {
     "name": "stderr",
     "output_type": "stream",
     "text": [
      "100%|#################################################################################| 132/132 [00:10<00:00, 12.75it/s]\n"
     ]
    }
   ],
   "source": [
    "def run_one_avg(name, g_list, df_tpm):\n",
    "    gsea = avgAbundance(g_list, name)\n",
    "    return gsea.fit_transform(df_tpm) \n",
    "\n",
    "# Create task generator\n",
    "tasks = (delayed(run_one_avg)(name, g_list, df_tpm)\n",
    "         for name, g_list in tqdm(signature_genes.items(), ascii=True, total = len(signature_genes)))\n",
    "res = Parallel(n_jobs=8, backend=\"loky\")(tasks)\n",
    "\n",
    "dfc = pd.concat(res, axis=1)\n",
    "dfc.columns = dfc.columns.str.replace(\"NAG_\", \"\", regex=False)\n",
    "dfc.loc[df_label.index].to_csv('./data/ITRP_avg_signature_132.csv')"
   ]
  },
  {
   "cell_type": "markdown",
   "id": "63fbbe34-f84e-4338-8666-5c48893fb222",
   "metadata": {},
   "source": [
    "## Concept-level"
   ]
  },
  {
   "cell_type": "code",
   "execution_count": 5,
   "id": "29306f90-398d-49aa-b8f2-a7079b11141c",
   "metadata": {},
   "outputs": [
    {
     "name": "stderr",
     "output_type": "stream",
     "text": [
      "100%|###################################################################################| 43/43 [00:55<00:00,  1.30s/it]\n"
     ]
    }
   ],
   "source": [
    "def _connect(x):\n",
    "    from itertools import chain\n",
    "    return list(set(chain(*[i.split(':') for i in x])))\n",
    "    \n",
    "concept_genes = CONCEPT.groupby('BroadCelltypePathway').Genes.apply(lambda x:x.tolist()).apply(_connect)\n",
    "\n",
    "def run_one_ssgsea(name, g_list, df_tpm):\n",
    "    gsea = ssGSEA(g_list, name)\n",
    "    return gsea.fit_transform(df_tpm) \n",
    "\n",
    "# Create task generator\n",
    "tasks = (delayed(run_one_ssgsea)(name, g_list, df_tpm)\n",
    "         for name, g_list in tqdm(concept_genes.items(), ascii=True, total = len(concept_genes)))\n",
    "res = Parallel(n_jobs=8, backend=\"loky\")(tasks)\n",
    "\n",
    "dfc = pd.concat(res, axis=1)\n",
    "dfc.columns = dfc.columns.str.replace(\"NES_\", \"\", regex=False)\n",
    "dfc.loc[df_label.index].to_csv(f'./data/ITRP_ssGSEA_concept_{dfc.shape[1]}.csv')"
   ]
  },
  {
   "cell_type": "code",
   "execution_count": 6,
   "id": "88558087-fe5f-441a-a5c9-4d5720a9c336",
   "metadata": {},
   "outputs": [
    {
     "name": "stderr",
     "output_type": "stream",
     "text": [
      "100%|###################################################################################| 43/43 [00:02<00:00, 18.30it/s]\n"
     ]
    }
   ],
   "source": [
    "def run_one_avg(name, g_list, df_tpm):\n",
    "    gsea = avgAbundance(g_list, name)\n",
    "    return gsea.fit_transform(df_tpm) \n",
    "\n",
    "# Create task generator\n",
    "tasks = (delayed(run_one_avg)(name, g_list, df_tpm)\n",
    "         for name, g_list in tqdm(concept_genes.items(), ascii=True, total = len(concept_genes)))\n",
    "res = Parallel(n_jobs=8, backend=\"loky\")(tasks)\n",
    "\n",
    "dfc = pd.concat(res, axis=1)\n",
    "dfc.columns = dfc.columns.str.replace(\"NAG_\", \"\", regex=False)\n",
    "dfc.loc[df_label.index].to_csv(f'./data/ITRP_avg_concept_{dfc.shape[1]}.csv')"
   ]
  },
  {
   "cell_type": "code",
   "execution_count": null,
   "id": "d55dd05c-6e94-42c8-9a95-b34044bcfe77",
   "metadata": {},
   "outputs": [],
   "source": []
  },
  {
   "cell_type": "code",
   "execution_count": null,
   "id": "01482486-0346-4920-b0ec-e368bbfcf410",
   "metadata": {},
   "outputs": [],
   "source": []
  },
  {
   "cell_type": "markdown",
   "id": "c69dbdc1-827b-458f-81c9-618114d906ed",
   "metadata": {},
   "source": [
    "## COMPASS representation"
   ]
  },
  {
   "cell_type": "code",
   "execution_count": 7,
   "id": "bdd491fb-1982-4b3f-b1ce-c0582921f992",
   "metadata": {},
   "outputs": [
    {
     "name": "stderr",
     "output_type": "stream",
     "text": [
      "100%|#####################################################################################| 9/9 [00:11<00:00,  1.28s/it]\n"
     ]
    }
   ],
   "source": [
    "pretrainer = loadcompass('../../checkpoint/latest/pretrainer.pt', map_location = 'cuda:1')\n",
    "dfe, dfg, dfc = pretrainer.extract(dfcx,  batch_size= 128, with_gene_level = True)"
   ]
  },
  {
   "cell_type": "code",
   "execution_count": 8,
   "id": "f00907c0-3032-4b01-971b-3679f38d3e4c",
   "metadata": {},
   "outputs": [],
   "source": [
    "#dfe.loc[df_label.index].to_csv(f'./data/ITRP_COMPASS_PT_{dfe.shape[1]}.csv')\n",
    "dfg.loc[df_label.index].to_csv(f'./data/ITRP_COMPASS_PT_{dfg.shape[1]}.csv')\n",
    "dfc.loc[df_label.index].to_csv(f'./data/ITRP_COMPASS_PT_{dfc.shape[1]}.csv')"
   ]
  },
  {
   "cell_type": "code",
   "execution_count": null,
   "id": "dd8305e0-36bf-4c27-a5f1-7c9fec2271eb",
   "metadata": {},
   "outputs": [],
   "source": []
  },
  {
   "cell_type": "code",
   "execution_count": null,
   "id": "355b89bc-6ff5-422e-a0f1-496a326f1918",
   "metadata": {},
   "outputs": [],
   "source": []
  },
  {
   "cell_type": "code",
   "execution_count": null,
   "id": "97c201f6-bb1e-4f6f-9458-b865ddab4863",
   "metadata": {},
   "outputs": [],
   "source": []
  },
  {
   "cell_type": "code",
   "execution_count": null,
   "id": "a605319a-d683-4527-a32a-b4d7470cc3a5",
   "metadata": {},
   "outputs": [],
   "source": []
  },
  {
   "cell_type": "code",
   "execution_count": null,
   "id": "97c0f2c8-b6e8-472a-be4f-213e99a618d9",
   "metadata": {},
   "outputs": [],
   "source": []
  }
 ],
 "metadata": {
  "kernelspec": {
   "display_name": "Python 3 (ipykernel)",
   "language": "python",
   "name": "python3"
  },
  "language_info": {
   "codemirror_mode": {
    "name": "ipython",
    "version": 3
   },
   "file_extension": ".py",
   "mimetype": "text/x-python",
   "name": "python",
   "nbconvert_exporter": "python",
   "pygments_lexer": "ipython3",
   "version": "3.8.18"
  }
 },
 "nbformat": 4,
 "nbformat_minor": 5
}
