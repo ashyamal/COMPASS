{
 "cells": [
  {
   "cell_type": "code",
   "execution_count": 1,
   "id": "8dfa127c-453c-48b3-8d93-3192832cf4ae",
   "metadata": {},
   "outputs": [],
   "source": [
    "#!/home/was966/micromamba/envs/responder/bin/python\n",
    "#sbatch --mem 64G -c 4 -t 100:00:00 -p gpu_quad --gres=gpu:a100:1 ./loco_pft.py\n",
    "\n",
    "import sys\n",
    "\n",
    "sys.path.insert(0, '/home/was966/Research/mims-conceptor/')\n",
    "from conceptor.utils import plot_embed_with_label\n",
    "from conceptor import PreTrainer, FineTuner, loadconceptor #, get_minmal_epoch\n",
    "from conceptor.utils import plot_embed_with_label,plot_performance, score2\n",
    "from conceptor.tokenizer import CANCER_CODE, CONCEPT\n",
    "\n",
    "import os\n",
    "from tqdm import tqdm\n",
    "from itertools import chain\n",
    "import pandas as pd\n",
    "import numpy as np\n",
    "import random, torch\n",
    "import matplotlib.pyplot as plt\n",
    "import seaborn as sns\n",
    "sns.set(style = 'white', font_scale=1.3)\n",
    "import warnings\n",
    "warnings.filterwarnings(\"ignore\")\n",
    "\n",
    "def onehot(S):\n",
    "    assert type(S) == pd.Series, 'Input type should be pd.Series'\n",
    "    dfd = pd.get_dummies(S, dummy_na=True)\n",
    "    nanidx = dfd[dfd[np.nan].astype(bool)].index\n",
    "    dfd.loc[nanidx, :] = np.nan\n",
    "    dfd = dfd.drop(columns=[np.nan])*1.\n",
    "    cols = dfd.sum().sort_values(ascending=False).index.tolist()\n",
    "    dfd = dfd[cols]\n",
    "    return dfd\n",
    "\n",
    "\n",
    "data_path = '/home/was966/Research/mims-conceptor/paper/00_data/'\n",
    "df_label = pd.read_pickle(os.path.join(data_path, 'ITRP.PATIENT.TABLE'))\n",
    "df_tpm = pd.read_pickle(os.path.join(data_path, 'ITRP.TPM.TABLE'))\n",
    "df_tpm.shape, df_label.shape\n",
    "\n",
    "dfcx = df_label.cancer_type.map(CANCER_CODE).to_frame('cancer_code').join(df_tpm)\n",
    "\n",
    "df_task = onehot(df_label.response_label)\n",
    "size = df_label.groupby('cohort').size()\n",
    "size = size.index + \"\\n(n = \" + size.astype(str) + \")\"\n",
    "cohorts = df_label.groupby('cohort').size().sort_values().index.tolist()\n",
    "#cohorts = ['Choueiri']"
   ]
  },
  {
   "cell_type": "code",
   "execution_count": 2,
   "id": "9f8d8dbb-25d8-453b-8516-084633b52bba",
   "metadata": {},
   "outputs": [],
   "source": [
    "def _connect(x):\n",
    "    from itertools import chain\n",
    "    return list(set(chain(*[i.split(':') for i in x])))\n",
    "    \n",
    "concept_genes = CONCEPT.groupby('BroadCelltypePathway').Genes.apply(lambda x:x.tolist()).apply(_connect)"
   ]
  },
  {
   "cell_type": "code",
   "execution_count": 3,
   "id": "0e787d94-8085-43f1-abb5-01257f79bda8",
   "metadata": {},
   "outputs": [],
   "source": [
    "from baseline.immnue_score.scorer import ssGSEA, avgAbundance"
   ]
  },
  {
   "cell_type": "code",
   "execution_count": 4,
   "id": "16c74507-32a9-4192-9eca-7ef2eb9fa6eb",
   "metadata": {},
   "outputs": [
    {
     "name": "stderr",
     "output_type": "stream",
     "text": [
      "43it [00:18,  2.35it/s]\n"
     ]
    }
   ],
   "source": [
    "res=[]\n",
    "for name, g_list in tqdm(concept_genes.items()):\n",
    "    avg = avgAbundance(g_list, name)\n",
    "    score = avg.fit_transform(df_tpm)\n",
    "    res.append(score)"
   ]
  },
  {
   "cell_type": "code",
   "execution_count": 7,
   "id": "76c3e295-25df-4b16-9c32-4c0801db5070",
   "metadata": {
    "scrolled": true
   },
   "outputs": [],
   "source": [
    "dfc = pd.concat(res,axis=1)\n",
    "dfc.columns = dfc.columns.map(lambda x:x.replace('NAG_', ''))\n",
    "dfc = dfc[CONCEPT.groupby('BroadCelltypePathway').Concept_index.mean().sort_values().index]\n",
    "dfc.to_csv('02_avgAbd_readouts_celltype.csv')"
   ]
  },
  {
   "cell_type": "code",
   "execution_count": 8,
   "id": "cd2f0b4c-3bb5-4129-97ce-b797545dd751",
   "metadata": {},
   "outputs": [
    {
     "name": "stderr",
     "output_type": "stream",
     "text": [
      "132it [00:53,  2.45it/s]\n"
     ]
    }
   ],
   "source": [
    "geneset_genes = CONCEPT.Genes.apply(lambda x:x.split(':'))\n",
    "res=[]\n",
    "for name, g_list in tqdm(geneset_genes.items()):\n",
    "    avg = avgAbundance(g_list, name)\n",
    "    score = avg.fit_transform(df_tpm)\n",
    "    res.append(score)\n",
    "\n",
    "dfg = pd.concat(res,axis=1)\n",
    "dfg.columns = dfg.columns.map(lambda x:x.replace('NAG_', ''))\n",
    "dfg.to_csv('01_avgAbd_readouts_geneset.csv')"
   ]
  },
  {
   "cell_type": "code",
   "execution_count": null,
   "id": "9950e37e-5de9-4db7-bec1-b10e8df55038",
   "metadata": {},
   "outputs": [],
   "source": []
  },
  {
   "cell_type": "code",
   "execution_count": null,
   "id": "dc20f451-8370-4bbf-a176-94be925cfdc8",
   "metadata": {},
   "outputs": [],
   "source": []
  },
  {
   "cell_type": "code",
   "execution_count": null,
   "id": "9b168729-30f1-4d69-aac5-1626f0cdf521",
   "metadata": {},
   "outputs": [],
   "source": []
  },
  {
   "cell_type": "code",
   "execution_count": null,
   "id": "d98772cd-202b-4f08-a638-ecfb1a8ff192",
   "metadata": {},
   "outputs": [],
   "source": []
  },
  {
   "cell_type": "code",
   "execution_count": null,
   "id": "24e68e61-fa51-4740-aee2-8182005268e4",
   "metadata": {},
   "outputs": [],
   "source": []
  },
  {
   "cell_type": "code",
   "execution_count": null,
   "id": "b09ab51d-4d31-4896-a385-160d1bb74ec9",
   "metadata": {},
   "outputs": [],
   "source": []
  }
 ],
 "metadata": {
  "kernelspec": {
   "display_name": "Python 3 (ipykernel)",
   "language": "python",
   "name": "python3"
  },
  "language_info": {
   "codemirror_mode": {
    "name": "ipython",
    "version": 3
   },
   "file_extension": ".py",
   "mimetype": "text/x-python",
   "name": "python",
   "nbconvert_exporter": "python",
   "pygments_lexer": "ipython3",
   "version": "3.8.18"
  }
 },
 "nbformat": 4,
 "nbformat_minor": 5
}
