{
 "cells": [
  {
   "cell_type": "code",
   "execution_count": 1,
   "id": "29fb1043-8b24-4062-8625-5a198c93602b",
   "metadata": {},
   "outputs": [],
   "source": [
    "#!/home/was966/micromamba/envs/responder/bin/python\n",
    "#sbatch --mem 64G -c 4 -t 100:00:00 -p gpu_quad --gres=gpu:rtx8000:1 ./loo_pft.py\n",
    "\n",
    "import sys\n",
    "\n",
    "sys.path.insert(0, '/home/was966/Research/mims-compass/')\n",
    "from compass.utils import plot_embed_with_label\n",
    "from compass import PreTrainer, FineTuner, loadcompass #, get_minmal_epoch\n",
    "from compass.utils import plot_embed_with_label, plot_performance, score2\n",
    "from compass.tokenizer import CANCER_CODE\n",
    "\n",
    "import os\n",
    "from tqdm import tqdm\n",
    "from itertools import chain\n",
    "import pandas as pd\n",
    "import numpy as np\n",
    "import random, torch\n",
    "import matplotlib.pyplot as plt\n",
    "import seaborn as sns\n",
    "sns.set(style = 'white', font_scale=1.3)\n",
    "import warnings\n",
    "warnings.filterwarnings(\"ignore\")\n",
    "\n",
    "def onehot(S):\n",
    "    assert type(S) == pd.Series, 'Input type should be pd.Series'\n",
    "    dfd = pd.get_dummies(S, dummy_na=True)\n",
    "    nanidx = dfd[dfd[np.nan].astype(bool)].index\n",
    "    dfd.loc[nanidx, :] = np.nan\n",
    "    dfd = dfd.drop(columns=[np.nan])*1.\n",
    "    cols = dfd.sum().sort_values(ascending=False).index.tolist()\n",
    "    dfd = dfd[cols]\n",
    "    return dfd"
   ]
  },
  {
   "cell_type": "code",
   "execution_count": 2,
   "id": "b62f1a00-97db-4611-8907-95a7316c5a84",
   "metadata": {},
   "outputs": [
    {
     "data": {
      "text/plain": [
       "((1133, 15672), (1133, 110))"
      ]
     },
     "execution_count": 2,
     "metadata": {},
     "output_type": "execute_result"
    }
   ],
   "source": [
    "mfile = '../../checkpoint/latest/pretrainer.pt'\n",
    "pretrainer = loadcompass(mfile, map_location = 'cpu')\n",
    "\n",
    "data_path = '../../00_data/'\n",
    "df_label = pd.read_pickle(os.path.join(data_path, 'ITRP.PATIENT.TABLE'))\n",
    "\n",
    "df_tpm = pd.read_pickle(os.path.join(data_path, 'ITRP.TPM.TABLE'))[pretrainer.feature_name]\n",
    "df_tpm.shape, df_label.shape"
   ]
  },
  {
   "cell_type": "code",
   "execution_count": 3,
   "id": "7eeb4e6f-47d8-41d2-91a0-f6f07a9acada",
   "metadata": {},
   "outputs": [],
   "source": [
    "tmb_cohorts = ['IMVigor210', 'Rose', 'Liu',] #"
   ]
  },
  {
   "cell_type": "code",
   "execution_count": 4,
   "id": "0c88970d-d83d-4cf1-876b-6dde36166aee",
   "metadata": {},
   "outputs": [],
   "source": [
    "df_label = df_label[~df_label.real_TMB.isna()]\n",
    "df_label = df_label[df_label.real_TMB != 0]\n",
    "\n",
    "df_label = df_label[df_label.cohort.isin(tmb_cohorts)]\n",
    "df_label['log2_TMB'] = df_label.real_TMB # np.log(df_label.real_TMB + 1) #df_label.real_TMB #\n",
    "df_tpm = df_tpm.loc[df_label.index]"
   ]
  },
  {
   "cell_type": "code",
   "execution_count": 5,
   "id": "771979f7-015c-4d69-9c03-f821a2e1af34",
   "metadata": {},
   "outputs": [
    {
     "name": "stderr",
     "output_type": "stream",
     "text": [
      "100%|##########| 27/27 [00:12<00:00,  2.18it/s]\n"
     ]
    }
   ],
   "source": [
    "size = df_label.groupby('cohort').size()\n",
    "size = size.index + \"\\n(n = \" + size.astype(str) + \")\"\n",
    "\n",
    "dfcx = df_label.cancer_type.map(CANCER_CODE).to_frame('cancer_code').join(df_tpm)\n",
    "cohorts = df_label.groupby('cohort').size().sort_values().index.tolist()\n",
    "from sklearn.model_selection import LeaveOneOut\n",
    "\n",
    "dfcx = df_label.cancer_type.map(CANCER_CODE).to_frame('cancer_code').join(df_tpm)\n",
    "dfy = df_label.response_label\n",
    "dfg_score, dfc_score = pretrainer.extract(dfcx, batch_size=16)\n",
    "dfc = dfc_score #[dfc_score.columns.difference(['Reference'])]"
   ]
  },
  {
   "cell_type": "code",
   "execution_count": null,
   "id": "178aa61a-bacb-4256-bbec-51fad1807c82",
   "metadata": {},
   "outputs": [],
   "source": []
  },
  {
   "cell_type": "code",
   "execution_count": 6,
   "id": "592fd27d-5f11-45b2-a195-4d5bb2bb11fd",
   "metadata": {},
   "outputs": [],
   "source": [
    "df_tmb = dfc[['Genome_integrity']].join(df_label[['log2_TMB', 'cohort', 'cancer_type']]) "
   ]
  },
  {
   "cell_type": "code",
   "execution_count": 7,
   "id": "538e5685-9bf0-48ad-bb28-c6b43dafc419",
   "metadata": {},
   "outputs": [
    {
     "data": {
      "text/html": [
       "<div>\n",
       "<style scoped>\n",
       "    .dataframe tbody tr th:only-of-type {\n",
       "        vertical-align: middle;\n",
       "    }\n",
       "\n",
       "    .dataframe tbody tr th {\n",
       "        vertical-align: top;\n",
       "    }\n",
       "\n",
       "    .dataframe thead th {\n",
       "        text-align: right;\n",
       "    }\n",
       "</style>\n",
       "<table border=\"1\" class=\"dataframe\">\n",
       "  <thead>\n",
       "    <tr style=\"text-align: right;\">\n",
       "      <th></th>\n",
       "      <th>Genome_integrity</th>\n",
       "      <th>log2_TMB</th>\n",
       "      <th>cohort</th>\n",
       "      <th>cancer_type</th>\n",
       "    </tr>\n",
       "    <tr>\n",
       "      <th>Index</th>\n",
       "      <th></th>\n",
       "      <th></th>\n",
       "      <th></th>\n",
       "      <th></th>\n",
       "    </tr>\n",
       "  </thead>\n",
       "  <tbody>\n",
       "    <tr>\n",
       "      <th>IMVigor210-0257bb-ar-0257bbb</th>\n",
       "      <td>0.247796</td>\n",
       "      <td>18.0</td>\n",
       "      <td>IMVigor210</td>\n",
       "      <td>BLCA</td>\n",
       "    </tr>\n",
       "    <tr>\n",
       "      <th>IMVigor210-025b45-ar-025b45c</th>\n",
       "      <td>0.168329</td>\n",
       "      <td>1.0</td>\n",
       "      <td>IMVigor210</td>\n",
       "      <td>BLCA</td>\n",
       "    </tr>\n",
       "    <tr>\n",
       "      <th>IMVigor210-032c64-ar-032c642</th>\n",
       "      <td>0.293963</td>\n",
       "      <td>44.0</td>\n",
       "      <td>IMVigor210</td>\n",
       "      <td>BLCA</td>\n",
       "    </tr>\n",
       "    <tr>\n",
       "      <th>IMVigor210-0571f1-ar-0571f17</th>\n",
       "      <td>0.231509</td>\n",
       "      <td>2.0</td>\n",
       "      <td>IMVigor210</td>\n",
       "      <td>BLCA</td>\n",
       "    </tr>\n",
       "    <tr>\n",
       "      <th>IMVigor210-065890-ar-0658907</th>\n",
       "      <td>0.233928</td>\n",
       "      <td>8.0</td>\n",
       "      <td>IMVigor210</td>\n",
       "      <td>BLCA</td>\n",
       "    </tr>\n",
       "  </tbody>\n",
       "</table>\n",
       "</div>"
      ],
      "text/plain": [
       "                              Genome_integrity  log2_TMB      cohort  \\\n",
       "Index                                                                  \n",
       "IMVigor210-0257bb-ar-0257bbb          0.247796      18.0  IMVigor210   \n",
       "IMVigor210-025b45-ar-025b45c          0.168329       1.0  IMVigor210   \n",
       "IMVigor210-032c64-ar-032c642          0.293963      44.0  IMVigor210   \n",
       "IMVigor210-0571f1-ar-0571f17          0.231509       2.0  IMVigor210   \n",
       "IMVigor210-065890-ar-0658907          0.233928       8.0  IMVigor210   \n",
       "\n",
       "                             cancer_type  \n",
       "Index                                     \n",
       "IMVigor210-0257bb-ar-0257bbb        BLCA  \n",
       "IMVigor210-025b45-ar-025b45c        BLCA  \n",
       "IMVigor210-032c64-ar-032c642        BLCA  \n",
       "IMVigor210-0571f1-ar-0571f17        BLCA  \n",
       "IMVigor210-065890-ar-0658907        BLCA  "
      ]
     },
     "execution_count": 7,
     "metadata": {},
     "output_type": "execute_result"
    }
   ],
   "source": [
    "df_tmb.head()"
   ]
  },
  {
   "cell_type": "code",
   "execution_count": 8,
   "id": "0330c721-7490-4264-903d-b9052272d847",
   "metadata": {},
   "outputs": [
    {
     "data": {
      "text/html": [
       "<div>\n",
       "<style scoped>\n",
       "    .dataframe tbody tr th:only-of-type {\n",
       "        vertical-align: middle;\n",
       "    }\n",
       "\n",
       "    .dataframe tbody tr th {\n",
       "        vertical-align: top;\n",
       "    }\n",
       "\n",
       "    .dataframe thead th {\n",
       "        text-align: right;\n",
       "    }\n",
       "</style>\n",
       "<table border=\"1\" class=\"dataframe\">\n",
       "  <thead>\n",
       "    <tr style=\"text-align: right;\">\n",
       "      <th></th>\n",
       "      <th>log2_TMB</th>\n",
       "      <th>Genome_integrity</th>\n",
       "    </tr>\n",
       "  </thead>\n",
       "  <tbody>\n",
       "    <tr>\n",
       "      <th>log2_TMB</th>\n",
       "      <td>1.000000</td>\n",
       "      <td>-0.128574</td>\n",
       "    </tr>\n",
       "    <tr>\n",
       "      <th>Genome_integrity</th>\n",
       "      <td>-0.128574</td>\n",
       "      <td>1.000000</td>\n",
       "    </tr>\n",
       "  </tbody>\n",
       "</table>\n",
       "</div>"
      ],
      "text/plain": [
       "                  log2_TMB  Genome_integrity\n",
       "log2_TMB          1.000000         -0.128574\n",
       "Genome_integrity -0.128574          1.000000"
      ]
     },
     "execution_count": 8,
     "metadata": {},
     "output_type": "execute_result"
    }
   ],
   "source": [
    "df_tmb[['log2_TMB','Genome_integrity']].corr()"
   ]
  },
  {
   "cell_type": "code",
   "execution_count": 9,
   "id": "b71cfa16-2c76-4448-8fcd-c95a024d5ab2",
   "metadata": {},
   "outputs": [
    {
     "data": {
      "text/plain": [
       "Index(['IMVigor210', 'Liu', 'Rose'], dtype='object', name='cohort')"
      ]
     },
     "execution_count": 9,
     "metadata": {},
     "output_type": "execute_result"
    }
   ],
   "source": [
    "size.index"
   ]
  },
  {
   "cell_type": "code",
   "execution_count": 10,
   "id": "24590d94-98c9-4658-b210-dd25f71c41b5",
   "metadata": {},
   "outputs": [],
   "source": [
    "from compass.decoder import ProtoNetNFTDecoder,ClassDecoder\n",
    "loo = LeaveOneOut()"
   ]
  },
  {
   "cell_type": "code",
   "execution_count": 11,
   "id": "88d4d635-7f25-4e8e-889d-9b0d1d805332",
   "metadata": {},
   "outputs": [],
   "source": [
    "dfco = dfc[dfc.columns.difference(['Genome_integrity'])]\n",
    "dfts = dfco.join(dfc.Genome_integrity)\n",
    "dftr = dfco.join(df_label.log2_TMB)\n",
    "dftt = dfco.join(dfc.Genome_integrity).join(df_label.log2_TMB)"
   ]
  },
  {
   "cell_type": "code",
   "execution_count": 12,
   "id": "7cee77a0-11aa-441f-b03e-19bee3f41d05",
   "metadata": {},
   "outputs": [],
   "source": [
    "# dfts = (dfts - dfts.mean()) / (dfts.max() - dfts.min())\n",
    "# dftr = (dftr - dftr.mean()) / (dftr.max() - dftr.min())\n",
    "# dftt = (dftt - dftt.mean()) / (dftt.max() - dftt.min())"
   ]
  },
  {
   "cell_type": "code",
   "execution_count": null,
   "id": "7ad8cdeb-2da1-4f48-aadf-a4a70e5eea1e",
   "metadata": {},
   "outputs": [],
   "source": []
  },
  {
   "cell_type": "code",
   "execution_count": 13,
   "id": "a982f95c-3819-4c1a-8fcb-f3918dd22a80",
   "metadata": {},
   "outputs": [],
   "source": [
    "import numpy as np\n",
    "import statsmodels.api as sm\n",
    "from sklearn.preprocessing import LabelEncoder\n",
    "from sklearn.linear_model import LogisticRegressionCV"
   ]
  },
  {
   "cell_type": "code",
   "execution_count": null,
   "id": "bdd10ef2-1c41-4c7f-9668-8e7ecdb5d409",
   "metadata": {},
   "outputs": [],
   "source": []
  },
  {
   "cell_type": "code",
   "execution_count": 24,
   "id": "7c0326d2-d6e7-4f5e-ae8b-b469c52b074e",
   "metadata": {},
   "outputs": [
    {
     "name": "stdout",
     "output_type": "stream",
     "text": [
      "(427, 43)\n"
     ]
    },
    {
     "name": "stderr",
     "output_type": "stream",
     "text": [
      "100%|##########| 3/3 [00:02<00:00,  1.41it/s]\n"
     ]
    },
    {
     "name": "stdout",
     "output_type": "stream",
     "text": [
      "(427, 44)\n"
     ]
    },
    {
     "name": "stderr",
     "output_type": "stream",
     "text": [
      "100%|##########| 3/3 [00:02<00:00,  1.38it/s]\n"
     ]
    },
    {
     "name": "stdout",
     "output_type": "stream",
     "text": [
      "(427, 45)\n"
     ]
    },
    {
     "name": "stderr",
     "output_type": "stream",
     "text": [
      "100%|##########| 3/3 [00:02<00:00,  1.34it/s]\n"
     ]
    }
   ],
   "source": [
    "res = []\n",
    "for dfx_used, mode in zip([dfco, dfts, dftt], ['Pretrained concepts without\\nGenome integrity (p=43)',\n",
    "                                              'Pretrained concepts (p=44)', \n",
    "                                              'Pretrained concepts combine with\\nTMB feature (p=45)', \n",
    "                                              ]): #'with_TMB_both\\n(p=46)' , dftt\n",
    "\n",
    "    print(dfx_used.shape)\n",
    "    for cohort in tqdm(cohorts, ascii=True):\n",
    "    \n",
    "        cohort_idx = df_label[df_label['cohort'] == cohort].index\n",
    "        cohort_X = dfx_used.loc[cohort_idx]\n",
    "        cohort_y = dfy.loc[cohort_idx]\n",
    "    \n",
    "        test_cohort_name = cohort\n",
    "    \n",
    "        predict_res = []\n",
    "        for train_idx, test_idx in loo.split(cohort_idx):\n",
    "            \n",
    "            train_X = cohort_X.iloc[train_idx]\n",
    "            train_y = cohort_y.iloc[train_idx]\n",
    "            test_X = cohort_X.iloc[test_idx]    \n",
    "            test_y = cohort_y.iloc[test_idx]\n",
    "        \n",
    "            support_set = train_X.join(train_y)\n",
    "            query_set = test_X.join(test_y)\n",
    "            \n",
    "            NFT = ProtoNetNFTDecoder()\n",
    "            NFT = NFT.fit(support_set)\n",
    "            pred_testy = NFT.transform(query_set)\n",
    "            \n",
    "            pred_testy['cohort'] = test_cohort_name\n",
    "            pred_testy['mode'] = mode\n",
    "            predict_res.append(pred_testy)\n",
    "    \n",
    "        df_pred = pd.concat(predict_res)\n",
    "        dfp = onehot(cohort_y.map({'PD':'NR', 'PR':'R',\n",
    "                                   'SD':'NR', 'CR':'R',\n",
    "                                   'NR':'NR', 'R':'R'})).join(df_pred)\n",
    "        \n",
    "        y_true, y_prob, y_pred = dfp['R'], dfp[1], dfp[[0, 1]].idxmax(axis=1)\n",
    "        s2 = score2(y_true, y_prob, y_pred)\n",
    "\n",
    "        dfs = pd.DataFrame([s2], columns = ['ROC', 'PRC', 'F1', 'ACC', 'MCC'], index = ['Test'])\n",
    "        dfs['cohort'] = test_cohort_name\n",
    "        dfs['mode'] = mode\n",
    "        res.append(dfs)"
   ]
  },
  {
   "cell_type": "code",
   "execution_count": null,
   "id": "63f3d18c-f6e3-48d5-896e-70ac68ae55e4",
   "metadata": {},
   "outputs": [],
   "source": []
  },
  {
   "cell_type": "code",
   "execution_count": 25,
   "id": "55f71264-2e96-4b83-8bfb-aecd8219c41f",
   "metadata": {},
   "outputs": [],
   "source": [
    "df = pd.concat(res).reset_index(drop=True)"
   ]
  },
  {
   "cell_type": "code",
   "execution_count": 26,
   "id": "c0221ff4-34a2-4483-8e9e-3cae52093bcb",
   "metadata": {},
   "outputs": [],
   "source": [
    "df.cohort = df.cohort.map(size)"
   ]
  },
  {
   "cell_type": "code",
   "execution_count": 27,
   "id": "c431f562-b73c-486b-8872-d2a41d5eb5f7",
   "metadata": {
    "scrolled": true
   },
   "outputs": [
    {
     "data": {
      "text/plain": [
       "['Rose\\n(n = 87)', 'IMVigor210\\n(n = 233)', 'Liu\\n(n = 107)']"
      ]
     },
     "execution_count": 27,
     "metadata": {},
     "output_type": "execute_result"
    }
   ],
   "source": [
    "y_order = df.groupby('mode')['ACC'].mean().sort_values(ascending=False).index.tolist()\n",
    "x_order = df.groupby('cohort')['ACC'].mean().sort_values(ascending=False).index.tolist()\n",
    "x_order"
   ]
  },
  {
   "cell_type": "code",
   "execution_count": 28,
   "id": "830f3470-2131-4482-b05f-cc340c38427a",
   "metadata": {},
   "outputs": [
    {
     "data": {
      "text/html": [
       "<svg  width=\"550\" height=\"55\"><rect x=\"0\" y=\"0\" width=\"55\" height=\"55\" style=\"fill:#023eff;stroke-width:2;stroke:rgb(255,255,255)\"/><rect x=\"55\" y=\"0\" width=\"55\" height=\"55\" style=\"fill:#ff7c00;stroke-width:2;stroke:rgb(255,255,255)\"/><rect x=\"110\" y=\"0\" width=\"55\" height=\"55\" style=\"fill:#1ac938;stroke-width:2;stroke:rgb(255,255,255)\"/><rect x=\"165\" y=\"0\" width=\"55\" height=\"55\" style=\"fill:#e8000b;stroke-width:2;stroke:rgb(255,255,255)\"/><rect x=\"220\" y=\"0\" width=\"55\" height=\"55\" style=\"fill:#8b2be2;stroke-width:2;stroke:rgb(255,255,255)\"/><rect x=\"275\" y=\"0\" width=\"55\" height=\"55\" style=\"fill:#9f4800;stroke-width:2;stroke:rgb(255,255,255)\"/><rect x=\"330\" y=\"0\" width=\"55\" height=\"55\" style=\"fill:#f14cc1;stroke-width:2;stroke:rgb(255,255,255)\"/><rect x=\"385\" y=\"0\" width=\"55\" height=\"55\" style=\"fill:#a3a3a3;stroke-width:2;stroke:rgb(255,255,255)\"/><rect x=\"440\" y=\"0\" width=\"55\" height=\"55\" style=\"fill:#ffc400;stroke-width:2;stroke:rgb(255,255,255)\"/><rect x=\"495\" y=\"0\" width=\"55\" height=\"55\" style=\"fill:#00d7ff;stroke-width:2;stroke:rgb(255,255,255)\"/></svg>"
      ],
      "text/plain": [
       "[(0.00784313725490196, 0.24313725490196078, 1.0),\n",
       " (1.0, 0.48627450980392156, 0.0),\n",
       " (0.10196078431372549, 0.788235294117647, 0.2196078431372549),\n",
       " (0.9098039215686274, 0.0, 0.043137254901960784),\n",
       " (0.5450980392156862, 0.16862745098039217, 0.8862745098039215),\n",
       " (0.6235294117647059, 0.2823529411764706, 0.0),\n",
       " (0.9450980392156862, 0.2980392156862745, 0.7568627450980392),\n",
       " (0.6392156862745098, 0.6392156862745098, 0.6392156862745098),\n",
       " (1.0, 0.7686274509803922, 0.0),\n",
       " (0.0, 0.8431372549019608, 1.0)]"
      ]
     },
     "execution_count": 28,
     "metadata": {},
     "output_type": "execute_result"
    }
   ],
   "source": [
    "sns.palettes.color_palette('bright', 10)"
   ]
  },
  {
   "cell_type": "code",
   "execution_count": null,
   "id": "d452dd96-0da4-4032-a568-17b7ec3b4b80",
   "metadata": {},
   "outputs": [],
   "source": []
  },
  {
   "cell_type": "code",
   "execution_count": 29,
   "id": "d9a8ce3d-b2f4-4951-8487-42be04579422",
   "metadata": {},
   "outputs": [],
   "source": [
    "c1 = sns.palettes.color_palette('Set2')[-1]\n",
    "c2 = sns.palettes.color_palette('bright')[-1]\n",
    "c3 = sns.palettes.color_palette('bright')[0]"
   ]
  },
  {
   "cell_type": "code",
   "execution_count": 30,
   "id": "2d83fdb2-9c68-49f0-8e3e-91b6b3467bba",
   "metadata": {},
   "outputs": [],
   "source": [
    "palette = [c1, c2, c3]"
   ]
  },
  {
   "cell_type": "code",
   "execution_count": 31,
   "id": "3e44408c-b4a8-40da-a279-99f18892040a",
   "metadata": {},
   "outputs": [
    {
     "data": {
      "image/png": "[encoded data removed]",
      "text/plain": [
       "<Figure size 800x700 with 1 Axes>"
      ]
     },
     "metadata": {},
     "output_type": "display_data"
    }
   ],
   "source": [
    "from matplotlib.ticker import MaxNLocator, FuncFormatter\n",
    "fig, ax2 = plt.subplots(figsize=(8, 7), ncols=1)\n",
    "\n",
    "axes = [ax2]\n",
    "\n",
    "\n",
    "sns.barplot(data = df, x = 'cohort', y = 'ACC', width = 0.6, hue = 'mode' , ax=ax2,\n",
    "            palette=palette,  order = x_order)\n",
    "ax2.set_ylabel('LOPO Accuracy(%)')\n",
    "ax2.set_ylim(0.3, 0.75)\n",
    "ax2.yaxis.set_major_locator(MaxNLocator(nbins=3))\n",
    "ax2.spines['right'].set_visible(False)\n",
    "ax2.spines['top'].set_visible(False)\n",
    "ax2.yaxis.set_major_formatter(FuncFormatter(lambda y, _: '{:.0%}'.format(y)))\n",
    "ax2.set_xlabel('')\n",
    "# sns.barplot(data = df, x = 'cohort', y = 'PRC', width = 0.6,  hue = 'mode' , ax=ax1,\n",
    "#             palette=palette,  order = x_order,)\n",
    "# ax1.set_ylabel('LOPO PRC')\n",
    "# ax1.set_ylim(0.15, 0.5)\n",
    "# ax1.yaxis.set_major_locator(MaxNLocator(nbins=3))\n",
    "# ax1.spines['right'].set_visible(False)\n",
    "# ax1.spines['top'].set_visible(False)\n",
    "\n",
    "\n",
    "for ax in axes:\n",
    "    ax.tick_params(axis='both', which='major', right = False, top=False, \n",
    "                   direction = 'out',reset = True)\n",
    "    \n",
    "    ax.legend([],[], frameon = False)\n",
    "    ax.set_xticklabels(x_order, \n",
    "                       rotation=55, \n",
    "                       ha=\"right\",  \n",
    "                       rotation_mode=\"anchor\")  # <====== HERE is the ke\n",
    "\n",
    "ax2.legend(bbox_to_anchor=(1.0, 0.5), loc = 'center left' , ncols =1)\n",
    "\n",
    "fig.tight_layout()\n",
    "fig.savefig('no_finetune_NFT_with_without_TMB.svg', bbox_inches = 'tight' )"
   ]
  },
  {
   "cell_type": "code",
   "execution_count": null,
   "id": "b272a494-d49e-408d-86be-42fc2df85f02",
   "metadata": {},
   "outputs": [],
   "source": []
  },
  {
   "cell_type": "code",
   "execution_count": null,
   "id": "db160c1d-2495-415e-ab40-acf2ec97ce61",
   "metadata": {},
   "outputs": [],
   "source": []
  },
  {
   "cell_type": "code",
   "execution_count": 32,
   "id": "54fe1f06-4fa6-4498-9026-cbee58f48807",
   "metadata": {},
   "outputs": [],
   "source": [
    "df.to_csv('no_finetune_NFT_with_without_TMB.csv')"
   ]
  },
  {
   "cell_type": "code",
   "execution_count": null,
   "id": "fcbe9353-bc83-456f-863f-64809c1bb87f",
   "metadata": {},
   "outputs": [],
   "source": []
  },
  {
   "cell_type": "code",
   "execution_count": null,
   "id": "fdd11d41-ff79-47b5-bac9-d61b0dd1ce49",
   "metadata": {},
   "outputs": [],
   "source": []
  },
  {
   "cell_type": "code",
   "execution_count": null,
   "id": "3d71243d-d625-435c-982d-3012b0734032",
   "metadata": {},
   "outputs": [],
   "source": []
  },
  {
   "cell_type": "code",
   "execution_count": null,
   "id": "5644e2d6-bb80-4500-b0bd-7a93549d3ee0",
   "metadata": {},
   "outputs": [],
   "source": []
  },
  {
   "cell_type": "code",
   "execution_count": null,
   "id": "b88aec7c-877f-40d5-8489-4ee3d425256b",
   "metadata": {},
   "outputs": [],
   "source": []
  },
  {
   "cell_type": "code",
   "execution_count": null,
   "id": "dd704fc7-2339-4b09-abed-3a73517064ae",
   "metadata": {},
   "outputs": [],
   "source": []
  },
  {
   "cell_type": "code",
   "execution_count": null,
   "id": "ed55c742-70f1-496d-a50f-d89e8714805d",
   "metadata": {},
   "outputs": [],
   "source": []
  },
  {
   "cell_type": "code",
   "execution_count": null,
   "id": "a3aded12-c170-4f9e-855e-87217fffa6e5",
   "metadata": {},
   "outputs": [],
   "source": []
  }
 ],
 "metadata": {
  "kernelspec": {
   "display_name": "Python 3 (ipykernel)",
   "language": "python",
   "name": "python3"
  },
  "language_info": {
   "codemirror_mode": {
    "name": "ipython",
    "version": 3
   },
   "file_extension": ".py",
   "mimetype": "text/x-python",
   "name": "python",
   "nbconvert_exporter": "python",
   "pygments_lexer": "ipython3",
   "version": "3.8.18"
  }
 },
 "nbformat": 4,
 "nbformat_minor": 5
}
