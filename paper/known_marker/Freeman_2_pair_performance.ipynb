{
 "cells": [
  {
   "cell_type": "code",
   "execution_count": 1,
   "id": "932a9e09-f51c-4278-9101-a664ef8c0996",
   "metadata": {},
   "outputs": [
    {
     "name": "stderr",
     "output_type": "stream",
     "text": [
      "/home/was966/micromamba/envs/RNA/lib/python3.11/site-packages/umap/distances.py:1063: NumbaDeprecationWarning: The 'nopython' keyword argument was not supplied to the 'numba.jit' decorator. The implicit default value for this argument is currently False, but it will be changed to True in Numba 0.59.0. See https://numba.readthedocs.io/en/stable/reference/deprecation.html#deprecation-of-object-mode-fall-back-behaviour-when-using-jit for details.\n",
      "  @numba.jit()\n",
      "/home/was966/micromamba/envs/RNA/lib/python3.11/site-packages/umap/distances.py:1071: NumbaDeprecationWarning: The 'nopython' keyword argument was not supplied to the 'numba.jit' decorator. The implicit default value for this argument is currently False, but it will be changed to True in Numba 0.59.0. See https://numba.readthedocs.io/en/stable/reference/deprecation.html#deprecation-of-object-mode-fall-back-behaviour-when-using-jit for details.\n",
      "  @numba.jit()\n",
      "/home/was966/micromamba/envs/RNA/lib/python3.11/site-packages/umap/distances.py:1086: NumbaDeprecationWarning: The 'nopython' keyword argument was not supplied to the 'numba.jit' decorator. The implicit default value for this argument is currently False, but it will be changed to True in Numba 0.59.0. See https://numba.readthedocs.io/en/stable/reference/deprecation.html#deprecation-of-object-mode-fall-back-behaviour-when-using-jit for details.\n",
      "  @numba.jit()\n",
      "/home/was966/micromamba/envs/RNA/lib/python3.11/site-packages/umap/umap_.py:660: NumbaDeprecationWarning: The 'nopython' keyword argument was not supplied to the 'numba.jit' decorator. The implicit default value for this argument is currently False, but it will be changed to True in Numba 0.59.0. See https://numba.readthedocs.io/en/stable/reference/deprecation.html#deprecation-of-object-mode-fall-back-behaviour-when-using-jit for details.\n",
      "  @numba.jit()\n"
     ]
    },
    {
     "name": "stdout",
     "output_type": "stream",
     "text": [
      "INFO: Pandarallel will run on 8 workers.\n",
      "INFO: Pandarallel will use Memory file system to transfer data between the main process and workers.\n"
     ]
    }
   ],
   "source": [
    "import pandas as pd\n",
    "import os\n",
    "from glob import glob\n",
    "import numpy as np\n",
    "import matplotlib.pyplot as plt\n",
    "from umap import UMAP\n",
    "\n",
    "from sklearn.metrics import roc_auc_score\n",
    "from pandarallel import pandarallel\n",
    "\n",
    "import seaborn as sns\n",
    "sns.set(style = 'white', font_scale=1.5)\n",
    "pandarallel.initialize(nb_workers = 8, progress_bar=True) # initialize(36) or initialize(os.cpu_count()-1)"
   ]
  },
  {
   "cell_type": "code",
   "execution_count": 4,
   "id": "a9e6f968-7bd7-448a-9dfa-da9def2f1d98",
   "metadata": {},
   "outputs": [],
   "source": [
    "import sys\n",
    "sys.path.insert(0, '/home/was966/Research/PSOG/')\n",
    "from gdd.correlation import pairwise_correlation\n",
    "from gdd.combination import pairwise_combination\n",
    "from gdd.score import Xy_score\n",
    "from gdd.plot import plot_batch\n",
    "BEST = ['PIK3CD', 'TOLLIP']\n",
    "TEST = [('MAP4K1','TBX3'), ('MAP4K1', 'AGER')]"
   ]
  },
  {
   "cell_type": "code",
   "execution_count": null,
   "id": "bd7a6924-887f-4e9f-b2db-33f36088826b",
   "metadata": {},
   "outputs": [],
   "source": []
  },
  {
   "cell_type": "code",
   "execution_count": 78,
   "id": "90ecf500-a317-4f19-9e4e-462e9c7de6ca",
   "metadata": {},
   "outputs": [],
   "source": [
    "data_path = '/n/data1/hms/dbmi/zitnik/lab/users/was966/ITRP/TCGA-ITRP-MERGE/6575/'\n",
    "\n",
    "tcga_tpm = pd.read_pickle(os.path.join(data_path, 'TPM.TCGA.TABLE'))\n",
    "itrp_tpm = pd.read_pickle(os.path.join(data_path, 'TPM.ITRP.TABLE'))\n",
    "itrp_tpm_crt = pd.read_pickle(os.path.join(data_path, 'TPM.ITRP.TABLE.CORRECT'))\n",
    "\n",
    "tcga_patient = pd.read_pickle(os.path.join(data_path, 'PATIENT.TCGA.TABLE'))\n",
    "tcga_patient['cohort'] = tcga_patient.cancer_type\n",
    "itrp_patient = pd.read_pickle(os.path.join(data_path, 'PATIENT.ITRP.TABLE'))\n",
    "gene = pd.read_pickle(os.path.join(data_path, 'GENE.TABLE'))\n",
    "\n",
    "dfp1 = itrp_tpm.join(itrp_patient.cohort)\n",
    "dfp2 = tcga_tpm.join(tcga_patient.cohort)\n",
    "dfp2 = dfp2[dfp2.cohort == 'TCGA-SKCM']\n",
    "dfp = pd.concat([dfp1, dfp2])"
   ]
  },
  {
   "cell_type": "code",
   "execution_count": 79,
   "id": "f24fd888-1d1e-41a5-bbd7-877abf6399d2",
   "metadata": {},
   "outputs": [],
   "source": [
    "m1 = (itrp_tpm['MAP4K1'] - itrp_tpm['TBX3'])\n",
    "m1.name = 'MAP4K1 - TBX3'\n",
    "\n",
    "m2 = (itrp_tpm['MAP4K1'] - itrp_tpm['AGER'])\n",
    "m2.name = 'MAP4K1 - AGER'"
   ]
  },
  {
   "cell_type": "code",
   "execution_count": 162,
   "id": "84758075-772b-432d-b061-5e5a504cb29d",
   "metadata": {},
   "outputs": [
    {
     "data": {
      "text/plain": [
       "array(['R', 'NR'], dtype=object)"
      ]
     },
     "execution_count": 162,
     "metadata": {},
     "output_type": "execute_result"
    }
   ],
   "source": [
    "y_col = 'Freeman_response_correction'\n",
    "dfxy = itrp_patient[[y_col]].join(m1).join(m2).dropna()\n",
    "dfxy[y_col].unique()"
   ]
  },
  {
   "cell_type": "code",
   "execution_count": 163,
   "id": "9209ff90-2b3d-48f7-9e09-4e232707e1e9",
   "metadata": {},
   "outputs": [],
   "source": [
    "#dfxy[y_col] = dfxy[y_col].map({'R':'X', 'NR': 'Y'})\n",
    "#dfxy = dfxy.dropna()"
   ]
  },
  {
   "cell_type": "code",
   "execution_count": 164,
   "id": "b807d2ec-7954-4b17-b225-bbb3399c38a4",
   "metadata": {},
   "outputs": [
    {
     "data": {
      "text/plain": [
       "Index(['Sample_id', 'RECIST', 'Patient', 'Age', 'Gender', 'Primary_tumor',\n",
       "       'Overall_survival', 'Alive (Y=1, No=0)', 'Timing', 'Freeman_response',\n",
       "       'Therapy', 'Prior_CTLA4', 'cohort', 'tmb.dan', 'tmb.wang',\n",
       "       'participant', 'is_in_FreeMan', 'rnaseq_id', 'RECIST_Response',\n",
       "       'Freeman_response_correction'],\n",
       "      dtype='object')"
      ]
     },
     "execution_count": 164,
     "metadata": {},
     "output_type": "execute_result"
    }
   ],
   "source": [
    "itrp_patient.columns"
   ]
  },
  {
   "cell_type": "code",
   "execution_count": 166,
   "id": "ea3d86bd-836a-487a-83bf-36300351c78f",
   "metadata": {},
   "outputs": [
    {
     "data": {
      "text/html": [
       "<div>\n",
       "<style scoped>\n",
       "    .dataframe tbody tr th:only-of-type {\n",
       "        vertical-align: middle;\n",
       "    }\n",
       "\n",
       "    .dataframe tbody tr th {\n",
       "        vertical-align: top;\n",
       "    }\n",
       "\n",
       "    .dataframe thead th {\n",
       "        text-align: right;\n",
       "    }\n",
       "</style>\n",
       "<table border=\"1\" class=\"dataframe\">\n",
       "  <thead>\n",
       "    <tr style=\"text-align: right;\">\n",
       "      <th>Freeman_response_correction</th>\n",
       "      <th>NR</th>\n",
       "      <th>R</th>\n",
       "    </tr>\n",
       "    <tr>\n",
       "      <th>cohort</th>\n",
       "      <th></th>\n",
       "      <th></th>\n",
       "    </tr>\n",
       "  </thead>\n",
       "  <tbody>\n",
       "    <tr>\n",
       "      <th>Allen</th>\n",
       "      <td>26</td>\n",
       "      <td>13</td>\n",
       "    </tr>\n",
       "    <tr>\n",
       "      <th>Gide</th>\n",
       "      <td>32</td>\n",
       "      <td>41</td>\n",
       "    </tr>\n",
       "    <tr>\n",
       "      <th>Hugo</th>\n",
       "      <td>17</td>\n",
       "      <td>9</td>\n",
       "    </tr>\n",
       "    <tr>\n",
       "      <th>Liu</th>\n",
       "      <td>66</td>\n",
       "      <td>41</td>\n",
       "    </tr>\n",
       "    <tr>\n",
       "      <th>MGH</th>\n",
       "      <td>24</td>\n",
       "      <td>14</td>\n",
       "    </tr>\n",
       "    <tr>\n",
       "      <th>Riaz</th>\n",
       "      <td>41</td>\n",
       "      <td>10</td>\n",
       "    </tr>\n",
       "  </tbody>\n",
       "</table>\n",
       "</div>"
      ],
      "text/plain": [
       "Freeman_response_correction  NR   R\n",
       "cohort                             \n",
       "Allen                        26  13\n",
       "Gide                         32  41\n",
       "Hugo                         17   9\n",
       "Liu                          66  41\n",
       "MGH                          24  14\n",
       "Riaz                         41  10"
      ]
     },
     "execution_count": 166,
     "metadata": {},
     "output_type": "execute_result"
    }
   ],
   "source": [
    "itrp_patient[['cohort',y_col]].groupby(['cohort',y_col]).size().unstack()"
   ]
  },
  {
   "cell_type": "code",
   "execution_count": 167,
   "id": "d093f5f4-2aa9-4c90-97da-feb507749ee5",
   "metadata": {},
   "outputs": [
    {
     "data": {
      "text/html": [
       "<div>\n",
       "<style scoped>\n",
       "    .dataframe tbody tr th:only-of-type {\n",
       "        vertical-align: middle;\n",
       "    }\n",
       "\n",
       "    .dataframe tbody tr th {\n",
       "        vertical-align: top;\n",
       "    }\n",
       "\n",
       "    .dataframe thead th {\n",
       "        text-align: right;\n",
       "    }\n",
       "</style>\n",
       "<table border=\"1\" class=\"dataframe\">\n",
       "  <thead>\n",
       "    <tr style=\"text-align: right;\">\n",
       "      <th>Freeman_response_correction</th>\n",
       "      <th>NR</th>\n",
       "      <th>R</th>\n",
       "    </tr>\n",
       "    <tr>\n",
       "      <th>cohort</th>\n",
       "      <th></th>\n",
       "      <th></th>\n",
       "    </tr>\n",
       "  </thead>\n",
       "  <tbody>\n",
       "    <tr>\n",
       "      <th>Allen</th>\n",
       "      <td>26</td>\n",
       "      <td>13</td>\n",
       "    </tr>\n",
       "    <tr>\n",
       "      <th>Gide</th>\n",
       "      <td>32</td>\n",
       "      <td>41</td>\n",
       "    </tr>\n",
       "    <tr>\n",
       "      <th>Hugo</th>\n",
       "      <td>17</td>\n",
       "      <td>9</td>\n",
       "    </tr>\n",
       "    <tr>\n",
       "      <th>Liu</th>\n",
       "      <td>66</td>\n",
       "      <td>41</td>\n",
       "    </tr>\n",
       "    <tr>\n",
       "      <th>MGH</th>\n",
       "      <td>24</td>\n",
       "      <td>14</td>\n",
       "    </tr>\n",
       "    <tr>\n",
       "      <th>Riaz</th>\n",
       "      <td>41</td>\n",
       "      <td>10</td>\n",
       "    </tr>\n",
       "  </tbody>\n",
       "</table>\n",
       "</div>"
      ],
      "text/plain": [
       "Freeman_response_correction  NR   R\n",
       "cohort                             \n",
       "Allen                        26  13\n",
       "Gide                         32  41\n",
       "Hugo                         17   9\n",
       "Liu                          66  41\n",
       "MGH                          24  14\n",
       "Riaz                         41  10"
      ]
     },
     "execution_count": 167,
     "metadata": {},
     "output_type": "execute_result"
    }
   ],
   "source": [
    "itrp_patient[['cohort',y_col]].groupby(['cohort',y_col]).size().unstack()"
   ]
  },
  {
   "cell_type": "code",
   "execution_count": 168,
   "id": "3f1bd39b-4d8f-4567-b2f0-4715aedac42d",
   "metadata": {},
   "outputs": [
    {
     "data": {
      "text/html": [
       "<div>\n",
       "<style scoped>\n",
       "    .dataframe tbody tr th:only-of-type {\n",
       "        vertical-align: middle;\n",
       "    }\n",
       "\n",
       "    .dataframe tbody tr th {\n",
       "        vertical-align: top;\n",
       "    }\n",
       "\n",
       "    .dataframe thead th {\n",
       "        text-align: right;\n",
       "    }\n",
       "</style>\n",
       "<table border=\"1\" class=\"dataframe\">\n",
       "  <thead>\n",
       "    <tr style=\"text-align: right;\">\n",
       "      <th>Freeman_response_correction</th>\n",
       "      <th>NR</th>\n",
       "      <th>R</th>\n",
       "    </tr>\n",
       "    <tr>\n",
       "      <th>cohort</th>\n",
       "      <th></th>\n",
       "      <th></th>\n",
       "    </tr>\n",
       "  </thead>\n",
       "  <tbody>\n",
       "    <tr>\n",
       "      <th>Allen</th>\n",
       "      <td>26</td>\n",
       "      <td>13</td>\n",
       "    </tr>\n",
       "    <tr>\n",
       "      <th>Gide</th>\n",
       "      <td>32</td>\n",
       "      <td>41</td>\n",
       "    </tr>\n",
       "    <tr>\n",
       "      <th>Hugo</th>\n",
       "      <td>17</td>\n",
       "      <td>9</td>\n",
       "    </tr>\n",
       "    <tr>\n",
       "      <th>Liu</th>\n",
       "      <td>66</td>\n",
       "      <td>41</td>\n",
       "    </tr>\n",
       "    <tr>\n",
       "      <th>MGH</th>\n",
       "      <td>24</td>\n",
       "      <td>14</td>\n",
       "    </tr>\n",
       "    <tr>\n",
       "      <th>Riaz</th>\n",
       "      <td>41</td>\n",
       "      <td>10</td>\n",
       "    </tr>\n",
       "  </tbody>\n",
       "</table>\n",
       "</div>"
      ],
      "text/plain": [
       "Freeman_response_correction  NR   R\n",
       "cohort                             \n",
       "Allen                        26  13\n",
       "Gide                         32  41\n",
       "Hugo                         17   9\n",
       "Liu                          66  41\n",
       "MGH                          24  14\n",
       "Riaz                         41  10"
      ]
     },
     "execution_count": 168,
     "metadata": {},
     "output_type": "execute_result"
    }
   ],
   "source": [
    "itrp_patient[['cohort',y_col]].groupby(['cohort',y_col]).size().unstack()"
   ]
  },
  {
   "cell_type": "code",
   "execution_count": 169,
   "id": "6c683cca-0f28-4509-bd29-c8fd7dd035eb",
   "metadata": {},
   "outputs": [
    {
     "name": "stderr",
     "output_type": "stream",
     "text": [
      "100%|##########| 2/2 [00:00<00:00, 1259.93it/s]\n",
      "100%|##########| 2/2 [00:00<00:00, 1052.66it/s]\n",
      "100%|##########| 2/2 [00:00<00:00, 1807.50it/s]\n"
     ]
    }
   ],
   "source": [
    "mic = Xy_score(dfxy, y_col, method='mic', n_jobs=6)\n",
    "prc = Xy_score(dfxy, y_col, method='prc', n_jobs=6)\n",
    "roc = Xy_score(dfxy, y_col, method='roc', n_jobs=6)"
   ]
  },
  {
   "cell_type": "code",
   "execution_count": null,
   "id": "0e2b54e6-335d-44c5-af75-b77915d3dee0",
   "metadata": {},
   "outputs": [],
   "source": []
  },
  {
   "cell_type": "code",
   "execution_count": 170,
   "id": "358264c6-ed2f-41c7-97ee-ebd7d5f4d77d",
   "metadata": {},
   "outputs": [],
   "source": [
    "score = mic.join(prc).join(roc)\n",
    "score['mean'] = score.mean(axis=1)\n",
    "score = score.sort_values('roc')"
   ]
  },
  {
   "cell_type": "code",
   "execution_count": 171,
   "id": "468e4d7c-97bf-4961-9fb0-e614fd7fa37f",
   "metadata": {},
   "outputs": [
    {
     "data": {
      "text/html": [
       "<div>\n",
       "<style scoped>\n",
       "    .dataframe tbody tr th:only-of-type {\n",
       "        vertical-align: middle;\n",
       "    }\n",
       "\n",
       "    .dataframe tbody tr th {\n",
       "        vertical-align: top;\n",
       "    }\n",
       "\n",
       "    .dataframe thead th {\n",
       "        text-align: right;\n",
       "    }\n",
       "</style>\n",
       "<table border=\"1\" class=\"dataframe\">\n",
       "  <thead>\n",
       "    <tr style=\"text-align: right;\">\n",
       "      <th></th>\n",
       "      <th>mic</th>\n",
       "      <th>prc</th>\n",
       "      <th>roc</th>\n",
       "      <th>mean</th>\n",
       "    </tr>\n",
       "    <tr>\n",
       "      <th>gene_name</th>\n",
       "      <th></th>\n",
       "      <th></th>\n",
       "      <th></th>\n",
       "      <th></th>\n",
       "    </tr>\n",
       "  </thead>\n",
       "  <tbody>\n",
       "    <tr>\n",
       "      <th>MAP4K1 - TBX3</th>\n",
       "      <td>0.038412</td>\n",
       "      <td>0.536617</td>\n",
       "      <td>0.629513</td>\n",
       "      <td>0.401514</td>\n",
       "    </tr>\n",
       "    <tr>\n",
       "      <th>MAP4K1 - AGER</th>\n",
       "      <td>0.027647</td>\n",
       "      <td>0.554715</td>\n",
       "      <td>0.670055</td>\n",
       "      <td>0.417472</td>\n",
       "    </tr>\n",
       "  </tbody>\n",
       "</table>\n",
       "</div>"
      ],
      "text/plain": [
       "                    mic       prc       roc      mean\n",
       "gene_name                                            \n",
       "MAP4K1 - TBX3  0.038412  0.536617  0.629513  0.401514\n",
       "MAP4K1 - AGER  0.027647  0.554715  0.670055  0.417472"
      ]
     },
     "execution_count": 171,
     "metadata": {},
     "output_type": "execute_result"
    }
   ],
   "source": [
    "score"
   ]
  },
  {
   "cell_type": "code",
   "execution_count": 172,
   "id": "3a43c22f-97a5-457d-9383-8de2b12aa488",
   "metadata": {},
   "outputs": [
    {
     "name": "stderr",
     "output_type": "stream",
     "text": [
      "100%|##########| 1/1 [00:00<00:00, 965.98it/s]\n",
      "100%|##########| 1/1 [00:00<00:00, 1169.96it/s]\n",
      "100%|##########| 1/1 [00:00<00:00, 655.77it/s]\n",
      "100%|##########| 1/1 [00:00<00:00, 883.57it/s]\n",
      "100%|##########| 1/1 [00:00<00:00, 1150.70it/s]\n",
      "100%|##########| 1/1 [00:00<00:00, 760.39it/s]\n",
      "100%|##########| 1/1 [00:00<00:00, 1000.07it/s]\n",
      "100%|##########| 1/1 [00:00<00:00, 787.96it/s]\n",
      "100%|##########| 1/1 [00:00<00:00, 1030.54it/s]\n",
      "100%|##########| 1/1 [00:00<00:00, 1035.37it/s]\n",
      "100%|##########| 1/1 [00:00<00:00, 1523.54it/s]\n",
      "100%|##########| 1/1 [00:00<00:00, 1582.76it/s]\n"
     ]
    },
    {
     "data": {
      "text/html": [
       "<div>\n",
       "<style scoped>\n",
       "    .dataframe tbody tr th:only-of-type {\n",
       "        vertical-align: middle;\n",
       "    }\n",
       "\n",
       "    .dataframe tbody tr th {\n",
       "        vertical-align: top;\n",
       "    }\n",
       "\n",
       "    .dataframe thead th {\n",
       "        text-align: right;\n",
       "    }\n",
       "</style>\n",
       "<table border=\"1\" class=\"dataframe\">\n",
       "  <thead>\n",
       "    <tr style=\"text-align: right;\">\n",
       "      <th></th>\n",
       "      <th></th>\n",
       "      <th>roc</th>\n",
       "      <th>prc</th>\n",
       "    </tr>\n",
       "    <tr>\n",
       "      <th>cohort</th>\n",
       "      <th>gene_name</th>\n",
       "      <th></th>\n",
       "      <th></th>\n",
       "    </tr>\n",
       "  </thead>\n",
       "  <tbody>\n",
       "    <tr>\n",
       "      <th>Allen</th>\n",
       "      <th>MAP4K1 - AGER</th>\n",
       "      <td>0.674556</td>\n",
       "      <td>0.482607</td>\n",
       "    </tr>\n",
       "    <tr>\n",
       "      <th>Gide</th>\n",
       "      <th>MAP4K1 - AGER</th>\n",
       "      <td>0.678354</td>\n",
       "      <td>0.655044</td>\n",
       "    </tr>\n",
       "    <tr>\n",
       "      <th>Hugo</th>\n",
       "      <th>MAP4K1 - AGER</th>\n",
       "      <td>0.712418</td>\n",
       "      <td>0.437103</td>\n",
       "    </tr>\n",
       "    <tr>\n",
       "      <th>Liu</th>\n",
       "      <th>MAP4K1 - AGER</th>\n",
       "      <td>0.536585</td>\n",
       "      <td>0.433561</td>\n",
       "    </tr>\n",
       "    <tr>\n",
       "      <th>MGH</th>\n",
       "      <th>MAP4K1 - AGER</th>\n",
       "      <td>0.610119</td>\n",
       "      <td>0.578710</td>\n",
       "    </tr>\n",
       "    <tr>\n",
       "      <th>Riaz</th>\n",
       "      <th>MAP4K1 - AGER</th>\n",
       "      <td>0.873171</td>\n",
       "      <td>0.749879</td>\n",
       "    </tr>\n",
       "  </tbody>\n",
       "</table>\n",
       "</div>"
      ],
      "text/plain": [
       "                           roc       prc\n",
       "cohort gene_name                        \n",
       "Allen  MAP4K1 - AGER  0.674556  0.482607\n",
       "Gide   MAP4K1 - AGER  0.678354  0.655044\n",
       "Hugo   MAP4K1 - AGER  0.712418  0.437103\n",
       "Liu    MAP4K1 - AGER  0.536585  0.433561\n",
       "MGH    MAP4K1 - AGER  0.610119  0.578710\n",
       "Riaz   MAP4K1 - AGER  0.873171  0.749879"
      ]
     },
     "execution_count": 172,
     "metadata": {},
     "output_type": "execute_result"
    },
    {
     "data": {
      "image/png": "[encoded data removed]",
      "text/plain": [
       "<Figure size 640x480 with 1 Axes>"
      ]
     },
     "metadata": {},
     "output_type": "display_data"
    }
   ],
   "source": [
    "yc = 'MAP4K1 - AGER'\n",
    "dfpp = dfxy.join(itrp_patient.cohort)[[yc, 'cohort', y_col]]\n",
    "sns.boxplot(dfpp, y = yc, x = 'cohort', hue = y_col)\n",
    "roc = dfpp.groupby('cohort').apply(lambda dfxy:Xy_score(dfxy[[yc, y_col]], y_col, method='roc', n_jobs=6))\n",
    "prc = dfpp.groupby('cohort').apply(lambda dfxy:Xy_score(dfxy[[yc, y_col]], y_col, method='prc', n_jobs=6))\n",
    "roc.join(prc)"
   ]
  },
  {
   "cell_type": "code",
   "execution_count": 173,
   "id": "546ce6e3-dda6-4a55-927a-7a90d6f0ecb9",
   "metadata": {},
   "outputs": [
    {
     "data": {
      "text/plain": [
       "roc    0.680867\n",
       "prc    0.556151\n",
       "dtype: float64"
      ]
     },
     "execution_count": 173,
     "metadata": {},
     "output_type": "execute_result"
    }
   ],
   "source": [
    "roc.join(prc).mean()"
   ]
  },
  {
   "cell_type": "code",
   "execution_count": null,
   "id": "13a8e7de-07af-4abe-b723-a65b33d5d918",
   "metadata": {},
   "outputs": [],
   "source": []
  },
  {
   "cell_type": "code",
   "execution_count": null,
   "id": "64b3e36f-9d7f-4126-b6f5-91adcd5c628c",
   "metadata": {},
   "outputs": [],
   "source": []
  },
  {
   "cell_type": "code",
   "execution_count": 174,
   "id": "478c38b5-eb22-4099-8d4f-c96203b22534",
   "metadata": {},
   "outputs": [
    {
     "data": {
      "text/plain": [
       "<Axes: xlabel='cohort', ylabel='MAP4K1 - TBX3'>"
      ]
     },
     "execution_count": 174,
     "metadata": {},
     "output_type": "execute_result"
    },
    {
     "data": {
      "image/png": "[encoded data removed]",
      "text/plain": [
       "<Figure size 640x480 with 1 Axes>"
      ]
     },
     "metadata": {},
     "output_type": "display_data"
    }
   ],
   "source": [
    "yc = 'MAP4K1 - TBX3'\n",
    "dfpp = dfxy.join(itrp_patient.cohort)[[yc, 'cohort', y_col]]\n",
    "sns.boxplot(dfpp, y = yc, x = 'cohort', hue = y_col)"
   ]
  },
  {
   "cell_type": "code",
   "execution_count": 175,
   "id": "41fcf1b0-5ad2-4930-a842-f1a6d8d5c2b9",
   "metadata": {},
   "outputs": [
    {
     "name": "stderr",
     "output_type": "stream",
     "text": [
      "100%|##########| 1/1 [00:00<00:00, 607.34it/s]\n",
      "100%|##########| 1/1 [00:00<00:00, 939.37it/s]\n",
      "100%|##########| 1/1 [00:00<00:00, 1163.79it/s]\n",
      "100%|##########| 1/1 [00:00<00:00, 949.37it/s]\n",
      "100%|##########| 1/1 [00:00<00:00, 926.10it/s]\n",
      "100%|##########| 1/1 [00:00<00:00, 984.12it/s]\n",
      "100%|##########| 1/1 [00:00<00:00, 830.23it/s]\n",
      "100%|##########| 1/1 [00:00<00:00, 786.48it/s]\n",
      "100%|##########| 1/1 [00:00<00:00, 878.57it/s]\n",
      "100%|##########| 1/1 [00:00<00:00, 812.06it/s]\n",
      "100%|##########| 1/1 [00:00<00:00, 955.86it/s]\n",
      "100%|##########| 1/1 [00:00<00:00, 1091.13it/s]\n"
     ]
    },
    {
     "data": {
      "text/html": [
       "<div>\n",
       "<style scoped>\n",
       "    .dataframe tbody tr th:only-of-type {\n",
       "        vertical-align: middle;\n",
       "    }\n",
       "\n",
       "    .dataframe tbody tr th {\n",
       "        vertical-align: top;\n",
       "    }\n",
       "\n",
       "    .dataframe thead th {\n",
       "        text-align: right;\n",
       "    }\n",
       "</style>\n",
       "<table border=\"1\" class=\"dataframe\">\n",
       "  <thead>\n",
       "    <tr style=\"text-align: right;\">\n",
       "      <th></th>\n",
       "      <th></th>\n",
       "      <th>roc</th>\n",
       "      <th>prc</th>\n",
       "    </tr>\n",
       "    <tr>\n",
       "      <th>cohort</th>\n",
       "      <th>gene_name</th>\n",
       "      <th></th>\n",
       "      <th></th>\n",
       "    </tr>\n",
       "  </thead>\n",
       "  <tbody>\n",
       "    <tr>\n",
       "      <th>Allen</th>\n",
       "      <th>MAP4K1 - TBX3</th>\n",
       "      <td>0.757396</td>\n",
       "      <td>0.618923</td>\n",
       "    </tr>\n",
       "    <tr>\n",
       "      <th>Gide</th>\n",
       "      <th>MAP4K1 - TBX3</th>\n",
       "      <td>0.587652</td>\n",
       "      <td>0.656129</td>\n",
       "    </tr>\n",
       "    <tr>\n",
       "      <th>Hugo</th>\n",
       "      <th>MAP4K1 - TBX3</th>\n",
       "      <td>0.529412</td>\n",
       "      <td>0.337406</td>\n",
       "    </tr>\n",
       "    <tr>\n",
       "      <th>Liu</th>\n",
       "      <th>MAP4K1 - TBX3</th>\n",
       "      <td>0.559867</td>\n",
       "      <td>0.461676</td>\n",
       "    </tr>\n",
       "    <tr>\n",
       "      <th>MGH</th>\n",
       "      <th>MAP4K1 - TBX3</th>\n",
       "      <td>0.633929</td>\n",
       "      <td>0.602507</td>\n",
       "    </tr>\n",
       "    <tr>\n",
       "      <th>Riaz</th>\n",
       "      <th>MAP4K1 - TBX3</th>\n",
       "      <td>0.709756</td>\n",
       "      <td>0.510032</td>\n",
       "    </tr>\n",
       "  </tbody>\n",
       "</table>\n",
       "</div>"
      ],
      "text/plain": [
       "                           roc       prc\n",
       "cohort gene_name                        \n",
       "Allen  MAP4K1 - TBX3  0.757396  0.618923\n",
       "Gide   MAP4K1 - TBX3  0.587652  0.656129\n",
       "Hugo   MAP4K1 - TBX3  0.529412  0.337406\n",
       "Liu    MAP4K1 - TBX3  0.559867  0.461676\n",
       "MGH    MAP4K1 - TBX3  0.633929  0.602507\n",
       "Riaz   MAP4K1 - TBX3  0.709756  0.510032"
      ]
     },
     "execution_count": 175,
     "metadata": {},
     "output_type": "execute_result"
    }
   ],
   "source": [
    "roc = dfpp.groupby('cohort').apply(lambda dfxy:Xy_score(dfxy[[yc, y_col]], y_col, method='roc', n_jobs=6))\n",
    "prc = dfpp.groupby('cohort').apply(lambda dfxy:Xy_score(dfxy[[yc, y_col]], y_col, method='prc', n_jobs=6))\n",
    "roc.join(prc)"
   ]
  },
  {
   "cell_type": "code",
   "execution_count": 176,
   "id": "2ffcadfc-398f-4775-b724-f07ada13ec29",
   "metadata": {},
   "outputs": [
    {
     "data": {
      "text/plain": [
       "roc    0.629669\n",
       "prc    0.531112\n",
       "dtype: float64"
      ]
     },
     "execution_count": 176,
     "metadata": {},
     "output_type": "execute_result"
    }
   ],
   "source": [
    "roc.join(prc).mean()"
   ]
  },
  {
   "cell_type": "code",
   "execution_count": null,
   "id": "5cc59598-cb9a-49f4-8545-0d71c2fff7fa",
   "metadata": {},
   "outputs": [],
   "source": []
  },
  {
   "cell_type": "code",
   "execution_count": null,
   "id": "6b1e1e1b-148c-4aa1-aeb2-e9d4549762a0",
   "metadata": {},
   "outputs": [],
   "source": []
  },
  {
   "cell_type": "code",
   "execution_count": null,
   "id": "b8768a27-f7b4-4cf6-ba13-9947971decae",
   "metadata": {},
   "outputs": [],
   "source": []
  }
 ],
 "metadata": {
  "kernelspec": {
   "display_name": "Python 3 (ipykernel)",
   "language": "python",
   "name": "python3"
  },
  "language_info": {
   "codemirror_mode": {
    "name": "ipython",
    "version": 3
   },
   "file_extension": ".py",
   "mimetype": "text/x-python",
   "name": "python",
   "nbconvert_exporter": "python",
   "pygments_lexer": "ipython3",
   "version": "3.11.4"
  }
 },
 "nbformat": 4,
 "nbformat_minor": 5
}
