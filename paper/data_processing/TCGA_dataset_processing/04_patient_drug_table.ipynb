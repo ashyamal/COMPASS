{
 "cells": [
  {
   "cell_type": "code",
   "execution_count": 1,
   "id": "6931232e-1012-4d65-a52c-a712d174d7fc",
   "metadata": {},
   "outputs": [],
   "source": [
    "import pandas as pd\n",
    "import os\n",
    "import numpy as np\n",
    "import matplotlib.pyplot as plt\n",
    "import seaborn as sns\n",
    "from glob import glob\n",
    "\n",
    "tcga_data_path = '/n/data1/hms/dbmi/zitnik/lab/users/was966/TCGA/GDC_v37'\n",
    "tpms = glob(os.path.join(tcga_data_path, '*', 'rnaSeq_tpm_matrix.csv'))\n",
    "samples = glob(os.path.join(tcga_data_path, '*', 'rnaSeq_sample_table.txt'))\n",
    "genes = glob(os.path.join(tcga_data_path, '*', 'rnaSeq_gene_table.txt'))\n",
    "scnvs = glob(os.path.join(tcga_data_path, '*', 'SCNV_table.txt'))\n",
    "snvs = glob(os.path.join(tcga_data_path, '*', 'SNV_table.txt'))\n",
    "drugs = glob(os.path.join(tcga_data_path, '*', 'clinical_drug_table.txt'))\n",
    "patients = glob(os.path.join(tcga_data_path, '*', 'clinical_patient_table.txt'))\n",
    "proteins = glob(os.path.join(tcga_data_path, '*', 'proteome_table.txt'))"
   ]
  },
  {
   "cell_type": "markdown",
   "id": "c0beb6b4-a0a6-4f3a-b369-600396e70664",
   "metadata": {},
   "source": [
    "### patient table"
   ]
  },
  {
   "cell_type": "code",
   "execution_count": 4,
   "id": "de8aabea-c052-4656-bbc8-05d6a3c99ee9",
   "metadata": {},
   "outputs": [],
   "source": [
    "pt_tbs = [pd.read_csv(patient, sep='\\t') for patient in patients]\n",
    "df_patients = pd.concat(pt_tbs, axis=0)\n",
    "df_patients = df_patients.set_index('bcr_patient_barcode')"
   ]
  },
  {
   "cell_type": "markdown",
   "id": "c2b1da39-9462-45c9-8f84-36144e6a2002",
   "metadata": {},
   "source": [
    "### drug table"
   ]
  },
  {
   "cell_type": "code",
   "execution_count": 3,
   "id": "15308feb-efd2-45d2-afa3-8bd72576be61",
   "metadata": {},
   "outputs": [
    {
     "data": {
      "text/plain": [
       "Avastin                           15\n",
       "Interferon                        12\n",
       "Ipilimumab                         6\n",
       "BCG                                5\n",
       "Interleukin-2                      4\n",
       "ipilimumab                         3\n",
       "erbitux                            2\n",
       "Bevacizumab                        2\n",
       "Cetuximab                          2\n",
       "Bacillus Calmette-Guerin (BCG)     1\n",
       "Interferon Alpha                   1\n",
       "Ciclosporin                        1\n",
       "Interferon alpha                   1\n",
       "Leukine                            1\n",
       "Tyrosine kinase inhibitor          1\n",
       "Laferon                            1\n",
       "MORAb-004                          1\n",
       "Yervoy                             1\n",
       "Interleukin - 2                    1\n",
       "Interferon-α2                      1\n",
       "INF                                1\n",
       "Femara                             1\n",
       "Enoticumab                         1\n",
       "BCG, Intravesicular                1\n",
       "bevacizumab                        1\n",
       "Gefitinib                          1\n",
       "Erlotinib                          1\n",
       "BEVACIZUMAB                        1\n",
       "avastin                            1\n",
       "Trastuzumab                        1\n",
       "HERCEPTIN                          1\n",
       "Rituximab                          1\n",
       "I131-81C6                          1\n",
       "MR1-1                              1\n",
       "Temozolomide                       1\n",
       "IL2                                1\n",
       "Name: drug_name, dtype: int64"
      ]
     },
     "execution_count": 3,
     "metadata": {},
     "output_type": "execute_result"
    }
   ],
   "source": [
    "drug_tbs = []\n",
    "for drug in drugs:\n",
    "    try:\n",
    "        dfd = pd.read_csv(drug, sep='\\t')\n",
    "        drug_tbs.append(dfd)\n",
    "    except:\n",
    "        continue\n",
    "df_drug = pd.concat(drug_tbs,axis=0)\n",
    "\n",
    "selected_drug_cols = ['bcr_patient_barcode', 'bcr_drug_barcode', 'therapy_types', 'drug_name', 'measure_of_response', 'project']\n",
    "respond_map = {'Complete Response':'responder', \n",
    "                 'Clinical Progressive Disease':'nonresponder',\n",
    "                 'Partial Response':'responder', \n",
    "                 'Stable Disease':np.nan}\n",
    "\n",
    "df_drug = df_drug[selected_drug_cols]\n",
    "df_drug['respond_label'] = df_drug.measure_of_response.map(respond_map)\n",
    "df_drug = df_drug[~df_drug.respond_label.isna()]\n",
    "\n",
    "df_drug[df_drug.therapy_types == 'Immunotherapy'].drug_name.value_counts()"
   ]
  },
  {
   "cell_type": "code",
   "execution_count": 11,
   "id": "54dbf3f7-b605-4515-8cd8-6013905e6523",
   "metadata": {},
   "outputs": [],
   "source": [
    "df_patients.iloc[:10].to_csv('1.csv')"
   ]
  },
  {
   "cell_type": "code",
   "execution_count": null,
   "id": "0cbe23fc-7dd9-4290-a03d-2e6fb0ca6187",
   "metadata": {},
   "outputs": [],
   "source": [
    "pd.S"
   ]
  },
  {
   "cell_type": "code",
   "execution_count": 12,
   "id": "27b69a1f-93f7-4449-91b9-5c667980ce36",
   "metadata": {},
   "outputs": [
    {
     "data": {
      "text/plain": [
       "Index(['additional_studies', 'tissue_source_site', 'patient_id',\n",
       "       'bcr_patient_uuid', 'informed_consent_verified', 'icd_o_3_site',\n",
       "       'icd_o_3_histology', 'icd_10',\n",
       "       'tissue_prospective_collection_indicator',\n",
       "       'tissue_retrospective_collection_indicator',\n",
       "       ...\n",
       "       'bilirubin_upper_limit', 'bilirubin_lower_limit',\n",
       "       'total_bilirubin_upper_limit', 'creatinine_value_in_mg_dl',\n",
       "       'creatinine_lower_level', 'creatinine_upper_limit',\n",
       "       'fibrosis_ishak_score',\n",
       "       'adjacent_hepatic_tissue_inflammation_extent_type',\n",
       "       'viral_hepatitis_serologies', 'ablations'],\n",
       "      dtype='object', length=640)"
      ]
     },
     "execution_count": 12,
     "metadata": {},
     "output_type": "execute_result"
    }
   ],
   "source": [
    "df_patients.columns"
   ]
  },
  {
   "cell_type": "code",
   "execution_count": null,
   "id": "6836dd2e-cc3b-4e6a-80c8-981f9179a523",
   "metadata": {},
   "outputs": [],
   "source": []
  }
 ],
 "metadata": {
  "kernelspec": {
   "display_name": "Python 3 (ipykernel)",
   "language": "python",
   "name": "python3"
  },
  "language_info": {
   "codemirror_mode": {
    "name": "ipython",
    "version": 3
   },
   "file_extension": ".py",
   "mimetype": "text/x-python",
   "name": "python",
   "nbconvert_exporter": "python",
   "pygments_lexer": "ipython3",
   "version": "3.8.17"
  }
 },
 "nbformat": 4,
 "nbformat_minor": 5
}
