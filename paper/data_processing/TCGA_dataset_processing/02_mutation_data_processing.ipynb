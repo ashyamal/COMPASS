{
 "cells": [
  {
   "cell_type": "code",
   "execution_count": 67,
   "id": "bdaedd16-a209-49fe-b466-4b0f3f694174",
   "metadata": {},
   "outputs": [],
   "source": [
    "import pandas as pd\n",
    "import os\n",
    "import numpy as np\n",
    "import matplotlib.pyplot as plt\n",
    "import seaborn as sns\n",
    "from glob import glob\n",
    "\n",
    "\n",
    "captureSize = 35.8 #for tmb claculation\n",
    "\n",
    "VC_NONSYNONYMOUS_LIST = ['Frame_Shift_Del',\n",
    "                         'Frame_Shift_Ins',\n",
    "                         'In_Frame_Del',\n",
    "                         'In_Frame_Ins',\n",
    "                         'Missense_Mutation',\n",
    "                         'Nonsense_Mutation',\n",
    "                         'Splice_Site',\n",
    "                         'Nonstop_Mutation',\n",
    "                         'Splice_Region']\n",
    "\n",
    "truncate_mut_LIST = ['Nonsense_Mutation', 'Frame_Shift_Ins','Frame_Shift_Del','Splice_Site']\n",
    "nontruncate_mut_LIST = ['Missense_Mutation','In_Frame_Del', 'In_Frame_Ins','Nonstop_Mutation']"
   ]
  },
  {
   "cell_type": "code",
   "execution_count": 68,
   "id": "3770220c-d0c1-4b10-8439-04da3a463fc3",
   "metadata": {},
   "outputs": [],
   "source": [
    "tcga_data_path = '/n/data1/hms/dbmi/zitnik/lab/users/was966/TCGA/GDC_v37'"
   ]
  },
  {
   "cell_type": "code",
   "execution_count": 69,
   "id": "2146cae9-424a-479c-847a-3e7a2979f5d2",
   "metadata": {},
   "outputs": [],
   "source": [
    "tpms = glob(os.path.join(tcga_data_path, '*', 'rnaSeq_tpm_matrix.csv'))\n",
    "samples = glob(os.path.join(tcga_data_path, '*', 'rnaSeq_sample_table.txt'))\n",
    "genes = glob(os.path.join(tcga_data_path, '*', 'rnaSeq_gene_table.txt'))\n",
    "scnvs = glob(os.path.join(tcga_data_path, '*', 'SCNV_table.txt'))\n",
    "snvs = glob(os.path.join(tcga_data_path, '*', 'SNV_table.txt'))\n",
    "drugs = glob(os.path.join(tcga_data_path, '*', 'clinical_drug_table.txt'))\n",
    "patients = glob(os.path.join(tcga_data_path, '*', 'clinical_patient_table.txt'))\n",
    "proteins = glob(os.path.join(tcga_data_path, '*', 'proteome_table.txt'))"
   ]
  },
  {
   "cell_type": "code",
   "execution_count": 70,
   "id": "8f7e822d-a4ba-41c2-b446-22f8efdf5e76",
   "metadata": {},
   "outputs": [
    {
     "data": {
      "text/plain": [
       "(33, 33, 33, 33, 33, 33, 33, 32)"
      ]
     },
     "execution_count": 70,
     "metadata": {},
     "output_type": "execute_result"
    }
   ],
   "source": [
    "len(tpms),len(samples),len(genes),len(scnvs),len(snvs),len(drugs),len(patients),len(proteins)"
   ]
  },
  {
   "cell_type": "markdown",
   "id": "4ed3b88e-23df-4613-bbf7-bfbac0d81263",
   "metadata": {},
   "source": [
    "### SCNA burden calculation"
   ]
  },
  {
   "cell_type": "markdown",
   "id": "e4959fb6-c5a0-4c43-a418-82f74e60060a",
   "metadata": {},
   "source": [
    "[Jin.SCNA](https://www.ncbi.nlm.nih.gov/pmc/articles/PMC8505672/)defined as the sum of the log2-transformed copy-number ratio (tumor vs. normal) of genomic segments normalized by segment length."
   ]
  },
  {
   "cell_type": "code",
   "execution_count": 71,
   "id": "392fcc44-1ace-41cd-a49d-5bc3b701899f",
   "metadata": {},
   "outputs": [],
   "source": [
    "scnv_tbs = []\n",
    "for cnv in scnvs:\n",
    "    cancer_type = os.path.basename(os.path.dirname(cnv))\n",
    "    dfc = pd.read_csv(cnv,sep='\\t')\n",
    "    scnv_sum = dfc.groupby('Sample')['Segment_Mean'].sum().to_frame(name='scnv_jin_sum')\n",
    "    scnv_mean = dfc.groupby('Sample')['Segment_Mean'].mean().to_frame(name='scnv_jin_mean')\n",
    "    scnv = scnv_sum.join(scnv_mean)\n",
    "    scnv_tbs.append(scnv)"
   ]
  },
  {
   "cell_type": "code",
   "execution_count": 72,
   "id": "82c7b8af-cf2f-42d7-b681-15c1e960463c",
   "metadata": {},
   "outputs": [
    {
     "data": {
      "text/html": [
       "<div>\n",
       "<style scoped>\n",
       "    .dataframe tbody tr th:only-of-type {\n",
       "        vertical-align: middle;\n",
       "    }\n",
       "\n",
       "    .dataframe tbody tr th {\n",
       "        vertical-align: top;\n",
       "    }\n",
       "\n",
       "    .dataframe thead th {\n",
       "        text-align: right;\n",
       "    }\n",
       "</style>\n",
       "<table border=\"1\" class=\"dataframe\">\n",
       "  <thead>\n",
       "    <tr style=\"text-align: right;\">\n",
       "      <th></th>\n",
       "      <th>scnv_jin_sum</th>\n",
       "      <th>scnv_jin_mean</th>\n",
       "    </tr>\n",
       "    <tr>\n",
       "      <th>bcr_patient_barcode</th>\n",
       "      <th></th>\n",
       "      <th></th>\n",
       "    </tr>\n",
       "  </thead>\n",
       "  <tbody>\n",
       "    <tr>\n",
       "      <th>TCGA-2W-A8YY</th>\n",
       "      <td>-22.537</td>\n",
       "      <td>-0.121822</td>\n",
       "    </tr>\n",
       "    <tr>\n",
       "      <th>TCGA-4J-AA1J</th>\n",
       "      <td>-10.312</td>\n",
       "      <td>-0.019755</td>\n",
       "    </tr>\n",
       "    <tr>\n",
       "      <th>TCGA-BI-A0VR</th>\n",
       "      <td>-32.871</td>\n",
       "      <td>-0.177681</td>\n",
       "    </tr>\n",
       "  </tbody>\n",
       "</table>\n",
       "</div>"
      ],
      "text/plain": [
       "                     scnv_jin_sum  scnv_jin_mean\n",
       "bcr_patient_barcode                             \n",
       "TCGA-2W-A8YY              -22.537      -0.121822\n",
       "TCGA-4J-AA1J              -10.312      -0.019755\n",
       "TCGA-BI-A0VR              -32.871      -0.177681"
      ]
     },
     "execution_count": 72,
     "metadata": {},
     "output_type": "execute_result"
    }
   ],
   "source": [
    "df_scnv = pd.concat(scnv_tbs)\n",
    "df_scnv.index.name = 'bcr_patient_barcode'\n",
    "df_scnv.head(3)"
   ]
  },
  {
   "cell_type": "code",
   "execution_count": null,
   "id": "c98c78cf-c043-4a24-931a-e85c75a6e364",
   "metadata": {},
   "outputs": [],
   "source": []
  },
  {
   "cell_type": "markdown",
   "id": "3ecd3e44-7d96-4584-addf-4e5a769459e7",
   "metadata": {},
   "source": [
    "### Tumor mutaion burden (TMB) calculation"
   ]
  },
  {
   "cell_type": "code",
   "execution_count": 73,
   "id": "249244b8-32ce-491d-85d1-c62810b1e4a6",
   "metadata": {},
   "outputs": [
    {
     "name": "stderr",
     "output_type": "stream",
     "text": [
      "/home/was966/anaconda3/envs/aggmap/lib/python3.8/site-packages/IPython/core/interactiveshell.py:3508: DtypeWarning: Columns (75,113,115,121) have mixed types.Specify dtype option on import or set low_memory=False.\n",
      "  exec(code_obj, self.user_global_ns, self.user_ns)\n",
      "/home/was966/anaconda3/envs/aggmap/lib/python3.8/site-packages/IPython/core/interactiveshell.py:3508: DtypeWarning: Columns (115,121) have mixed types.Specify dtype option on import or set low_memory=False.\n",
      "  exec(code_obj, self.user_global_ns, self.user_ns)\n",
      "/home/was966/anaconda3/envs/aggmap/lib/python3.8/site-packages/IPython/core/interactiveshell.py:3508: DtypeWarning: Columns (75,115,121) have mixed types.Specify dtype option on import or set low_memory=False.\n",
      "  exec(code_obj, self.user_global_ns, self.user_ns)\n",
      "/home/was966/anaconda3/envs/aggmap/lib/python3.8/site-packages/IPython/core/interactiveshell.py:3508: DtypeWarning: Columns (75,79,113,115,121,133) have mixed types.Specify dtype option on import or set low_memory=False.\n",
      "  exec(code_obj, self.user_global_ns, self.user_ns)\n",
      "/home/was966/anaconda3/envs/aggmap/lib/python3.8/site-packages/IPython/core/interactiveshell.py:3508: DtypeWarning: Columns (115) have mixed types.Specify dtype option on import or set low_memory=False.\n",
      "  exec(code_obj, self.user_global_ns, self.user_ns)\n",
      "/home/was966/anaconda3/envs/aggmap/lib/python3.8/site-packages/IPython/core/interactiveshell.py:3508: DtypeWarning: Columns (121) have mixed types.Specify dtype option on import or set low_memory=False.\n",
      "  exec(code_obj, self.user_global_ns, self.user_ns)\n",
      "/home/was966/anaconda3/envs/aggmap/lib/python3.8/site-packages/IPython/core/interactiveshell.py:3508: DtypeWarning: Columns (59,115) have mixed types.Specify dtype option on import or set low_memory=False.\n",
      "  exec(code_obj, self.user_global_ns, self.user_ns)\n"
     ]
    }
   ],
   "source": [
    "tmb_tbs = []\n",
    "for snv in snvs:\n",
    "    cancer_type = os.path.basename(os.path.dirname(snv))\n",
    "    mut = pd.read_csv(snv,sep='\\t')\n",
    "    mut['nansynonymous_mut_flag'] = mut.Variant_Classification.isin(VC_NONSYNONYMOUS_LIST)\n",
    "    mut['truncate_mut_flag'] = mut.Variant_Classification.isin(truncate_mut_LIST)\n",
    "    mut['nontruncate_mut_flag'] = mut.Variant_Classification.isin(nontruncate_mut_LIST)\n",
    "    g = mut.groupby(['Tumor_Sample_Barcode'])\n",
    "    tmb1 = g.nansynonymous_mut_flag.sum().to_frame(name = 'tmb_wang')\n",
    "    tmb2 = g.apply(lambda x:x.truncate_mut_flag.sum()*2+x.nontruncate_mut_flag.sum()).to_frame(name = 'tmb_dan')\n",
    "\n",
    "    truncate_mut = g.truncate_mut_flag.sum().to_frame(name = 'truncate_mut')\n",
    "    nontruncate_mut = g.nontruncate_mut_flag.sum().to_frame(name = 'nontruncate_mut')\n",
    "    \n",
    "    tmb = tmb1.join(tmb2).join(truncate_mut).join(nontruncate_mut)\n",
    "    tmb['cancer_type'] = cancer_type\n",
    "    tmb_tbs.append(tmb)"
   ]
  },
  {
   "cell_type": "code",
   "execution_count": 74,
   "id": "1ed07531-936e-4786-a8bf-d5cb124385c9",
   "metadata": {},
   "outputs": [],
   "source": [
    "df_tmb = pd.concat(tmb_tbs, axis=0)\n",
    "df_tmb = df_tmb.reset_index()\n",
    "## pateint barcode: https://docs.gdc.cancer.gov/Encyclopedia/pages/TCGA_Barcode/\n",
    "df_tmb.columns = ['bcr_patient_barcode', 'tmb_wang', 'tmb_dan', 'truncate_mut','nontruncate_mut','cancer_type']\n",
    "df_tmb = df_tmb[['bcr_patient_barcode', 'cancer_type', 'tmb_wang', 'tmb_dan', 'truncate_mut','nontruncate_mut']]\n",
    "df_tmb = df_tmb.set_index('bcr_patient_barcode')\n",
    "\n",
    "df_tmb = df_tmb[(df_tmb.tmb_wang != 0) & (df_tmb.tmb_dan != 0)]\n",
    "df_tmb.tmb_wang = np.log2(df_tmb.tmb_wang/captureSize)\n",
    "df_tmb.tmb_dan = np.log2(df_tmb.tmb_dan/captureSize)"
   ]
  },
  {
   "cell_type": "markdown",
   "id": "b2614af8-cd95-4f8b-a12b-ea2e2642a51c",
   "metadata": {},
   "source": [
    "### MSI table\n",
    "\n",
    "MSI_H: msiscore >= 10%, MSI_L: 3.5% =< msiscore < 10%; MSS: msiscore < 3.5%\n",
    "\n",
    "https://github.com/niu-lab/msisensor2/issues/3"
   ]
  },
  {
   "cell_type": "code",
   "execution_count": 75,
   "id": "12f33573-9900-4690-83f8-241dc0543e70",
   "metadata": {},
   "outputs": [
    {
     "name": "stderr",
     "output_type": "stream",
     "text": [
      "/tmp/ipykernel_2483/2352729601.py:5: SettingWithCopyWarning: \n",
      "A value is trying to be set on a copy of a slice from a DataFrame.\n",
      "Try using .loc[row_indexer,col_indexer] = value instead\n",
      "\n",
      "See the caveats in the documentation: https://pandas.pydata.org/pandas-docs/stable/user_guide/indexing.html#returning-a-view-versus-a-copy\n",
      "  df1['msi_status'] = 'MSI-H'\n",
      "/tmp/ipykernel_2483/2352729601.py:8: SettingWithCopyWarning: \n",
      "A value is trying to be set on a copy of a slice from a DataFrame.\n",
      "Try using .loc[row_indexer,col_indexer] = value instead\n",
      "\n",
      "See the caveats in the documentation: https://pandas.pydata.org/pandas-docs/stable/user_guide/indexing.html#returning-a-view-versus-a-copy\n",
      "  df2['msi_status'] = 'MSI-L'\n",
      "/tmp/ipykernel_2483/2352729601.py:11: SettingWithCopyWarning: \n",
      "A value is trying to be set on a copy of a slice from a DataFrame.\n",
      "Try using .loc[row_indexer,col_indexer] = value instead\n",
      "\n",
      "See the caveats in the documentation: https://pandas.pydata.org/pandas-docs/stable/user_guide/indexing.html#returning-a-view-versus-a-copy\n",
      "  df3['msi_status'] = 'MSS'\n"
     ]
    }
   ],
   "source": [
    "df_msi = pd.read_csv(os.path.join(tcga_data_path, 'SMI_table.txt'), sep='\\t', index_col=0)\n",
    "df_msi.index.name = 'bcr_patient_barcode'\n",
    "\n",
    "df1 = df_msi[df_msi['MSIsensor.score'] >= 10/100]\n",
    "df1['msi_status'] = 'MSI-H'\n",
    "\n",
    "df2 = df_msi[(df_msi['MSIsensor.score'] >= 3.5/100) & (df_msi['MSIsensor.score'] < 10/100)]\n",
    "df2['msi_status'] = 'MSI-L'\n",
    "\n",
    "df3 = df_msi[df_msi['MSIsensor.score'] < 3.5/100]\n",
    "df3['msi_status'] = 'MSS'\n",
    "\n",
    "df_m = df1.append(df2).append(df3)\n",
    "\n",
    "df_msi = pd.get_dummies(df_m.msi_status)\n",
    "df_msi['MSIsensorScore'] = df_m['MSIsensor.score']"
   ]
  },
  {
   "cell_type": "code",
   "execution_count": 76,
   "id": "a04f53bc-cf5e-402e-8076-bd5d453002e3",
   "metadata": {},
   "outputs": [
    {
     "data": {
      "text/plain": [
       "((4580, 3), (1591, 3), (4612, 3))"
      ]
     },
     "execution_count": 76,
     "metadata": {},
     "output_type": "execute_result"
    }
   ],
   "source": [
    "df1.shape,df2.shape,df3.shape"
   ]
  },
  {
   "cell_type": "markdown",
   "id": "4f6d6906-54f8-487e-be6e-c8b84f6e475f",
   "metadata": {},
   "source": [
    "### sample overlaps"
   ]
  },
  {
   "cell_type": "code",
   "execution_count": 77,
   "id": "e5822591-2599-4486-b041-04afe38ab7bd",
   "metadata": {},
   "outputs": [],
   "source": [
    "coset = set(df_scnv.index) & set(df_tmb.index) & set(df_msi.index) "
   ]
  },
  {
   "cell_type": "code",
   "execution_count": 78,
   "id": "ec7a9f44-b403-4530-846b-de50204f981c",
   "metadata": {},
   "outputs": [],
   "source": [
    "df_mut = pd.DataFrame(index=coset).join(df_tmb).join(df_msi).join(df_scnv)\n",
    "df_mut_log2 = np.log2(df_mut[['tmb_wang', 'tmb_dan', 'MSI-H', 'MSI-L', 'MSS', 'MSIsensorScore', 'truncate_mut', 'nontruncate_mut']] + 1)"
   ]
  },
  {
   "cell_type": "code",
   "execution_count": 79,
   "id": "0b7ca721-6d1a-4e9a-811e-60057395d0eb",
   "metadata": {},
   "outputs": [
    {
     "data": {
      "text/plain": [
       "<matplotlib.collections.PathCollection at 0x7f3dd7f64c10>"
      ]
     },
     "execution_count": 79,
     "metadata": {},
     "output_type": "execute_result"
    },
    {
     "data": {
      "image/png": "[encoded data removed]",
      "text/plain": [
       "<Figure size 640x480 with 1 Axes>"
      ]
     },
     "metadata": {},
     "output_type": "display_data"
    }
   ],
   "source": [
    "plt.scatter(df_mut_log2.nontruncate_mut, df_mut_log2.MSIsensorScore)"
   ]
  },
  {
   "cell_type": "code",
   "execution_count": 80,
   "id": "0887256e-bb6d-4939-ac47-bca71b4a7910",
   "metadata": {},
   "outputs": [],
   "source": [
    "df_mut.to_pickle(os.path.join(tcga_data_path, 'df_patient_mut.pkl'))"
   ]
  },
  {
   "cell_type": "code",
   "execution_count": null,
   "id": "3b3258d7-5c9a-4623-ae9d-e755de44f25b",
   "metadata": {},
   "outputs": [],
   "source": []
  },
  {
   "cell_type": "code",
   "execution_count": null,
   "id": "f019065d-0cd2-40f2-a090-b5aec0c4df85",
   "metadata": {},
   "outputs": [],
   "source": []
  },
  {
   "cell_type": "code",
   "execution_count": null,
   "id": "7c89e64c-f32b-4ebf-8934-4ad18f104fae",
   "metadata": {},
   "outputs": [],
   "source": []
  }
 ],
 "metadata": {
  "kernelspec": {
   "display_name": "Python 3 (ipykernel)",
   "language": "python",
   "name": "python3"
  },
  "language_info": {
   "codemirror_mode": {
    "name": "ipython",
    "version": 3
   },
   "file_extension": ".py",
   "mimetype": "text/x-python",
   "name": "python",
   "nbconvert_exporter": "python",
   "pygments_lexer": "ipython3",
   "version": "3.11.4"
  }
 },
 "nbformat": 4,
 "nbformat_minor": 5
}
