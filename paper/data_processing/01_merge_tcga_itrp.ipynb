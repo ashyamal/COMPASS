{
 "cells": [
  {
   "cell_type": "code",
   "execution_count": 1,
   "id": "e634f613-a636-4c54-9a2e-41e6428b1d9c",
   "metadata": {},
   "outputs": [],
   "source": [
    "import pandas as pd\n",
    "import os\n",
    "from glob import glob\n",
    "import numpy as np\n",
    "import matplotlib.pyplot as plt\n",
    "captureSize = 35.8 #for tmb claculation\n",
    "import seaborn as sns\n",
    "sns.set(style = 'white', font_scale=1.5)"
   ]
  },
  {
   "cell_type": "code",
   "execution_count": 2,
   "id": "b0948576-c606-4fe2-b309-9976a2c5d975",
   "metadata": {},
   "outputs": [],
   "source": [
    "itrp_data_path = '/n/data1/hms/dbmi/zitnik/lab/users/was966/ITRP/SKCM_v2/'\n",
    "tcga_data_path = '/n/data1/hms/dbmi/zitnik/lab/users/was966/TCGA/GDC_v37/'\n",
    "immu_data_path = '/n/data1/hms/dbmi/zitnik/lab/users/was966/InnateDB/'\n",
    "nano_data_path = '/n/data1/hms/dbmi/zitnik/lab/users/was966/NanoString/'\n",
    "ppi_data_path = '/n/data1/hms/dbmi/zitnik/lab/users/was966/PPI/'\n",
    "\n",
    "merge_data_path = '/n/data1/hms/dbmi/zitnik/lab/users/was966/ITRP/TCGA-ITRP-MERGE/'"
   ]
  },
  {
   "cell_type": "code",
   "execution_count": 3,
   "id": "d2e64e53-5a09-4626-84af-45d2af20abec",
   "metadata": {},
   "outputs": [
    {
     "name": "stdout",
     "output_type": "stream",
     "text": [
      "-rw-rw-r-- 1 was966 zitnik 3.4M Oct 12 15:03 /n/data1/hms/dbmi/zitnik/lab/users/was966/TCGA/GDC_v37/GENE.TABLE\n",
      "-rw-rw-r-- 1 was966 zitnik  75K Oct 12 15:25 /n/data1/hms/dbmi/zitnik/lab/users/was966/TCGA/GDC_v37/NORMAL.PATIENTS.TABLE\n",
      "-rw-rw-r-- 1 was966 zitnik 314M Oct 12 15:25 /n/data1/hms/dbmi/zitnik/lab/users/was966/TCGA/GDC_v37/NORMAL.TPM.TABLE\n",
      "-rw-rw-r-- 1 was966 zitnik 1.1M Oct 12 15:16 /n/data1/hms/dbmi/zitnik/lab/users/was966/TCGA/GDC_v37/PATIENTS.TABLE\n",
      "-rw-rw-r-- 1 was966 zitnik 4.4G Oct 12 15:04 /n/data1/hms/dbmi/zitnik/lab/users/was966/TCGA/GDC_v37/TPM.TABLE\n"
     ]
    }
   ],
   "source": [
    "! ls -lh /n/data1/hms/dbmi/zitnik/lab/users/was966/TCGA/GDC_v37/*.TABLE"
   ]
  },
  {
   "cell_type": "code",
   "execution_count": 4,
   "id": "7fcd8827-ece2-4d96-bac5-0c5f79a9778f",
   "metadata": {},
   "outputs": [
    {
     "name": "stdout",
     "output_type": "stream",
     "text": [
      "-rw-rw-r-- 1 was966 zitnik 55K Sep  1 14:56 /n/data1/hms/dbmi/zitnik/lab/users/was966/ITRP/SKCM_v2/PATIENTS.TABLE\n",
      "-rw-rw-r-- 1 was966 zitnik 51M Sep  1 14:56 /n/data1/hms/dbmi/zitnik/lab/users/was966/ITRP/SKCM_v2/TPM_CORRECTION.TABLE\n",
      "-rw-rw-r-- 1 was966 zitnik 51M Sep  1 14:56 /n/data1/hms/dbmi/zitnik/lab/users/was966/ITRP/SKCM_v2/TPM.TABLE\n"
     ]
    }
   ],
   "source": [
    "! ls -lh /n/data1/hms/dbmi/zitnik/lab/users/was966/ITRP/SKCM_v2/*.TABLE"
   ]
  },
  {
   "cell_type": "code",
   "execution_count": 5,
   "id": "9bd3bc24-4950-483a-9b49-b3b77e22f5c4",
   "metadata": {},
   "outputs": [],
   "source": [
    "id2name = pd.read_pickle('/n/data1/hms/dbmi/zitnik/lab/users/was966/TCGA/GDC_v37/GENE.TABLE').set_index('ensid_v36').gene_name\n",
    "tcga_normal_x = pd.read_pickle('/n/data1/hms/dbmi/zitnik/lab/users/was966/TCGA/GDC_v37/NORMAL.TPM.TABLE')\n",
    "tcga_normal_x.columns = tcga_normal_x.columns.map(id2name)"
   ]
  },
  {
   "cell_type": "code",
   "execution_count": 6,
   "id": "b14b569a-c343-47c8-bd68-b75f7adcf317",
   "metadata": {},
   "outputs": [
    {
     "name": "stdout",
     "output_type": "stream",
     "text": [
      "18980\n"
     ]
    }
   ],
   "source": [
    "\n",
    "## ITRP dataset\n",
    "itrp_patient = pd.read_pickle(os.path.join(itrp_data_path, 'PATIENTS.TABLE'))\n",
    "itrp_tpm = pd.read_pickle(os.path.join(itrp_data_path, 'TPM.TABLE'))\n",
    "itrp_tpm_correct = pd.read_pickle(os.path.join(itrp_data_path, 'TPM_CORRECTION.TABLE'))\n",
    "\n",
    "## TCGA dataset\n",
    "tcga_gene = pd.read_pickle(os.path.join(tcga_data_path, 'GENE.TABLE'))\n",
    "tcga_patient = pd.read_pickle(os.path.join(tcga_data_path, 'PATIENTS.TABLE'))\n",
    "tcga_tpm = pd.read_pickle(os.path.join(tcga_data_path, 'TPM.TABLE'))\n",
    "\n",
    "## Merge\n",
    "ensid_freeman = pd.Series(dict(zip(itrp_tpm.index.map(lambda x:x.split('.')[0]), itrp_tpm.index)))\n",
    "ensid_freeman.name = 'ensid_freeman'\n",
    "common_genes = set(tcga_tpm.columns.map(lambda x:x.split('.')[0])) & set(itrp_tpm.index.map(lambda x:x.split('.')[0]))\n",
    "common_genes = list(common_genes)\n",
    "coomon_genes = pd.Series(common_genes).sort_values().tolist()\n",
    "print(len(common_genes))\n",
    "\n",
    "tcga_gene = tcga_gene.loc[common_genes]\n",
    "tcga_gene = tcga_gene[tcga_gene.gene_type == 'protein_coding']\n",
    "tcga_gene = tcga_gene.join(ensid_freeman)\n",
    "\n",
    "tcga_tpm = tcga_tpm[tcga_gene.ensid_v36]\n",
    "tcga_tpm.columns = tcga_gene.gene_name.tolist()\n",
    "\n",
    "itrp_tpm = itrp_tpm.T[tcga_gene.ensid_freeman]\n",
    "itrp_tpm.columns = tcga_gene.gene_name.tolist()\n",
    "\n",
    "itrp_tpm_correct = itrp_tpm_correct.T[tcga_gene.ensid_freeman]\n",
    "itrp_tpm_correct.columns = tcga_gene.gene_name.tolist()\n",
    "\n",
    "itrp_patient = itrp_patient.loc[itrp_tpm.index]"
   ]
  },
  {
   "cell_type": "code",
   "execution_count": 7,
   "id": "70daab60-ad55-4013-adb5-8e238310e50c",
   "metadata": {},
   "outputs": [
    {
     "data": {
      "text/plain": [
       "((10184, 18474), (334, 18474), (334, 18474), (18474, 5))"
      ]
     },
     "execution_count": 7,
     "metadata": {},
     "output_type": "execute_result"
    }
   ],
   "source": [
    "tcga_tpm.shape, itrp_tpm.shape, itrp_tpm_correct.shape, tcga_gene.shape"
   ]
  },
  {
   "cell_type": "code",
   "execution_count": 8,
   "id": "acc5cf1d-a690-4e97-9d17-87859ba30ec0",
   "metadata": {},
   "outputs": [
    {
     "data": {
      "text/plain": [
       "((334, 20), (10184, 18))"
      ]
     },
     "execution_count": 8,
     "metadata": {},
     "output_type": "execute_result"
    }
   ],
   "source": [
    "itrp_patient.shape, tcga_patient.shape"
   ]
  },
  {
   "cell_type": "code",
   "execution_count": 9,
   "id": "f03416fb-e47b-4e0d-9c67-89670d50ffde",
   "metadata": {},
   "outputs": [
    {
     "data": {
      "text/plain": [
       "18425"
      ]
     },
     "execution_count": 9,
     "metadata": {},
     "output_type": "execute_result"
    }
   ],
   "source": [
    "### remove genes with very low variance\n",
    "def _sel_genes(x):\n",
    "    var = x.var(axis=0) \n",
    "    sel_genes = var[var > 1e-8].index\n",
    "    return sel_genes\n",
    "sgs1 = itrp_tpm.join(itrp_patient.cohort).groupby('cohort').apply(_sel_genes)\n",
    "var_gene_list = list(set.intersection(*map(set, sgs1)))\n",
    "len(var_gene_list)\n",
    "\n",
    "var = tcga_tpm.var() \n",
    "var_gene_list = var[var > 1e-4].index\n",
    "len(var_gene_list)"
   ]
  },
  {
   "cell_type": "code",
   "execution_count": 10,
   "id": "39760de5-491b-4593-8e5d-cf0705236192",
   "metadata": {},
   "outputs": [
    {
     "data": {
      "text/plain": [
       "Index(['C9orf153', 'ZNF610', 'PARD6B', 'ALPL', 'TRAM2', 'GPAT2', 'GALNT4',\n",
       "       'NOL8', 'OR10J5', 'BCL7B',\n",
       "       ...\n",
       "       'CENPL', 'UBQLNL', 'RILPL1', 'KRTAP10-9', 'GCNT1', 'DOK3', 'CBS',\n",
       "       'LRRC6', 'EIF4G2', 'LRRC10B'],\n",
       "      dtype='object', length=18425)"
      ]
     },
     "execution_count": 10,
     "metadata": {},
     "output_type": "execute_result"
    }
   ],
   "source": [
    "var_gene_list"
   ]
  },
  {
   "cell_type": "markdown",
   "id": "cdb8d974-a229-45e9-b169-fe41668fd868",
   "metadata": {},
   "source": [
    "## 01. Save 18425"
   ]
  },
  {
   "cell_type": "code",
   "execution_count": 11,
   "id": "96d227e2-eb40-4b8e-8775-cbc037cad98c",
   "metadata": {},
   "outputs": [
    {
     "data": {
      "text/plain": [
       "((10184, 18425),\n",
       " (714, 18425),\n",
       " (334, 18425),\n",
       " (10184, 18),\n",
       " (334, 20),\n",
       " (18425, 5))"
      ]
     },
     "execution_count": 11,
     "metadata": {},
     "output_type": "execute_result"
    }
   ],
   "source": [
    "tcga_tpm_1 = tcga_tpm[var_gene_list]\n",
    "itrp_tpm_1 = itrp_tpm[var_gene_list]\n",
    "itrp_tpm_1_correct =itrp_tpm_correct[var_gene_list]\n",
    "tcga_tpm_normal = tcga_normal_x[var_gene_list]\n",
    "\n",
    "gene_1 = tcga_gene[tcga_gene.gene_name.isin(var_gene_list)].reset_index().set_index('gene_name')\n",
    "tcga_tpm_1.shape, tcga_tpm_normal.shape, itrp_tpm_1.shape, tcga_patient.shape, itrp_patient.shape, gene_1.shape"
   ]
  },
  {
   "cell_type": "code",
   "execution_count": 12,
   "id": "fab2804b-a435-4634-905c-84865857fcc3",
   "metadata": {},
   "outputs": [
    {
     "name": "stdout",
     "output_type": "stream",
     "text": [
      "-rw-rw-r-- 1 was966 zitnik 1.4M Oct 12 15:27 /n/data1/hms/dbmi/zitnik/lab/users/was966/ITRP/TCGA-ITRP-MERGE/18425/GENE.TABLE\n",
      "-rw-rw-r-- 1 was966 zitnik  55K Oct 12 15:27 /n/data1/hms/dbmi/zitnik/lab/users/was966/ITRP/TCGA-ITRP-MERGE/18425/PATIENT.ITRP.TABLE\n",
      "-rw-rw-r-- 1 was966 zitnik 1.1M Oct 12 15:27 /n/data1/hms/dbmi/zitnik/lab/users/was966/ITRP/TCGA-ITRP-MERGE/18425/PATIENT.TCGA.TABLE\n",
      "-rw-rw-r-- 1 was966 zitnik  48M Oct 12 15:27 /n/data1/hms/dbmi/zitnik/lab/users/was966/ITRP/TCGA-ITRP-MERGE/18425/TPM.ITRP.TABLE\n",
      "-rw-rw-r-- 1 was966 zitnik 101M Oct 12 15:27 /n/data1/hms/dbmi/zitnik/lab/users/was966/ITRP/TCGA-ITRP-MERGE/18425/TPM.TCGA.NORMAL.TABLE\n",
      "-rw-rw-r-- 1 was966 zitnik 1.4G Oct 12 15:27 /n/data1/hms/dbmi/zitnik/lab/users/was966/ITRP/TCGA-ITRP-MERGE/18425/TPM.TCGA.TABLE\n"
     ]
    }
   ],
   "source": [
    "! mkdir -p /n/data1/hms/dbmi/zitnik/lab/users/was966/ITRP/TCGA-ITRP-MERGE/18425\n",
    "tcga_tpm_1.to_pickle(os.path.join(merge_data_path, '18425', 'TPM.TCGA.TABLE'))\n",
    "tcga_tpm_normal.to_pickle(os.path.join(merge_data_path, '18425', 'TPM.TCGA.NORMAL.TABLE'))\n",
    "itrp_tpm_1.to_pickle(os.path.join(merge_data_path, '18425', 'TPM.ITRP.TABLE'))\n",
    "itrp_tpm_1_correct.to_pickle(os.path.join(merge_data_path, '18425', 'TPM.ITRP.TABLE.CORRECT'))\n",
    "\n",
    "gene_1.to_pickle(os.path.join(merge_data_path, '18425', 'GENE.TABLE'))\n",
    "tcga_patient.to_pickle(os.path.join(merge_data_path, '18425', 'PATIENT.TCGA.TABLE'))\n",
    "itrp_patient.to_pickle(os.path.join(merge_data_path, '18425', 'PATIENT.ITRP.TABLE'))\n",
    "! ls -lh /n/data1/hms/dbmi/zitnik/lab/users/was966/ITRP/TCGA-ITRP-MERGE/18425/*.TABLE"
   ]
  },
  {
   "cell_type": "code",
   "execution_count": null,
   "id": "f6514e94-65f7-4d6c-b6bf-e4025d15b4c2",
   "metadata": {},
   "outputs": [],
   "source": []
  },
  {
   "cell_type": "markdown",
   "id": "6966d7c2-2f22-4562-a3ce-f5c14c8896d3",
   "metadata": {},
   "source": [
    "## 02. Save 6575"
   ]
  },
  {
   "cell_type": "code",
   "execution_count": 13,
   "id": "d882a852-50cf-4ad5-ab31-27d28a4bcfa6",
   "metadata": {},
   "outputs": [
    {
     "data": {
      "text/plain": [
       "((10184, 6575), (714, 6575), (334, 6575), (10184, 18), (334, 20), (6575, 11))"
      ]
     },
     "execution_count": 13,
     "metadata": {},
     "output_type": "execute_result"
    }
   ],
   "source": [
    "# Immunogenes\n",
    "df_immu_gene = pd.read_pickle(os.path.join(immu_data_path, 'InnateDB.TABLE'))\n",
    "immu_gene_list = list(set(df_immu_gene.gene_name) & set(var_gene_list))\n",
    "immu_gene_list = pd.Series(immu_gene_list).sort_values().tolist()\n",
    "\n",
    "tcga_tpm_2 = tcga_tpm[immu_gene_list]\n",
    "tcga_tpm_normal_2 = tcga_normal_x[immu_gene_list]\n",
    "\n",
    "itrp_tpm_2 = itrp_tpm[immu_gene_list]\n",
    "itrp_tpm_2_correct = itrp_tpm_correct[immu_gene_list]\n",
    "\n",
    "gene_2 = tcga_gene[tcga_gene.gene_name.isin(immu_gene_list)].reset_index().set_index('gene_name')\n",
    "mut_gene = df_immu_gene.set_index('gene_name')\n",
    "mut_gene = mut_gene[mut_gene.columns[2:]]\n",
    "gene_2 = gene_2.join(mut_gene)\n",
    "tcga_tpm_2.shape, tcga_tpm_normal_2.shape, itrp_tpm_2.shape, tcga_patient.shape, itrp_patient.shape, gene_2.shape"
   ]
  },
  {
   "cell_type": "code",
   "execution_count": 14,
   "id": "9a8ea9d4-3465-4472-987f-be22f92e8b50",
   "metadata": {},
   "outputs": [
    {
     "name": "stdout",
     "output_type": "stream",
     "text": [
      "-rw-rw-r-- 1 was966 zitnik 537K Oct 12 15:27 /n/data1/hms/dbmi/zitnik/lab/users/was966/ITRP/TCGA-ITRP-MERGE/6575/GENE.TABLE\n",
      "-rw-rw-r-- 1 was966 zitnik  55K Oct 12 15:27 /n/data1/hms/dbmi/zitnik/lab/users/was966/ITRP/TCGA-ITRP-MERGE/6575/PATIENT.ITRP.TABLE\n",
      "-rw-rw-r-- 1 was966 zitnik 1.1M Oct 12 15:27 /n/data1/hms/dbmi/zitnik/lab/users/was966/ITRP/TCGA-ITRP-MERGE/6575/PATIENT.TCGA.TABLE\n",
      "-rw-rw-r-- 1 was966 zitnik  17M Oct 12 15:27 /n/data1/hms/dbmi/zitnik/lab/users/was966/ITRP/TCGA-ITRP-MERGE/6575/TPM.ITRP.TABLE\n",
      "-rw-rw-r-- 1 was966 zitnik  36M Oct 12 15:27 /n/data1/hms/dbmi/zitnik/lab/users/was966/ITRP/TCGA-ITRP-MERGE/6575/TPM.TCGA.NORMAL.TABLE\n",
      "-rw-rw-r-- 1 was966 zitnik 512M Oct 12 15:27 /n/data1/hms/dbmi/zitnik/lab/users/was966/ITRP/TCGA-ITRP-MERGE/6575/TPM.TCGA.TABLE\n"
     ]
    }
   ],
   "source": [
    "! mkdir -p /n/data1/hms/dbmi/zitnik/lab/users/was966/ITRP/TCGA-ITRP-MERGE/6575\n",
    "tcga_tpm_2.to_pickle(os.path.join(merge_data_path, '6575', 'TPM.TCGA.TABLE'))\n",
    "tcga_tpm_normal_2.to_pickle(os.path.join(merge_data_path, '6575', 'TPM.TCGA.NORMAL.TABLE'))\n",
    "\n",
    "itrp_tpm_2.to_pickle(os.path.join(merge_data_path, '6575', 'TPM.ITRP.TABLE'))\n",
    "itrp_tpm_2_correct.to_pickle(os.path.join(merge_data_path, '6575', 'TPM.ITRP.TABLE.CORRECT'))\n",
    "gene_2.to_pickle(os.path.join(merge_data_path, '6575', 'GENE.TABLE'))\n",
    "tcga_patient.to_pickle(os.path.join(merge_data_path, '6575', 'PATIENT.TCGA.TABLE'))\n",
    "itrp_patient.to_pickle(os.path.join(merge_data_path, '6575', 'PATIENT.ITRP.TABLE'))\n",
    "! ls -lh /n/data1/hms/dbmi/zitnik/lab/users/was966/ITRP/TCGA-ITRP-MERGE/6575/*.TABLE"
   ]
  },
  {
   "cell_type": "code",
   "execution_count": null,
   "id": "1c668ac6-af7a-478c-9fc3-352fc26e089a",
   "metadata": {},
   "outputs": [],
   "source": []
  },
  {
   "cell_type": "markdown",
   "id": "8c3073c6-eecc-4ab5-ad49-d6beb51a65eb",
   "metadata": {},
   "source": [
    "### 03. Save 735"
   ]
  },
  {
   "cell_type": "code",
   "execution_count": 15,
   "id": "7b87aeae-097a-4c74-b214-8ed09807310d",
   "metadata": {},
   "outputs": [
    {
     "data": {
      "text/plain": [
       "(7394, 6575, 756, 735)"
      ]
     },
     "execution_count": 15,
     "metadata": {},
     "output_type": "execute_result"
    }
   ],
   "source": [
    "# NanoString genes\n",
    "df_nano_gene = pd.read_pickle(os.path.join(nano_data_path, 'NanoString.TABLE'))\n",
    "nano_gene_list = list(set(df_nano_gene.index) & set(var_gene_list))\n",
    "nano_gene_list = pd.Series(nano_gene_list).sort_values().tolist()\n",
    "len(df_immu_gene), len(immu_gene_list), len(df_nano_gene), len(nano_gene_list)"
   ]
  },
  {
   "cell_type": "code",
   "execution_count": null,
   "id": "5d5d471a-72ca-4dd2-be2b-dc735d3bb4eb",
   "metadata": {},
   "outputs": [],
   "source": []
  },
  {
   "cell_type": "code",
   "execution_count": 16,
   "id": "fa7ad968-bcfd-4e08-8522-4609c258fa8b",
   "metadata": {},
   "outputs": [
    {
     "data": {
      "text/plain": [
       "((10184, 735), (334, 735), (10184, 18), (334, 20), (735, 10))"
      ]
     },
     "execution_count": 16,
     "metadata": {},
     "output_type": "execute_result"
    }
   ],
   "source": [
    "tcga_tpm_3 = tcga_tpm[nano_gene_list]\n",
    "tcga_tpm_normal_3 = tcga_normal_x[nano_gene_list]\n",
    "\n",
    "itrp_tpm_3 = itrp_tpm[nano_gene_list]\n",
    "itrp_tpm_3_correct = itrp_tpm_correct[nano_gene_list]\n",
    "\n",
    "gene_3 = tcga_gene[tcga_gene.gene_name.isin(nano_gene_list)].reset_index().set_index('gene_name')\n",
    "gene_3 = gene_3.join(df_nano_gene)\n",
    "tcga_tpm_3.shape, itrp_tpm_3.shape, tcga_patient.shape, itrp_patient.shape, gene_3.shape"
   ]
  },
  {
   "cell_type": "code",
   "execution_count": 17,
   "id": "f50be696-09bb-44ed-8684-ed53dc2da527",
   "metadata": {},
   "outputs": [
    {
     "name": "stdout",
     "output_type": "stream",
     "text": [
      "-rw-rw-r-- 1 was966 zitnik 101K Oct 12 15:27 /n/data1/hms/dbmi/zitnik/lab/users/was966/ITRP/TCGA-ITRP-MERGE/735/GENE.TABLE\n",
      "-rw-rw-r-- 1 was966 zitnik  55K Oct 12 15:27 /n/data1/hms/dbmi/zitnik/lab/users/was966/ITRP/TCGA-ITRP-MERGE/735/PATIENT.ITRP.TABLE\n",
      "-rw-rw-r-- 1 was966 zitnik 1.1M Oct 12 15:27 /n/data1/hms/dbmi/zitnik/lab/users/was966/ITRP/TCGA-ITRP-MERGE/735/PATIENT.TCGA.TABLE\n",
      "-rw-rw-r-- 1 was966 zitnik 4.2M Sep 13 22:50 /n/data1/hms/dbmi/zitnik/lab/users/was966/ITRP/TCGA-ITRP-MERGE/735/TCGA.COR.TABLE\n",
      "-rw-rw-r-- 1 was966 zitnik 4.2M Sep 13 22:50 /n/data1/hms/dbmi/zitnik/lab/users/was966/ITRP/TCGA-ITRP-MERGE/735/TCGA.MIR.TABLE\n",
      "-rw-rw-r-- 1 was966 zitnik 1.9M Oct 12 15:27 /n/data1/hms/dbmi/zitnik/lab/users/was966/ITRP/TCGA-ITRP-MERGE/735/TPM.ITRP.TABLE\n",
      "-rw-rw-r-- 1 was966 zitnik 4.1M Oct 12 15:27 /n/data1/hms/dbmi/zitnik/lab/users/was966/ITRP/TCGA-ITRP-MERGE/735/TPM.TCGA.NORMAL.TABLE\n",
      "-rw-rw-r-- 1 was966 zitnik  58M Oct 12 15:27 /n/data1/hms/dbmi/zitnik/lab/users/was966/ITRP/TCGA-ITRP-MERGE/735/TPM.TCGA.TABLE\n"
     ]
    }
   ],
   "source": [
    "! mkdir -p /n/data1/hms/dbmi/zitnik/lab/users/was966/ITRP/TCGA-ITRP-MERGE/735\n",
    "tcga_tpm_3.to_pickle(os.path.join(merge_data_path, '735', 'TPM.TCGA.TABLE'))\n",
    "tcga_tpm_normal_3.to_pickle(os.path.join(merge_data_path, '735', 'TPM.TCGA.NORMAL.TABLE'))\n",
    "\n",
    "itrp_tpm_3.to_pickle(os.path.join(merge_data_path, '735', 'TPM.ITRP.TABLE'))\n",
    "itrp_tpm_3_correct.to_pickle(os.path.join(merge_data_path, '735', 'TPM.ITRP.TABLE.CORRECT'))\n",
    "\n",
    "gene_3.to_pickle(os.path.join(merge_data_path, '735', 'GENE.TABLE'))\n",
    "tcga_patient.to_pickle(os.path.join(merge_data_path, '735', 'PATIENT.TCGA.TABLE'))\n",
    "itrp_patient.to_pickle(os.path.join(merge_data_path, '735', 'PATIENT.ITRP.TABLE'))\n",
    "! ls -lh /n/data1/hms/dbmi/zitnik/lab/users/was966/ITRP/TCGA-ITRP-MERGE/735/*.TABLE"
   ]
  },
  {
   "cell_type": "code",
   "execution_count": null,
   "id": "4b8b56a1-2305-4e92-bc1e-9095ce845b3a",
   "metadata": {},
   "outputs": [],
   "source": []
  },
  {
   "cell_type": "markdown",
   "id": "38ffeac2-83a8-4b12-91f2-b8b31210e6ba",
   "metadata": {},
   "source": [
    "### 04. Save pRED Signatures (876)"
   ]
  },
  {
   "cell_type": "code",
   "execution_count": 18,
   "id": "10065e45-d22b-4820-bdb0-4d75fead775a",
   "metadata": {},
   "outputs": [
    {
     "data": {
      "text/html": [
       "<div>\n",
       "<style scoped>\n",
       "    .dataframe tbody tr th:only-of-type {\n",
       "        vertical-align: middle;\n",
       "    }\n",
       "\n",
       "    .dataframe tbody tr th {\n",
       "        vertical-align: top;\n",
       "    }\n",
       "\n",
       "    .dataframe thead th {\n",
       "        text-align: right;\n",
       "    }\n",
       "</style>\n",
       "<table border=\"1\" class=\"dataframe\">\n",
       "  <thead>\n",
       "    <tr style=\"text-align: right;\">\n",
       "      <th></th>\n",
       "      <th>type</th>\n",
       "      <th>marker</th>\n",
       "    </tr>\n",
       "    <tr>\n",
       "      <th>name</th>\n",
       "      <th></th>\n",
       "      <th></th>\n",
       "    </tr>\n",
       "  </thead>\n",
       "  <tbody>\n",
       "    <tr>\n",
       "      <th>CytotoxTcell_sc</th>\n",
       "      <td>Tcell</td>\n",
       "      <td>[TRGC2, GZMH, KLRD1, FGFBP2, GZMB, PRF1, SAMD3...</td>\n",
       "    </tr>\n",
       "    <tr>\n",
       "      <th>ExhCD8Tcell_sc</th>\n",
       "      <td>Tcell</td>\n",
       "      <td>[PDCD1, HAVCR2, LAG3, ENTPD1, CD38, TOX]</td>\n",
       "    </tr>\n",
       "    <tr>\n",
       "      <th>RegTcell_sc</th>\n",
       "      <td>Tcell</td>\n",
       "      <td>[FOXP3, CCR8, PMCH, CCR4, RTKN2, CTLA4]</td>\n",
       "    </tr>\n",
       "    <tr>\n",
       "      <th>Bcell_sc</th>\n",
       "      <td>Bcell</td>\n",
       "      <td>[CD19, MS4A1, TNFRSF13C, VPREB3, PAX5, CR2]</td>\n",
       "    </tr>\n",
       "    <tr>\n",
       "      <th>Myeloid_sc</th>\n",
       "      <td>Myeloid</td>\n",
       "      <td>[CSF3R, MS4A6A, MS4A7, MNDA, C5AR1, FCGR2A, C3...</td>\n",
       "    </tr>\n",
       "    <tr>\n",
       "      <th>...</th>\n",
       "      <td>...</td>\n",
       "      <td>...</td>\n",
       "    </tr>\n",
       "    <tr>\n",
       "      <th>Nivo_up_ROnly_Riaz17</th>\n",
       "      <td>PD_effect</td>\n",
       "      <td>[PDCD1, SLC2A6, CXCR6, GZMH, MPO, MT1E, PRF1, ...</td>\n",
       "    </tr>\n",
       "    <tr>\n",
       "      <th>NivoResponse_Riaz17</th>\n",
       "      <td>CPI_Response</td>\n",
       "      <td>[MLC1, UBAP1L, PCDH11X, CLEC17A, P2RX5, IRAG2,...</td>\n",
       "    </tr>\n",
       "    <tr>\n",
       "      <th>Endothelial_Kahn20</th>\n",
       "      <td>Endothelial / Vascular</td>\n",
       "      <td>[ANGPT2, CDH5, ESAM, ESM1, ERG, ICAM2, TIE1]</td>\n",
       "    </tr>\n",
       "    <tr>\n",
       "      <th>CD4Tcell_IL2_I_Kaptein2022</th>\n",
       "      <td>Tcell</td>\n",
       "      <td>[IL2, CD4, ICOS, EOMES, IL21R, IL2RA, IL2RB, I...</td>\n",
       "    </tr>\n",
       "    <tr>\n",
       "      <th>cDC1_I_Liu2018</th>\n",
       "      <td>cDC</td>\n",
       "      <td>[BATF3, IRF8, THBD, CLEC9A, XRC1]</td>\n",
       "    </tr>\n",
       "  </tbody>\n",
       "</table>\n",
       "<p>111 rows × 2 columns</p>\n",
       "</div>"
      ],
      "text/plain": [
       "                                              type  \\\n",
       "name                                                 \n",
       "CytotoxTcell_sc                              Tcell   \n",
       "ExhCD8Tcell_sc                               Tcell   \n",
       "RegTcell_sc                                  Tcell   \n",
       "Bcell_sc                                     Bcell   \n",
       "Myeloid_sc                                 Myeloid   \n",
       "...                                            ...   \n",
       "Nivo_up_ROnly_Riaz17                     PD_effect   \n",
       "NivoResponse_Riaz17                   CPI_Response   \n",
       "Endothelial_Kahn20          Endothelial / Vascular   \n",
       "CD4Tcell_IL2_I_Kaptein2022                   Tcell   \n",
       "cDC1_I_Liu2018                                 cDC   \n",
       "\n",
       "                                                                       marker  \n",
       "name                                                                           \n",
       "CytotoxTcell_sc             [TRGC2, GZMH, KLRD1, FGFBP2, GZMB, PRF1, SAMD3...  \n",
       "ExhCD8Tcell_sc                       [PDCD1, HAVCR2, LAG3, ENTPD1, CD38, TOX]  \n",
       "RegTcell_sc                           [FOXP3, CCR8, PMCH, CCR4, RTKN2, CTLA4]  \n",
       "Bcell_sc                          [CD19, MS4A1, TNFRSF13C, VPREB3, PAX5, CR2]  \n",
       "Myeloid_sc                  [CSF3R, MS4A6A, MS4A7, MNDA, C5AR1, FCGR2A, C3...  \n",
       "...                                                                       ...  \n",
       "Nivo_up_ROnly_Riaz17        [PDCD1, SLC2A6, CXCR6, GZMH, MPO, MT1E, PRF1, ...  \n",
       "NivoResponse_Riaz17         [MLC1, UBAP1L, PCDH11X, CLEC17A, P2RX5, IRAG2,...  \n",
       "Endothelial_Kahn20               [ANGPT2, CDH5, ESAM, ESM1, ERG, ICAM2, TIE1]  \n",
       "CD4Tcell_IL2_I_Kaptein2022  [IL2, CD4, ICOS, EOMES, IL21R, IL2RA, IL2RB, I...  \n",
       "cDC1_I_Liu2018                              [BATF3, IRF8, THBD, CLEC9A, XRC1]  \n",
       "\n",
       "[111 rows x 2 columns]"
      ]
     },
     "execution_count": 18,
     "metadata": {},
     "output_type": "execute_result"
    }
   ],
   "source": [
    "df = pd.read_excel('./pRED CIT Signatures.xlsx')\n",
    "df = df.iloc[1:]\n",
    "df = df[df.Description != 'Internal']\n",
    "df = df.set_index('Name')\n",
    "\n",
    "def convert2dict(s):\n",
    "    marker = s.iloc[4:].dropna().to_list()\n",
    "    name = s.name\n",
    "    type = s.Type\n",
    "    return {'name':name, 'type':type, 'marker':marker}\n",
    "\n",
    "df = df.apply(convert2dict, axis=1).apply(pd.Series).reset_index(drop=True).set_index('name')\n",
    "df"
   ]
  },
  {
   "cell_type": "code",
   "execution_count": 19,
   "id": "b5367b31-3fb0-43b3-8388-fe0bc3abe3c2",
   "metadata": {},
   "outputs": [
    {
     "data": {
      "text/plain": [
       "876"
      ]
     },
     "execution_count": 19,
     "metadata": {},
     "output_type": "execute_result"
    }
   ],
   "source": [
    "from itertools import chain\n",
    "pRED_signs_list = list(set(chain(*df.marker.to_list())))\n",
    "pRED_list = list(set(pRED_signs_list) & set(var_gene_list))\n",
    "pRED_list = pd.Series(pRED_list).sort_values().tolist()\n",
    "len(pRED_list)"
   ]
  },
  {
   "cell_type": "code",
   "execution_count": 20,
   "id": "14dd79a2-f21b-4c31-bbf1-c558489fcfa0",
   "metadata": {},
   "outputs": [
    {
     "data": {
      "text/plain": [
       "((10184, 876), (334, 876), (10184, 18), (334, 20), (876, 10))"
      ]
     },
     "execution_count": 20,
     "metadata": {},
     "output_type": "execute_result"
    }
   ],
   "source": [
    "tcga_tpm_4 = tcga_tpm[pRED_list]\n",
    "tcga_tpm_normal_4 = tcga_normal_x[pRED_list]\n",
    "\n",
    "itrp_tpm_4 = itrp_tpm[pRED_list]\n",
    "itrp_tpm_4_correct = itrp_tpm_correct[pRED_list]\n",
    "\n",
    "gene_4 = tcga_gene[tcga_gene.gene_name.isin(pRED_list)].reset_index().set_index('gene_name')\n",
    "gene_4 = gene_4.join(df_nano_gene)\n",
    "tcga_tpm_4.shape, itrp_tpm_4.shape, tcga_patient.shape, itrp_patient.shape, gene_4.shape"
   ]
  },
  {
   "cell_type": "code",
   "execution_count": 21,
   "id": "c2332de6-ec22-4fb1-95ec-cb3511df21a0",
   "metadata": {},
   "outputs": [
    {
     "name": "stdout",
     "output_type": "stream",
     "text": [
      "-rw-rw-r-- 1 was966 zitnik 116K Oct 12 15:27 /n/data1/hms/dbmi/zitnik/lab/users/was966/ITRP/TCGA-ITRP-MERGE/876/GENE.TABLE\n",
      "-rw-rw-r-- 1 was966 zitnik  55K Oct 12 15:27 /n/data1/hms/dbmi/zitnik/lab/users/was966/ITRP/TCGA-ITRP-MERGE/876/PATIENT.ITRP.TABLE\n",
      "-rw-rw-r-- 1 was966 zitnik 1.1M Oct 12 15:27 /n/data1/hms/dbmi/zitnik/lab/users/was966/ITRP/TCGA-ITRP-MERGE/876/PATIENT.TCGA.TABLE\n",
      "-rw-rw-r-- 1 was966 zitnik  13K Oct 12 15:27 /n/data1/hms/dbmi/zitnik/lab/users/was966/ITRP/TCGA-ITRP-MERGE/876/pRED.TABLE\n",
      "-rw-rw-r-- 1 was966 zitnik 2.3M Oct 12 15:27 /n/data1/hms/dbmi/zitnik/lab/users/was966/ITRP/TCGA-ITRP-MERGE/876/TPM.ITRP.TABLE\n",
      "-rw-rw-r-- 1 was966 zitnik 4.8M Oct 12 15:27 /n/data1/hms/dbmi/zitnik/lab/users/was966/ITRP/TCGA-ITRP-MERGE/876/TPM.TCGA.NORMAL.TABLE\n",
      "-rw-rw-r-- 1 was966 zitnik  69M Oct 12 15:27 /n/data1/hms/dbmi/zitnik/lab/users/was966/ITRP/TCGA-ITRP-MERGE/876/TPM.TCGA.TABLE\n"
     ]
    }
   ],
   "source": [
    "! mkdir -p /n/data1/hms/dbmi/zitnik/lab/users/was966/ITRP/TCGA-ITRP-MERGE/876\n",
    "tcga_tpm_4.to_pickle(os.path.join(merge_data_path, '876', 'TPM.TCGA.TABLE'))\n",
    "tcga_tpm_normal_4.to_pickle(os.path.join(merge_data_path, '876', 'TPM.TCGA.NORMAL.TABLE'))\n",
    "\n",
    "itrp_tpm_4.to_pickle(os.path.join(merge_data_path, '876', 'TPM.ITRP.TABLE'))\n",
    "itrp_tpm_4_correct.to_pickle(os.path.join(merge_data_path, '876', 'TPM.ITRP.TABLE.CORRECT'))\n",
    "\n",
    "gene_4.to_pickle(os.path.join(merge_data_path, '876', 'GENE.TABLE'))\n",
    "tcga_patient.to_pickle(os.path.join(merge_data_path, '876', 'PATIENT.TCGA.TABLE'))\n",
    "itrp_patient.to_pickle(os.path.join(merge_data_path, '876', 'PATIENT.ITRP.TABLE'))\n",
    "\n",
    "df.to_pickle(os.path.join(merge_data_path, '876', 'pRED.TABLE'))\n",
    "\n",
    "! ls -lh /n/data1/hms/dbmi/zitnik/lab/users/was966/ITRP/TCGA-ITRP-MERGE/876/*.TABLE"
   ]
  },
  {
   "cell_type": "code",
   "execution_count": null,
   "id": "3c45f10f-a1a1-4a70-a0d5-a6e8615597ba",
   "metadata": {},
   "outputs": [],
   "source": []
  }
 ],
 "metadata": {
  "kernelspec": {
   "display_name": "Python 3 (ipykernel)",
   "language": "python",
   "name": "python3"
  },
  "language_info": {
   "codemirror_mode": {
    "name": "ipython",
    "version": 3
   },
   "file_extension": ".py",
   "mimetype": "text/x-python",
   "name": "python",
   "nbconvert_exporter": "python",
   "pygments_lexer": "ipython3",
   "version": "3.11.4"
  }
 },
 "nbformat": 4,
 "nbformat_minor": 5
}
