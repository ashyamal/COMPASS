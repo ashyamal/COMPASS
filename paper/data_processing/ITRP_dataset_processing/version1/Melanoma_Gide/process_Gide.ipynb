{
 "cells": [
  {
   "cell_type": "code",
   "execution_count": 20,
   "id": "5e86f6bf-8a2b-4517-a722-d1ecc9be745f",
   "metadata": {},
   "outputs": [
    {
     "name": "stdout",
     "output_type": "stream",
     "text": [
      "total 416K\n",
      "drwxrwsr-x 2 was966 zitnik 256 Aug 18 11:43 \u001b[0m\u001b[01;34mdat.Chen.RData\u001b[0m/\n",
      "drwxrwsr-x 2 was966 zitnik 395 Aug 18 11:43 \u001b[01;34mdat.Cho.RData\u001b[0m/\n",
      "drwxrwsr-x 2 was966 zitnik 487 Aug 18 11:43 \u001b[01;34mdat.Gide.RData\u001b[0m/\n",
      "drwxrwsr-x 2 was966 zitnik 478 Aug 18 11:43 \u001b[01;34mdat.Huang.RData\u001b[0m/\n",
      "drwxrwsr-x 2 was966 zitnik 481 Aug 18 11:43 \u001b[01;34mdat.Hwang.RData\u001b[0m/\n",
      "drwxrwsr-x 2 was966 zitnik 395 Aug 18 11:43 \u001b[01;34mdat.Kim.RData\u001b[0m/\n",
      "drwxrwsr-x 2 was966 zitnik 597 Aug 18 11:44 \u001b[01;34mdat.Liu.RData\u001b[0m/\n",
      "drwxrwsr-x 2 was966 zitnik 660 Aug 18 11:44 \u001b[01;34mdat.Miao.RData\u001b[0m/\n",
      "drwxrwsr-x 2 was966 zitnik 369 Aug 18 11:44 \u001b[01;34mdat.Nathanson_pre.RData\u001b[0m/\n",
      "drwxrwsr-x 2 was966 zitnik 721 Aug 18 11:44 \u001b[01;34mdat.Prat.RData\u001b[0m/\n",
      "drwxrwsr-x 2 was966 zitnik 453 Aug 18 11:44 \u001b[01;34mdat.Riaz.RData\u001b[0m/\n",
      "drwxrwsr-x 2 was966 zitnik 569 Aug 18 11:44 \u001b[01;34mdat.Snyder.RData\u001b[0m/\n",
      "drwxrwsr-x 2 was966 zitnik 476 Aug 18 11:44 \u001b[01;34mdat.VanAllen.RData\u001b[0m/\n"
     ]
    }
   ],
   "source": [
    "ls -lh /n/data1/hms/dbmi/zitnik/lab/users/was966/ITRP/RData2csv/immuno"
   ]
  },
  {
   "cell_type": "code",
   "execution_count": 21,
   "id": "239d19bd-08bd-42c6-87a7-6103f439de23",
   "metadata": {},
   "outputs": [
    {
     "name": "stdout",
     "output_type": "stream",
     "text": [
      "total 326M\n",
      "-rw-rw-r-- 1 was966 zitnik  539 Aug 18 11:43 age.txt\n",
      "-rw-rw-r-- 1 was966 zitnik  448 Aug 18 11:43 flag.txt\n",
      "-rw-rw-r-- 1 was966 zitnik 855K Aug 18 11:43 genes.txt\n",
      "-rw-rw-r-- 1 was966 zitnik   77 Aug 18 11:43 indNR.txt\n",
      "-rw-rw-r-- 1 was966 zitnik  146 Aug 18 11:43 indR.txt\n",
      "-rw-rw-r-- 1 was966 zitnik  88M Aug 18 11:43 mRNA.norm3.txt\n",
      "-rw-rw-r-- 1 was966 zitnik  90M Aug 18 11:43 mRNA.rank2.txt\n",
      "-rw-rw-r-- 1 was966 zitnik  93M Aug 18 11:43 mRNA.rank.txt\n",
      "-rw-rw-r-- 1 was966 zitnik  56M Aug 18 11:43 mRNA.txt\n",
      "-rw-rw-r-- 1 was966 zitnik  539 Aug 18 11:43 response.txt\n",
      "-rw-rw-r-- 1 was966 zitnik 1.3K Aug 18 11:43 samples.txt\n",
      "-rw-rw-r-- 1 was966 zitnik  448 Aug 18 11:43 sex.txt\n",
      "-rw-rw-r-- 1 was966 zitnik  804 Aug 18 11:43 surv.dt2.txt\n",
      "-rw-rw-r-- 1 was966 zitnik  828 Aug 18 11:43 surv.dt.txt\n",
      "-rw-rw-r-- 1 was966 zitnik  804 Aug 18 11:43 survival2.txt\n",
      "-rw-rw-r-- 1 was966 zitnik  828 Aug 18 11:43 survival.txt\n",
      "-rw-rw-r-- 1 was966 zitnik 2.0K Aug 18 11:43 treatment.txt\n"
     ]
    }
   ],
   "source": [
    "ls -lh /n/data1/hms/dbmi/zitnik/lab/users/was966/ITRP/RData2csv/immuno/dat.Gide.RData/"
   ]
  },
  {
   "cell_type": "code",
   "execution_count": null,
   "id": "e2b0cd68-acc0-414d-8833-5512d3a7f35f",
   "metadata": {},
   "outputs": [],
   "source": []
  },
  {
   "cell_type": "code",
   "execution_count": 22,
   "id": "9c89e32c-2fb6-4bc3-9bde-d0a8fc1a2157",
   "metadata": {},
   "outputs": [],
   "source": [
    "import pandas as pd\n",
    "import os\n",
    "from glob import glob\n",
    "import numpy as np\n",
    "import matplotlib.pyplot as plt\n",
    "\n",
    "data_path = '/n/data1/hms/dbmi/zitnik/lab/users/was966/ITRP/RData2csv/immuno/'\n",
    "rdatas = glob(os.path.join(data_path, '*.RData'))"
   ]
  },
  {
   "cell_type": "code",
   "execution_count": 23,
   "id": "9cc3bc36-9cf6-4e12-b7d7-e2e5c5afc1f7",
   "metadata": {},
   "outputs": [],
   "source": [
    "rdata = '/n/data1/hms/dbmi/zitnik/lab/users/was966/ITRP/RData2csv/immuno/dat.Gide.RData'"
   ]
  },
  {
   "cell_type": "code",
   "execution_count": 24,
   "id": "aaaa24c9-93aa-4fcc-954b-fbd011b871af",
   "metadata": {},
   "outputs": [],
   "source": [
    "#cp /n/data1/hms/dbmi/zitnik/lab/users/was966/ITRP/RData2csv/immuno/dat.Gide.RData/*.txt ./raw/"
   ]
  },
  {
   "cell_type": "code",
   "execution_count": null,
   "id": "6ef020d0-6237-4408-b9a4-d83bc08d8094",
   "metadata": {},
   "outputs": [],
   "source": []
  },
  {
   "cell_type": "code",
   "execution_count": null,
   "id": "e247a2d3-c3d2-4258-a663-f3501c65f677",
   "metadata": {},
   "outputs": [],
   "source": []
  },
  {
   "cell_type": "code",
   "execution_count": 25,
   "id": "d722556b-9768-435c-ad1c-b02fb42877fd",
   "metadata": {},
   "outputs": [],
   "source": [
    "df_mRNA = pd.read_csv(os.path.join(rdata, 'mRNA.txt'), sep='\\t')"
   ]
  },
  {
   "cell_type": "code",
   "execution_count": 26,
   "id": "357745cc-8f51-44fd-a5e9-0fb377bb220e",
   "metadata": {},
   "outputs": [],
   "source": [
    "samples = pd.read_csv(os.path.join(rdata, 'samples.txt'), sep='\\t').x.to_frame(name='samples')\n",
    "flag = pd.read_csv(os.path.join(rdata, 'flag.txt'), sep='\\t').x.to_frame(name='flag')\n",
    "response= pd.read_csv(os.path.join(rdata, 'response.txt'), sep='\\t').x.to_frame(name='response')\n",
    "age = pd.read_csv(os.path.join(rdata, 'age.txt'), sep='\\t').x.to_frame(name='age')\n",
    "gender = pd.read_csv(os.path.join(rdata, 'sex.txt'), sep='\\t').x.to_frame(name='gender')\n",
    "treatment = pd.read_csv(os.path.join(rdata, 'treatment.txt'), sep='\\t').x.to_frame(name='treatment')\n",
    "survival = pd.read_csv(os.path.join(rdata, 'survival2.txt'), sep='\\t')\n",
    "df_samples = samples.join(flag).join(response).join(age).join(gender).join(treatment).join(survival).set_index('samples')"
   ]
  },
  {
   "cell_type": "code",
   "execution_count": 27,
   "id": "f7c65dd1-3fa0-42ec-861e-5aeadb170735",
   "metadata": {},
   "outputs": [
    {
     "data": {
      "text/plain": [
       "flag\n",
       "1    49\n",
       "0    42\n",
       "Name: count, dtype: int64"
      ]
     },
     "execution_count": 27,
     "metadata": {},
     "output_type": "execute_result"
    }
   ],
   "source": [
    "df_samples.flag.value_counts()"
   ]
  },
  {
   "cell_type": "code",
   "execution_count": 28,
   "id": "e41a1af1-f372-434e-9c69-62266075caf3",
   "metadata": {
    "scrolled": true
   },
   "outputs": [],
   "source": [
    "df_samples_meta = pd.read_csv('./raw/meta.txt', index_col=0)\n",
    "df_samples = df_samples.join(df_samples_meta.Sample_Name)"
   ]
  },
  {
   "cell_type": "code",
   "execution_count": 39,
   "id": "ef6730d2-0727-4782-81a0-c51ca2d8da4f",
   "metadata": {},
   "outputs": [],
   "source": [
    "df_samples['PRE'] = df_samples.Sample_Name.apply(lambda x: 'PRE' in x)\n",
    "df_samples = df_samples[df_samples.PRE == True]"
   ]
  },
  {
   "cell_type": "code",
   "execution_count": 42,
   "id": "3e568a51-2d28-4d85-b2ae-0a793db07959",
   "metadata": {},
   "outputs": [
    {
     "data": {
      "text/plain": [
       "response\n",
       "CR    544\n",
       "PD     13\n",
       "PR     81\n",
       "SD     80\n",
       "Name: time, dtype: int64"
      ]
     },
     "execution_count": 42,
     "metadata": {},
     "output_type": "execute_result"
    }
   ],
   "source": [
    "df_samples.groupby('response').time.min()"
   ]
  },
  {
   "cell_type": "code",
   "execution_count": 50,
   "id": "10d9c921-5dd2-432a-80af-c6d445c9078d",
   "metadata": {},
   "outputs": [],
   "source": [
    "df_mRNA = df_mRNA[df_samples.index]\n",
    "df_samples.to_csv('./processed/samples.csv')"
   ]
  },
  {
   "cell_type": "code",
   "execution_count": 51,
   "id": "63b2d427-38b2-4247-aea4-db58dec7386c",
   "metadata": {},
   "outputs": [],
   "source": [
    "df_mRNA.to_csv('./processed/abundance.csv')"
   ]
  },
  {
   "cell_type": "code",
   "execution_count": 52,
   "id": "8a1d7731-8e17-4705-9fab-b3a551232757",
   "metadata": {},
   "outputs": [
    {
     "data": {
      "text/plain": [
       "(59403, 73)"
      ]
     },
     "execution_count": 52,
     "metadata": {},
     "output_type": "execute_result"
    }
   ],
   "source": [
    "df_mRNA.shape"
   ]
  },
  {
   "cell_type": "code",
   "execution_count": 53,
   "id": "f9816210-cba3-4839-a61a-2b211dc4e77c",
   "metadata": {},
   "outputs": [
    {
     "data": {
      "text/plain": [
       "flag\n",
       "1    40\n",
       "0    33\n",
       "Name: count, dtype: int64"
      ]
     },
     "execution_count": 53,
     "metadata": {},
     "output_type": "execute_result"
    }
   ],
   "source": [
    "df_samples.flag.value_counts()"
   ]
  },
  {
   "cell_type": "code",
   "execution_count": null,
   "id": "c592bfc0-facf-4b3a-bca3-c971cf2ba748",
   "metadata": {},
   "outputs": [],
   "source": []
  },
  {
   "cell_type": "code",
   "execution_count": null,
   "id": "9b482945-52f0-4abf-912b-f516e8076b04",
   "metadata": {},
   "outputs": [],
   "source": []
  }
 ],
 "metadata": {
  "kernelspec": {
   "display_name": "Python 3 (ipykernel)",
   "language": "python",
   "name": "python3"
  },
  "language_info": {
   "codemirror_mode": {
    "name": "ipython",
    "version": 3
   },
   "file_extension": ".py",
   "mimetype": "text/x-python",
   "name": "python",
   "nbconvert_exporter": "python",
   "pygments_lexer": "ipython3",
   "version": "3.11.4"
  }
 },
 "nbformat": 4,
 "nbformat_minor": 5
}
