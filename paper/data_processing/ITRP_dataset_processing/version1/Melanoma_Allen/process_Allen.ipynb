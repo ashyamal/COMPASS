{
 "cells": [
  {
   "cell_type": "code",
   "execution_count": 7,
   "id": "0b289045-2ae4-4900-91b3-6f832067c05e",
   "metadata": {},
   "outputs": [
    {
     "name": "stdout",
     "output_type": "stream",
     "text": [
      "total 416K\n",
      "drwxrwsr-x 2 was966 zitnik 256 Aug 18 11:43 \u001b[0m\u001b[01;34mdat.Chen.RData\u001b[0m/\n",
      "drwxrwsr-x 2 was966 zitnik 395 Aug 18 11:43 \u001b[01;34mdat.Cho.RData\u001b[0m/\n",
      "drwxrwsr-x 2 was966 zitnik 487 Aug 18 11:43 \u001b[01;34mdat.Gide.RData\u001b[0m/\n",
      "drwxrwsr-x 2 was966 zitnik 478 Aug 18 11:43 \u001b[01;34mdat.Huang.RData\u001b[0m/\n",
      "drwxrwsr-x 2 was966 zitnik 481 Aug 18 11:43 \u001b[01;34mdat.Hwang.RData\u001b[0m/\n",
      "drwxrwsr-x 2 was966 zitnik 395 Aug 18 11:43 \u001b[01;34mdat.Kim.RData\u001b[0m/\n",
      "drwxrwsr-x 2 was966 zitnik 597 Aug 18 11:44 \u001b[01;34mdat.Liu.RData\u001b[0m/\n",
      "drwxrwsr-x 2 was966 zitnik 660 Aug 18 11:44 \u001b[01;34mdat.Miao.RData\u001b[0m/\n",
      "drwxrwsr-x 2 was966 zitnik 369 Aug 18 11:44 \u001b[01;34mdat.Nathanson_pre.RData\u001b[0m/\n",
      "drwxrwsr-x 2 was966 zitnik 721 Aug 18 11:44 \u001b[01;34mdat.Prat.RData\u001b[0m/\n",
      "drwxrwsr-x 2 was966 zitnik 453 Aug 18 11:44 \u001b[01;34mdat.Riaz.RData\u001b[0m/\n",
      "drwxrwsr-x 2 was966 zitnik 569 Aug 18 11:44 \u001b[01;34mdat.Snyder.RData\u001b[0m/\n",
      "drwxrwsr-x 2 was966 zitnik 476 Aug 18 11:44 \u001b[01;34mdat.VanAllen.RData\u001b[0m/\n"
     ]
    }
   ],
   "source": [
    "ls -lh /n/data1/hms/dbmi/zitnik/lab/users/was966/ITRP/RData2csv/immuno"
   ]
  },
  {
   "cell_type": "code",
   "execution_count": 8,
   "id": "222e2506-346e-45c4-82d6-54a468b3139d",
   "metadata": {},
   "outputs": [
    {
     "name": "stdout",
     "output_type": "stream",
     "text": [
      "do_ypcall: clnt_call: RPC: Timed out\n",
      "total 68M\n",
      "-rw-rw-r-- 1 was966 zitnik  245 Aug 18 11:44 age.txt\n",
      "-rw-rw-r-- 1 was966 zitnik 730K Aug 18 11:44 genes.txt\n",
      "-rw-rw-r-- 1 was966 zitnik  154 Aug 18 11:44 indNR.txt\n",
      "-rw-rw-r-- 1 was966 zitnik   75 Aug 18 11:44 indR.txt\n",
      "-rw-rw-r-- 1 was966 zitnik  535 Aug 18 11:44 ml.txt\n",
      "-rw-rw-r-- 1 was966 zitnik  19M Aug 18 11:44 mRNA.norm3.txt\n",
      "-rw-rw-r-- 1 was966 zitnik  20M Aug 18 11:44 mRNA.rank2.txt\n",
      "-rw-rw-r-- 1 was966 zitnik  21M Aug 18 11:44 mRNA.rank.txt\n",
      "-rw-rw-r-- 1 was966 zitnik 7.6M Aug 18 11:44 mRNA.txt\n",
      "-rw-rw-r-- 1 was966 zitnik  203 Aug 18 11:44 pfs.status.txt\n",
      "-rw-rw-r-- 1 was966 zitnik  267 Aug 18 11:44 pfs.txt\n",
      "-rw-rw-r-- 1 was966 zitnik  203 Aug 18 11:44 response.txt\n",
      "-rw-rw-r-- 1 was966 zitnik  375 Aug 18 11:44 samples.txt\n",
      "-rw-rw-r-- 1 was966 zitnik  357 Aug 18 11:44 sex.txt\n",
      "-rw-rw-r-- 1 was966 zitnik  455 Aug 18 11:44 stage.txt\n",
      "-rw-rw-r-- 1 was966 zitnik  203 Aug 18 11:44 status.txt\n",
      "-rw-rw-r-- 1 was966 zitnik  355 Aug 18 11:44 survival.txt\n"
     ]
    }
   ],
   "source": [
    "ls -lh /n/data1/hms/dbmi/zitnik/lab/users/was966/ITRP/RData2csv/immuno/dat.VanAllen.RData/"
   ]
  },
  {
   "cell_type": "code",
   "execution_count": 9,
   "id": "98307737-5ca2-44d7-a61b-6c34a74d31d4",
   "metadata": {},
   "outputs": [],
   "source": [
    "import pandas as pd\n",
    "import os\n",
    "from glob import glob\n",
    "import numpy as np\n",
    "import matplotlib.pyplot as plt\n",
    "\n",
    "rdata = '/n/data1/hms/dbmi/zitnik/lab/users/was966/ITRP/RData2csv/immuno/dat.VanAllen.RData'"
   ]
  },
  {
   "cell_type": "code",
   "execution_count": 10,
   "id": "504aca4a-f106-4da5-a0c2-c942438d3cc2",
   "metadata": {},
   "outputs": [
    {
     "data": {
      "text/plain": [
       "(48644, 42)"
      ]
     },
     "execution_count": 10,
     "metadata": {},
     "output_type": "execute_result"
    }
   ],
   "source": [
    "df_mRNA = pd.read_csv(os.path.join(rdata, 'mRNA.txt'), sep='\\t')\n",
    "genes = pd.read_csv(os.path.join(rdata, 'genes.txt'), sep='\\t').x.to_frame(name='genes')\n",
    "df_mRNA.index = genes.genes\n",
    "df_mRNA.shape"
   ]
  },
  {
   "cell_type": "code",
   "execution_count": 11,
   "id": "06c52b15-7a5f-485c-9c8a-35032de0d0b9",
   "metadata": {
    "scrolled": true
   },
   "outputs": [],
   "source": [
    "df_mRNA = df_mRNA.dropna()"
   ]
  },
  {
   "cell_type": "code",
   "execution_count": 12,
   "id": "09f2a009-d247-47f7-ae22-9fc8c80193f0",
   "metadata": {},
   "outputs": [
    {
     "data": {
      "text/plain": [
       "(23749, 42)"
      ]
     },
     "execution_count": 12,
     "metadata": {},
     "output_type": "execute_result"
    }
   ],
   "source": [
    "df_mRNA.shape"
   ]
  },
  {
   "cell_type": "code",
   "execution_count": 13,
   "id": "77442bc5-afab-4734-89fa-0b456e9cb4e9",
   "metadata": {},
   "outputs": [],
   "source": [
    "samples = pd.read_csv(os.path.join(rdata, 'samples.txt'), sep='\\t').x.to_frame(name='samples')\n",
    "#flag = pd.read_csv(os.path.join(rdata, 'flag.txt'), sep='\\t').x.to_frame(name='flag')\n",
    "response= pd.read_csv(os.path.join(rdata, 'response.txt'), sep='\\t').x.to_frame(name='response')\n",
    "flag = response.response.to_frame(name='flag')\n",
    "age = pd.read_csv(os.path.join(rdata, 'age.txt'), sep='\\t').x.to_frame(name='age')\n",
    "gender = pd.read_csv(os.path.join(rdata, 'sex.txt'), sep='\\t').x.to_frame(name='gender')\n",
    "#treatment = pd.read_csv(os.path.join(rdata, 'treatment.txt'), sep='\\t').x.to_frame(name='treatment')\n",
    "survival = pd.read_csv(os.path.join(rdata, 'survival.txt'), sep='\\t')\n",
    "survival.columns = ['time','status']\n",
    "\n",
    "samples['patients'] = df_mRNA.columns\n",
    "df_samples = samples.join(flag).join(response).join(age).join(gender).join(survival).set_index('samples')"
   ]
  },
  {
   "cell_type": "code",
   "execution_count": 14,
   "id": "9acda95f-f17b-44f8-82a5-df57830c5f9e",
   "metadata": {},
   "outputs": [
    {
     "name": "stderr",
     "output_type": "stream",
     "text": [
      "/home/was966/micromamba/envs/RNA/lib/python3.11/site-packages/openpyxl/worksheet/_reader.py:329: UserWarning: Unknown extension is not supported and will be removed\n",
      "  warn(msg)\n"
     ]
    }
   ],
   "source": [
    "captureSize = 35.8 #for tmb claculation\n",
    "VC_NONSYNONYMOUS_LIST = ['Frame_Shift_Del',\n",
    "                         'Frame_Shift_Ins',\n",
    "                         'In_Frame_Del',\n",
    "                         'In_Frame_Ins',\n",
    "                         'Missense_Mutation',\n",
    "                         'Nonsense_Mutation',\n",
    "                         'Splice_Site',\n",
    "                         'Nonstop_Mutation',\n",
    "                         'Splice_Region']\n",
    "\n",
    "truncate_mut_LIST = ['Nonsense_Mutation', 'Frame_Shift_Ins','Frame_Shift_Del','Splice_Site']\n",
    "nontruncate_mut_LIST = ['Missense_Mutation','In_Frame_Del', 'In_Frame_Ins','Nonstop_Mutation']\n",
    "\n",
    "mut = pd.read_excel('./raw/tables1.mutation_list_all_patients.xlsx')\n",
    "\n",
    "mut['nansynonymous_mut_flag'] = mut.Variant_Classification.isin(VC_NONSYNONYMOUS_LIST)\n",
    "mut['truncate_mut_flag'] = mut.Variant_Classification.isin(truncate_mut_LIST)\n",
    "mut['nontruncate_mut_flag'] = mut.Variant_Classification.isin(nontruncate_mut_LIST)\n",
    "\n",
    "\n",
    "I_calculated_TMB1 = mut.groupby('patient').nansynonymous_mut_flag.sum()\n",
    "I_calculated_TMB2 = mut.groupby('patient').apply(lambda x:x.truncate_mut_flag.sum()*2+x.nontruncate_mut_flag.sum())"
   ]
  },
  {
   "cell_type": "code",
   "execution_count": 15,
   "id": "2470ae9e-0937-4221-8e43-952b337f170c",
   "metadata": {},
   "outputs": [
    {
     "data": {
      "image/png": "[encoded data removed]",
      "text/plain": [
       "<Figure size 640x480 with 1 Axes>"
      ]
     },
     "metadata": {},
     "output_type": "display_data"
    }
   ],
   "source": [
    "#for tmb claculation\n",
    "tmb1 = np.log2(I_calculated_TMB1/captureSize)\n",
    "tmb2 = np.log2(I_calculated_TMB2/captureSize)\n",
    "\n",
    "tmb1.hist(bins=20)\n",
    "tmb2.hist(bins=20)\n",
    "\n",
    "tmb = tmb1.to_frame('tmb.dan').join(tmb2.to_frame(name = 'tmb.wang'))\n",
    "df_samples = df_samples.join(tmb)\n",
    "df_samples = df_samples.set_index('patients')\n",
    "df_samples.index.name = 'samples'"
   ]
  },
  {
   "cell_type": "code",
   "execution_count": 32,
   "id": "a7ba3c3a-3df4-432d-a41c-32190565a78b",
   "metadata": {},
   "outputs": [],
   "source": [
    "df_samples['patient'] = df_samples.index.map(lambda x:x.split('-')[1].split('_')[1])"
   ]
  },
  {
   "cell_type": "code",
   "execution_count": 33,
   "id": "f5e2f524-e140-434d-8bbd-fda9fc000c05",
   "metadata": {},
   "outputs": [
    {
     "name": "stderr",
     "output_type": "stream",
     "text": [
      "/home/was966/micromamba/envs/RNA/lib/python3.11/site-packages/openpyxl/worksheet/_reader.py:329: UserWarning: Unknown extension is not supported and will be removed\n",
      "  warn(msg)\n"
     ]
    }
   ],
   "source": [
    "dfs2 = pd.read_excel('./raw/tables2_revised.xlsx', sheet_name='transcriptome analysis (n=42)')"
   ]
  },
  {
   "cell_type": "code",
   "execution_count": 35,
   "id": "240c5882-8498-4c16-b602-5b8968f9bd86",
   "metadata": {},
   "outputs": [],
   "source": [
    "df_samples['RECIST'] = df_samples.patient.map(dfs2.set_index('patient').RECIST)"
   ]
  },
  {
   "cell_type": "code",
   "execution_count": null,
   "id": "59f3e755-f3e4-4106-aa86-67bc020dbb89",
   "metadata": {},
   "outputs": [],
   "source": []
  },
  {
   "cell_type": "code",
   "execution_count": 37,
   "id": "f5b4d5c1-b70d-480e-bf52-ea3cd3d70b70",
   "metadata": {},
   "outputs": [],
   "source": [
    "df_samples.to_csv('./processed/samples.csv')\n",
    "df_mRNA.to_csv('./processed/abundance.csv')"
   ]
  },
  {
   "cell_type": "code",
   "execution_count": null,
   "id": "7c40cb4e-0844-42ac-a0d5-4192792282c3",
   "metadata": {},
   "outputs": [],
   "source": []
  },
  {
   "cell_type": "code",
   "execution_count": null,
   "id": "2d92490b-bab8-48a7-888d-deacbb5c55bd",
   "metadata": {},
   "outputs": [],
   "source": []
  },
  {
   "cell_type": "code",
   "execution_count": null,
   "id": "fcceb67d-2e20-4559-b309-876348cb7702",
   "metadata": {},
   "outputs": [],
   "source": []
  }
 ],
 "metadata": {
  "kernelspec": {
   "display_name": "Python 3 (ipykernel)",
   "language": "python",
   "name": "python3"
  },
  "language_info": {
   "codemirror_mode": {
    "name": "ipython",
    "version": 3
   },
   "file_extension": ".py",
   "mimetype": "text/x-python",
   "name": "python",
   "nbconvert_exporter": "python",
   "pygments_lexer": "ipython3",
   "version": "3.11.4"
  }
 },
 "nbformat": 4,
 "nbformat_minor": 5
}
