{
 "cells": [
  {
   "cell_type": "code",
   "execution_count": 1,
   "id": "5e86f6bf-8a2b-4517-a722-d1ecc9be745f",
   "metadata": {},
   "outputs": [
    {
     "name": "stdout",
     "output_type": "stream",
     "text": [
      "total 416K\n",
      "drwxrwsr-x 2 was966 zitnik 256 Aug 18 11:43 \u001b[0m\u001b[01;34mdat.Chen.RData\u001b[0m/\n",
      "drwxrwsr-x 2 was966 zitnik 395 Aug 18 11:43 \u001b[01;34mdat.Cho.RData\u001b[0m/\n",
      "drwxrwsr-x 2 was966 zitnik 487 Aug 18 11:43 \u001b[01;34mdat.Gide.RData\u001b[0m/\n",
      "drwxrwsr-x 2 was966 zitnik 478 Aug 18 11:43 \u001b[01;34mdat.Huang.RData\u001b[0m/\n",
      "drwxrwsr-x 2 was966 zitnik 481 Aug 18 11:43 \u001b[01;34mdat.Hwang.RData\u001b[0m/\n",
      "drwxrwsr-x 2 was966 zitnik 395 Aug 18 11:43 \u001b[01;34mdat.Kim.RData\u001b[0m/\n",
      "drwxrwsr-x 2 was966 zitnik 597 Aug 18 11:44 \u001b[01;34mdat.Liu.RData\u001b[0m/\n",
      "drwxrwsr-x 2 was966 zitnik 660 Aug 18 11:44 \u001b[01;34mdat.Miao.RData\u001b[0m/\n",
      "drwxrwsr-x 2 was966 zitnik 369 Aug 18 11:44 \u001b[01;34mdat.Nathanson_pre.RData\u001b[0m/\n",
      "drwxrwsr-x 2 was966 zitnik 721 Aug 18 11:44 \u001b[01;34mdat.Prat.RData\u001b[0m/\n",
      "drwxrwsr-x 2 was966 zitnik 453 Aug 18 11:44 \u001b[01;34mdat.Riaz.RData\u001b[0m/\n",
      "drwxrwsr-x 2 was966 zitnik 569 Aug 18 11:44 \u001b[01;34mdat.Snyder.RData\u001b[0m/\n",
      "drwxrwsr-x 2 was966 zitnik 476 Aug 18 11:44 \u001b[01;34mdat.VanAllen.RData\u001b[0m/\n"
     ]
    }
   ],
   "source": [
    "ls -lh /n/data1/hms/dbmi/zitnik/lab/users/was966/ITRP/RData2csv/immuno"
   ]
  },
  {
   "cell_type": "code",
   "execution_count": 2,
   "id": "239d19bd-08bd-42c6-87a7-6103f439de23",
   "metadata": {},
   "outputs": [
    {
     "name": "stdout",
     "output_type": "stream",
     "text": [
      "total 162M\n",
      "-rw-rw-r-- 1 was966 zitnik  620 Aug 18 11:43 biopsyContext (1=Pre-Ipi; 2=On-Ipi; 3=Pre-PD1; 4=On-PD1).txt\n",
      "-rw-rw-r-- 1 was966 zitnik  23K Aug 18 11:43 clin.txt\n",
      "-rw-rw-r-- 1 was966 zitnik   13 Aug 18 11:43 drugs.txt\n",
      "-rw-rw-r-- 1 was966 zitnik 250K Aug 18 11:43 genes.txt\n",
      "-rw-rw-r-- 1 was966 zitnik  44M Aug 18 11:44 mRNA.norm3.txt\n",
      "-rw-rw-r-- 1 was966 zitnik  44M Aug 18 11:44 mRNA.rank2.txt\n",
      "-rw-rw-r-- 1 was966 zitnik  44M Aug 18 11:44 mRNA.rank.txt\n",
      "-rw-rw-r-- 1 was966 zitnik  31M Aug 18 11:43 mRNA.txt\n",
      "-rw-rw-r-- 1 was966 zitnik  741 Aug 18 11:43 response.txt\n",
      "-rw-rw-r-- 1 was966 zitnik 1.7K Aug 18 11:43 samples.txt\n",
      "-rw-rw-r-- 1 was966 zitnik  620 Aug 18 11:43 sex.txt\n",
      "-rw-rw-r-- 1 was966 zitnik  620 Aug 18 11:43 stage.txt\n",
      "-rw-rw-r-- 1 was966 zitnik 1.1K Aug 18 11:43 surv.dt2.txt\n",
      "-rw-rw-r-- 1 was966 zitnik 1.1K Aug 18 11:43 surv.dt.txt\n",
      "-rw-rw-r-- 1 was966 zitnik 1.1K Aug 18 11:43 survival2.txt\n",
      "-rw-rw-r-- 1 was966 zitnik 1.1K Aug 18 11:43 survival.txt\n",
      "-rw-rw-r-- 1 was966 zitnik    8 Aug 18 11:43 targets.txt\n",
      "-rw-rw-r-- 1 was966 zitnik 1.9K Aug 18 11:43 treatment.txt\n",
      "-rw-rw-r-- 1 was966 zitnik    9 Aug 18 11:43 types.txt\n"
     ]
    }
   ],
   "source": [
    "ls -lh /n/data1/hms/dbmi/zitnik/lab/users/was966/ITRP/RData2csv/immuno/dat.Liu.RData/"
   ]
  },
  {
   "cell_type": "code",
   "execution_count": 3,
   "id": "9c89e32c-2fb6-4bc3-9bde-d0a8fc1a2157",
   "metadata": {},
   "outputs": [],
   "source": [
    "import pandas as pd\n",
    "import os\n",
    "from glob import glob\n",
    "import numpy as np\n",
    "import matplotlib.pyplot as plt\n",
    "\n",
    "data_path = '/n/data1/hms/dbmi/zitnik/lab/users/was966/ITRP/RData2csv/immuno/'\n",
    "rdatas = glob(os.path.join(data_path, '*.RData'))"
   ]
  },
  {
   "cell_type": "code",
   "execution_count": 4,
   "id": "9cc3bc36-9cf6-4e12-b7d7-e2e5c5afc1f7",
   "metadata": {},
   "outputs": [],
   "source": [
    "rdata = '/n/data1/hms/dbmi/zitnik/lab/users/was966/ITRP/RData2csv/immuno/dat.Liu.RData'"
   ]
  },
  {
   "cell_type": "code",
   "execution_count": 5,
   "id": "aaaa24c9-93aa-4fcc-954b-fbd011b871af",
   "metadata": {},
   "outputs": [],
   "source": [
    "#cp /n/data1/hms/dbmi/zitnik/lab/users/was966/ITRP/RData2csv/immuno/dat.Gide.RData/*.txt ./raw/"
   ]
  },
  {
   "cell_type": "code",
   "execution_count": 6,
   "id": "d722556b-9768-435c-ad1c-b02fb42877fd",
   "metadata": {},
   "outputs": [
    {
     "data": {
      "text/html": [
       "<div>\n",
       "<style scoped>\n",
       "    .dataframe tbody tr th:only-of-type {\n",
       "        vertical-align: middle;\n",
       "    }\n",
       "\n",
       "    .dataframe tbody tr th {\n",
       "        vertical-align: top;\n",
       "    }\n",
       "\n",
       "    .dataframe thead th {\n",
       "        text-align: right;\n",
       "    }\n",
       "</style>\n",
       "<table border=\"1\" class=\"dataframe\">\n",
       "  <thead>\n",
       "    <tr style=\"text-align: right;\">\n",
       "      <th>samples</th>\n",
       "      <th>Patient100</th>\n",
       "      <th>Patient102</th>\n",
       "      <th>Patient105</th>\n",
       "      <th>Patient106</th>\n",
       "      <th>Patient107</th>\n",
       "      <th>Patient108</th>\n",
       "      <th>Patient10</th>\n",
       "      <th>Patient112</th>\n",
       "      <th>Patient116</th>\n",
       "      <th>Patient117</th>\n",
       "      <th>...</th>\n",
       "      <th>Patient200</th>\n",
       "      <th>Patient201</th>\n",
       "      <th>Patient203</th>\n",
       "      <th>Patient193</th>\n",
       "      <th>Patient195</th>\n",
       "      <th>Patient196</th>\n",
       "      <th>Patient197</th>\n",
       "      <th>Patient204</th>\n",
       "      <th>Patient205</th>\n",
       "      <th>Patient206</th>\n",
       "    </tr>\n",
       "  </thead>\n",
       "  <tbody>\n",
       "    <tr>\n",
       "      <th>A1BG</th>\n",
       "      <td>19.614242</td>\n",
       "      <td>20.075427</td>\n",
       "      <td>13.009169</td>\n",
       "      <td>18.363130</td>\n",
       "      <td>0.0</td>\n",
       "      <td>0.606043</td>\n",
       "      <td>10.049930</td>\n",
       "      <td>17.782720</td>\n",
       "      <td>16.188170</td>\n",
       "      <td>16.491696</td>\n",
       "      <td>...</td>\n",
       "      <td>17.219102</td>\n",
       "      <td>40.47852</td>\n",
       "      <td>23.028856</td>\n",
       "      <td>13.831856</td>\n",
       "      <td>18.570674</td>\n",
       "      <td>24.699800</td>\n",
       "      <td>70.098366</td>\n",
       "      <td>10.518109</td>\n",
       "      <td>21.005952</td>\n",
       "      <td>9.232322</td>\n",
       "    </tr>\n",
       "    <tr>\n",
       "      <th>A1BG-AS1</th>\n",
       "      <td>0.826789</td>\n",
       "      <td>0.555721</td>\n",
       "      <td>0.000000</td>\n",
       "      <td>0.902715</td>\n",
       "      <td>0.0</td>\n",
       "      <td>0.000000</td>\n",
       "      <td>0.720561</td>\n",
       "      <td>1.191326</td>\n",
       "      <td>2.197810</td>\n",
       "      <td>2.039296</td>\n",
       "      <td>...</td>\n",
       "      <td>2.502559</td>\n",
       "      <td>0.00000</td>\n",
       "      <td>1.317041</td>\n",
       "      <td>1.416334</td>\n",
       "      <td>1.161784</td>\n",
       "      <td>1.678815</td>\n",
       "      <td>1.780975</td>\n",
       "      <td>1.887154</td>\n",
       "      <td>2.471288</td>\n",
       "      <td>1.895923</td>\n",
       "    </tr>\n",
       "    <tr>\n",
       "      <th>A1CF</th>\n",
       "      <td>0.035182</td>\n",
       "      <td>0.208395</td>\n",
       "      <td>0.000000</td>\n",
       "      <td>0.000000</td>\n",
       "      <td>0.0</td>\n",
       "      <td>0.000000</td>\n",
       "      <td>0.000000</td>\n",
       "      <td>0.116227</td>\n",
       "      <td>0.094529</td>\n",
       "      <td>0.044333</td>\n",
       "      <td>...</td>\n",
       "      <td>0.093379</td>\n",
       "      <td>0.00000</td>\n",
       "      <td>0.038737</td>\n",
       "      <td>0.000000</td>\n",
       "      <td>0.000000</td>\n",
       "      <td>0.289451</td>\n",
       "      <td>0.000000</td>\n",
       "      <td>0.000000</td>\n",
       "      <td>0.000000</td>\n",
       "      <td>0.000000</td>\n",
       "    </tr>\n",
       "  </tbody>\n",
       "</table>\n",
       "<p>3 rows × 121 columns</p>\n",
       "</div>"
      ],
      "text/plain": [
       "samples   Patient100  Patient102  Patient105  Patient106  Patient107  \\\n",
       "A1BG       19.614242   20.075427   13.009169   18.363130         0.0   \n",
       "A1BG-AS1    0.826789    0.555721    0.000000    0.902715         0.0   \n",
       "A1CF        0.035182    0.208395    0.000000    0.000000         0.0   \n",
       "\n",
       "samples   Patient108  Patient10  Patient112  Patient116  Patient117  ...  \\\n",
       "A1BG        0.606043  10.049930   17.782720   16.188170   16.491696  ...   \n",
       "A1BG-AS1    0.000000   0.720561    1.191326    2.197810    2.039296  ...   \n",
       "A1CF        0.000000   0.000000    0.116227    0.094529    0.044333  ...   \n",
       "\n",
       "samples   Patient200  Patient201  Patient203  Patient193  Patient195  \\\n",
       "A1BG       17.219102    40.47852   23.028856   13.831856   18.570674   \n",
       "A1BG-AS1    2.502559     0.00000    1.317041    1.416334    1.161784   \n",
       "A1CF        0.093379     0.00000    0.038737    0.000000    0.000000   \n",
       "\n",
       "samples   Patient196  Patient197  Patient204  Patient205  Patient206  \n",
       "A1BG       24.699800   70.098366   10.518109   21.005952    9.232322  \n",
       "A1BG-AS1    1.678815    1.780975    1.887154    2.471288    1.895923  \n",
       "A1CF        0.289451    0.000000    0.000000    0.000000    0.000000  \n",
       "\n",
       "[3 rows x 121 columns]"
      ]
     },
     "execution_count": 6,
     "metadata": {},
     "output_type": "execute_result"
    }
   ],
   "source": [
    "df_mRNA = pd.read_csv(os.path.join(rdata, 'mRNA.txt'), sep='\\t')\n",
    "samples = pd.read_csv(os.path.join(rdata, 'samples.txt'), sep='\\t').x.to_frame(name='samples')\n",
    "df_mRNA.columns = samples.samples\n",
    "\n",
    "df_mRNA.head(3)"
   ]
  },
  {
   "cell_type": "code",
   "execution_count": 7,
   "id": "357745cc-8f51-44fd-a5e9-0fb377bb220e",
   "metadata": {},
   "outputs": [],
   "source": [
    "response= pd.read_csv(os.path.join(rdata, 'response.txt'), sep='\\t').x.to_frame(name='response')\n",
    "resmap = {'PD':'nonresponder', 'CR':'responder', 'PR':'responder', 'SD':'nonresponder'}\n",
    "flag = response.response.map(resmap).map({'nonresponder':0, 'responder':1}).to_frame(name='flag')\n",
    "gender = pd.read_csv(os.path.join(rdata, 'sex.txt'), sep='\\t').x.to_frame(name='gender')\n",
    "\n",
    "treatment = pd.read_csv(os.path.join(rdata, 'treatment.txt'), sep='\\t').x.to_frame(name='treatment')\n",
    "survival = pd.read_csv(os.path.join(rdata, 'survival2.txt'), sep='\\t')\n",
    "survival.columns = ['time', 'status']\n",
    "\n",
    "clin = pd.read_csv(os.path.join(rdata, 'clin.txt'), sep='\\t')\n",
    "clin = clin[clin.columns[1:]]\n",
    "stage = pd.read_csv(os.path.join(rdata, 'stage.txt'), sep='\\t').x.to_frame(name='stage')\n",
    "\n",
    "df_samples = samples.join(flag).join(response).join(gender).join(treatment).join(stage).join(survival).join(clin).set_index('samples')"
   ]
  },
  {
   "cell_type": "code",
   "execution_count": 8,
   "id": "d6e08c42-c869-4e65-ad7e-99c137f3aa9e",
   "metadata": {},
   "outputs": [
    {
     "data": {
      "text/plain": [
       "(121, 52)"
      ]
     },
     "execution_count": 8,
     "metadata": {},
     "output_type": "execute_result"
    }
   ],
   "source": [
    "df_samples.shape"
   ]
  },
  {
   "cell_type": "code",
   "execution_count": 9,
   "id": "acfba740-5015-470b-92ad-a51c0f2df02e",
   "metadata": {},
   "outputs": [],
   "source": [
    "captureSize = 35.8 #for tmb claculation\n",
    "\n",
    "\n",
    "VC_NONSYNONYMOUS_LIST = ['Frame_Shift_Del',\n",
    "                         'Frame_Shift_Ins',\n",
    "                         'In_Frame_Del',\n",
    "                         'In_Frame_Ins',\n",
    "                         'Missense_Mutation',\n",
    "                         'Nonsense_Mutation',\n",
    "                         'Splice_Site',\n",
    "                         'Nonstop_Mutation',\n",
    "                         'Splice_Region']\n",
    "\n",
    "truncate_mut_LIST = ['Nonsense_Mutation', 'Frame_Shift_Ins','Frame_Shift_Del','Splice_Site']\n",
    "nontruncate_mut_LIST = ['Missense_Mutation','In_Frame_Del', 'In_Frame_Ins','Nonstop_Mutation']\n",
    "\n",
    "mut = pd.read_csv('./raw/all_mutation.csv', sep=',')\n",
    "\n",
    "mut['nansynonymous_mut_flag'] = mut.Variant_Classification.isin(VC_NONSYNONYMOUS_LIST)\n",
    "mut['truncate_mut_flag'] = mut.Variant_Classification.isin(truncate_mut_LIST)\n",
    "mut['nontruncate_mut_flag'] = mut.Variant_Classification.isin(nontruncate_mut_LIST)\n",
    "\n",
    "\n",
    "I_calculated_TMB1 = mut.groupby('Patient').nansynonymous_mut_flag.sum()\n",
    "I_calculated_TMB2 = mut.groupby('Patient').apply(lambda x:x.truncate_mut_flag.sum()*2+x.nontruncate_mut_flag.sum())"
   ]
  },
  {
   "cell_type": "code",
   "execution_count": 10,
   "id": "108720ec-82df-467d-85f8-4c140c56d49b",
   "metadata": {},
   "outputs": [
    {
     "data": {
      "image/png": "[encoded data removed]",
      "text/plain": [
       "<Figure size 640x480 with 1 Axes>"
      ]
     },
     "metadata": {},
     "output_type": "display_data"
    }
   ],
   "source": [
    "#for tmb claculation\n",
    "tmb1 = np.log2(I_calculated_TMB1/captureSize)\n",
    "tmb2 = np.log2(I_calculated_TMB2/captureSize)\n",
    "\n",
    "tmb1.hist(bins=20)\n",
    "tmb2.hist(bins=20)\n",
    "\n",
    "tmb = tmb1.to_frame('tmb.dan').join(tmb2.to_frame(name = 'tmb.wang'))\n",
    "df_samples = df_samples.join(tmb)"
   ]
  },
  {
   "cell_type": "code",
   "execution_count": 11,
   "id": "38267a5a-dfbc-4541-a11a-b6ecf9e8c3a1",
   "metadata": {},
   "outputs": [],
   "source": [
    "df_samples = df_samples[~df_samples.flag.isna()]\n",
    "df_samples.to_csv('./processed/samples.csv')"
   ]
  },
  {
   "cell_type": "code",
   "execution_count": 12,
   "id": "63b2d427-38b2-4247-aea4-db58dec7386c",
   "metadata": {},
   "outputs": [],
   "source": [
    "df_mRNA = df_mRNA[df_samples.index]\n",
    "df_mRNA.to_csv('./processed/abundance.csv')"
   ]
  },
  {
   "cell_type": "code",
   "execution_count": 13,
   "id": "8a1d7731-8e17-4705-9fab-b3a551232757",
   "metadata": {},
   "outputs": [
    {
     "data": {
      "text/plain": [
       "(20848, 119)"
      ]
     },
     "execution_count": 13,
     "metadata": {},
     "output_type": "execute_result"
    }
   ],
   "source": [
    "df_mRNA.shape"
   ]
  },
  {
   "cell_type": "code",
   "execution_count": 14,
   "id": "e0a72cbb-743a-4be6-9b0e-c2bd85b7afe9",
   "metadata": {},
   "outputs": [
    {
     "data": {
      "text/plain": [
       "flag\n",
       "0.0    72\n",
       "1.0    47\n",
       "Name: count, dtype: int64"
      ]
     },
     "execution_count": 14,
     "metadata": {},
     "output_type": "execute_result"
    }
   ],
   "source": [
    "df_samples.flag.value_counts()"
   ]
  },
  {
   "cell_type": "code",
   "execution_count": 15,
   "id": "81674bd6-b298-45eb-bbdc-0c4728d20f0e",
   "metadata": {},
   "outputs": [
    {
     "data": {
      "text/plain": [
       "Index(['flag', 'response', 'gender', 'treatment', 'stage', 'time', 'status',\n",
       "       'total_muts', 'nonsyn_muts', 'clonal_muts', 'subclonal_muts',\n",
       "       'heterogeneity', 'total_neoantigens', 'CNA_prop',\n",
       "       'gender (Male=1, Female=0)', 'biopsy site', 'monthsBiopsyPreTx', 'BR',\n",
       "       'PFS', 'OS', 'TimeToBR', 'cyclesOnTherapy', 'txOngoing', 'Tx',\n",
       "       'Mstage (IIIC=0, M1a=1, M1b=2, M1c=3)', 'Tx_Start_ECOG', 'Tx_Start_LDH',\n",
       "       'LDH_Elevated', 'Brain_Met', 'Cut_SubQ_Met', 'LN_Met', 'Lung_Met',\n",
       "       'Liver_Visc_Met', 'Bone_Met', 'progressed', 'dead', 'Primary_Type',\n",
       "       'Histology', 'IOTherapy', 'steroidsGT10mgDaily', 'priorMAPKTx',\n",
       "       'priorCTLA4', 'postCTLA4', 'postMAPKTx', 'postCombinedCTLA_PD1',\n",
       "       'numPriorTherapies', 'biopsy site_categ',\n",
       "       'biopsyContext (1=Pre-Ipi; 2=On-Ipi; 3=Pre-PD1; 4=On-PD1)',\n",
       "       'daysBiopsyToPD1', 'daysBiopsyAfterIpiStart', 'purity', 'ploidy',\n",
       "       'tmb.dan', 'tmb.wang'],\n",
       "      dtype='object')"
      ]
     },
     "execution_count": 15,
     "metadata": {},
     "output_type": "execute_result"
    }
   ],
   "source": [
    "df_samples.columns"
   ]
  },
  {
   "cell_type": "code",
   "execution_count": null,
   "id": "a56a91c6-9d20-4b52-8712-039f44ebba3f",
   "metadata": {},
   "outputs": [],
   "source": []
  }
 ],
 "metadata": {
  "kernelspec": {
   "display_name": "Python 3 (ipykernel)",
   "language": "python",
   "name": "python3"
  },
  "language_info": {
   "codemirror_mode": {
    "name": "ipython",
    "version": 3
   },
   "file_extension": ".py",
   "mimetype": "text/x-python",
   "name": "python",
   "nbconvert_exporter": "python",
   "pygments_lexer": "ipython3",
   "version": "3.11.4"
  }
 },
 "nbformat": 4,
 "nbformat_minor": 5
}
