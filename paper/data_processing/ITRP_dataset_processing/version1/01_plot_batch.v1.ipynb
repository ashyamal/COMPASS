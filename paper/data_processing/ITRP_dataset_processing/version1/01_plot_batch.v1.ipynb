{
 "cells": [
  {
   "cell_type": "code",
   "execution_count": 1,
   "id": "70948ec1-0b8e-44c7-8c0d-01d8d8ec51da",
   "metadata": {},
   "outputs": [
    {
     "name": "stderr",
     "output_type": "stream",
     "text": [
      "/home/was966/micromamba/envs/RNA/lib/python3.11/site-packages/umap/distances.py:1063: NumbaDeprecationWarning: The 'nopython' keyword argument was not supplied to the 'numba.jit' decorator. The implicit default value for this argument is currently False, but it will be changed to True in Numba 0.59.0. See https://numba.readthedocs.io/en/stable/reference/deprecation.html#deprecation-of-object-mode-fall-back-behaviour-when-using-jit for details.\n",
      "  @numba.jit()\n",
      "/home/was966/micromamba/envs/RNA/lib/python3.11/site-packages/umap/distances.py:1071: NumbaDeprecationWarning: The 'nopython' keyword argument was not supplied to the 'numba.jit' decorator. The implicit default value for this argument is currently False, but it will be changed to True in Numba 0.59.0. See https://numba.readthedocs.io/en/stable/reference/deprecation.html#deprecation-of-object-mode-fall-back-behaviour-when-using-jit for details.\n",
      "  @numba.jit()\n",
      "/home/was966/micromamba/envs/RNA/lib/python3.11/site-packages/umap/distances.py:1086: NumbaDeprecationWarning: The 'nopython' keyword argument was not supplied to the 'numba.jit' decorator. The implicit default value for this argument is currently False, but it will be changed to True in Numba 0.59.0. See https://numba.readthedocs.io/en/stable/reference/deprecation.html#deprecation-of-object-mode-fall-back-behaviour-when-using-jit for details.\n",
      "  @numba.jit()\n",
      "/home/was966/micromamba/envs/RNA/lib/python3.11/site-packages/umap/umap_.py:660: NumbaDeprecationWarning: The 'nopython' keyword argument was not supplied to the 'numba.jit' decorator. The implicit default value for this argument is currently False, but it will be changed to True in Numba 0.59.0. See https://numba.readthedocs.io/en/stable/reference/deprecation.html#deprecation-of-object-mode-fall-back-behaviour-when-using-jit for details.\n",
      "  @numba.jit()\n"
     ]
    }
   ],
   "source": [
    "import pandas as pd\n",
    "import numpy as np\n",
    "import matplotlib.pyplot as plt\n",
    "import seaborn as sns\n",
    "import os\n",
    "\n",
    "sns.set(style = 'white', font_scale=1.5)\n",
    "\n",
    "from umap import UMAP"
   ]
  },
  {
   "cell_type": "code",
   "execution_count": 2,
   "id": "6366501e-f36f-4702-9283-e21c197d72de",
   "metadata": {},
   "outputs": [
    {
     "data": {
      "text/plain": [
       "(349, 14880)"
      ]
     },
     "execution_count": 2,
     "metadata": {},
     "output_type": "execute_result"
    }
   ],
   "source": [
    "df_study_tpm = pd.read_csv('./model_data/itrp.v1.pc.csv', index_col=0)\n",
    "df_study_tpm.shape"
   ]
  },
  {
   "cell_type": "code",
   "execution_count": null,
   "id": "b5baa467-1f33-4267-87d2-8e28504e4f73",
   "metadata": {},
   "outputs": [],
   "source": []
  },
  {
   "cell_type": "code",
   "execution_count": null,
   "id": "360fa7b1-b2c4-4e7b-93ee-e6d3ec820bcb",
   "metadata": {},
   "outputs": [
    {
     "name": "stdout",
     "output_type": "stream",
     "text": [
      "(8971, 20191)\n"
     ]
    }
   ],
   "source": [
    "df_tcga_tpm = pd.read_pickle('../../tcga_dataset/df8.pkl')\n",
    "\n",
    "print(df_tcga_tpm.shape)\n",
    "\n",
    "tcga_data_path = '/n/data1/hms/dbmi/zitnik/lab/users/was966/TCGA/GDC_v37'\n",
    "df_tcga_mut = pd.read_pickle(os.path.join(tcga_data_path, 'df_patient_mut.pkl'))\n",
    "spm = list(set(df_tcga_mut.index) & set(df_tcga_tpm.index))\n",
    "\n",
    "df_tcga_tpm = df_tcga_tpm.loc[spm]\n",
    "df_tcga_mut = df_tcga_mut.loc[spm]\n",
    "df_tcga_mut.shape"
   ]
  },
  {
   "cell_type": "code",
   "execution_count": null,
   "id": "e1dd1538-2238-4940-8517-89c3d3e5f5f6",
   "metadata": {},
   "outputs": [],
   "source": [
    "com_genes = list(set(df_study_tpm.columns[2:]) & set(df_tcga_tpm.columns[1:]))"
   ]
  },
  {
   "cell_type": "code",
   "execution_count": null,
   "id": "878236fb-5247-4fde-ae09-92081f1ace86",
   "metadata": {},
   "outputs": [],
   "source": [
    "dfm1 = df_study_tpm[com_genes].join(df_study_tpm.cohort)\n",
    "dfm1['cancer_type'] = 'TCGA-SKCM'"
   ]
  },
  {
   "cell_type": "code",
   "execution_count": null,
   "id": "413515e4-2f9d-4ac7-815f-57a946696e8f",
   "metadata": {},
   "outputs": [],
   "source": [
    "dfm2 = df_tcga_tpm[com_genes].join(df_tcga_tpm.cancer_type)\n",
    "dfm2['cohort'] = 'TCGA'"
   ]
  },
  {
   "cell_type": "code",
   "execution_count": null,
   "id": "24b6f822-72aa-4856-acea-485b7b8f1e1a",
   "metadata": {},
   "outputs": [],
   "source": [
    "dfm = pd.concat([dfm1, dfm2])"
   ]
  },
  {
   "cell_type": "code",
   "execution_count": null,
   "id": "3a93ffd8-eed6-4c00-a0b0-a402362fa11f",
   "metadata": {},
   "outputs": [],
   "source": [
    "skcm = dfm[dfm.cancer_type == 'TCGA-SKCM']"
   ]
  },
  {
   "cell_type": "code",
   "execution_count": null,
   "id": "056c9415-2eb7-4307-992b-cbbff3309bef",
   "metadata": {},
   "outputs": [],
   "source": []
  },
  {
   "cell_type": "code",
   "execution_count": null,
   "id": "84879848-927a-41ec-ab55-5da2608d3430",
   "metadata": {},
   "outputs": [],
   "source": [
    "def _sel_genes(x):\n",
    "    var = x[com_genes].var(axis=0) \n",
    "    sel_genes = var[var > 1].index\n",
    "    return sel_genes"
   ]
  },
  {
   "cell_type": "code",
   "execution_count": null,
   "id": "3dcd6d54-ed22-464a-95d2-995c6ea83490",
   "metadata": {},
   "outputs": [],
   "source": [
    "sgenes = skcm.groupby('cohort').apply(lambda x:_sel_genes(x).tolist()).tolist()\n",
    "sgenes = list(set.intersection(*map(set, sgenes)))"
   ]
  },
  {
   "cell_type": "code",
   "execution_count": null,
   "id": "7df65565-0a1a-4d56-bd3b-683e35bfb62f",
   "metadata": {},
   "outputs": [],
   "source": [
    "print(len(sgenes))\n",
    "\n",
    "dfmp = skcm[sgenes]\n",
    "dfmp = np.log2(dfmp+1)\n",
    "#dfmp = dfmp.join(dfm.cohort)"
   ]
  },
  {
   "cell_type": "code",
   "execution_count": null,
   "id": "ce9d18a8-8f9b-4718-84c1-9420ddca9719",
   "metadata": {},
   "outputs": [],
   "source": [
    "mp = UMAP(spread=2.5, random_state=123)\n",
    "skcm_genes_2d = mp.fit_transform(dfmp)"
   ]
  },
  {
   "cell_type": "code",
   "execution_count": null,
   "id": "85d96aad-7d2e-45a9-9930-8a4bf6f4f487",
   "metadata": {},
   "outputs": [],
   "source": [
    "dfp_skcm = pd.DataFrame(skcm_genes_2d, columns=['x', 'y'],index=skcm.index)\n",
    "dfp_skcm = dfp_skcm.join(skcm[skcm.columns[-2:]])"
   ]
  },
  {
   "cell_type": "code",
   "execution_count": null,
   "id": "df94fb22-a7b1-4302-8b6d-68c76bec1413",
   "metadata": {},
   "outputs": [],
   "source": [
    "fig, ax = plt.subplots(figsize=(4,5))\n",
    "cohorts = [ 'Hugo','Riaz', 'Liu', 'MGH', 'Allen', 'Gide', 'TCGA', ]\n",
    "for bt in cohorts:\n",
    "    dfp1 = dfp_skcm[dfp_skcm.cohort == bt]\n",
    "    if bt == 'TCGA':\n",
    "        bt = 'TCGA-SKCM'\n",
    "    ax.scatter(dfp1.x, dfp1.y, label = bt, s = 20)\n",
    "ax.legend(loc='center left', bbox_to_anchor=(1, 0.5))\n",
    "\n",
    "ax.tick_params(bottom='on', left='off',  labelleft='on', labelbottom='on', pad=-.6,)\n",
    "sns.despine(top=True, right=True, left=False, bottom=False)\n",
    "ax.set_xlabel('UMAP1')\n",
    "ax.set_ylabel('UMAP2')"
   ]
  },
  {
   "cell_type": "code",
   "execution_count": null,
   "id": "31a79d87-b626-40ad-bf25-db24ec41f317",
   "metadata": {},
   "outputs": [],
   "source": [
    "skcm.columns[-2:]"
   ]
  },
  {
   "cell_type": "code",
   "execution_count": null,
   "id": "4f9141a6-d71b-41a3-84ad-da21bb8bd11b",
   "metadata": {},
   "outputs": [],
   "source": [
    "def convert2fp(x):\n",
    "    sg = skcm.columns[:-2]\n",
    "    x = x[sg]\n",
    "    tertile_thres = x.quantile(1/3)\n",
    "    x_new = x.apply(lambda i: i.gt(tertile_thres), axis=1)*1.0\n",
    "    return x_new\n",
    "    \n",
    "skcm_new = skcm.groupby('cohort').apply(convert2fp).reset_index().set_index('level_1')\n",
    "skcm_new = skcm_new.loc[skcm.index]\n",
    "\n",
    "mp = UMAP(random_state=123, spread=2.5)\n",
    "skcm_genes_2d = mp.fit_transform(skcm_new[sgenes])\n",
    "\n",
    "dfp_skcm = pd.DataFrame(skcm_genes_2d, columns=['x', 'y'],index=skcm.index)\n",
    "dfp_skcm = dfp_skcm.join(skcm[skcm.columns[-2:]])\n",
    "\n",
    "fig, ax = plt.subplots(figsize=(4,5))\n",
    "cohorts = [ 'Hugo','Riaz', 'Liu', 'MGH', 'Allen', 'Gide', 'TCGA', ]\n",
    "for bt in cohorts:\n",
    "    dfp1 = dfp_skcm[dfp_skcm.cohort == bt]\n",
    "    if bt == 'TCGA':\n",
    "        bt = 'TCGA-SKCM'\n",
    "    ax.scatter(dfp1.x, dfp1.y, label = bt, s = 20)\n",
    "ax.legend(loc='center left', bbox_to_anchor=(1, 0.5))\n",
    "\n",
    "ax.tick_params(bottom='on', left='off',  labelleft='on', labelbottom='on', pad=-.6,)\n",
    "sns.despine(top=True, right=True, left=False, bottom=False)\n",
    "ax.set_xlabel('UMAP1')\n",
    "ax.set_ylabel('UMAP2')"
   ]
  },
  {
   "cell_type": "code",
   "execution_count": null,
   "id": "ab3c3f43-013a-4d6c-a454-4ab9d4dc0903",
   "metadata": {},
   "outputs": [],
   "source": [
    "dfp_skcm = dfp_skcm.join(df_study_tpm.flag)\n",
    "dfp_skcm = dfp_skcm[~dfp_skcm.flag.isna()]\n",
    "dfp_skcm.flag = dfp_skcm.flag.map({1:'responder', 0:'non-responder'})\n",
    "\n",
    "\n",
    "fig, ax = plt.subplots(figsize=(4,5))\n",
    "cohorts = [ 'Hugo','Riaz', 'Liu', 'MGH', 'Allen', 'Gide', 'TCGA', ]\n",
    "for bt in dfp_skcm.flag.unique():\n",
    "    dfp1 = dfp_skcm[dfp_skcm.flag == bt]\n",
    "\n",
    "    ax.scatter(dfp1.x, dfp1.y, label = bt, s = 20)\n",
    "ax.legend(loc='center left', bbox_to_anchor=(1, 0.5))\n",
    "\n",
    "ax.tick_params(bottom='on', left='off',  labelleft='on', labelbottom='on', pad=-.6,)\n",
    "sns.despine(top=True, right=True, left=False, bottom=False)\n",
    "ax.set_xlabel('UMAP1')\n",
    "ax.set_ylabel('UMAP2')"
   ]
  },
  {
   "cell_type": "code",
   "execution_count": null,
   "id": "87cef89e-0ba0-433d-b3fb-8c00087dac81",
   "metadata": {},
   "outputs": [],
   "source": []
  },
  {
   "cell_type": "code",
   "execution_count": null,
   "id": "76eb07c4-1cb4-4cdf-ba2d-906f601c41bb",
   "metadata": {},
   "outputs": [],
   "source": []
  },
  {
   "cell_type": "code",
   "execution_count": null,
   "id": "9a37a476-3b59-490a-ad9d-9bfd810b1454",
   "metadata": {},
   "outputs": [],
   "source": []
  },
  {
   "cell_type": "code",
   "execution_count": null,
   "id": "23217bc2-8a6b-4e7e-9d26-984258917bc9",
   "metadata": {},
   "outputs": [],
   "source": []
  },
  {
   "cell_type": "code",
   "execution_count": null,
   "id": "10182625-8145-41f0-9166-c2492f678a79",
   "metadata": {},
   "outputs": [],
   "source": []
  },
  {
   "cell_type": "code",
   "execution_count": null,
   "id": "e9bfbe1c-229e-47ad-9eb1-b167df78382c",
   "metadata": {},
   "outputs": [],
   "source": []
  }
 ],
 "metadata": {
  "kernelspec": {
   "display_name": "Python 3 (ipykernel)",
   "language": "python",
   "name": "python3"
  },
  "language_info": {
   "codemirror_mode": {
    "name": "ipython",
    "version": 3
   },
   "file_extension": ".py",
   "mimetype": "text/x-python",
   "name": "python",
   "nbconvert_exporter": "python",
   "pygments_lexer": "ipython3",
   "version": "3.11.4"
  }
 },
 "nbformat": 4,
 "nbformat_minor": 5
}
