{
 "cells": [
  {
   "cell_type": "code",
   "execution_count": 1,
   "id": "4c2fa36f-9c6f-43ff-8954-273fef5097ee",
   "metadata": {},
   "outputs": [],
   "source": [
    "import pandas as pd\n",
    "import os\n",
    "from glob import glob\n",
    "import numpy as np\n",
    "import matplotlib.pyplot as plt"
   ]
  },
  {
   "cell_type": "code",
   "execution_count": 2,
   "id": "432591c2-85d1-4b5f-84a7-1759b66fad37",
   "metadata": {},
   "outputs": [],
   "source": [
    "df_ids = pd.read_excel('./raw/Supplementary_Table_1.xlsx', sheet_name='12. Clinical and RNAseq IDs')\n",
    "df_ids['is_in_FreeMan'] = df_ids.in_primary_154 | df_ids.in_secondary_180\n",
    "df_ids = df_ids[['rna_id', 'cohort', 'participant', 'clinical_rna_id','is_in_FreeMan']]\n",
    "df_ids.to_csv('./raw/alldatasets_mgh_id.csv')"
   ]
  },
  {
   "cell_type": "code",
   "execution_count": 3,
   "id": "d4754344-4c74-4fb4-9195-d52a5be8e3a2",
   "metadata": {},
   "outputs": [
    {
     "data": {
      "text/plain": [
       "clinical_rna_id\n",
       "Pt1               Pt1-baseline\n",
       "Pt10             Pt10-baseline\n",
       "Pt12             Pt12-baseline\n",
       "Pt13             Pt13-baseline\n",
       "Pt14             Pt14-baseline\n",
       "                     ...      \n",
       "Patient94_T_P    Patient94_T_P\n",
       "Patient96_T_P    Patient96_T_P\n",
       "Patient98_T_P    Patient98_T_P\n",
       "Patient99_T_P    Patient99_T_P\n",
       "Patient9_T_M      Patient9_T_M\n",
       "Name: rna_id, Length: 457, dtype: object"
      ]
     },
     "execution_count": 3,
     "metadata": {},
     "output_type": "execute_result"
    }
   ],
   "source": [
    "sid2rnaid_map =  df_ids.set_index('clinical_rna_id').rna_id\n",
    "sid2rnaid_map"
   ]
  },
  {
   "cell_type": "code",
   "execution_count": 4,
   "id": "4c37e035-9834-4fb3-bf69-65c4d11d4027",
   "metadata": {},
   "outputs": [
    {
     "data": {
      "text/html": [
       "<div>\n",
       "<style scoped>\n",
       "    .dataframe tbody tr th:only-of-type {\n",
       "        vertical-align: middle;\n",
       "    }\n",
       "\n",
       "    .dataframe tbody tr th {\n",
       "        vertical-align: top;\n",
       "    }\n",
       "\n",
       "    .dataframe thead th {\n",
       "        text-align: right;\n",
       "    }\n",
       "</style>\n",
       "<table border=\"1\" class=\"dataframe\">\n",
       "  <thead>\n",
       "    <tr style=\"text-align: right;\">\n",
       "      <th></th>\n",
       "      <th>patient</th>\n",
       "      <th>age</th>\n",
       "      <th>gender</th>\n",
       "      <th>primary_tumor</th>\n",
       "      <th>survival</th>\n",
       "      <th>status</th>\n",
       "      <th>timing</th>\n",
       "      <th>response</th>\n",
       "      <th>therapy</th>\n",
       "      <th>prior_ctla4</th>\n",
       "      <th>source_of_sample</th>\n",
       "      <th>rna_id</th>\n",
       "      <th>is_in_freeman</th>\n",
       "      <th>flag</th>\n",
       "    </tr>\n",
       "    <tr>\n",
       "      <th>samples</th>\n",
       "      <th></th>\n",
       "      <th></th>\n",
       "      <th></th>\n",
       "      <th></th>\n",
       "      <th></th>\n",
       "      <th></th>\n",
       "      <th></th>\n",
       "      <th></th>\n",
       "      <th></th>\n",
       "      <th></th>\n",
       "      <th></th>\n",
       "      <th></th>\n",
       "      <th></th>\n",
       "      <th></th>\n",
       "    </tr>\n",
       "  </thead>\n",
       "  <tbody>\n",
       "    <tr>\n",
       "      <th>102AR</th>\n",
       "      <td>102T</td>\n",
       "      <td>44</td>\n",
       "      <td>F</td>\n",
       "      <td>Uveal</td>\n",
       "      <td>786</td>\n",
       "      <td>1</td>\n",
       "      <td>Pre</td>\n",
       "      <td>R</td>\n",
       "      <td>CTLA4</td>\n",
       "      <td>False</td>\n",
       "      <td>Frozen</td>\n",
       "      <td>102T-Tumor-SM-BZ9XL</td>\n",
       "      <td>True</td>\n",
       "      <td>1</td>\n",
       "    </tr>\n",
       "    <tr>\n",
       "      <th>107AR</th>\n",
       "      <td>107T</td>\n",
       "      <td>63</td>\n",
       "      <td>F</td>\n",
       "      <td>Uveal</td>\n",
       "      <td>998</td>\n",
       "      <td>0</td>\n",
       "      <td>Pre</td>\n",
       "      <td>NR</td>\n",
       "      <td>CTLA4</td>\n",
       "      <td>False</td>\n",
       "      <td>Frozen</td>\n",
       "      <td>107T-Tumor-SM-BZ9WD</td>\n",
       "      <td>True</td>\n",
       "      <td>0</td>\n",
       "    </tr>\n",
       "    <tr>\n",
       "      <th>115AR</th>\n",
       "      <td>115T</td>\n",
       "      <td>66</td>\n",
       "      <td>M</td>\n",
       "      <td>Skin</td>\n",
       "      <td>1092</td>\n",
       "      <td>1</td>\n",
       "      <td>Pre</td>\n",
       "      <td>NR</td>\n",
       "      <td>CTLA4</td>\n",
       "      <td>False</td>\n",
       "      <td>Frozen</td>\n",
       "      <td>115T-Tumor-SM-BZ9WG</td>\n",
       "      <td>True</td>\n",
       "      <td>0</td>\n",
       "    </tr>\n",
       "  </tbody>\n",
       "</table>\n",
       "</div>"
      ],
      "text/plain": [
       "        patient  age gender primary_tumor  survival  status timing response  \\\n",
       "samples                                                                       \n",
       "102AR      102T   44      F         Uveal       786       1    Pre        R   \n",
       "107AR      107T   63      F         Uveal       998       0    Pre       NR   \n",
       "115AR      115T   66      M          Skin      1092       1    Pre       NR   \n",
       "\n",
       "        therapy  prior_ctla4 source_of_sample               rna_id  \\\n",
       "samples                                                              \n",
       "102AR     CTLA4        False           Frozen  102T-Tumor-SM-BZ9XL   \n",
       "107AR     CTLA4        False           Frozen  107T-Tumor-SM-BZ9WD   \n",
       "115AR     CTLA4        False           Frozen  115T-Tumor-SM-BZ9WG   \n",
       "\n",
       "         is_in_freeman  flag  \n",
       "samples                       \n",
       "102AR             True     1  \n",
       "107AR             True     0  \n",
       "115AR             True     0  "
      ]
     },
     "execution_count": 4,
     "metadata": {},
     "output_type": "execute_result"
    }
   ],
   "source": [
    "df_samples = pd.read_excel('./raw/Samples_MGH.xlsx')\n",
    "df_samples['rna_id'] = df_samples.Sample_id.map(sid2rnaid_map)\n",
    "df_samples['is_in_FreeMan'] = df_samples.index.map(df_ids.is_in_FreeMan)\n",
    "df_samples = df_samples.set_index('Sample_id')\n",
    "df_samples.index.name = 'samples'\n",
    "df_samples.columns = df_samples.columns.map(lambda x:x.lower())\n",
    "df_samples = df_samples.rename(columns={'overall_survival':'survival', 'response ':'response','alive (y=1, no=0)':'status'})\n",
    "df_samples['flag'] = df_samples.response.map({'R':1, 'NR':0})\n",
    "df_samples.head(3)"
   ]
  },
  {
   "cell_type": "markdown",
   "id": "08a324d5-d417-4908-a55a-f26d17cb1fc6",
   "metadata": {},
   "source": [
    "### calculate TMB"
   ]
  },
  {
   "cell_type": "code",
   "execution_count": 5,
   "id": "125a183f-bbe6-4664-ba52-7e8e48920e7e",
   "metadata": {},
   "outputs": [
    {
     "data": {
      "text/plain": [
       "<Axes: >"
      ]
     },
     "execution_count": 5,
     "metadata": {},
     "output_type": "execute_result"
    },
    {
     "data": {
      "image/png": "[encoded data removed]",
      "text/plain": [
       "<Figure size 640x480 with 1 Axes>"
      ]
     },
     "metadata": {},
     "output_type": "display_data"
    }
   ],
   "source": [
    "captureSize = 35.8 #for tmb claculation\n",
    "VC_NONSYNONYMOUS_LIST = ['Frame_Shift_Del',\n",
    "                         'Frame_Shift_Ins',\n",
    "                         'In_Frame_Del',\n",
    "                         'In_Frame_Ins',\n",
    "                         'Missense_Mutation',\n",
    "                         'Nonsense_Mutation',\n",
    "                         'Splice_Site',\n",
    "                         'Nonstop_Mutation',\n",
    "                         'Splice_Region']\n",
    "\n",
    "truncate_mut_LIST = ['Nonsense_Mutation', 'Frame_Shift_Ins','Frame_Shift_Del','Splice_Site']\n",
    "nontruncate_mut_LIST = ['Missense_Mutation','In_Frame_Del', 'In_Frame_Ins','Nonstop_Mutation']\n",
    "\n",
    "mut = pd.read_excel('./raw/Supplementary_Table_2.xlsx', sheet_name='1. WES somatic mutation calls')\n",
    "mut_series = mut['Variant_Classification']\n",
    "\n",
    "mut['nansynonymous_mut_flag'] = mut_series.isin(VC_NONSYNONYMOUS_LIST)\n",
    "mut['truncate_mut_flag'] = mut_series.isin(truncate_mut_LIST)\n",
    "mut['nontruncate_mut_flag'] = mut_series.isin(nontruncate_mut_LIST)\n",
    "\n",
    "I_calculated_TMB1 = mut.groupby('Tumor_Sample_Barcode').nansynonymous_mut_flag.sum()\n",
    "I_calculated_TMB2 = mut.groupby('Tumor_Sample_Barcode').apply(lambda x:x.truncate_mut_flag.sum()*2+x.nontruncate_mut_flag.sum())\n",
    "\n",
    "#for tmb claculation\n",
    "tmb1 = np.log2(I_calculated_TMB1/captureSize)\n",
    "tmb2 = np.log2(I_calculated_TMB2/captureSize)\n",
    "\n",
    "tmb = tmb1.to_frame('tmb.dan').join(tmb2.to_frame(name = 'tmb.wang'))\n",
    "tmb = tmb[tmb.index.map(lambda x:x.split('-')[0]).isin(df_samples.patient)]\n",
    "tmb.index = tmb.index.map(lambda x:x.split('-')[0])\n",
    "\n",
    "df_samples['tmb.dan'] = df_samples.patient.map(tmb['tmb.dan'])\n",
    "df_samples['tmb.wang'] = df_samples.patient.map(tmb['tmb.wang'])\n",
    "\n",
    "\n",
    "df_samples['tmb.dan'].hist(bins=20)\n",
    "df_samples['tmb.wang'].hist(bins=20)"
   ]
  },
  {
   "cell_type": "markdown",
   "id": "e5344919-5725-4b64-a6c1-65538e9ca962",
   "metadata": {},
   "source": [
    "## mRNA"
   ]
  },
  {
   "cell_type": "code",
   "execution_count": 6,
   "id": "e13b8047-7d89-4653-99c7-2e95a882b296",
   "metadata": {},
   "outputs": [],
   "source": [
    "dfm = pd.read_excel('./raw/Supplementary_Table_4.xlsx',sheet_name = '8. Pre_batch_correction', index_col=0)\n",
    "dfm = dfm[df_samples.rna_id]\n",
    "df_mRNA_tpm = 2**dfm-1\n",
    "gene_ensid_name_map = pd.read_pickle('/n/data1/hms/dbmi/zitnik/lab/users/was966/TCGA/GDC_v37/gene_ensid_name.map')\n",
    "df_mRNA_tpm.index = df_mRNA_tpm.index.map(gene_ensid_name_map)\n",
    "df_mRNA_tpm = df_mRNA_tpm[~df_mRNA_tpm.index.isna()]\n",
    "df_mRNA_tpm.columns = df_mRNA_tpm.columns.map(df_samples.reset_index().set_index('rna_id').samples)"
   ]
  },
  {
   "cell_type": "code",
   "execution_count": 7,
   "id": "f7cc1aad-cff0-459d-964c-160127bcf75e",
   "metadata": {},
   "outputs": [
    {
     "data": {
      "text/plain": [
       "(19820, 40)"
      ]
     },
     "execution_count": 7,
     "metadata": {},
     "output_type": "execute_result"
    }
   ],
   "source": [
    "dfm.shape"
   ]
  },
  {
   "cell_type": "code",
   "execution_count": 20,
   "id": "97d44f88-513c-4fdc-883f-62108922974f",
   "metadata": {},
   "outputs": [],
   "source": [
    "df_samples.to_csv('./processed/samples.csv')\n",
    "df_mRNA_tpm.round(5).to_csv('./processed/abundance.csv')"
   ]
  },
  {
   "cell_type": "code",
   "execution_count": 21,
   "id": "932c7a80-c74b-46af-9c84-fa4e49da074f",
   "metadata": {},
   "outputs": [
    {
     "data": {
      "text/plain": [
       "((19070, 40), (40, 16))"
      ]
     },
     "execution_count": 21,
     "metadata": {},
     "output_type": "execute_result"
    }
   ],
   "source": [
    "df_mRNA_tpm.shape, df_samples.shape"
   ]
  },
  {
   "cell_type": "code",
   "execution_count": 10,
   "id": "058be610-2dc2-49e9-a026-2451e1af9da7",
   "metadata": {},
   "outputs": [],
   "source": [
    "gene_id_type_map = pd.read_pickle('/n/data1/hms/dbmi/zitnik/lab/users/was966/TCGA/GDC_v37/gene_id_type.map')\n",
    "gene_id_type_map.index = gene_id_type_map.index.map(lambda x:x.split('.')[0])\n",
    "gene_id_type_map.index = gene_id_type_map.index.map(gene_ensid_name_map)\n",
    "gene_name_type_map = gene_id_type_map.dropna()"
   ]
  },
  {
   "cell_type": "code",
   "execution_count": null,
   "id": "776eb0fa-757c-4cff-ba8a-4e6569ec6687",
   "metadata": {},
   "outputs": [],
   "source": []
  }
 ],
 "metadata": {
  "kernelspec": {
   "display_name": "Python 3 (ipykernel)",
   "language": "python",
   "name": "python3"
  },
  "language_info": {
   "codemirror_mode": {
    "name": "ipython",
    "version": 3
   },
   "file_extension": ".py",
   "mimetype": "text/x-python",
   "name": "python",
   "nbconvert_exporter": "python",
   "pygments_lexer": "ipython3",
   "version": "3.11.4"
  }
 },
 "nbformat": 4,
 "nbformat_minor": 5
}
