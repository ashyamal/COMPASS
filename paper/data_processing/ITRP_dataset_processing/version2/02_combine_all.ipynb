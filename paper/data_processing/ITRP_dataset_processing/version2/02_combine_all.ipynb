{
 "cells": [
  {
   "cell_type": "code",
   "execution_count": 5,
   "id": "cde65e0b-6629-4a59-a301-ebca2550d1b1",
   "metadata": {},
   "outputs": [],
   "source": [
    "import pandas as pd\n",
    "import os\n",
    "from glob import glob\n",
    "import numpy as np\n",
    "import matplotlib.pyplot as plt\n",
    "captureSize = 35.8 #for tmb claculation\n",
    "import seaborn as sns"
   ]
  },
  {
   "cell_type": "code",
   "execution_count": 6,
   "id": "f4ab5d27-1502-4d08-b586-a7bd34399b98",
   "metadata": {},
   "outputs": [],
   "source": [
    "! mkdir -p /n/data1/hms/dbmi/zitnik/lab/users/was966/ITRP/SKCM_v2\n",
    "itrp_data_path = '/n/data1/hms/dbmi/zitnik/lab/users/was966/ITRP/SKCM_v2'"
   ]
  },
  {
   "cell_type": "code",
   "execution_count": 7,
   "id": "a12e15af-53eb-480a-a1d3-b240eee6062b",
   "metadata": {},
   "outputs": [],
   "source": [
    "dfm1 = pd.read_excel('./Freeman_raw/Supplementary_Table_4.xlsx',sheet_name = '8. Pre_batch_correction', index_col=0)\n",
    "dfm2 = pd.read_excel('./Freeman_raw/Supplementary_Table_6.xlsx',sheet_name = '2. Pre_batch_correction', index_col=0)\n",
    "\n",
    "dfm = dfm1.join(dfm2)\n",
    "df_mRNA_tpm = 2**dfm-1"
   ]
  },
  {
   "cell_type": "code",
   "execution_count": 8,
   "id": "eb7fc239-9747-46bc-9e98-75c6bf47de06",
   "metadata": {},
   "outputs": [
    {
     "data": {
      "text/plain": [
       "(19820, 457)"
      ]
     },
     "execution_count": 8,
     "metadata": {},
     "output_type": "execute_result"
    }
   ],
   "source": [
    "df_mRNA_tpm.shape"
   ]
  },
  {
   "cell_type": "code",
   "execution_count": 9,
   "id": "4b3b7994-c54e-4df7-83a4-3d39cb528608",
   "metadata": {},
   "outputs": [],
   "source": [
    "allen = pd.read_csv('./Allen_clinical.csv',index_col=0)\n",
    "allen.cohort = 'Allen'\n",
    "gide = pd.read_csv('./Gide_clinical.csv',index_col=0)\n",
    "hugo = pd.read_csv('./Hugo_clinical.csv',index_col=0)\n",
    "liu = pd.read_csv('./Liu_clinical.csv',index_col=0)\n",
    "mgh = pd.read_csv('./MGH_clinical.csv',index_col=0)\n",
    "riaz = pd.read_csv('./Riaz_clinical.csv',index_col=0)"
   ]
  },
  {
   "cell_type": "code",
   "execution_count": null,
   "id": "c1b24867-c6a9-47f5-bee2-beb8110d315c",
   "metadata": {},
   "outputs": [],
   "source": []
  },
  {
   "cell_type": "code",
   "execution_count": 10,
   "id": "6a95b3d7-9c22-45ff-8540-a8822ffec0e0",
   "metadata": {},
   "outputs": [
    {
     "data": {
      "text/html": [
       "<div>\n",
       "<style scoped>\n",
       "    .dataframe tbody tr th:only-of-type {\n",
       "        vertical-align: middle;\n",
       "    }\n",
       "\n",
       "    .dataframe tbody tr th {\n",
       "        vertical-align: top;\n",
       "    }\n",
       "\n",
       "    .dataframe thead th {\n",
       "        text-align: right;\n",
       "    }\n",
       "</style>\n",
       "<table border=\"1\" class=\"dataframe\">\n",
       "  <thead>\n",
       "    <tr style=\"text-align: right;\">\n",
       "      <th>RECIST_Response</th>\n",
       "      <th>NR</th>\n",
       "      <th>R</th>\n",
       "    </tr>\n",
       "    <tr>\n",
       "      <th>cohort</th>\n",
       "      <th></th>\n",
       "      <th></th>\n",
       "    </tr>\n",
       "  </thead>\n",
       "  <tbody>\n",
       "    <tr>\n",
       "      <th>Allen</th>\n",
       "      <td>31</td>\n",
       "      <td>7</td>\n",
       "    </tr>\n",
       "    <tr>\n",
       "      <th>Gide</th>\n",
       "      <td>33</td>\n",
       "      <td>40</td>\n",
       "    </tr>\n",
       "    <tr>\n",
       "      <th>Hugo</th>\n",
       "      <td>12</td>\n",
       "      <td>14</td>\n",
       "    </tr>\n",
       "    <tr>\n",
       "      <th>Liu</th>\n",
       "      <td>66</td>\n",
       "      <td>39</td>\n",
       "    </tr>\n",
       "    <tr>\n",
       "      <th>MGH</th>\n",
       "      <td>25</td>\n",
       "      <td>15</td>\n",
       "    </tr>\n",
       "    <tr>\n",
       "      <th>Riaz</th>\n",
       "      <td>39</td>\n",
       "      <td>10</td>\n",
       "    </tr>\n",
       "  </tbody>\n",
       "</table>\n",
       "</div>"
      ],
      "text/plain": [
       "RECIST_Response  NR   R\n",
       "cohort                 \n",
       "Allen            31   7\n",
       "Gide             33  40\n",
       "Hugo             12  14\n",
       "Liu              66  39\n",
       "MGH              25  15\n",
       "Riaz             39  10"
      ]
     },
     "execution_count": 10,
     "metadata": {},
     "output_type": "execute_result"
    }
   ],
   "source": [
    "dfc = pd.concat([ liu, gide,allen, mgh, hugo, riaz])\n",
    "dfc['RECIST_Response'] = dfc.RECIST.map({'CR':'R', 'PR':'R', 'SD':'NR', 'PD':'NR', 'R':'R', 'NR':'NR'})\n",
    "dfc.groupby(['cohort', 'RECIST_Response']).size().unstack()"
   ]
  },
  {
   "cell_type": "code",
   "execution_count": 11,
   "id": "3d1a6705-ad8f-4ca5-8162-206d701aff29",
   "metadata": {},
   "outputs": [
    {
     "data": {
      "text/html": [
       "<div>\n",
       "<style scoped>\n",
       "    .dataframe tbody tr th:only-of-type {\n",
       "        vertical-align: middle;\n",
       "    }\n",
       "\n",
       "    .dataframe tbody tr th {\n",
       "        vertical-align: top;\n",
       "    }\n",
       "\n",
       "    .dataframe thead th {\n",
       "        text-align: right;\n",
       "    }\n",
       "</style>\n",
       "<table border=\"1\" class=\"dataframe\">\n",
       "  <thead>\n",
       "    <tr style=\"text-align: right;\">\n",
       "      <th>Freeman_response</th>\n",
       "      <th>NR</th>\n",
       "      <th>R</th>\n",
       "    </tr>\n",
       "    <tr>\n",
       "      <th>cohort</th>\n",
       "      <th></th>\n",
       "      <th></th>\n",
       "    </tr>\n",
       "  </thead>\n",
       "  <tbody>\n",
       "    <tr>\n",
       "      <th>Allen</th>\n",
       "      <td>26</td>\n",
       "      <td>13</td>\n",
       "    </tr>\n",
       "    <tr>\n",
       "      <th>Gide</th>\n",
       "      <td>27</td>\n",
       "      <td>46</td>\n",
       "    </tr>\n",
       "    <tr>\n",
       "      <th>Hugo</th>\n",
       "      <td>12</td>\n",
       "      <td>14</td>\n",
       "    </tr>\n",
       "    <tr>\n",
       "      <th>Liu</th>\n",
       "      <td>66</td>\n",
       "      <td>41</td>\n",
       "    </tr>\n",
       "    <tr>\n",
       "      <th>MGH</th>\n",
       "      <td>25</td>\n",
       "      <td>15</td>\n",
       "    </tr>\n",
       "    <tr>\n",
       "      <th>Riaz</th>\n",
       "      <td>41</td>\n",
       "      <td>10</td>\n",
       "    </tr>\n",
       "  </tbody>\n",
       "</table>\n",
       "</div>"
      ],
      "text/plain": [
       "Freeman_response  NR   R\n",
       "cohort                  \n",
       "Allen             26  13\n",
       "Gide              27  46\n",
       "Hugo              12  14\n",
       "Liu               66  41\n",
       "MGH               25  15\n",
       "Riaz              41  10"
      ]
     },
     "execution_count": 11,
     "metadata": {},
     "output_type": "execute_result"
    }
   ],
   "source": [
    "dfc.groupby(['cohort', 'Freeman_response']).size().unstack()"
   ]
  },
  {
   "cell_type": "code",
   "execution_count": 12,
   "id": "dfa4b921-537b-40fc-ad33-2d63773c8a1f",
   "metadata": {},
   "outputs": [],
   "source": [
    "def correction(x, cr_os_min):\n",
    "    if x.RECIST == 'PR':\n",
    "        if x.Overall_survival > cr_os_min:\n",
    "            res = 'R'\n",
    "        else:\n",
    "            res = 'NR'\n",
    "    else:\n",
    "        res = x.Freeman_response\n",
    "    return res\n",
    "\n",
    "def cohort_label_correction(dfc):\n",
    "    cr_os_min = dfc[dfc.RECIST == 'CR'].Overall_survival.min()\n",
    "    cr_os_min = cr_os_min\n",
    "    label_list=[]\n",
    "    for i in range(len(dfc)):\n",
    "        x = dfc.iloc[i]\n",
    "        res = correction(x, cr_os_min)\n",
    "        label_list.append(res)\n",
    "    lb = pd.Series(label_list, index = dfc.index)\n",
    "    lb.name = 'Freeman_response_correction'\n",
    "    return lb"
   ]
  },
  {
   "cell_type": "code",
   "execution_count": 13,
   "id": "e5364789-ddd4-4a40-b1f8-b422159d10ef",
   "metadata": {},
   "outputs": [],
   "source": [
    "dfc['Freeman_response_correction'] = dfc['Freeman_response']\n",
    "\n",
    "dfc_gide = dfc[dfc.cohort == 'Gide']\n",
    "dfc_gide.loc[:,'Freeman_response_correction'] = cohort_label_correction(dfc_gide)\n",
    "\n",
    "dfc_hugo = dfc[dfc.cohort == 'Hugo']\n",
    "dfc_hugo.loc[:,'Freeman_response_correction'] = cohort_label_correction(dfc_hugo)\n",
    "\n",
    "dfc.loc[dfc_hugo.index] = dfc_hugo\n",
    "dfc.loc[dfc_gide.index] = dfc_gide"
   ]
  },
  {
   "cell_type": "code",
   "execution_count": 14,
   "id": "cc793153-558f-4043-a83a-403acfa26b40",
   "metadata": {},
   "outputs": [],
   "source": [
    "dfcf = dfc[dfc.is_in_FreeMan]"
   ]
  },
  {
   "cell_type": "code",
   "execution_count": 15,
   "id": "a8d59dbd-a3cc-4536-8af0-5a999989115a",
   "metadata": {},
   "outputs": [
    {
     "data": {
      "text/html": [
       "<div>\n",
       "<style scoped>\n",
       "    .dataframe tbody tr th:only-of-type {\n",
       "        vertical-align: middle;\n",
       "    }\n",
       "\n",
       "    .dataframe tbody tr th {\n",
       "        vertical-align: top;\n",
       "    }\n",
       "\n",
       "    .dataframe thead th {\n",
       "        text-align: right;\n",
       "    }\n",
       "</style>\n",
       "<table border=\"1\" class=\"dataframe\">\n",
       "  <thead>\n",
       "    <tr style=\"text-align: right;\">\n",
       "      <th>Freeman_response_correction</th>\n",
       "      <th>NR</th>\n",
       "      <th>R</th>\n",
       "    </tr>\n",
       "    <tr>\n",
       "      <th>cohort</th>\n",
       "      <th></th>\n",
       "      <th></th>\n",
       "    </tr>\n",
       "  </thead>\n",
       "  <tbody>\n",
       "    <tr>\n",
       "      <th>Allen</th>\n",
       "      <td>26</td>\n",
       "      <td>13</td>\n",
       "    </tr>\n",
       "    <tr>\n",
       "      <th>Gide</th>\n",
       "      <td>32</td>\n",
       "      <td>41</td>\n",
       "    </tr>\n",
       "    <tr>\n",
       "      <th>Hugo</th>\n",
       "      <td>17</td>\n",
       "      <td>9</td>\n",
       "    </tr>\n",
       "    <tr>\n",
       "      <th>Liu</th>\n",
       "      <td>66</td>\n",
       "      <td>41</td>\n",
       "    </tr>\n",
       "    <tr>\n",
       "      <th>MGH</th>\n",
       "      <td>25</td>\n",
       "      <td>15</td>\n",
       "    </tr>\n",
       "    <tr>\n",
       "      <th>Riaz</th>\n",
       "      <td>41</td>\n",
       "      <td>10</td>\n",
       "    </tr>\n",
       "  </tbody>\n",
       "</table>\n",
       "</div>"
      ],
      "text/plain": [
       "Freeman_response_correction  NR   R\n",
       "cohort                             \n",
       "Allen                        26  13\n",
       "Gide                         32  41\n",
       "Hugo                         17   9\n",
       "Liu                          66  41\n",
       "MGH                          25  15\n",
       "Riaz                         41  10"
      ]
     },
     "execution_count": 15,
     "metadata": {},
     "output_type": "execute_result"
    }
   ],
   "source": [
    "dfc.groupby(['cohort', 'Freeman_response_correction']).size().unstack()"
   ]
  },
  {
   "cell_type": "code",
   "execution_count": 16,
   "id": "2974e7ea-7f7a-40d9-aa1c-0d060588cc39",
   "metadata": {},
   "outputs": [
    {
     "data": {
      "text/html": [
       "<div>\n",
       "<style scoped>\n",
       "    .dataframe tbody tr th:only-of-type {\n",
       "        vertical-align: middle;\n",
       "    }\n",
       "\n",
       "    .dataframe tbody tr th {\n",
       "        vertical-align: top;\n",
       "    }\n",
       "\n",
       "    .dataframe thead th {\n",
       "        text-align: right;\n",
       "    }\n",
       "</style>\n",
       "<table border=\"1\" class=\"dataframe\">\n",
       "  <thead>\n",
       "    <tr style=\"text-align: right;\">\n",
       "      <th>Freeman_response_correction</th>\n",
       "      <th>NR</th>\n",
       "      <th>R</th>\n",
       "    </tr>\n",
       "    <tr>\n",
       "      <th>cohort</th>\n",
       "      <th></th>\n",
       "      <th></th>\n",
       "    </tr>\n",
       "  </thead>\n",
       "  <tbody>\n",
       "    <tr>\n",
       "      <th>Allen</th>\n",
       "      <td>26</td>\n",
       "      <td>13</td>\n",
       "    </tr>\n",
       "    <tr>\n",
       "      <th>Gide</th>\n",
       "      <td>32</td>\n",
       "      <td>41</td>\n",
       "    </tr>\n",
       "    <tr>\n",
       "      <th>Hugo</th>\n",
       "      <td>17</td>\n",
       "      <td>9</td>\n",
       "    </tr>\n",
       "    <tr>\n",
       "      <th>Liu</th>\n",
       "      <td>66</td>\n",
       "      <td>41</td>\n",
       "    </tr>\n",
       "    <tr>\n",
       "      <th>MGH</th>\n",
       "      <td>24</td>\n",
       "      <td>14</td>\n",
       "    </tr>\n",
       "    <tr>\n",
       "      <th>Riaz</th>\n",
       "      <td>41</td>\n",
       "      <td>10</td>\n",
       "    </tr>\n",
       "  </tbody>\n",
       "</table>\n",
       "</div>"
      ],
      "text/plain": [
       "Freeman_response_correction  NR   R\n",
       "cohort                             \n",
       "Allen                        26  13\n",
       "Gide                         32  41\n",
       "Hugo                         17   9\n",
       "Liu                          66  41\n",
       "MGH                          24  14\n",
       "Riaz                         41  10"
      ]
     },
     "execution_count": 16,
     "metadata": {},
     "output_type": "execute_result"
    }
   ],
   "source": [
    "dfcf.groupby(['cohort', 'Freeman_response_correction']).size().unstack()"
   ]
  },
  {
   "cell_type": "code",
   "execution_count": 17,
   "id": "b132e723-19c3-4660-8a2d-a35ee47b419d",
   "metadata": {},
   "outputs": [],
   "source": [
    "dfm1_correct = pd.read_excel('./Freeman_raw/Supplementary_Table_4.xlsx',sheet_name = '7. Post_batch_correction', index_col=0)\n",
    "dfm2_correct = pd.read_excel('./Freeman_raw/Supplementary_Table_6.xlsx',sheet_name = '1. Post_batch_correction', index_col=0)\n",
    "\n",
    "dfm_correct = dfm1_correct.join(dfm2_correct)\n",
    "dfm_correct.columns = dfm_correct.columns.map(lambda x:x.replace('.', '-'))\n",
    "# df_mRNA_tpm_correct = 2**dfm-1"
   ]
  },
  {
   "cell_type": "code",
   "execution_count": null,
   "id": "da873e95-62b0-44b9-b441-a4e12a5f8b9d",
   "metadata": {},
   "outputs": [],
   "source": []
  },
  {
   "cell_type": "code",
   "execution_count": 18,
   "id": "24c106dd-3537-40a8-9a77-281d44a9a480",
   "metadata": {},
   "outputs": [],
   "source": [
    "df_mRNA_tpm_pre = df_mRNA_tpm[dfcf.index]\n",
    "df_mRNA_tpm_pre_correct = dfm_correct[dfcf.index]"
   ]
  },
  {
   "cell_type": "code",
   "execution_count": 19,
   "id": "fde7e500-0c2e-4176-8591-28fa470292ba",
   "metadata": {},
   "outputs": [],
   "source": [
    "sidx = df_mRNA_tpm_pre_correct.index.map(lambda x:x.split('.')[0])\n",
    "df_mRNA_tpm_pre = df_mRNA_tpm_pre.loc[sidx]\n",
    "df_mRNA_tpm_pre.index = df_mRNA_tpm_pre_correct.index"
   ]
  },
  {
   "cell_type": "code",
   "execution_count": 302,
   "id": "a726fb7a-c1f9-4aec-b5ba-24cd72dd431f",
   "metadata": {},
   "outputs": [],
   "source": [
    "# dfc.to_pickle('./00_final_data/ITRP.clinical.pkl')\n",
    "# df_mRNA_tpm_pre.to_pickle('./00_final_data/ITRP.mRNA.pkl')\n",
    "# df_mRNA_tpm_pre_correct.to_pickle('./00_final_data/ITRP.mRNA.corrected.pkl')"
   ]
  },
  {
   "cell_type": "code",
   "execution_count": 23,
   "id": "b8b9cc7d-ff4c-40f1-acb1-c46a41865285",
   "metadata": {},
   "outputs": [],
   "source": [
    "dfc.to_pickle(os.path.join(itrp_data_path, 'PATIENTS.TABLE'))\n",
    "df_mRNA_tpm_pre.to_pickle(os.path.join(itrp_data_path, 'TPM.TABLE'))\n",
    "df_mRNA_tpm_pre_correct.to_pickle(os.path.join(itrp_data_path, 'TPM_CORRECTION.TABLE'))"
   ]
  },
  {
   "cell_type": "code",
   "execution_count": null,
   "id": "db417f3f-a58e-4fd5-b315-d18f0a285533",
   "metadata": {},
   "outputs": [],
   "source": []
  },
  {
   "cell_type": "code",
   "execution_count": null,
   "id": "ef58f8ec-45ca-446e-8db0-8fc995c4bb8a",
   "metadata": {},
   "outputs": [],
   "source": []
  },
  {
   "cell_type": "code",
   "execution_count": null,
   "id": "8474d1ae-ad74-4340-99e8-14cc7833f77c",
   "metadata": {},
   "outputs": [],
   "source": []
  },
  {
   "cell_type": "code",
   "execution_count": null,
   "id": "80df2727-556e-42e1-a0db-7d61a0b6fe05",
   "metadata": {},
   "outputs": [],
   "source": []
  }
 ],
 "metadata": {
  "kernelspec": {
   "display_name": "Python 3 (ipykernel)",
   "language": "python",
   "name": "python3"
  },
  "language_info": {
   "codemirror_mode": {
    "name": "ipython",
    "version": 3
   },
   "file_extension": ".py",
   "mimetype": "text/x-python",
   "name": "python",
   "nbconvert_exporter": "python",
   "pygments_lexer": "ipython3",
   "version": "3.11.4"
  }
 },
 "nbformat": 4,
 "nbformat_minor": 5
}
