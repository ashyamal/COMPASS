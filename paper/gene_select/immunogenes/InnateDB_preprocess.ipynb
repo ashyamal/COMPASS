{
 "cells": [
  {
   "cell_type": "code",
   "execution_count": 1,
   "id": "3e38eb34-39ba-42bc-8b1b-896a44873d3e",
   "metadata": {},
   "outputs": [],
   "source": [
    "import pandas as pd\n",
    "import os\n",
    "from glob import glob\n",
    "import numpy as np\n",
    "import matplotlib.pyplot as plt\n",
    "captureSize = 35.8 #for tmb claculation\n",
    "import seaborn as sns\n",
    "from itertools import chain"
   ]
  },
  {
   "cell_type": "code",
   "execution_count": 2,
   "id": "7ea9c214-9b15-4f43-a443-59a32799a4e2",
   "metadata": {},
   "outputs": [],
   "source": [
    "tcga_data_path = '/n/data1/hms/dbmi/zitnik/lab/users/was966/TCGA/GDC_v37/'\n",
    "immu_data_path = '/n/data1/hms/dbmi/zitnik/lab/users/was966/InnateDB/'\n",
    "ppi_data_path = '/n/data1/hms/dbmi/zitnik/lab/users/was966/PPI/'\n",
    "\n",
    "\n",
    "tcga_gene = pd.read_pickle(os.path.join(tcga_data_path, 'GENE.TABLE'))"
   ]
  },
  {
   "cell_type": "markdown",
   "id": "7f0d6168-4789-4b75-8433-3a69924c86b0",
   "metadata": {},
   "source": [
    "#### https://www.innatedb.com/redirect.do?go=resourcesGeneLists"
   ]
  },
  {
   "cell_type": "code",
   "execution_count": 3,
   "id": "e97f32ed-054e-40aa-b477-ebc33c4f964f",
   "metadata": {},
   "outputs": [],
   "source": [
    "\n",
    "df1 = pd.read_csv(os.path.join(immu_data_path, 'InnateDB_genes.01.Immport'),sep='\\t').set_index('ensembl')\n",
    "df2 = pd.read_csv(os.path.join(immu_data_path,'InnateDB_genes.02.IRIS'),sep='\\t').set_index('ensembl')\n",
    "df3 = pd.read_csv(os.path.join(immu_data_path,'InnateDB_genes.03.ssg'),sep='\\t').set_index('ensembl')\n",
    "df4 = pd.read_csv(os.path.join(immu_data_path,'InnateDB_genes.04.mnn'),sep='\\t').set_index('ensembl')\n",
    "df5 = pd.read_csv(os.path.join(immu_data_path,'InnateDB_genes.05.nature'),sep='\\t').set_index('ensembl')\n",
    "df6 = pd.read_csv(os.path.join(immu_data_path,'InnateDB_genes.06.ImmunomeDB'),sep='\\t').set_index('ensembl')"
   ]
  },
  {
   "cell_type": "code",
   "execution_count": null,
   "id": "554e78d1-87c5-4205-9037-9b78f92ad567",
   "metadata": {},
   "outputs": [],
   "source": []
  },
  {
   "cell_type": "code",
   "execution_count": 4,
   "id": "b78c9e01-94ef-4a6e-a3bb-c167542c868b",
   "metadata": {},
   "outputs": [],
   "source": [
    "df = pd.concat([df1,df2,df3,df4,df5,df6])[['species', 'name']]\n",
    "df = df[df.species == 'Homo sapiens']\n",
    "df = df.drop_duplicates('name')\n",
    "for d, n in zip([df1,df2,df3,df4,df5,df6], ['Immport', 'IRIS', 'SSG', 'MNN', 'Nature', 'ImmunomeDB']):\n",
    "    df[n] = df.index.isin(d.index)\n",
    "df = df[df.index.isin(tcga_gene.index)]\n",
    "df.loc[:, 'gene_name'] = df.index.map(tcga_gene.gene_name)"
   ]
  },
  {
   "cell_type": "code",
   "execution_count": 5,
   "id": "a4e4c0b7-18e9-46f6-81bc-12edafb1fa0d",
   "metadata": {},
   "outputs": [],
   "source": [
    "df.to_pickle(os.path.join(immu_data_path, 'InnateDB.TABLE'))"
   ]
  },
  {
   "cell_type": "code",
   "execution_count": null,
   "id": "06869397-6eea-4517-a617-b4b60a71df28",
   "metadata": {},
   "outputs": [],
   "source": []
  },
  {
   "cell_type": "code",
   "execution_count": null,
   "id": "61cbf6ca-5e4f-49fa-a3c8-aadf034d1f65",
   "metadata": {},
   "outputs": [],
   "source": []
  },
  {
   "cell_type": "code",
   "execution_count": null,
   "id": "d0581f70-17bd-4f2a-8590-c08e3d6d4d93",
   "metadata": {},
   "outputs": [],
   "source": []
  },
  {
   "cell_type": "code",
   "execution_count": null,
   "id": "c035b64c-e571-435c-93b6-556a85e5dfc4",
   "metadata": {},
   "outputs": [],
   "source": []
  },
  {
   "cell_type": "code",
   "execution_count": null,
   "id": "25e94a63-55e8-4a60-be95-c8a08511f914",
   "metadata": {},
   "outputs": [],
   "source": []
  }
 ],
 "metadata": {
  "kernelspec": {
   "display_name": "Python 3 (ipykernel)",
   "language": "python",
   "name": "python3"
  },
  "language_info": {
   "codemirror_mode": {
    "name": "ipython",
    "version": 3
   },
   "file_extension": ".py",
   "mimetype": "text/x-python",
   "name": "python",
   "nbconvert_exporter": "python",
   "pygments_lexer": "ipython3",
   "version": "3.11.4"
  }
 },
 "nbformat": 4,
 "nbformat_minor": 5
}
