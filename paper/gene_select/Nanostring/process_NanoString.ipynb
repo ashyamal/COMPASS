{
 "cells": [
  {
   "cell_type": "code",
   "execution_count": 1,
   "id": "5fad3844-298c-4d3a-bc7c-56c5110762d2",
   "metadata": {},
   "outputs": [],
   "source": [
    "import pandas as pd\n",
    "import os\n",
    "from glob import glob\n",
    "import numpy as np\n",
    "import matplotlib.pyplot as plt\n",
    "captureSize = 35.8 #for tmb claculation\n",
    "import seaborn as sns"
   ]
  },
  {
   "cell_type": "code",
   "execution_count": 2,
   "id": "2c0c7ed2-8050-4d5a-9a09-77e05895b1e0",
   "metadata": {},
   "outputs": [],
   "source": [
    "tcga_data_path = '/n/data1/hms/dbmi/zitnik/lab/users/was966/TCGA/GDC_v37/'\n",
    "nano_data_path = '/n/data1/hms/dbmi/zitnik/lab/users/was966/NanoString/'\n",
    "tcga_gene = pd.read_pickle(os.path.join(tcga_data_path, 'GENE.TABLE'))"
   ]
  },
  {
   "cell_type": "code",
   "execution_count": 4,
   "id": "04bb7416-6882-4de5-8004-0fe3d47b2066",
   "metadata": {},
   "outputs": [],
   "source": [
    "url = os.path.join(nano_data_path, 'LBL-10043-08_nCounter_PanCancer_Immune_Profiling_Panel_Gene_List.xlsx')\n",
    "df = pd.read_excel(url, sheet_name='Annotations', skiprows=[0,],index_col=0)\n",
    "df = df.iloc[:-1]\n",
    "maped = list(set(df.index) & set(tcga_gene.gene_name))\n",
    "df = df.loc[maped]\n",
    "cols = ['Gene Class', 'Cell Type','IR Type', 'Immune Response Category', 'Annotation']\n",
    "mcols = ['gene_class', 'cell_type', 'ir_type', 'ir_category', 'annotation']\n",
    "df =  df[cols]\n",
    "df.index.name= 'gene_name'\n",
    "df.columns = mcols"
   ]
  },
  {
   "cell_type": "code",
   "execution_count": 6,
   "id": "9e0b2390-fe73-4be1-8734-6f8a00fdd96b",
   "metadata": {},
   "outputs": [
    {
     "data": {
      "text/plain": [
       "756"
      ]
     },
     "execution_count": 6,
     "metadata": {},
     "output_type": "execute_result"
    }
   ],
   "source": [
    "len(df)"
   ]
  },
  {
   "cell_type": "code",
   "execution_count": 7,
   "id": "34117785-d554-48b7-babe-390a00c68cf5",
   "metadata": {},
   "outputs": [],
   "source": [
    "df.to_pickle(os.path.join(nano_data_path, 'NanoString.TABLE'))"
   ]
  },
  {
   "cell_type": "code",
   "execution_count": null,
   "id": "41d6cebc-7802-423c-af85-a9496113f013",
   "metadata": {},
   "outputs": [],
   "source": []
  },
  {
   "cell_type": "code",
   "execution_count": null,
   "id": "c471531a-a5ea-4d1e-b8a5-29d6aa3beca3",
   "metadata": {},
   "outputs": [],
   "source": []
  },
  {
   "cell_type": "code",
   "execution_count": null,
   "id": "050eebe0-80ad-4e7c-91aa-c1dd677dc947",
   "metadata": {},
   "outputs": [],
   "source": []
  },
  {
   "cell_type": "code",
   "execution_count": null,
   "id": "07c837e7-0f66-4260-8225-7a9d06f14b06",
   "metadata": {},
   "outputs": [],
   "source": []
  }
 ],
 "metadata": {
  "kernelspec": {
   "display_name": "Python 3 (ipykernel)",
   "language": "python",
   "name": "python3"
  },
  "language_info": {
   "codemirror_mode": {
    "name": "ipython",
    "version": 3
   },
   "file_extension": ".py",
   "mimetype": "text/x-python",
   "name": "python",
   "nbconvert_exporter": "python",
   "pygments_lexer": "ipython3",
   "version": "3.11.4"
  }
 },
 "nbformat": 4,
 "nbformat_minor": 5
}
