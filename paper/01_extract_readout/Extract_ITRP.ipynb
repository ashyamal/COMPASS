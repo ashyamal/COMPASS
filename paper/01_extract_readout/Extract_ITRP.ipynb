{
 "cells": [
  {
   "cell_type": "code",
   "execution_count": 1,
   "id": "bbaa98d1-14e9-42e2-a9f7-cc4762f72f63",
   "metadata": {},
   "outputs": [
    {
     "name": "stderr",
     "output_type": "stream",
     "text": [
      "/home/shenwanxiang/anaconda3/envs/compass/lib/python3.8/site-packages/tqdm/auto.py:21: TqdmWarning: IProgress not found. Please update jupyter and ipywidgets. See https://ipywidgets.readthedocs.io/en/stable/user_install.html\n",
      "  from .autonotebook import tqdm as notebook_tqdm\n"
     ]
    }
   ],
   "source": [
    "import os\n",
    "from tqdm import tqdm\n",
    "from itertools import chain\n",
    "import pandas as pd\n",
    "import numpy as np\n",
    "import random, torch\n",
    "import matplotlib.pyplot as plt\n",
    "import seaborn as sns\n",
    "sns.set(style = 'white', font_scale=1.5)\n",
    "\n",
    "import sys\n",
    "sys.path.insert(0, '/home/was966/Research/mims-compass/')\n",
    "from compass.utils import plot_embed_with_label\n",
    "from compass import PreTrainer, FineTuner, loadcompass\n",
    "from compass.utils import plot_embed_with_label, score\n",
    "from compass.tokenizer import CANCER_CODE\n",
    "\n",
    "\n",
    "def onehot(S):\n",
    "    assert type(S) == pd.Series, 'Input type should be pd.Series'\n",
    "    dfd = pd.get_dummies(S, dummy_na=True)\n",
    "    nanidx = dfd[dfd[np.nan]].index\n",
    "    dfd.loc[nanidx, :] = np.nan\n",
    "    dfd = dfd.drop(columns=[np.nan])*1.\n",
    "    cols = dfd.sum().sort_values(ascending=False).index.tolist()\n",
    "    dfd = dfd[cols]\n",
    "    return dfd"
   ]
  },
  {
   "cell_type": "code",
   "execution_count": 2,
   "id": "07976deb-4447-4872-824a-df2eb09d297b",
   "metadata": {},
   "outputs": [
    {
     "data": {
      "text/plain": [
       "((1133, 15672), (1133, 113))"
      ]
     },
     "execution_count": 2,
     "metadata": {},
     "output_type": "execute_result"
    }
   ],
   "source": [
    "data_path = '../00_data/'\n",
    "df_label = pd.read_pickle(os.path.join(data_path, 'ITRP.PATIENT.TABLE'))\n",
    "df_tpm = pd.read_pickle(os.path.join(data_path, 'ITRP.TPM.TABLE'))\n",
    "df_tpm.shape, df_label.shape"
   ]
  },
  {
   "cell_type": "code",
   "execution_count": 3,
   "id": "245505e4-40c1-41c9-bd42-fedf0fcf1eee",
   "metadata": {},
   "outputs": [
    {
     "data": {
      "text/plain": [
       "1019421"
      ]
     },
     "execution_count": 3,
     "metadata": {},
     "output_type": "execute_result"
    }
   ],
   "source": [
    "# load the pretrained model as a feature extractor\n",
    "pretrainer = loadcompass('../checkpoint/latest/pretrainer.pt', map_location = 'cpu')\n",
    "genesetprojector = pretrainer.model.latentprojector.genesetprojector\n",
    "cellpathwayprojector = pretrainer.model.latentprojector.cellpathwayprojector\n",
    "df_tpm = df_tpm[pretrainer.feature_name]\n",
    "pretrainer.count_parameters()"
   ]
  },
  {
   "cell_type": "code",
   "execution_count": 4,
   "id": "0ce01650-cb35-4343-b7ca-115df7405f7d",
   "metadata": {},
   "outputs": [
    {
     "name": "stderr",
     "output_type": "stream",
     "text": [
      "100%|#####################################################################################| 9/9 [00:49<00:00,  5.46s/it]\n"
     ]
    }
   ],
   "source": [
    "dfcx = df_label.cancer_type.map(CANCER_CODE).to_frame('cancer_code').join(df_tpm)\n",
    "dfgeneset, dfcelltype = pretrainer.extract(dfcx,  batch_size= 128)"
   ]
  },
  {
   "cell_type": "code",
   "execution_count": 5,
   "id": "e9cb7a99-bc80-4d69-a656-5ddf80f9fc8c",
   "metadata": {},
   "outputs": [],
   "source": [
    "df_label.to_csv('./ITRP/00_clinical_label.csv')\n",
    "dfgeneset.to_csv('./ITRP/01_readouts_geneset.csv')\n",
    "dfcelltype.to_csv('./ITRP/02_readouts_celltype.csv')"
   ]
  },
  {
   "cell_type": "code",
   "execution_count": null,
   "id": "7e347451-e10e-43c7-bd3a-e9ff497c1f09",
   "metadata": {},
   "outputs": [],
   "source": []
  },
  {
   "cell_type": "code",
   "execution_count": 6,
   "id": "fccbfdb8-ff62-48ca-88c1-ef375acfca88",
   "metadata": {},
   "outputs": [
    {
     "name": "stderr",
     "output_type": "stream",
     "text": [
      "100%|#####################################################################################| 9/9 [00:56<00:00,  6.23s/it]\n"
     ]
    }
   ],
   "source": [
    "dfg, dfc = pretrainer.project(dfcx,  batch_size= 128)"
   ]
  },
  {
   "cell_type": "code",
   "execution_count": 7,
   "id": "fe6a7b7a-de80-47ae-be6b-5457d3665db2",
   "metadata": {},
   "outputs": [],
   "source": [
    "pid = dfg.index.map(lambda x:x.split('$$')[0])\n",
    "fid = dfg.index.map(lambda x:x.split('$$')[1])\n",
    "df = pd.DataFrame(index=dfg.index)\n",
    "df['Index'] = pid\n",
    "df['feature_name'] = fid\n",
    "df = df.join(dfg)\n",
    "df = df.sort_values(['feature_name', 'Index'])\n",
    "df.to_csv('./ITRP/03_features_geneset.csv.gzip', compression = 'gzip')"
   ]
  },
  {
   "cell_type": "code",
   "execution_count": 8,
   "id": "c50ad486-ab00-4ace-b653-a3b2e7340a54",
   "metadata": {},
   "outputs": [],
   "source": [
    "pid = dfc.index.map(lambda x:x.split('$$')[0])\n",
    "fid = dfc.index.map(lambda x:x.split('$$')[1])\n",
    "df = pd.DataFrame(index=dfc.index)\n",
    "df['Index'] = pid\n",
    "df['feature_name'] = fid\n",
    "df = df.join(dfc)\n",
    "df = df.sort_values(['feature_name', 'Index'])\n",
    "df.to_csv('./ITRP/04_features_celltype.gzip', compression = 'gzip')"
   ]
  },
  {
   "cell_type": "code",
   "execution_count": null,
   "id": "ba173f97-e9fd-41e4-87c8-b895beb75673",
   "metadata": {},
   "outputs": [],
   "source": []
  },
  {
   "cell_type": "code",
   "execution_count": null,
   "id": "55e95170-5257-49c0-86e3-fa0a0ff33c49",
   "metadata": {},
   "outputs": [],
   "source": []
  },
  {
   "cell_type": "code",
   "execution_count": null,
   "id": "b16a15a4-8c25-4950-91c6-c6f36c983601",
   "metadata": {},
   "outputs": [],
   "source": []
  },
  {
   "cell_type": "code",
   "execution_count": null,
   "id": "869766a1-6cac-4c05-a256-f305a032e25d",
   "metadata": {},
   "outputs": [],
   "source": []
  }
 ],
 "metadata": {
  "kernelspec": {
   "display_name": "Python 3 (ipykernel)",
   "language": "python",
   "name": "python3"
  },
  "language_info": {
   "codemirror_mode": {
    "name": "ipython",
    "version": 3
   },
   "file_extension": ".py",
   "mimetype": "text/x-python",
   "name": "python",
   "nbconvert_exporter": "python",
   "pygments_lexer": "ipython3",
   "version": "3.8.18"
  }
 },
 "nbformat": 4,
 "nbformat_minor": 5
}
