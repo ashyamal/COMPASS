{
 "cells": [
  {
   "cell_type": "code",
   "execution_count": 53,
   "id": "fd42b953-6187-40d1-8b80-e8dd13031bac",
   "metadata": {},
   "outputs": [],
   "source": [
    "#!/home/was966/micromamba/envs/responder/bin/python\n",
    "#sbatch --mem 64G -c 4 -t 100:00:00 -p gpu_quad --gres=gpu:teslaV100s:1 ./ctct_dense16.py\n",
    "\n",
    "import sys\n",
    "\n",
    "sys.path.insert(0, '/home/was966/Research/mims-compass/')\n",
    "from compass.utils import plot_embed_with_label\n",
    "from compass import PreTrainer, FineTuner, loadcompass #, get_minmal_epoch\n",
    "from compass.utils import plot_embed_with_label,plot_performance, score2\n",
    "from compass.tokenizer import CANCER_CODE\n",
    "\n",
    "import os\n",
    "from tqdm import tqdm\n",
    "from itertools import chain\n",
    "import pandas as pd\n",
    "import numpy as np\n",
    "import random, torch\n",
    "import matplotlib.pyplot as plt\n",
    "import seaborn as sns\n",
    "sns.set(style = 'white', font_scale=1.3)\n",
    "import warnings\n",
    "warnings.filterwarnings(\"ignore\")\n",
    "\n",
    "def onehot(S):\n",
    "    assert type(S) == pd.Series, 'Input type should be pd.Series'\n",
    "    dfd = pd.get_dummies(S, dummy_na=True)\n",
    "    nanidx = dfd[dfd[np.nan].astype(bool)].index\n",
    "    dfd.loc[nanidx, :] = np.nan\n",
    "    dfd = dfd.drop(columns=[np.nan])*1.\n",
    "    cols = dfd.sum().sort_values(ascending=False).index.tolist()\n",
    "    dfd = dfd[cols]\n",
    "    return dfd\n",
    "\n"
   ]
  },
  {
   "cell_type": "code",
   "execution_count": 54,
   "id": "0dcc67b9-1383-43ee-ba20-c82b1ed16339",
   "metadata": {},
   "outputs": [],
   "source": [
    "save_dir = '/home/was966/Research/mims-compass/paper/'\n",
    "pretrainer = loadcompass(os.path.join(save_dir, 'checkpoint/latest/pretrainer.pt'))\n"
   ]
  },
  {
   "cell_type": "code",
   "execution_count": 55,
   "id": "29e5240f-e21a-4098-924d-3412a8aa44d4",
   "metadata": {},
   "outputs": [],
   "source": [
    "df_label = pd.read_pickle('PAIRED_PD1_CTLA4_PRE_SMPLE.TABLE')\n",
    "df_tpm = pd.read_pickle('PAIRED_PD1_CTLA4_PRE_TPM.TABLE')\n"
   ]
  },
  {
   "cell_type": "code",
   "execution_count": 56,
   "id": "59f1c8d9-02d6-4071-9b1c-cf45881471a2",
   "metadata": {},
   "outputs": [
    {
     "data": {
      "text/plain": [
       "86"
      ]
     },
     "execution_count": 56,
     "metadata": {},
     "output_type": "execute_result"
    }
   ],
   "source": [
    "\n",
    "# df_label.Therapy.value_counts()\n",
    "# df_label = df_label[(df_label.Therapy.isin(['PD1', 'CTLA4+PD1', 'CTLA4'])) & df_label.cohort.isin(['Riaz', 'Gide', ])] #'Prins_GBM_2019', 'Zhao'\n",
    "# df_tpm = df_tpm.loc[df_label.index]\n",
    "len(df_label)"
   ]
  },
  {
   "cell_type": "code",
   "execution_count": null,
   "id": "3f6d533a-aa94-40ca-a54f-ac062c9348c4",
   "metadata": {},
   "outputs": [],
   "source": []
  },
  {
   "cell_type": "code",
   "execution_count": 57,
   "id": "f42dd21d-482c-4a8c-a498-420b13ad09c6",
   "metadata": {},
   "outputs": [],
   "source": [
    "\n",
    "dfcx = df_label.cancer_type.map(CANCER_CODE).to_frame('cancer_code').join(df_tpm)\n",
    "\n",
    "df_task = onehot(df_label.response_label)\n",
    "size = df_label.groupby('cohort').size()\n",
    "size = size.index + \"\\n(n = \" + size.astype(str) + \")\""
   ]
  },
  {
   "cell_type": "code",
   "execution_count": 58,
   "id": "e113154f-4372-4b98-9e36-33d861ea293a",
   "metadata": {},
   "outputs": [],
   "source": [
    "cohort_X = dfcx\n",
    "cohort_y = df_task\n",
    "\n",
    "seed = 42\n",
    "params = {'mode': 'PFT',\n",
    "        'seed':seed,\n",
    "        'lr': 1e-3,\n",
    "        'device':'cuda',\n",
    "        'weight_decay': 1e-4,\n",
    "        'batch_size':16, \n",
    "        'max_epochs': 100,\n",
    "        'task_loss_weight':1,\n",
    "        'load_decoder':False,\n",
    "        'task_loss_type': 'ce_loss', \n",
    "        'task_type': 'c',\n",
    "        'task_dense_layer': [16],\n",
    "        'task_batch_norms':True,\n",
    "        'entropy_weight': 0.0,\n",
    "        'with_wandb': False,\n",
    "        'save_best_model':False,\n",
    "        'verbose': False}"
   ]
  },
  {
   "cell_type": "code",
   "execution_count": 59,
   "id": "62738780-33a1-4a1f-b741-c67048e64acd",
   "metadata": {},
   "outputs": [
    {
     "name": "stderr",
     "output_type": "stream",
     "text": [
      " 45%|####5     | 45/100 [02:18<02:49,  3.08s/it]"
     ]
    },
    {
     "name": "stdout",
     "output_type": "stream",
     "text": [
      "Stopping early at epoch 46. Meet minimal requirements by: f1=0.97,mcc=0.97,prc=0.99, roc=1.00\n"
     ]
    },
    {
     "name": "stderr",
     "output_type": "stream",
     "text": [
      "\n"
     ]
    }
   ],
   "source": [
    "res = []\n",
    "work_dir = './PT_PFT'\n",
    "if not os.path.exists(work_dir):\n",
    "    os.makedirs(work_dir)\n",
    "\n",
    "pretrainer = pretrainer.copy()\n",
    "finetuner = FineTuner(pretrainer, **params, \n",
    "                      work_dir= work_dir, \n",
    "                      task_name = 'PRE')\n",
    "finetuner = finetuner.tune(dfcx_train = cohort_X,\n",
    "                           dfy_train = cohort_y, min_mcc=0.95)"
   ]
  },
  {
   "cell_type": "code",
   "execution_count": 60,
   "id": "69748186-8f0e-4a73-8e46-59cfa55e9f78",
   "metadata": {},
   "outputs": [
    {
     "data": {
      "text/plain": [
       "16"
      ]
     },
     "execution_count": 60,
     "metadata": {},
     "output_type": "execute_result"
    }
   ],
   "source": [
    "finetuner.batch_size"
   ]
  },
  {
   "cell_type": "code",
   "execution_count": 61,
   "id": "c94870ea-3769-4f3b-92b8-a2cebe36abb8",
   "metadata": {},
   "outputs": [
    {
     "name": "stderr",
     "output_type": "stream",
     "text": [
      "100%|##########| 6/6 [00:00<00:00,  9.46it/s]\n"
     ]
    }
   ],
   "source": [
    "pred_testy = finetuner.predict(cohort_X,batch_size=16)"
   ]
  },
  {
   "cell_type": "code",
   "execution_count": 62,
   "id": "26602892-e654-41d8-9405-1bd359477d43",
   "metadata": {},
   "outputs": [],
   "source": [
    "#\n",
    "dfp = cohort_y.join(pred_testy)\n"
   ]
  },
  {
   "cell_type": "code",
   "execution_count": 63,
   "id": "0ce2b22f-9888-4caa-bbc8-5bbeafec349d",
   "metadata": {},
   "outputs": [
    {
     "data": {
      "image/png": "[encoded data removed]",
      "text/plain": [
       "<Figure size 800x300 with 3 Axes>"
      ]
     },
     "metadata": {},
     "output_type": "display_data"
    }
   ],
   "source": [
    "y_true, y_prob, y_pred = dfp['R'].astype(float), dfp[1], dfp[[0, 1]].idxmax(axis=1)\n",
    "fig = plot_performance(y_true, y_prob, y_pred)"
   ]
  },
  {
   "cell_type": "code",
   "execution_count": 65,
   "id": "f1819b40-cb22-4881-b00b-324fa1cb29b4",
   "metadata": {},
   "outputs": [
    {
     "name": "stdout",
     "output_type": "stream",
     "text": [
      "Saving the model to ./results/pre/finetuner_pft_pre_PD1_CTLA4_seed_42.pt\n"
     ]
    }
   ],
   "source": [
    "finetuner.save(os.path.join('./results/pre/', 'finetuner_pft_pre_PD1_CTLA4_seed_%s.pt' % seed))"
   ]
  },
  {
   "cell_type": "code",
   "execution_count": null,
   "id": "6ef31162-488a-42ae-b518-882d265ee4c1",
   "metadata": {},
   "outputs": [],
   "source": []
  },
  {
   "cell_type": "code",
   "execution_count": null,
   "id": "41aa66a3-d518-4c1e-afb8-2ec755087801",
   "metadata": {},
   "outputs": [],
   "source": [
    "pd.DataFrame(finetuner.performance)[4].plot()"
   ]
  },
  {
   "cell_type": "code",
   "execution_count": null,
   "id": "ef53f5be-f51e-4e38-bd51-46bff111a47f",
   "metadata": {},
   "outputs": [],
   "source": []
  },
  {
   "cell_type": "code",
   "execution_count": null,
   "id": "432b6b84-b7ab-4a4d-9db1-e053eef7484e",
   "metadata": {},
   "outputs": [],
   "source": []
  },
  {
   "cell_type": "code",
   "execution_count": null,
   "id": "3c74cd46-0e4f-43fa-97f6-1f4299ed5757",
   "metadata": {},
   "outputs": [],
   "source": []
  },
  {
   "cell_type": "code",
   "execution_count": null,
   "id": "63c2015f-43c5-4ca1-b3b9-5411e3359846",
   "metadata": {},
   "outputs": [],
   "source": []
  },
  {
   "cell_type": "code",
   "execution_count": null,
   "id": "33ab9a11-d844-49be-8e54-b684cdee85c4",
   "metadata": {},
   "outputs": [],
   "source": []
  },
  {
   "cell_type": "code",
   "execution_count": null,
   "id": "e8b28b7d-e470-4456-ad3d-bbab3a1ce17b",
   "metadata": {},
   "outputs": [],
   "source": []
  },
  {
   "cell_type": "code",
   "execution_count": null,
   "id": "ae01764a-46d0-4be0-9c27-db53b2c1296d",
   "metadata": {},
   "outputs": [],
   "source": []
  }
 ],
 "metadata": {
  "kernelspec": {
   "display_name": "Python 3 (ipykernel)",
   "language": "python",
   "name": "python3"
  },
  "language_info": {
   "codemirror_mode": {
    "name": "ipython",
    "version": 3
   },
   "file_extension": ".py",
   "mimetype": "text/x-python",
   "name": "python",
   "nbconvert_exporter": "python",
   "pygments_lexer": "ipython3",
   "version": "3.8.18"
  }
 },
 "nbformat": 4,
 "nbformat_minor": 5
}
