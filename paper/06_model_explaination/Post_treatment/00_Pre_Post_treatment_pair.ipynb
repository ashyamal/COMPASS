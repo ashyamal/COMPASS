{
 "cells": [
  {
   "cell_type": "code",
   "execution_count": 1,
   "id": "360a1ed8-e390-4663-8a19-b625f6100837",
   "metadata": {},
   "outputs": [],
   "source": [
    "import os\n",
    "from tqdm import tqdm\n",
    "from itertools import chain\n",
    "import pandas as pd\n",
    "import numpy as np\n",
    "import random, torch\n",
    "import matplotlib.pyplot as plt\n",
    "import seaborn as sns\n",
    "sns.set(style = 'white', font_scale=1.5)\n",
    "import sys\n",
    "\n",
    "sys.path.insert(0,  '/home/was966/Research/mims-compass/')\n",
    "from compass.utils import plot_embed_with_label\n",
    "from compass import PreTrainer, FineTuner, loadcompass #, get_minmal_epoch\n",
    "from compass.utils import plot_embed_with_label, plot_performance, score2\n",
    "from compass.tokenizer import CANCER_CODE\n",
    "def onehot(S):\n",
    "    assert type(S) == pd.Series, 'Input type should be pd.Series'\n",
    "    dfd = pd.get_dummies(S, dummy_na=True)\n",
    "    nanidx = dfd[dfd[np.nan].astype(bool)].index\n",
    "    dfd.loc[nanidx, :] = np.nan\n",
    "    dfd = dfd.drop(columns=[np.nan])*1.\n",
    "    cols = dfd.sum().sort_values(ascending=False).index.tolist()\n",
    "    dfd = dfd[cols]\n",
    "    return dfd"
   ]
  },
  {
   "cell_type": "code",
   "execution_count": 5,
   "id": "8183f598-ac2f-4a64-8aca-7642824dd76c",
   "metadata": {},
   "outputs": [],
   "source": [
    "df = pd.read_pickle('/home/was966/Research/hms-work-data/TCGA-ITRP-GENESET-MERGE/15672/RESPONSE.ALL.V123456789.TABLE')\n",
    "genes = df.columns[:-4]\n",
    "\n",
    "on = df[df.timepoint == 'On']\n",
    "\n",
    "dfl2 = on[on.columns[-4:]]\n",
    "dfl2 = dfl2[dfl2.cancer_type == 'GBM']\n",
    "\n",
    "dfl2 = dfl2.rename(columns = {'response':'response_label', 'timepoint':'Timing'})\n",
    "dfl2['Timing'] = 'Post'\n",
    "dfl2['Therapy'] = 'PD1' ## GBM cohort is PD1 in the paper\n",
    "\n",
    "dft2 = on[genes].loc[dfl2.index]\n"
   ]
  },
  {
   "cell_type": "code",
   "execution_count": 6,
   "id": "e4ee8351-11f4-4e2f-8e51-5d1e70765091",
   "metadata": {},
   "outputs": [],
   "source": [
    "data_path = '/home/was966/Research/hms-work-data/PSOG.bak/paper/data_processing/ITRP_dataset_processing/version2/on_treatment/'\n",
    "\n",
    "dft1 = pd.read_excel(os.path.join(data_path, 'v2.tpm.xlsx'), index_col=0)\n",
    "dft1 = dft1.loc[genes].T\n",
    "dft1.index = dft1.index + '@' + 'On'\n",
    "dfl1 = pd.read_excel(os.path.join(data_path, 'v2.samples.xlsx'), index_col=0)\n",
    "\n",
    "dfl1.index = dfl1.index + '@' + 'On'\n",
    "\n",
    "dft1 = dft1.loc[dfl1.index]\n",
    "\n",
    "dfl1 = dfl1.rename(columns = {'Freeman_response':'response_label', })\n",
    "dfl1['cancer_type'] = 'SKCM'"
   ]
  },
  {
   "cell_type": "code",
   "execution_count": 161,
   "id": "95896263-9941-4510-8c6d-4a001ddee0f0",
   "metadata": {},
   "outputs": [
    {
     "data": {
      "text/html": [
       "<div>\n",
       "<style scoped>\n",
       "    .dataframe tbody tr th:only-of-type {\n",
       "        vertical-align: middle;\n",
       "    }\n",
       "\n",
       "    .dataframe tbody tr th {\n",
       "        vertical-align: top;\n",
       "    }\n",
       "\n",
       "    .dataframe thead th {\n",
       "        text-align: right;\n",
       "    }\n",
       "</style>\n",
       "<table border=\"1\" class=\"dataframe\">\n",
       "  <thead>\n",
       "    <tr style=\"text-align: right;\">\n",
       "      <th></th>\n",
       "      <th>Sample_id</th>\n",
       "      <th>RECIST</th>\n",
       "      <th>Patient</th>\n",
       "      <th>Age</th>\n",
       "      <th>Gender</th>\n",
       "      <th>Primary_tumor</th>\n",
       "      <th>Overall_survival</th>\n",
       "      <th>Alive (Y=1, No=0)</th>\n",
       "      <th>Timing</th>\n",
       "      <th>response_label</th>\n",
       "      <th>Therapy</th>\n",
       "      <th>Prior_CTLA4</th>\n",
       "      <th>cohort</th>\n",
       "      <th>tmb.dan</th>\n",
       "      <th>tmb.wang</th>\n",
       "      <th>participant</th>\n",
       "      <th>is_in_FreeMan</th>\n",
       "      <th>rnaseq_id</th>\n",
       "      <th>cancer_type</th>\n",
       "    </tr>\n",
       "    <tr>\n",
       "      <th>rna_id</th>\n",
       "      <th></th>\n",
       "      <th></th>\n",
       "      <th></th>\n",
       "      <th></th>\n",
       "      <th></th>\n",
       "      <th></th>\n",
       "      <th></th>\n",
       "      <th></th>\n",
       "      <th></th>\n",
       "      <th></th>\n",
       "      <th></th>\n",
       "      <th></th>\n",
       "      <th></th>\n",
       "      <th></th>\n",
       "      <th></th>\n",
       "      <th></th>\n",
       "      <th></th>\n",
       "      <th></th>\n",
       "      <th></th>\n",
       "    </tr>\n",
       "  </thead>\n",
       "  <tbody>\n",
       "    <tr>\n",
       "      <th>107T-Tumor-SM-BZ9WF@On</th>\n",
       "      <td>107CR</td>\n",
       "      <td>NaN</td>\n",
       "      <td>107T</td>\n",
       "      <td>63.0</td>\n",
       "      <td>F</td>\n",
       "      <td>Uveal</td>\n",
       "      <td>998.0</td>\n",
       "      <td>0.0</td>\n",
       "      <td>Post</td>\n",
       "      <td>NR</td>\n",
       "      <td>PD1</td>\n",
       "      <td>1.0</td>\n",
       "      <td>MGH</td>\n",
       "      <td>NaN</td>\n",
       "      <td>NaN</td>\n",
       "      <td>107T</td>\n",
       "      <td>False</td>\n",
       "      <td>NaN</td>\n",
       "      <td>SKCM</td>\n",
       "    </tr>\n",
       "    <tr>\n",
       "      <th>115T-Tumor-SM-BZ9WH@On</th>\n",
       "      <td>115BR</td>\n",
       "      <td>NaN</td>\n",
       "      <td>115T</td>\n",
       "      <td>66.0</td>\n",
       "      <td>M</td>\n",
       "      <td>Skin</td>\n",
       "      <td>1092.0</td>\n",
       "      <td>1.0</td>\n",
       "      <td>Post</td>\n",
       "      <td>NR</td>\n",
       "      <td>PD1</td>\n",
       "      <td>1.0</td>\n",
       "      <td>MGH</td>\n",
       "      <td>NaN</td>\n",
       "      <td>NaN</td>\n",
       "      <td>115T</td>\n",
       "      <td>False</td>\n",
       "      <td>NaN</td>\n",
       "      <td>SKCM</td>\n",
       "    </tr>\n",
       "    <tr>\n",
       "      <th>122T-Tumor-SM-BZ9WU@On</th>\n",
       "      <td>122BR</td>\n",
       "      <td>NaN</td>\n",
       "      <td>122T</td>\n",
       "      <td>79.0</td>\n",
       "      <td>M</td>\n",
       "      <td>Skin</td>\n",
       "      <td>1061.0</td>\n",
       "      <td>1.0</td>\n",
       "      <td>Post</td>\n",
       "      <td>R</td>\n",
       "      <td>PD1</td>\n",
       "      <td>1.0</td>\n",
       "      <td>MGH</td>\n",
       "      <td>NaN</td>\n",
       "      <td>NaN</td>\n",
       "      <td>122T</td>\n",
       "      <td>False</td>\n",
       "      <td>NaN</td>\n",
       "      <td>SKCM</td>\n",
       "    </tr>\n",
       "    <tr>\n",
       "      <th>148T-Tumor-SM-AH3NK@On</th>\n",
       "      <td>148BR</td>\n",
       "      <td>NaN</td>\n",
       "      <td>148T</td>\n",
       "      <td>81.0</td>\n",
       "      <td>M</td>\n",
       "      <td>Skin</td>\n",
       "      <td>420.0</td>\n",
       "      <td>0.0</td>\n",
       "      <td>Post</td>\n",
       "      <td>NR</td>\n",
       "      <td>PD1+KIR</td>\n",
       "      <td>0.0</td>\n",
       "      <td>MGH</td>\n",
       "      <td>NaN</td>\n",
       "      <td>NaN</td>\n",
       "      <td>148T</td>\n",
       "      <td>False</td>\n",
       "      <td>NaN</td>\n",
       "      <td>SKCM</td>\n",
       "    </tr>\n",
       "    <tr>\n",
       "      <th>155T-Tumor-SM-BZ9WW@On</th>\n",
       "      <td>155BR</td>\n",
       "      <td>NaN</td>\n",
       "      <td>155T</td>\n",
       "      <td>63.0</td>\n",
       "      <td>M</td>\n",
       "      <td>Uveal</td>\n",
       "      <td>278.0</td>\n",
       "      <td>0.0</td>\n",
       "      <td>Post</td>\n",
       "      <td>NR</td>\n",
       "      <td>CTLA4</td>\n",
       "      <td>1.0</td>\n",
       "      <td>MGH</td>\n",
       "      <td>NaN</td>\n",
       "      <td>NaN</td>\n",
       "      <td>155T</td>\n",
       "      <td>False</td>\n",
       "      <td>NaN</td>\n",
       "      <td>SKCM</td>\n",
       "    </tr>\n",
       "    <tr>\n",
       "      <th>...</th>\n",
       "      <td>...</td>\n",
       "      <td>...</td>\n",
       "      <td>...</td>\n",
       "      <td>...</td>\n",
       "      <td>...</td>\n",
       "      <td>...</td>\n",
       "      <td>...</td>\n",
       "      <td>...</td>\n",
       "      <td>...</td>\n",
       "      <td>...</td>\n",
       "      <td>...</td>\n",
       "      <td>...</td>\n",
       "      <td>...</td>\n",
       "      <td>...</td>\n",
       "      <td>...</td>\n",
       "      <td>...</td>\n",
       "      <td>...</td>\n",
       "      <td>...</td>\n",
       "      <td>...</td>\n",
       "    </tr>\n",
       "    <tr>\n",
       "      <th>36_ipiPD1_EDT@On</th>\n",
       "      <td>ipiPD1_36_EDT</td>\n",
       "      <td>NaN</td>\n",
       "      <td>36_ipiPD1</td>\n",
       "      <td>NaN</td>\n",
       "      <td>NaN</td>\n",
       "      <td>NaN</td>\n",
       "      <td>637.0</td>\n",
       "      <td>1.0</td>\n",
       "      <td>Post</td>\n",
       "      <td>R</td>\n",
       "      <td>CTLA4+PD1</td>\n",
       "      <td>1.0</td>\n",
       "      <td>Gide</td>\n",
       "      <td>NaN</td>\n",
       "      <td>NaN</td>\n",
       "      <td>36_ipiPD1</td>\n",
       "      <td>False</td>\n",
       "      <td>ERR2208913</td>\n",
       "      <td>SKCM</td>\n",
       "    </tr>\n",
       "    <tr>\n",
       "      <th>41_PD1_EDT@On</th>\n",
       "      <td>PD1_41_EDT</td>\n",
       "      <td>NaN</td>\n",
       "      <td>41_PD1</td>\n",
       "      <td>NaN</td>\n",
       "      <td>NaN</td>\n",
       "      <td>NaN</td>\n",
       "      <td>886.0</td>\n",
       "      <td>1.0</td>\n",
       "      <td>Post</td>\n",
       "      <td>R</td>\n",
       "      <td>PD1</td>\n",
       "      <td>NaN</td>\n",
       "      <td>Gide</td>\n",
       "      <td>NaN</td>\n",
       "      <td>NaN</td>\n",
       "      <td>41_PD1</td>\n",
       "      <td>False</td>\n",
       "      <td>ERR2208957</td>\n",
       "      <td>SKCM</td>\n",
       "    </tr>\n",
       "    <tr>\n",
       "      <th>47_PD1_EDT@On</th>\n",
       "      <td>PD1_47_EDT</td>\n",
       "      <td>NaN</td>\n",
       "      <td>47_PD1</td>\n",
       "      <td>NaN</td>\n",
       "      <td>NaN</td>\n",
       "      <td>NaN</td>\n",
       "      <td>1174.0</td>\n",
       "      <td>1.0</td>\n",
       "      <td>Post</td>\n",
       "      <td>R</td>\n",
       "      <td>PD1</td>\n",
       "      <td>NaN</td>\n",
       "      <td>Gide</td>\n",
       "      <td>NaN</td>\n",
       "      <td>NaN</td>\n",
       "      <td>47_PD1</td>\n",
       "      <td>False</td>\n",
       "      <td>ERR2208963</td>\n",
       "      <td>SKCM</td>\n",
       "    </tr>\n",
       "    <tr>\n",
       "      <th>48_PD1_EDT@On</th>\n",
       "      <td>PD1_48_EDT</td>\n",
       "      <td>NaN</td>\n",
       "      <td>48_PD1</td>\n",
       "      <td>NaN</td>\n",
       "      <td>NaN</td>\n",
       "      <td>NaN</td>\n",
       "      <td>1189.0</td>\n",
       "      <td>1.0</td>\n",
       "      <td>Post</td>\n",
       "      <td>R</td>\n",
       "      <td>PD1</td>\n",
       "      <td>NaN</td>\n",
       "      <td>Gide</td>\n",
       "      <td>NaN</td>\n",
       "      <td>NaN</td>\n",
       "      <td>48_PD1</td>\n",
       "      <td>False</td>\n",
       "      <td>ERR2208965</td>\n",
       "      <td>SKCM</td>\n",
       "    </tr>\n",
       "    <tr>\n",
       "      <th>8_PD1_EDT@On</th>\n",
       "      <td>PD1_8_EDT</td>\n",
       "      <td>NaN</td>\n",
       "      <td>8_PD1</td>\n",
       "      <td>NaN</td>\n",
       "      <td>NaN</td>\n",
       "      <td>NaN</td>\n",
       "      <td>58.0</td>\n",
       "      <td>0.0</td>\n",
       "      <td>Post</td>\n",
       "      <td>NR</td>\n",
       "      <td>PD1</td>\n",
       "      <td>NaN</td>\n",
       "      <td>Gide</td>\n",
       "      <td>NaN</td>\n",
       "      <td>NaN</td>\n",
       "      <td>8_PD1</td>\n",
       "      <td>False</td>\n",
       "      <td>ERR2208975</td>\n",
       "      <td>SKCM</td>\n",
       "    </tr>\n",
       "  </tbody>\n",
       "</table>\n",
       "<p>121 rows × 19 columns</p>\n",
       "</div>"
      ],
      "text/plain": [
       "                            Sample_id  RECIST    Patient   Age Gender  \\\n",
       "rna_id                                                                  \n",
       "107T-Tumor-SM-BZ9WF@On          107CR     NaN       107T  63.0      F   \n",
       "115T-Tumor-SM-BZ9WH@On          115BR     NaN       115T  66.0      M   \n",
       "122T-Tumor-SM-BZ9WU@On          122BR     NaN       122T  79.0      M   \n",
       "148T-Tumor-SM-AH3NK@On          148BR     NaN       148T  81.0      M   \n",
       "155T-Tumor-SM-BZ9WW@On          155BR     NaN       155T  63.0      M   \n",
       "...                               ...     ...        ...   ...    ...   \n",
       "36_ipiPD1_EDT@On        ipiPD1_36_EDT     NaN  36_ipiPD1   NaN    NaN   \n",
       "41_PD1_EDT@On              PD1_41_EDT     NaN     41_PD1   NaN    NaN   \n",
       "47_PD1_EDT@On              PD1_47_EDT     NaN     47_PD1   NaN    NaN   \n",
       "48_PD1_EDT@On              PD1_48_EDT     NaN     48_PD1   NaN    NaN   \n",
       "8_PD1_EDT@On                PD1_8_EDT     NaN      8_PD1   NaN    NaN   \n",
       "\n",
       "                       Primary_tumor  Overall_survival  Alive (Y=1, No=0)  \\\n",
       "rna_id                                                                      \n",
       "107T-Tumor-SM-BZ9WF@On         Uveal             998.0                0.0   \n",
       "115T-Tumor-SM-BZ9WH@On          Skin            1092.0                1.0   \n",
       "122T-Tumor-SM-BZ9WU@On          Skin            1061.0                1.0   \n",
       "148T-Tumor-SM-AH3NK@On          Skin             420.0                0.0   \n",
       "155T-Tumor-SM-BZ9WW@On         Uveal             278.0                0.0   \n",
       "...                              ...               ...                ...   \n",
       "36_ipiPD1_EDT@On                 NaN             637.0                1.0   \n",
       "41_PD1_EDT@On                    NaN             886.0                1.0   \n",
       "47_PD1_EDT@On                    NaN            1174.0                1.0   \n",
       "48_PD1_EDT@On                    NaN            1189.0                1.0   \n",
       "8_PD1_EDT@On                     NaN              58.0                0.0   \n",
       "\n",
       "                       Timing response_label    Therapy  Prior_CTLA4 cohort  \\\n",
       "rna_id                                                                        \n",
       "107T-Tumor-SM-BZ9WF@On   Post             NR        PD1          1.0    MGH   \n",
       "115T-Tumor-SM-BZ9WH@On   Post             NR        PD1          1.0    MGH   \n",
       "122T-Tumor-SM-BZ9WU@On   Post              R        PD1          1.0    MGH   \n",
       "148T-Tumor-SM-AH3NK@On   Post             NR    PD1+KIR          0.0    MGH   \n",
       "155T-Tumor-SM-BZ9WW@On   Post             NR      CTLA4          1.0    MGH   \n",
       "...                       ...            ...        ...          ...    ...   \n",
       "36_ipiPD1_EDT@On         Post              R  CTLA4+PD1          1.0   Gide   \n",
       "41_PD1_EDT@On            Post              R        PD1          NaN   Gide   \n",
       "47_PD1_EDT@On            Post              R        PD1          NaN   Gide   \n",
       "48_PD1_EDT@On            Post              R        PD1          NaN   Gide   \n",
       "8_PD1_EDT@On             Post             NR        PD1          NaN   Gide   \n",
       "\n",
       "                        tmb.dan  tmb.wang participant  is_in_FreeMan  \\\n",
       "rna_id                                                                 \n",
       "107T-Tumor-SM-BZ9WF@On      NaN       NaN        107T          False   \n",
       "115T-Tumor-SM-BZ9WH@On      NaN       NaN        115T          False   \n",
       "122T-Tumor-SM-BZ9WU@On      NaN       NaN        122T          False   \n",
       "148T-Tumor-SM-AH3NK@On      NaN       NaN        148T          False   \n",
       "155T-Tumor-SM-BZ9WW@On      NaN       NaN        155T          False   \n",
       "...                         ...       ...         ...            ...   \n",
       "36_ipiPD1_EDT@On            NaN       NaN   36_ipiPD1          False   \n",
       "41_PD1_EDT@On               NaN       NaN      41_PD1          False   \n",
       "47_PD1_EDT@On               NaN       NaN      47_PD1          False   \n",
       "48_PD1_EDT@On               NaN       NaN      48_PD1          False   \n",
       "8_PD1_EDT@On                NaN       NaN       8_PD1          False   \n",
       "\n",
       "                         rnaseq_id cancer_type  \n",
       "rna_id                                          \n",
       "107T-Tumor-SM-BZ9WF@On         NaN        SKCM  \n",
       "115T-Tumor-SM-BZ9WH@On         NaN        SKCM  \n",
       "122T-Tumor-SM-BZ9WU@On         NaN        SKCM  \n",
       "148T-Tumor-SM-AH3NK@On         NaN        SKCM  \n",
       "155T-Tumor-SM-BZ9WW@On         NaN        SKCM  \n",
       "...                            ...         ...  \n",
       "36_ipiPD1_EDT@On        ERR2208913        SKCM  \n",
       "41_PD1_EDT@On           ERR2208957        SKCM  \n",
       "47_PD1_EDT@On           ERR2208963        SKCM  \n",
       "48_PD1_EDT@On           ERR2208965        SKCM  \n",
       "8_PD1_EDT@On            ERR2208975        SKCM  \n",
       "\n",
       "[121 rows x 19 columns]"
      ]
     },
     "execution_count": 161,
     "metadata": {},
     "output_type": "execute_result"
    }
   ],
   "source": [
    "dfl1"
   ]
  },
  {
   "cell_type": "code",
   "execution_count": null,
   "id": "9c0a8865-5ce5-4895-b3c5-e53d4c3271f0",
   "metadata": {},
   "outputs": [],
   "source": []
  },
  {
   "cell_type": "code",
   "execution_count": null,
   "id": "69b3c8c0-1509-4912-b5b9-8a2e44897494",
   "metadata": {},
   "outputs": [],
   "source": []
  },
  {
   "cell_type": "code",
   "execution_count": 7,
   "id": "a26dae48-03e1-43ed-9afa-064be45a9082",
   "metadata": {},
   "outputs": [],
   "source": [
    "dfl = dfl2._append(dfl1)\n",
    "dft = dft2._append(dft1)\n",
    "\n",
    "\n",
    "dfl = dfl[~dfl.response_label.isna()]\n",
    "dft = dft.loc[dfl.index]"
   ]
  },
  {
   "cell_type": "code",
   "execution_count": null,
   "id": "65c2e5a0-3fb2-454a-81b0-5ee7a91e3bbc",
   "metadata": {},
   "outputs": [],
   "source": []
  },
  {
   "cell_type": "code",
   "execution_count": 8,
   "id": "81eabb30-a859-40f5-adcc-935ca0bf7d08",
   "metadata": {},
   "outputs": [],
   "source": [
    "dft.to_pickle('POST_TREATMENT_TPM.TABLE')"
   ]
  },
  {
   "cell_type": "code",
   "execution_count": 9,
   "id": "00a88082-da6e-4a0f-a815-d0bc873f564c",
   "metadata": {},
   "outputs": [],
   "source": [
    "dfl.to_pickle('POST_TREATMENT_SAMPLE.TABLE')"
   ]
  },
  {
   "cell_type": "code",
   "execution_count": null,
   "id": "124cba74-4599-45c7-b8a1-b6092e8bc265",
   "metadata": {},
   "outputs": [],
   "source": []
  },
  {
   "cell_type": "code",
   "execution_count": 10,
   "id": "d2c849ec-05d8-4a03-8601-925f3b4e66c8",
   "metadata": {},
   "outputs": [
    {
     "data": {
      "text/plain": [
       "cohort\n",
       "Gide              16\n",
       "MGH               48\n",
       "Prins_GBM_2019    14\n",
       "Riaz              56\n",
       "Zhao               9\n",
       "dtype: int64"
      ]
     },
     "execution_count": 10,
     "metadata": {},
     "output_type": "execute_result"
    }
   ],
   "source": [
    "dfl.groupby('cohort').size()"
   ]
  },
  {
   "cell_type": "code",
   "execution_count": 317,
   "id": "f68b0e98-2afa-4ea7-9d2f-f58e70b89aa7",
   "metadata": {},
   "outputs": [
    {
     "data": {
      "text/plain": [
       "111"
      ]
     },
     "execution_count": 317,
     "metadata": {},
     "output_type": "execute_result"
    }
   ],
   "source": [
    "df_label = pd.read_pickle('POST_TREATMENT_SAMPLE.TABLE')\n",
    "df_tpm = pd.read_pickle('POST_TREATMENT_TPM.TABLE')\n",
    "\n",
    "## Keep only PD1 and CTLA4\n",
    "df_label = df_label[(df_label.Therapy.isin(['PD1', 'CTLA4', 'CTLA4+PD1'])) & df_label.cohort.isin(['Riaz', 'Gide', 'MGH'])] #'Prins_GBM_2019', 'Zhao' # 'CTLA4+PD1',  \n",
    "df_tpm = df_tpm.loc[df_label.index]\n",
    "len(df_label)"
   ]
  },
  {
   "cell_type": "code",
   "execution_count": 318,
   "id": "7d396568-1766-46bf-a9d3-7c5b632e8212",
   "metadata": {},
   "outputs": [],
   "source": [
    "# df_label = df_label[df_label.Timing == 'Post']\n",
    "# df_tpm = df_tpm.loc[df_label.index]"
   ]
  },
  {
   "cell_type": "code",
   "execution_count": 351,
   "id": "815879f8-bb33-4d68-8f9a-7deb88bcc7b7",
   "metadata": {},
   "outputs": [
    {
     "name": "stdout",
     "output_type": "stream",
     "text": [
      "93 81\n"
     ]
    }
   ],
   "source": [
    "df_label1 = pd.read_pickle('/home/was966/Research/mims-compass/paper//00_data/ITRP.PATIENT.TABLE')\n",
    "df_tpm1 = pd.read_pickle('/home/was966/Research/mims-compass/paper//00_data/ITRP.TPM.TABLE')\n",
    "\n",
    "paired_patient = df_label1[df_label1.patient_id.isin(df_label.Patient)].patient_id\n",
    "\n",
    "Pre_samples = df_label1[df_label1.patient_id.isin(paired_patient)].sort_values('patient_id')\n",
    "Pre_samples['Therapy'] = Pre_samples['ICI_target_map'].apply(lambda x:'+'.join(pd.Series(x.split('+')).sort_values().tolist()))\n",
    "\n",
    "Post_samples = df_label[df_label.Patient.isin(paired_patient)].sort_values('Patient')\n",
    "Post_samples['patient_id'] = Post_samples['Patient']\n",
    "Post_samples['Therapy'] = Post_samples['Therapy'].apply(lambda x:'+'.join(pd.Series(x.split('+')).sort_values().tolist()))\n",
    "\n",
    "print(len(Post_samples), len(Pre_samples))"
   ]
  },
  {
   "cell_type": "code",
   "execution_count": 352,
   "id": "c503f761-8524-4000-a4fb-3de28fbf6454",
   "metadata": {},
   "outputs": [
    {
     "name": "stdout",
     "output_type": "stream",
     "text": [
      "3 MGH 122T\n",
      "7 MGH 166T\n",
      "37 MGH 99T\n"
     ]
    },
    {
     "data": {
      "text/plain": [
       "(86, 86)"
      ]
     },
     "execution_count": 352,
     "metadata": {},
     "output_type": "execute_result"
    }
   ],
   "source": [
    "Post_matched = []\n",
    "Pre_matched = []\n",
    "\n",
    "for i in range(len(Pre_samples)):\n",
    "    ts = Pre_samples.iloc[i]\n",
    "\n",
    "    pid = ts.patient_id\n",
    "    rsp = ts.response_label\n",
    "    drug = ts.Therapy\n",
    "    post_df = Post_samples[Post_samples.patient_id == pid]\n",
    "\n",
    "    if ts.cohort == 'MGH':\n",
    "        \n",
    "        #post_df = post_df[post_df.Therapy == drug]\n",
    "        post_df = post_df[post_df.response_label== rsp] ## 如果label有冲突，应该以post的label为准\n",
    "        post_df = post_df.sort_values('Timing')\n",
    "        \n",
    "        if len(post_df) >= 1:\n",
    "            sidx = post_df.index.tolist()#[:1]\n",
    "            Post_matched.extend(sidx)\n",
    "            Pre_matched.extend([ts.name for i in range(len(sidx))])\n",
    "        else:\n",
    "            print(i, ts.cohort, pid)\n",
    "    else:\n",
    "        post_df = post_df.sort_values('Timing')\n",
    "        sidx = post_df.index.tolist()#[:1]\n",
    "        Post_matched.extend(sidx)\n",
    "        Pre_matched.extend([ts.name for i in range(len(sidx))])\n",
    "        \n",
    "len(Post_matched), len(Pre_matched)"
   ]
  },
  {
   "cell_type": "code",
   "execution_count": 353,
   "id": "0fff3244-1c91-42f0-8743-6fba84905793",
   "metadata": {
    "scrolled": true
   },
   "outputs": [],
   "source": [
    "Post_samples = Post_samples.loc[Post_matched]\n",
    "Pre_samples = Pre_samples.loc[Pre_matched]\n",
    "\n",
    "Post_samples.response_label = Pre_samples.response_label.tolist()\n",
    "\n",
    "Post_TPM = df_tpm.loc[Post_samples.index]\n",
    "Pre_TPM = df_tpm1.loc[Pre_samples.index]"
   ]
  },
  {
   "cell_type": "code",
   "execution_count": 354,
   "id": "4d46c3c8-58f3-4879-8757-6bb682414cd9",
   "metadata": {},
   "outputs": [],
   "source": [
    "Post_samples.index = Post_samples['patient_id'] + '@' + Post_samples.reset_index().index.astype(str)\n",
    "Post_TPM.index = Post_samples.index\n",
    "\n",
    "\n",
    "Pre_samples.index = Pre_samples['patient_id'] + '@' + Pre_samples.reset_index().index.astype(str)\n",
    "Pre_TPM.index = Pre_samples.index\n"
   ]
  },
  {
   "cell_type": "code",
   "execution_count": null,
   "id": "22669306-3242-4dfe-8eee-243c6631c071",
   "metadata": {},
   "outputs": [],
   "source": []
  },
  {
   "cell_type": "code",
   "execution_count": null,
   "id": "6c85ff91-fb41-4311-a20b-b6c7843f00d0",
   "metadata": {},
   "outputs": [],
   "source": []
  },
  {
   "cell_type": "code",
   "execution_count": 355,
   "id": "9e21efc1-7e4e-4ee8-ab2b-0a0041df50d0",
   "metadata": {},
   "outputs": [],
   "source": [
    "Pre_samples.to_pickle('./PAIRED_PD1_CTLA4_PRE_SMPLE.TABLE')\n",
    "Post_samples.to_pickle('./PAIRED_PD1_CTLA4_POST_SMPLE.TABLE')\n",
    "\n",
    "Pre_TPM.to_pickle('./PAIRED_PD1_CTLA4_PRE_TPM.TABLE')\n",
    "Post_TPM.to_pickle('./PAIRED_PD1_CTLA4_POST_TPM.TABLE')"
   ]
  },
  {
   "cell_type": "code",
   "execution_count": 356,
   "id": "c767628b-5daa-474a-9f86-9523e8f0c1b6",
   "metadata": {},
   "outputs": [
    {
     "data": {
      "text/plain": [
       "response_label\n",
       "NR    64\n",
       "R     22\n",
       "Name: count, dtype: int64"
      ]
     },
     "execution_count": 356,
     "metadata": {},
     "output_type": "execute_result"
    }
   ],
   "source": [
    "Post_samples.response_label.value_counts()"
   ]
  },
  {
   "cell_type": "code",
   "execution_count": 357,
   "id": "48df1746-7bab-4a7d-a56e-861b924c2ce2",
   "metadata": {},
   "outputs": [
    {
     "data": {
      "text/plain": [
       "Therapy\n",
       "PD1          71\n",
       "CTLA4+PD1     9\n",
       "CTLA4         6\n",
       "Name: count, dtype: int64"
      ]
     },
     "execution_count": 357,
     "metadata": {},
     "output_type": "execute_result"
    }
   ],
   "source": [
    "Post_samples.Therapy.value_counts()"
   ]
  },
  {
   "cell_type": "code",
   "execution_count": 358,
   "id": "5abf547b-89b0-42b5-8684-6328155910e5",
   "metadata": {},
   "outputs": [
    {
     "data": {
      "text/plain": [
       "cohort\n",
       "Riaz    43\n",
       "MGH     27\n",
       "Gide    16\n",
       "Name: count, dtype: int64"
      ]
     },
     "execution_count": 358,
     "metadata": {},
     "output_type": "execute_result"
    }
   ],
   "source": [
    "Post_samples.cohort.value_counts()"
   ]
  },
  {
   "cell_type": "markdown",
   "id": "f8f794a8-f846-46da-9f71-7cf242b83ee4",
   "metadata": {},
   "source": [
    "## As one patient may have multiple post-treatment pairs, total 86 pre-post treatment pairs, invloving 78 patients, 3 cohorts\n",
    "\n",
    "### Riaz(n=43), MGH(n=27), Gide(n=16)"
   ]
  },
  {
   "cell_type": "code",
   "execution_count": 359,
   "id": "2f0397a8-75cb-4486-9031-7db21e152fcb",
   "metadata": {},
   "outputs": [
    {
     "data": {
      "text/plain": [
       "(78,)"
      ]
     },
     "execution_count": 359,
     "metadata": {},
     "output_type": "execute_result"
    }
   ],
   "source": [
    "Post_samples.patient_id.unique().shape"
   ]
  },
  {
   "cell_type": "code",
   "execution_count": 360,
   "id": "dbc71e36-9817-4800-af21-307d641dcf7a",
   "metadata": {},
   "outputs": [
    {
     "data": {
      "text/plain": [
       "86"
      ]
     },
     "execution_count": 360,
     "metadata": {},
     "output_type": "execute_result"
    }
   ],
   "source": [
    "len(Post_samples)"
   ]
  },
  {
   "cell_type": "code",
   "execution_count": null,
   "id": "27fd7171-3a1a-4ef5-9d5d-e61bf3d5d61a",
   "metadata": {},
   "outputs": [],
   "source": []
  },
  {
   "cell_type": "code",
   "execution_count": null,
   "id": "941595eb-96b7-489d-a01c-eea947c339ba",
   "metadata": {},
   "outputs": [],
   "source": []
  },
  {
   "cell_type": "code",
   "execution_count": null,
   "id": "94cc3074-9c8b-4bf8-8848-857852ae2933",
   "metadata": {},
   "outputs": [],
   "source": []
  },
  {
   "cell_type": "code",
   "execution_count": null,
   "id": "0ef16dab-e42d-4810-b55d-6101f945e667",
   "metadata": {},
   "outputs": [],
   "source": []
  },
  {
   "cell_type": "code",
   "execution_count": null,
   "id": "ce78f73a-f885-42b5-9bbe-1af43c95a511",
   "metadata": {},
   "outputs": [],
   "source": []
  }
 ],
 "metadata": {
  "kernelspec": {
   "display_name": "Python 3 (ipykernel)",
   "language": "python",
   "name": "python3"
  },
  "language_info": {
   "codemirror_mode": {
    "name": "ipython",
    "version": 3
   },
   "file_extension": ".py",
   "mimetype": "text/x-python",
   "name": "python",
   "nbconvert_exporter": "python",
   "pygments_lexer": "ipython3",
   "version": "3.8.18"
  }
 },
 "nbformat": 4,
 "nbformat_minor": 5
}
