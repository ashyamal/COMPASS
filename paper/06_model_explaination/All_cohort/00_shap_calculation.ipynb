{
 "cells": [
  {
   "cell_type": "code",
   "execution_count": 1,
   "id": "7aef1857-c3c6-4ff9-8d9f-8e8e9ad8556c",
   "metadata": {},
   "outputs": [],
   "source": [
    "import os\n",
    "from tqdm import tqdm\n",
    "from itertools import chain\n",
    "import pandas as pd\n",
    "import numpy as np\n",
    "import random, torch\n",
    "import matplotlib.pyplot as plt\n",
    "import seaborn as sns\n",
    "sns.set(style = 'white', font_scale=1.5)"
   ]
  },
  {
   "cell_type": "code",
   "execution_count": 2,
   "id": "29cac846-e840-454c-8bf9-03df23e03cef",
   "metadata": {},
   "outputs": [],
   "source": [
    "import sys\n",
    "\n",
    "sys.path.insert(0,  '/home/was966/Research/mims-compass/')\n",
    "from compass.utils import plot_embed_with_label\n",
    "from compass import PreTrainer, FineTuner, loadcompass #, get_minmal_epoch\n",
    "from compass.utils import plot_embed_with_label, plot_performance, score2\n",
    "from compass.tokenizer import CANCER_CODE\n",
    "def onehot(S):\n",
    "    assert type(S) == pd.Series, 'Input type should be pd.Series'\n",
    "    dfd = pd.get_dummies(S, dummy_na=True)\n",
    "    nanidx = dfd[dfd[np.nan].astype(bool)].index\n",
    "    dfd.loc[nanidx, :] = np.nan\n",
    "    dfd = dfd.drop(columns=[np.nan])*1.\n",
    "    cols = dfd.sum().sort_values(ascending=False).index.tolist()\n",
    "    dfd = dfd[cols]\n",
    "    return dfd"
   ]
  },
  {
   "cell_type": "code",
   "execution_count": 3,
   "id": "5b5c6c53-0c7c-497d-a582-21a314658e76",
   "metadata": {},
   "outputs": [],
   "source": [
    "from compass.tokenizer import CONCEPT_palette"
   ]
  },
  {
   "cell_type": "code",
   "execution_count": 4,
   "id": "4f4fab3b-daf2-4c84-8253-6ec4f2b8045b",
   "metadata": {},
   "outputs": [
    {
     "data": {
      "text/plain": [
       "<torch._C.Generator at 0x7f5de6677bb0>"
      ]
     },
     "execution_count": 4,
     "metadata": {},
     "output_type": "execute_result"
    }
   ],
   "source": [
    "import shap\n",
    "import torch\n",
    "import torch.nn as nn\n",
    "from shap import DeepExplainer, KernelExplainer\n",
    "torch.manual_seed(0)"
   ]
  },
  {
   "cell_type": "code",
   "execution_count": 5,
   "id": "52ba4d2d-d26e-4d5e-9c81-17c9c66225a6",
   "metadata": {},
   "outputs": [
    {
     "data": {
      "text/plain": [
       "('0.44.1', '1.24.3')"
      ]
     },
     "execution_count": 5,
     "metadata": {},
     "output_type": "execute_result"
    }
   ],
   "source": [
    "shap.__version__, np.__version__"
   ]
  },
  {
   "cell_type": "code",
   "execution_count": null,
   "id": "a63cfeee-ec71-4606-9c73-2d745311b1ec",
   "metadata": {},
   "outputs": [],
   "source": []
  },
  {
   "cell_type": "code",
   "execution_count": 6,
   "id": "0f9164fc-e4f4-413e-b0b3-83a4daad799c",
   "metadata": {},
   "outputs": [
    {
     "data": {
      "text/plain": [
       "((1133, 15672), (1133, 110))"
      ]
     },
     "execution_count": 6,
     "metadata": {},
     "output_type": "execute_result"
    }
   ],
   "source": [
    "## read data\n",
    "df_label = pd.read_pickle('/home/was966/Research/mims-conceptor.bak//paper//00_data/ITRP.PATIENT.TABLE')\n",
    "df_tpm = pd.read_pickle('/home/was966/Research/mims-conceptor.bak//paper//00_data/ITRP.TPM.TABLE')\n",
    "df_tpm.shape, df_label.shape"
   ]
  },
  {
   "cell_type": "code",
   "execution_count": 7,
   "id": "e0677fd6-754a-4862-85ff-eb22e831c0b4",
   "metadata": {},
   "outputs": [
    {
     "data": {
      "text/html": [
       "<div>\n",
       "<style scoped>\n",
       "    .dataframe tbody tr th:only-of-type {\n",
       "        vertical-align: middle;\n",
       "    }\n",
       "\n",
       "    .dataframe tbody tr th {\n",
       "        vertical-align: top;\n",
       "    }\n",
       "\n",
       "    .dataframe thead th {\n",
       "        text-align: right;\n",
       "    }\n",
       "</style>\n",
       "<table border=\"1\" class=\"dataframe\">\n",
       "  <thead>\n",
       "    <tr style=\"text-align: right;\">\n",
       "      <th></th>\n",
       "      <th>Sample_id</th>\n",
       "      <th>response_label</th>\n",
       "      <th>RECIST</th>\n",
       "      <th>Timing</th>\n",
       "      <th>cohort</th>\n",
       "      <th>cancer_type</th>\n",
       "      <th>sequencer</th>\n",
       "      <th>ICI</th>\n",
       "      <th>ICI_target</th>\n",
       "      <th>Tissue</th>\n",
       "      <th>...</th>\n",
       "      <th>BR</th>\n",
       "      <th>RECIST_Response</th>\n",
       "      <th>Mutational Subtype</th>\n",
       "      <th>participant</th>\n",
       "      <th>ICI_target_map</th>\n",
       "      <th>ICI_map</th>\n",
       "      <th>Biopsy_site</th>\n",
       "      <th>sub_cohort</th>\n",
       "      <th>sub_cohort_used_flag</th>\n",
       "      <th>real_TMB</th>\n",
       "    </tr>\n",
       "    <tr>\n",
       "      <th>Index</th>\n",
       "      <th></th>\n",
       "      <th></th>\n",
       "      <th></th>\n",
       "      <th></th>\n",
       "      <th></th>\n",
       "      <th></th>\n",
       "      <th></th>\n",
       "      <th></th>\n",
       "      <th></th>\n",
       "      <th></th>\n",
       "      <th></th>\n",
       "      <th></th>\n",
       "      <th></th>\n",
       "      <th></th>\n",
       "      <th></th>\n",
       "      <th></th>\n",
       "      <th></th>\n",
       "      <th></th>\n",
       "      <th></th>\n",
       "      <th></th>\n",
       "      <th></th>\n",
       "    </tr>\n",
       "  </thead>\n",
       "  <tbody>\n",
       "    <tr>\n",
       "      <th>1_ipiPD1_PRE</th>\n",
       "      <td>ipiPD1_1_PRE</td>\n",
       "      <td>NR</td>\n",
       "      <td>PD</td>\n",
       "      <td>Pre</td>\n",
       "      <td>Gide</td>\n",
       "      <td>SKCM</td>\n",
       "      <td>HiSeq2500</td>\n",
       "      <td>Ipilimumab + Pembrolizumab</td>\n",
       "      <td>CTLA4+PD1</td>\n",
       "      <td>SQ</td>\n",
       "      <td>...</td>\n",
       "      <td>NaN</td>\n",
       "      <td>NaN</td>\n",
       "      <td>NaN</td>\n",
       "      <td>NaN</td>\n",
       "      <td>PD1+CTLA4</td>\n",
       "      <td>Ipi+Pembro</td>\n",
       "      <td>Skin</td>\n",
       "      <td>Gide(Ipi+Pembro)</td>\n",
       "      <td>True</td>\n",
       "      <td>NaN</td>\n",
       "    </tr>\n",
       "    <tr>\n",
       "      <th>2_ipiPD1_PRE</th>\n",
       "      <td>ipiPD1_2_PRE</td>\n",
       "      <td>NR</td>\n",
       "      <td>PD</td>\n",
       "      <td>Pre</td>\n",
       "      <td>Gide</td>\n",
       "      <td>SKCM</td>\n",
       "      <td>HiSeq2500</td>\n",
       "      <td>Ipilimumab + Pembrolizumab</td>\n",
       "      <td>CTLA4+PD1</td>\n",
       "      <td>LN</td>\n",
       "      <td>...</td>\n",
       "      <td>NaN</td>\n",
       "      <td>NaN</td>\n",
       "      <td>NaN</td>\n",
       "      <td>NaN</td>\n",
       "      <td>PD1+CTLA4</td>\n",
       "      <td>Ipi+Pembro</td>\n",
       "      <td>Lymph node</td>\n",
       "      <td>Gide(Ipi+Pembro)</td>\n",
       "      <td>True</td>\n",
       "      <td>NaN</td>\n",
       "    </tr>\n",
       "    <tr>\n",
       "      <th>6_ipiPD1_PRE</th>\n",
       "      <td>ipiPD1_6_PRE</td>\n",
       "      <td>NR</td>\n",
       "      <td>PD</td>\n",
       "      <td>Pre</td>\n",
       "      <td>Gide</td>\n",
       "      <td>SKCM</td>\n",
       "      <td>HiSeq2500</td>\n",
       "      <td>Ipilimumab + Nivolumab</td>\n",
       "      <td>CTLA4+PD1</td>\n",
       "      <td>LN</td>\n",
       "      <td>...</td>\n",
       "      <td>NaN</td>\n",
       "      <td>NaN</td>\n",
       "      <td>NaN</td>\n",
       "      <td>NaN</td>\n",
       "      <td>PD1+CTLA4</td>\n",
       "      <td>Ipi+Nivo</td>\n",
       "      <td>Lymph node</td>\n",
       "      <td>Gide(Ipi+Nivo)</td>\n",
       "      <td>False</td>\n",
       "      <td>NaN</td>\n",
       "    </tr>\n",
       "    <tr>\n",
       "      <th>7_ipiPD1_PRE</th>\n",
       "      <td>ipiPD1_7_PRE</td>\n",
       "      <td>R</td>\n",
       "      <td>PR</td>\n",
       "      <td>Pre</td>\n",
       "      <td>Gide</td>\n",
       "      <td>SKCM</td>\n",
       "      <td>HiSeq2500</td>\n",
       "      <td>Ipilimumab + Nivolumab</td>\n",
       "      <td>CTLA4+PD1</td>\n",
       "      <td>SQ</td>\n",
       "      <td>...</td>\n",
       "      <td>NaN</td>\n",
       "      <td>NaN</td>\n",
       "      <td>NaN</td>\n",
       "      <td>NaN</td>\n",
       "      <td>PD1+CTLA4</td>\n",
       "      <td>Ipi+Nivo</td>\n",
       "      <td>Skin</td>\n",
       "      <td>Gide(Ipi+Nivo)</td>\n",
       "      <td>False</td>\n",
       "      <td>NaN</td>\n",
       "    </tr>\n",
       "    <tr>\n",
       "      <th>8_ipiPD1_PRE</th>\n",
       "      <td>ipiPD1_8_PRE</td>\n",
       "      <td>NR</td>\n",
       "      <td>PD</td>\n",
       "      <td>Pre</td>\n",
       "      <td>Gide</td>\n",
       "      <td>SKCM</td>\n",
       "      <td>HiSeq2500</td>\n",
       "      <td>Ipilimumab + Pembrolizumab</td>\n",
       "      <td>CTLA4+PD1</td>\n",
       "      <td>LN</td>\n",
       "      <td>...</td>\n",
       "      <td>NaN</td>\n",
       "      <td>NaN</td>\n",
       "      <td>NaN</td>\n",
       "      <td>NaN</td>\n",
       "      <td>PD1+CTLA4</td>\n",
       "      <td>Ipi+Pembro</td>\n",
       "      <td>Lymph node</td>\n",
       "      <td>Gide(Ipi+Pembro)</td>\n",
       "      <td>True</td>\n",
       "      <td>NaN</td>\n",
       "    </tr>\n",
       "    <tr>\n",
       "      <th>...</th>\n",
       "      <td>...</td>\n",
       "      <td>...</td>\n",
       "      <td>...</td>\n",
       "      <td>...</td>\n",
       "      <td>...</td>\n",
       "      <td>...</td>\n",
       "      <td>...</td>\n",
       "      <td>...</td>\n",
       "      <td>...</td>\n",
       "      <td>...</td>\n",
       "      <td>...</td>\n",
       "      <td>...</td>\n",
       "      <td>...</td>\n",
       "      <td>...</td>\n",
       "      <td>...</td>\n",
       "      <td>...</td>\n",
       "      <td>...</td>\n",
       "      <td>...</td>\n",
       "      <td>...</td>\n",
       "      <td>...</td>\n",
       "      <td>...</td>\n",
       "    </tr>\n",
       "    <tr>\n",
       "      <th>49_PD1_PRE</th>\n",
       "      <td>PD1_49_PRE</td>\n",
       "      <td>R</td>\n",
       "      <td>CR</td>\n",
       "      <td>Pre</td>\n",
       "      <td>Gide</td>\n",
       "      <td>SKCM</td>\n",
       "      <td>HiSeq2500</td>\n",
       "      <td>Nivolumab</td>\n",
       "      <td>PD1</td>\n",
       "      <td>SQ</td>\n",
       "      <td>...</td>\n",
       "      <td>NaN</td>\n",
       "      <td>NaN</td>\n",
       "      <td>NaN</td>\n",
       "      <td>NaN</td>\n",
       "      <td>PD1</td>\n",
       "      <td>Nivo</td>\n",
       "      <td>Skin</td>\n",
       "      <td>Gide(Nivo)</td>\n",
       "      <td>True</td>\n",
       "      <td>NaN</td>\n",
       "    </tr>\n",
       "    <tr>\n",
       "      <th>50_PD1_PRE</th>\n",
       "      <td>PD1_50_PRE</td>\n",
       "      <td>R</td>\n",
       "      <td>CR</td>\n",
       "      <td>Pre</td>\n",
       "      <td>Gide</td>\n",
       "      <td>SKCM</td>\n",
       "      <td>HiSeq2500</td>\n",
       "      <td>Nivolumab</td>\n",
       "      <td>PD1</td>\n",
       "      <td>SQ</td>\n",
       "      <td>...</td>\n",
       "      <td>NaN</td>\n",
       "      <td>NaN</td>\n",
       "      <td>NaN</td>\n",
       "      <td>NaN</td>\n",
       "      <td>PD1</td>\n",
       "      <td>Nivo</td>\n",
       "      <td>Skin</td>\n",
       "      <td>Gide(Nivo)</td>\n",
       "      <td>True</td>\n",
       "      <td>NaN</td>\n",
       "    </tr>\n",
       "    <tr>\n",
       "      <th>52_PD1_PRE</th>\n",
       "      <td>PD1_52_PRE</td>\n",
       "      <td>R</td>\n",
       "      <td>PR</td>\n",
       "      <td>Pre</td>\n",
       "      <td>Gide</td>\n",
       "      <td>SKCM</td>\n",
       "      <td>HiSeq2500</td>\n",
       "      <td>Pembrolizumab</td>\n",
       "      <td>PD1</td>\n",
       "      <td>SQ</td>\n",
       "      <td>...</td>\n",
       "      <td>NaN</td>\n",
       "      <td>NaN</td>\n",
       "      <td>NaN</td>\n",
       "      <td>NaN</td>\n",
       "      <td>PD1</td>\n",
       "      <td>Pembro</td>\n",
       "      <td>Skin</td>\n",
       "      <td>Gide(Pembro)</td>\n",
       "      <td>True</td>\n",
       "      <td>NaN</td>\n",
       "    </tr>\n",
       "    <tr>\n",
       "      <th>53_PD1_PRE</th>\n",
       "      <td>PD1_53_PRE</td>\n",
       "      <td>R</td>\n",
       "      <td>CR</td>\n",
       "      <td>Pre</td>\n",
       "      <td>Gide</td>\n",
       "      <td>SKCM</td>\n",
       "      <td>HiSeq2500</td>\n",
       "      <td>Pembrolizumab</td>\n",
       "      <td>PD1</td>\n",
       "      <td>LN</td>\n",
       "      <td>...</td>\n",
       "      <td>NaN</td>\n",
       "      <td>NaN</td>\n",
       "      <td>NaN</td>\n",
       "      <td>NaN</td>\n",
       "      <td>PD1</td>\n",
       "      <td>Pembro</td>\n",
       "      <td>Lymph node</td>\n",
       "      <td>Gide(Pembro)</td>\n",
       "      <td>True</td>\n",
       "      <td>NaN</td>\n",
       "    </tr>\n",
       "    <tr>\n",
       "      <th>54_PD1_PRE</th>\n",
       "      <td>PD1_54_PRE</td>\n",
       "      <td>R</td>\n",
       "      <td>PR</td>\n",
       "      <td>Pre</td>\n",
       "      <td>Gide</td>\n",
       "      <td>SKCM</td>\n",
       "      <td>HiSeq2500</td>\n",
       "      <td>Pembrolizumab</td>\n",
       "      <td>PD1</td>\n",
       "      <td>SQ</td>\n",
       "      <td>...</td>\n",
       "      <td>NaN</td>\n",
       "      <td>NaN</td>\n",
       "      <td>NaN</td>\n",
       "      <td>NaN</td>\n",
       "      <td>PD1</td>\n",
       "      <td>Pembro</td>\n",
       "      <td>Skin</td>\n",
       "      <td>Gide(Pembro)</td>\n",
       "      <td>True</td>\n",
       "      <td>NaN</td>\n",
       "    </tr>\n",
       "  </tbody>\n",
       "</table>\n",
       "<p>73 rows × 110 columns</p>\n",
       "</div>"
      ],
      "text/plain": [
       "                 Sample_id response_label RECIST Timing cohort cancer_type  \\\n",
       "Index                                                                        \n",
       "1_ipiPD1_PRE  ipiPD1_1_PRE             NR     PD    Pre   Gide        SKCM   \n",
       "2_ipiPD1_PRE  ipiPD1_2_PRE             NR     PD    Pre   Gide        SKCM   \n",
       "6_ipiPD1_PRE  ipiPD1_6_PRE             NR     PD    Pre   Gide        SKCM   \n",
       "7_ipiPD1_PRE  ipiPD1_7_PRE              R     PR    Pre   Gide        SKCM   \n",
       "8_ipiPD1_PRE  ipiPD1_8_PRE             NR     PD    Pre   Gide        SKCM   \n",
       "...                    ...            ...    ...    ...    ...         ...   \n",
       "49_PD1_PRE      PD1_49_PRE              R     CR    Pre   Gide        SKCM   \n",
       "50_PD1_PRE      PD1_50_PRE              R     CR    Pre   Gide        SKCM   \n",
       "52_PD1_PRE      PD1_52_PRE              R     PR    Pre   Gide        SKCM   \n",
       "53_PD1_PRE      PD1_53_PRE              R     CR    Pre   Gide        SKCM   \n",
       "54_PD1_PRE      PD1_54_PRE              R     PR    Pre   Gide        SKCM   \n",
       "\n",
       "              sequencer                         ICI ICI_target Tissue  ...  \\\n",
       "Index                                                                  ...   \n",
       "1_ipiPD1_PRE  HiSeq2500  Ipilimumab + Pembrolizumab  CTLA4+PD1     SQ  ...   \n",
       "2_ipiPD1_PRE  HiSeq2500  Ipilimumab + Pembrolizumab  CTLA4+PD1     LN  ...   \n",
       "6_ipiPD1_PRE  HiSeq2500      Ipilimumab + Nivolumab  CTLA4+PD1     LN  ...   \n",
       "7_ipiPD1_PRE  HiSeq2500      Ipilimumab + Nivolumab  CTLA4+PD1     SQ  ...   \n",
       "8_ipiPD1_PRE  HiSeq2500  Ipilimumab + Pembrolizumab  CTLA4+PD1     LN  ...   \n",
       "...                 ...                         ...        ...    ...  ...   \n",
       "49_PD1_PRE    HiSeq2500                   Nivolumab        PD1     SQ  ...   \n",
       "50_PD1_PRE    HiSeq2500                   Nivolumab        PD1     SQ  ...   \n",
       "52_PD1_PRE    HiSeq2500               Pembrolizumab        PD1     SQ  ...   \n",
       "53_PD1_PRE    HiSeq2500               Pembrolizumab        PD1     LN  ...   \n",
       "54_PD1_PRE    HiSeq2500               Pembrolizumab        PD1     SQ  ...   \n",
       "\n",
       "               BR  RECIST_Response  Mutational Subtype  participant  \\\n",
       "Index                                                                 \n",
       "1_ipiPD1_PRE  NaN              NaN                 NaN          NaN   \n",
       "2_ipiPD1_PRE  NaN              NaN                 NaN          NaN   \n",
       "6_ipiPD1_PRE  NaN              NaN                 NaN          NaN   \n",
       "7_ipiPD1_PRE  NaN              NaN                 NaN          NaN   \n",
       "8_ipiPD1_PRE  NaN              NaN                 NaN          NaN   \n",
       "...           ...              ...                 ...          ...   \n",
       "49_PD1_PRE    NaN              NaN                 NaN          NaN   \n",
       "50_PD1_PRE    NaN              NaN                 NaN          NaN   \n",
       "52_PD1_PRE    NaN              NaN                 NaN          NaN   \n",
       "53_PD1_PRE    NaN              NaN                 NaN          NaN   \n",
       "54_PD1_PRE    NaN              NaN                 NaN          NaN   \n",
       "\n",
       "              ICI_target_map     ICI_map Biopsy_site        sub_cohort  \\\n",
       "Index                                                                    \n",
       "1_ipiPD1_PRE       PD1+CTLA4  Ipi+Pembro        Skin  Gide(Ipi+Pembro)   \n",
       "2_ipiPD1_PRE       PD1+CTLA4  Ipi+Pembro  Lymph node  Gide(Ipi+Pembro)   \n",
       "6_ipiPD1_PRE       PD1+CTLA4    Ipi+Nivo  Lymph node    Gide(Ipi+Nivo)   \n",
       "7_ipiPD1_PRE       PD1+CTLA4    Ipi+Nivo        Skin    Gide(Ipi+Nivo)   \n",
       "8_ipiPD1_PRE       PD1+CTLA4  Ipi+Pembro  Lymph node  Gide(Ipi+Pembro)   \n",
       "...                      ...         ...         ...               ...   \n",
       "49_PD1_PRE               PD1        Nivo        Skin        Gide(Nivo)   \n",
       "50_PD1_PRE               PD1        Nivo        Skin        Gide(Nivo)   \n",
       "52_PD1_PRE               PD1      Pembro        Skin      Gide(Pembro)   \n",
       "53_PD1_PRE               PD1      Pembro  Lymph node      Gide(Pembro)   \n",
       "54_PD1_PRE               PD1      Pembro        Skin      Gide(Pembro)   \n",
       "\n",
       "             sub_cohort_used_flag  real_TMB  \n",
       "Index                                        \n",
       "1_ipiPD1_PRE                 True       NaN  \n",
       "2_ipiPD1_PRE                 True       NaN  \n",
       "6_ipiPD1_PRE                False       NaN  \n",
       "7_ipiPD1_PRE                False       NaN  \n",
       "8_ipiPD1_PRE                 True       NaN  \n",
       "...                           ...       ...  \n",
       "49_PD1_PRE                   True       NaN  \n",
       "50_PD1_PRE                   True       NaN  \n",
       "52_PD1_PRE                   True       NaN  \n",
       "53_PD1_PRE                   True       NaN  \n",
       "54_PD1_PRE                   True       NaN  \n",
       "\n",
       "[73 rows x 110 columns]"
      ]
     },
     "execution_count": 7,
     "metadata": {},
     "output_type": "execute_result"
    }
   ],
   "source": [
    "df_label[df_label.cohort == 'Gide']"
   ]
  },
  {
   "cell_type": "code",
   "execution_count": null,
   "id": "00266353-57c5-4478-830f-810c47579c8e",
   "metadata": {},
   "outputs": [],
   "source": []
  },
  {
   "cell_type": "code",
   "execution_count": null,
   "id": "02a6fd13-d6b8-45e9-b1c3-04e69e530afa",
   "metadata": {},
   "outputs": [],
   "source": []
  },
  {
   "cell_type": "code",
   "execution_count": 8,
   "id": "56623be9-a2b7-4f10-8747-792fa78e267f",
   "metadata": {},
   "outputs": [],
   "source": [
    "s = df_label.groupby('cohort').size()\n",
    "cancer_type = '_'.join(df_label.cancer_type.unique())\n",
    "\n",
    "df_tpm = df_tpm.loc[df_label.index]\n",
    "dfcx_org = df_label.cancer_type.map(CANCER_CODE).to_frame('cancer_code').join(df_tpm)\n",
    "df_task = onehot(df_label.response_label)"
   ]
  },
  {
   "cell_type": "code",
   "execution_count": null,
   "id": "323cbe34-c252-4945-a0e1-0870b7cb47dd",
   "metadata": {},
   "outputs": [],
   "source": []
  },
  {
   "cell_type": "code",
   "execution_count": 9,
   "id": "7f604318-a237-4d49-99ca-43bb6d7a720d",
   "metadata": {},
   "outputs": [
    {
     "data": {
      "text/plain": [
       "array(['IMVigor210', 'Rose', 'Snyder', 'Zhao', 'Choueiri', 'IMmotion150',\n",
       "       'Miao', 'SU2CLC1', 'SU2CLC2', 'Allen', 'Gide', 'Hugo', 'Liu',\n",
       "       'MGH', 'Riaz', 'Kim'], dtype=object)"
      ]
     },
     "execution_count": 9,
     "metadata": {},
     "output_type": "execute_result"
    }
   ],
   "source": [
    "df_label.cohort.unique()"
   ]
  },
  {
   "cell_type": "code",
   "execution_count": 10,
   "id": "51ba24dd-691e-43e5-9c4e-b298eb1a7190",
   "metadata": {},
   "outputs": [],
   "source": [
    "model_path = '/home/was966/Research/mims-compass/paper/checkpoint/latest/finetuner_pft_all.pt'"
   ]
  },
  {
   "cell_type": "code",
   "execution_count": null,
   "id": "903eca1d-cadc-4193-9da7-2fe79a92c606",
   "metadata": {},
   "outputs": [
    {
     "name": "stderr",
     "output_type": "stream",
     "text": [
      "100%|##########| 36/36 [00:04<00:00,  7.70it/s]\n",
      "100%|##########| 36/36 [00:03<00:00, 11.12it/s]\n"
     ]
    },
    {
     "data": {
      "application/vnd.jupyter.widget-view+json": {
       "model_id": "fc6075978236479fa80ace7ab4fbe63c",
       "version_major": 2,
       "version_minor": 0
      },
      "text/plain": [
       "  0%|          | 0/1133 [00:00<?, ?it/s]"
      ]
     },
     "metadata": {},
     "output_type": "display_data"
    },
    {
     "name": "stderr",
     "output_type": "stream",
     "text": [
      "100%|##########| 13/13 [00:01<00:00, 10.08it/s]\n",
      "100%|##########| 13/13 [00:01<00:00,  9.59it/s]\n"
     ]
    },
    {
     "data": {
      "application/vnd.jupyter.widget-view+json": {
       "model_id": "be0a64981f3241b0834483ebdd3dd3d1",
       "version_major": 2,
       "version_minor": 0
      },
      "text/plain": [
       "  0%|          | 0/408 [00:00<?, ?it/s]"
      ]
     },
     "metadata": {},
     "output_type": "display_data"
    },
    {
     "name": "stderr",
     "output_type": "stream",
     "text": [
      "100%|##########| 7/7 [00:00<00:00,  8.60it/s]\n",
      "100%|##########| 7/7 [00:00<00:00,  9.23it/s]\n"
     ]
    },
    {
     "data": {
      "application/vnd.jupyter.widget-view+json": {
       "model_id": "2bb25b7a60724b46bc989b9e0b4a826e",
       "version_major": 2,
       "version_minor": 0
      },
      "text/plain": [
       "  0%|          | 0/198 [00:00<?, ?it/s]"
      ]
     },
     "metadata": {},
     "output_type": "display_data"
    },
    {
     "name": "stderr",
     "output_type": "stream",
     "text": [
      "100%|##########| 11/11 [00:01<00:00, 10.10it/s]\n",
      "100%|##########| 11/11 [00:01<00:00,  9.78it/s]\n"
     ]
    },
    {
     "data": {
      "application/vnd.jupyter.widget-view+json": {
       "model_id": "d1eaf37f814049f28028e99246bb550c",
       "version_major": 2,
       "version_minor": 0
      },
      "text/plain": [
       "  0%|          | 0/330 [00:00<?, ?it/s]"
      ]
     },
     "metadata": {},
     "output_type": "display_data"
    }
   ],
   "source": [
    "for cancer in ['All', 'BLCA', 'KIRC', 'SKCM', 'LUAD', 'STAD', 'GBM', 'LUSC' ]:\n",
    "    if cancer  == 'All':\n",
    "        idx = df_label.index\n",
    "    else:\n",
    "        idx = df_label[df_label.cancer_type == cancer].index\n",
    "    dfcx = dfcx_org.loc[idx]\n",
    "\n",
    "    finetuner = loadcompass(model_path)\n",
    "    device = finetuner.device\n",
    "    \n",
    "    dfg, dfc = finetuner.extract(dfcx, batch_size = 32,)\n",
    "    _, dfy = finetuner.predict(dfcx, batch_size = 32,)\n",
    "    \n",
    "    model = finetuner.model.taskdecoder\n",
    "    model.eval()\n",
    "    \n",
    "    def predict(data):\n",
    "        model.eval()\n",
    "        with torch.no_grad():\n",
    "            data_tensor = torch.tensor(data, dtype=torch.float32)\n",
    "            return model(data_tensor.to(device)).cpu().numpy()\n",
    "            \n",
    "    fname = dfc.columns[:]\n",
    "    x = torch.tensor(dfc[fname].values).to(device)\n",
    "    \n",
    "    K = 100\n",
    "    background = x.cpu().numpy() if len(x) < K else shap.kmeans(x.cpu().numpy(), k = K).data\n",
    "    #background = shap.sample(dfc[fname].values,nsamples=50, random_state=42)\n",
    "    #background = x.cpu().numpy()\n",
    "\n",
    "    \n",
    "    #background = dfc[fname].mean().to_frame().T.values #\n",
    "    #background = torch.zeros((1, len(fname))).to(device).cpu().numpy()\n",
    "\n",
    "    \n",
    "    e = KernelExplainer(predict, background)\n",
    "    shap_values = e.shap_values(x.cpu().numpy(), check_additivity=True)\n",
    "    \n",
    "    df1 = pd.DataFrame(shap_values[1], columns = fname, index=dfcx.index)\n",
    "    df1.to_csv('./results/cancer/%s_shap_pft_r.csv' % cancer)\n",
    "    \n",
    "    df2 = pd.DataFrame(shap_values[0], columns = fname, index=dfcx.index)\n",
    "    df2.to_csv('./results/cancer/%s_shap_pft_nr.csv' % cancer)\n",
    "    \n",
    "    \n",
    "    shap.summary_plot(shap_values, x.cpu().numpy(), feature_names = fname, show=False, \n",
    "                      class_names = {0:'NR', 1:'R'},  max_display = 50)\n",
    "    plt.savefig('./results/cancer/%s_shap_bar_plot.svg' % cancer, bbox_inches='tight')\n",
    "    plt.close()\n",
    "    \n",
    "    shap.summary_plot(shap_values[1], x.cpu().numpy(), feature_names = fname,\n",
    "                      cmap='bwr', plot_type='dot', \n",
    "                      class_names = {0:'NR', 1:'R'}, show = False,  max_display = 50)\n",
    "    plt.savefig('./results/cancer/%s_shap_summary_plot.svg' % cancer, bbox_inches='tight')\n",
    "    plt.close()"
   ]
  },
  {
   "cell_type": "code",
   "execution_count": null,
   "id": "a2eebc51-2078-441b-8906-84f0421307bf",
   "metadata": {},
   "outputs": [],
   "source": []
  },
  {
   "cell_type": "code",
   "execution_count": null,
   "id": "f829b0a9-00b6-4073-86d9-7432bc1938d7",
   "metadata": {
    "scrolled": true
   },
   "outputs": [],
   "source": [
    "res = []\n",
    "for cancer in ['All', 'BLCA', 'KIRC', 'SKCM', 'LUAD', 'STAD', 'GBM', 'LUSC' ]:\n",
    "    df1 = pd.read_csv('./results/cancer/%s_shap_pft_nr.csv' % cancer, index_col=0)\n",
    "    df2 = pd.read_csv('./results/cancer/%s_shap_pft_r.csv' % cancer, index_col = 0)    \n",
    "    \n",
    "    nr = df1.abs().mean().to_frame(name = 'NR')\n",
    "    r = df2.abs().mean().to_frame(name = 'R')\n",
    "    df = nr.join(r)\n",
    "    df['group'] = cancer\n",
    "\n",
    "    res.append(df)"
   ]
  },
  {
   "cell_type": "code",
   "execution_count": null,
   "id": "08696a85-f95a-49ea-8c35-a0a0c242ddc9",
   "metadata": {},
   "outputs": [],
   "source": [
    "df1.head()"
   ]
  },
  {
   "cell_type": "code",
   "execution_count": null,
   "id": "3b81bcd6-f94a-4de9-9d59-eaac2d2ea070",
   "metadata": {},
   "outputs": [],
   "source": [
    "df2.head(2)"
   ]
  },
  {
   "cell_type": "code",
   "execution_count": null,
   "id": "14b2cd9c-5195-4447-8c61-09cb811f090c",
   "metadata": {},
   "outputs": [],
   "source": [
    "dfa = pd.concat(res)\n",
    "dfa.index.name = 'concept'\n",
    "data = dfa.reset_index()\n",
    "\n",
    "data['R/NR_mean'] = data[['R', 'NR']].mean(axis=1)\n",
    "data['R/NR_std'] = data[['R', 'NR']].std(axis=1)"
   ]
  },
  {
   "cell_type": "code",
   "execution_count": null,
   "id": "43f770df-c14b-48d6-86b2-04a49c468ace",
   "metadata": {},
   "outputs": [],
   "source": [
    "data1 = pd.pivot_table(data, values = 'R/NR_mean', index = 'concept', columns = 'group').rank(axis=0, ascending=False)\n",
    "order = data1.mean(axis=1).sort_values(ascending=True).index\n",
    "\n",
    "data1 = data1.loc[order][['All', 'BLCA', 'KIRC', 'SKCM', 'LUAD', 'LUSC', 'STAD','GBM']]\n",
    "plt.figure(figsize=(20, 4))\n",
    "sns.heatmap(data1.T, annot=True, annot_kws={'fontsize':12}, cmap = 'coolwarm_r',)"
   ]
  },
  {
   "cell_type": "code",
   "execution_count": null,
   "id": "236561b4-784f-4688-8a33-266b19357115",
   "metadata": {},
   "outputs": [],
   "source": []
  },
  {
   "cell_type": "code",
   "execution_count": null,
   "id": "50ab883b-9e57-4eb2-9a15-191b0455bafe",
   "metadata": {},
   "outputs": [],
   "source": [
    "df.groupby('group').max()"
   ]
  },
  {
   "cell_type": "code",
   "execution_count": null,
   "id": "f976cf9f-5ac6-4091-ab5e-5d06d8494b53",
   "metadata": {},
   "outputs": [],
   "source": [
    "import colorbm as cbm"
   ]
  },
  {
   "cell_type": "code",
   "execution_count": null,
   "id": "10c6a2fe-215c-4713-83dc-028fd8457946",
   "metadata": {},
   "outputs": [],
   "source": [
    "# Calculate mean and std for R and NR\n",
    "\n",
    "# Define colors\n",
    "cancer_order = ['GBM', 'LUAD', 'LUSC', 'SKCM', 'BLCA', 'STAD', 'KIRC']\n",
    "cancer_color = cbm.palettes.ucscgb\n",
    "cancer_map = dict(zip(cancer_order, cancer_color))\n",
    "cancer_map['All'] = 'grey'\n",
    "\n",
    "# Define a function to create the plot with specified x-axis sorting\n",
    "def create_plot(data, sort_by='All'):\n",
    "    if sort_by == 'All':\n",
    "        # Sort by R/NR_mean for All group\n",
    "        sorted_data = data[data['group'] == 'All'].sort_values(by='R/NR_mean', ascending=False)\n",
    "    else:\n",
    "        # Sort by the average R/NR_mean across all groups\n",
    "        sorted_data = data.groupby('concept')['R/NR_mean'].mean().sort_values(ascending=False).reset_index()\n",
    "    \n",
    "    sorted_concepts = sorted_data['concept'].tolist()\n",
    "    data['concept'] = pd.Categorical(data['concept'], categories=sorted_concepts, ordered=True)\n",
    "\n",
    "    # Plot\n",
    "    plt.figure(figsize=(14, 8))\n",
    "    sns.lineplot(\n",
    "        data=data,\n",
    "        x='concept',\n",
    "        y='R/NR_mean',\n",
    "        hue='group',\n",
    "        style= None,\n",
    "        markers=True,\n",
    "        palette=cancer_map,\n",
    "        err_style=\"bars\",\n",
    "        ci=None,\n",
    "        linewidth=1,\n",
    "        marker='o'\n",
    "    )\n",
    "\n",
    "    #Add error bars manually\n",
    "    for group in data['group'].unique():\n",
    "        group_data = data[data['group'] == group]\n",
    "        plt.errorbar(\n",
    "            x=group_data['concept'],\n",
    "            y=group_data['R/NR_mean'],\n",
    "            yerr=group_data['R/NR_std'],\n",
    "            fmt='o',\n",
    "            color=cancer_map.get(group, 'black')\n",
    "        )\n",
    "    \n",
    "    plt.xticks(rotation=90)\n",
    "    plt.xlabel('Concept')\n",
    "    plt.ylabel('Average R/NR')\n",
    "    plt.title('Average R/NR by Concept with Standard Deviation Shading')\n",
    "    plt.legend(title='Group')\n",
    "    plt.tight_layout()\n",
    "\n",
    "    # Save the plot as a PDF\n",
    "    #plt.savefig('/mnt/data/concept_plot_with_shading.pdf', format='pdf')\n",
    "    plt.show()\n",
    "\n",
    "# Example usage:\n",
    "create_plot(data, sort_by=None)"
   ]
  },
  {
   "cell_type": "code",
   "execution_count": null,
   "id": "ae967ca7-0f4b-45e7-9393-0b592bf93867",
   "metadata": {},
   "outputs": [],
   "source": [
    "cancer_map"
   ]
  },
  {
   "cell_type": "code",
   "execution_count": null,
   "id": "0f1efb32-addc-43fd-a2e1-fea5b3fe9f4d",
   "metadata": {},
   "outputs": [],
   "source": []
  },
  {
   "cell_type": "code",
   "execution_count": null,
   "id": "21f7ba3f-f164-46a6-b9e8-27f12d4999f1",
   "metadata": {},
   "outputs": [],
   "source": []
  },
  {
   "cell_type": "code",
   "execution_count": null,
   "id": "0da24fbd-99cd-4757-b794-2ceeb58b1067",
   "metadata": {},
   "outputs": [],
   "source": []
  },
  {
   "cell_type": "code",
   "execution_count": null,
   "id": "6d3b1d5d-1b73-4f15-8d8e-b1c58bb896d0",
   "metadata": {},
   "outputs": [],
   "source": []
  },
  {
   "cell_type": "code",
   "execution_count": null,
   "id": "e695c4a3-af02-4042-8af7-1e85c1c3ba56",
   "metadata": {},
   "outputs": [],
   "source": []
  },
  {
   "cell_type": "code",
   "execution_count": null,
   "id": "bc09047d-deb9-4e90-a692-856c0eee34f6",
   "metadata": {},
   "outputs": [],
   "source": []
  },
  {
   "cell_type": "code",
   "execution_count": null,
   "id": "5e9f1287-23b4-4aae-8127-5f4aa57bc086",
   "metadata": {},
   "outputs": [],
   "source": []
  },
  {
   "cell_type": "code",
   "execution_count": null,
   "id": "f456e732-57a4-4775-b782-61a521f4acaf",
   "metadata": {},
   "outputs": [],
   "source": []
  },
  {
   "cell_type": "code",
   "execution_count": null,
   "id": "c68b0c4f-ac70-4c84-a3d8-9c14b8be5b2e",
   "metadata": {},
   "outputs": [],
   "source": []
  },
  {
   "cell_type": "code",
   "execution_count": null,
   "id": "47455c48-42eb-4604-9e5a-fb98dabf3273",
   "metadata": {},
   "outputs": [],
   "source": []
  },
  {
   "cell_type": "code",
   "execution_count": null,
   "id": "d150b867-b67a-49b4-bc08-5387b1894573",
   "metadata": {},
   "outputs": [],
   "source": []
  },
  {
   "cell_type": "code",
   "execution_count": null,
   "id": "3815895c-4786-431e-932c-a48d998f6c8d",
   "metadata": {},
   "outputs": [],
   "source": []
  },
  {
   "cell_type": "code",
   "execution_count": null,
   "id": "3bb84349-3603-4d80-b83b-e626b7289e95",
   "metadata": {},
   "outputs": [],
   "source": []
  }
 ],
 "metadata": {
  "kernelspec": {
   "display_name": "Python 3 (ipykernel)",
   "language": "python",
   "name": "python3"
  },
  "language_info": {
   "codemirror_mode": {
    "name": "ipython",
    "version": 3
   },
   "file_extension": ".py",
   "mimetype": "text/x-python",
   "name": "python",
   "nbconvert_exporter": "python",
   "pygments_lexer": "ipython3",
   "version": "3.8.18"
  }
 },
 "nbformat": 4,
 "nbformat_minor": 5
}
