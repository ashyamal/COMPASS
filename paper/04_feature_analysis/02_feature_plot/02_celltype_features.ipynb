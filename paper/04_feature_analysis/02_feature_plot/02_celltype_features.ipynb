{
 "cells": [
  {
   "cell_type": "code",
   "execution_count": 1,
   "id": "fc008d98-ce6c-4618-8b8a-d993de69611e",
   "metadata": {},
   "outputs": [],
   "source": [
    "import pandas as pd\n",
    "import matplotlib.pyplot as plt\n",
    "import seaborn as sns\n",
    "from umap import UMAP\n",
    "from sklearn.decomposition import PCA\n",
    "from sklearn.manifold import TSNE, Isomap, MDS, LocallyLinearEmbedding\n",
    "\n",
    "sns.set(style = 'white', font_scale=1.5)"
   ]
  },
  {
   "cell_type": "code",
   "execution_count": 2,
   "id": "b483dbf1-8fee-475f-bf6d-3656abeadffc",
   "metadata": {},
   "outputs": [],
   "source": [
    "import sys\n",
    "sys.path.insert(0, '/home/was966/Research/mims-conceptor/')\n",
    "from conceptor.tokenizer import CONCEPT_palette\n",
    "CONCEPT_palette = pd.DataFrame([CONCEPT_palette]).T.reset_index().sort_index(ascending=False).set_index('index')[0].to_dict()\n",
    "\n",
    "hue_order = CONCEPT_palette.keys()\n",
    "hue_color = CONCEPT_palette.values()"
   ]
  },
  {
   "cell_type": "code",
   "execution_count": null,
   "id": "6c55cdae-fbeb-4d09-a62e-be233ce59897",
   "metadata": {},
   "outputs": [],
   "source": []
  },
  {
   "cell_type": "code",
   "execution_count": null,
   "id": "3ac7583e-74ce-44c2-b96e-dccb5b1d08a1",
   "metadata": {},
   "outputs": [],
   "source": []
  },
  {
   "cell_type": "code",
   "execution_count": null,
   "id": "bba4bffc-9789-45ae-832d-7885094e172a",
   "metadata": {},
   "outputs": [],
   "source": []
  },
  {
   "cell_type": "code",
   "execution_count": 3,
   "id": "72f68fc1-c29e-44c9-958d-bade2060b89e",
   "metadata": {
    "scrolled": true
   },
   "outputs": [],
   "source": [
    "dfc = pd.read_csv('../../02_extract_readouts//TCGA/04_features_celltype.csv', index_col=0)\n",
    "dfl = pd.read_csv('../../02_extract_readouts//TCGA/00_clinical_label_orignal.csv', index_col=0)\n",
    "\n",
    "tcga = dfc['bcr_patient_barcode'].map(dfl['cancer_type'].apply(lambda x:x.split('-')[1])).to_frame(name='cancer_type')\n",
    "tcga['domain'] = 'TCGA'\n",
    "tcga_dfc = tcga.join(dfc)\n",
    "\n",
    "dfc = pd.read_csv('../../02_extract_readouts//ITRP/04_features_celltype.csv', index_col=0)\n",
    "dfc = dfc.rename(columns = {'Index':'bcr_patient_barcode'})\n",
    "\n",
    "dfl = pd.read_csv('../../02_extract_readouts//ITRP/00_clinical_label.csv', index_col=0)\n",
    "itrp = dfc['bcr_patient_barcode'].map(dfl['cancer_type']).to_frame(name='cancer_type')\n",
    "\n",
    "itrp['domain'] = 'ITRP'\n",
    "itrp_dfc = itrp.join(dfc)\n",
    "\n",
    "dfc = tcga_dfc._append(itrp_dfc)"
   ]
  },
  {
   "cell_type": "code",
   "execution_count": 4,
   "id": "b5a66de3-ce50-4fd2-8b9a-63f7e2780d37",
   "metadata": {
    "scrolled": true
   },
   "outputs": [],
   "source": [
    "data = dfc[dfc.columns[-32:]]\n",
    "mp = PCA(n_components = 2) #\n",
    "pca2d = mp.fit_transform(data)\n",
    "df_pca2d  = pd.DataFrame(pca2d, index=data.index, columns = ['PCA1', 'PCA2'])"
   ]
  },
  {
   "cell_type": "code",
   "execution_count": null,
   "id": "03ee4527-7116-4f9a-90c2-43898d6dc680",
   "metadata": {},
   "outputs": [
    {
     "name": "stderr",
     "output_type": "stream",
     "text": [
      "/home/was966/micromamba/envs/responder/lib/python3.8/site-packages/umap/umap_.py:1943: UserWarning: n_jobs value -1 overridden to 1 by setting random_state. Use no seed for parallelism.\n",
      "  warn(f\"n_jobs value {self.n_jobs} overridden to 1 by setting random_state. Use no seed for parallelism.\")\n"
     ]
    },
    {
     "name": "stdout",
     "output_type": "stream",
     "text": [
      "UMAP(min_dist=0.5, n_neighbors=200, random_state=42, verbose=1)\n",
      "Fri Mar 15 23:04:25 2024 Construct fuzzy simplicial set\n",
      "Fri Mar 15 23:04:25 2024 Finding Nearest Neighbors\n",
      "Fri Mar 15 23:04:25 2024 Building RP forest with 41 trees\n",
      "Fri Mar 15 23:04:31 2024 NN descent for 19 iterations\n",
      "\t 1  /  19\n",
      "\t 2  /  19\n"
     ]
    }
   ],
   "source": [
    "mp = UMAP(n_components = 2,  n_neighbors = 200, min_dist=0.5,  random_state = 42, verbose=1 ) #\n",
    "umap2d = mp.fit_transform(data)\n",
    "df_umap2d  = pd.DataFrame(umap2d, index=data.index, columns = ['UMAP1', 'UMAP2'])"
   ]
  },
  {
   "cell_type": "code",
   "execution_count": null,
   "id": "546b870d-4219-40f0-adac-a964d8be79ba",
   "metadata": {},
   "outputs": [],
   "source": []
  },
  {
   "cell_type": "code",
   "execution_count": null,
   "id": "f7dc7181-f008-4ecd-b8d8-7191b793c6e2",
   "metadata": {},
   "outputs": [],
   "source": [
    "df2d = dfc[['cancer_type', 'domain', 'bcr_patient_barcode', 'feature_name']].join(df_pca2d).join(df_umap2d)"
   ]
  },
  {
   "cell_type": "code",
   "execution_count": null,
   "id": "2593d195-d9f1-49f4-b7db-0a0cd50fe46a",
   "metadata": {},
   "outputs": [],
   "source": [
    "df2d.to_csv('celltype_space.csv')"
   ]
  },
  {
   "cell_type": "code",
   "execution_count": null,
   "id": "f84d45ca-ea72-47ce-a0c3-af423c4fce90",
   "metadata": {},
   "outputs": [],
   "source": [
    "df2d.head()"
   ]
  },
  {
   "cell_type": "code",
   "execution_count": null,
   "id": "8cf5c1a2-c96e-4686-819d-5356b5758f02",
   "metadata": {},
   "outputs": [],
   "source": []
  },
  {
   "cell_type": "code",
   "execution_count": null,
   "id": "6708363d-c9bd-4e42-9587-1e024dfa5d7e",
   "metadata": {},
   "outputs": [],
   "source": []
  },
  {
   "cell_type": "code",
   "execution_count": null,
   "id": "45193bf0-e7c8-40c5-960c-93e8f1507e93",
   "metadata": {},
   "outputs": [],
   "source": [
    "dfp = df2d[df2d.domain == 'TCGA']\n",
    "\n",
    "fig, ax = plt.subplots(figsize=(10, 10))\n",
    "\n",
    "x = 'PCA1'\n",
    "y = 'PCA2'\n",
    "hue = 'feature_name'\n",
    "\n",
    "sns.scatterplot(data = dfp, x = x, y = y, hue = hue,  alpha = 0.8,\n",
    "                linewidth=0.0, hue_order = hue_order, palette=hue_color, s = 1, \n",
    "                 ax=ax, legend=False)\n",
    "\n",
    "mean = dfp.groupby(hue)[[x,y]].median()\n",
    "for name in mean.index:\n",
    "    s = mean.loc[name]\n",
    "    ax.text(s[x], s[y], name,  fontdict={'fontsize':9})\n",
    "\n",
    "ax.tick_params(bottom='on', left='off',  labelleft='on', labelbottom='on', pad=-.6,)\n",
    "ax.set_xlabel('PC1')\n",
    "ax.set_ylabel('PC2')\n",
    "\n",
    "fig.savefig('cell_TCGA_PCA_labelled.pdf')\n",
    "\n",
    "\n",
    "dfp = df2d[df2d.domain == 'TCGA']\n",
    "\n",
    "fig, ax = plt.subplots(figsize=(10, 10))\n",
    "\n",
    "x = 'PCA1'\n",
    "y = 'PCA2'\n",
    "hue = 'feature_name'\n",
    "\n",
    "sns.scatterplot(data = dfp, x = x, y = y, hue = hue,  alpha = 0.8,\n",
    "                linewidth=0.0, hue_order = hue_order, palette=hue_color, s = 1, \n",
    "                 ax=ax, legend=False)\n",
    "\n",
    "# mean = dfp.groupby(hue)[[x,y]].median()\n",
    "# for name in mean.index:\n",
    "#     s = mean.loc[name]\n",
    "#     ax.text(s[x], s[y], name,  fontdict={'fontsize':9})\n",
    "\n",
    "ax.tick_params(bottom='on', left='off',  labelleft='on', labelbottom='on', pad=-.6,)\n",
    "ax.set_xlabel('PC1')\n",
    "ax.set_ylabel('PC2')\n",
    "\n",
    "fig.savefig('cell_TCGA_PCA_unlabelled.pdf', bbox_inches ='tight')"
   ]
  },
  {
   "cell_type": "code",
   "execution_count": null,
   "id": "4c1953e3-07bd-4542-bb39-cc0cc6e1cf8d",
   "metadata": {},
   "outputs": [],
   "source": [
    "dfp = df2d[df2d.domain == 'ITRP']\n",
    "\n",
    "fig, ax = plt.subplots(figsize=(10, 10))\n",
    "\n",
    "x = 'PCA1'\n",
    "y = 'PCA2'\n",
    "hue = 'feature_name'\n",
    "\n",
    "sns.scatterplot(data = dfp, x = x, y = y, hue = hue,  alpha = 0.8,\n",
    "                linewidth=0.0, hue_order = hue_order, palette=hue_color, s =1.5, \n",
    "                 ax=ax, legend=False)\n",
    "\n",
    "mean = dfp.groupby(hue)[[x,y]].median()\n",
    "for name in mean.index:\n",
    "    s = mean.loc[name]\n",
    "    ax.text(s[x], s[y], name,  fontdict={'fontsize':9})\n",
    "\n",
    "ax.tick_params(bottom='on', left='off',  labelleft='on', labelbottom='on', pad=-.6,)\n",
    "ax.set_xlabel('PC1')\n",
    "ax.set_ylabel('PC2')\n",
    "fig.savefig('cell_ITRP_PCA_labelled.pdf')\n",
    "\n",
    "\n",
    "\n",
    "dfp = df2d[df2d.domain == 'ITRP']\n",
    "\n",
    "fig, ax = plt.subplots(figsize=(10, 10))\n",
    "\n",
    "x = 'PCA1'\n",
    "y = 'PCA2'\n",
    "hue = 'feature_name'\n",
    "\n",
    "sns.scatterplot(data = dfp, x = x, y = y, hue = hue,  alpha = 0.8,\n",
    "                linewidth=0.0, hue_order = hue_order, palette=hue_color, s =1.5, \n",
    "                 ax=ax, legend=False)\n",
    "\n",
    "# mean = dfp.groupby(hue)[[x,y]].median()\n",
    "# for name in mean.index:\n",
    "#     s = mean.loc[name]\n",
    "#     ax.text(s[x], s[y], name,  fontdict={'fontsize':9})\n",
    "\n",
    "ax.tick_params(bottom='on', left='off',  labelleft='on', labelbottom='on', pad=-.6,)\n",
    "ax.set_xlabel('PC1')\n",
    "ax.set_ylabel('PC2')\n",
    "fig.savefig('cell_ITRP_PCA_unlabelled.pdf', bbox_inches ='tight')"
   ]
  },
  {
   "cell_type": "code",
   "execution_count": null,
   "id": "53a9d803-fef7-4994-9ea7-5ae18e942dfb",
   "metadata": {},
   "outputs": [],
   "source": []
  },
  {
   "cell_type": "code",
   "execution_count": null,
   "id": "db5c85e7-2e20-4ae1-95eb-c5275f84e632",
   "metadata": {},
   "outputs": [],
   "source": []
  },
  {
   "cell_type": "code",
   "execution_count": null,
   "id": "687a0dc0-c999-433a-98a5-6a118e070854",
   "metadata": {},
   "outputs": [],
   "source": [
    "dfp = df2d[df2d.domain == 'TCGA']\n",
    "\n",
    "fig, ax = plt.subplots(figsize=(10, 10))\n",
    "\n",
    "x = 'UMAP1'\n",
    "y = 'UMAP2'\n",
    "hue = 'feature_name'\n",
    "\n",
    "sns.scatterplot(data = dfp, x = x, y = y, hue = hue,  alpha = 0.8,\n",
    "                linewidth=0.0, hue_order = hue_order, palette=hue_color, s = 0.5, \n",
    "                 ax=ax, legend=False)\n",
    "\n",
    "mean = dfp.groupby(hue)[[x,y]].median()\n",
    "for name in mean.index:\n",
    "    s = mean.loc[name]\n",
    "    ax.text(s[x], s[y], name,  fontdict={'fontsize':8})\n",
    "\n",
    "ax.tick_params(bottom='on', left='off',  labelleft='on', labelbottom='on', pad=-.6,)\n",
    "ax.set_xlabel('UMAP1')\n",
    "ax.set_ylabel('UMAP2')\n",
    "\n",
    "fig.savefig('cell_TCGA_UMAP_labelled.pdf', bbox_inches ='tight')"
   ]
  },
  {
   "cell_type": "code",
   "execution_count": null,
   "id": "007f50b9-ef0f-4938-bdbd-7a214c0aa00e",
   "metadata": {},
   "outputs": [],
   "source": []
  },
  {
   "cell_type": "code",
   "execution_count": null,
   "id": "9948441b-d2c1-44f4-9a6b-f2384d67c5a7",
   "metadata": {},
   "outputs": [],
   "source": [
    "dfp = df2d[df2d.domain == 'ITRP']\n",
    "\n",
    "fig, ax = plt.subplots(figsize=(10, 10))\n",
    "\n",
    "x = 'UMAP1'\n",
    "y = 'UMAP2'\n",
    "hue = 'feature_name'\n",
    "\n",
    "sns.scatterplot(data = dfp, x = x, y = y, hue = hue,  alpha = 0.8,\n",
    "                linewidth=0.0, hue_order = hue_order, palette=hue_color, s = 0.5, \n",
    "                 ax=ax, legend=False)\n",
    "\n",
    "mean = dfp.groupby(hue)[[x,y]].median()\n",
    "for name in mean.index:\n",
    "    s = mean.loc[name]\n",
    "    ax.text(s[x], s[y], name,  fontdict={'fontsize':9})\n",
    "\n",
    "ax.tick_params(bottom='on', left='off',  labelleft='on', labelbottom='on', pad=-.6,)\n",
    "ax.set_xlabel('UMAP1')\n",
    "ax.set_ylabel('UMAP2')\n",
    "\n",
    "fig.savefig('cell_ITRP_UMAP_labelled.pdf', bbox_inches ='tight')"
   ]
  },
  {
   "cell_type": "code",
   "execution_count": null,
   "id": "b0ffc344-723e-4f61-88dd-7a3dd8784610",
   "metadata": {},
   "outputs": [],
   "source": []
  },
  {
   "cell_type": "code",
   "execution_count": null,
   "id": "d8dc6701-813b-4713-9541-6dba4f15cb96",
   "metadata": {},
   "outputs": [],
   "source": []
  },
  {
   "cell_type": "code",
   "execution_count": null,
   "id": "4aa9bbcb-917a-4145-991c-710ef2859cbb",
   "metadata": {},
   "outputs": [],
   "source": []
  },
  {
   "cell_type": "code",
   "execution_count": null,
   "id": "1af95941-ed47-4c48-a034-1211fd6e5b3f",
   "metadata": {},
   "outputs": [],
   "source": []
  },
  {
   "cell_type": "code",
   "execution_count": null,
   "id": "78907ec0-0d44-4c10-8478-922f0bb6ea15",
   "metadata": {},
   "outputs": [],
   "source": []
  },
  {
   "cell_type": "code",
   "execution_count": null,
   "id": "50f254e4-241f-4fdb-9b89-8ea5f423303b",
   "metadata": {},
   "outputs": [],
   "source": []
  }
 ],
 "metadata": {
  "kernelspec": {
   "display_name": "Python 3 (ipykernel)",
   "language": "python",
   "name": "python3"
  },
  "language_info": {
   "codemirror_mode": {
    "name": "ipython",
    "version": 3
   },
   "file_extension": ".py",
   "mimetype": "text/x-python",
   "name": "python",
   "nbconvert_exporter": "python",
   "pygments_lexer": "ipython3",
   "version": "3.8.18"
  }
 },
 "nbformat": 4,
 "nbformat_minor": 5
}
