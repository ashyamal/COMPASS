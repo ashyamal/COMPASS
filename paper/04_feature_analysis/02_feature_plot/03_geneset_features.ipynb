{
 "cells": [
  {
   "cell_type": "code",
   "execution_count": 1,
   "id": "fc008d98-ce6c-4618-8b8a-d993de69611e",
   "metadata": {},
   "outputs": [],
   "source": [
    "import pandas as pd\n",
    "import matplotlib.pyplot as plt\n",
    "import seaborn as sns\n",
    "from umap import UMAP\n",
    "from sklearn.decomposition import PCA\n",
    "from sklearn.manifold import TSNE, Isomap, MDS, LocallyLinearEmbedding\n",
    "\n",
    "sns.set(style = 'white', font_scale=1.5)"
   ]
  },
  {
   "cell_type": "code",
   "execution_count": 2,
   "id": "b483dbf1-8fee-475f-bf6d-3656abeadffc",
   "metadata": {},
   "outputs": [],
   "source": [
    "import sys\n",
    "sys.path.insert(0, '/home/was966/Research/mims-conceptor/')\n",
    "from conceptor.tokenizer import CONCEPT_palette, CONCEPT\n",
    "CONCEPT_palette = pd.DataFrame([CONCEPT_palette]).T.reset_index().sort_index(ascending=False).set_index('index')[0].to_dict()\n",
    "GENESET_palette = CONCEPT.CelltypePathway.map(CONCEPT_palette).to_dict()\n",
    "\n",
    "import colorcet as cc\n",
    "hue_order = list(GENESET_palette.keys())\n",
    "hue_color = list(GENESET_palette.values())#sns.color_palette(cc.glasbey, n_colors= len(hue_order))"
   ]
  },
  {
   "cell_type": "code",
   "execution_count": null,
   "id": "8c913c82-8290-4e70-a320-01006d24ebfe",
   "metadata": {},
   "outputs": [],
   "source": []
  },
  {
   "cell_type": "code",
   "execution_count": 3,
   "id": "72f68fc1-c29e-44c9-958d-bade2060b89e",
   "metadata": {
    "scrolled": true
   },
   "outputs": [],
   "source": [
    "dfc = pd.read_csv('../../02_extract_readouts//TCGA/03_features_geneset.csv', index_col=0)\n",
    "dfl = pd.read_csv('../../02_extract_readouts//TCGA/00_clinical_label_orignal.csv', index_col=0)\n",
    "\n",
    "tcga = dfc['bcr_patient_barcode'].map(dfl['cancer_type'].apply(lambda x:x.split('-')[1])).to_frame(name='cancer_type')\n",
    "tcga['domain'] = 'TCGA'\n",
    "tcga_dfc = tcga.join(dfc)\n",
    "\n",
    "dfc = pd.read_csv('../../02_extract_readouts//ITRP/03_features_geneset.csv', index_col=0)\n",
    "dfc = dfc.rename(columns = {'Index':'bcr_patient_barcode'})\n",
    "\n",
    "dfl = pd.read_csv('../../02_extract_readouts//ITRP/00_clinical_label.csv', index_col=0)\n",
    "itrp = dfc['bcr_patient_barcode'].map(dfl['cancer_type']).to_frame(name='cancer_type')\n",
    "\n",
    "itrp['domain'] = 'ITRP'\n",
    "itrp_dfc = itrp.join(dfc)\n",
    "\n",
    "dfc = tcga_dfc._append(itrp_dfc)"
   ]
  },
  {
   "cell_type": "code",
   "execution_count": 4,
   "id": "87acae82-a85f-49d0-9ae7-894409b2ff94",
   "metadata": {},
   "outputs": [],
   "source": [
    "data = dfc[dfc.columns[-32:]]\n",
    "mp = PCA(n_components = 2) #\n",
    "pca2d = mp.fit_transform(data)\n",
    "df_pca2d  = pd.DataFrame(pca2d, index=data.index, columns = ['PCA1', 'PCA2'])"
   ]
  },
  {
   "cell_type": "code",
   "execution_count": null,
   "id": "bafda6ab-4621-412a-9e19-be933eee191b",
   "metadata": {},
   "outputs": [
    {
     "name": "stderr",
     "output_type": "stream",
     "text": [
      "/home/was966/micromamba/envs/responder/lib/python3.8/site-packages/umap/umap_.py:1943: UserWarning: n_jobs value -1 overridden to 1 by setting random_state. Use no seed for parallelism.\n",
      "  warn(f\"n_jobs value {self.n_jobs} overridden to 1 by setting random_state. Use no seed for parallelism.\")\n"
     ]
    },
    {
     "name": "stdout",
     "output_type": "stream",
     "text": [
      "UMAP(min_dist=0.5, n_neighbors=30, random_state=42, verbose=1)\n",
      "Fri Mar 15 18:27:40 2024 Construct fuzzy simplicial set\n",
      "Fri Mar 15 18:27:41 2024 Finding Nearest Neighbors\n",
      "Fri Mar 15 18:27:41 2024 Building RP forest with 64 trees\n",
      "Fri Mar 15 18:28:12 2024 NN descent for 21 iterations\n"
     ]
    }
   ],
   "source": [
    "mp = UMAP(n_components = 2,  n_neighbors = 30, min_dist=0.5,  random_state = 42, verbose=1 ) #\n",
    "umap2d = mp.fit_transform(data)\n",
    "df_umap2d  = pd.DataFrame(umap2d, index=data.index, columns = ['UMAP1', 'UMAP2'])"
   ]
  },
  {
   "cell_type": "code",
   "execution_count": null,
   "id": "44934058-c154-4410-a223-332130d0ddf5",
   "metadata": {},
   "outputs": [],
   "source": []
  },
  {
   "cell_type": "code",
   "execution_count": null,
   "id": "8ce6e1ed-4697-4f8f-bc4b-24cbc2185736",
   "metadata": {},
   "outputs": [],
   "source": []
  },
  {
   "cell_type": "code",
   "execution_count": null,
   "id": "cd8f3c72-567c-4924-86a7-461a7cbbc51c",
   "metadata": {},
   "outputs": [],
   "source": [
    "df2d = dfc[['cancer_type', 'domain', 'bcr_patient_barcode', 'feature_name']].join(df_pca2d) #.join(df_umap2d)\n",
    "df2d.to_csv('geneset_space.csv')"
   ]
  },
  {
   "cell_type": "code",
   "execution_count": null,
   "id": "ed47824f-0db9-43b0-98c8-6feecba4550b",
   "metadata": {},
   "outputs": [],
   "source": []
  },
  {
   "cell_type": "code",
   "execution_count": null,
   "id": "7cd4f438-6f87-4bee-8b7a-6e2f24e4c6ed",
   "metadata": {},
   "outputs": [],
   "source": []
  },
  {
   "cell_type": "code",
   "execution_count": null,
   "id": "2593d195-d9f1-49f4-b7db-0a0cd50fe46a",
   "metadata": {},
   "outputs": [],
   "source": [
    "\n"
   ]
  },
  {
   "cell_type": "code",
   "execution_count": null,
   "id": "45193bf0-e7c8-40c5-960c-93e8f1507e93",
   "metadata": {},
   "outputs": [],
   "source": [
    "dfp = df2d[df2d.domain == 'TCGA']\n",
    "\n",
    "fig, ax = plt.subplots(figsize=(10, 10))\n",
    "\n",
    "x = 'PCA1'\n",
    "y = 'PCA2'\n",
    "hue = 'feature_name'\n",
    "\n",
    "sns.scatterplot(data = dfp, x = x, y = y, hue = hue,  alpha = 0.8,\n",
    "                linewidth=0.0, hue_order = hue_order, palette=hue_color, s = 1, \n",
    "                 ax=ax, legend=False)\n",
    "\n",
    "mean = dfp.groupby(hue)[[x,y]].median()\n",
    "for name in mean.index:\n",
    "    s = mean.loc[name]\n",
    "    ax.text(s[x], s[y], name,  fontdict={'fontsize':9})\n",
    "\n",
    "ax.tick_params(bottom='on', left='off',  labelleft='on', labelbottom='on', pad=-.6,)\n",
    "ax.set_xlabel('PC1')\n",
    "ax.set_ylabel('PC2')\n",
    "\n",
    "fig.savefig('genset_TCGA_PCA_labelled.pdf')\n",
    "\n",
    "\n",
    "dfp = df2d[df2d.domain == 'TCGA']\n",
    "\n",
    "fig, ax = plt.subplots(figsize=(10, 10))\n",
    "\n",
    "x = 'PCA1'\n",
    "y = 'PCA2'\n",
    "hue = 'feature_name'\n",
    "\n",
    "sns.scatterplot(data = dfp, x = x, y = y, hue = hue,  alpha = 0.8,\n",
    "                linewidth=0.0, hue_order = hue_order, palette=hue_color, s = 1, \n",
    "                 ax=ax, legend=False)\n",
    "\n",
    "# mean = dfp.groupby(hue)[[x,y]].median()\n",
    "# for name in mean.index:\n",
    "#     s = mean.loc[name]\n",
    "#     ax.text(s[x], s[y], name,  fontdict={'fontsize':9})\n",
    "\n",
    "ax.tick_params(bottom='on', left='off',  labelleft='on', labelbottom='on', pad=-.6,)\n",
    "ax.set_xlabel('PC1')\n",
    "ax.set_ylabel('PC2')\n",
    "\n",
    "fig.savefig('genset_TCGA_PCA_unlabelled.pdf', bbox_inches ='tight')"
   ]
  },
  {
   "cell_type": "code",
   "execution_count": null,
   "id": "77a804a6-0839-49e4-9e85-6fc3aa053b41",
   "metadata": {},
   "outputs": [],
   "source": []
  },
  {
   "cell_type": "code",
   "execution_count": null,
   "id": "0ad3da25-1f63-4baf-bc0b-4889d688a60e",
   "metadata": {},
   "outputs": [],
   "source": []
  },
  {
   "cell_type": "code",
   "execution_count": null,
   "id": "abfb606d-994b-44c0-81c5-11ea532b2846",
   "metadata": {},
   "outputs": [],
   "source": [
    "dfp = df2d[df2d.domain == 'ITRP']\n",
    "\n",
    "fig, ax = plt.subplots(figsize=(10, 10))\n",
    "\n",
    "x = 'PCA1'\n",
    "y = 'PCA2'\n",
    "hue = 'feature_name'\n",
    "\n",
    "sns.scatterplot(data = dfp, x = x, y = y, hue = hue,  alpha = 0.8,\n",
    "                linewidth=0.0, hue_order = hue_order, palette=hue_color, s =1.5, \n",
    "                 ax=ax, legend=False)\n",
    "\n",
    "mean = dfp.groupby(hue)[[x,y]].median()\n",
    "for name in mean.index:\n",
    "    s = mean.loc[name]\n",
    "    ax.text(s[x], s[y], name,  fontdict={'fontsize':9})\n",
    "\n",
    "ax.tick_params(bottom='on', left='off',  labelleft='on', labelbottom='on', pad=-.6,)\n",
    "ax.set_xlabel('PC1')\n",
    "ax.set_ylabel('PC2')\n",
    "fig.savefig('geneset_ITRP_PCA_labelled.pdf')\n",
    "\n",
    "\n",
    "\n",
    "dfp = df2d[df2d.domain == 'ITRP']\n",
    "\n",
    "fig, ax = plt.subplots(figsize=(10, 10))\n",
    "\n",
    "x = 'PCA1'\n",
    "y = 'PCA2'\n",
    "hue = 'feature_name'\n",
    "\n",
    "sns.scatterplot(data = dfp, x = x, y = y, hue = hue,  alpha = 0.8,\n",
    "                linewidth=0.0, hue_order = hue_order, palette=hue_color, s =1.5, \n",
    "                 ax=ax, legend=False)\n",
    "\n",
    "# mean = dfp.groupby(hue)[[x,y]].median()\n",
    "# for name in mean.index:\n",
    "#     s = mean.loc[name]\n",
    "#     ax.text(s[x], s[y], name,  fontdict={'fontsize':9})\n",
    "\n",
    "ax.tick_params(bottom='on', left='off',  labelleft='on', labelbottom='on', pad=-.6,)\n",
    "ax.set_xlabel('PC1')\n",
    "ax.set_ylabel('PC2')\n",
    "fig.savefig('geneset_ITRP_PCA_unlabelled.pdf', bbox_inches ='tight')"
   ]
  },
  {
   "cell_type": "code",
   "execution_count": null,
   "id": "9948441b-d2c1-44f4-9a6b-f2384d67c5a7",
   "metadata": {},
   "outputs": [],
   "source": []
  },
  {
   "cell_type": "code",
   "execution_count": null,
   "id": "b0ffc344-723e-4f61-88dd-7a3dd8784610",
   "metadata": {},
   "outputs": [],
   "source": [
    "dfp = df2d[df2d.domain == 'TCGA']\n",
    "\n",
    "fig, ax = plt.subplots(figsize=(10, 10))\n",
    "\n",
    "x = 'UMAP1'\n",
    "y = 'UMAP2'\n",
    "hue = 'feature_name'\n",
    "\n",
    "sns.scatterplot(data = dfp, x = x, y = y, hue = hue,  alpha = 0.8,\n",
    "                linewidth=0.0, hue_order = hue_order, palette=hue_color, s = 0.5, \n",
    "                 ax=ax, legend=False)\n",
    "\n",
    "mean = dfp.groupby(hue)[[x,y]].median()\n",
    "for name in mean.index:\n",
    "    s = mean.loc[name]\n",
    "    ax.text(s[x], s[y], name,  fontdict={'fontsize':8})\n",
    "\n",
    "ax.tick_params(bottom='on', left='off',  labelleft='on', labelbottom='on', pad=-.6,)\n",
    "ax.set_xlabel('UMAP1')\n",
    "ax.set_ylabel('UMAP2')\n",
    "\n",
    "fig.savefig('geneset_TCGA_UMAP_labelled.pdf', bbox_inches ='tight')"
   ]
  },
  {
   "cell_type": "code",
   "execution_count": null,
   "id": "e323bf1d-2b38-4316-a03d-46ea02388edb",
   "metadata": {},
   "outputs": [],
   "source": []
  },
  {
   "cell_type": "code",
   "execution_count": null,
   "id": "ea82d30c-fef4-4eb1-84d7-daf7e68b0d23",
   "metadata": {},
   "outputs": [],
   "source": []
  },
  {
   "cell_type": "code",
   "execution_count": null,
   "id": "3405004b-b5af-43c8-ab5d-22474c832359",
   "metadata": {},
   "outputs": [],
   "source": [
    "dfp = df2d[df2d.domain == 'ITRP']\n",
    "\n",
    "fig, ax = plt.subplots(figsize=(10, 10))\n",
    "\n",
    "x = 'UMAP1'\n",
    "y = 'UMAP2'\n",
    "hue = 'feature_name'\n",
    "\n",
    "sns.scatterplot(data = dfp, x = x, y = y, hue = hue,  alpha = 0.8,\n",
    "                linewidth=0.0, hue_order = hue_order, palette=hue_color, s = 0.5, \n",
    "                 ax=ax, legend=False)\n",
    "\n",
    "mean = dfp.groupby(hue)[[x,y]].median()\n",
    "for name in mean.index:\n",
    "    s = mean.loc[name]\n",
    "    ax.text(s[x], s[y], name,  fontdict={'fontsize':9})\n",
    "\n",
    "ax.tick_params(bottom='on', left='off',  labelleft='on', labelbottom='on', pad=-.6,)\n",
    "ax.set_xlabel('UMAP1')\n",
    "ax.set_ylabel('UMAP2')\n",
    "\n",
    "fig.savefig('geneset_ITRP_UMAP_labelled.pdf', bbox_inches ='tight')"
   ]
  },
  {
   "cell_type": "code",
   "execution_count": null,
   "id": "d8dc6701-813b-4713-9541-6dba4f15cb96",
   "metadata": {},
   "outputs": [],
   "source": []
  }
 ],
 "metadata": {
  "kernelspec": {
   "display_name": "Python 3 (ipykernel)",
   "language": "python",
   "name": "python3"
  },
  "language_info": {
   "codemirror_mode": {
    "name": "ipython",
    "version": 3
   },
   "file_extension": ".py",
   "mimetype": "text/x-python",
   "name": "python",
   "nbconvert_exporter": "python",
   "pygments_lexer": "ipython3",
   "version": "3.8.18"
  }
 },
 "nbformat": 4,
 "nbformat_minor": 5
}
