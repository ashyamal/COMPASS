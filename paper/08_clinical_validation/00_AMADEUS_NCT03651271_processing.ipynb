{
 "cells": [
  {
   "cell_type": "code",
   "execution_count": 1,
   "id": "5ddebc16-9451-43d7-a299-0d04cf09f4a6",
   "metadata": {},
   "outputs": [],
   "source": [
    "import pandas as pd\n",
    "import numpy as np\n",
    "import os\n",
    "\n",
    "import numpy as np\n",
    "import pandas as pd\n"
   ]
  },
  {
   "cell_type": "code",
   "execution_count": 2,
   "id": "309a3db9-2256-4aaf-9f3a-6e146244c897",
   "metadata": {},
   "outputs": [],
   "source": [
    "dfm = pd.read_csv('https://www.immuno-compass.com/download/other/compass_gene_map.csv')\n",
    "dfg = pd.read_json('https://www.immuno-compass.com/download/other/gene_tokens_long.json',\n",
    "                   orient='index'\n",
    "                   )[0]\n",
    "cdict = pd.read_json('https://www.immuno-compass.com/download/other/cancer_code.json', \n",
    "                     orient='index')[0]"
   ]
  },
  {
   "cell_type": "code",
   "execution_count": 3,
   "id": "b4dae259-ba36-4511-8a95-63ee49df7b30",
   "metadata": {},
   "outputs": [],
   "source": [
    "basef = 'https://raw.githubusercontent.com/ParkerICI/amadeus-trial-data/refs/heads/main/'\n",
    "dfc = pd.read_csv(os.path.join(basef, 'clinical-data/AMADEUS_primarycohort_subject.csv'), index_col=0)\n",
    "dftmb = pd.read_csv(os.path.join(basef, 'translational-data/AMADEUS_primarycohort_msi_tmb.csv'), index_col = 0)\n",
    "dfc = dfc.join(dftmb[['msi', 'tmb']])\n",
    "dfc['response_label'] = dfc['best.overall.response'].map({'Progressive Disease': 'NR',\n",
    " 'Stable Disease': 'NR',\n",
    " 'Partial Response': 'R',\n",
    " 'Complete Response': 'R'})\n",
    "\n",
    "#dfc['response_label'] = dfc['responder.flag.crpr'].map({'N': 'NR','Y': 'R'})"
   ]
  },
  {
   "cell_type": "code",
   "execution_count": null,
   "id": "b74507aa-eb86-4ddc-b76b-fce0934749b5",
   "metadata": {},
   "outputs": [],
   "source": []
  },
  {
   "cell_type": "code",
   "execution_count": null,
   "id": "a7211ea0-3d40-4b12-a7f1-3e382a594f32",
   "metadata": {},
   "outputs": [],
   "source": []
  },
  {
   "cell_type": "code",
   "execution_count": null,
   "id": "3c0b2e83-856a-4137-8bd3-298afc7d7eca",
   "metadata": {},
   "outputs": [],
   "source": []
  },
  {
   "cell_type": "code",
   "execution_count": null,
   "id": "0ca941c9-b82b-45e7-a0e2-cc9d24e2f38a",
   "metadata": {},
   "outputs": [],
   "source": []
  },
  {
   "cell_type": "code",
   "execution_count": 4,
   "id": "073047d1-8389-44a2-b76b-9ea04d042879",
   "metadata": {},
   "outputs": [],
   "source": [
    "amadeus_to_tcga = {\n",
    "    \"Pancreatic carcinoma\": \"PAAD\",               # Pancreatic adenocarcinoma\n",
    "    \"Sarcoma\": \"SARC\",\n",
    "    \"Cervix cancer metastatic\": \"CESC\",           # Cervical cancer\n",
    "    \"Breast cancer\": \"BRCA\",\n",
    "    \"Non-small cell lung cancer\": \"LUAD\",         # Mostly LUAD, general NSCLC\n",
    "    \"Ovarian cancer\": \"OV\",\n",
    "    \"Thyroid cancer\": \"THCA\",\n",
    "    \"Prostate cancer\": \"PRAD\",\n",
    "    \"Head and neck cancer\": \"HNSC\",\n",
    "    \"Gastric cancer\": \"STAD\",                     # Stomach adenocarcinoma\n",
    "    \"Colorectal cancer\": \"COAD\",                  # Prefer COAD, or READ\n",
    "    \"Mixed hepatocellular cholangiocarcinoma\": \"LIHC\",  # Liver cancer\n",
    "    \"Uterine cancer\": \"UCEC\",                     # Could include UCS, but UCEC more common\n",
    "    \"Peritoneal sarcoma\": \"SARC\",\n",
    "    \"Neuroendocrine carcinoma\": \"OTHER\",           # Not in TCGA, classify as \"OTHER\" or use SKCM-like model if skin derived\n",
    "    \"Hepatocellular carcinoma\": \"LIHC\",\n",
    "    \"Pelvic neoplasm\": \"SARC\",                    # Ambiguous, often mapped to soft tissue origin\n",
    "    \"Gastrooesophageal cancer\": \"STAD\",           # Also overlaps with ESCA\n",
    "    \"Renal cancer\": \"KIRC\",                       # Clear cell renal cell carcinoma (default)\n",
    "    \"Urethral cancer\": \"BLCA\",                    # Urothelial origin, often grouped with BLCA\n",
    "    \"Penile cancer\": \"HNSC\",                      # SCC, HPV-associated, closest to HNSC\n",
    "    \"Tumour of ampulla of Vater\": \"COAD\",         # Intestinal-like subtype most common\n",
    "    \"Teratoma\": \"TGCT\",                           # Testicular germ cell tumors\n",
    "    \"Neuroendocrine carcinoma of the skin\": \"SKCM\"  # Most similar skin-origin carcinoma\n",
    "}"
   ]
  },
  {
   "cell_type": "code",
   "execution_count": 5,
   "id": "5caab2c6-1c80-4290-b539-903431ae5c7c",
   "metadata": {},
   "outputs": [],
   "source": [
    "dfc['tumor.type.tcga'] = dfc['tumor.type'].map(amadeus_to_tcga)"
   ]
  },
  {
   "cell_type": "code",
   "execution_count": 6,
   "id": "5663c68f-e8f7-4ec6-926c-a347d2d9d6d6",
   "metadata": {},
   "outputs": [
    {
     "name": "stderr",
     "output_type": "stream",
     "text": [
      "/tmp/ipykernel_2588203/3447429017.py:1: DtypeWarning: Columns (12) have mixed types. Specify dtype option on import or set low_memory=False.\n",
      "  dft_pre = pd.read_csv(os.path.join(basef, 'translational-data/AMADEUS_primarycohort_rnaseq_baseline.csv'))\n"
     ]
    }
   ],
   "source": [
    "dft_pre = pd.read_csv(os.path.join(basef, 'translational-data/AMADEUS_primarycohort_rnaseq_baseline.csv'))\n",
    "dft_post = pd.read_csv(os.path.join(basef, 'translational-data/AMADEUS_primarycohort_rnaseq_ontreatment.csv'))"
   ]
  },
  {
   "cell_type": "code",
   "execution_count": 7,
   "id": "7ad5b525-bbf4-498c-b4c1-10ad8be6886b",
   "metadata": {},
   "outputs": [],
   "source": [
    "dft_pre = dft_pre.groupby('subject.id').apply(lambda x:x.set_index('gene.name')['TPM.transcript.per.million'])\n",
    "dft_post = dft_post.groupby('subject.id').apply(lambda x:x.set_index('gene.name')['TPM.transcript.per.million'])"
   ]
  },
  {
   "cell_type": "code",
   "execution_count": 20,
   "id": "fd6b320e-b610-4010-acfe-90e72dd63c92",
   "metadata": {},
   "outputs": [
    {
     "data": {
      "text/plain": [
       "(37, 30)"
      ]
     },
     "execution_count": 20,
     "metadata": {},
     "output_type": "execute_result"
    }
   ],
   "source": [
    "dfc_pre.shape"
   ]
  },
  {
   "cell_type": "code",
   "execution_count": 21,
   "id": "0f0db183-59ee-4069-ae4c-1c378b383050",
   "metadata": {},
   "outputs": [
    {
     "data": {
      "text/plain": [
       "CD8 LOW     32\n",
       "CD8 HIGH     5\n",
       "Name: arm, dtype: int64"
      ]
     },
     "execution_count": 21,
     "metadata": {},
     "output_type": "execute_result"
    }
   ],
   "source": [
    "dfc_pre.arm.value_counts()"
   ]
  },
  {
   "cell_type": "code",
   "execution_count": null,
   "id": "fd27124e-7d67-4ff8-b258-dff2eba92cad",
   "metadata": {},
   "outputs": [],
   "source": []
  },
  {
   "cell_type": "code",
   "execution_count": 19,
   "id": "b5926fb1-34da-4b01-8afb-e2b8f4dd34ea",
   "metadata": {},
   "outputs": [
    {
     "data": {
      "text/plain": [
       "(25, 16706)"
      ]
     },
     "execution_count": 19,
     "metadata": {},
     "output_type": "execute_result"
    }
   ],
   "source": [
    "dft_post.shape"
   ]
  },
  {
   "cell_type": "code",
   "execution_count": 8,
   "id": "c0407142-d00a-49c6-acbc-74d4178b6645",
   "metadata": {},
   "outputs": [],
   "source": [
    "dfc_pre = dfc.loc[dft_pre.index]\n",
    "dfc_post = dfc.loc[dft_post.index]"
   ]
  },
  {
   "cell_type": "code",
   "execution_count": 9,
   "id": "a91bb3f9-b511-4321-8268-3a5f2bcfa120",
   "metadata": {},
   "outputs": [],
   "source": [
    "gs = dfg.loc[0:].tolist()"
   ]
  },
  {
   "cell_type": "code",
   "execution_count": 10,
   "id": "492bc464-a5b2-4df3-94dc-003920f48d65",
   "metadata": {
    "scrolled": true
   },
   "outputs": [],
   "source": [
    "def prepare_dfx(dfx):\n",
    "    diff = list(set(gs) - set(dfx.columns))\n",
    "    dfamd = pd.DataFrame([], index = dfx.index, columns = diff).fillna(dfx.mean().min())\n",
    "\n",
    "    return dfamd.join(dfx)[gs]"
   ]
  },
  {
   "cell_type": "code",
   "execution_count": null,
   "id": "119857ee-eb4f-48fd-b808-d22e23bdcc90",
   "metadata": {},
   "outputs": [],
   "source": []
  },
  {
   "cell_type": "code",
   "execution_count": 11,
   "id": "33e5556e-30ce-463a-bc8b-11968d340d3c",
   "metadata": {
    "scrolled": true
   },
   "outputs": [
    {
     "data": {
      "text/plain": [
       "((37, 15673), (25, 15673))"
      ]
     },
     "execution_count": 11,
     "metadata": {},
     "output_type": "execute_result"
    }
   ],
   "source": [
    "dfx_pre = prepare_dfx(dft_pre)\n",
    "dfcx_pre = dfc_pre['tumor.type.tcga'].map(cdict).to_frame(name = 'cancer_code')\n",
    "dfcx_pre = dfcx_pre.join(dfx_pre).fillna(0)\n",
    "\n",
    "dfx_post = prepare_dfx(dft_post)\n",
    "dfcx_post = dfc_post['tumor.type.tcga'].map(cdict).to_frame(name = 'cancer_code')\n",
    "dfcx_post = dfcx_post.join(dfx_post).fillna(0)\n",
    "\n",
    "dfcx_pre.shape, dfcx_post.shape"
   ]
  },
  {
   "cell_type": "code",
   "execution_count": 26,
   "id": "a1e088fb-e9af-4fb8-b110-2fa1ccad7cd1",
   "metadata": {
    "scrolled": true
   },
   "outputs": [
    {
     "data": {
      "text/plain": [
       "CD8 LOW     23\n",
       "CD8 HIGH     2\n",
       "Name: arm, dtype: int64"
      ]
     },
     "execution_count": 26,
     "metadata": {},
     "output_type": "execute_result"
    }
   ],
   "source": [
    "dfc_post.arm.value_counts()"
   ]
  },
  {
   "cell_type": "code",
   "execution_count": 25,
   "id": "2d5cf448-780b-44f6-9b05-a5de232a2dd9",
   "metadata": {},
   "outputs": [
    {
     "data": {
      "text/plain": [
       "(44,)"
      ]
     },
     "execution_count": 25,
     "metadata": {},
     "output_type": "execute_result"
    }
   ],
   "source": [
    "s.shape"
   ]
  },
  {
   "cell_type": "code",
   "execution_count": null,
   "id": "d71d1f75-8c06-474c-bec5-86a2a55f8295",
   "metadata": {},
   "outputs": [],
   "source": []
  },
  {
   "cell_type": "code",
   "execution_count": 15,
   "id": "4b10fbba-56fd-45f4-8780-0085c34e16b4",
   "metadata": {},
   "outputs": [],
   "source": [
    "dfcx_pre.to_csv('./data/AMADEUS_Pre_TPM.tsv', sep = '\\t')\n",
    "dfcx_post.to_csv('./data/AMADEUS_Post_TPM.tsv', sep = '\\t')\n",
    "\n",
    "dfc_pre.to_csv('./data/AMADEUS_Pre_Clinical.tsv', sep = '\\t')\n",
    "dfc_post.to_csv('./data/AMADEUS_Post_Clinical.tsv', sep = '\\t')"
   ]
  },
  {
   "cell_type": "code",
   "execution_count": 33,
   "id": "84d98b4b-f378-4bb6-be23-6b500f1350b2",
   "metadata": {},
   "outputs": [
    {
     "data": {
      "text/plain": [
       "arm       response_label\n",
       "CD8 HIGH  NR                 1\n",
       "          R                  1\n",
       "CD8 LOW   NR                14\n",
       "          R                  6\n",
       "dtype: int64"
      ]
     },
     "execution_count": 33,
     "metadata": {},
     "output_type": "execute_result"
    }
   ],
   "source": [
    "dfc_post.groupby(['arm', 'response_label']).size()"
   ]
  },
  {
   "cell_type": "code",
   "execution_count": 34,
   "id": "53bbf0f9-9a7f-4003-95e8-ff33367658e1",
   "metadata": {},
   "outputs": [
    {
     "data": {
      "text/plain": [
       "arm       response_label\n",
       "CD8 HIGH  NR                 4\n",
       "          R                  1\n",
       "CD8 LOW   NR                17\n",
       "          R                  7\n",
       "dtype: int64"
      ]
     },
     "execution_count": 34,
     "metadata": {},
     "output_type": "execute_result"
    }
   ],
   "source": [
    "dfc_pre.groupby(['arm', 'response_label']).size()"
   ]
  },
  {
   "cell_type": "code",
   "execution_count": 40,
   "id": "768af120-94e6-49ee-94cd-af71a57f6586",
   "metadata": {},
   "outputs": [],
   "source": [
    "pidx = dfc_pre.index.intersection(dfc_post.index)"
   ]
  },
  {
   "cell_type": "code",
   "execution_count": 44,
   "id": "0a3e41a5-5e21-4bcd-8340-b9d2337bce82",
   "metadata": {},
   "outputs": [
    {
     "data": {
      "text/plain": [
       "arm       response_label\n",
       "CD8 HIGH  NR                1\n",
       "          R                 1\n",
       "CD8 LOW   NR                9\n",
       "          R                 4\n",
       "dtype: int64"
      ]
     },
     "execution_count": 44,
     "metadata": {},
     "output_type": "execute_result"
    }
   ],
   "source": [
    "dfc_pre.loc[pidx].groupby(['arm', 'response_label']).size()"
   ]
  },
  {
   "cell_type": "code",
   "execution_count": null,
   "id": "cf522cee-a8ad-45a2-affc-3768f93c7503",
   "metadata": {},
   "outputs": [],
   "source": []
  }
 ],
 "metadata": {
  "kernelspec": {
   "display_name": "Python 3 (ipykernel)",
   "language": "python",
   "name": "python3"
  },
  "language_info": {
   "codemirror_mode": {
    "name": "ipython",
    "version": 3
   },
   "file_extension": ".py",
   "mimetype": "text/x-python",
   "name": "python",
   "nbconvert_exporter": "python",
   "pygments_lexer": "ipython3",
   "version": "3.8.18"
  }
 },
 "nbformat": 4,
 "nbformat_minor": 5
}
