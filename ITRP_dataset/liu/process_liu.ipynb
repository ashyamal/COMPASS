{
 "cells": [
  {
   "cell_type": "code",
   "execution_count": 1,
   "metadata": {},
   "outputs": [],
   "source": [
    "import pandas as pd\n",
    "import numpy as np\n",
    "import matplotlib.pyplot as plt"
   ]
  },
  {
   "cell_type": "code",
   "execution_count": 2,
   "metadata": {},
   "outputs": [
    {
     "data": {
      "text/html": [
       "<div>\n",
       "<style scoped>\n",
       "    .dataframe tbody tr th:only-of-type {\n",
       "        vertical-align: middle;\n",
       "    }\n",
       "\n",
       "    .dataframe tbody tr th {\n",
       "        vertical-align: top;\n",
       "    }\n",
       "\n",
       "    .dataframe thead th {\n",
       "        text-align: right;\n",
       "    }\n",
       "</style>\n",
       "<table border=\"1\" class=\"dataframe\">\n",
       "  <thead>\n",
       "    <tr style=\"text-align: right;\">\n",
       "      <th>response</th>\n",
       "      <th>nonresponder</th>\n",
       "      <th>responder</th>\n",
       "    </tr>\n",
       "    <tr>\n",
       "      <th>dataset</th>\n",
       "      <th></th>\n",
       "      <th></th>\n",
       "    </tr>\n",
       "  </thead>\n",
       "  <tbody>\n",
       "    <tr>\n",
       "      <th>Auslander</th>\n",
       "      <td>34</td>\n",
       "      <td>3</td>\n",
       "    </tr>\n",
       "    <tr>\n",
       "      <th>Gide</th>\n",
       "      <td>42</td>\n",
       "      <td>49</td>\n",
       "    </tr>\n",
       "    <tr>\n",
       "      <th>IMvigor210</th>\n",
       "      <td>230</td>\n",
       "      <td>68</td>\n",
       "    </tr>\n",
       "    <tr>\n",
       "      <th>Kim</th>\n",
       "      <td>33</td>\n",
       "      <td>12</td>\n",
       "    </tr>\n",
       "    <tr>\n",
       "      <th>Liu</th>\n",
       "      <td>72</td>\n",
       "      <td>47</td>\n",
       "    </tr>\n",
       "    <tr>\n",
       "      <th>Prat</th>\n",
       "      <td>16</td>\n",
       "      <td>9</td>\n",
       "    </tr>\n",
       "    <tr>\n",
       "      <th>Riaz</th>\n",
       "      <td>39</td>\n",
       "      <td>10</td>\n",
       "    </tr>\n",
       "  </tbody>\n",
       "</table>\n",
       "</div>"
      ],
      "text/plain": [
       "response    nonresponder  responder\n",
       "dataset                            \n",
       "Auslander             34          3\n",
       "Gide                  42         49\n",
       "IMvigor210           230         68\n",
       "Kim                   33         12\n",
       "Liu                   72         47\n",
       "Prat                  16          9\n",
       "Riaz                  39         10"
      ]
     },
     "execution_count": 2,
     "metadata": {},
     "output_type": "execute_result"
    }
   ],
   "source": [
    "## read the datasets in Nature Comm Paper: kong et al. https://www.nature.com/articles/s41467-022-31535-6\n",
    "# https://static-content.springer.com/esm/art%3A10.1038%2Fs41467-022-31535-6/MediaObjects/41467_2022_31535_MOESM1_ESM.pdf\n",
    "\n",
    "dfd = pd.read_csv('../dataset_stat_nc.csv')\n",
    "dfdt = dfd.groupby(['dataset','response']).size().to_frame(name='size').reset_index()\n",
    "liu = dfd[dfd.dataset=='Liu'].set_index('sampleID')\n",
    "pd.pivot_table(dfdt, 'size', 'response', 'dataset').T"
   ]
  },
  {
   "cell_type": "code",
   "execution_count": 3,
   "metadata": {},
   "outputs": [
    {
     "data": {
      "text/plain": [
       "144"
      ]
     },
     "execution_count": 3,
     "metadata": {},
     "output_type": "execute_result"
    }
   ],
   "source": [
    "patient = pd.read_csv('./raw/clinical_info.csv', sep=',', index_col=0)\n",
    "len(patient)"
   ]
  },
  {
   "cell_type": "markdown",
   "metadata": {},
   "source": [
    "# get label"
   ]
  },
  {
   "cell_type": "code",
   "execution_count": 4,
   "metadata": {},
   "outputs": [],
   "source": [
    "patient.BR.value_counts() \n",
    "#Patients achieving CR or PR as BOR were grouped as responders, \n",
    "#whereas patients showing PD as the best response were referred to as progressors\n",
    "#Becare to the tissue,should be melanomas instead of normal.\n",
    "resmap = {'PD':'nonresponder', 'CR':'responder', 'PR':'responder', 'BOR':'responder'}"
   ]
  },
  {
   "cell_type": "code",
   "execution_count": 5,
   "metadata": {},
   "outputs": [
    {
     "data": {
      "text/html": [
       "<div>\n",
       "<style scoped>\n",
       "    .dataframe tbody tr th:only-of-type {\n",
       "        vertical-align: middle;\n",
       "    }\n",
       "\n",
       "    .dataframe tbody tr th {\n",
       "        vertical-align: top;\n",
       "    }\n",
       "\n",
       "    .dataframe thead th {\n",
       "        text-align: right;\n",
       "    }\n",
       "</style>\n",
       "<table border=\"1\" class=\"dataframe\">\n",
       "  <thead>\n",
       "    <tr style=\"text-align: right;\">\n",
       "      <th></th>\n",
       "      <th>label.liu</th>\n",
       "      <th>label.kong</th>\n",
       "    </tr>\n",
       "  </thead>\n",
       "  <tbody>\n",
       "    <tr>\n",
       "      <th>Patient1</th>\n",
       "      <td>nonresponder</td>\n",
       "      <td>nonresponder</td>\n",
       "    </tr>\n",
       "    <tr>\n",
       "      <th>Patient10</th>\n",
       "      <td>responder</td>\n",
       "      <td>responder</td>\n",
       "    </tr>\n",
       "    <tr>\n",
       "      <th>Patient100</th>\n",
       "      <td>responder</td>\n",
       "      <td>responder</td>\n",
       "    </tr>\n",
       "    <tr>\n",
       "      <th>Patient102</th>\n",
       "      <td>NaN</td>\n",
       "      <td>NaN</td>\n",
       "    </tr>\n",
       "    <tr>\n",
       "      <th>Patient104</th>\n",
       "      <td>responder</td>\n",
       "      <td>NaN</td>\n",
       "    </tr>\n",
       "    <tr>\n",
       "      <th>Patient105</th>\n",
       "      <td>NaN</td>\n",
       "      <td>NaN</td>\n",
       "    </tr>\n",
       "    <tr>\n",
       "      <th>Patient106</th>\n",
       "      <td>responder</td>\n",
       "      <td>responder</td>\n",
       "    </tr>\n",
       "    <tr>\n",
       "      <th>Patient107</th>\n",
       "      <td>responder</td>\n",
       "      <td>responder</td>\n",
       "    </tr>\n",
       "    <tr>\n",
       "      <th>Patient108</th>\n",
       "      <td>nonresponder</td>\n",
       "      <td>nonresponder</td>\n",
       "    </tr>\n",
       "    <tr>\n",
       "      <th>Patient11</th>\n",
       "      <td>nonresponder</td>\n",
       "      <td>nonresponder</td>\n",
       "    </tr>\n",
       "  </tbody>\n",
       "</table>\n",
       "</div>"
      ],
      "text/plain": [
       "               label.liu    label.kong\n",
       "Patient1    nonresponder  nonresponder\n",
       "Patient10      responder     responder\n",
       "Patient100     responder     responder\n",
       "Patient102           NaN           NaN\n",
       "Patient104     responder           NaN\n",
       "Patient105           NaN           NaN\n",
       "Patient106     responder     responder\n",
       "Patient107     responder     responder\n",
       "Patient108  nonresponder  nonresponder\n",
       "Patient11   nonresponder  nonresponder"
      ]
     },
     "execution_count": 5,
     "metadata": {},
     "output_type": "execute_result"
    }
   ],
   "source": [
    "label = patient.BR.map(resmap).to_frame(name = 'label.liu').join(liu.response.to_frame(name = 'label.kong'))\n",
    "label.head(10)"
   ]
  },
  {
   "cell_type": "code",
   "execution_count": 6,
   "metadata": {},
   "outputs": [
    {
     "data": {
      "text/plain": [
       "nonresponder    65\n",
       "responder       55\n",
       "Name: label.liu, dtype: int64"
      ]
     },
     "execution_count": 6,
     "metadata": {},
     "output_type": "execute_result"
    }
   ],
   "source": [
    "label['label.liu'].value_counts()"
   ]
  },
  {
   "cell_type": "code",
   "execution_count": 7,
   "metadata": {},
   "outputs": [
    {
     "data": {
      "text/plain": [
       "nonresponder    72\n",
       "responder       47\n",
       "Name: label.kong, dtype: int64"
      ]
     },
     "execution_count": 7,
     "metadata": {},
     "output_type": "execute_result"
    }
   ],
   "source": [
    "label['label.kong'].value_counts()"
   ]
  },
  {
   "cell_type": "markdown",
   "metadata": {},
   "source": [
    "# get TMB"
   ]
  },
  {
   "cell_type": "markdown",
   "metadata": {},
   "source": [
    "\n",
    "* 1) TMB by [Wang](https://www.nature.com/articles/s41467-022-31535-6#ref-CR63)： TMBpatient=𝑇patient2.0+𝑁𝑇patient×1.，where Tpatient is total number of truncating mutations and NTpatient is the total number of non-truncating mutations. For truncating mutations, we considered nonsense mutations, frame-shift deletion or insertion and splice-site mutations. For non-truncating mutations, we used missense mutations, in-frame deletion or insertion, and nonstop mutations.\n",
    "* 2) TMB by [Dan](https://www.ncbi.nlm.nih.gov/pmc/articles/PMC7710563/)： \n",
    "\n",
    "    Step1: Calculate Total number N of non-synonymous, somatic mutations with eligible classification (list below) in MAF\n",
    "    * \"Frame_Shift_Del\"\n",
    "    * \"Frame_Shift_Ins\" \n",
    "\t* \"In_Frame_Del\" \n",
    "\t* \"In_Frame_Ins\" \n",
    "\t* \"Missense_Mutation\" \n",
    "\t* \"Nonsense_Mutation\" \n",
    "\t* \"Splice_Site\"\n",
    "\t* \"Nonstop_Mutation\" \n",
    "\t* \"Splice_Region\", \n",
    "  \n",
    "  Step 2: Determine the size L of genome coding area of DNA in megabase(Mb), For WES/WGS: L = 30\n",
    "  \n",
    "### 原始paper直接采用第二种 Nonsynonymous非同义突变的个数，我们使用mutaion文件复现"
   ]
  },
  {
   "cell_type": "code",
   "execution_count": 8,
   "metadata": {},
   "outputs": [
    {
     "data": {
      "text/plain": [
       "Missense_Mutation        78346\n",
       "Silent                   44455\n",
       "Nonsense_Mutation         4910\n",
       "Splice_Site               4069\n",
       "Intron                    1219\n",
       "Frame_Shift_Del            447\n",
       "Frame_Shift_Ins            149\n",
       "IGR                        103\n",
       "In_Frame_Del                89\n",
       "3'UTR                       84\n",
       "5'UTR                       52\n",
       "RNA                         33\n",
       "Nonstop_Mutation            32\n",
       "In_Frame_Ins                28\n",
       "lincRNA                     14\n",
       "Start_Codon_Del              4\n",
       "Stop_Codon_Del               3\n",
       "Stop_Codon_Ins               1\n",
       "De_novo_Start_InFrame        1\n",
       "Name: Variant_Classification, dtype: int64"
      ]
     },
     "execution_count": 8,
     "metadata": {},
     "output_type": "execute_result"
    }
   ],
   "source": [
    "VC_NONSYNONYMOUS_LIST = ['Frame_Shift_Del',\n",
    "                         'Frame_Shift_Ins',\n",
    "                         'In_Frame_Del',\n",
    "                         'In_Frame_Ins',\n",
    "                         'Missense_Mutation',\n",
    "                         'Nonsense_Mutation',\n",
    "                         'Splice_Site',\n",
    "                         'Nonstop_Mutation',\n",
    "                         'Splice_Region']\n",
    "\n",
    "truncate_mut_LIST = ['Nonsense_Mutation', 'Frame_Shift_Ins','Frame_Shift_Del','Splice_Site']\n",
    "nontruncate_mut_LIST = ['Missense_Mutation','In_Frame_Del', 'In_Frame_Ins','Nonstop_Mutation']\n",
    "\n",
    "mut = pd.read_csv('./raw/all_mutation.csv', sep=',')\n",
    "mut.Variant_Classification.value_counts()"
   ]
  },
  {
   "cell_type": "code",
   "execution_count": 9,
   "metadata": {},
   "outputs": [],
   "source": [
    "mut['nansynonymous_mut_flag'] = mut.Variant_Classification.isin(VC_NONSYNONYMOUS_LIST)\n",
    "mut['truncate_mut_flag'] = mut.Variant_Classification.isin(truncate_mut_LIST)\n",
    "mut['nontruncate_mut_flag'] = mut.Variant_Classification.isin(nontruncate_mut_LIST)"
   ]
  },
  {
   "cell_type": "code",
   "execution_count": 10,
   "metadata": {},
   "outputs": [],
   "source": [
    "I_calculated_TMB1 = mut.groupby('Patient').nansynonymous_mut_flag.sum()\n",
    "I_calculated_TMB2 = mut.groupby('Patient').apply(lambda x:x.truncate_mut_flag.sum()*2+x.nontruncate_mut_flag.sum())"
   ]
  },
  {
   "cell_type": "code",
   "execution_count": 11,
   "metadata": {},
   "outputs": [],
   "source": [
    "liu_calculated_TMB = patient.nonsyn_muts"
   ]
  },
  {
   "cell_type": "code",
   "execution_count": 12,
   "metadata": {},
   "outputs": [
    {
     "data": {
      "text/plain": [
       "<matplotlib.collections.PathCollection at 0x1057b4ef0>"
      ]
     },
     "execution_count": 12,
     "metadata": {},
     "output_type": "execute_result"
    },
    {
     "data": {
      "image/png": "[encoded data removed]",
      "text/plain": [
       "<Figure size 432x288 with 1 Axes>"
      ]
     },
     "metadata": {
      "needs_background": "light"
     },
     "output_type": "display_data"
    }
   ],
   "source": [
    "plt.scatter(I_calculated_TMB1, liu_calculated_TMB)\n",
    "## same value\n",
    "\n",
    "plt.scatter(I_calculated_TMB2, liu_calculated_TMB)\n",
    "## same value"
   ]
  },
  {
   "cell_type": "code",
   "execution_count": 13,
   "metadata": {},
   "outputs": [
    {
     "data": {
      "text/plain": [
       "<matplotlib.axes._subplots.AxesSubplot at 0x10fc0f0b8>"
      ]
     },
     "execution_count": 13,
     "metadata": {},
     "output_type": "execute_result"
    },
    {
     "data": {
      "image/png": "[encoded data removed]",
      "text/plain": [
       "<Figure size 432x288 with 1 Axes>"
      ]
     },
     "metadata": {
      "needs_background": "light"
     },
     "output_type": "display_data"
    }
   ],
   "source": [
    "tmb1 = np.log2(I_calculated_TMB1/30)\n",
    "tmb2 = np.log2(I_calculated_TMB2/30)\n",
    "\n",
    "tmb1.hist(bins=20)\n",
    "tmb2.hist(bins=20)"
   ]
  },
  {
   "cell_type": "markdown",
   "metadata": {},
   "source": []
  },
  {
   "cell_type": "code",
   "execution_count": 14,
   "metadata": {},
   "outputs": [],
   "source": [
    "# plot roc-based on the TMB:\n",
    "#label"
   ]
  },
  {
   "cell_type": "code",
   "execution_count": 15,
   "metadata": {},
   "outputs": [
    {
     "data": {
      "text/plain": [
       "144"
      ]
     },
     "execution_count": 15,
     "metadata": {},
     "output_type": "execute_result"
    }
   ],
   "source": [
    "patient.BR.value_counts().sum()"
   ]
  },
  {
   "cell_type": "code",
   "execution_count": 16,
   "metadata": {},
   "outputs": [],
   "source": [
    "tmb = tmb1.to_frame('tmb.dan').join(tmb2.to_frame(name = 'tmb.wang'))"
   ]
  },
  {
   "cell_type": "markdown",
   "metadata": {},
   "source": [
    "# get RNA-seq\n",
    "\n",
    "#### while correlations involving transcriptomic features had n = 121 tumor samples with data available."
   ]
  },
  {
   "cell_type": "code",
   "execution_count": 18,
   "metadata": {},
   "outputs": [],
   "source": [
    "tpm = pd.read_csv('./raw/Supplementary Data 2.txt', sep = '\\t', index_col=0)"
   ]
  },
  {
   "cell_type": "code",
   "execution_count": 20,
   "metadata": {},
   "outputs": [
    {
     "data": {
      "text/plain": [
       "(121, 20848)"
      ]
     },
     "execution_count": 20,
     "metadata": {},
     "output_type": "execute_result"
    }
   ],
   "source": [
    "tpm.shape"
   ]
  },
  {
   "cell_type": "code",
   "execution_count": 29,
   "metadata": {},
   "outputs": [],
   "source": [
    "df = pd.DataFrame(index = tpm.index).join(label).join(tmb)"
   ]
  },
  {
   "cell_type": "code",
   "execution_count": 31,
   "metadata": {},
   "outputs": [
    {
     "data": {
      "text/plain": [
       "nonresponder    56\n",
       "responder       47\n",
       "Name: label.liu, dtype: int64"
      ]
     },
     "execution_count": 31,
     "metadata": {},
     "output_type": "execute_result"
    }
   ],
   "source": [
    "df['label.liu'].value_counts()"
   ]
  },
  {
   "cell_type": "code",
   "execution_count": 32,
   "metadata": {},
   "outputs": [
    {
     "data": {
      "text/plain": [
       "nonresponder    72\n",
       "responder       47\n",
       "Name: label.kong, dtype: int64"
      ]
     },
     "execution_count": 32,
     "metadata": {},
     "output_type": "execute_result"
    }
   ],
   "source": [
    "df['label.kong'].value_counts()"
   ]
  },
  {
   "cell_type": "code",
   "execution_count": 94,
   "metadata": {},
   "outputs": [],
   "source": [
    "df = df.join(tpm)"
   ]
  },
  {
   "cell_type": "code",
   "execution_count": 97,
   "metadata": {},
   "outputs": [],
   "source": [
    "df.sort_index().to_csv('./processed/data.csv')"
   ]
  },
  {
   "cell_type": "code",
   "execution_count": null,
   "metadata": {},
   "outputs": [],
   "source": []
  }
 ],
 "metadata": {
  "kernelspec": {
   "display_name": "Python 3",
   "language": "python",
   "name": "python3"
  },
  "language_info": {
   "codemirror_mode": {
    "name": "ipython",
    "version": 3
   },
   "file_extension": ".py",
   "mimetype": "text/x-python",
   "name": "python",
   "nbconvert_exporter": "python",
   "pygments_lexer": "ipython3",
   "version": "3.6.5"
  }
 },
 "nbformat": 4,
 "nbformat_minor": 4
}
