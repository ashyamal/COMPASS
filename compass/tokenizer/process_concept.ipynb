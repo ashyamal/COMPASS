{
 "cells": [
  {
   "cell_type": "code",
   "execution_count": 1,
   "id": "017d64e3-253c-4f71-b1b6-8a9e2f29e970",
   "metadata": {},
   "outputs": [],
   "source": [
    "import pandas as pd"
   ]
  },
  {
   "cell_type": "code",
   "execution_count": 2,
   "id": "5649e387-b1ca-4f26-b536-054b124fdb25",
   "metadata": {},
   "outputs": [],
   "source": [
    "df = pd.read_csv('./conception_v9.1.tsv',sep='\\t', index_col=0)"
   ]
  },
  {
   "cell_type": "code",
   "execution_count": 3,
   "id": "1826d555-19d7-4204-a8b3-dd7c346f0149",
   "metadata": {},
   "outputs": [],
   "source": [
    "all_genes = set(pd.read_json('./gene_tokens_long.json', orient='index').loc[0:][0].tolist())"
   ]
  },
  {
   "cell_type": "code",
   "execution_count": 4,
   "id": "c392361a-5d2c-4c54-bfbf-4fb62d19bdab",
   "metadata": {},
   "outputs": [],
   "source": [
    "def change_set(x):\n",
    "    x1 = pd.Series(list(set(x.split(':')) & all_genes)).sort_values().tolist()\n",
    "    x2 = ':'.join(x1)\n",
    "    return x2"
   ]
  },
  {
   "cell_type": "code",
   "execution_count": 5,
   "id": "06d17c05-1c53-49a4-be0d-e1e5a20b8914",
   "metadata": {},
   "outputs": [],
   "source": [
    "df['Genes'] = df['Genes'].apply(change_set)"
   ]
  },
  {
   "cell_type": "code",
   "execution_count": 6,
   "id": "dd5111bb-e95f-480e-8845-f1654a913e5d",
   "metadata": {},
   "outputs": [],
   "source": [
    "df['n_genes'] = df['Genes'].apply(lambda x:x.split(':')).apply(lambda x:len(x))"
   ]
  },
  {
   "cell_type": "code",
   "execution_count": 7,
   "id": "6a53e851-1175-430f-bd4f-abab96ca472d",
   "metadata": {},
   "outputs": [
    {
     "data": {
      "text/plain": [
       "BroadCelltypePathway\n",
       "Stem                   4\n",
       "Basophil               5\n",
       "Mesothelial            6\n",
       "Epithelial             7\n",
       "Immune_checkpoint     13\n",
       "Endothelial           13\n",
       "Bcell_general         14\n",
       "Blood_cell            15\n",
       "TLS                   15\n",
       "Apoptosis_pathway     16\n",
       "Memory_Bcell          17\n",
       "Fibroblast            20\n",
       "EMT_pathway           21\n",
       "Stroma                21\n",
       "Monocyte              26\n",
       "Naive_Tcell           30\n",
       "Cytotoxic_Tcell       33\n",
       "TGFb_pathway          35\n",
       "Plasma_cell           35\n",
       "IFNg_pathway          35\n",
       "Naive_Bcell           37\n",
       "Reference             39\n",
       "Eosinophil            39\n",
       "Memory_Tcell          42\n",
       "DDR_pathway           48\n",
       "Mast                  49\n",
       "Exhausted_Tcell       50\n",
       "Myeloid               55\n",
       "CD4_Tcell             55\n",
       "Innate_lymphoid       55\n",
       "Tcell_general         56\n",
       "Neutrophil            57\n",
       "Treg                  64\n",
       "NKcell                68\n",
       "DC                    68\n",
       "PLF_pathway           74\n",
       "Macrophage           100\n",
       "CD8_Tcell            102\n",
       "Cytokine             149\n",
       "Name: n_genes, dtype: int64"
      ]
     },
     "execution_count": 7,
     "metadata": {},
     "output_type": "execute_result"
    }
   ],
   "source": [
    "df.groupby('BroadCelltypePathway').n_genes.sum().sort_values()"
   ]
  },
  {
   "cell_type": "code",
   "execution_count": 8,
   "id": "06d9269a-a51f-4c53-80d2-1a53ffee7db1",
   "metadata": {},
   "outputs": [],
   "source": [
    "df.to_csv('./conception_v9.1.1.tsv',sep='\\t')"
   ]
  },
  {
   "cell_type": "code",
   "execution_count": null,
   "id": "2ce3b7ba-9b56-47d2-b5e3-c13284861585",
   "metadata": {},
   "outputs": [],
   "source": []
  },
  {
   "cell_type": "code",
   "execution_count": null,
   "id": "5c699fe5-2896-4658-b259-c3cf2ee2d984",
   "metadata": {},
   "outputs": [],
   "source": []
  },
  {
   "cell_type": "code",
   "execution_count": null,
   "id": "d6701b0e-5db5-4390-af03-d4f489d1a54e",
   "metadata": {},
   "outputs": [],
   "source": []
  },
  {
   "cell_type": "code",
   "execution_count": null,
   "id": "2b28e9de-7c48-42b0-a606-11d12a161bee",
   "metadata": {},
   "outputs": [],
   "source": []
  }
 ],
 "metadata": {
  "kernelspec": {
   "display_name": "Python 3 (ipykernel)",
   "language": "python",
   "name": "python3"
  },
  "language_info": {
   "codemirror_mode": {
    "name": "ipython",
    "version": 3
   },
   "file_extension": ".py",
   "mimetype": "text/x-python",
   "name": "python",
   "nbconvert_exporter": "python",
   "pygments_lexer": "ipython3",
   "version": "3.8.18"
  }
 },
 "nbformat": 4,
 "nbformat_minor": 5
}
