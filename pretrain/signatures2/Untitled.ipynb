{
 "cells": [
  {
   "cell_type": "code",
   "execution_count": 1,
   "id": "4a99a61e-5c4b-4cbe-99bf-e4bb4ec53dcb",
   "metadata": {},
   "outputs": [
    {
     "name": "stdout",
     "output_type": "stream",
     "text": [
      "  adding: PretrainTCGA/mlp_cnv_False/itrp_response_label.png (deflated 5%)\n",
      "  adding: PretrainTCGA/mlp_cnv_True/itrp_response_label.png (deflated 5%)\n",
      "  adding: PretrainTCGA/mlp_ctc_False/itrp_response_label.png (deflated 5%)\n",
      "  adding: PretrainTCGA/mlp_ctc_True/itrp_response_label.png (deflated 5%)\n",
      "  adding: PretrainTCGA/mlp_msi_False/itrp_response_label.png (deflated 5%)\n",
      "  adding: PretrainTCGA/mlp_msi_True/itrp_response_label.png (deflated 5%)\n",
      "  adding: PretrainTCGA/mlp_oss_False/itrp_response_label.png (deflated 5%)\n",
      "  adding: PretrainTCGA/mlp_oss_True/itrp_response_label.png (deflated 5%)\n",
      "  adding: PretrainTCGA/mlp_ost_False/itrp_response_label.png (deflated 5%)\n",
      "  adding: PretrainTCGA/mlp_ost_True/itrp_response_label.png (deflated 5%)\n",
      "  adding: PretrainTCGA/mlp_pfs_False/itrp_response_label.png (deflated 5%)\n",
      "  adding: PretrainTCGA/mlp_pfs_True/itrp_response_label.png (deflated 5%)\n",
      "  adding: PretrainTCGA/mlp_pft_False/itrp_response_label.png (deflated 5%)\n",
      "  adding: PretrainTCGA/mlp_pft_True/itrp_response_label.png (deflated 5%)\n",
      "  adding: PretrainTCGA/mlp_rps_False/itrp_response_label.png (deflated 5%)\n",
      "  adding: PretrainTCGA/mlp_rps_True/itrp_response_label.png (deflated 5%)\n",
      "  adding: PretrainTCGA/mlp_tmb_False/itrp_response_label.png (deflated 5%)\n",
      "  adding: PretrainTCGA/mlp_tmb_True/itrp_response_label.png (deflated 5%)\n",
      "  adding: PretrainTCGA/transformer_cnv_False/itrp_response_label.png (deflated 5%)\n",
      "  adding: PretrainTCGA/transformer_cnv_True/itrp_response_label.png (deflated 5%)\n",
      "  adding: PretrainTCGA/transformer_ctc_False/itrp_response_label.png (deflated 5%)\n",
      "  adding: PretrainTCGA/transformer_ctc_True/itrp_response_label.png (deflated 5%)\n",
      "  adding: PretrainTCGA/transformer_msi_False/itrp_response_label.png (deflated 5%)\n",
      "  adding: PretrainTCGA/transformer_msi_True/itrp_response_label.png (deflated 5%)\n",
      "  adding: PretrainTCGA/transformer_oss_False/itrp_response_label.png (deflated 5%)\n",
      "  adding: PretrainTCGA/transformer_oss_True/itrp_response_label.png (deflated 5%)\n",
      "  adding: PretrainTCGA/transformer_ost_False/itrp_response_label.png (deflated 5%)\n",
      "  adding: PretrainTCGA/transformer_ost_True/itrp_response_label.png (deflated 5%)\n",
      "  adding: PretrainTCGA/transformer_pfs_False/itrp_response_label.png (deflated 5%)\n",
      "  adding: PretrainTCGA/transformer_pfs_True/itrp_response_label.png (deflated 5%)\n",
      "  adding: PretrainTCGA/transformer_pft_False/itrp_response_label.png (deflated 5%)\n",
      "  adding: PretrainTCGA/transformer_pft_True/itrp_response_label.png (deflated 5%)\n",
      "  adding: PretrainTCGA/transformer_rps_False/itrp_response_label.png (deflated 6%)\n",
      "  adding: PretrainTCGA/transformer_rps_True/itrp_response_label.png (deflated 5%)\n",
      "  adding: PretrainTCGA/transformer_tmb_False/itrp_response_label.png (deflated 5%)\n",
      "  adding: PretrainTCGA/transformer_tmb_True/itrp_response_label.png (deflated 5%)\n"
     ]
    }
   ],
   "source": [
    "! zip -r ./.zip ./PretrainTCGA/transformer_*/itrp_response_label.png"
   ]
  },
  {
   "cell_type": "code",
   "execution_count": null,
   "id": "c1572bc1-3690-4b5e-842f-ab3bb0242569",
   "metadata": {},
   "outputs": [],
   "source": []
  },
  {
   "cell_type": "code",
   "execution_count": null,
   "id": "ecd877c5-c72c-4aa0-8afe-7c434b1f08b5",
   "metadata": {},
   "outputs": [],
   "source": []
  },
  {
   "cell_type": "code",
   "execution_count": null,
   "id": "020a13ae-017d-4d6d-b400-260308133c14",
   "metadata": {},
   "outputs": [],
   "source": []
  },
  {
   "cell_type": "code",
   "execution_count": null,
   "id": "628833a2-ece1-4ee7-b564-6494392c262f",
   "metadata": {},
   "outputs": [],
   "source": []
  },
  {
   "cell_type": "code",
   "execution_count": null,
   "id": "de21454f-4b8a-487c-be3e-dd5e9f20cd85",
   "metadata": {},
   "outputs": [],
   "source": []
  },
  {
   "cell_type": "code",
   "execution_count": null,
   "id": "43cd7123-9e2a-4bfe-90a3-2cb026e95fcd",
   "metadata": {},
   "outputs": [],
   "source": []
  },
  {
   "cell_type": "code",
   "execution_count": null,
   "id": "0b26e9d8-2b78-483c-a262-9e948ac508d3",
   "metadata": {},
   "outputs": [],
   "source": []
  }
 ],
 "metadata": {
  "kernelspec": {
   "display_name": "Python 3 (ipykernel)",
   "language": "python",
   "name": "python3"
  },
  "language_info": {
   "codemirror_mode": {
    "name": "ipython",
    "version": 3
   },
   "file_extension": ".py",
   "mimetype": "text/x-python",
   "name": "python",
   "nbconvert_exporter": "python",
   "pygments_lexer": "ipython3",
   "version": "3.11.4"
  }
 },
 "nbformat": 4,
 "nbformat_minor": 5
}
