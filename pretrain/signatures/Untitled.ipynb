{
 "cells": [
  {
   "cell_type": "code",
   "execution_count": 2,
   "id": "6f1e75e0-2327-4ef7-a3fe-d30661fa082a",
   "metadata": {},
   "outputs": [],
   "source": [
    "import wandb\n",
    "import torch\n",
    "import torch.nn as nn\n",
    "from sklearn.metrics import f1_score, roc_auc_score\n",
    "import numpy as np\n",
    "import torch.nn.functional as F\n",
    "from torch.nn import Sequential, Linear, ModuleList, ReLU, Dropout\n",
    "from copy import deepcopy \n",
    "from tqdm import tqdm\n",
    "from sklearn.metrics import f1_score, roc_auc_score, accuracy_score,roc_curve\n",
    "import torch.optim as optim\n"
   ]
  },
  {
   "cell_type": "code",
   "execution_count": 3,
   "id": "c015fbb9-e09d-487a-b76c-7fc55ca08439",
   "metadata": {},
   "outputs": [],
   "source": [
    "from torchvision.ops import MLP\n",
    "#net = MLP(in_channels=df.shape[1] - 2, hidden_channels=[1000,1000,1000,1000,])\n"
   ]
  },
  {
   "cell_type": "code",
   "execution_count": 7,
   "id": "e97e4b0a-7822-4e23-98e0-076d01ee9231",
   "metadata": {},
   "outputs": [
    {
     "data": {
      "text/plain": [
       "MLP(\n",
       "  (0): Linear(in_features=875, out_features=512, bias=True)\n",
       "  (1): BatchNorm1d(512, eps=1e-05, momentum=0.1, affine=True, track_running_stats=True)\n",
       "  (2): ReLU()\n",
       "  (3): Dropout(p=0.0, inplace=False)\n",
       "  (4): Linear(in_features=512, out_features=256, bias=True)\n",
       "  (5): BatchNorm1d(256, eps=1e-05, momentum=0.1, affine=True, track_running_stats=True)\n",
       "  (6): ReLU()\n",
       "  (7): Dropout(p=0.0, inplace=False)\n",
       "  (8): Linear(in_features=256, out_features=128, bias=True)\n",
       "  (9): Dropout(p=0.0, inplace=False)\n",
       ")"
      ]
     },
     "execution_count": 7,
     "metadata": {},
     "output_type": "execute_result"
    }
   ],
   "source": []
  },
  {
   "cell_type": "code",
   "execution_count": null,
   "id": "876a5b87-d520-4c21-9c90-5fff6fcb93d1",
   "metadata": {},
   "outputs": [],
   "source": []
  },
  {
   "cell_type": "code",
   "execution_count": null,
   "id": "af86fc8e-4826-4107-ace2-af605316605f",
   "metadata": {},
   "outputs": [],
   "source": []
  },
  {
   "cell_type": "code",
   "execution_count": null,
   "id": "678cb09e-51eb-44e4-8863-5b3ba6f9f553",
   "metadata": {},
   "outputs": [],
   "source": []
  }
 ],
 "metadata": {
  "kernelspec": {
   "display_name": "Python 3 (ipykernel)",
   "language": "python",
   "name": "python3"
  },
  "language_info": {
   "codemirror_mode": {
    "name": "ipython",
    "version": 3
   },
   "file_extension": ".py",
   "mimetype": "text/x-python",
   "name": "python",
   "nbconvert_exporter": "python",
   "pygments_lexer": "ipython3",
   "version": "3.11.4"
  }
 },
 "nbformat": 4,
 "nbformat_minor": 5
}
