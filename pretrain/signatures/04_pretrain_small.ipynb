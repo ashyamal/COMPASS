{
 "cells": [
  {
   "cell_type": "code",
   "execution_count": 1,
   "id": "39cef764-1e96-47f8-bd9c-fa2ef880218e",
   "metadata": {},
   "outputs": [
    {
     "name": "stderr",
     "output_type": "stream",
     "text": [
      "/home/was966/micromamba/envs/RNA/lib/python3.11/site-packages/umap/distances.py:1063: NumbaDeprecationWarning: The 'nopython' keyword argument was not supplied to the 'numba.jit' decorator. The implicit default value for this argument is currently False, but it will be changed to True in Numba 0.59.0. See https://numba.readthedocs.io/en/stable/reference/deprecation.html#deprecation-of-object-mode-fall-back-behaviour-when-using-jit for details.\n",
      "  @numba.jit()\n",
      "/home/was966/micromamba/envs/RNA/lib/python3.11/site-packages/umap/distances.py:1071: NumbaDeprecationWarning: The 'nopython' keyword argument was not supplied to the 'numba.jit' decorator. The implicit default value for this argument is currently False, but it will be changed to True in Numba 0.59.0. See https://numba.readthedocs.io/en/stable/reference/deprecation.html#deprecation-of-object-mode-fall-back-behaviour-when-using-jit for details.\n",
      "  @numba.jit()\n",
      "/home/was966/micromamba/envs/RNA/lib/python3.11/site-packages/umap/distances.py:1086: NumbaDeprecationWarning: The 'nopython' keyword argument was not supplied to the 'numba.jit' decorator. The implicit default value for this argument is currently False, but it will be changed to True in Numba 0.59.0. See https://numba.readthedocs.io/en/stable/reference/deprecation.html#deprecation-of-object-mode-fall-back-behaviour-when-using-jit for details.\n",
      "  @numba.jit()\n",
      "/home/was966/micromamba/envs/RNA/lib/python3.11/site-packages/umap/umap_.py:660: NumbaDeprecationWarning: The 'nopython' keyword argument was not supplied to the 'numba.jit' decorator. The implicit default value for this argument is currently False, but it will be changed to True in Numba 0.59.0. See https://numba.readthedocs.io/en/stable/reference/deprecation.html#deprecation-of-object-mode-fall-back-behaviour-when-using-jit for details.\n",
      "  @numba.jit()\n",
      "/home/was966/micromamba/envs/RNA/lib/python3.11/site-packages/umap/plot.py:203: NumbaDeprecationWarning: The 'nopython' keyword argument was not supplied to the 'numba.jit' decorator. The implicit default value for this argument is currently False, but it will be changed to True in Numba 0.59.0. See https://numba.readthedocs.io/en/stable/reference/deprecation.html#deprecation-of-object-mode-fall-back-behaviour-when-using-jit for details.\n",
      "  @numba.jit()\n"
     ]
    }
   ],
   "source": [
    "import wandb\n",
    "import os\n",
    "import umap\n",
    "import torch\n",
    "import umap.plot\n",
    "import torch.backends.cudnn as cudnn\n",
    "import torch.nn as nn\n",
    "import torch.nn.functional as F\n",
    "from torch.utils.data import Dataset\n",
    "from torchvision.transforms import transforms\n",
    "import pandas as pd\n",
    "import torch.utils.data as data\n",
    "from sklearn.model_selection import train_test_split\n",
    "from copy import deepcopy\n",
    "import numpy as np\n",
    "from sklearn.metrics import confusion_matrix, ConfusionMatrixDisplay,RocCurveDisplay\n",
    "from torch.nn.functional import normalize\n",
    "from sklearn.metrics import f1_score, roc_auc_score, accuracy_score,roc_curve\n",
    "from pytorch_metric_learning import losses\n",
    "from scipy import stats\n",
    "import matplotlib.pyplot as plt\n",
    "\n",
    "\n",
    "from utils import load_data, gene_signatures\n",
    "from trainer import SimCLR, Trainer, classifier\n",
    "from aug import domain_aug, Gaussian,RandomMask,FixedSigAug, RandomSigAug, normal_mixup\n",
    "from losses import SupConLoss\n",
    "import seaborn as sns\n",
    "import os, umap\n",
    "\n",
    "def word_to_num_func(word):\n",
    "    return word_to_num.get(word, 0)\n",
    "\n",
    "def num_to_word_func(num):\n",
    "    return num2word.get(num, 'unknown')\n",
    "\n",
    "class ContrastiveLearningViewGenerator(object):\n",
    "    \"\"\"Take two random crops of one image as the query and key.\"\"\"\n",
    "\n",
    "    def __init__(self, base_transform, n_views=2):\n",
    "        self.base_transform = base_transform\n",
    "        self.n_views = n_views\n",
    "\n",
    "    def __call__(self, x, y, x2):\n",
    "        return [self.base_transform(x, y, x2) for i in range(self.n_views)]\n",
    "\n",
    "\n",
    "class Gene_data(Dataset):\n",
    "    def __init__(self, X_train, y_train, transform=None):\n",
    "        if torch.is_tensor(X_train):\n",
    "            x = X_train.clone().detach()\n",
    "            self.x_train = normalize(torch.log(x+1), p=2.0, dim = 0)\n",
    "            self.y_train = torch.tensor(y_train,dtype=torch.int32)\n",
    "        else:\n",
    "            x = torch.tensor(X_train.values,dtype=torch.float32).clone().detach()\n",
    "            self.x_train = normalize(torch.log(x+1), p=2.0, dim = 0)\n",
    "            self.y_train = torch.tensor(y_train.values,dtype=torch.int32)\n",
    "        self.transform = transform\n",
    "        self.ridx = np.where(self.y_train==1)[0]\n",
    "        self.nridx = np.where(self.y_train==0)[0]\n",
    "        self.test = 0\n",
    "        \n",
    "\n",
    "    def __len__(self):\n",
    "        return len(self.y_train)\n",
    "\n",
    "    \n",
    "    def __getitem__(self, idx):\n",
    "        x = self.x_train[idx]\n",
    "        y = self.y_train[idx]\n",
    "        if self.transform is not None:\n",
    "            if y == 1:\n",
    "                mixup_idx = np.random.choice(self.ridx)\n",
    "            else:\n",
    "                mixup_idx = np.random.choice(self.nridx)\n",
    "            x2 = self.x_train[mixup_idx]\n",
    "            x = self.transform(x, y, x2)\n",
    "            # x = [self.transform[0](x,y, x2), self.transform[1](x, y, x2)]\n",
    "        return x, y"
   ]
  },
  {
   "cell_type": "code",
   "execution_count": 34,
   "id": "4dab5aef-5dbb-45d6-a33c-3caa8431e57c",
   "metadata": {},
   "outputs": [],
   "source": [
    "cudnn.deterministic = True\n",
    "cudnn.benchmark = True\n",
    "NUM_WORKERS = 1\n",
    "feat_dim = 64\n",
    "proj_dim = 32\n",
    "lr = 1e-3\n",
    "weight_decay = 1e-4\n",
    "max_epochs = 500\n",
    "device='cuda'\n",
    "tmp = 0.2\n",
    "batch_size = 512 "
   ]
  },
  {
   "cell_type": "code",
   "execution_count": 35,
   "id": "17ed0404-d578-421c-9dde-a3821b3cc33c",
   "metadata": {},
   "outputs": [],
   "source": [
    "# Load Datasets\n",
    "X, y = torch.load('preprocessed/X.pt'), torch.load('preprocessed/y.pt')\n",
    "tcga = torch.load('preprocessed/tcga_x.pt')\n",
    "cases = torch.load('preprocessed/tcga_y.pt')\n",
    "\n",
    "normal = torch.load('preprocessed/tcga_normal.pt')\n",
    "duplicate_cols = tcga.columns[tcga.columns.duplicated()]\n",
    "tcga.drop(columns=duplicate_cols, inplace=True)\n",
    "t5 = np.loadtxt('top10k.txt')"
   ]
  },
  {
   "cell_type": "code",
   "execution_count": 36,
   "id": "9c09f6a2-44b8-46b1-b7e2-49775b3a5b9c",
   "metadata": {},
   "outputs": [
    {
     "name": "stdout",
     "output_type": "stream",
     "text": [
      "272\n"
     ]
    }
   ],
   "source": [
    "X = X.iloc[:, t5]\n",
    "genes =  X.columns.intersection(tcga.columns)\n",
    "X = X[genes] \n",
    "genes = X.columns\n",
    "tcga = tcga[genes]\n",
    "normal = normal[genes]\n",
    "signs = gene_signatures(genes).squeeze()\n",
    "\n",
    "#### Reduce feature space\n",
    "tcga = tcga.iloc[:,signs]\n",
    "normal = normal.iloc[:,signs]\n",
    "\n",
    "b, c = np.unique(cases, return_inverse=True)\n",
    "word_to_num = {b[i]: i for i in range(len(b))}\n",
    "num2word = {i: b[i] for i in range(len(b))}\n",
    "arr_nums = np.vectorize(word_to_num_func)(cases)"
   ]
  },
  {
   "cell_type": "code",
   "execution_count": 37,
   "id": "a78cef77-29af-4321-bdcf-4473177f90ee",
   "metadata": {},
   "outputs": [],
   "source": [
    "train_normal = Gene_data(normal, pd.Series([0]), None)\n",
    "contrast_transforms = transforms.RandomChoice([normal_mixup(train_normal, 0.7), Gaussian(0.05)])\n",
    "train_tcga = Gene_data(tcga, pd.Series(np.zeros(len(c))), transform=ContrastiveLearningViewGenerator(contrast_transforms))\n",
    "tcga_loader = data.DataLoader(train_tcga, batch_size=batch_size, shuffle=True,\n",
    "                                drop_last=True, pin_memory=True, num_workers=NUM_WORKERS)"
   ]
  },
  {
   "cell_type": "code",
   "execution_count": null,
   "id": "f3e4c7c7-c375-4399-8d2d-ead232f87637",
   "metadata": {},
   "outputs": [],
   "source": []
  },
  {
   "cell_type": "code",
   "execution_count": 38,
   "id": "d87ecf92-bbaf-44bb-ae45-c30ffad48d34",
   "metadata": {},
   "outputs": [],
   "source": [
    "input_dim = 272"
   ]
  },
  {
   "cell_type": "code",
   "execution_count": 39,
   "id": "bbd5fb0d-d046-4801-9586-93c5e5cef8ea",
   "metadata": {
    "scrolled": true
   },
   "outputs": [
    {
     "name": "stderr",
     "output_type": "stream",
     "text": [
      "Failed to detect the name of this notebook, you can set it manually with the WANDB_NOTEBOOK_NAME environment variable to enable code saving.\n",
      "\u001b[34m\u001b[1mwandb\u001b[0m: Currently logged in as: \u001b[33msenwanxiang\u001b[0m. Use \u001b[1m`wandb login --relogin`\u001b[0m to force relogin\n"
     ]
    },
    {
     "data": {
      "text/html": [
       "Tracking run with wandb version 0.15.12"
      ],
      "text/plain": [
       "<IPython.core.display.HTML object>"
      ]
     },
     "metadata": {},
     "output_type": "display_data"
    },
    {
     "data": {
      "text/html": [
       "Run data is saved locally in <code>/home/was966/Research/Pretrain_Immune_Response/wandb/run-20231010_084930-igtd8fkx</code>"
      ],
      "text/plain": [
       "<IPython.core.display.HTML object>"
      ]
     },
     "metadata": {},
     "output_type": "display_data"
    },
    {
     "data": {
      "text/html": [
       "Syncing run <strong><a href='https://wandb.ai/senwanxiang/itrp/runs/igtd8fkx' target=\"_blank\">TCGA-Pretrain</a></strong> to <a href='https://wandb.ai/senwanxiang/itrp' target=\"_blank\">Weights & Biases</a> (<a href='https://wandb.me/run' target=\"_blank\">docs</a>)<br/>"
      ],
      "text/plain": [
       "<IPython.core.display.HTML object>"
      ]
     },
     "metadata": {},
     "output_type": "display_data"
    },
    {
     "data": {
      "text/html": [
       " View project at <a href='https://wandb.ai/senwanxiang/itrp' target=\"_blank\">https://wandb.ai/senwanxiang/itrp</a>"
      ],
      "text/plain": [
       "<IPython.core.display.HTML object>"
      ]
     },
     "metadata": {},
     "output_type": "display_data"
    },
    {
     "data": {
      "text/html": [
       " View run at <a href='https://wandb.ai/senwanxiang/itrp/runs/igtd8fkx' target=\"_blank\">https://wandb.ai/senwanxiang/itrp/runs/igtd8fkx</a>"
      ],
      "text/plain": [
       "<IPython.core.display.HTML object>"
      ]
     },
     "metadata": {},
     "output_type": "display_data"
    },
    {
     "name": "stdout",
     "output_type": "stream",
     "text": [
      "20.224027232119912\n",
      "19.853472057141754\n",
      "19.825847826505964\n",
      "19.81852200156764\n",
      "19.814883483083623\n",
      "19.812653692145098\n",
      "19.810854158903425\n",
      "19.809306696841592\n",
      "19.808454212389496\n",
      "19.807733234606292\n",
      "19.807015469199733\n",
      "19.80656603762978\n",
      "19.80628907053094\n",
      "19.805822673596833\n",
      "19.805646695588763\n",
      "19.805432670994808\n",
      "19.805217843306693\n",
      "19.805089549014443\n",
      "19.804887972379987\n",
      "19.804831856175472\n",
      "19.80470878199527\n",
      "19.804709484702663\n",
      "19.80458641052246\n",
      "19.804535213269684\n",
      "19.804550973992598\n",
      "19.80449786939119\n",
      "19.804424988596065\n",
      "19.804382926539372\n",
      "19.804358833714534\n",
      "19.804295288889033\n",
      "19.80432972155119\n",
      "19.80428243938245\n",
      "19.804162577578897\n",
      "19.80403167323062\n",
      "19.803972946970088\n",
      "19.80390287700452\n",
      "19.803767656025133\n",
      "19.803640164827044\n",
      "19.803524218107526\n",
      "19.803413893047132\n",
      "19.803354363692435\n",
      "19.803170354742754\n",
      "19.803084624441045\n",
      "19.802954623573704\n",
      "19.802833757902448\n",
      "19.802797016344574\n",
      "19.80267203481574\n",
      "19.80261933176141\n",
      "19.802499670731393\n",
      "19.802448172318307\n",
      "19.80238743832237\n",
      "19.80230170802066\n",
      "19.80227982370477\n",
      "19.80223906667609\n",
      "19.802170602898848\n",
      "19.8021529348273\n",
      "19.80212432459781\n",
      "19.802073629278887\n",
      "19.802045520983246\n",
      "19.80202193009226\n",
      "19.80200235467208\n",
      "19.801976254111842\n",
      "19.801970331292402\n",
      "19.80196139686986\n",
      "19.80193459360223\n",
      "19.80192114177503\n",
      "19.801909697683232\n",
      "19.80189343502647\n",
      "19.801895342375104\n",
      "19.801902971769636\n",
      "19.801870647229645\n",
      "19.801883797896537\n",
      "19.801877774690325\n",
      "19.801878276624176\n",
      "19.80187345805921\n",
      "19.80185287877133\n",
      "19.801856593081826\n",
      "19.801850871035928\n",
      "19.801872052644427\n",
      "19.80185227645071\n",
      "19.801861913580645\n",
      "19.801855990761204\n",
      "19.801860508165863\n",
      "19.801848562140215\n",
      "19.801844044735557\n",
      "19.801842739707546\n",
      "19.801829488653887\n",
      "19.801829589040654\n",
      "19.80182557356985\n",
      "19.80181764301501\n",
      "19.801809110139544\n",
      "19.80180007533023\n",
      "19.801800175717002\n",
      "19.80178331073962\n",
      "19.8017799979762\n",
      "19.801769156205026\n",
      "19.80175098619963\n",
      "19.80175249200118\n",
      "19.801729001496966\n",
      "19.801721572875977\n",
      "19.801713040000514\n",
      "19.80170209784257\n",
      "19.801695171155426\n",
      "19.801686939440277\n",
      "19.801675093801396\n",
      "19.801664553190534\n",
      "19.801661441200658\n",
      "19.80164909362793\n",
      "19.801641765393708\n",
      "19.801639657271537\n",
      "19.801632228650544\n",
      "19.801621286492598\n",
      "19.80162279229415\n",
      "19.801616367540863\n",
      "19.80160903930664\n",
      "19.801613255550986\n",
      "19.8016001048841\n",
      "19.801598699469317\n",
      "19.801599101016397\n",
      "19.80159568786621\n",
      "19.80159488477205\n",
      "19.801590166593854\n",
      "19.801590668527705\n",
      "19.80158835963199\n",
      "19.8015886607923\n",
      "19.801586653056898\n",
      "19.801589162726152\n",
      "19.801587456151058\n",
      "19.801582035265472\n",
      "19.8015819348787\n",
      "19.80158354106702\n",
      "19.801583039133174\n",
      "19.80158755653783\n",
      "19.801578421341745\n",
      "19.801582436812552\n",
      "19.801578822888825\n",
      "19.801579324822676\n",
      "19.80157641360634\n",
      "19.80158173410516\n",
      "19.801572197361995\n",
      "19.80157470703125\n",
      "19.801572096975224\n",
      "19.801569185758893\n",
      "19.801571695428144\n",
      "19.801565571835166\n",
      "19.801565069901315\n",
      "19.801564668354235\n",
      "19.801558845921566\n",
      "19.80155553315815\n",
      "19.801556838186162\n",
      "19.801553123875667\n",
      "19.801545896028216\n",
      "19.80154579564145\n",
      "19.801541980944183\n",
      "19.801538768567536\n",
      "19.801534351549652\n",
      "19.801530838012695\n",
      "19.801530336078844\n",
      "19.801527726022822\n",
      "19.801523108231393\n",
      "19.801517787732575\n",
      "19.80152079933568\n",
      "19.801516583091335\n",
      "19.80151236684699\n",
      "19.801511362979287\n",
      "19.801511262592516\n",
      "19.80150754828202\n",
      "19.801505841706927\n",
      "19.8015069459614\n",
      "19.801508451762952\n",
      "19.801503432424443\n",
      "19.80150112352873\n",
      "19.80150152507581\n",
      "19.801501826236123\n",
      "19.80149811192563\n",
      "19.80150072198165\n",
      "19.801501023141963\n",
      "19.80149851347271\n",
      "19.801498413085938\n",
      "19.801498413085938\n",
      "19.80149991888749\n",
      "19.801497108057927\n",
      "19.801495200709294\n",
      "19.801496405350534\n",
      "19.801498413085938\n",
      "19.801495200709294\n",
      "19.801495200709294\n",
      "19.801496606124076\n",
      "19.801496706510846\n",
      "19.801494297228363\n",
      "19.801496907284385\n",
      "19.801494598388672\n",
      "19.801493393747432\n",
      "19.80149329336066\n",
      "19.80149269104004\n",
      "19.801489880210475\n",
      "19.801490080984014\n",
      "19.801490080984014\n",
      "19.8014867682206\n",
      "19.80148646706029\n",
      "19.8014867682206\n",
      "19.80148747092799\n",
      "19.801481949655635\n",
      "19.801484559711657\n",
      "19.801480945787933\n",
      "19.801482050042402\n",
      "19.80147893805253\n",
      "19.80147933959961\n",
      "19.801475524902344\n",
      "19.801477131090667\n",
      "19.801475223742035\n",
      "19.801472011365387\n",
      "19.801470806724147\n",
      "19.801469501696136\n",
      "19.801469702469674\n",
      "19.80146769473427\n",
      "19.80146598815918\n",
      "19.80146739357396\n",
      "19.80146478351794\n",
      "19.801462675395765\n",
      "19.801463478489925\n",
      "19.801463378103154\n",
      "19.801461671528063\n",
      "19.801461671528063\n",
      "19.801461269980983\n",
      "19.80146026611328\n",
      "19.801461269980983\n",
      "19.80145946301912\n",
      "19.80146147075452\n",
      "19.80145966379266\n",
      "19.801460868433903\n",
      "19.80145855953819\n",
      "19.80145936263235\n",
      "19.801457354896947\n",
      "19.80145936263235\n",
      "19.80145966379266\n",
      "19.80145976417943\n",
      "19.80145795721757\n",
      "19.80145876031173\n",
      "19.801457656057256\n",
      "19.80145855953819\n",
      "19.80145715412341\n",
      "19.80145835876465\n",
      "19.801458157991107\n",
      "19.80145805760434\n",
      "19.80145845915142\n",
      "19.801455849095394\n",
      "19.801456852963096\n",
      "19.801455949482165\n",
      "19.801456953349867\n",
      "19.801454845227692\n",
      "19.801454845227692\n",
      "19.80145233555844\n",
      "19.801454744840925\n",
      "19.801453640586452\n",
      "19.801453339426143\n",
      "19.80145173323782\n",
      "19.801450829756888\n",
      "19.801449725502415\n",
      "19.801450026662724\n",
      "19.801448219700863\n",
      "19.801449323955335\n",
      "19.801448219700863\n",
      "19.80144771776701\n",
      "19.801447015059622\n",
      "19.80144560964484\n",
      "19.8014454088713\n",
      "19.801444806550677\n",
      "19.80144510771099\n",
      "19.80144380268298\n",
      "19.801442397268193\n",
      "19.801443200362357\n",
      "19.801442698428506\n",
      "19.801442196494655\n",
      "19.801442798815277\n",
      "19.801440690693102\n",
      "19.801441293013724\n",
      "19.801440289146022\n",
      "19.801441393400495\n",
      "19.801441393400495\n",
      "19.801439987985713\n",
      "19.80143928527832\n",
      "19.80143978721217\n",
      "19.80143958643863\n",
      "19.801440389532793\n",
      "19.80144018875925\n",
      "19.80143978721217\n",
      "19.80143848218416\n",
      "19.801439486051862\n",
      "19.801439987985713\n",
      "19.80143848218416\n",
      "19.80144059030633\n",
      "19.801440389532793\n",
      "19.80143938566509\n",
      "19.80143958643863\n",
      "19.801438582570928\n",
      "19.80143848218416\n",
      "19.80144008837248\n",
      "19.80143908450478\n",
      "19.80143958643863\n",
      "19.80143838179739\n",
      "19.80143888373124\n",
      "19.80143787986354\n",
      "19.801438181023848\n",
      "19.801436675222295\n",
      "19.80143707676938\n",
      "19.801437377929688\n",
      "19.801436072901677\n",
      "19.801436273675215\n",
      "19.801436775609066\n",
      "19.801435470581055\n",
      "19.801435570967826\n",
      "19.801434366326582\n",
      "19.801434165553044\n",
      "19.80143386439273\n",
      "19.801433161685342\n",
      "19.80143386439273\n",
      "19.80143255936472\n",
      "19.801431455110247\n",
      "19.80143215781764\n",
      "19.801431053563167\n",
      "19.80143175627056\n",
      "19.80143085278963\n",
      "19.801430551629316\n",
      "19.801430652016087\n",
      "19.801430350855778\n",
      "19.801429949308698\n",
      "19.801430049695465\n",
      "19.801429648148385\n",
      "19.801430150082236\n",
      "19.801429547761614\n",
      "19.801429748535156\n",
      "19.801429146214534\n",
      "19.801429748535156\n",
      "19.801428945440996\n",
      "19.801429748535156\n",
      "19.801430049695465\n",
      "19.801429949308698\n",
      "19.801429346988076\n",
      "19.801429346988076\n",
      "19.801428945440996\n",
      "19.801428945440996\n",
      "19.801429146214534\n",
      "19.801429547761614\n",
      "19.801428744667454\n",
      "19.801429748535156\n",
      "19.801428744667454\n",
      "19.801428644280683\n",
      "19.801429146214534\n",
      "19.801428945440996\n",
      "19.801428744667454\n",
      "19.801428945440996\n",
      "19.801428744667454\n",
      "19.801428744667454\n",
      "19.801428343120374\n",
      "19.801428343120374\n",
      "19.801428343120374\n",
      "19.801427941573294\n",
      "19.80142713847913\n",
      "19.801427439639443\n",
      "19.801428041960065\n",
      "19.801427540026214\n",
      "19.80142673693205\n",
      "19.801426536158512\n",
      "19.80142633538497\n",
      "19.801426536158512\n",
      "19.80142593383789\n",
      "19.80142553229081\n",
      "19.80142563267758\n",
      "19.801426134611432\n",
      "19.80142553229081\n",
      "19.80142593383789\n",
      "19.80142462880988\n",
      "19.80142513074373\n",
      "19.801424829583418\n",
      "19.80142472919665\n",
      "19.80142472919665\n",
      "19.801423624942178\n",
      "19.80142372532895\n",
      "19.801423825715716\n",
      "19.801422922234785\n",
      "19.80142372532895\n",
      "19.801423323781865\n",
      "19.801424026489258\n",
      "19.801424026489258\n",
      "19.801423022621556\n",
      "19.801422821848018\n",
      "19.801422520687705\n",
      "19.801423624942178\n",
      "19.801422219527396\n",
      "19.801423524555407\n",
      "19.801423424168636\n",
      "19.801422520687705\n",
      "19.801423323781865\n",
      "19.801423022621556\n",
      "19.801423123008327\n",
      "19.801422621074476\n",
      "19.801422821848018\n",
      "19.801423624942178\n",
      "19.801422922234785\n",
      "19.801422821848018\n",
      "19.801422621074476\n",
      "19.801422621074476\n",
      "19.801422721461247\n",
      "19.801422219527396\n",
      "19.801422420300934\n",
      "19.801422319914167\n",
      "19.801422520687705\n",
      "19.801422319914167\n",
      "19.801422219527396\n",
      "19.801422119140625\n",
      "19.801422520687705\n",
      "19.801422319914167\n",
      "19.801422520687705\n",
      "19.801421918367083\n",
      "19.801422319914167\n",
      "19.801422319914167\n",
      "19.801421215659694\n",
      "19.801421918367083\n",
      "19.801421617206774\n",
      "19.801420914499385\n",
      "19.801421416433232\n",
      "19.801421215659694\n",
      "19.801421014886152\n",
      "19.801421014886152\n",
      "19.801420412565534\n",
      "19.801420713725843\n",
      "19.8014205129523\n",
      "19.801420814112614\n",
      "19.8014195090846\n",
      "19.80141970985814\n",
      "19.80142011140522\n",
      "19.80141970985814\n",
      "19.801419007150752\n",
      "19.80141870599044\n",
      "19.80142011140522\n",
      "19.80141880637721\n",
      "19.8014185052169\n",
      "19.801419007150752\n",
      "19.80141930831106\n",
      "19.80141890676398\n",
      "19.80141870599044\n",
      "19.80141890676398\n",
      "19.80141970985814\n",
      "19.8014185052169\n",
      "19.80141910753752\n",
      "19.801419007150752\n",
      "19.8014185052169\n",
      "19.80141930831106\n",
      "19.80141860560367\n",
      "19.80141840483013\n",
      "19.80141840483013\n",
      "19.80141880637721\n",
      "19.8014185052169\n",
      "19.80141870599044\n",
      "19.80141890676398\n",
      "19.80141890676398\n",
      "19.80141910753752\n",
      "19.8014185052169\n",
      "19.80141920792429\n",
      "19.80141890676398\n",
      "19.8014185052169\n",
      "19.80141870599044\n",
      "19.8014185052169\n",
      "19.80141890676398\n",
      "19.8014185052169\n",
      "19.80141830444336\n",
      "19.80141830444336\n",
      "19.80141830444336\n",
      "19.80141830444336\n",
      "19.80141830444336\n",
      "19.80141830444336\n",
      "19.80141830444336\n",
      "19.80141830444336\n",
      "19.80141830444336\n",
      "19.80141830444336\n",
      "19.80141830444336\n",
      "19.80141830444336\n",
      "19.80141830444336\n",
      "19.80141830444336\n",
      "19.80141830444336\n",
      "19.80141830444336\n",
      "19.80141830444336\n",
      "19.80141830444336\n",
      "19.80141830444336\n",
      "19.80141830444336\n",
      "19.80141830444336\n",
      "19.80141830444336\n",
      "19.80141830444336\n",
      "19.80141830444336\n",
      "19.80141830444336\n",
      "19.80141830444336\n",
      "19.80141830444336\n",
      "19.80141830444336\n",
      "19.80141830444336\n",
      "19.80141830444336\n",
      "19.80141830444336\n",
      "19.80141830444336\n",
      "19.80141830444336\n",
      "19.80141830444336\n"
     ]
    }
   ],
   "source": [
    "model = SimCLR(input_dim,emb=feat_dim, out_dim=proj_dim).to('cuda')\n",
    "optimizer = torch.optim.AdamW(model.parameters(), lr, weight_decay=weight_decay)\n",
    "scheduler = torch.optim.lr_scheduler.CosineAnnealingLR(optimizer, T_max=500, eta_min=1e-4, last_epoch=-1)\n",
    "loss_func = SupConLoss(temperature=tmp)\n",
    "runname = 'TCGA-Pretrain'\n",
    "trainer = Trainer(model, tcga_loader, None, None, loss_func, optimizer, scheduler, max_epochs, batch_size, \n",
    "                    run_name=runname)\n",
    "trainer.train()\n",
    "torch.save(trainer.model.state_dict(), f'models/simclr_tcga2.pt')"
   ]
  },
  {
   "cell_type": "code",
   "execution_count": 40,
   "id": "23832503-a488-404d-b6be-5fcc498a3079",
   "metadata": {},
   "outputs": [
    {
     "name": "stderr",
     "output_type": "stream",
     "text": [
      "/tmp/ipykernel_53059/2227552532.py:51: UserWarning: To copy construct from a tensor, it is recommended to use sourceTensor.clone().detach() or sourceTensor.clone().detach().requires_grad_(True), rather than torch.tensor(sourceTensor).\n",
      "  self.y_train = torch.tensor(y_train,dtype=torch.int32)\n"
     ]
    },
    {
     "data": {
      "text/html": [
       "Finishing last run (ID:igtd8fkx) before initializing another..."
      ],
      "text/plain": [
       "<IPython.core.display.HTML object>"
      ]
     },
     "metadata": {},
     "output_type": "display_data"
    },
    {
     "data": {
      "text/html": [
       "Waiting for W&B process to finish... <strong style=\"color:green\">(success).</strong>"
      ],
      "text/plain": [
       "<IPython.core.display.HTML object>"
      ]
     },
     "metadata": {},
     "output_type": "display_data"
    },
    {
     "name": "stderr",
     "output_type": "stream",
     "text": [
      "wandb: WARNING Source type is set to 'repo' but some required information is missing from the environment. A job will not be created from this run. See https://docs.wandb.ai/guides/launch/create-job\n"
     ]
    },
    {
     "data": {
      "application/vnd.jupyter.widget-view+json": {
       "model_id": "02068d41cc24473bb95e5cd4513e8183",
       "version_major": 2,
       "version_minor": 0
      },
      "text/plain": [
       "VBox(children=(Label(value='0.006 MB of 0.006 MB uploaded (0.000 MB deduped)\\r'), FloatProgress(value=1.0, max…"
      ]
     },
     "metadata": {},
     "output_type": "display_data"
    },
    {
     "data": {
      "text/html": [
       "<style>\n",
       "    table.wandb td:nth-child(1) { padding: 0 10px; text-align: left ; width: auto;} td:nth-child(2) {text-align: left ; width: 100%}\n",
       "    .wandb-row { display: flex; flex-direction: row; flex-wrap: wrap; justify-content: flex-start; width: 100% }\n",
       "    .wandb-col { display: flex; flex-direction: column; flex-basis: 100%; flex: 1; padding: 10px; }\n",
       "    </style>\n",
       "<div class=\"wandb-row\"><div class=\"wandb-col\"><h3>Run history:</h3><br/><table class=\"wandb\"><tr><td>train_loss</td><td>█▃▂▂▁▁▁▁▁▁▁▁▁▁▁▁▁▁▁▁▁▁▁▁▁▁▁▁▁▁▁▁▁▁▁▁▁▁▁▁</td></tr></table><br/></div><div class=\"wandb-col\"><h3>Run summary:</h3><br/><table class=\"wandb\"><tr><td>train_loss</td><td>19.80142</td></tr></table><br/></div></div>"
      ],
      "text/plain": [
       "<IPython.core.display.HTML object>"
      ]
     },
     "metadata": {},
     "output_type": "display_data"
    },
    {
     "data": {
      "text/html": [
       " View run <strong style=\"color:#cdcd00\">TCGA-Pretrain</strong> at: <a href='https://wandb.ai/senwanxiang/itrp/runs/igtd8fkx' target=\"_blank\">https://wandb.ai/senwanxiang/itrp/runs/igtd8fkx</a><br/>Synced 5 W&B file(s), 0 media file(s), 0 artifact file(s) and 0 other file(s)"
      ],
      "text/plain": [
       "<IPython.core.display.HTML object>"
      ]
     },
     "metadata": {},
     "output_type": "display_data"
    },
    {
     "data": {
      "text/html": [
       "Find logs at: <code>./wandb/run-20231010_084930-igtd8fkx/logs</code>"
      ],
      "text/plain": [
       "<IPython.core.display.HTML object>"
      ]
     },
     "metadata": {},
     "output_type": "display_data"
    },
    {
     "data": {
      "text/html": [
       "Successfully finished last run (ID:igtd8fkx). Initializing new run:<br/>"
      ],
      "text/plain": [
       "<IPython.core.display.HTML object>"
      ]
     },
     "metadata": {},
     "output_type": "display_data"
    },
    {
     "data": {
      "application/vnd.jupyter.widget-view+json": {
       "model_id": "e7561114c6334543a816a6c8acaa5353",
       "version_major": 2,
       "version_minor": 0
      },
      "text/plain": [
       "VBox(children=(Label(value='Waiting for wandb.init()...\\r'), FloatProgress(value=0.011113210922242918, max=1.0…"
      ]
     },
     "metadata": {},
     "output_type": "display_data"
    },
    {
     "data": {
      "text/html": [
       "Tracking run with wandb version 0.15.12"
      ],
      "text/plain": [
       "<IPython.core.display.HTML object>"
      ]
     },
     "metadata": {},
     "output_type": "display_data"
    },
    {
     "data": {
      "text/html": [
       "Run data is saved locally in <code>/home/was966/Research/Pretrain_Immune_Response/wandb/run-20231010_090438-sduqzsga</code>"
      ],
      "text/plain": [
       "<IPython.core.display.HTML object>"
      ]
     },
     "metadata": {},
     "output_type": "display_data"
    },
    {
     "data": {
      "text/html": [
       "Syncing run <strong><a href='https://wandb.ai/senwanxiang/itrp/runs/sduqzsga' target=\"_blank\">allen-RC-AllAug-TentAll</a></strong> to <a href='https://wandb.ai/senwanxiang/itrp' target=\"_blank\">Weights & Biases</a> (<a href='https://wandb.me/run' target=\"_blank\">docs</a>)<br/>"
      ],
      "text/plain": [
       "<IPython.core.display.HTML object>"
      ]
     },
     "metadata": {},
     "output_type": "display_data"
    },
    {
     "data": {
      "text/html": [
       " View project at <a href='https://wandb.ai/senwanxiang/itrp' target=\"_blank\">https://wandb.ai/senwanxiang/itrp</a>"
      ],
      "text/plain": [
       "<IPython.core.display.HTML object>"
      ]
     },
     "metadata": {},
     "output_type": "display_data"
    },
    {
     "data": {
      "text/html": [
       " View run at <a href='https://wandb.ai/senwanxiang/itrp/runs/sduqzsga' target=\"_blank\">https://wandb.ai/senwanxiang/itrp/runs/sduqzsga</a>"
      ],
      "text/plain": [
       "<IPython.core.display.HTML object>"
      ]
     },
     "metadata": {},
     "output_type": "display_data"
    },
    {
     "name": "stderr",
     "output_type": "stream",
     "text": [
      "  0%|          | 1/200 [00:00<00:40,  4.88it/s]"
     ]
    },
    {
     "name": "stdout",
     "output_type": "stream",
     "text": [
      "17.573150634765625\n"
     ]
    },
    {
     "name": "stderr",
     "output_type": "stream",
     "text": [
      " 26%|██▌       | 51/200 [00:10<00:28,  5.22it/s]"
     ]
    },
    {
     "name": "stdout",
     "output_type": "stream",
     "text": [
      "17.429941177368164\n"
     ]
    },
    {
     "name": "stderr",
     "output_type": "stream",
     "text": [
      " 50%|█████     | 101/200 [00:21<00:19,  5.03it/s]"
     ]
    },
    {
     "name": "stdout",
     "output_type": "stream",
     "text": [
      "17.350481033325195\n"
     ]
    },
    {
     "name": "stderr",
     "output_type": "stream",
     "text": [
      " 76%|███████▌  | 151/200 [00:31<00:09,  4.95it/s]"
     ]
    },
    {
     "name": "stdout",
     "output_type": "stream",
     "text": [
      "17.233116149902344\n"
     ]
    },
    {
     "name": "stderr",
     "output_type": "stream",
     "text": [
      "100%|██████████| 200/200 [00:40<00:00,  4.90it/s]\n"
     ]
    },
    {
     "name": "stdout",
     "output_type": "stream",
     "text": [
      "0.0\n",
      "0.40476190476190477\n",
      "0.4418604651162791\n",
      "0.4523809523809524\n",
      "0.4523809523809524\n",
      "0.4523809523809524\n",
      "Val: Acc=0.545, F1=0.452, auc=0.521\n"
     ]
    },
    {
     "data": {
      "image/png": "[encoded data removed]",
      "text/plain": [
       "<Figure size 640x480 with 1 Axes>"
      ]
     },
     "metadata": {},
     "output_type": "display_data"
    },
    {
     "name": "stdout",
     "output_type": "stream",
     "text": [
      "Deploy:Acc=0.571, F1=0.438, auc=0.582\n"
     ]
    },
    {
     "name": "stderr",
     "output_type": "stream",
     "text": [
      "/tmp/ipykernel_53059/2227552532.py:51: UserWarning: To copy construct from a tensor, it is recommended to use sourceTensor.clone().detach() or sourceTensor.clone().detach().requires_grad_(True), rather than torch.tensor(sourceTensor).\n",
      "  self.y_train = torch.tensor(y_train,dtype=torch.int32)\n"
     ]
    },
    {
     "data": {
      "text/html": [
       "Finishing last run (ID:sduqzsga) before initializing another..."
      ],
      "text/plain": [
       "<IPython.core.display.HTML object>"
      ]
     },
     "metadata": {},
     "output_type": "display_data"
    },
    {
     "data": {
      "text/html": [
       "Waiting for W&B process to finish... <strong style=\"color:green\">(success).</strong>"
      ],
      "text/plain": [
       "<IPython.core.display.HTML object>"
      ]
     },
     "metadata": {},
     "output_type": "display_data"
    },
    {
     "name": "stderr",
     "output_type": "stream",
     "text": [
      "wandb: WARNING Source type is set to 'repo' but some required information is missing from the environment. A job will not be created from this run. See https://docs.wandb.ai/guides/launch/create-job\n"
     ]
    },
    {
     "data": {
      "text/html": [
       " View run <strong style=\"color:#cdcd00\">allen-RC-AllAug-TentAll</strong> at: <a href='https://wandb.ai/senwanxiang/itrp/runs/sduqzsga' target=\"_blank\">https://wandb.ai/senwanxiang/itrp/runs/sduqzsga</a><br/>Synced 5 W&B file(s), 0 media file(s), 0 artifact file(s) and 0 other file(s)"
      ],
      "text/plain": [
       "<IPython.core.display.HTML object>"
      ]
     },
     "metadata": {},
     "output_type": "display_data"
    },
    {
     "data": {
      "text/html": [
       "Find logs at: <code>./wandb/run-20231010_090438-sduqzsga/logs</code>"
      ],
      "text/plain": [
       "<IPython.core.display.HTML object>"
      ]
     },
     "metadata": {},
     "output_type": "display_data"
    },
    {
     "data": {
      "text/html": [
       "Successfully finished last run (ID:sduqzsga). Initializing new run:<br/>"
      ],
      "text/plain": [
       "<IPython.core.display.HTML object>"
      ]
     },
     "metadata": {},
     "output_type": "display_data"
    },
    {
     "data": {
      "application/vnd.jupyter.widget-view+json": {
       "model_id": "85a2accddbe245cc83d53c7e4cd8ffa1",
       "version_major": 2,
       "version_minor": 0
      },
      "text/plain": [
       "VBox(children=(Label(value='Waiting for wandb.init()...\\r'), FloatProgress(value=0.011113657088814458, max=1.0…"
      ]
     },
     "metadata": {},
     "output_type": "display_data"
    },
    {
     "data": {
      "text/html": [
       "Tracking run with wandb version 0.15.12"
      ],
      "text/plain": [
       "<IPython.core.display.HTML object>"
      ]
     },
     "metadata": {},
     "output_type": "display_data"
    },
    {
     "data": {
      "text/html": [
       "Run data is saved locally in <code>/home/was966/Research/Pretrain_Immune_Response/wandb/run-20231010_090527-f8qs7bv9</code>"
      ],
      "text/plain": [
       "<IPython.core.display.HTML object>"
      ]
     },
     "metadata": {},
     "output_type": "display_data"
    },
    {
     "data": {
      "text/html": [
       "Syncing run <strong><a href='https://wandb.ai/senwanxiang/itrp/runs/f8qs7bv9' target=\"_blank\">riaz-RC-AllAug-TentAll</a></strong> to <a href='https://wandb.ai/senwanxiang/itrp' target=\"_blank\">Weights & Biases</a> (<a href='https://wandb.me/run' target=\"_blank\">docs</a>)<br/>"
      ],
      "text/plain": [
       "<IPython.core.display.HTML object>"
      ]
     },
     "metadata": {},
     "output_type": "display_data"
    },
    {
     "data": {
      "text/html": [
       " View project at <a href='https://wandb.ai/senwanxiang/itrp' target=\"_blank\">https://wandb.ai/senwanxiang/itrp</a>"
      ],
      "text/plain": [
       "<IPython.core.display.HTML object>"
      ]
     },
     "metadata": {},
     "output_type": "display_data"
    },
    {
     "data": {
      "text/html": [
       " View run at <a href='https://wandb.ai/senwanxiang/itrp/runs/f8qs7bv9' target=\"_blank\">https://wandb.ai/senwanxiang/itrp/runs/f8qs7bv9</a>"
      ],
      "text/plain": [
       "<IPython.core.display.HTML object>"
      ]
     },
     "metadata": {},
     "output_type": "display_data"
    },
    {
     "name": "stderr",
     "output_type": "stream",
     "text": [
      "  0%|          | 1/200 [00:00<00:40,  4.86it/s]"
     ]
    },
    {
     "name": "stdout",
     "output_type": "stream",
     "text": [
      "17.461339950561523\n"
     ]
    },
    {
     "name": "stderr",
     "output_type": "stream",
     "text": [
      " 26%|██▌       | 51/200 [00:11<00:29,  4.98it/s]"
     ]
    },
    {
     "name": "stdout",
     "output_type": "stream",
     "text": [
      "17.311138153076172\n"
     ]
    },
    {
     "name": "stderr",
     "output_type": "stream",
     "text": [
      " 50%|█████     | 101/200 [00:21<00:19,  5.18it/s]"
     ]
    },
    {
     "name": "stdout",
     "output_type": "stream",
     "text": [
      "17.194276809692383\n"
     ]
    },
    {
     "name": "stderr",
     "output_type": "stream",
     "text": [
      " 76%|███████▌  | 151/200 [00:31<00:10,  4.82it/s]"
     ]
    },
    {
     "name": "stdout",
     "output_type": "stream",
     "text": [
      "17.171049118041992\n"
     ]
    },
    {
     "name": "stderr",
     "output_type": "stream",
     "text": [
      "100%|██████████| 200/200 [00:41<00:00,  4.86it/s]\n"
     ]
    },
    {
     "name": "stdout",
     "output_type": "stream",
     "text": [
      "0.04545454545454545\n",
      "0.5217391304347826\n",
      "0.5473684210526316\n",
      "0.5684210526315789\n",
      "0.5869565217391304\n",
      "0.5869565217391304\n",
      "Val: Acc=0.622, F1=0.593, auc=0.638\n"
     ]
    },
    {
     "data": {
      "image/png": "[encoded data removed]",
      "text/plain": [
       "<Figure size 640x480 with 1 Axes>"
      ]
     },
     "metadata": {},
     "output_type": "display_data"
    },
    {
     "name": "stdout",
     "output_type": "stream",
     "text": [
      "Deploy:Acc=0.259, F1=0.259, auc=0.353\n"
     ]
    },
    {
     "name": "stderr",
     "output_type": "stream",
     "text": [
      "/tmp/ipykernel_53059/2227552532.py:51: UserWarning: To copy construct from a tensor, it is recommended to use sourceTensor.clone().detach() or sourceTensor.clone().detach().requires_grad_(True), rather than torch.tensor(sourceTensor).\n",
      "  self.y_train = torch.tensor(y_train,dtype=torch.int32)\n"
     ]
    },
    {
     "data": {
      "text/html": [
       "Finishing last run (ID:f8qs7bv9) before initializing another..."
      ],
      "text/plain": [
       "<IPython.core.display.HTML object>"
      ]
     },
     "metadata": {},
     "output_type": "display_data"
    },
    {
     "data": {
      "text/html": [
       "Waiting for W&B process to finish... <strong style=\"color:green\">(success).</strong>"
      ],
      "text/plain": [
       "<IPython.core.display.HTML object>"
      ]
     },
     "metadata": {},
     "output_type": "display_data"
    },
    {
     "name": "stderr",
     "output_type": "stream",
     "text": [
      "wandb: WARNING Source type is set to 'repo' but some required information is missing from the environment. A job will not be created from this run. See https://docs.wandb.ai/guides/launch/create-job\n"
     ]
    },
    {
     "data": {
      "text/html": [
       " View run <strong style=\"color:#cdcd00\">riaz-RC-AllAug-TentAll</strong> at: <a href='https://wandb.ai/senwanxiang/itrp/runs/f8qs7bv9' target=\"_blank\">https://wandb.ai/senwanxiang/itrp/runs/f8qs7bv9</a><br/>Synced 5 W&B file(s), 0 media file(s), 0 artifact file(s) and 0 other file(s)"
      ],
      "text/plain": [
       "<IPython.core.display.HTML object>"
      ]
     },
     "metadata": {},
     "output_type": "display_data"
    },
    {
     "data": {
      "text/html": [
       "Find logs at: <code>./wandb/run-20231010_090527-f8qs7bv9/logs</code>"
      ],
      "text/plain": [
       "<IPython.core.display.HTML object>"
      ]
     },
     "metadata": {},
     "output_type": "display_data"
    },
    {
     "data": {
      "text/html": [
       "Successfully finished last run (ID:f8qs7bv9). Initializing new run:<br/>"
      ],
      "text/plain": [
       "<IPython.core.display.HTML object>"
      ]
     },
     "metadata": {},
     "output_type": "display_data"
    },
    {
     "data": {
      "application/vnd.jupyter.widget-view+json": {
       "model_id": "02be237532224febb7536934519ed34a",
       "version_major": 2,
       "version_minor": 0
      },
      "text/plain": [
       "VBox(children=(Label(value='Waiting for wandb.init()...\\r'), FloatProgress(value=0.011112510899935538, max=1.0…"
      ]
     },
     "metadata": {},
     "output_type": "display_data"
    },
    {
     "data": {
      "text/html": [
       "Tracking run with wandb version 0.15.12"
      ],
      "text/plain": [
       "<IPython.core.display.HTML object>"
      ]
     },
     "metadata": {},
     "output_type": "display_data"
    },
    {
     "data": {
      "text/html": [
       "Run data is saved locally in <code>/home/was966/Research/Pretrain_Immune_Response/wandb/run-20231010_090617-qfukzu74</code>"
      ],
      "text/plain": [
       "<IPython.core.display.HTML object>"
      ]
     },
     "metadata": {},
     "output_type": "display_data"
    },
    {
     "data": {
      "text/html": [
       "Syncing run <strong><a href='https://wandb.ai/senwanxiang/itrp/runs/qfukzu74' target=\"_blank\">gide-RC-AllAug-TentAll</a></strong> to <a href='https://wandb.ai/senwanxiang/itrp' target=\"_blank\">Weights & Biases</a> (<a href='https://wandb.me/run' target=\"_blank\">docs</a>)<br/>"
      ],
      "text/plain": [
       "<IPython.core.display.HTML object>"
      ]
     },
     "metadata": {},
     "output_type": "display_data"
    },
    {
     "data": {
      "text/html": [
       " View project at <a href='https://wandb.ai/senwanxiang/itrp' target=\"_blank\">https://wandb.ai/senwanxiang/itrp</a>"
      ],
      "text/plain": [
       "<IPython.core.display.HTML object>"
      ]
     },
     "metadata": {},
     "output_type": "display_data"
    },
    {
     "data": {
      "text/html": [
       " View run at <a href='https://wandb.ai/senwanxiang/itrp/runs/qfukzu74' target=\"_blank\">https://wandb.ai/senwanxiang/itrp/runs/qfukzu74</a>"
      ],
      "text/plain": [
       "<IPython.core.display.HTML object>"
      ]
     },
     "metadata": {},
     "output_type": "display_data"
    },
    {
     "name": "stderr",
     "output_type": "stream",
     "text": [
      "  0%|          | 1/200 [00:00<00:32,  6.05it/s]"
     ]
    },
    {
     "name": "stdout",
     "output_type": "stream",
     "text": [
      "17.111330032348633\n"
     ]
    },
    {
     "name": "stderr",
     "output_type": "stream",
     "text": [
      " 26%|██▌       | 51/200 [00:09<00:32,  4.57it/s]"
     ]
    },
    {
     "name": "stdout",
     "output_type": "stream",
     "text": [
      "16.920330047607422\n"
     ]
    },
    {
     "name": "stderr",
     "output_type": "stream",
     "text": [
      " 50%|█████     | 101/200 [00:19<00:19,  5.08it/s]"
     ]
    },
    {
     "name": "stdout",
     "output_type": "stream",
     "text": [
      "16.817224502563477\n"
     ]
    },
    {
     "name": "stderr",
     "output_type": "stream",
     "text": [
      " 76%|███████▌  | 151/200 [00:30<00:09,  5.40it/s]"
     ]
    },
    {
     "name": "stdout",
     "output_type": "stream",
     "text": [
      "16.776575088500977\n"
     ]
    },
    {
     "name": "stderr",
     "output_type": "stream",
     "text": [
      "100%|██████████| 200/200 [00:40<00:00,  4.99it/s]\n"
     ]
    },
    {
     "name": "stdout",
     "output_type": "stream",
     "text": [
      "0.34375000000000006\n",
      "0.36363636363636365\n",
      "0.3870967741935484\n",
      "0.43750000000000006\n",
      "0.45454545454545453\n",
      "0.45454545454545453\n",
      "Val: Acc=0.586, F1=0.455, auc=0.562\n"
     ]
    },
    {
     "data": {
      "image/png": "[encoded data removed]",
      "text/plain": [
       "<Figure size 640x480 with 1 Axes>"
      ]
     },
     "metadata": {},
     "output_type": "display_data"
    },
    {
     "name": "stdout",
     "output_type": "stream",
     "text": [
      "Deploy:Acc=0.571, F1=0.562, auc=0.624\n"
     ]
    },
    {
     "name": "stderr",
     "output_type": "stream",
     "text": [
      "/tmp/ipykernel_53059/2227552532.py:51: UserWarning: To copy construct from a tensor, it is recommended to use sourceTensor.clone().detach() or sourceTensor.clone().detach().requires_grad_(True), rather than torch.tensor(sourceTensor).\n",
      "  self.y_train = torch.tensor(y_train,dtype=torch.int32)\n"
     ]
    },
    {
     "data": {
      "text/html": [
       "Finishing last run (ID:qfukzu74) before initializing another..."
      ],
      "text/plain": [
       "<IPython.core.display.HTML object>"
      ]
     },
     "metadata": {},
     "output_type": "display_data"
    },
    {
     "data": {
      "text/html": [
       "Waiting for W&B process to finish... <strong style=\"color:green\">(success).</strong>"
      ],
      "text/plain": [
       "<IPython.core.display.HTML object>"
      ]
     },
     "metadata": {},
     "output_type": "display_data"
    },
    {
     "name": "stderr",
     "output_type": "stream",
     "text": [
      "wandb: WARNING Source type is set to 'repo' but some required information is missing from the environment. A job will not be created from this run. See https://docs.wandb.ai/guides/launch/create-job\n"
     ]
    },
    {
     "data": {
      "text/html": [
       " View run <strong style=\"color:#cdcd00\">gide-RC-AllAug-TentAll</strong> at: <a href='https://wandb.ai/senwanxiang/itrp/runs/qfukzu74' target=\"_blank\">https://wandb.ai/senwanxiang/itrp/runs/qfukzu74</a><br/>Synced 5 W&B file(s), 0 media file(s), 0 artifact file(s) and 0 other file(s)"
      ],
      "text/plain": [
       "<IPython.core.display.HTML object>"
      ]
     },
     "metadata": {},
     "output_type": "display_data"
    },
    {
     "data": {
      "text/html": [
       "Find logs at: <code>./wandb/run-20231010_090617-qfukzu74/logs</code>"
      ],
      "text/plain": [
       "<IPython.core.display.HTML object>"
      ]
     },
     "metadata": {},
     "output_type": "display_data"
    },
    {
     "data": {
      "text/html": [
       "Successfully finished last run (ID:qfukzu74). Initializing new run:<br/>"
      ],
      "text/plain": [
       "<IPython.core.display.HTML object>"
      ]
     },
     "metadata": {},
     "output_type": "display_data"
    },
    {
     "data": {
      "application/vnd.jupyter.widget-view+json": {
       "model_id": "1417a02a95f3487c99ee655301389e24",
       "version_major": 2,
       "version_minor": 0
      },
      "text/plain": [
       "VBox(children=(Label(value='Waiting for wandb.init()...\\r'), FloatProgress(value=0.011112957411225782, max=1.0…"
      ]
     },
     "metadata": {},
     "output_type": "display_data"
    },
    {
     "data": {
      "text/html": [
       "Tracking run with wandb version 0.15.12"
      ],
      "text/plain": [
       "<IPython.core.display.HTML object>"
      ]
     },
     "metadata": {},
     "output_type": "display_data"
    },
    {
     "data": {
      "text/html": [
       "Run data is saved locally in <code>/home/was966/Research/Pretrain_Immune_Response/wandb/run-20231010_090706-7bdf46kp</code>"
      ],
      "text/plain": [
       "<IPython.core.display.HTML object>"
      ]
     },
     "metadata": {},
     "output_type": "display_data"
    },
    {
     "data": {
      "text/html": [
       "Syncing run <strong><a href='https://wandb.ai/senwanxiang/itrp/runs/7bdf46kp' target=\"_blank\">liu-RC-AllAug-TentAll</a></strong> to <a href='https://wandb.ai/senwanxiang/itrp' target=\"_blank\">Weights & Biases</a> (<a href='https://wandb.me/run' target=\"_blank\">docs</a>)<br/>"
      ],
      "text/plain": [
       "<IPython.core.display.HTML object>"
      ]
     },
     "metadata": {},
     "output_type": "display_data"
    },
    {
     "data": {
      "text/html": [
       " View project at <a href='https://wandb.ai/senwanxiang/itrp' target=\"_blank\">https://wandb.ai/senwanxiang/itrp</a>"
      ],
      "text/plain": [
       "<IPython.core.display.HTML object>"
      ]
     },
     "metadata": {},
     "output_type": "display_data"
    },
    {
     "data": {
      "text/html": [
       " View run at <a href='https://wandb.ai/senwanxiang/itrp/runs/7bdf46kp' target=\"_blank\">https://wandb.ai/senwanxiang/itrp/runs/7bdf46kp</a>"
      ],
      "text/plain": [
       "<IPython.core.display.HTML object>"
      ]
     },
     "metadata": {},
     "output_type": "display_data"
    },
    {
     "name": "stderr",
     "output_type": "stream",
     "text": [
      "  0%|          | 1/200 [00:00<00:34,  5.81it/s]"
     ]
    },
    {
     "name": "stdout",
     "output_type": "stream",
     "text": [
      "16.793535232543945\n"
     ]
    },
    {
     "name": "stderr",
     "output_type": "stream",
     "text": [
      " 26%|██▌       | 51/200 [00:09<00:29,  5.02it/s]"
     ]
    },
    {
     "name": "stdout",
     "output_type": "stream",
     "text": [
      "16.51736831665039\n"
     ]
    },
    {
     "name": "stderr",
     "output_type": "stream",
     "text": [
      " 50%|█████     | 101/200 [00:19<00:19,  5.16it/s]"
     ]
    },
    {
     "name": "stdout",
     "output_type": "stream",
     "text": [
      "16.430801391601562\n"
     ]
    },
    {
     "name": "stderr",
     "output_type": "stream",
     "text": [
      " 76%|███████▌  | 151/200 [00:28<00:09,  5.31it/s]"
     ]
    },
    {
     "name": "stdout",
     "output_type": "stream",
     "text": [
      "16.36322021484375\n"
     ]
    },
    {
     "name": "stderr",
     "output_type": "stream",
     "text": [
      "100%|██████████| 200/200 [00:38<00:00,  5.23it/s]\n"
     ]
    },
    {
     "name": "stdout",
     "output_type": "stream",
     "text": [
      "0.10256410256410257\n",
      "0.32558139534883723\n",
      "0.4347826086956522\n",
      "0.4347826086956522\n",
      "0.47058823529411764\n",
      "0.47058823529411764\n",
      "Val: Acc=0.641, F1=0.481, auc=0.634\n"
     ]
    },
    {
     "data": {
      "image/png": "[encoded data removed]",
      "text/plain": [
       "<Figure size 640x480 with 1 Axes>"
      ]
     },
     "metadata": {},
     "output_type": "display_data"
    },
    {
     "name": "stdout",
     "output_type": "stream",
     "text": [
      "Deploy:Acc=0.554, F1=0.386, auc=0.613\n"
     ]
    },
    {
     "name": "stderr",
     "output_type": "stream",
     "text": [
      "/tmp/ipykernel_53059/2227552532.py:51: UserWarning: To copy construct from a tensor, it is recommended to use sourceTensor.clone().detach() or sourceTensor.clone().detach().requires_grad_(True), rather than torch.tensor(sourceTensor).\n",
      "  self.y_train = torch.tensor(y_train,dtype=torch.int32)\n"
     ]
    },
    {
     "data": {
      "text/html": [
       "Finishing last run (ID:7bdf46kp) before initializing another..."
      ],
      "text/plain": [
       "<IPython.core.display.HTML object>"
      ]
     },
     "metadata": {},
     "output_type": "display_data"
    },
    {
     "data": {
      "text/html": [
       "Waiting for W&B process to finish... <strong style=\"color:green\">(success).</strong>"
      ],
      "text/plain": [
       "<IPython.core.display.HTML object>"
      ]
     },
     "metadata": {},
     "output_type": "display_data"
    },
    {
     "name": "stderr",
     "output_type": "stream",
     "text": [
      "wandb: WARNING Source type is set to 'repo' but some required information is missing from the environment. A job will not be created from this run. See https://docs.wandb.ai/guides/launch/create-job\n"
     ]
    },
    {
     "data": {
      "text/html": [
       " View run <strong style=\"color:#cdcd00\">liu-RC-AllAug-TentAll</strong> at: <a href='https://wandb.ai/senwanxiang/itrp/runs/7bdf46kp' target=\"_blank\">https://wandb.ai/senwanxiang/itrp/runs/7bdf46kp</a><br/>Synced 5 W&B file(s), 0 media file(s), 0 artifact file(s) and 0 other file(s)"
      ],
      "text/plain": [
       "<IPython.core.display.HTML object>"
      ]
     },
     "metadata": {},
     "output_type": "display_data"
    },
    {
     "data": {
      "text/html": [
       "Find logs at: <code>./wandb/run-20231010_090706-7bdf46kp/logs</code>"
      ],
      "text/plain": [
       "<IPython.core.display.HTML object>"
      ]
     },
     "metadata": {},
     "output_type": "display_data"
    },
    {
     "data": {
      "text/html": [
       "Successfully finished last run (ID:7bdf46kp). Initializing new run:<br/>"
      ],
      "text/plain": [
       "<IPython.core.display.HTML object>"
      ]
     },
     "metadata": {},
     "output_type": "display_data"
    },
    {
     "data": {
      "application/vnd.jupyter.widget-view+json": {
       "model_id": "1c5e3d7de6884be5af5dc129f66f49e6",
       "version_major": 2,
       "version_minor": 0
      },
      "text/plain": [
       "VBox(children=(Label(value='Waiting for wandb.init()...\\r'), FloatProgress(value=0.011112541733341964, max=1.0…"
      ]
     },
     "metadata": {},
     "output_type": "display_data"
    },
    {
     "data": {
      "text/html": [
       "Tracking run with wandb version 0.15.12"
      ],
      "text/plain": [
       "<IPython.core.display.HTML object>"
      ]
     },
     "metadata": {},
     "output_type": "display_data"
    },
    {
     "data": {
      "text/html": [
       "Run data is saved locally in <code>/home/was966/Research/Pretrain_Immune_Response/wandb/run-20231010_090754-e0knyk69</code>"
      ],
      "text/plain": [
       "<IPython.core.display.HTML object>"
      ]
     },
     "metadata": {},
     "output_type": "display_data"
    },
    {
     "data": {
      "text/html": [
       "Syncing run <strong><a href='https://wandb.ai/senwanxiang/itrp/runs/e0knyk69' target=\"_blank\">hugo-RC-AllAug-TentAll</a></strong> to <a href='https://wandb.ai/senwanxiang/itrp' target=\"_blank\">Weights & Biases</a> (<a href='https://wandb.me/run' target=\"_blank\">docs</a>)<br/>"
      ],
      "text/plain": [
       "<IPython.core.display.HTML object>"
      ]
     },
     "metadata": {},
     "output_type": "display_data"
    },
    {
     "data": {
      "text/html": [
       " View project at <a href='https://wandb.ai/senwanxiang/itrp' target=\"_blank\">https://wandb.ai/senwanxiang/itrp</a>"
      ],
      "text/plain": [
       "<IPython.core.display.HTML object>"
      ]
     },
     "metadata": {},
     "output_type": "display_data"
    },
    {
     "data": {
      "text/html": [
       " View run at <a href='https://wandb.ai/senwanxiang/itrp/runs/e0knyk69' target=\"_blank\">https://wandb.ai/senwanxiang/itrp/runs/e0knyk69</a>"
      ],
      "text/plain": [
       "<IPython.core.display.HTML object>"
      ]
     },
     "metadata": {},
     "output_type": "display_data"
    },
    {
     "name": "stderr",
     "output_type": "stream",
     "text": [
      "  0%|          | 1/200 [00:00<00:43,  4.61it/s]"
     ]
    },
    {
     "name": "stdout",
     "output_type": "stream",
     "text": [
      "17.704090118408203\n"
     ]
    },
    {
     "name": "stderr",
     "output_type": "stream",
     "text": [
      " 26%|██▌       | 51/200 [00:11<00:31,  4.68it/s]"
     ]
    },
    {
     "name": "stdout",
     "output_type": "stream",
     "text": [
      "17.50981903076172\n"
     ]
    },
    {
     "name": "stderr",
     "output_type": "stream",
     "text": [
      " 50%|█████     | 101/200 [00:22<00:21,  4.69it/s]"
     ]
    },
    {
     "name": "stdout",
     "output_type": "stream",
     "text": [
      "17.432085037231445\n"
     ]
    },
    {
     "name": "stderr",
     "output_type": "stream",
     "text": [
      " 76%|███████▌  | 151/200 [00:32<00:10,  4.56it/s]"
     ]
    },
    {
     "name": "stdout",
     "output_type": "stream",
     "text": [
      "17.341032028198242\n"
     ]
    },
    {
     "name": "stderr",
     "output_type": "stream",
     "text": [
      "100%|██████████| 200/200 [00:43<00:00,  4.64it/s]\n"
     ]
    },
    {
     "name": "stdout",
     "output_type": "stream",
     "text": [
      "0.44705882352941173\n",
      "0.44705882352941173\n",
      "0.44705882352941173\n",
      "0.4999999999999999\n",
      "0.5070422535211268\n",
      "0.5070422535211268\n",
      "Val: Acc=0.670, F1=0.507, auc=0.635\n"
     ]
    },
    {
     "data": {
      "image/png": "[encoded data removed]",
      "text/plain": [
       "<Figure size 640x480 with 1 Axes>"
      ]
     },
     "metadata": {},
     "output_type": "display_data"
    },
    {
     "name": "stdout",
     "output_type": "stream",
     "text": [
      "Deploy:Acc=0.538, F1=0.250, auc=0.533\n"
     ]
    },
    {
     "name": "stderr",
     "output_type": "stream",
     "text": [
      "/tmp/ipykernel_53059/2227552532.py:51: UserWarning: To copy construct from a tensor, it is recommended to use sourceTensor.clone().detach() or sourceTensor.clone().detach().requires_grad_(True), rather than torch.tensor(sourceTensor).\n",
      "  self.y_train = torch.tensor(y_train,dtype=torch.int32)\n"
     ]
    },
    {
     "data": {
      "text/html": [
       "Finishing last run (ID:e0knyk69) before initializing another..."
      ],
      "text/plain": [
       "<IPython.core.display.HTML object>"
      ]
     },
     "metadata": {},
     "output_type": "display_data"
    },
    {
     "data": {
      "text/html": [
       "Waiting for W&B process to finish... <strong style=\"color:green\">(success).</strong>"
      ],
      "text/plain": [
       "<IPython.core.display.HTML object>"
      ]
     },
     "metadata": {},
     "output_type": "display_data"
    },
    {
     "name": "stderr",
     "output_type": "stream",
     "text": [
      "wandb: WARNING Source type is set to 'repo' but some required information is missing from the environment. A job will not be created from this run. See https://docs.wandb.ai/guides/launch/create-job\n"
     ]
    },
    {
     "data": {
      "text/html": [
       " View run <strong style=\"color:#cdcd00\">hugo-RC-AllAug-TentAll</strong> at: <a href='https://wandb.ai/senwanxiang/itrp/runs/e0knyk69' target=\"_blank\">https://wandb.ai/senwanxiang/itrp/runs/e0knyk69</a><br/>Synced 5 W&B file(s), 0 media file(s), 0 artifact file(s) and 0 other file(s)"
      ],
      "text/plain": [
       "<IPython.core.display.HTML object>"
      ]
     },
     "metadata": {},
     "output_type": "display_data"
    },
    {
     "data": {
      "text/html": [
       "Find logs at: <code>./wandb/run-20231010_090754-e0knyk69/logs</code>"
      ],
      "text/plain": [
       "<IPython.core.display.HTML object>"
      ]
     },
     "metadata": {},
     "output_type": "display_data"
    },
    {
     "data": {
      "text/html": [
       "Successfully finished last run (ID:e0knyk69). Initializing new run:<br/>"
      ],
      "text/plain": [
       "<IPython.core.display.HTML object>"
      ]
     },
     "metadata": {},
     "output_type": "display_data"
    },
    {
     "data": {
      "application/vnd.jupyter.widget-view+json": {
       "model_id": "8d487bee698a4436be711274e3a28347",
       "version_major": 2,
       "version_minor": 0
      },
      "text/plain": [
       "VBox(children=(Label(value='Waiting for wandb.init()...\\r'), FloatProgress(value=0.011127122900021883, max=1.0…"
      ]
     },
     "metadata": {},
     "output_type": "display_data"
    },
    {
     "data": {
      "text/html": [
       "Tracking run with wandb version 0.15.12"
      ],
      "text/plain": [
       "<IPython.core.display.HTML object>"
      ]
     },
     "metadata": {},
     "output_type": "display_data"
    },
    {
     "data": {
      "text/html": [
       "Run data is saved locally in <code>/home/was966/Research/Pretrain_Immune_Response/wandb/run-20231010_090847-ufabipo2</code>"
      ],
      "text/plain": [
       "<IPython.core.display.HTML object>"
      ]
     },
     "metadata": {},
     "output_type": "display_data"
    },
    {
     "data": {
      "text/html": [
       "Syncing run <strong><a href='https://wandb.ai/senwanxiang/itrp/runs/ufabipo2' target=\"_blank\">lee-RC-AllAug-TentAll</a></strong> to <a href='https://wandb.ai/senwanxiang/itrp' target=\"_blank\">Weights & Biases</a> (<a href='https://wandb.me/run' target=\"_blank\">docs</a>)<br/>"
      ],
      "text/plain": [
       "<IPython.core.display.HTML object>"
      ]
     },
     "metadata": {},
     "output_type": "display_data"
    },
    {
     "data": {
      "text/html": [
       " View project at <a href='https://wandb.ai/senwanxiang/itrp' target=\"_blank\">https://wandb.ai/senwanxiang/itrp</a>"
      ],
      "text/plain": [
       "<IPython.core.display.HTML object>"
      ]
     },
     "metadata": {},
     "output_type": "display_data"
    },
    {
     "data": {
      "text/html": [
       " View run at <a href='https://wandb.ai/senwanxiang/itrp/runs/ufabipo2' target=\"_blank\">https://wandb.ai/senwanxiang/itrp/runs/ufabipo2</a>"
      ],
      "text/plain": [
       "<IPython.core.display.HTML object>"
      ]
     },
     "metadata": {},
     "output_type": "display_data"
    },
    {
     "name": "stderr",
     "output_type": "stream",
     "text": [
      "  0%|          | 1/200 [00:00<00:47,  4.23it/s]"
     ]
    },
    {
     "name": "stdout",
     "output_type": "stream",
     "text": [
      "17.548702239990234\n"
     ]
    },
    {
     "name": "stderr",
     "output_type": "stream",
     "text": [
      " 26%|██▌       | 51/200 [00:10<00:31,  4.78it/s]"
     ]
    },
    {
     "name": "stdout",
     "output_type": "stream",
     "text": [
      "17.490562438964844\n"
     ]
    },
    {
     "name": "stderr",
     "output_type": "stream",
     "text": [
      " 50%|█████     | 101/200 [00:21<00:21,  4.66it/s]"
     ]
    },
    {
     "name": "stdout",
     "output_type": "stream",
     "text": [
      "17.338302612304688\n"
     ]
    },
    {
     "name": "stderr",
     "output_type": "stream",
     "text": [
      " 76%|███████▌  | 151/200 [00:32<00:09,  5.07it/s]"
     ]
    },
    {
     "name": "stdout",
     "output_type": "stream",
     "text": [
      "17.311445236206055\n"
     ]
    },
    {
     "name": "stderr",
     "output_type": "stream",
     "text": [
      "100%|██████████| 200/200 [00:42<00:00,  4.73it/s]\n"
     ]
    },
    {
     "name": "stdout",
     "output_type": "stream",
     "text": [
      "0.0\n",
      "0.4444444444444444\n",
      "0.4594594594594595\n",
      "0.48\n",
      "0.48\n",
      "0.48\n",
      "Val: Acc=0.614, F1=0.480, auc=0.573\n"
     ]
    },
    {
     "data": {
      "image/png": "[encoded data removed]",
      "text/plain": [
       "<Figure size 640x480 with 1 Axes>"
      ]
     },
     "metadata": {},
     "output_type": "display_data"
    },
    {
     "name": "stdout",
     "output_type": "stream",
     "text": [
      "Deploy:Acc=0.568, F1=0.486, auc=0.624\n",
      "In: 0.6129847799180129 0.4948094558892681 0.593982054740705\n",
      "Cross: 0.5104131278373703 0.39690118915306183 0.554766350317816\n"
     ]
    }
   ],
   "source": [
    "allen_data, riaz_data, gide_data,  liu_data, hugo_data ,lee_data = load_data(genes, None)\n",
    "all_data = [allen_data, riaz_data, gide_data, liu_data, hugo_data,lee_data]\n",
    "for item in all_data:\n",
    "    item.x_train = item.x_train[:,signs]\n",
    "\n",
    "names = ['allen','riaz','gide','liu','hugo','lee']\n",
    "train_loaders = []\n",
    "val_loaders = []\n",
    "accs = []\n",
    "fs = []\n",
    "aucs = []\n",
    "vaccs = []\n",
    "vfs = []\n",
    "vaucs = []\n",
    "for i in range(6):\n",
    "    train = all_data[:i] + all_data[i+1:]\n",
    "    X = torch.cat([x.x_train for x in train])\n",
    "    y = torch.cat([x.y_train for x in train])\n",
    "    X_train, X_val, y_train, y_val = train_test_split(X, y, test_size=0.3, random_state=42)\n",
    "    input_dim = 272\n",
    "    contrast_transforms = transforms.RandomChoice([normal_mixup(train_normal, 0.7), Gaussian(0.05)])\n",
    "    train_data = Gene_data(X_train, y_train,transform=ContrastiveLearningViewGenerator(contrast_transforms))\n",
    "    test_data = Gene_data(X_val, y_val, transform=None)\n",
    "    train_loader = data.DataLoader(train_data, batch_size=batch_size, shuffle=True,\n",
    "                                    drop_last=False, pin_memory=True, num_workers=NUM_WORKERS)\n",
    "    val_loader = data.DataLoader(test_data, batch_size=batch_size, shuffle=True,\n",
    "                                    drop_last=False, pin_memory=True, num_workers=NUM_WORKERS)\n",
    "    # x_test = all_data[i]\n",
    "    # x_test.x_train = x_test.x_train[:,signs]\n",
    "    test_loader = data.DataLoader(all_data[i], batch_size=batch_size, shuffle=True,\n",
    "                                drop_last=False, pin_memory=True, num_workers=NUM_WORKERS)\n",
    "    model = SimCLR(input_dim,emb=feat_dim, out_dim=proj_dim).to('cuda')\n",
    "    model.load_state_dict(torch.load('models/simclr_tcga2.pt'))\n",
    "    optimizer = torch.optim.Adam(model.parameters(), 1e-2, weight_decay=weight_decay)\n",
    "    scheduler = torch.optim.lr_scheduler.CosineAnnealingLR(optimizer, T_max=200, eta_min=1e-4, last_epoch=-1)\n",
    "    loss_func = SupConLoss(temperature= tmp)\n",
    "\n",
    "    runname = f'{names[i]}-RC-AllAug-TentAll'\n",
    "    trainer = Trainer(model, train_loader, val_loader, test_loader, loss_func, optimizer, \\\n",
    "                      scheduler, 200, batch_size, \n",
    "                        run_name=runname)\n",
    "\n",
    "    trainer.fine_tune(i, tcga_loader)\n",
    "    classify = classifier(feat_dim).to('cuda')\n",
    "    va, vf, vauc = trainer.linear_probe(classify,i, 300)\n",
    "    a, f, auc = trainer.test()\n",
    "    accs.append(a)\n",
    "    fs.append(f)\n",
    "    aucs.append(auc)\n",
    "    vaccs.append(va)\n",
    "    vfs.append(vf)\n",
    "    vaucs.append(vauc)\n",
    "print(\"In:\", np.mean(vaccs), np.mean(vfs), np.mean(vaucs))\n",
    "print(\"Cross:\", np.mean(accs), np.mean(fs), np.mean(aucs))\n",
    "# trainer.tent()\n",
    "\n",
    "# za = []\n",
    "# yl = []\n",
    "# model = SimCLR(input_dim,emb=feat_dim, out_dim=proj_dim).to('cuda')\n",
    "# model.load_state_dict(torch.load('models/simclr1.pt'))\n",
    "# model.eval()\n",
    "# model.projection =nn.Identity()\n",
    "# train_data = Gene_data(tcga, pd.Series(arr_nums.squeeze()),transform=None)\n",
    "# train_loader = data.DataLoader(train_data, batch_size=batch_size, shuffle=True,\n",
    "#                                 drop_last=True, pin_memory=True, \\\n",
    "#                                     num_workers=NUM_WORKERS)\n",
    "# for i, (batch, l) in enumerate(train_loader):\n",
    "#     batch = batch.to(device)\n",
    "#     f = model(batch)\n",
    "#     za.append(f.cpu().detach().numpy())\n",
    "#     yl.append(l)\n",
    "# za = np.vstack(za)\n",
    "# yl = np.concatenate(yl)\n",
    "# y2string = np.vectorize(num_to_word_func)(yl)\n",
    "# yll = np.zeros(len(yl),)-1\n",
    "# print(za.shape[0])\n",
    "\n",
    "\n",
    "\n",
    "# brain_umap = umap.UMAP(random_state=999, n_neighbors=32, min_dist=1)\n",
    "# embedding = pd.DataFrame(brain_umap.fit_transform(za), columns = ['UMAP1','UMAP2'])\n",
    "# palette = sns.color_palette(\"bright\", 36)  #Choosing color\n",
    "# sns_plot = sns.scatterplot(x='UMAP1', y='UMAP2', data=embedding,\n",
    "#                 hue=y2string, palette=palette,\n",
    "#                 alpha=.9, linewidth=0, s=2, legend='full')\n",
    "\n",
    "# sns_plot.legend(loc='center left', bbox_to_anchor=(1, .5), ncol=3)\n",
    "# new_list = np.array(['TCGA' if x !='TCGA-SKCM' else x for x in y2string])\n",
    "\n",
    "# allen_data, riaz_data, gide_data,  liu_data, hugo_data ,lee_data = load_data(genes, None)\n",
    "# all_data = [allen_data, riaz_data, gide_data, liu_data, hugo_data,lee_data]\n",
    "# names = ['allen','riaz','gide','liu','hugo','lee']\n",
    "\n",
    "# for i in range(6):\n",
    "#     X = all_data[i].x_train\n",
    "#     y = all_data[i].y_train\n",
    "#     print(y.shape)\n",
    "#     train_data = Gene_data(X, y,transform=None)\n",
    "#     train_loader = data.DataLoader(train_data, batch_size=12, shuffle=True,\n",
    "#                                     drop_last=False, pin_memory=True, num_workers=NUM_WORKERS)\n",
    "\n",
    "#     for _, (batch, l) in enumerate(train_loader):\n",
    "#         batch = batch.to(device)\n",
    "#         f = model(batch)\n",
    "#         za = np.vstack([za,f.cpu().detach().numpy()])\n",
    "#         yll = np.concatenate([yll, l])\n",
    "#         new_list= np.concatenate([new_list, np.repeat(names[i],repeats=len(l))])\n",
    "\n",
    "# brain_umap = umap.UMAP(random_state=999, n_neighbors=32, min_dist=1)\n",
    "# embedding = pd.DataFrame(brain_umap.fit_transform(za), columns = ['UMAP1','UMAP2'])\n",
    "# palette = sns.color_palette(\"bright\", 8)  #Choosing color\n",
    "# sns_plot = sns.scatterplot(x='UMAP1', y='UMAP2', data=embedding,\n",
    "#                 hue=new_list, palette=palette,\n",
    "#                 alpha=.9, linewidth=0, s=2, legend='full')\n",
    "\n",
    "# sns_plot.legend(loc='center left', bbox_to_anchor=(1, .5), ncol=1)"
   ]
  },
  {
   "cell_type": "code",
   "execution_count": null,
   "id": "ef757ce7-2342-4343-9b1a-3904c22b52dd",
   "metadata": {},
   "outputs": [],
   "source": []
  },
  {
   "cell_type": "code",
   "execution_count": null,
   "id": "1ca7f240-d528-4c9a-8365-1abe544aea23",
   "metadata": {},
   "outputs": [],
   "source": []
  },
  {
   "cell_type": "code",
   "execution_count": null,
   "id": "47706381-307f-4f77-a1da-7c83c6895359",
   "metadata": {},
   "outputs": [],
   "source": []
  }
 ],
 "metadata": {
  "kernelspec": {
   "display_name": "Python 3 (ipykernel)",
   "language": "python",
   "name": "python3"
  },
  "language_info": {
   "codemirror_mode": {
    "name": "ipython",
    "version": 3
   },
   "file_extension": ".py",
   "mimetype": "text/x-python",
   "name": "python",
   "nbconvert_exporter": "python",
   "pygments_lexer": "ipython3",
   "version": "3.11.4"
  }
 },
 "nbformat": 4,
 "nbformat_minor": 5
}
