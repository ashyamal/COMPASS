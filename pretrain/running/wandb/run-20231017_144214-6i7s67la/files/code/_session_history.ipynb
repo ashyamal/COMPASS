{
 "cells": [
  {
   "cell_type": "code",
   "execution_count": 1,
   "id": "6133c611",
   "metadata": {},
   "outputs": [],
   "source": [
    "import os\n",
    "from tqdm import tqdm\n",
    "import numpy as np\n",
    "import pandas as pd\n",
    "from glob import glob\n",
    "from itertools import chain\n",
    "import matplotlib.pyplot as plt\n",
    "import seaborn as sns\n",
    "sns.set(style = 'white', font_scale=1.5)"
   ]
  },
  {
   "cell_type": "code",
   "execution_count": 2,
   "id": "f15ed8c4",
   "metadata": {},
   "outputs": [],
   "source": [
    "import sys\n",
    "sys.path.insert(0, '/home/was966/Research/PSOG/itrp/itrpnet')\n",
    "\n",
    "from trainer import TCGAPreTrainer"
   ]
  },
  {
   "cell_type": "code",
   "execution_count": 3,
   "id": "93aefb4d",
   "metadata": {},
   "outputs": [],
   "source": [
    "def onehot(S):\n",
    "    assert type(S) == pd.Series, 'Input type should be pd.Series'\n",
    "    dfd = pd.get_dummies(S, dummy_na=True)\n",
    "    nanidx = dfd[dfd[np.nan]].index\n",
    "    dfd.loc[nanidx, :] = np.nan\n",
    "    dfd = dfd.drop(columns=[np.nan])*1.\n",
    "    return dfd\n",
    "    \n",
    "data_path = '/n/data1/hms/dbmi/zitnik/lab/users/was966/ITRP/TCGA-ITRP-MERGE/876/'\n",
    "df_tpm = pd.read_pickle(os.path.join(data_path, 'TPM.TCGA.TABLE'))\n",
    "df_tpm_normal = pd.read_pickle(os.path.join(data_path, 'TPM.TCGA.NORMAL.TABLE'))\n",
    "\n",
    "tcga_label = pd.read_pickle(os.path.join(data_path, 'PATIENT.TCGA.TABLE'))\n",
    "mutation = tcga_label[['tmb', 'cnv', 'msi']] #.fillna(0)\n",
    "df_cancer = tcga_label[['cancer_type']]\n",
    "\n",
    "df_tmb = mutation[['tmb']]\n",
    "df_msi = mutation[['msi']]\n",
    "df_cnv= mutation[['cnv']]\n",
    "df_ctc = tcga_label[['cancer_type']]\n",
    "\n",
    "df_msi = onehot(df_msi.msi)\n",
    "df_ctc = onehot(df_ctc.cancer_type)\n",
    "df_rps = onehot(tcga_label['treatment_outcome'])\n",
    "df_ost = np.log10(tcga_label[['os_time']]+1)\n",
    "df_oss = onehot(tcga_label.os_status)\n",
    "\n",
    "df_pft = np.log10(tcga_label[['pfi_time']]+1)\n",
    "df_pfs = onehot(tcga_label.pfi_status)"
   ]
  },
  {
   "cell_type": "code",
   "execution_count": 4,
   "id": "e7a68a74",
   "metadata": {},
   "outputs": [],
   "source": [
    "\n",
    "tasks = {'msi': df_msi, \n",
    "         'tmb': df_tmb, \n",
    "         'cnv':df_cnv, \n",
    "         'ctc':df_ctc, \n",
    "         'rps':df_rps, \n",
    "         'ost':df_ost,\n",
    "         'oss':df_oss,\n",
    "         'pft':df_pft,\n",
    "         'pfs':df_pfs}\n",
    "\n",
    "\n",
    "tasks_type_map = {'msi': 'c', 'tmb': 'r', \n",
    "                  'cnv':'r', 'ctc':'c', \n",
    "                  'rps':'c', 'ost':'r', \n",
    "                  'oss':'c', 'pft':'r', 'pfs':'c'}"
   ]
  },
  {
   "cell_type": "code",
   "execution_count": 5,
   "id": "23cf401f",
   "metadata": {},
   "outputs": [],
   "source": [
    "tasks = {'tmb': df_tmb}"
   ]
  },
  {
   "cell_type": "code",
   "execution_count": 6,
   "id": "e3ede144",
   "metadata": {},
   "outputs": [],
   "source": [
    "for task_name, df_task  in tasks.items():\n",
    "    task_type = tasks_type_map[task_name]"
   ]
  },
  {
   "cell_type": "code",
   "execution_count": 7,
   "id": "a6c4fb2e",
   "metadata": {},
   "outputs": [],
   "source": [
    "test_idx = df_cancer.groupby('cancer_type').apply(lambda x:x.sample(frac=0.2, random_state=1).index.tolist()).tolist()\n",
    "test_idx = list(chain(*test_idx))\n",
    "train_idx = df_cancer[~df_cancer.index.isin(test_idx)].index\n",
    "\n",
    "df_task_train = df_task.loc[train_idx]\n",
    "df_tpm_train = df_tpm.loc[train_idx]\n",
    "\n",
    "df_task_test = df_task.loc[test_idx]\n",
    "df_tpm_test = df_tpm.loc[test_idx]\n",
    "\n",
    "print(len(df_tpm_train), len(df_tpm_test), len(df_tpm_normal))"
   ]
  },
  {
   "cell_type": "code",
   "execution_count": 8,
   "id": "55e7411b",
   "metadata": {},
   "outputs": [],
   "source": [
    "# ## parameters\n",
    "# device='cuda'\n",
    "# lr = 1e-5\n",
    "# weight_decay = 1e-4\n",
    "# epochs = 10\n",
    "# batch_size = 64\n",
    "# embed_dim=32\n",
    "# triplet_margin=1.\n",
    "# K = 500\n",
    "\n",
    "# task_loss_weight = 1.\n",
    "# task_dense_layer = [24, 16]\n",
    "# task_batch_norms = False\n",
    "\n",
    "# encoder='transformer'\n",
    "# transformer_dim = 256\n",
    "# transformer_num_layers = 4\n",
    "\n",
    "\n",
    "# #encoder= 'mlp'\n",
    "# mlp_dense_layers = [512, 256, 128]\n",
    "\n",
    "T = TCGAPreTrainer(df_tpm_normal, encoder='mlp', \n",
    "                   encoder_dropout = 0.1,\n",
    "                   mlp_dense_layers = [256, 256, 256], \n",
    "                   epochs=500, \n",
    "                   lr = 1e-5, \n",
    "                   weight_decay = 1e-5,\n",
    "                   triplet_margin = 1., K = 500, run_name_prefix = 'T')"
   ]
  },
  {
   "cell_type": "code",
   "execution_count": 9,
   "id": "611d51b4",
   "metadata": {},
   "outputs": [
    {
     "name": "stdout",
     "output_type": "stream",
     "text": [
      "<trainer.TCGAPreTrainer at 0x7efeddc1da10>"
     ]
    }
   ],
   "source": [
    "T.train(df_tpm_train, df_task_train, task_name, task_type, df_tpm_test, df_task_test)"
   ]
  },
  {
   "cell_type": "code",
   "execution_count": 10,
   "id": "b922b466",
   "metadata": {},
   "outputs": [],
   "source": [
    "dfc = df_cancer.cancer_type.apply(lambda x:x.replace('TCGA-', '')).to_frame()\n",
    "msi = tcga_label[['msi']]\n",
    "cnv = tcga_label.cnv.clip(-1, 0.5).to_frame(name='cnv')\n",
    "\n",
    "l1 = tcga_label[['race', 'vital_status', 'treatment_outcome']].fillna('NaN')\n",
    "l2 = np.log10(tcga_label[['pfi_time', 'os_time']]+1)\n",
    "l3 = tcga_label[['gender', 'age',]]\n",
    "df_label = dfc.join(df_tmb).join(cnv).join(msi).join(l1).join(l2).join(l3)\n",
    "label_col = ['cancer_type', 'tmb', 'cnv', 'msi', 'race', 'vital_status',\n",
    "       'treatment_outcome', 'pfi_time', 'os_time', 'gender', 'age']\n",
    "\n",
    "label_type = ['c', 'r', 'r', 'c',  'c', 'c', 'c',  'r',  'r', 'c', 'r',]\n",
    "T.plot_embed(df_tpm_test, df_label.loc[df_tpm_test.index], label_type, s=5,figsize=(5,5))"
   ]
  },
  {
   "cell_type": "code",
   "execution_count": 11,
   "id": "abc45106",
   "metadata": {},
   "outputs": [],
   "source": [
    "### make prediction & plot on ITRP\n",
    "itrp_x = pd.read_pickle(os.path.join(data_path, 'TPM.ITRP.TABLE'))\n",
    "itrp_meta = pd.read_pickle(os.path.join(data_path, 'PATIENT.ITRP.TABLE'))\n",
    "itrp_meta['response_label'] = itrp_meta['Freeman_response']\n",
    "itrp_meta['response_label'][itrp_meta.cohort == 'Gide'] = itrp_meta['RECIST_Response'][itrp_meta.cohort == 'Gide']\n",
    "itrp_y = itrp_meta[['response_label']]\n",
    "itrp_c = itrp_meta[['cohort']]\n",
    "itrp_meta.groupby('cohort')['response_label'].value_counts().unstack().T\n",
    "\n",
    "label_col = ['cohort','response_label','RECIST','Alive (Y=1, No=0)', 'Overall_survival']\n",
    "df_label = itrp_meta[label_col]\n",
    "label_type = ['c', 'c', 'c', 'c', 'r']\n",
    "\n",
    "T.plot_embed(itrp_x, df_label, label_type, s=20, figsize=(5,5))"
   ]
  },
  {
   "cell_type": "code",
   "execution_count": 12,
   "id": "8def2926",
   "metadata": {},
   "outputs": [],
   "source": [
    "import os\n",
    "from tqdm import tqdm\n",
    "import numpy as np\n",
    "import pandas as pd\n",
    "from glob import glob\n",
    "from itertools import chain\n",
    "import matplotlib.pyplot as plt\n",
    "import seaborn as sns\n",
    "sns.set(style = 'white', font_scale=1.5)"
   ]
  },
  {
   "cell_type": "code",
   "execution_count": 13,
   "id": "543d3d32",
   "metadata": {},
   "outputs": [],
   "source": [
    "import sys\n",
    "sys.path.insert(0, '/home/was966/Research/PSOG/itrp/itrpnet')\n",
    "\n",
    "from trainer import TCGAPreTrainer"
   ]
  },
  {
   "cell_type": "code",
   "execution_count": 14,
   "id": "88842522",
   "metadata": {},
   "outputs": [],
   "source": [
    "def onehot(S):\n",
    "    assert type(S) == pd.Series, 'Input type should be pd.Series'\n",
    "    dfd = pd.get_dummies(S, dummy_na=True)\n",
    "    nanidx = dfd[dfd[np.nan]].index\n",
    "    dfd.loc[nanidx, :] = np.nan\n",
    "    dfd = dfd.drop(columns=[np.nan])*1.\n",
    "    return dfd\n",
    "    \n",
    "data_path = '/n/data1/hms/dbmi/zitnik/lab/users/was966/ITRP/TCGA-ITRP-MERGE/876/'\n",
    "df_tpm = pd.read_pickle(os.path.join(data_path, 'TPM.TCGA.TABLE'))\n",
    "df_tpm_normal = pd.read_pickle(os.path.join(data_path, 'TPM.TCGA.NORMAL.TABLE'))\n",
    "\n",
    "tcga_label = pd.read_pickle(os.path.join(data_path, 'PATIENT.TCGA.TABLE'))\n",
    "mutation = tcga_label[['tmb', 'cnv', 'msi']] #.fillna(0)\n",
    "df_cancer = tcga_label[['cancer_type']]\n",
    "\n",
    "df_tmb = mutation[['tmb']]\n",
    "df_msi = mutation[['msi']]\n",
    "df_cnv= mutation[['cnv']]\n",
    "df_ctc = tcga_label[['cancer_type']]\n",
    "\n",
    "df_msi = onehot(df_msi.msi)\n",
    "df_ctc = onehot(df_ctc.cancer_type)\n",
    "df_rps = onehot(tcga_label['treatment_outcome'])\n",
    "df_ost = np.log10(tcga_label[['os_time']]+1)\n",
    "df_oss = onehot(tcga_label.os_status)\n",
    "\n",
    "df_pft = np.log10(tcga_label[['pfi_time']]+1)\n",
    "df_pfs = onehot(tcga_label.pfi_status)"
   ]
  },
  {
   "cell_type": "code",
   "execution_count": 15,
   "id": "023d5dc7",
   "metadata": {},
   "outputs": [],
   "source": [
    "\n",
    "tasks = {'msi': df_msi, \n",
    "         'tmb': df_tmb, \n",
    "         'cnv':df_cnv, \n",
    "         'ctc':df_ctc, \n",
    "         'rps':df_rps, \n",
    "         'ost':df_ost,\n",
    "         'oss':df_oss,\n",
    "         'pft':df_pft,\n",
    "         'pfs':df_pfs}\n",
    "\n",
    "\n",
    "tasks_type_map = {'msi': 'c', 'tmb': 'r', \n",
    "                  'cnv':'r', 'ctc':'c', \n",
    "                  'rps':'c', 'ost':'r', \n",
    "                  'oss':'c', 'pft':'r', 'pfs':'c'}"
   ]
  },
  {
   "cell_type": "code",
   "execution_count": 16,
   "id": "7de31f86",
   "metadata": {},
   "outputs": [],
   "source": [
    "tasks = {'tmb': df_tmb}"
   ]
  },
  {
   "cell_type": "code",
   "execution_count": 17,
   "id": "1a1d1a93",
   "metadata": {},
   "outputs": [],
   "source": [
    "for task_name, df_task  in tasks.items():\n",
    "    task_type = tasks_type_map[task_name]"
   ]
  },
  {
   "cell_type": "code",
   "execution_count": 18,
   "id": "4bc2b6b7",
   "metadata": {},
   "outputs": [],
   "source": [
    "test_idx = df_cancer.groupby('cancer_type').apply(lambda x:x.sample(frac=0.2, random_state=1).index.tolist()).tolist()\n",
    "test_idx = list(chain(*test_idx))\n",
    "train_idx = df_cancer[~df_cancer.index.isin(test_idx)].index\n",
    "\n",
    "df_task_train = df_task.loc[train_idx]\n",
    "df_tpm_train = df_tpm.loc[train_idx]\n",
    "\n",
    "df_task_test = df_task.loc[test_idx]\n",
    "df_tpm_test = df_tpm.loc[test_idx]\n",
    "\n",
    "print(len(df_tpm_train), len(df_tpm_test), len(df_tpm_normal))"
   ]
  },
  {
   "cell_type": "code",
   "execution_count": 19,
   "id": "de1dc193",
   "metadata": {},
   "outputs": [],
   "source": [
    "# ## parameters\n",
    "# device='cuda'\n",
    "# lr = 1e-5\n",
    "# weight_decay = 1e-4\n",
    "# epochs = 10\n",
    "# batch_size = 64\n",
    "# embed_dim=32\n",
    "# triplet_margin=1.\n",
    "# K = 500\n",
    "\n",
    "# task_loss_weight = 1.\n",
    "# task_dense_layer = [24, 16]\n",
    "# task_batch_norms = False\n",
    "\n",
    "# encoder='transformer'\n",
    "# transformer_dim = 256\n",
    "# transformer_num_layers = 4\n",
    "\n",
    "\n",
    "# #encoder= 'mlp'\n",
    "# mlp_dense_layers = [512, 256, 128]\n",
    "\n",
    "T = TCGAPreTrainer(df_tpm_normal, encoder='mlp', \n",
    "                   encoder_dropout = 0.1,\n",
    "                   mlp_dense_layers = [256, ], \n",
    "                   epochs=500, \n",
    "                   lr = 1e-5, \n",
    "                   weight_decay = 1e-4,\n",
    "                   triplet_margin = 1., K = 500, run_name_prefix = 'T')"
   ]
  },
  {
   "cell_type": "code",
   "execution_count": 20,
   "id": "fe37ff1c",
   "metadata": {},
   "outputs": [
    {
     "name": "stdout",
     "output_type": "stream",
     "text": [
      "<trainer.TCGAPreTrainer at 0x7eff94c6b890>"
     ]
    }
   ],
   "source": [
    "T.train(df_tpm_train, df_task_train, task_name, task_type, df_tpm_test, df_task_test)"
   ]
  },
  {
   "cell_type": "code",
   "execution_count": 21,
   "id": "748e0c5d",
   "metadata": {},
   "outputs": [],
   "source": [
    "dfc = df_cancer.cancer_type.apply(lambda x:x.replace('TCGA-', '')).to_frame()\n",
    "msi = tcga_label[['msi']]\n",
    "cnv = tcga_label.cnv.clip(-1, 0.5).to_frame(name='cnv')\n",
    "\n",
    "l1 = tcga_label[['race', 'vital_status', 'treatment_outcome']].fillna('NaN')\n",
    "l2 = np.log10(tcga_label[['pfi_time', 'os_time']]+1)\n",
    "l3 = tcga_label[['gender', 'age',]]\n",
    "df_label = dfc.join(df_tmb).join(cnv).join(msi).join(l1).join(l2).join(l3)\n",
    "label_col = ['cancer_type', 'tmb', 'cnv', 'msi', 'race', 'vital_status',\n",
    "       'treatment_outcome', 'pfi_time', 'os_time', 'gender', 'age']\n",
    "\n",
    "label_type = ['c', 'r', 'r', 'c',  'c', 'c', 'c',  'r',  'r', 'c', 'r',]\n",
    "T.plot_embed(df_tpm_test, df_label.loc[df_tpm_test.index], label_type, s=5,figsize=(5,5))"
   ]
  },
  {
   "cell_type": "code",
   "execution_count": 22,
   "id": "69241f49",
   "metadata": {},
   "outputs": [],
   "source": [
    "### make prediction & plot on ITRP\n",
    "itrp_x = pd.read_pickle(os.path.join(data_path, 'TPM.ITRP.TABLE'))\n",
    "itrp_meta = pd.read_pickle(os.path.join(data_path, 'PATIENT.ITRP.TABLE'))\n",
    "itrp_meta['response_label'] = itrp_meta['Freeman_response']\n",
    "itrp_meta['response_label'][itrp_meta.cohort == 'Gide'] = itrp_meta['RECIST_Response'][itrp_meta.cohort == 'Gide']\n",
    "itrp_y = itrp_meta[['response_label']]\n",
    "itrp_c = itrp_meta[['cohort']]\n",
    "itrp_meta.groupby('cohort')['response_label'].value_counts().unstack().T\n",
    "\n",
    "label_col = ['cohort','response_label','RECIST','Alive (Y=1, No=0)', 'Overall_survival']\n",
    "df_label = itrp_meta[label_col]\n",
    "label_type = ['c', 'c', 'c', 'c', 'r']\n",
    "\n",
    "T.plot_embed(itrp_x, df_label, label_type, s=20, figsize=(5,5))"
   ]
  },
  {
   "cell_type": "code",
   "execution_count": 23,
   "id": "9b3af05c",
   "metadata": {},
   "outputs": [],
   "source": [
    "dfc = df_cancer.cancer_type.apply(lambda x:x.replace('TCGA-', '')).to_frame()\n",
    "msi = tcga_label[['msi']]\n",
    "cnv = tcga_label.cnv.clip(-1, 0.5).to_frame(name='cnv')\n",
    "\n",
    "l1 = tcga_label[['race', 'vital_status', 'treatment_outcome']].fillna('NaN')\n",
    "l2 = np.log10(tcga_label[['pfi_time', 'os_time']]+1)\n",
    "l3 = tcga_label[['gender', 'age',]]\n",
    "df_label = dfc.join(df_tmb).join(cnv).join(msi).join(l1).join(l2).join(l3)\n",
    "label_col = ['cancer_type', 'tmb', 'cnv', 'msi', 'race', 'vital_status',\n",
    "       'treatment_outcome', 'pfi_time', 'os_time', 'gender', 'age']\n",
    "\n",
    "label_type = ['c', 'r', 'r', 'c',  'c', 'c', 'c',  'r',  'r', 'c', 'r',]\n",
    "T.plot_embed(df_tpm_test, df_label.loc[df_tpm_test.index], label_type, s=5,figsize=(5,5))"
   ]
  },
  {
   "cell_type": "code",
   "execution_count": 24,
   "id": "d2f4785a",
   "metadata": {},
   "outputs": [],
   "source": [
    "### make prediction & plot on ITRP\n",
    "itrp_x = pd.read_pickle(os.path.join(data_path, 'TPM.ITRP.TABLE'))\n",
    "itrp_meta = pd.read_pickle(os.path.join(data_path, 'PATIENT.ITRP.TABLE'))\n",
    "itrp_meta['response_label'] = itrp_meta['Freeman_response']\n",
    "itrp_meta['response_label'][itrp_meta.cohort == 'Gide'] = itrp_meta['RECIST_Response'][itrp_meta.cohort == 'Gide']\n",
    "itrp_y = itrp_meta[['response_label']]\n",
    "itrp_c = itrp_meta[['cohort']]\n",
    "itrp_meta.groupby('cohort')['response_label'].value_counts().unstack().T\n",
    "\n",
    "label_col = ['cohort','response_label','RECIST','Alive (Y=1, No=0)', 'Overall_survival']\n",
    "df_label = itrp_meta[label_col]\n",
    "label_type = ['c', 'c', 'c', 'c', 'r']\n",
    "\n",
    "T.plot_embed(itrp_x, df_label, label_type, s=20, figsize=(5,5))"
   ]
  },
  {
   "cell_type": "code",
   "execution_count": 25,
   "id": "7c210ced",
   "metadata": {},
   "outputs": [],
   "source": [
    "import os\n",
    "from tqdm import tqdm\n",
    "import numpy as np\n",
    "import pandas as pd\n",
    "from glob import glob\n",
    "from itertools import chain\n",
    "import matplotlib.pyplot as plt\n",
    "import seaborn as sns\n",
    "sns.set(style = 'white', font_scale=1.5)"
   ]
  },
  {
   "cell_type": "code",
   "execution_count": 26,
   "id": "e1608154",
   "metadata": {},
   "outputs": [],
   "source": [
    "import sys\n",
    "sys.path.insert(0, '/home/was966/Research/PSOG/itrp/itrpnet')\n",
    "\n",
    "from trainer import TCGAPreTrainer"
   ]
  },
  {
   "cell_type": "code",
   "execution_count": 27,
   "id": "b84cf3f3",
   "metadata": {},
   "outputs": [],
   "source": [
    "def onehot(S):\n",
    "    assert type(S) == pd.Series, 'Input type should be pd.Series'\n",
    "    dfd = pd.get_dummies(S, dummy_na=True)\n",
    "    nanidx = dfd[dfd[np.nan]].index\n",
    "    dfd.loc[nanidx, :] = np.nan\n",
    "    dfd = dfd.drop(columns=[np.nan])*1.\n",
    "    return dfd\n",
    "    \n",
    "data_path = '/n/data1/hms/dbmi/zitnik/lab/users/was966/ITRP/TCGA-ITRP-MERGE/876/'\n",
    "df_tpm = pd.read_pickle(os.path.join(data_path, 'TPM.TCGA.TABLE'))\n",
    "df_tpm_normal = pd.read_pickle(os.path.join(data_path, 'TPM.TCGA.NORMAL.TABLE'))\n",
    "\n",
    "tcga_label = pd.read_pickle(os.path.join(data_path, 'PATIENT.TCGA.TABLE'))\n",
    "mutation = tcga_label[['tmb', 'cnv', 'msi']] #.fillna(0)\n",
    "df_cancer = tcga_label[['cancer_type']]\n",
    "\n",
    "df_tmb = mutation[['tmb']]\n",
    "df_msi = mutation[['msi']]\n",
    "df_cnv= mutation[['cnv']]\n",
    "df_ctc = tcga_label[['cancer_type']]\n",
    "\n",
    "df_msi = onehot(df_msi.msi)\n",
    "df_ctc = onehot(df_ctc.cancer_type)\n",
    "df_rps = onehot(tcga_label['treatment_outcome'])\n",
    "df_ost = np.log10(tcga_label[['os_time']]+1)\n",
    "df_oss = onehot(tcga_label.os_status)\n",
    "\n",
    "df_pft = np.log10(tcga_label[['pfi_time']]+1)\n",
    "df_pfs = onehot(tcga_label.pfi_status)"
   ]
  },
  {
   "cell_type": "code",
   "execution_count": 28,
   "id": "2c0ffbdd",
   "metadata": {},
   "outputs": [],
   "source": [
    "\n",
    "tasks = {'msi': df_msi, \n",
    "         'tmb': df_tmb, \n",
    "         'cnv':df_cnv, \n",
    "         'ctc':df_ctc, \n",
    "         'rps':df_rps, \n",
    "         'ost':df_ost,\n",
    "         'oss':df_oss,\n",
    "         'pft':df_pft,\n",
    "         'pfs':df_pfs}\n",
    "\n",
    "\n",
    "tasks_type_map = {'msi': 'c', 'tmb': 'r', \n",
    "                  'cnv':'r', 'ctc':'c', \n",
    "                  'rps':'c', 'ost':'r', \n",
    "                  'oss':'c', 'pft':'r', 'pfs':'c'}"
   ]
  },
  {
   "cell_type": "code",
   "execution_count": 29,
   "id": "eb4f341a",
   "metadata": {},
   "outputs": [],
   "source": [
    "tasks = {'tmb': df_tmb}"
   ]
  },
  {
   "cell_type": "code",
   "execution_count": 30,
   "id": "d1aba7ae",
   "metadata": {},
   "outputs": [],
   "source": [
    "for task_name, df_task  in tasks.items():\n",
    "    task_type = tasks_type_map[task_name]"
   ]
  },
  {
   "cell_type": "code",
   "execution_count": 31,
   "id": "1362f4e6",
   "metadata": {},
   "outputs": [],
   "source": [
    "test_idx = df_cancer.groupby('cancer_type').apply(lambda x:x.sample(frac=0.2, random_state=1).index.tolist()).tolist()\n",
    "test_idx = list(chain(*test_idx))\n",
    "train_idx = df_cancer[~df_cancer.index.isin(test_idx)].index\n",
    "\n",
    "df_task_train = df_task.loc[train_idx]\n",
    "df_tpm_train = df_tpm.loc[train_idx]\n",
    "\n",
    "df_task_test = df_task.loc[test_idx]\n",
    "df_tpm_test = df_tpm.loc[test_idx]\n",
    "\n",
    "print(len(df_tpm_train), len(df_tpm_test), len(df_tpm_normal))"
   ]
  },
  {
   "cell_type": "code",
   "execution_count": 32,
   "id": "870a3ea6",
   "metadata": {},
   "outputs": [],
   "source": [
    "# ## parameters\n",
    "# device='cuda'\n",
    "# lr = 1e-5\n",
    "# weight_decay = 1e-4\n",
    "# epochs = 10\n",
    "# batch_size = 64\n",
    "# embed_dim=32\n",
    "# triplet_margin=1.\n",
    "# K = 500\n",
    "\n",
    "# task_loss_weight = 1.\n",
    "# task_dense_layer = [24, 16]\n",
    "# task_batch_norms = False\n",
    "\n",
    "# encoder='transformer'\n",
    "# transformer_dim = 256\n",
    "# transformer_num_layers = 4\n",
    "\n",
    "\n",
    "# #encoder= 'mlp'\n",
    "# mlp_dense_layers = [512, 256, 128]\n",
    "\n",
    "T = TCGAPreTrainer(df_tpm_normal, encoder='mlp', \n",
    "                   encoder_dropout = 0.1,\n",
    "                   mlp_dense_layers = [256, 256, 256], \n",
    "                   epochs=500, \n",
    "                   lr = 1e-5, \n",
    "                   weight_decay = 1e-4,\n",
    "                   triplet_margin = 1., K = 500, run_name_prefix = 'T')"
   ]
  },
  {
   "cell_type": "code",
   "execution_count": 33,
   "id": "7c3cd5f3",
   "metadata": {},
   "outputs": [
    {
     "data": {
      "text/html": [
       "Finishing last run (ID:uockej68) before initializing another..."
      ],
      "text/plain": [
       "<IPython.core.display.HTML object>"
      ]
     },
     "metadata": {},
     "output_type": "display_data"
    },
    {
     "data": {
      "text/html": [
       "Waiting for W&B process to finish... <strong style=\"color:green\">(success).</strong>"
      ],
      "text/plain": [
       "<IPython.core.display.HTML object>"
      ]
     },
     "metadata": {},
     "output_type": "display_data"
    },
    {
     "data": {
      "text/html": [
       "<style>\n",
       "    table.wandb td:nth-child(1) { padding: 0 10px; text-align: left ; width: auto;} td:nth-child(2) {text-align: left ; width: 100%}\n",
       "    .wandb-row { display: flex; flex-direction: row; flex-wrap: wrap; justify-content: flex-start; width: 100% }\n",
       "    .wandb-col { display: flex; flex-direction: column; flex-basis: 100%; flex: 1; padding: 10px; }\n",
       "    </style>\n",
       "<div class=\"wandb-row\"><div class=\"wandb-col\"><h3>Run history:</h3><br/><table class=\"wandb\"><tr><td>test_loss</td><td>█▅▅▄▄▄▄▃▃▃▃▃▂▂▂▂▂▂▂▂▂▂▂▂▂▁▁▁▁▁▁▁▁▁▁▁▁▁▁▁</td></tr><tr><td>test_ssl_loss</td><td>█▅▅▅▅▄▄▄▄▃▃▃▃▃▂▂▂▂▂▂▂▂▂▂▂▂▂▁▁▁▁▁▁▁▁▁▁▁▁▁</td></tr><tr><td>test_tsk_loss</td><td>█▇▅▃▂▁▁▁▁▁▁▁▁▁▁▁▁▁▁▁▁▁▁▁▁▁▁▁▁▁▁▁▁▁▁▁▁▁▁▁</td></tr><tr><td>train_loss</td><td>█▄▄▃▃▂▂▂▂▂▂▂▂▂▂▂▂▂▁▁▁▁▁▁▁▁▁▁▁▁▁▁▁▁▁▁▁▁▁▁</td></tr><tr><td>train_ssl_loss</td><td>█▃▃▃▃▂▂▂▂▂▂▂▂▂▂▂▂▂▂▂▂▂▁▁▁▁▁▁▁▁▁▁▁▁▁▁▁▁▁▁</td></tr><tr><td>train_tsk_loss</td><td>█▇▅▃▂▂▁▁▁▁▁▁▁▁▁▁▁▁▁▁▁▁▁▁▁▁▁▁▁▁▁▁▁▁▁▁▁▁▁▁</td></tr></table><br/></div><div class=\"wandb-col\"><h3>Run summary:</h3><br/><table class=\"wandb\"><tr><td>test_loss</td><td>0.19936</td></tr><tr><td>test_ssl_loss</td><td>0.18969</td></tr><tr><td>test_tsk_loss</td><td>0.00967</td></tr><tr><td>train_loss</td><td>0.27454</td></tr><tr><td>train_ssl_loss</td><td>0.26535</td></tr><tr><td>train_tsk_loss</td><td>0.00919</td></tr></table><br/></div></div>"
      ],
      "text/plain": [
       "<IPython.core.display.HTML object>"
      ]
     },
     "metadata": {},
     "output_type": "display_data"
    },
    {
     "data": {
      "text/html": [
       " View run <strong style=\"color:#cdcd00\">T-mlp-(tmb-1.0)-bt64-lr1e-05-aug0.7-k500-marigin1.0</strong> at: <a href='https://wandb.ai/senwanxiang/itrp/runs/uockej68' target=\"_blank\">https://wandb.ai/senwanxiang/itrp/runs/uockej68</a><br/>Synced 6 W&B file(s), 0 media file(s), 0 artifact file(s) and 0 other file(s)"
      ],
      "text/plain": [
       "<IPython.core.display.HTML object>"
      ]
     },
     "metadata": {},
     "output_type": "display_data"
    },
    {
     "data": {
      "text/html": [
       "Find logs at: <code>./wandb/run-20231017_142428-uockej68/logs</code>"
      ],
      "text/plain": [
       "<IPython.core.display.HTML object>"
      ]
     },
     "metadata": {},
     "output_type": "display_data"
    },
    {
     "data": {
      "text/html": [
       "Successfully finished last run (ID:uockej68). Initializing new run:<br/>"
      ],
      "text/plain": [
       "<IPython.core.display.HTML object>"
      ]
     },
     "metadata": {},
     "output_type": "display_data"
    },
    {
     "data": {
      "application/vnd.jupyter.widget-view+json": {
       "model_id": "4d3a877cf1d54a8f87bad1c4a7ea8f02",
       "version_major": 2,
       "version_minor": 0
      },
      "text/plain": [
       "VBox(children=(Label(value='Waiting for wandb.init()...\\r'), FloatProgress(value=0.011114610255592398, max=1.0…"
      ]
     },
     "metadata": {},
     "output_type": "display_data"
    },
    {
     "data": {
      "text/html": [
       "Tracking run with wandb version 0.15.12"
      ],
      "text/plain": [
       "<IPython.core.display.HTML object>"
      ]
     },
     "metadata": {},
     "output_type": "display_data"
    },
    {
     "data": {
      "text/html": [
       "Run data is saved locally in <code>/home/was966/Research/PSOG/pretrain/running/wandb/run-20231017_144214-6i7s67la</code>"
      ],
      "text/plain": [
       "<IPython.core.display.HTML object>"
      ]
     },
     "metadata": {},
     "output_type": "display_data"
    },
    {
     "data": {
      "text/html": [
       "Syncing run <strong><a href='https://wandb.ai/senwanxiang/itrp/runs/6i7s67la' target=\"_blank\">T-mlp-(tmb-1.0)-bt64-lr1e-05-aug0.7-k500-marigin1.0</a></strong> to <a href='https://wandb.ai/senwanxiang/itrp' target=\"_blank\">Weights & Biases</a> (<a href='https://wandb.me/run' target=\"_blank\">docs</a>)<br/>"
      ],
      "text/plain": [
       "<IPython.core.display.HTML object>"
      ]
     },
     "metadata": {},
     "output_type": "display_data"
    },
    {
     "data": {
      "text/html": [
       " View project at <a href='https://wandb.ai/senwanxiang/itrp' target=\"_blank\">https://wandb.ai/senwanxiang/itrp</a>"
      ],
      "text/plain": [
       "<IPython.core.display.HTML object>"
      ]
     },
     "metadata": {},
     "output_type": "display_data"
    },
    {
     "data": {
      "text/html": [
       " View run at <a href='https://wandb.ai/senwanxiang/itrp/runs/6i7s67la' target=\"_blank\">https://wandb.ai/senwanxiang/itrp/runs/6i7s67la</a>"
      ],
      "text/plain": [
       "<IPython.core.display.HTML object>"
      ]
     },
     "metadata": {},
     "output_type": "display_data"
    }
   ],
   "source": [
    "T.train(df_tpm_train, df_task_train, task_name, task_type, df_tpm_test, df_task_test)"
   ]
  },
  {
   "cell_type": "code",
   "execution_count": 34,
   "id": "516f0453",
   "metadata": {},
   "outputs": [],
   "source": [
    "import os\n",
    "from tqdm import tqdm\n",
    "import numpy as np\n",
    "import pandas as pd\n",
    "from glob import glob\n",
    "from itertools import chain\n",
    "import matplotlib.pyplot as plt\n",
    "import seaborn as sns\n",
    "sns.set(style = 'white', font_scale=1.5)"
   ]
  },
  {
   "cell_type": "code",
   "execution_count": 35,
   "id": "4a82db7d",
   "metadata": {},
   "outputs": [],
   "source": [
    "import sys\n",
    "sys.path.insert(0, '/home/was966/Research/PSOG/itrp/itrpnet')\n",
    "\n",
    "from trainer import TCGAPreTrainer"
   ]
  },
  {
   "cell_type": "code",
   "execution_count": 36,
   "id": "3a06a9e5",
   "metadata": {},
   "outputs": [],
   "source": [
    "def onehot(S):\n",
    "    assert type(S) == pd.Series, 'Input type should be pd.Series'\n",
    "    dfd = pd.get_dummies(S, dummy_na=True)\n",
    "    nanidx = dfd[dfd[np.nan]].index\n",
    "    dfd.loc[nanidx, :] = np.nan\n",
    "    dfd = dfd.drop(columns=[np.nan])*1.\n",
    "    return dfd\n",
    "    \n",
    "data_path = '/n/data1/hms/dbmi/zitnik/lab/users/was966/ITRP/TCGA-ITRP-MERGE/876/'\n",
    "df_tpm = pd.read_pickle(os.path.join(data_path, 'TPM.TCGA.TABLE'))\n",
    "df_tpm_normal = pd.read_pickle(os.path.join(data_path, 'TPM.TCGA.NORMAL.TABLE'))\n",
    "\n",
    "tcga_label = pd.read_pickle(os.path.join(data_path, 'PATIENT.TCGA.TABLE'))\n",
    "mutation = tcga_label[['tmb', 'cnv', 'msi']] #.fillna(0)\n",
    "df_cancer = tcga_label[['cancer_type']]\n",
    "\n",
    "df_tmb = mutation[['tmb']]\n",
    "df_msi = mutation[['msi']]\n",
    "df_cnv= mutation[['cnv']]\n",
    "df_ctc = tcga_label[['cancer_type']]\n",
    "\n",
    "df_msi = onehot(df_msi.msi)\n",
    "df_ctc = onehot(df_ctc.cancer_type)\n",
    "df_rps = onehot(tcga_label['treatment_outcome'])\n",
    "df_ost = np.log10(tcga_label[['os_time']]+1)\n",
    "df_oss = onehot(tcga_label.os_status)\n",
    "\n",
    "df_pft = np.log10(tcga_label[['pfi_time']]+1)\n",
    "df_pfs = onehot(tcga_label.pfi_status)"
   ]
  },
  {
   "cell_type": "code",
   "execution_count": 37,
   "id": "113a5953",
   "metadata": {},
   "outputs": [],
   "source": [
    "\n",
    "tasks = {'msi': df_msi, \n",
    "         'tmb': df_tmb, \n",
    "         'cnv':df_cnv, \n",
    "         'ctc':df_ctc, \n",
    "         'rps':df_rps, \n",
    "         'ost':df_ost,\n",
    "         'oss':df_oss,\n",
    "         'pft':df_pft,\n",
    "         'pfs':df_pfs}\n",
    "\n",
    "\n",
    "tasks_type_map = {'msi': 'c', 'tmb': 'r', \n",
    "                  'cnv':'r', 'ctc':'c', \n",
    "                  'rps':'c', 'ost':'r', \n",
    "                  'oss':'c', 'pft':'r', 'pfs':'c'}"
   ]
  },
  {
   "cell_type": "code",
   "execution_count": 38,
   "id": "d631acec",
   "metadata": {},
   "outputs": [],
   "source": [
    "tasks = {'tmb': df_tmb}"
   ]
  },
  {
   "cell_type": "code",
   "execution_count": 39,
   "id": "38932433",
   "metadata": {},
   "outputs": [],
   "source": [
    "for task_name, df_task  in tasks.items():\n",
    "    task_type = tasks_type_map[task_name]"
   ]
  },
  {
   "cell_type": "code",
   "execution_count": 40,
   "id": "30bc2dc7",
   "metadata": {},
   "outputs": [],
   "source": [
    "test_idx = df_cancer.groupby('cancer_type').apply(lambda x:x.sample(frac=0.2, random_state=1).index.tolist()).tolist()\n",
    "test_idx = list(chain(*test_idx))\n",
    "train_idx = df_cancer[~df_cancer.index.isin(test_idx)].index\n",
    "\n",
    "df_task_train = df_task.loc[train_idx]\n",
    "df_tpm_train = df_tpm.loc[train_idx]\n",
    "\n",
    "df_task_test = df_task.loc[test_idx]\n",
    "df_tpm_test = df_tpm.loc[test_idx]\n",
    "\n",
    "print(len(df_tpm_train), len(df_tpm_test), len(df_tpm_normal))"
   ]
  },
  {
   "cell_type": "code",
   "execution_count": 41,
   "id": "b3bc85ad",
   "metadata": {},
   "outputs": [],
   "source": [
    "# ## parameters\n",
    "# device='cuda'\n",
    "# lr = 1e-5\n",
    "# weight_decay = 1e-4\n",
    "# epochs = 10\n",
    "# batch_size = 64\n",
    "# embed_dim=32\n",
    "# triplet_margin=1.\n",
    "# K = 500\n",
    "\n",
    "# task_loss_weight = 1.\n",
    "# task_dense_layer = [24, 16]\n",
    "# task_batch_norms = False\n",
    "\n",
    "# encoder='transformer'\n",
    "# transformer_dim = 256\n",
    "# transformer_num_layers = 4\n",
    "\n",
    "\n",
    "# #encoder= 'mlp'\n",
    "# mlp_dense_layers = [512, 256, 128]\n",
    "\n",
    "T = TCGAPreTrainer(df_tpm_normal, encoder='mlp', \n",
    "                   encoder_dropout = 0.1,\n",
    "                   mlp_dense_layers = [256, 256, 256], \n",
    "                   epochs=200, \n",
    "                   lr = 1e-5, \n",
    "                   weight_decay = 1e-3,\n",
    "                   triplet_margin = 1., K = 500, run_name_prefix = 'T')"
   ]
  },
  {
   "cell_type": "code",
   "execution_count": 42,
   "id": "ec915ca8",
   "metadata": {},
   "outputs": [],
   "source": [
    "T.train(df_tpm_train, df_task_train, task_name, task_type, df_tpm_test, df_task_test)"
   ]
  }
 ],
 "metadata": {
  "kernelspec": {
   "display_name": "Python 3",
   "language": "python",
   "name": "python3"
  },
  "language_info": {
   "codemirror_mode": {
    "name": "ipython",
    "version": 3
   },
   "file_extension": ".py",
   "mimetype": "text/x-python",
   "name": "python",
   "nbconvert_exporter": "python",
   "pygments_lexer": "ipython3",
   "version": "3.11.4"
  }
 },
 "nbformat": 4,
 "nbformat_minor": 5
}
